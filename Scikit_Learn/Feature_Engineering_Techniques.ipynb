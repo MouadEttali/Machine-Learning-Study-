{
  "nbformat": 4,
  "nbformat_minor": 0,
  "metadata": {
    "colab": {
      "name": "Feature Engineering Techniques.ipynb",
      "provenance": [],
      "collapsed_sections": []
    },
    "kernelspec": {
      "name": "python3",
      "display_name": "Python 3"
    },
    "language_info": {
      "name": "python"
    }
  },
  "cells": [
    {
      "cell_type": "markdown",
      "source": [
        "### **Feature Engineering Techniques for Training Machine Learning Models**"
      ],
      "metadata": {
        "id": "b9mSWf_XSRuc"
      }
    },
    {
      "cell_type": "markdown",
      "source": [
        "#### 0. Initial Setup"
      ],
      "metadata": {
        "id": "O0WINKaLTzog"
      }
    },
    {
      "cell_type": "code",
      "source": [
        "# Upload kaggle.json API token, and download / unzip California Housing csv\n",
        "\n",
        "!mkdir ~/.kaggle\n",
        "!cp kaggle.json ~/.kaggle/\n",
        "!chmod 600 ~/.kaggle/kaggle.json\n",
        "!kaggle datasets download -d camnugent/california-housing-prices\n",
        "!unzip california-housing-prices.zip"
      ],
      "metadata": {
        "colab": {
          "base_uri": "https://localhost:8080/"
        },
        "id": "1AyRqzpAkgWD",
        "outputId": "08921a0f-7f73-4487-a2b5-acb9490ca7a9"
      },
      "execution_count": null,
      "outputs": [
        {
          "output_type": "stream",
          "name": "stdout",
          "text": [
            "mkdir: cannot create directory ‘/root/.kaggle’: File exists\n",
            "california-housing-prices.zip: Skipping, found more recently modified local copy (use --force to force download)\n",
            "Archive:  california-housing-prices.zip\n",
            "replace housing.csv? [y]es, [n]o, [A]ll, [N]one, [r]ename: y\n",
            "  inflating: housing.csv             \n"
          ]
        }
      ]
    },
    {
      "cell_type": "code",
      "execution_count": null,
      "metadata": {
        "colab": {
          "base_uri": "https://localhost:8080/",
          "height": 488
        },
        "id": "BxGi_ueWn1ts",
        "outputId": "ca7af86a-948e-41e7-b044-eaa44777e3c0"
      },
      "outputs": [
        {
          "output_type": "execute_result",
          "data": {
            "text/html": [
              "\n",
              "  <div id=\"df-c40e5c79-40db-4074-931b-590d7ab55b61\">\n",
              "    <div class=\"colab-df-container\">\n",
              "      <div>\n",
              "<style scoped>\n",
              "    .dataframe tbody tr th:only-of-type {\n",
              "        vertical-align: middle;\n",
              "    }\n",
              "\n",
              "    .dataframe tbody tr th {\n",
              "        vertical-align: top;\n",
              "    }\n",
              "\n",
              "    .dataframe thead th {\n",
              "        text-align: right;\n",
              "    }\n",
              "</style>\n",
              "<table border=\"1\" class=\"dataframe\">\n",
              "  <thead>\n",
              "    <tr style=\"text-align: right;\">\n",
              "      <th></th>\n",
              "      <th>longitude</th>\n",
              "      <th>latitude</th>\n",
              "      <th>housing_median_age</th>\n",
              "      <th>total_rooms</th>\n",
              "      <th>total_bedrooms</th>\n",
              "      <th>population</th>\n",
              "      <th>households</th>\n",
              "      <th>median_income</th>\n",
              "      <th>median_house_value</th>\n",
              "      <th>ocean_proximity</th>\n",
              "    </tr>\n",
              "  </thead>\n",
              "  <tbody>\n",
              "    <tr>\n",
              "      <th>0</th>\n",
              "      <td>-122.23</td>\n",
              "      <td>37.88</td>\n",
              "      <td>41.0</td>\n",
              "      <td>880.0</td>\n",
              "      <td>129.0</td>\n",
              "      <td>322.0</td>\n",
              "      <td>126.0</td>\n",
              "      <td>8.3252</td>\n",
              "      <td>452600.0</td>\n",
              "      <td>NEAR BAY</td>\n",
              "    </tr>\n",
              "    <tr>\n",
              "      <th>1</th>\n",
              "      <td>-122.22</td>\n",
              "      <td>37.86</td>\n",
              "      <td>21.0</td>\n",
              "      <td>7099.0</td>\n",
              "      <td>1106.0</td>\n",
              "      <td>2401.0</td>\n",
              "      <td>1138.0</td>\n",
              "      <td>8.3014</td>\n",
              "      <td>358500.0</td>\n",
              "      <td>NEAR BAY</td>\n",
              "    </tr>\n",
              "    <tr>\n",
              "      <th>2</th>\n",
              "      <td>-122.24</td>\n",
              "      <td>37.85</td>\n",
              "      <td>52.0</td>\n",
              "      <td>1467.0</td>\n",
              "      <td>190.0</td>\n",
              "      <td>496.0</td>\n",
              "      <td>177.0</td>\n",
              "      <td>7.2574</td>\n",
              "      <td>352100.0</td>\n",
              "      <td>NEAR BAY</td>\n",
              "    </tr>\n",
              "    <tr>\n",
              "      <th>3</th>\n",
              "      <td>-122.25</td>\n",
              "      <td>37.85</td>\n",
              "      <td>52.0</td>\n",
              "      <td>1274.0</td>\n",
              "      <td>235.0</td>\n",
              "      <td>558.0</td>\n",
              "      <td>219.0</td>\n",
              "      <td>5.6431</td>\n",
              "      <td>341300.0</td>\n",
              "      <td>NEAR BAY</td>\n",
              "    </tr>\n",
              "    <tr>\n",
              "      <th>4</th>\n",
              "      <td>-122.25</td>\n",
              "      <td>37.85</td>\n",
              "      <td>52.0</td>\n",
              "      <td>1627.0</td>\n",
              "      <td>280.0</td>\n",
              "      <td>565.0</td>\n",
              "      <td>259.0</td>\n",
              "      <td>3.8462</td>\n",
              "      <td>342200.0</td>\n",
              "      <td>NEAR BAY</td>\n",
              "    </tr>\n",
              "    <tr>\n",
              "      <th>...</th>\n",
              "      <td>...</td>\n",
              "      <td>...</td>\n",
              "      <td>...</td>\n",
              "      <td>...</td>\n",
              "      <td>...</td>\n",
              "      <td>...</td>\n",
              "      <td>...</td>\n",
              "      <td>...</td>\n",
              "      <td>...</td>\n",
              "      <td>...</td>\n",
              "    </tr>\n",
              "    <tr>\n",
              "      <th>20635</th>\n",
              "      <td>-121.09</td>\n",
              "      <td>39.48</td>\n",
              "      <td>25.0</td>\n",
              "      <td>1665.0</td>\n",
              "      <td>374.0</td>\n",
              "      <td>845.0</td>\n",
              "      <td>330.0</td>\n",
              "      <td>1.5603</td>\n",
              "      <td>78100.0</td>\n",
              "      <td>INLAND</td>\n",
              "    </tr>\n",
              "    <tr>\n",
              "      <th>20636</th>\n",
              "      <td>-121.21</td>\n",
              "      <td>39.49</td>\n",
              "      <td>18.0</td>\n",
              "      <td>697.0</td>\n",
              "      <td>150.0</td>\n",
              "      <td>356.0</td>\n",
              "      <td>114.0</td>\n",
              "      <td>2.5568</td>\n",
              "      <td>77100.0</td>\n",
              "      <td>INLAND</td>\n",
              "    </tr>\n",
              "    <tr>\n",
              "      <th>20637</th>\n",
              "      <td>-121.22</td>\n",
              "      <td>39.43</td>\n",
              "      <td>17.0</td>\n",
              "      <td>2254.0</td>\n",
              "      <td>485.0</td>\n",
              "      <td>1007.0</td>\n",
              "      <td>433.0</td>\n",
              "      <td>1.7000</td>\n",
              "      <td>92300.0</td>\n",
              "      <td>INLAND</td>\n",
              "    </tr>\n",
              "    <tr>\n",
              "      <th>20638</th>\n",
              "      <td>-121.32</td>\n",
              "      <td>39.43</td>\n",
              "      <td>18.0</td>\n",
              "      <td>1860.0</td>\n",
              "      <td>409.0</td>\n",
              "      <td>741.0</td>\n",
              "      <td>349.0</td>\n",
              "      <td>1.8672</td>\n",
              "      <td>84700.0</td>\n",
              "      <td>INLAND</td>\n",
              "    </tr>\n",
              "    <tr>\n",
              "      <th>20639</th>\n",
              "      <td>-121.24</td>\n",
              "      <td>39.37</td>\n",
              "      <td>16.0</td>\n",
              "      <td>2785.0</td>\n",
              "      <td>616.0</td>\n",
              "      <td>1387.0</td>\n",
              "      <td>530.0</td>\n",
              "      <td>2.3886</td>\n",
              "      <td>89400.0</td>\n",
              "      <td>INLAND</td>\n",
              "    </tr>\n",
              "  </tbody>\n",
              "</table>\n",
              "<p>20433 rows × 10 columns</p>\n",
              "</div>\n",
              "      <button class=\"colab-df-convert\" onclick=\"convertToInteractive('df-c40e5c79-40db-4074-931b-590d7ab55b61')\"\n",
              "              title=\"Convert this dataframe to an interactive table.\"\n",
              "              style=\"display:none;\">\n",
              "        \n",
              "  <svg xmlns=\"http://www.w3.org/2000/svg\" height=\"24px\"viewBox=\"0 0 24 24\"\n",
              "       width=\"24px\">\n",
              "    <path d=\"M0 0h24v24H0V0z\" fill=\"none\"/>\n",
              "    <path d=\"M18.56 5.44l.94 2.06.94-2.06 2.06-.94-2.06-.94-.94-2.06-.94 2.06-2.06.94zm-11 1L8.5 8.5l.94-2.06 2.06-.94-2.06-.94L8.5 2.5l-.94 2.06-2.06.94zm10 10l.94 2.06.94-2.06 2.06-.94-2.06-.94-.94-2.06-.94 2.06-2.06.94z\"/><path d=\"M17.41 7.96l-1.37-1.37c-.4-.4-.92-.59-1.43-.59-.52 0-1.04.2-1.43.59L10.3 9.45l-7.72 7.72c-.78.78-.78 2.05 0 2.83L4 21.41c.39.39.9.59 1.41.59.51 0 1.02-.2 1.41-.59l7.78-7.78 2.81-2.81c.8-.78.8-2.07 0-2.86zM5.41 20L4 18.59l7.72-7.72 1.47 1.35L5.41 20z\"/>\n",
              "  </svg>\n",
              "      </button>\n",
              "      \n",
              "  <style>\n",
              "    .colab-df-container {\n",
              "      display:flex;\n",
              "      flex-wrap:wrap;\n",
              "      gap: 12px;\n",
              "    }\n",
              "\n",
              "    .colab-df-convert {\n",
              "      background-color: #E8F0FE;\n",
              "      border: none;\n",
              "      border-radius: 50%;\n",
              "      cursor: pointer;\n",
              "      display: none;\n",
              "      fill: #1967D2;\n",
              "      height: 32px;\n",
              "      padding: 0 0 0 0;\n",
              "      width: 32px;\n",
              "    }\n",
              "\n",
              "    .colab-df-convert:hover {\n",
              "      background-color: #E2EBFA;\n",
              "      box-shadow: 0px 1px 2px rgba(60, 64, 67, 0.3), 0px 1px 3px 1px rgba(60, 64, 67, 0.15);\n",
              "      fill: #174EA6;\n",
              "    }\n",
              "\n",
              "    [theme=dark] .colab-df-convert {\n",
              "      background-color: #3B4455;\n",
              "      fill: #D2E3FC;\n",
              "    }\n",
              "\n",
              "    [theme=dark] .colab-df-convert:hover {\n",
              "      background-color: #434B5C;\n",
              "      box-shadow: 0px 1px 3px 1px rgba(0, 0, 0, 0.15);\n",
              "      filter: drop-shadow(0px 1px 2px rgba(0, 0, 0, 0.3));\n",
              "      fill: #FFFFFF;\n",
              "    }\n",
              "  </style>\n",
              "\n",
              "      <script>\n",
              "        const buttonEl =\n",
              "          document.querySelector('#df-c40e5c79-40db-4074-931b-590d7ab55b61 button.colab-df-convert');\n",
              "        buttonEl.style.display =\n",
              "          google.colab.kernel.accessAllowed ? 'block' : 'none';\n",
              "\n",
              "        async function convertToInteractive(key) {\n",
              "          const element = document.querySelector('#df-c40e5c79-40db-4074-931b-590d7ab55b61');\n",
              "          const dataTable =\n",
              "            await google.colab.kernel.invokeFunction('convertToInteractive',\n",
              "                                                     [key], {});\n",
              "          if (!dataTable) return;\n",
              "\n",
              "          const docLinkHtml = 'Like what you see? Visit the ' +\n",
              "            '<a target=\"_blank\" href=https://colab.research.google.com/notebooks/data_table.ipynb>data table notebook</a>'\n",
              "            + ' to learn more about interactive tables.';\n",
              "          element.innerHTML = '';\n",
              "          dataTable['output_type'] = 'display_data';\n",
              "          await google.colab.output.renderOutput(dataTable, element);\n",
              "          const docLink = document.createElement('div');\n",
              "          docLink.innerHTML = docLinkHtml;\n",
              "          element.appendChild(docLink);\n",
              "        }\n",
              "      </script>\n",
              "    </div>\n",
              "  </div>\n",
              "  "
            ],
            "text/plain": [
              "       longitude  latitude  ...  median_house_value  ocean_proximity\n",
              "0        -122.23     37.88  ...            452600.0         NEAR BAY\n",
              "1        -122.22     37.86  ...            358500.0         NEAR BAY\n",
              "2        -122.24     37.85  ...            352100.0         NEAR BAY\n",
              "3        -122.25     37.85  ...            341300.0         NEAR BAY\n",
              "4        -122.25     37.85  ...            342200.0         NEAR BAY\n",
              "...          ...       ...  ...                 ...              ...\n",
              "20635    -121.09     39.48  ...             78100.0           INLAND\n",
              "20636    -121.21     39.49  ...             77100.0           INLAND\n",
              "20637    -121.22     39.43  ...             92300.0           INLAND\n",
              "20638    -121.32     39.43  ...             84700.0           INLAND\n",
              "20639    -121.24     39.37  ...             89400.0           INLAND\n",
              "\n",
              "[20433 rows x 10 columns]"
            ]
          },
          "metadata": {},
          "execution_count": 57
        }
      ],
      "source": [
        "# Read in the CSV into a Pandas DataFrame\n",
        "\n",
        "import pandas as pd\n",
        "\n",
        "df = pd.read_csv('housing.csv')\n",
        "df = df.dropna()\n",
        "\n",
        "df"
      ]
    },
    {
      "cell_type": "code",
      "source": [
        "# Seperate into Train and Test DataFrames\n",
        "\n",
        "df = df.sample(frac=1, random_state=2)\n",
        "train_df = df[:17000]\n",
        "train_df = train_df.reset_index(drop=True)\n",
        "test_df = df[17000:]\n",
        "test_df = test_df.reset_index(drop=True)\n",
        "\n",
        "train_df"
      ],
      "metadata": {
        "colab": {
          "base_uri": "https://localhost:8080/",
          "height": 488
        },
        "id": "hzfH95mRlxxZ",
        "outputId": "a8b20b3e-241c-416d-c38d-37bcfdf56107"
      },
      "execution_count": null,
      "outputs": [
        {
          "output_type": "execute_result",
          "data": {
            "text/html": [
              "\n",
              "  <div id=\"df-5f37f041-b28b-4e01-b836-4fc16fa2fec8\">\n",
              "    <div class=\"colab-df-container\">\n",
              "      <div>\n",
              "<style scoped>\n",
              "    .dataframe tbody tr th:only-of-type {\n",
              "        vertical-align: middle;\n",
              "    }\n",
              "\n",
              "    .dataframe tbody tr th {\n",
              "        vertical-align: top;\n",
              "    }\n",
              "\n",
              "    .dataframe thead th {\n",
              "        text-align: right;\n",
              "    }\n",
              "</style>\n",
              "<table border=\"1\" class=\"dataframe\">\n",
              "  <thead>\n",
              "    <tr style=\"text-align: right;\">\n",
              "      <th></th>\n",
              "      <th>longitude</th>\n",
              "      <th>latitude</th>\n",
              "      <th>housing_median_age</th>\n",
              "      <th>total_rooms</th>\n",
              "      <th>total_bedrooms</th>\n",
              "      <th>population</th>\n",
              "      <th>households</th>\n",
              "      <th>median_income</th>\n",
              "      <th>median_house_value</th>\n",
              "      <th>ocean_proximity</th>\n",
              "    </tr>\n",
              "  </thead>\n",
              "  <tbody>\n",
              "    <tr>\n",
              "      <th>0</th>\n",
              "      <td>-122.16</td>\n",
              "      <td>37.76</td>\n",
              "      <td>36.0</td>\n",
              "      <td>2781.0</td>\n",
              "      <td>574.0</td>\n",
              "      <td>1438.0</td>\n",
              "      <td>519.0</td>\n",
              "      <td>2.4598</td>\n",
              "      <td>155500.0</td>\n",
              "      <td>NEAR BAY</td>\n",
              "    </tr>\n",
              "    <tr>\n",
              "      <th>1</th>\n",
              "      <td>-119.95</td>\n",
              "      <td>36.80</td>\n",
              "      <td>30.0</td>\n",
              "      <td>1233.0</td>\n",
              "      <td>214.0</td>\n",
              "      <td>620.0</td>\n",
              "      <td>199.0</td>\n",
              "      <td>3.4297</td>\n",
              "      <td>112500.0</td>\n",
              "      <td>INLAND</td>\n",
              "    </tr>\n",
              "    <tr>\n",
              "      <th>2</th>\n",
              "      <td>-118.49</td>\n",
              "      <td>34.42</td>\n",
              "      <td>23.0</td>\n",
              "      <td>4166.0</td>\n",
              "      <td>756.0</td>\n",
              "      <td>2082.0</td>\n",
              "      <td>743.0</td>\n",
              "      <td>4.4107</td>\n",
              "      <td>213400.0</td>\n",
              "      <td>&lt;1H OCEAN</td>\n",
              "    </tr>\n",
              "    <tr>\n",
              "      <th>3</th>\n",
              "      <td>-122.24</td>\n",
              "      <td>37.79</td>\n",
              "      <td>27.0</td>\n",
              "      <td>1632.0</td>\n",
              "      <td>492.0</td>\n",
              "      <td>1171.0</td>\n",
              "      <td>429.0</td>\n",
              "      <td>2.3173</td>\n",
              "      <td>125000.0</td>\n",
              "      <td>NEAR BAY</td>\n",
              "    </tr>\n",
              "    <tr>\n",
              "      <th>4</th>\n",
              "      <td>-121.45</td>\n",
              "      <td>36.86</td>\n",
              "      <td>11.0</td>\n",
              "      <td>1613.0</td>\n",
              "      <td>335.0</td>\n",
              "      <td>1617.0</td>\n",
              "      <td>342.0</td>\n",
              "      <td>3.1375</td>\n",
              "      <td>146200.0</td>\n",
              "      <td>INLAND</td>\n",
              "    </tr>\n",
              "    <tr>\n",
              "      <th>...</th>\n",
              "      <td>...</td>\n",
              "      <td>...</td>\n",
              "      <td>...</td>\n",
              "      <td>...</td>\n",
              "      <td>...</td>\n",
              "      <td>...</td>\n",
              "      <td>...</td>\n",
              "      <td>...</td>\n",
              "      <td>...</td>\n",
              "      <td>...</td>\n",
              "    </tr>\n",
              "    <tr>\n",
              "      <th>16995</th>\n",
              "      <td>-117.87</td>\n",
              "      <td>33.87</td>\n",
              "      <td>16.0</td>\n",
              "      <td>1332.0</td>\n",
              "      <td>368.0</td>\n",
              "      <td>1534.0</td>\n",
              "      <td>295.0</td>\n",
              "      <td>3.0227</td>\n",
              "      <td>297100.0</td>\n",
              "      <td>&lt;1H OCEAN</td>\n",
              "    </tr>\n",
              "    <tr>\n",
              "      <th>16996</th>\n",
              "      <td>-120.00</td>\n",
              "      <td>38.87</td>\n",
              "      <td>12.0</td>\n",
              "      <td>1437.0</td>\n",
              "      <td>268.0</td>\n",
              "      <td>395.0</td>\n",
              "      <td>144.0</td>\n",
              "      <td>4.2250</td>\n",
              "      <td>127600.0</td>\n",
              "      <td>INLAND</td>\n",
              "    </tr>\n",
              "    <tr>\n",
              "      <th>16997</th>\n",
              "      <td>-121.47</td>\n",
              "      <td>38.50</td>\n",
              "      <td>17.0</td>\n",
              "      <td>1895.0</td>\n",
              "      <td>424.0</td>\n",
              "      <td>620.0</td>\n",
              "      <td>417.0</td>\n",
              "      <td>1.7188</td>\n",
              "      <td>137500.0</td>\n",
              "      <td>INLAND</td>\n",
              "    </tr>\n",
              "    <tr>\n",
              "      <th>16998</th>\n",
              "      <td>-118.86</td>\n",
              "      <td>34.21</td>\n",
              "      <td>26.0</td>\n",
              "      <td>3354.0</td>\n",
              "      <td>659.0</td>\n",
              "      <td>2020.0</td>\n",
              "      <td>648.0</td>\n",
              "      <td>4.1576</td>\n",
              "      <td>211800.0</td>\n",
              "      <td>&lt;1H OCEAN</td>\n",
              "    </tr>\n",
              "    <tr>\n",
              "      <th>16999</th>\n",
              "      <td>-118.24</td>\n",
              "      <td>33.93</td>\n",
              "      <td>37.0</td>\n",
              "      <td>1027.0</td>\n",
              "      <td>258.0</td>\n",
              "      <td>824.0</td>\n",
              "      <td>248.0</td>\n",
              "      <td>1.5132</td>\n",
              "      <td>86300.0</td>\n",
              "      <td>&lt;1H OCEAN</td>\n",
              "    </tr>\n",
              "  </tbody>\n",
              "</table>\n",
              "<p>17000 rows × 10 columns</p>\n",
              "</div>\n",
              "      <button class=\"colab-df-convert\" onclick=\"convertToInteractive('df-5f37f041-b28b-4e01-b836-4fc16fa2fec8')\"\n",
              "              title=\"Convert this dataframe to an interactive table.\"\n",
              "              style=\"display:none;\">\n",
              "        \n",
              "  <svg xmlns=\"http://www.w3.org/2000/svg\" height=\"24px\"viewBox=\"0 0 24 24\"\n",
              "       width=\"24px\">\n",
              "    <path d=\"M0 0h24v24H0V0z\" fill=\"none\"/>\n",
              "    <path d=\"M18.56 5.44l.94 2.06.94-2.06 2.06-.94-2.06-.94-.94-2.06-.94 2.06-2.06.94zm-11 1L8.5 8.5l.94-2.06 2.06-.94-2.06-.94L8.5 2.5l-.94 2.06-2.06.94zm10 10l.94 2.06.94-2.06 2.06-.94-2.06-.94-.94-2.06-.94 2.06-2.06.94z\"/><path d=\"M17.41 7.96l-1.37-1.37c-.4-.4-.92-.59-1.43-.59-.52 0-1.04.2-1.43.59L10.3 9.45l-7.72 7.72c-.78.78-.78 2.05 0 2.83L4 21.41c.39.39.9.59 1.41.59.51 0 1.02-.2 1.41-.59l7.78-7.78 2.81-2.81c.8-.78.8-2.07 0-2.86zM5.41 20L4 18.59l7.72-7.72 1.47 1.35L5.41 20z\"/>\n",
              "  </svg>\n",
              "      </button>\n",
              "      \n",
              "  <style>\n",
              "    .colab-df-container {\n",
              "      display:flex;\n",
              "      flex-wrap:wrap;\n",
              "      gap: 12px;\n",
              "    }\n",
              "\n",
              "    .colab-df-convert {\n",
              "      background-color: #E8F0FE;\n",
              "      border: none;\n",
              "      border-radius: 50%;\n",
              "      cursor: pointer;\n",
              "      display: none;\n",
              "      fill: #1967D2;\n",
              "      height: 32px;\n",
              "      padding: 0 0 0 0;\n",
              "      width: 32px;\n",
              "    }\n",
              "\n",
              "    .colab-df-convert:hover {\n",
              "      background-color: #E2EBFA;\n",
              "      box-shadow: 0px 1px 2px rgba(60, 64, 67, 0.3), 0px 1px 3px 1px rgba(60, 64, 67, 0.15);\n",
              "      fill: #174EA6;\n",
              "    }\n",
              "\n",
              "    [theme=dark] .colab-df-convert {\n",
              "      background-color: #3B4455;\n",
              "      fill: #D2E3FC;\n",
              "    }\n",
              "\n",
              "    [theme=dark] .colab-df-convert:hover {\n",
              "      background-color: #434B5C;\n",
              "      box-shadow: 0px 1px 3px 1px rgba(0, 0, 0, 0.15);\n",
              "      filter: drop-shadow(0px 1px 2px rgba(0, 0, 0, 0.3));\n",
              "      fill: #FFFFFF;\n",
              "    }\n",
              "  </style>\n",
              "\n",
              "      <script>\n",
              "        const buttonEl =\n",
              "          document.querySelector('#df-5f37f041-b28b-4e01-b836-4fc16fa2fec8 button.colab-df-convert');\n",
              "        buttonEl.style.display =\n",
              "          google.colab.kernel.accessAllowed ? 'block' : 'none';\n",
              "\n",
              "        async function convertToInteractive(key) {\n",
              "          const element = document.querySelector('#df-5f37f041-b28b-4e01-b836-4fc16fa2fec8');\n",
              "          const dataTable =\n",
              "            await google.colab.kernel.invokeFunction('convertToInteractive',\n",
              "                                                     [key], {});\n",
              "          if (!dataTable) return;\n",
              "\n",
              "          const docLinkHtml = 'Like what you see? Visit the ' +\n",
              "            '<a target=\"_blank\" href=https://colab.research.google.com/notebooks/data_table.ipynb>data table notebook</a>'\n",
              "            + ' to learn more about interactive tables.';\n",
              "          element.innerHTML = '';\n",
              "          dataTable['output_type'] = 'display_data';\n",
              "          await google.colab.output.renderOutput(dataTable, element);\n",
              "          const docLink = document.createElement('div');\n",
              "          docLink.innerHTML = docLinkHtml;\n",
              "          element.appendChild(docLink);\n",
              "        }\n",
              "      </script>\n",
              "    </div>\n",
              "  </div>\n",
              "  "
            ],
            "text/plain": [
              "       longitude  latitude  ...  median_house_value  ocean_proximity\n",
              "0        -122.16     37.76  ...            155500.0         NEAR BAY\n",
              "1        -119.95     36.80  ...            112500.0           INLAND\n",
              "2        -118.49     34.42  ...            213400.0        <1H OCEAN\n",
              "3        -122.24     37.79  ...            125000.0         NEAR BAY\n",
              "4        -121.45     36.86  ...            146200.0           INLAND\n",
              "...          ...       ...  ...                 ...              ...\n",
              "16995    -117.87     33.87  ...            297100.0        <1H OCEAN\n",
              "16996    -120.00     38.87  ...            127600.0           INLAND\n",
              "16997    -121.47     38.50  ...            137500.0           INLAND\n",
              "16998    -118.86     34.21  ...            211800.0        <1H OCEAN\n",
              "16999    -118.24     33.93  ...             86300.0        <1H OCEAN\n",
              "\n",
              "[17000 rows x 10 columns]"
            ]
          },
          "metadata": {},
          "execution_count": 58
        }
      ]
    },
    {
      "cell_type": "code",
      "source": [
        "test_df"
      ],
      "metadata": {
        "colab": {
          "base_uri": "https://localhost:8080/",
          "height": 488
        },
        "id": "pm38p478mXhR",
        "outputId": "76d5d5a7-358a-44bc-b2ef-02f7faa40c21"
      },
      "execution_count": null,
      "outputs": [
        {
          "output_type": "execute_result",
          "data": {
            "text/html": [
              "\n",
              "  <div id=\"df-9b1f1863-d6b8-44ed-b453-9fb028fd76e4\">\n",
              "    <div class=\"colab-df-container\">\n",
              "      <div>\n",
              "<style scoped>\n",
              "    .dataframe tbody tr th:only-of-type {\n",
              "        vertical-align: middle;\n",
              "    }\n",
              "\n",
              "    .dataframe tbody tr th {\n",
              "        vertical-align: top;\n",
              "    }\n",
              "\n",
              "    .dataframe thead th {\n",
              "        text-align: right;\n",
              "    }\n",
              "</style>\n",
              "<table border=\"1\" class=\"dataframe\">\n",
              "  <thead>\n",
              "    <tr style=\"text-align: right;\">\n",
              "      <th></th>\n",
              "      <th>longitude</th>\n",
              "      <th>latitude</th>\n",
              "      <th>housing_median_age</th>\n",
              "      <th>total_rooms</th>\n",
              "      <th>total_bedrooms</th>\n",
              "      <th>population</th>\n",
              "      <th>households</th>\n",
              "      <th>median_income</th>\n",
              "      <th>median_house_value</th>\n",
              "      <th>ocean_proximity</th>\n",
              "    </tr>\n",
              "  </thead>\n",
              "  <tbody>\n",
              "    <tr>\n",
              "      <th>0</th>\n",
              "      <td>-118.07</td>\n",
              "      <td>33.87</td>\n",
              "      <td>28.0</td>\n",
              "      <td>2399.0</td>\n",
              "      <td>436.0</td>\n",
              "      <td>1613.0</td>\n",
              "      <td>429.0</td>\n",
              "      <td>3.6339</td>\n",
              "      <td>220100.0</td>\n",
              "      <td>&lt;1H OCEAN</td>\n",
              "    </tr>\n",
              "    <tr>\n",
              "      <th>1</th>\n",
              "      <td>-118.26</td>\n",
              "      <td>34.02</td>\n",
              "      <td>40.0</td>\n",
              "      <td>1259.0</td>\n",
              "      <td>362.0</td>\n",
              "      <td>1499.0</td>\n",
              "      <td>327.0</td>\n",
              "      <td>1.8382</td>\n",
              "      <td>126400.0</td>\n",
              "      <td>&lt;1H OCEAN</td>\n",
              "    </tr>\n",
              "    <tr>\n",
              "      <th>2</th>\n",
              "      <td>-118.51</td>\n",
              "      <td>34.16</td>\n",
              "      <td>23.0</td>\n",
              "      <td>11154.0</td>\n",
              "      <td>1995.0</td>\n",
              "      <td>4076.0</td>\n",
              "      <td>1809.0</td>\n",
              "      <td>5.4609</td>\n",
              "      <td>500001.0</td>\n",
              "      <td>&lt;1H OCEAN</td>\n",
              "    </tr>\n",
              "    <tr>\n",
              "      <th>3</th>\n",
              "      <td>-120.04</td>\n",
              "      <td>36.95</td>\n",
              "      <td>36.0</td>\n",
              "      <td>1528.0</td>\n",
              "      <td>347.0</td>\n",
              "      <td>1334.0</td>\n",
              "      <td>304.0</td>\n",
              "      <td>1.3594</td>\n",
              "      <td>48300.0</td>\n",
              "      <td>INLAND</td>\n",
              "    </tr>\n",
              "    <tr>\n",
              "      <th>4</th>\n",
              "      <td>-117.91</td>\n",
              "      <td>33.65</td>\n",
              "      <td>24.0</td>\n",
              "      <td>1494.0</td>\n",
              "      <td>494.0</td>\n",
              "      <td>814.0</td>\n",
              "      <td>459.0</td>\n",
              "      <td>2.1074</td>\n",
              "      <td>181300.0</td>\n",
              "      <td>&lt;1H OCEAN</td>\n",
              "    </tr>\n",
              "    <tr>\n",
              "      <th>...</th>\n",
              "      <td>...</td>\n",
              "      <td>...</td>\n",
              "      <td>...</td>\n",
              "      <td>...</td>\n",
              "      <td>...</td>\n",
              "      <td>...</td>\n",
              "      <td>...</td>\n",
              "      <td>...</td>\n",
              "      <td>...</td>\n",
              "      <td>...</td>\n",
              "    </tr>\n",
              "    <tr>\n",
              "      <th>3428</th>\n",
              "      <td>-121.60</td>\n",
              "      <td>39.80</td>\n",
              "      <td>10.0</td>\n",
              "      <td>1742.0</td>\n",
              "      <td>307.0</td>\n",
              "      <td>721.0</td>\n",
              "      <td>312.0</td>\n",
              "      <td>2.4537</td>\n",
              "      <td>117900.0</td>\n",
              "      <td>INLAND</td>\n",
              "    </tr>\n",
              "    <tr>\n",
              "      <th>3429</th>\n",
              "      <td>-122.48</td>\n",
              "      <td>38.31</td>\n",
              "      <td>29.0</td>\n",
              "      <td>2375.0</td>\n",
              "      <td>560.0</td>\n",
              "      <td>1124.0</td>\n",
              "      <td>502.0</td>\n",
              "      <td>2.3276</td>\n",
              "      <td>166200.0</td>\n",
              "      <td>&lt;1H OCEAN</td>\n",
              "    </tr>\n",
              "    <tr>\n",
              "      <th>3430</th>\n",
              "      <td>-117.40</td>\n",
              "      <td>33.95</td>\n",
              "      <td>46.0</td>\n",
              "      <td>2189.0</td>\n",
              "      <td>423.0</td>\n",
              "      <td>866.0</td>\n",
              "      <td>389.0</td>\n",
              "      <td>3.1384</td>\n",
              "      <td>111500.0</td>\n",
              "      <td>INLAND</td>\n",
              "    </tr>\n",
              "    <tr>\n",
              "      <th>3431</th>\n",
              "      <td>-118.15</td>\n",
              "      <td>34.14</td>\n",
              "      <td>52.0</td>\n",
              "      <td>403.0</td>\n",
              "      <td>117.0</td>\n",
              "      <td>361.0</td>\n",
              "      <td>105.0</td>\n",
              "      <td>1.6250</td>\n",
              "      <td>187500.0</td>\n",
              "      <td>&lt;1H OCEAN</td>\n",
              "    </tr>\n",
              "    <tr>\n",
              "      <th>3432</th>\n",
              "      <td>-123.74</td>\n",
              "      <td>40.66</td>\n",
              "      <td>25.0</td>\n",
              "      <td>2395.0</td>\n",
              "      <td>431.0</td>\n",
              "      <td>983.0</td>\n",
              "      <td>375.0</td>\n",
              "      <td>3.0469</td>\n",
              "      <td>136000.0</td>\n",
              "      <td>&lt;1H OCEAN</td>\n",
              "    </tr>\n",
              "  </tbody>\n",
              "</table>\n",
              "<p>3433 rows × 10 columns</p>\n",
              "</div>\n",
              "      <button class=\"colab-df-convert\" onclick=\"convertToInteractive('df-9b1f1863-d6b8-44ed-b453-9fb028fd76e4')\"\n",
              "              title=\"Convert this dataframe to an interactive table.\"\n",
              "              style=\"display:none;\">\n",
              "        \n",
              "  <svg xmlns=\"http://www.w3.org/2000/svg\" height=\"24px\"viewBox=\"0 0 24 24\"\n",
              "       width=\"24px\">\n",
              "    <path d=\"M0 0h24v24H0V0z\" fill=\"none\"/>\n",
              "    <path d=\"M18.56 5.44l.94 2.06.94-2.06 2.06-.94-2.06-.94-.94-2.06-.94 2.06-2.06.94zm-11 1L8.5 8.5l.94-2.06 2.06-.94-2.06-.94L8.5 2.5l-.94 2.06-2.06.94zm10 10l.94 2.06.94-2.06 2.06-.94-2.06-.94-.94-2.06-.94 2.06-2.06.94z\"/><path d=\"M17.41 7.96l-1.37-1.37c-.4-.4-.92-.59-1.43-.59-.52 0-1.04.2-1.43.59L10.3 9.45l-7.72 7.72c-.78.78-.78 2.05 0 2.83L4 21.41c.39.39.9.59 1.41.59.51 0 1.02-.2 1.41-.59l7.78-7.78 2.81-2.81c.8-.78.8-2.07 0-2.86zM5.41 20L4 18.59l7.72-7.72 1.47 1.35L5.41 20z\"/>\n",
              "  </svg>\n",
              "      </button>\n",
              "      \n",
              "  <style>\n",
              "    .colab-df-container {\n",
              "      display:flex;\n",
              "      flex-wrap:wrap;\n",
              "      gap: 12px;\n",
              "    }\n",
              "\n",
              "    .colab-df-convert {\n",
              "      background-color: #E8F0FE;\n",
              "      border: none;\n",
              "      border-radius: 50%;\n",
              "      cursor: pointer;\n",
              "      display: none;\n",
              "      fill: #1967D2;\n",
              "      height: 32px;\n",
              "      padding: 0 0 0 0;\n",
              "      width: 32px;\n",
              "    }\n",
              "\n",
              "    .colab-df-convert:hover {\n",
              "      background-color: #E2EBFA;\n",
              "      box-shadow: 0px 1px 2px rgba(60, 64, 67, 0.3), 0px 1px 3px 1px rgba(60, 64, 67, 0.15);\n",
              "      fill: #174EA6;\n",
              "    }\n",
              "\n",
              "    [theme=dark] .colab-df-convert {\n",
              "      background-color: #3B4455;\n",
              "      fill: #D2E3FC;\n",
              "    }\n",
              "\n",
              "    [theme=dark] .colab-df-convert:hover {\n",
              "      background-color: #434B5C;\n",
              "      box-shadow: 0px 1px 3px 1px rgba(0, 0, 0, 0.15);\n",
              "      filter: drop-shadow(0px 1px 2px rgba(0, 0, 0, 0.3));\n",
              "      fill: #FFFFFF;\n",
              "    }\n",
              "  </style>\n",
              "\n",
              "      <script>\n",
              "        const buttonEl =\n",
              "          document.querySelector('#df-9b1f1863-d6b8-44ed-b453-9fb028fd76e4 button.colab-df-convert');\n",
              "        buttonEl.style.display =\n",
              "          google.colab.kernel.accessAllowed ? 'block' : 'none';\n",
              "\n",
              "        async function convertToInteractive(key) {\n",
              "          const element = document.querySelector('#df-9b1f1863-d6b8-44ed-b453-9fb028fd76e4');\n",
              "          const dataTable =\n",
              "            await google.colab.kernel.invokeFunction('convertToInteractive',\n",
              "                                                     [key], {});\n",
              "          if (!dataTable) return;\n",
              "\n",
              "          const docLinkHtml = 'Like what you see? Visit the ' +\n",
              "            '<a target=\"_blank\" href=https://colab.research.google.com/notebooks/data_table.ipynb>data table notebook</a>'\n",
              "            + ' to learn more about interactive tables.';\n",
              "          element.innerHTML = '';\n",
              "          dataTable['output_type'] = 'display_data';\n",
              "          await google.colab.output.renderOutput(dataTable, element);\n",
              "          const docLink = document.createElement('div');\n",
              "          docLink.innerHTML = docLinkHtml;\n",
              "          element.appendChild(docLink);\n",
              "        }\n",
              "      </script>\n",
              "    </div>\n",
              "  </div>\n",
              "  "
            ],
            "text/plain": [
              "      longitude  latitude  ...  median_house_value  ocean_proximity\n",
              "0       -118.07     33.87  ...            220100.0        <1H OCEAN\n",
              "1       -118.26     34.02  ...            126400.0        <1H OCEAN\n",
              "2       -118.51     34.16  ...            500001.0        <1H OCEAN\n",
              "3       -120.04     36.95  ...             48300.0           INLAND\n",
              "4       -117.91     33.65  ...            181300.0        <1H OCEAN\n",
              "...         ...       ...  ...                 ...              ...\n",
              "3428    -121.60     39.80  ...            117900.0           INLAND\n",
              "3429    -122.48     38.31  ...            166200.0        <1H OCEAN\n",
              "3430    -117.40     33.95  ...            111500.0           INLAND\n",
              "3431    -118.15     34.14  ...            187500.0        <1H OCEAN\n",
              "3432    -123.74     40.66  ...            136000.0        <1H OCEAN\n",
              "\n",
              "[3433 rows x 10 columns]"
            ]
          },
          "metadata": {},
          "execution_count": 59
        }
      ]
    },
    {
      "cell_type": "code",
      "source": [
        "# Get observed outputs for train and test\n",
        "\n",
        "y_train = train_df['median_house_value'].to_numpy()\n",
        "y_test = test_df['median_house_value'].to_numpy()\n",
        "\n",
        "y_train.shape, y_test.shape"
      ],
      "metadata": {
        "colab": {
          "base_uri": "https://localhost:8080/"
        },
        "id": "R-pJLLCmZBLG",
        "outputId": "c2728bac-88a7-46b8-fda2-fd251bb82c4c"
      },
      "execution_count": null,
      "outputs": [
        {
          "output_type": "execute_result",
          "data": {
            "text/plain": [
              "((17000,), (3433,))"
            ]
          },
          "metadata": {},
          "execution_count": 60
        }
      ]
    },
    {
      "cell_type": "code",
      "source": [
        "# Get error of baseline model that uses the average median_house_value in train_df\n",
        "\n",
        "from sklearn.metrics import mean_absolute_error\n",
        "\n",
        "average_median_house_value = train_df['median_house_value'].mean()\n",
        "baseline_model_test_predictions = [average_median_house_value] * len(test_df)\n",
        "\n",
        "mean_absolute_error(baseline_model_test_predictions, y_test)"
      ],
      "metadata": {
        "colab": {
          "base_uri": "https://localhost:8080/"
        },
        "id": "wLnl3XqRMKwI",
        "outputId": "30aff3c1-f9bc-4762-dc09-7fe34b379d44"
      },
      "execution_count": null,
      "outputs": [
        {
          "output_type": "execute_result",
          "data": {
            "text/plain": [
              "90952.86688447764"
            ]
          },
          "metadata": {},
          "execution_count": 61
        }
      ]
    },
    {
      "cell_type": "markdown",
      "source": [
        "#### 1. Dimensionality Reduction (PCA)"
      ],
      "metadata": {
        "id": "9Df31gAqVSiX"
      }
    },
    {
      "cell_type": "code",
      "source": [
        "# Observe correlation between total_rooms, total_bedrooms and households\n",
        "\n",
        "train_df[['total_rooms', 'total_bedrooms', 'households']].corr()"
      ],
      "metadata": {
        "colab": {
          "base_uri": "https://localhost:8080/",
          "height": 143
        },
        "id": "KdCMF_6m_kKW",
        "outputId": "d8004c52-bbb6-4a30-d601-c7a12cfcc04c"
      },
      "execution_count": null,
      "outputs": [
        {
          "output_type": "execute_result",
          "data": {
            "text/html": [
              "\n",
              "  <div id=\"df-9e202713-c896-42e2-809a-58d946dd056a\">\n",
              "    <div class=\"colab-df-container\">\n",
              "      <div>\n",
              "<style scoped>\n",
              "    .dataframe tbody tr th:only-of-type {\n",
              "        vertical-align: middle;\n",
              "    }\n",
              "\n",
              "    .dataframe tbody tr th {\n",
              "        vertical-align: top;\n",
              "    }\n",
              "\n",
              "    .dataframe thead th {\n",
              "        text-align: right;\n",
              "    }\n",
              "</style>\n",
              "<table border=\"1\" class=\"dataframe\">\n",
              "  <thead>\n",
              "    <tr style=\"text-align: right;\">\n",
              "      <th></th>\n",
              "      <th>total_rooms</th>\n",
              "      <th>total_bedrooms</th>\n",
              "      <th>households</th>\n",
              "    </tr>\n",
              "  </thead>\n",
              "  <tbody>\n",
              "    <tr>\n",
              "      <th>total_rooms</th>\n",
              "      <td>1.000000</td>\n",
              "      <td>0.931023</td>\n",
              "      <td>0.918161</td>\n",
              "    </tr>\n",
              "    <tr>\n",
              "      <th>total_bedrooms</th>\n",
              "      <td>0.931023</td>\n",
              "      <td>1.000000</td>\n",
              "      <td>0.979402</td>\n",
              "    </tr>\n",
              "    <tr>\n",
              "      <th>households</th>\n",
              "      <td>0.918161</td>\n",
              "      <td>0.979402</td>\n",
              "      <td>1.000000</td>\n",
              "    </tr>\n",
              "  </tbody>\n",
              "</table>\n",
              "</div>\n",
              "      <button class=\"colab-df-convert\" onclick=\"convertToInteractive('df-9e202713-c896-42e2-809a-58d946dd056a')\"\n",
              "              title=\"Convert this dataframe to an interactive table.\"\n",
              "              style=\"display:none;\">\n",
              "        \n",
              "  <svg xmlns=\"http://www.w3.org/2000/svg\" height=\"24px\"viewBox=\"0 0 24 24\"\n",
              "       width=\"24px\">\n",
              "    <path d=\"M0 0h24v24H0V0z\" fill=\"none\"/>\n",
              "    <path d=\"M18.56 5.44l.94 2.06.94-2.06 2.06-.94-2.06-.94-.94-2.06-.94 2.06-2.06.94zm-11 1L8.5 8.5l.94-2.06 2.06-.94-2.06-.94L8.5 2.5l-.94 2.06-2.06.94zm10 10l.94 2.06.94-2.06 2.06-.94-2.06-.94-.94-2.06-.94 2.06-2.06.94z\"/><path d=\"M17.41 7.96l-1.37-1.37c-.4-.4-.92-.59-1.43-.59-.52 0-1.04.2-1.43.59L10.3 9.45l-7.72 7.72c-.78.78-.78 2.05 0 2.83L4 21.41c.39.39.9.59 1.41.59.51 0 1.02-.2 1.41-.59l7.78-7.78 2.81-2.81c.8-.78.8-2.07 0-2.86zM5.41 20L4 18.59l7.72-7.72 1.47 1.35L5.41 20z\"/>\n",
              "  </svg>\n",
              "      </button>\n",
              "      \n",
              "  <style>\n",
              "    .colab-df-container {\n",
              "      display:flex;\n",
              "      flex-wrap:wrap;\n",
              "      gap: 12px;\n",
              "    }\n",
              "\n",
              "    .colab-df-convert {\n",
              "      background-color: #E8F0FE;\n",
              "      border: none;\n",
              "      border-radius: 50%;\n",
              "      cursor: pointer;\n",
              "      display: none;\n",
              "      fill: #1967D2;\n",
              "      height: 32px;\n",
              "      padding: 0 0 0 0;\n",
              "      width: 32px;\n",
              "    }\n",
              "\n",
              "    .colab-df-convert:hover {\n",
              "      background-color: #E2EBFA;\n",
              "      box-shadow: 0px 1px 2px rgba(60, 64, 67, 0.3), 0px 1px 3px 1px rgba(60, 64, 67, 0.15);\n",
              "      fill: #174EA6;\n",
              "    }\n",
              "\n",
              "    [theme=dark] .colab-df-convert {\n",
              "      background-color: #3B4455;\n",
              "      fill: #D2E3FC;\n",
              "    }\n",
              "\n",
              "    [theme=dark] .colab-df-convert:hover {\n",
              "      background-color: #434B5C;\n",
              "      box-shadow: 0px 1px 3px 1px rgba(0, 0, 0, 0.15);\n",
              "      filter: drop-shadow(0px 1px 2px rgba(0, 0, 0, 0.3));\n",
              "      fill: #FFFFFF;\n",
              "    }\n",
              "  </style>\n",
              "\n",
              "      <script>\n",
              "        const buttonEl =\n",
              "          document.querySelector('#df-9e202713-c896-42e2-809a-58d946dd056a button.colab-df-convert');\n",
              "        buttonEl.style.display =\n",
              "          google.colab.kernel.accessAllowed ? 'block' : 'none';\n",
              "\n",
              "        async function convertToInteractive(key) {\n",
              "          const element = document.querySelector('#df-9e202713-c896-42e2-809a-58d946dd056a');\n",
              "          const dataTable =\n",
              "            await google.colab.kernel.invokeFunction('convertToInteractive',\n",
              "                                                     [key], {});\n",
              "          if (!dataTable) return;\n",
              "\n",
              "          const docLinkHtml = 'Like what you see? Visit the ' +\n",
              "            '<a target=\"_blank\" href=https://colab.research.google.com/notebooks/data_table.ipynb>data table notebook</a>'\n",
              "            + ' to learn more about interactive tables.';\n",
              "          element.innerHTML = '';\n",
              "          dataTable['output_type'] = 'display_data';\n",
              "          await google.colab.output.renderOutput(dataTable, element);\n",
              "          const docLink = document.createElement('div');\n",
              "          docLink.innerHTML = docLinkHtml;\n",
              "          element.appendChild(docLink);\n",
              "        }\n",
              "      </script>\n",
              "    </div>\n",
              "  </div>\n",
              "  "
            ],
            "text/plain": [
              "                total_rooms  total_bedrooms  households\n",
              "total_rooms        1.000000        0.931023    0.918161\n",
              "total_bedrooms     0.931023        1.000000    0.979402\n",
              "households         0.918161        0.979402    1.000000"
            ]
          },
          "metadata": {},
          "execution_count": 62
        }
      ]
    },
    {
      "cell_type": "code",
      "source": [
        "# Get X_train_3 which has total_rooms, total_bedrooms, and households as inputs\n",
        "\n",
        "import numpy as np\n",
        "\n",
        "X_train_3 = train_df[['total_rooms', 'total_bedrooms', 'households']].to_numpy()\n",
        "\n",
        "X_train_3.shape"
      ],
      "metadata": {
        "colab": {
          "base_uri": "https://localhost:8080/"
        },
        "id": "SHby2X506PQ8",
        "outputId": "fed2d0cd-fa20-4361-fefc-073fb62899ba"
      },
      "execution_count": null,
      "outputs": [
        {
          "output_type": "execute_result",
          "data": {
            "text/plain": [
              "(17000, 3)"
            ]
          },
          "metadata": {},
          "execution_count": 63
        }
      ]
    },
    {
      "cell_type": "code",
      "source": [
        "# Get X_test_3 which has total_rooms, total_bedrooms, and households as inputs\n",
        "\n",
        "X_test_3 = test_df[['total_rooms', 'total_bedrooms', 'households']].to_numpy()\n",
        "\n",
        "X_test_3.shape"
      ],
      "metadata": {
        "colab": {
          "base_uri": "https://localhost:8080/"
        },
        "id": "VaeRV9218Peq",
        "outputId": "399b87b6-e017-4386-9e65-8404cc53cbd1"
      },
      "execution_count": null,
      "outputs": [
        {
          "output_type": "execute_result",
          "data": {
            "text/plain": [
              "(3433, 3)"
            ]
          },
          "metadata": {},
          "execution_count": 64
        }
      ]
    },
    {
      "cell_type": "code",
      "source": [
        "# Get error of random forest training on just (X_train_3, y_train) and testing on (X_test_3, y_test)\n",
        "\n",
        "from sklearn.ensemble import RandomForestRegressor\n",
        "\n",
        "forest_base = RandomForestRegressor(n_estimators=50, max_depth=5).fit(X_train_3, y_train)\n",
        "forest_base_test_predictions = forest_base.predict(X_test_3)\n",
        "mean_absolute_error(y_test, forest_base_test_predictions)"
      ],
      "metadata": {
        "colab": {
          "base_uri": "https://localhost:8080/"
        },
        "id": "qMFCnTcy9I68",
        "outputId": "d08ee5d1-0706-439d-ca5b-f48df903a25d"
      },
      "execution_count": null,
      "outputs": [
        {
          "output_type": "execute_result",
          "data": {
            "text/plain": [
              "82425.9862296832"
            ]
          },
          "metadata": {},
          "execution_count": 65
        }
      ]
    },
    {
      "cell_type": "code",
      "source": [
        "# Train PCA (Linear Dimensionality Reduction) with 2-feature output\n",
        "\n",
        "from sklearn.decomposition import PCA\n",
        "\n",
        "pca = PCA(n_components=2)\n",
        "pca = pca.fit(X_train_3)\n",
        "\n",
        "pca"
      ],
      "metadata": {
        "colab": {
          "base_uri": "https://localhost:8080/"
        },
        "id": "Scs6ZTDq5_Zx",
        "outputId": "a2a278dc-af6b-4888-8d94-a42b1fa1f3d8"
      },
      "execution_count": null,
      "outputs": [
        {
          "output_type": "execute_result",
          "data": {
            "text/plain": [
              "PCA(n_components=2)"
            ]
          },
          "metadata": {},
          "execution_count": 66
        }
      ]
    },
    {
      "cell_type": "code",
      "source": [
        "# Use PCA to transform X_train_3 and X_test_3 into X_train_pca and X_test_pca\n",
        "\n",
        "X_train_pca = pca.transform(X_train_3)\n",
        "X_test_pca = pca.transform(X_test_3)\n",
        "\n",
        "X_train_pca.shape, X_test_pca.shape"
      ],
      "metadata": {
        "colab": {
          "base_uri": "https://localhost:8080/"
        },
        "id": "QD-r8gF88qlJ",
        "outputId": "72593e6a-0435-482f-9a9d-ac20576006bd"
      },
      "execution_count": null,
      "outputs": [
        {
          "output_type": "execute_result",
          "data": {
            "text/plain": [
              "((17000, 2), (3433, 2))"
            ]
          },
          "metadata": {},
          "execution_count": 67
        }
      ]
    },
    {
      "cell_type": "code",
      "source": [
        "# Get error of Random Forest training on (X_train_pca, y_train) and testing on (X_test_pca, y_test)\n",
        "\n",
        "forest_pca = RandomForestRegressor(n_estimators=50, max_depth=5).fit(X_train_pca, y_train)\n",
        "forest_pca_test_predictions = forest_pca.predict(X_test_pca)\n",
        "\n",
        "mean_absolute_error(y_test, forest_pca_test_predictions)"
      ],
      "metadata": {
        "colab": {
          "base_uri": "https://localhost:8080/"
        },
        "id": "8Pg7Fjqe6NG7",
        "outputId": "efa9ae41-87be-4906-a713-169a3e107f10"
      },
      "execution_count": null,
      "outputs": [
        {
          "output_type": "execute_result",
          "data": {
            "text/plain": [
              "79452.09307991486"
            ]
          },
          "metadata": {},
          "execution_count": 68
        }
      ]
    },
    {
      "cell_type": "markdown",
      "source": [
        "#### 2. Preprocessing / Scaling"
      ],
      "metadata": {
        "id": "V5yd7ZHXd_Dc"
      }
    },
    {
      "cell_type": "code",
      "source": [
        "X_train_3"
      ],
      "metadata": {
        "colab": {
          "base_uri": "https://localhost:8080/"
        },
        "id": "UoPeTMUEZhyo",
        "outputId": "67a4ea91-4d87-48f9-d66c-fa73d55d0be2"
      },
      "execution_count": null,
      "outputs": [
        {
          "output_type": "execute_result",
          "data": {
            "text/plain": [
              "array([[2781.,  574.,  519.],\n",
              "       [1233.,  214.,  199.],\n",
              "       [4166.,  756.,  743.],\n",
              "       ...,\n",
              "       [1895.,  424.,  417.],\n",
              "       [3354.,  659.,  648.],\n",
              "       [1027.,  258.,  248.]])"
            ]
          },
          "metadata": {},
          "execution_count": 69
        }
      ]
    },
    {
      "cell_type": "code",
      "source": [
        "X_train_3_scaled"
      ],
      "metadata": {
        "colab": {
          "base_uri": "https://localhost:8080/"
        },
        "id": "Do7vshK8dTcJ",
        "outputId": "349fbbd2-b136-4585-e471-10df98967c29"
      },
      "execution_count": null,
      "outputs": [
        {
          "output_type": "execute_result",
          "data": {
            "text/plain": [
              "array([[ 0.06141578,  0.08041603,  0.04664826],\n",
              "       [-0.64492147, -0.76725387, -0.78510314],\n",
              "       [ 0.69337772,  0.50896026,  0.62887424],\n",
              "       ...,\n",
              "       [-0.34285735, -0.27277976, -0.2184725 ],\n",
              "       [ 0.32287007,  0.28056032,  0.38194804],\n",
              "       [-0.73891725, -0.66364977, -0.65774121]])"
            ]
          },
          "metadata": {},
          "execution_count": 70
        }
      ]
    },
    {
      "cell_type": "code",
      "source": [
        "# Test different preprocessing functions on X_train_3\n",
        "\n",
        "from sklearn.preprocessing import StandardScaler, Normalizer, MinMaxScaler\n",
        "import matplotlib.pyplot as plt\n",
        "\n",
        "scaler = StandardScaler().fit(X_train_3)\n",
        "X_train_3_scaled = scaler.transform(X_train_3)\n",
        "\n",
        "plt.hist(X_train_3_scaled[:, 1])"
      ],
      "metadata": {
        "colab": {
          "base_uri": "https://localhost:8080/",
          "height": 372
        },
        "id": "PGhb2fnh_ZWQ",
        "outputId": "b23029cf-a5fb-406d-9ad4-da1a9149693a"
      },
      "execution_count": null,
      "outputs": [
        {
          "output_type": "execute_result",
          "data": {
            "text/plain": [
              "(array([1.2712e+04, 3.4710e+03, 5.6300e+02, 1.4500e+02, 6.0000e+01,\n",
              "        2.2000e+01, 1.6000e+01, 7.0000e+00, 2.0000e+00, 2.0000e+00]),\n",
              " array([-1.2687919 ,  0.24853723,  1.76586636,  3.28319549,  4.80052461,\n",
              "         6.31785374,  7.83518287,  9.352512  , 10.86984112, 12.38717025,\n",
              "        13.90449938]),\n",
              " <a list of 10 Patch objects>)"
            ]
          },
          "metadata": {},
          "execution_count": 74
        },
        {
          "output_type": "display_data",
          "data": {
            "image/png": "[encoded data removed]",
            "text/plain": [
              "<Figure size 432x288 with 1 Axes>"
            ]
          },
          "metadata": {
            "needs_background": "light"
          }
        }
      ]
    },
    {
      "cell_type": "code",
      "source": [
        "# Preprocess X_test_3\n",
        "\n",
        "X_test_3_scaled = scaler.transform(X_test_3)\n",
        "\n",
        "X_test_3_scaled.shape"
      ],
      "metadata": {
        "colab": {
          "base_uri": "https://localhost:8080/"
        },
        "id": "9ZXKyEcmGs76",
        "outputId": "164a50bd-02c5-4c1f-fbd3-05d63cafea9d"
      },
      "execution_count": null,
      "outputs": [
        {
          "output_type": "execute_result",
          "data": {
            "text/plain": [
              "(3433, 3)"
            ]
          },
          "metadata": {},
          "execution_count": 75
        }
      ]
    },
    {
      "cell_type": "code",
      "source": [
        "# Get error of Random Forest training on (X_train_scaled, y_train) and testing on (X_test_scaled, y_test)\n",
        "\n",
        "random_forest_scaled = RandomForestRegressor(n_estimators=50, max_depth=5).fit(X_train_3_scaled, y_train)\n",
        "random_forest_scaled_test_predictions = random_forest_scaled.predict(X_test_3_scaled)\n",
        "\n",
        "mean_absolute_error(y_test, random_forest_scaled_test_predictions)"
      ],
      "metadata": {
        "colab": {
          "base_uri": "https://localhost:8080/"
        },
        "id": "gu7r9Vv1MExm",
        "outputId": "aa6a968e-7b1c-40c7-f0ad-a81bfeac0784"
      },
      "execution_count": null,
      "outputs": [
        {
          "output_type": "execute_result",
          "data": {
            "text/plain": [
              "82270.1449305525"
            ]
          },
          "metadata": {},
          "execution_count": 77
        }
      ]
    },
    {
      "cell_type": "code",
      "source": [
        "# Create Pipeline of Normalization -> PCA -> RandomForest\n",
        "\n",
        "from sklearn.pipeline import Pipeline\n",
        "\n",
        "scale_pca_pipe_forest = Pipeline(steps=[('Scaler', Normalizer()), \n",
        "                                 ('PCA', PCA(n_components=2)), \n",
        "                                 ('Forest', RandomForestRegressor(n_estimators=50, max_depth=5))])\n",
        "scale_pca_pipe_forest"
      ],
      "metadata": {
        "colab": {
          "base_uri": "https://localhost:8080/"
        },
        "id": "N7gEZyjqHkH5",
        "outputId": "fd1f8cd6-2936-4e76-a809-c8643732c786"
      },
      "execution_count": null,
      "outputs": [
        {
          "output_type": "execute_result",
          "data": {
            "text/plain": [
              "Pipeline(steps=[('Scaler', Normalizer()), ('PCA', PCA(n_components=2)),\n",
              "                ('Forest',\n",
              "                 RandomForestRegressor(max_depth=5, n_estimators=50))])"
            ]
          },
          "metadata": {},
          "execution_count": 81
        }
      ]
    },
    {
      "cell_type": "code",
      "source": [
        "# Get error of Normalization -> PCA -> Random Forest pipeline\n",
        "\n",
        "scale_pca_pipe_forest.fit(X_train_3, y_train)\n",
        "scale_pca_pipe_forest_test_predictions = scale_pca_pipe_forest.predict(X_test_3)\n",
        "\n",
        "mean_absolute_error(y_test, scale_pca_pipe_forest_test_predictions)"
      ],
      "metadata": {
        "colab": {
          "base_uri": "https://localhost:8080/"
        },
        "id": "bIhEJfxmIFl0",
        "outputId": "7258433b-a0e5-4a1f-8615-0065c6e51a2e"
      },
      "execution_count": null,
      "outputs": [
        {
          "output_type": "execute_result",
          "data": {
            "text/plain": [
              "77375.45126067034"
            ]
          },
          "metadata": {},
          "execution_count": 82
        }
      ]
    },
    {
      "cell_type": "markdown",
      "source": [
        "#### 3. Categorical Encoding (Dummy / One-Hot)"
      ],
      "metadata": {
        "id": "4hwKAEXUhgSf"
      }
    },
    {
      "cell_type": "code",
      "source": [
        "# Get dummy variables (one-hot encoding) for the training set\n",
        "\n",
        "train_dummies = pd.get_dummies(train_df['ocean_proximity'])\n",
        "train_dummies.head()"
      ],
      "metadata": {
        "colab": {
          "base_uri": "https://localhost:8080/",
          "height": 206
        },
        "id": "cFXUZncLoVCG",
        "outputId": "a899c39f-8fe7-420f-8179-b643a43c891c"
      },
      "execution_count": null,
      "outputs": [
        {
          "output_type": "execute_result",
          "data": {
            "text/html": [
              "\n",
              "  <div id=\"df-0f736c0f-5ff8-42b3-9b12-aa57236e076b\">\n",
              "    <div class=\"colab-df-container\">\n",
              "      <div>\n",
              "<style scoped>\n",
              "    .dataframe tbody tr th:only-of-type {\n",
              "        vertical-align: middle;\n",
              "    }\n",
              "\n",
              "    .dataframe tbody tr th {\n",
              "        vertical-align: top;\n",
              "    }\n",
              "\n",
              "    .dataframe thead th {\n",
              "        text-align: right;\n",
              "    }\n",
              "</style>\n",
              "<table border=\"1\" class=\"dataframe\">\n",
              "  <thead>\n",
              "    <tr style=\"text-align: right;\">\n",
              "      <th></th>\n",
              "      <th>&lt;1H OCEAN</th>\n",
              "      <th>INLAND</th>\n",
              "      <th>ISLAND</th>\n",
              "      <th>NEAR BAY</th>\n",
              "      <th>NEAR OCEAN</th>\n",
              "    </tr>\n",
              "  </thead>\n",
              "  <tbody>\n",
              "    <tr>\n",
              "      <th>0</th>\n",
              "      <td>0</td>\n",
              "      <td>0</td>\n",
              "      <td>0</td>\n",
              "      <td>1</td>\n",
              "      <td>0</td>\n",
              "    </tr>\n",
              "    <tr>\n",
              "      <th>1</th>\n",
              "      <td>0</td>\n",
              "      <td>1</td>\n",
              "      <td>0</td>\n",
              "      <td>0</td>\n",
              "      <td>0</td>\n",
              "    </tr>\n",
              "    <tr>\n",
              "      <th>2</th>\n",
              "      <td>1</td>\n",
              "      <td>0</td>\n",
              "      <td>0</td>\n",
              "      <td>0</td>\n",
              "      <td>0</td>\n",
              "    </tr>\n",
              "    <tr>\n",
              "      <th>3</th>\n",
              "      <td>0</td>\n",
              "      <td>0</td>\n",
              "      <td>0</td>\n",
              "      <td>1</td>\n",
              "      <td>0</td>\n",
              "    </tr>\n",
              "    <tr>\n",
              "      <th>4</th>\n",
              "      <td>0</td>\n",
              "      <td>1</td>\n",
              "      <td>0</td>\n",
              "      <td>0</td>\n",
              "      <td>0</td>\n",
              "    </tr>\n",
              "  </tbody>\n",
              "</table>\n",
              "</div>\n",
              "      <button class=\"colab-df-convert\" onclick=\"convertToInteractive('df-0f736c0f-5ff8-42b3-9b12-aa57236e076b')\"\n",
              "              title=\"Convert this dataframe to an interactive table.\"\n",
              "              style=\"display:none;\">\n",
              "        \n",
              "  <svg xmlns=\"http://www.w3.org/2000/svg\" height=\"24px\"viewBox=\"0 0 24 24\"\n",
              "       width=\"24px\">\n",
              "    <path d=\"M0 0h24v24H0V0z\" fill=\"none\"/>\n",
              "    <path d=\"M18.56 5.44l.94 2.06.94-2.06 2.06-.94-2.06-.94-.94-2.06-.94 2.06-2.06.94zm-11 1L8.5 8.5l.94-2.06 2.06-.94-2.06-.94L8.5 2.5l-.94 2.06-2.06.94zm10 10l.94 2.06.94-2.06 2.06-.94-2.06-.94-.94-2.06-.94 2.06-2.06.94z\"/><path d=\"M17.41 7.96l-1.37-1.37c-.4-.4-.92-.59-1.43-.59-.52 0-1.04.2-1.43.59L10.3 9.45l-7.72 7.72c-.78.78-.78 2.05 0 2.83L4 21.41c.39.39.9.59 1.41.59.51 0 1.02-.2 1.41-.59l7.78-7.78 2.81-2.81c.8-.78.8-2.07 0-2.86zM5.41 20L4 18.59l7.72-7.72 1.47 1.35L5.41 20z\"/>\n",
              "  </svg>\n",
              "      </button>\n",
              "      \n",
              "  <style>\n",
              "    .colab-df-container {\n",
              "      display:flex;\n",
              "      flex-wrap:wrap;\n",
              "      gap: 12px;\n",
              "    }\n",
              "\n",
              "    .colab-df-convert {\n",
              "      background-color: #E8F0FE;\n",
              "      border: none;\n",
              "      border-radius: 50%;\n",
              "      cursor: pointer;\n",
              "      display: none;\n",
              "      fill: #1967D2;\n",
              "      height: 32px;\n",
              "      padding: 0 0 0 0;\n",
              "      width: 32px;\n",
              "    }\n",
              "\n",
              "    .colab-df-convert:hover {\n",
              "      background-color: #E2EBFA;\n",
              "      box-shadow: 0px 1px 2px rgba(60, 64, 67, 0.3), 0px 1px 3px 1px rgba(60, 64, 67, 0.15);\n",
              "      fill: #174EA6;\n",
              "    }\n",
              "\n",
              "    [theme=dark] .colab-df-convert {\n",
              "      background-color: #3B4455;\n",
              "      fill: #D2E3FC;\n",
              "    }\n",
              "\n",
              "    [theme=dark] .colab-df-convert:hover {\n",
              "      background-color: #434B5C;\n",
              "      box-shadow: 0px 1px 3px 1px rgba(0, 0, 0, 0.15);\n",
              "      filter: drop-shadow(0px 1px 2px rgba(0, 0, 0, 0.3));\n",
              "      fill: #FFFFFF;\n",
              "    }\n",
              "  </style>\n",
              "\n",
              "      <script>\n",
              "        const buttonEl =\n",
              "          document.querySelector('#df-0f736c0f-5ff8-42b3-9b12-aa57236e076b button.colab-df-convert');\n",
              "        buttonEl.style.display =\n",
              "          google.colab.kernel.accessAllowed ? 'block' : 'none';\n",
              "\n",
              "        async function convertToInteractive(key) {\n",
              "          const element = document.querySelector('#df-0f736c0f-5ff8-42b3-9b12-aa57236e076b');\n",
              "          const dataTable =\n",
              "            await google.colab.kernel.invokeFunction('convertToInteractive',\n",
              "                                                     [key], {});\n",
              "          if (!dataTable) return;\n",
              "\n",
              "          const docLinkHtml = 'Like what you see? Visit the ' +\n",
              "            '<a target=\"_blank\" href=https://colab.research.google.com/notebooks/data_table.ipynb>data table notebook</a>'\n",
              "            + ' to learn more about interactive tables.';\n",
              "          element.innerHTML = '';\n",
              "          dataTable['output_type'] = 'display_data';\n",
              "          await google.colab.output.renderOutput(dataTable, element);\n",
              "          const docLink = document.createElement('div');\n",
              "          docLink.innerHTML = docLinkHtml;\n",
              "          element.appendChild(docLink);\n",
              "        }\n",
              "      </script>\n",
              "    </div>\n",
              "  </div>\n",
              "  "
            ],
            "text/plain": [
              "   <1H OCEAN  INLAND  ISLAND  NEAR BAY  NEAR OCEAN\n",
              "0          0       0       0         1           0\n",
              "1          0       1       0         0           0\n",
              "2          1       0       0         0           0\n",
              "3          0       0       0         1           0\n",
              "4          0       1       0         0           0"
            ]
          },
          "metadata": {},
          "execution_count": 83
        }
      ]
    },
    {
      "cell_type": "code",
      "source": [
        "# Concatenate dummy variables to the training DataFrame\n",
        "\n",
        "train_df = pd.concat([train_df, train_dummies], axis=1)\n",
        "train_df.head()"
      ],
      "metadata": {
        "id": "WKAkM3mppdqv",
        "colab": {
          "base_uri": "https://localhost:8080/",
          "height": 288
        },
        "outputId": "aa8f394c-21a3-470b-d625-db44faf43e6f"
      },
      "execution_count": null,
      "outputs": [
        {
          "output_type": "execute_result",
          "data": {
            "text/html": [
              "\n",
              "  <div id=\"df-e34d780e-5841-40cc-aca4-e1181d9580fc\">\n",
              "    <div class=\"colab-df-container\">\n",
              "      <div>\n",
              "<style scoped>\n",
              "    .dataframe tbody tr th:only-of-type {\n",
              "        vertical-align: middle;\n",
              "    }\n",
              "\n",
              "    .dataframe tbody tr th {\n",
              "        vertical-align: top;\n",
              "    }\n",
              "\n",
              "    .dataframe thead th {\n",
              "        text-align: right;\n",
              "    }\n",
              "</style>\n",
              "<table border=\"1\" class=\"dataframe\">\n",
              "  <thead>\n",
              "    <tr style=\"text-align: right;\">\n",
              "      <th></th>\n",
              "      <th>longitude</th>\n",
              "      <th>latitude</th>\n",
              "      <th>housing_median_age</th>\n",
              "      <th>total_rooms</th>\n",
              "      <th>total_bedrooms</th>\n",
              "      <th>population</th>\n",
              "      <th>households</th>\n",
              "      <th>median_income</th>\n",
              "      <th>median_house_value</th>\n",
              "      <th>ocean_proximity</th>\n",
              "      <th>&lt;1H OCEAN</th>\n",
              "      <th>INLAND</th>\n",
              "      <th>ISLAND</th>\n",
              "      <th>NEAR BAY</th>\n",
              "      <th>NEAR OCEAN</th>\n",
              "    </tr>\n",
              "  </thead>\n",
              "  <tbody>\n",
              "    <tr>\n",
              "      <th>0</th>\n",
              "      <td>-122.16</td>\n",
              "      <td>37.76</td>\n",
              "      <td>36.0</td>\n",
              "      <td>2781.0</td>\n",
              "      <td>574.0</td>\n",
              "      <td>1438.0</td>\n",
              "      <td>519.0</td>\n",
              "      <td>2.4598</td>\n",
              "      <td>155500.0</td>\n",
              "      <td>NEAR BAY</td>\n",
              "      <td>0</td>\n",
              "      <td>0</td>\n",
              "      <td>0</td>\n",
              "      <td>1</td>\n",
              "      <td>0</td>\n",
              "    </tr>\n",
              "    <tr>\n",
              "      <th>1</th>\n",
              "      <td>-119.95</td>\n",
              "      <td>36.80</td>\n",
              "      <td>30.0</td>\n",
              "      <td>1233.0</td>\n",
              "      <td>214.0</td>\n",
              "      <td>620.0</td>\n",
              "      <td>199.0</td>\n",
              "      <td>3.4297</td>\n",
              "      <td>112500.0</td>\n",
              "      <td>INLAND</td>\n",
              "      <td>0</td>\n",
              "      <td>1</td>\n",
              "      <td>0</td>\n",
              "      <td>0</td>\n",
              "      <td>0</td>\n",
              "    </tr>\n",
              "    <tr>\n",
              "      <th>2</th>\n",
              "      <td>-118.49</td>\n",
              "      <td>34.42</td>\n",
              "      <td>23.0</td>\n",
              "      <td>4166.0</td>\n",
              "      <td>756.0</td>\n",
              "      <td>2082.0</td>\n",
              "      <td>743.0</td>\n",
              "      <td>4.4107</td>\n",
              "      <td>213400.0</td>\n",
              "      <td>&lt;1H OCEAN</td>\n",
              "      <td>1</td>\n",
              "      <td>0</td>\n",
              "      <td>0</td>\n",
              "      <td>0</td>\n",
              "      <td>0</td>\n",
              "    </tr>\n",
              "    <tr>\n",
              "      <th>3</th>\n",
              "      <td>-122.24</td>\n",
              "      <td>37.79</td>\n",
              "      <td>27.0</td>\n",
              "      <td>1632.0</td>\n",
              "      <td>492.0</td>\n",
              "      <td>1171.0</td>\n",
              "      <td>429.0</td>\n",
              "      <td>2.3173</td>\n",
              "      <td>125000.0</td>\n",
              "      <td>NEAR BAY</td>\n",
              "      <td>0</td>\n",
              "      <td>0</td>\n",
              "      <td>0</td>\n",
              "      <td>1</td>\n",
              "      <td>0</td>\n",
              "    </tr>\n",
              "    <tr>\n",
              "      <th>4</th>\n",
              "      <td>-121.45</td>\n",
              "      <td>36.86</td>\n",
              "      <td>11.0</td>\n",
              "      <td>1613.0</td>\n",
              "      <td>335.0</td>\n",
              "      <td>1617.0</td>\n",
              "      <td>342.0</td>\n",
              "      <td>3.1375</td>\n",
              "      <td>146200.0</td>\n",
              "      <td>INLAND</td>\n",
              "      <td>0</td>\n",
              "      <td>1</td>\n",
              "      <td>0</td>\n",
              "      <td>0</td>\n",
              "      <td>0</td>\n",
              "    </tr>\n",
              "  </tbody>\n",
              "</table>\n",
              "</div>\n",
              "      <button class=\"colab-df-convert\" onclick=\"convertToInteractive('df-e34d780e-5841-40cc-aca4-e1181d9580fc')\"\n",
              "              title=\"Convert this dataframe to an interactive table.\"\n",
              "              style=\"display:none;\">\n",
              "        \n",
              "  <svg xmlns=\"http://www.w3.org/2000/svg\" height=\"24px\"viewBox=\"0 0 24 24\"\n",
              "       width=\"24px\">\n",
              "    <path d=\"M0 0h24v24H0V0z\" fill=\"none\"/>\n",
              "    <path d=\"M18.56 5.44l.94 2.06.94-2.06 2.06-.94-2.06-.94-.94-2.06-.94 2.06-2.06.94zm-11 1L8.5 8.5l.94-2.06 2.06-.94-2.06-.94L8.5 2.5l-.94 2.06-2.06.94zm10 10l.94 2.06.94-2.06 2.06-.94-2.06-.94-.94-2.06-.94 2.06-2.06.94z\"/><path d=\"M17.41 7.96l-1.37-1.37c-.4-.4-.92-.59-1.43-.59-.52 0-1.04.2-1.43.59L10.3 9.45l-7.72 7.72c-.78.78-.78 2.05 0 2.83L4 21.41c.39.39.9.59 1.41.59.51 0 1.02-.2 1.41-.59l7.78-7.78 2.81-2.81c.8-.78.8-2.07 0-2.86zM5.41 20L4 18.59l7.72-7.72 1.47 1.35L5.41 20z\"/>\n",
              "  </svg>\n",
              "      </button>\n",
              "      \n",
              "  <style>\n",
              "    .colab-df-container {\n",
              "      display:flex;\n",
              "      flex-wrap:wrap;\n",
              "      gap: 12px;\n",
              "    }\n",
              "\n",
              "    .colab-df-convert {\n",
              "      background-color: #E8F0FE;\n",
              "      border: none;\n",
              "      border-radius: 50%;\n",
              "      cursor: pointer;\n",
              "      display: none;\n",
              "      fill: #1967D2;\n",
              "      height: 32px;\n",
              "      padding: 0 0 0 0;\n",
              "      width: 32px;\n",
              "    }\n",
              "\n",
              "    .colab-df-convert:hover {\n",
              "      background-color: #E2EBFA;\n",
              "      box-shadow: 0px 1px 2px rgba(60, 64, 67, 0.3), 0px 1px 3px 1px rgba(60, 64, 67, 0.15);\n",
              "      fill: #174EA6;\n",
              "    }\n",
              "\n",
              "    [theme=dark] .colab-df-convert {\n",
              "      background-color: #3B4455;\n",
              "      fill: #D2E3FC;\n",
              "    }\n",
              "\n",
              "    [theme=dark] .colab-df-convert:hover {\n",
              "      background-color: #434B5C;\n",
              "      box-shadow: 0px 1px 3px 1px rgba(0, 0, 0, 0.15);\n",
              "      filter: drop-shadow(0px 1px 2px rgba(0, 0, 0, 0.3));\n",
              "      fill: #FFFFFF;\n",
              "    }\n",
              "  </style>\n",
              "\n",
              "      <script>\n",
              "        const buttonEl =\n",
              "          document.querySelector('#df-e34d780e-5841-40cc-aca4-e1181d9580fc button.colab-df-convert');\n",
              "        buttonEl.style.display =\n",
              "          google.colab.kernel.accessAllowed ? 'block' : 'none';\n",
              "\n",
              "        async function convertToInteractive(key) {\n",
              "          const element = document.querySelector('#df-e34d780e-5841-40cc-aca4-e1181d9580fc');\n",
              "          const dataTable =\n",
              "            await google.colab.kernel.invokeFunction('convertToInteractive',\n",
              "                                                     [key], {});\n",
              "          if (!dataTable) return;\n",
              "\n",
              "          const docLinkHtml = 'Like what you see? Visit the ' +\n",
              "            '<a target=\"_blank\" href=https://colab.research.google.com/notebooks/data_table.ipynb>data table notebook</a>'\n",
              "            + ' to learn more about interactive tables.';\n",
              "          element.innerHTML = '';\n",
              "          dataTable['output_type'] = 'display_data';\n",
              "          await google.colab.output.renderOutput(dataTable, element);\n",
              "          const docLink = document.createElement('div');\n",
              "          docLink.innerHTML = docLinkHtml;\n",
              "          element.appendChild(docLink);\n",
              "        }\n",
              "      </script>\n",
              "    </div>\n",
              "  </div>\n",
              "  "
            ],
            "text/plain": [
              "   longitude  latitude  housing_median_age  ...  ISLAND  NEAR BAY  NEAR OCEAN\n",
              "0    -122.16     37.76                36.0  ...       0         1           0\n",
              "1    -119.95     36.80                30.0  ...       0         0           0\n",
              "2    -118.49     34.42                23.0  ...       0         0           0\n",
              "3    -122.24     37.79                27.0  ...       0         1           0\n",
              "4    -121.45     36.86                11.0  ...       0         0           0\n",
              "\n",
              "[5 rows x 15 columns]"
            ]
          },
          "metadata": {},
          "execution_count": 84
        }
      ]
    },
    {
      "cell_type": "code",
      "source": [
        "# Observe frequency of categories\n",
        "\n",
        "train_df['ocean_proximity'].value_counts()"
      ],
      "metadata": {
        "colab": {
          "base_uri": "https://localhost:8080/"
        },
        "id": "gWRtEYRrHRhK",
        "outputId": "00fd1fcb-47bc-4d4c-f39b-f9d81fdf2ca9"
      },
      "execution_count": null,
      "outputs": [
        {
          "output_type": "execute_result",
          "data": {
            "text/plain": [
              "<1H OCEAN     7522\n",
              "INLAND        5408\n",
              "NEAR OCEAN    2172\n",
              "NEAR BAY      1895\n",
              "ISLAND           3\n",
              "Name: ocean_proximity, dtype: int64"
            ]
          },
          "metadata": {},
          "execution_count": 85
        }
      ]
    },
    {
      "cell_type": "code",
      "source": [
        "# Drop the ISLAND dummy since there are very few of them\n",
        "\n",
        "train_df.drop('ISLAND', inplace=True, axis=1)\n",
        "train_df.head()"
      ],
      "metadata": {
        "colab": {
          "base_uri": "https://localhost:8080/",
          "height": 288
        },
        "id": "5g8gePoj-ots",
        "outputId": "799e5b99-d8ba-43ad-89bb-bee41d023e03"
      },
      "execution_count": null,
      "outputs": [
        {
          "output_type": "execute_result",
          "data": {
            "text/html": [
              "\n",
              "  <div id=\"df-f69f5fd9-e718-45ad-82ca-887d737aaa35\">\n",
              "    <div class=\"colab-df-container\">\n",
              "      <div>\n",
              "<style scoped>\n",
              "    .dataframe tbody tr th:only-of-type {\n",
              "        vertical-align: middle;\n",
              "    }\n",
              "\n",
              "    .dataframe tbody tr th {\n",
              "        vertical-align: top;\n",
              "    }\n",
              "\n",
              "    .dataframe thead th {\n",
              "        text-align: right;\n",
              "    }\n",
              "</style>\n",
              "<table border=\"1\" class=\"dataframe\">\n",
              "  <thead>\n",
              "    <tr style=\"text-align: right;\">\n",
              "      <th></th>\n",
              "      <th>longitude</th>\n",
              "      <th>latitude</th>\n",
              "      <th>housing_median_age</th>\n",
              "      <th>total_rooms</th>\n",
              "      <th>total_bedrooms</th>\n",
              "      <th>population</th>\n",
              "      <th>households</th>\n",
              "      <th>median_income</th>\n",
              "      <th>median_house_value</th>\n",
              "      <th>ocean_proximity</th>\n",
              "      <th>&lt;1H OCEAN</th>\n",
              "      <th>INLAND</th>\n",
              "      <th>NEAR BAY</th>\n",
              "      <th>NEAR OCEAN</th>\n",
              "    </tr>\n",
              "  </thead>\n",
              "  <tbody>\n",
              "    <tr>\n",
              "      <th>0</th>\n",
              "      <td>-122.16</td>\n",
              "      <td>37.76</td>\n",
              "      <td>36.0</td>\n",
              "      <td>2781.0</td>\n",
              "      <td>574.0</td>\n",
              "      <td>1438.0</td>\n",
              "      <td>519.0</td>\n",
              "      <td>2.4598</td>\n",
              "      <td>155500.0</td>\n",
              "      <td>NEAR BAY</td>\n",
              "      <td>0</td>\n",
              "      <td>0</td>\n",
              "      <td>1</td>\n",
              "      <td>0</td>\n",
              "    </tr>\n",
              "    <tr>\n",
              "      <th>1</th>\n",
              "      <td>-119.95</td>\n",
              "      <td>36.80</td>\n",
              "      <td>30.0</td>\n",
              "      <td>1233.0</td>\n",
              "      <td>214.0</td>\n",
              "      <td>620.0</td>\n",
              "      <td>199.0</td>\n",
              "      <td>3.4297</td>\n",
              "      <td>112500.0</td>\n",
              "      <td>INLAND</td>\n",
              "      <td>0</td>\n",
              "      <td>1</td>\n",
              "      <td>0</td>\n",
              "      <td>0</td>\n",
              "    </tr>\n",
              "    <tr>\n",
              "      <th>2</th>\n",
              "      <td>-118.49</td>\n",
              "      <td>34.42</td>\n",
              "      <td>23.0</td>\n",
              "      <td>4166.0</td>\n",
              "      <td>756.0</td>\n",
              "      <td>2082.0</td>\n",
              "      <td>743.0</td>\n",
              "      <td>4.4107</td>\n",
              "      <td>213400.0</td>\n",
              "      <td>&lt;1H OCEAN</td>\n",
              "      <td>1</td>\n",
              "      <td>0</td>\n",
              "      <td>0</td>\n",
              "      <td>0</td>\n",
              "    </tr>\n",
              "    <tr>\n",
              "      <th>3</th>\n",
              "      <td>-122.24</td>\n",
              "      <td>37.79</td>\n",
              "      <td>27.0</td>\n",
              "      <td>1632.0</td>\n",
              "      <td>492.0</td>\n",
              "      <td>1171.0</td>\n",
              "      <td>429.0</td>\n",
              "      <td>2.3173</td>\n",
              "      <td>125000.0</td>\n",
              "      <td>NEAR BAY</td>\n",
              "      <td>0</td>\n",
              "      <td>0</td>\n",
              "      <td>1</td>\n",
              "      <td>0</td>\n",
              "    </tr>\n",
              "    <tr>\n",
              "      <th>4</th>\n",
              "      <td>-121.45</td>\n",
              "      <td>36.86</td>\n",
              "      <td>11.0</td>\n",
              "      <td>1613.0</td>\n",
              "      <td>335.0</td>\n",
              "      <td>1617.0</td>\n",
              "      <td>342.0</td>\n",
              "      <td>3.1375</td>\n",
              "      <td>146200.0</td>\n",
              "      <td>INLAND</td>\n",
              "      <td>0</td>\n",
              "      <td>1</td>\n",
              "      <td>0</td>\n",
              "      <td>0</td>\n",
              "    </tr>\n",
              "  </tbody>\n",
              "</table>\n",
              "</div>\n",
              "      <button class=\"colab-df-convert\" onclick=\"convertToInteractive('df-f69f5fd9-e718-45ad-82ca-887d737aaa35')\"\n",
              "              title=\"Convert this dataframe to an interactive table.\"\n",
              "              style=\"display:none;\">\n",
              "        \n",
              "  <svg xmlns=\"http://www.w3.org/2000/svg\" height=\"24px\"viewBox=\"0 0 24 24\"\n",
              "       width=\"24px\">\n",
              "    <path d=\"M0 0h24v24H0V0z\" fill=\"none\"/>\n",
              "    <path d=\"M18.56 5.44l.94 2.06.94-2.06 2.06-.94-2.06-.94-.94-2.06-.94 2.06-2.06.94zm-11 1L8.5 8.5l.94-2.06 2.06-.94-2.06-.94L8.5 2.5l-.94 2.06-2.06.94zm10 10l.94 2.06.94-2.06 2.06-.94-2.06-.94-.94-2.06-.94 2.06-2.06.94z\"/><path d=\"M17.41 7.96l-1.37-1.37c-.4-.4-.92-.59-1.43-.59-.52 0-1.04.2-1.43.59L10.3 9.45l-7.72 7.72c-.78.78-.78 2.05 0 2.83L4 21.41c.39.39.9.59 1.41.59.51 0 1.02-.2 1.41-.59l7.78-7.78 2.81-2.81c.8-.78.8-2.07 0-2.86zM5.41 20L4 18.59l7.72-7.72 1.47 1.35L5.41 20z\"/>\n",
              "  </svg>\n",
              "      </button>\n",
              "      \n",
              "  <style>\n",
              "    .colab-df-container {\n",
              "      display:flex;\n",
              "      flex-wrap:wrap;\n",
              "      gap: 12px;\n",
              "    }\n",
              "\n",
              "    .colab-df-convert {\n",
              "      background-color: #E8F0FE;\n",
              "      border: none;\n",
              "      border-radius: 50%;\n",
              "      cursor: pointer;\n",
              "      display: none;\n",
              "      fill: #1967D2;\n",
              "      height: 32px;\n",
              "      padding: 0 0 0 0;\n",
              "      width: 32px;\n",
              "    }\n",
              "\n",
              "    .colab-df-convert:hover {\n",
              "      background-color: #E2EBFA;\n",
              "      box-shadow: 0px 1px 2px rgba(60, 64, 67, 0.3), 0px 1px 3px 1px rgba(60, 64, 67, 0.15);\n",
              "      fill: #174EA6;\n",
              "    }\n",
              "\n",
              "    [theme=dark] .colab-df-convert {\n",
              "      background-color: #3B4455;\n",
              "      fill: #D2E3FC;\n",
              "    }\n",
              "\n",
              "    [theme=dark] .colab-df-convert:hover {\n",
              "      background-color: #434B5C;\n",
              "      box-shadow: 0px 1px 3px 1px rgba(0, 0, 0, 0.15);\n",
              "      filter: drop-shadow(0px 1px 2px rgba(0, 0, 0, 0.3));\n",
              "      fill: #FFFFFF;\n",
              "    }\n",
              "  </style>\n",
              "\n",
              "      <script>\n",
              "        const buttonEl =\n",
              "          document.querySelector('#df-f69f5fd9-e718-45ad-82ca-887d737aaa35 button.colab-df-convert');\n",
              "        buttonEl.style.display =\n",
              "          google.colab.kernel.accessAllowed ? 'block' : 'none';\n",
              "\n",
              "        async function convertToInteractive(key) {\n",
              "          const element = document.querySelector('#df-f69f5fd9-e718-45ad-82ca-887d737aaa35');\n",
              "          const dataTable =\n",
              "            await google.colab.kernel.invokeFunction('convertToInteractive',\n",
              "                                                     [key], {});\n",
              "          if (!dataTable) return;\n",
              "\n",
              "          const docLinkHtml = 'Like what you see? Visit the ' +\n",
              "            '<a target=\"_blank\" href=https://colab.research.google.com/notebooks/data_table.ipynb>data table notebook</a>'\n",
              "            + ' to learn more about interactive tables.';\n",
              "          element.innerHTML = '';\n",
              "          dataTable['output_type'] = 'display_data';\n",
              "          await google.colab.output.renderOutput(dataTable, element);\n",
              "          const docLink = document.createElement('div');\n",
              "          docLink.innerHTML = docLinkHtml;\n",
              "          element.appendChild(docLink);\n",
              "        }\n",
              "      </script>\n",
              "    </div>\n",
              "  </div>\n",
              "  "
            ],
            "text/plain": [
              "   longitude  latitude  housing_median_age  ...  INLAND  NEAR BAY  NEAR OCEAN\n",
              "0    -122.16     37.76                36.0  ...       0         1           0\n",
              "1    -119.95     36.80                30.0  ...       1         0           0\n",
              "2    -118.49     34.42                23.0  ...       0         0           0\n",
              "3    -122.24     37.79                27.0  ...       0         1           0\n",
              "4    -121.45     36.86                11.0  ...       1         0           0\n",
              "\n",
              "[5 rows x 14 columns]"
            ]
          },
          "metadata": {},
          "execution_count": 86
        }
      ]
    },
    {
      "cell_type": "code",
      "source": [
        "# Get dummy variables (one-hot encoding) for the test set\n",
        "\n",
        "test_dummies = pd.get_dummies(test_df['ocean_proximity'])\n",
        "test_dummies.head()"
      ],
      "metadata": {
        "colab": {
          "base_uri": "https://localhost:8080/",
          "height": 206
        },
        "id": "nWK5uh-D9K15",
        "outputId": "b94351e0-666b-4103-db2b-de268ad08912"
      },
      "execution_count": null,
      "outputs": [
        {
          "output_type": "execute_result",
          "data": {
            "text/html": [
              "\n",
              "  <div id=\"df-01ddd964-3fc8-4a03-8b09-2e7133f30358\">\n",
              "    <div class=\"colab-df-container\">\n",
              "      <div>\n",
              "<style scoped>\n",
              "    .dataframe tbody tr th:only-of-type {\n",
              "        vertical-align: middle;\n",
              "    }\n",
              "\n",
              "    .dataframe tbody tr th {\n",
              "        vertical-align: top;\n",
              "    }\n",
              "\n",
              "    .dataframe thead th {\n",
              "        text-align: right;\n",
              "    }\n",
              "</style>\n",
              "<table border=\"1\" class=\"dataframe\">\n",
              "  <thead>\n",
              "    <tr style=\"text-align: right;\">\n",
              "      <th></th>\n",
              "      <th>&lt;1H OCEAN</th>\n",
              "      <th>INLAND</th>\n",
              "      <th>ISLAND</th>\n",
              "      <th>NEAR BAY</th>\n",
              "      <th>NEAR OCEAN</th>\n",
              "    </tr>\n",
              "  </thead>\n",
              "  <tbody>\n",
              "    <tr>\n",
              "      <th>0</th>\n",
              "      <td>1</td>\n",
              "      <td>0</td>\n",
              "      <td>0</td>\n",
              "      <td>0</td>\n",
              "      <td>0</td>\n",
              "    </tr>\n",
              "    <tr>\n",
              "      <th>1</th>\n",
              "      <td>1</td>\n",
              "      <td>0</td>\n",
              "      <td>0</td>\n",
              "      <td>0</td>\n",
              "      <td>0</td>\n",
              "    </tr>\n",
              "    <tr>\n",
              "      <th>2</th>\n",
              "      <td>1</td>\n",
              "      <td>0</td>\n",
              "      <td>0</td>\n",
              "      <td>0</td>\n",
              "      <td>0</td>\n",
              "    </tr>\n",
              "    <tr>\n",
              "      <th>3</th>\n",
              "      <td>0</td>\n",
              "      <td>1</td>\n",
              "      <td>0</td>\n",
              "      <td>0</td>\n",
              "      <td>0</td>\n",
              "    </tr>\n",
              "    <tr>\n",
              "      <th>4</th>\n",
              "      <td>1</td>\n",
              "      <td>0</td>\n",
              "      <td>0</td>\n",
              "      <td>0</td>\n",
              "      <td>0</td>\n",
              "    </tr>\n",
              "  </tbody>\n",
              "</table>\n",
              "</div>\n",
              "      <button class=\"colab-df-convert\" onclick=\"convertToInteractive('df-01ddd964-3fc8-4a03-8b09-2e7133f30358')\"\n",
              "              title=\"Convert this dataframe to an interactive table.\"\n",
              "              style=\"display:none;\">\n",
              "        \n",
              "  <svg xmlns=\"http://www.w3.org/2000/svg\" height=\"24px\"viewBox=\"0 0 24 24\"\n",
              "       width=\"24px\">\n",
              "    <path d=\"M0 0h24v24H0V0z\" fill=\"none\"/>\n",
              "    <path d=\"M18.56 5.44l.94 2.06.94-2.06 2.06-.94-2.06-.94-.94-2.06-.94 2.06-2.06.94zm-11 1L8.5 8.5l.94-2.06 2.06-.94-2.06-.94L8.5 2.5l-.94 2.06-2.06.94zm10 10l.94 2.06.94-2.06 2.06-.94-2.06-.94-.94-2.06-.94 2.06-2.06.94z\"/><path d=\"M17.41 7.96l-1.37-1.37c-.4-.4-.92-.59-1.43-.59-.52 0-1.04.2-1.43.59L10.3 9.45l-7.72 7.72c-.78.78-.78 2.05 0 2.83L4 21.41c.39.39.9.59 1.41.59.51 0 1.02-.2 1.41-.59l7.78-7.78 2.81-2.81c.8-.78.8-2.07 0-2.86zM5.41 20L4 18.59l7.72-7.72 1.47 1.35L5.41 20z\"/>\n",
              "  </svg>\n",
              "      </button>\n",
              "      \n",
              "  <style>\n",
              "    .colab-df-container {\n",
              "      display:flex;\n",
              "      flex-wrap:wrap;\n",
              "      gap: 12px;\n",
              "    }\n",
              "\n",
              "    .colab-df-convert {\n",
              "      background-color: #E8F0FE;\n",
              "      border: none;\n",
              "      border-radius: 50%;\n",
              "      cursor: pointer;\n",
              "      display: none;\n",
              "      fill: #1967D2;\n",
              "      height: 32px;\n",
              "      padding: 0 0 0 0;\n",
              "      width: 32px;\n",
              "    }\n",
              "\n",
              "    .colab-df-convert:hover {\n",
              "      background-color: #E2EBFA;\n",
              "      box-shadow: 0px 1px 2px rgba(60, 64, 67, 0.3), 0px 1px 3px 1px rgba(60, 64, 67, 0.15);\n",
              "      fill: #174EA6;\n",
              "    }\n",
              "\n",
              "    [theme=dark] .colab-df-convert {\n",
              "      background-color: #3B4455;\n",
              "      fill: #D2E3FC;\n",
              "    }\n",
              "\n",
              "    [theme=dark] .colab-df-convert:hover {\n",
              "      background-color: #434B5C;\n",
              "      box-shadow: 0px 1px 3px 1px rgba(0, 0, 0, 0.15);\n",
              "      filter: drop-shadow(0px 1px 2px rgba(0, 0, 0, 0.3));\n",
              "      fill: #FFFFFF;\n",
              "    }\n",
              "  </style>\n",
              "\n",
              "      <script>\n",
              "        const buttonEl =\n",
              "          document.querySelector('#df-01ddd964-3fc8-4a03-8b09-2e7133f30358 button.colab-df-convert');\n",
              "        buttonEl.style.display =\n",
              "          google.colab.kernel.accessAllowed ? 'block' : 'none';\n",
              "\n",
              "        async function convertToInteractive(key) {\n",
              "          const element = document.querySelector('#df-01ddd964-3fc8-4a03-8b09-2e7133f30358');\n",
              "          const dataTable =\n",
              "            await google.colab.kernel.invokeFunction('convertToInteractive',\n",
              "                                                     [key], {});\n",
              "          if (!dataTable) return;\n",
              "\n",
              "          const docLinkHtml = 'Like what you see? Visit the ' +\n",
              "            '<a target=\"_blank\" href=https://colab.research.google.com/notebooks/data_table.ipynb>data table notebook</a>'\n",
              "            + ' to learn more about interactive tables.';\n",
              "          element.innerHTML = '';\n",
              "          dataTable['output_type'] = 'display_data';\n",
              "          await google.colab.output.renderOutput(dataTable, element);\n",
              "          const docLink = document.createElement('div');\n",
              "          docLink.innerHTML = docLinkHtml;\n",
              "          element.appendChild(docLink);\n",
              "        }\n",
              "      </script>\n",
              "    </div>\n",
              "  </div>\n",
              "  "
            ],
            "text/plain": [
              "   <1H OCEAN  INLAND  ISLAND  NEAR BAY  NEAR OCEAN\n",
              "0          1       0       0         0           0\n",
              "1          1       0       0         0           0\n",
              "2          1       0       0         0           0\n",
              "3          0       1       0         0           0\n",
              "4          1       0       0         0           0"
            ]
          },
          "metadata": {},
          "execution_count": 87
        }
      ]
    },
    {
      "cell_type": "code",
      "source": [
        "# Append the dummies and drop ISLAND on the test DataFrame\n",
        "\n",
        "test_df = pd.concat([test_df, test_dummies], axis=1)\n",
        "test_df.drop('ISLAND', inplace=True, axis=1)\n",
        "test_df.head()"
      ],
      "metadata": {
        "colab": {
          "base_uri": "https://localhost:8080/",
          "height": 288
        },
        "id": "4IT3qJeS8jvB",
        "outputId": "587ff3fb-4b5e-43a4-b96d-35c48272fd92"
      },
      "execution_count": null,
      "outputs": [
        {
          "output_type": "execute_result",
          "data": {
            "text/html": [
              "\n",
              "  <div id=\"df-b2c9597f-34de-4773-a36d-3e613dcb4f6b\">\n",
              "    <div class=\"colab-df-container\">\n",
              "      <div>\n",
              "<style scoped>\n",
              "    .dataframe tbody tr th:only-of-type {\n",
              "        vertical-align: middle;\n",
              "    }\n",
              "\n",
              "    .dataframe tbody tr th {\n",
              "        vertical-align: top;\n",
              "    }\n",
              "\n",
              "    .dataframe thead th {\n",
              "        text-align: right;\n",
              "    }\n",
              "</style>\n",
              "<table border=\"1\" class=\"dataframe\">\n",
              "  <thead>\n",
              "    <tr style=\"text-align: right;\">\n",
              "      <th></th>\n",
              "      <th>longitude</th>\n",
              "      <th>latitude</th>\n",
              "      <th>housing_median_age</th>\n",
              "      <th>total_rooms</th>\n",
              "      <th>total_bedrooms</th>\n",
              "      <th>population</th>\n",
              "      <th>households</th>\n",
              "      <th>median_income</th>\n",
              "      <th>median_house_value</th>\n",
              "      <th>ocean_proximity</th>\n",
              "      <th>&lt;1H OCEAN</th>\n",
              "      <th>INLAND</th>\n",
              "      <th>NEAR BAY</th>\n",
              "      <th>NEAR OCEAN</th>\n",
              "    </tr>\n",
              "  </thead>\n",
              "  <tbody>\n",
              "    <tr>\n",
              "      <th>0</th>\n",
              "      <td>-118.07</td>\n",
              "      <td>33.87</td>\n",
              "      <td>28.0</td>\n",
              "      <td>2399.0</td>\n",
              "      <td>436.0</td>\n",
              "      <td>1613.0</td>\n",
              "      <td>429.0</td>\n",
              "      <td>3.6339</td>\n",
              "      <td>220100.0</td>\n",
              "      <td>&lt;1H OCEAN</td>\n",
              "      <td>1</td>\n",
              "      <td>0</td>\n",
              "      <td>0</td>\n",
              "      <td>0</td>\n",
              "    </tr>\n",
              "    <tr>\n",
              "      <th>1</th>\n",
              "      <td>-118.26</td>\n",
              "      <td>34.02</td>\n",
              "      <td>40.0</td>\n",
              "      <td>1259.0</td>\n",
              "      <td>362.0</td>\n",
              "      <td>1499.0</td>\n",
              "      <td>327.0</td>\n",
              "      <td>1.8382</td>\n",
              "      <td>126400.0</td>\n",
              "      <td>&lt;1H OCEAN</td>\n",
              "      <td>1</td>\n",
              "      <td>0</td>\n",
              "      <td>0</td>\n",
              "      <td>0</td>\n",
              "    </tr>\n",
              "    <tr>\n",
              "      <th>2</th>\n",
              "      <td>-118.51</td>\n",
              "      <td>34.16</td>\n",
              "      <td>23.0</td>\n",
              "      <td>11154.0</td>\n",
              "      <td>1995.0</td>\n",
              "      <td>4076.0</td>\n",
              "      <td>1809.0</td>\n",
              "      <td>5.4609</td>\n",
              "      <td>500001.0</td>\n",
              "      <td>&lt;1H OCEAN</td>\n",
              "      <td>1</td>\n",
              "      <td>0</td>\n",
              "      <td>0</td>\n",
              "      <td>0</td>\n",
              "    </tr>\n",
              "    <tr>\n",
              "      <th>3</th>\n",
              "      <td>-120.04</td>\n",
              "      <td>36.95</td>\n",
              "      <td>36.0</td>\n",
              "      <td>1528.0</td>\n",
              "      <td>347.0</td>\n",
              "      <td>1334.0</td>\n",
              "      <td>304.0</td>\n",
              "      <td>1.3594</td>\n",
              "      <td>48300.0</td>\n",
              "      <td>INLAND</td>\n",
              "      <td>0</td>\n",
              "      <td>1</td>\n",
              "      <td>0</td>\n",
              "      <td>0</td>\n",
              "    </tr>\n",
              "    <tr>\n",
              "      <th>4</th>\n",
              "      <td>-117.91</td>\n",
              "      <td>33.65</td>\n",
              "      <td>24.0</td>\n",
              "      <td>1494.0</td>\n",
              "      <td>494.0</td>\n",
              "      <td>814.0</td>\n",
              "      <td>459.0</td>\n",
              "      <td>2.1074</td>\n",
              "      <td>181300.0</td>\n",
              "      <td>&lt;1H OCEAN</td>\n",
              "      <td>1</td>\n",
              "      <td>0</td>\n",
              "      <td>0</td>\n",
              "      <td>0</td>\n",
              "    </tr>\n",
              "  </tbody>\n",
              "</table>\n",
              "</div>\n",
              "      <button class=\"colab-df-convert\" onclick=\"convertToInteractive('df-b2c9597f-34de-4773-a36d-3e613dcb4f6b')\"\n",
              "              title=\"Convert this dataframe to an interactive table.\"\n",
              "              style=\"display:none;\">\n",
              "        \n",
              "  <svg xmlns=\"http://www.w3.org/2000/svg\" height=\"24px\"viewBox=\"0 0 24 24\"\n",
              "       width=\"24px\">\n",
              "    <path d=\"M0 0h24v24H0V0z\" fill=\"none\"/>\n",
              "    <path d=\"M18.56 5.44l.94 2.06.94-2.06 2.06-.94-2.06-.94-.94-2.06-.94 2.06-2.06.94zm-11 1L8.5 8.5l.94-2.06 2.06-.94-2.06-.94L8.5 2.5l-.94 2.06-2.06.94zm10 10l.94 2.06.94-2.06 2.06-.94-2.06-.94-.94-2.06-.94 2.06-2.06.94z\"/><path d=\"M17.41 7.96l-1.37-1.37c-.4-.4-.92-.59-1.43-.59-.52 0-1.04.2-1.43.59L10.3 9.45l-7.72 7.72c-.78.78-.78 2.05 0 2.83L4 21.41c.39.39.9.59 1.41.59.51 0 1.02-.2 1.41-.59l7.78-7.78 2.81-2.81c.8-.78.8-2.07 0-2.86zM5.41 20L4 18.59l7.72-7.72 1.47 1.35L5.41 20z\"/>\n",
              "  </svg>\n",
              "      </button>\n",
              "      \n",
              "  <style>\n",
              "    .colab-df-container {\n",
              "      display:flex;\n",
              "      flex-wrap:wrap;\n",
              "      gap: 12px;\n",
              "    }\n",
              "\n",
              "    .colab-df-convert {\n",
              "      background-color: #E8F0FE;\n",
              "      border: none;\n",
              "      border-radius: 50%;\n",
              "      cursor: pointer;\n",
              "      display: none;\n",
              "      fill: #1967D2;\n",
              "      height: 32px;\n",
              "      padding: 0 0 0 0;\n",
              "      width: 32px;\n",
              "    }\n",
              "\n",
              "    .colab-df-convert:hover {\n",
              "      background-color: #E2EBFA;\n",
              "      box-shadow: 0px 1px 2px rgba(60, 64, 67, 0.3), 0px 1px 3px 1px rgba(60, 64, 67, 0.15);\n",
              "      fill: #174EA6;\n",
              "    }\n",
              "\n",
              "    [theme=dark] .colab-df-convert {\n",
              "      background-color: #3B4455;\n",
              "      fill: #D2E3FC;\n",
              "    }\n",
              "\n",
              "    [theme=dark] .colab-df-convert:hover {\n",
              "      background-color: #434B5C;\n",
              "      box-shadow: 0px 1px 3px 1px rgba(0, 0, 0, 0.15);\n",
              "      filter: drop-shadow(0px 1px 2px rgba(0, 0, 0, 0.3));\n",
              "      fill: #FFFFFF;\n",
              "    }\n",
              "  </style>\n",
              "\n",
              "      <script>\n",
              "        const buttonEl =\n",
              "          document.querySelector('#df-b2c9597f-34de-4773-a36d-3e613dcb4f6b button.colab-df-convert');\n",
              "        buttonEl.style.display =\n",
              "          google.colab.kernel.accessAllowed ? 'block' : 'none';\n",
              "\n",
              "        async function convertToInteractive(key) {\n",
              "          const element = document.querySelector('#df-b2c9597f-34de-4773-a36d-3e613dcb4f6b');\n",
              "          const dataTable =\n",
              "            await google.colab.kernel.invokeFunction('convertToInteractive',\n",
              "                                                     [key], {});\n",
              "          if (!dataTable) return;\n",
              "\n",
              "          const docLinkHtml = 'Like what you see? Visit the ' +\n",
              "            '<a target=\"_blank\" href=https://colab.research.google.com/notebooks/data_table.ipynb>data table notebook</a>'\n",
              "            + ' to learn more about interactive tables.';\n",
              "          element.innerHTML = '';\n",
              "          dataTable['output_type'] = 'display_data';\n",
              "          await google.colab.output.renderOutput(dataTable, element);\n",
              "          const docLink = document.createElement('div');\n",
              "          docLink.innerHTML = docLinkHtml;\n",
              "          element.appendChild(docLink);\n",
              "        }\n",
              "      </script>\n",
              "    </div>\n",
              "  </div>\n",
              "  "
            ],
            "text/plain": [
              "   longitude  latitude  housing_median_age  ...  INLAND  NEAR BAY  NEAR OCEAN\n",
              "0    -118.07     33.87                28.0  ...       0         0           0\n",
              "1    -118.26     34.02                40.0  ...       0         0           0\n",
              "2    -118.51     34.16                23.0  ...       0         0           0\n",
              "3    -120.04     36.95                36.0  ...       1         0           0\n",
              "4    -117.91     33.65                24.0  ...       0         0           0\n",
              "\n",
              "[5 rows x 14 columns]"
            ]
          },
          "metadata": {},
          "execution_count": 88
        }
      ]
    },
    {
      "cell_type": "code",
      "source": [
        "# Make X_train_dummies using only dummies\n",
        "\n",
        "X_train_dummies = train_df.to_numpy()[:, -4:]\n",
        "X_train_dummies.shape"
      ],
      "metadata": {
        "colab": {
          "base_uri": "https://localhost:8080/"
        },
        "id": "KiW0hGMbAC4G",
        "outputId": "cd027036-0642-460a-f2d1-6c1ee8a5b036"
      },
      "execution_count": null,
      "outputs": [
        {
          "output_type": "execute_result",
          "data": {
            "text/plain": [
              "(17000, 4)"
            ]
          },
          "metadata": {},
          "execution_count": 89
        }
      ]
    },
    {
      "cell_type": "code",
      "source": [
        "# Make X_test_dummies using only dummies\n",
        "\n",
        "X_test_dummies = test_df.to_numpy()[:, -4:]\n",
        "X_test_dummies.shape"
      ],
      "metadata": {
        "colab": {
          "base_uri": "https://localhost:8080/"
        },
        "id": "_LTONzwLBCbX",
        "outputId": "0087ab12-c24b-4b44-d6fb-7b34af3e0dc9"
      },
      "execution_count": null,
      "outputs": [
        {
          "output_type": "execute_result",
          "data": {
            "text/plain": [
              "(3433, 4)"
            ]
          },
          "metadata": {},
          "execution_count": 90
        }
      ]
    },
    {
      "cell_type": "code",
      "source": [
        "# Check error of linear regression model using only dummies\n",
        "\n",
        "from sklearn.linear_model import LinearRegression\n",
        "\n",
        "linear_dummy = LinearRegression().fit(X_train_dummies, y_train)\n",
        "linear_dummy_test_predictions = linear_dummy.predict(X_test_dummies)\n",
        "mean_absolute_error(y_test, linear_dummy_test_predictions)"
      ],
      "metadata": {
        "colab": {
          "base_uri": "https://localhost:8080/"
        },
        "id": "9olPBx6KCdde",
        "outputId": "d932d3c7-d5ba-402f-be6a-82cd87f71426"
      },
      "execution_count": null,
      "outputs": [
        {
          "output_type": "execute_result",
          "data": {
            "text/plain": [
              "77095.02893348571"
            ]
          },
          "metadata": {},
          "execution_count": 91
        }
      ]
    },
    {
      "cell_type": "markdown",
      "source": [
        "#### 4. Binning (Grouping, Aggregating)"
      ],
      "metadata": {
        "id": "kOjfg790qlTn"
      }
    },
    {
      "cell_type": "code",
      "source": [
        "train_df['housing_median_age'].hist()"
      ],
      "metadata": {
        "colab": {
          "base_uri": "https://localhost:8080/",
          "height": 282
        },
        "id": "8E3jjzPWELrj",
        "outputId": "27ab61ba-519e-41da-e31e-c113afcc4b37"
      },
      "execution_count": null,
      "outputs": [
        {
          "output_type": "execute_result",
          "data": {
            "text/plain": [
              "<matplotlib.axes._subplots.AxesSubplot at 0x7f130a00e110>"
            ]
          },
          "metadata": {},
          "execution_count": 92
        },
        {
          "output_type": "display_data",
          "data": {
            "image/png": "[encoded data removed]",
            "text/plain": [
              "<Figure size 432x288 with 1 Axes>"
            ]
          },
          "metadata": {
            "needs_background": "light"
          }
        }
      ]
    },
    {
      "cell_type": "code",
      "source": [
        "# Add new binary column to training DataFrame where median_age < 30\n",
        "\n",
        "train_df['median_age_less_than_30'] = (train_df['housing_median_age'] < 30).astype(int)\n",
        "train_df.head()"
      ],
      "metadata": {
        "colab": {
          "base_uri": "https://localhost:8080/",
          "height": 288
        },
        "id": "5tBm1aOYKU9P",
        "outputId": "309a5d2f-ee02-4231-be63-a8ba87434d63"
      },
      "execution_count": null,
      "outputs": [
        {
          "output_type": "execute_result",
          "data": {
            "text/html": [
              "\n",
              "  <div id=\"df-2e574895-fe23-4f81-ab88-9f07caf4ef81\">\n",
              "    <div class=\"colab-df-container\">\n",
              "      <div>\n",
              "<style scoped>\n",
              "    .dataframe tbody tr th:only-of-type {\n",
              "        vertical-align: middle;\n",
              "    }\n",
              "\n",
              "    .dataframe tbody tr th {\n",
              "        vertical-align: top;\n",
              "    }\n",
              "\n",
              "    .dataframe thead th {\n",
              "        text-align: right;\n",
              "    }\n",
              "</style>\n",
              "<table border=\"1\" class=\"dataframe\">\n",
              "  <thead>\n",
              "    <tr style=\"text-align: right;\">\n",
              "      <th></th>\n",
              "      <th>longitude</th>\n",
              "      <th>latitude</th>\n",
              "      <th>housing_median_age</th>\n",
              "      <th>total_rooms</th>\n",
              "      <th>total_bedrooms</th>\n",
              "      <th>population</th>\n",
              "      <th>households</th>\n",
              "      <th>median_income</th>\n",
              "      <th>median_house_value</th>\n",
              "      <th>ocean_proximity</th>\n",
              "      <th>&lt;1H OCEAN</th>\n",
              "      <th>INLAND</th>\n",
              "      <th>NEAR BAY</th>\n",
              "      <th>NEAR OCEAN</th>\n",
              "      <th>median_age_less_than_30</th>\n",
              "    </tr>\n",
              "  </thead>\n",
              "  <tbody>\n",
              "    <tr>\n",
              "      <th>0</th>\n",
              "      <td>-122.16</td>\n",
              "      <td>37.76</td>\n",
              "      <td>36.0</td>\n",
              "      <td>2781.0</td>\n",
              "      <td>574.0</td>\n",
              "      <td>1438.0</td>\n",
              "      <td>519.0</td>\n",
              "      <td>2.4598</td>\n",
              "      <td>155500.0</td>\n",
              "      <td>NEAR BAY</td>\n",
              "      <td>0</td>\n",
              "      <td>0</td>\n",
              "      <td>1</td>\n",
              "      <td>0</td>\n",
              "      <td>0</td>\n",
              "    </tr>\n",
              "    <tr>\n",
              "      <th>1</th>\n",
              "      <td>-119.95</td>\n",
              "      <td>36.80</td>\n",
              "      <td>30.0</td>\n",
              "      <td>1233.0</td>\n",
              "      <td>214.0</td>\n",
              "      <td>620.0</td>\n",
              "      <td>199.0</td>\n",
              "      <td>3.4297</td>\n",
              "      <td>112500.0</td>\n",
              "      <td>INLAND</td>\n",
              "      <td>0</td>\n",
              "      <td>1</td>\n",
              "      <td>0</td>\n",
              "      <td>0</td>\n",
              "      <td>0</td>\n",
              "    </tr>\n",
              "    <tr>\n",
              "      <th>2</th>\n",
              "      <td>-118.49</td>\n",
              "      <td>34.42</td>\n",
              "      <td>23.0</td>\n",
              "      <td>4166.0</td>\n",
              "      <td>756.0</td>\n",
              "      <td>2082.0</td>\n",
              "      <td>743.0</td>\n",
              "      <td>4.4107</td>\n",
              "      <td>213400.0</td>\n",
              "      <td>&lt;1H OCEAN</td>\n",
              "      <td>1</td>\n",
              "      <td>0</td>\n",
              "      <td>0</td>\n",
              "      <td>0</td>\n",
              "      <td>1</td>\n",
              "    </tr>\n",
              "    <tr>\n",
              "      <th>3</th>\n",
              "      <td>-122.24</td>\n",
              "      <td>37.79</td>\n",
              "      <td>27.0</td>\n",
              "      <td>1632.0</td>\n",
              "      <td>492.0</td>\n",
              "      <td>1171.0</td>\n",
              "      <td>429.0</td>\n",
              "      <td>2.3173</td>\n",
              "      <td>125000.0</td>\n",
              "      <td>NEAR BAY</td>\n",
              "      <td>0</td>\n",
              "      <td>0</td>\n",
              "      <td>1</td>\n",
              "      <td>0</td>\n",
              "      <td>1</td>\n",
              "    </tr>\n",
              "    <tr>\n",
              "      <th>4</th>\n",
              "      <td>-121.45</td>\n",
              "      <td>36.86</td>\n",
              "      <td>11.0</td>\n",
              "      <td>1613.0</td>\n",
              "      <td>335.0</td>\n",
              "      <td>1617.0</td>\n",
              "      <td>342.0</td>\n",
              "      <td>3.1375</td>\n",
              "      <td>146200.0</td>\n",
              "      <td>INLAND</td>\n",
              "      <td>0</td>\n",
              "      <td>1</td>\n",
              "      <td>0</td>\n",
              "      <td>0</td>\n",
              "      <td>1</td>\n",
              "    </tr>\n",
              "  </tbody>\n",
              "</table>\n",
              "</div>\n",
              "      <button class=\"colab-df-convert\" onclick=\"convertToInteractive('df-2e574895-fe23-4f81-ab88-9f07caf4ef81')\"\n",
              "              title=\"Convert this dataframe to an interactive table.\"\n",
              "              style=\"display:none;\">\n",
              "        \n",
              "  <svg xmlns=\"http://www.w3.org/2000/svg\" height=\"24px\"viewBox=\"0 0 24 24\"\n",
              "       width=\"24px\">\n",
              "    <path d=\"M0 0h24v24H0V0z\" fill=\"none\"/>\n",
              "    <path d=\"M18.56 5.44l.94 2.06.94-2.06 2.06-.94-2.06-.94-.94-2.06-.94 2.06-2.06.94zm-11 1L8.5 8.5l.94-2.06 2.06-.94-2.06-.94L8.5 2.5l-.94 2.06-2.06.94zm10 10l.94 2.06.94-2.06 2.06-.94-2.06-.94-.94-2.06-.94 2.06-2.06.94z\"/><path d=\"M17.41 7.96l-1.37-1.37c-.4-.4-.92-.59-1.43-.59-.52 0-1.04.2-1.43.59L10.3 9.45l-7.72 7.72c-.78.78-.78 2.05 0 2.83L4 21.41c.39.39.9.59 1.41.59.51 0 1.02-.2 1.41-.59l7.78-7.78 2.81-2.81c.8-.78.8-2.07 0-2.86zM5.41 20L4 18.59l7.72-7.72 1.47 1.35L5.41 20z\"/>\n",
              "  </svg>\n",
              "      </button>\n",
              "      \n",
              "  <style>\n",
              "    .colab-df-container {\n",
              "      display:flex;\n",
              "      flex-wrap:wrap;\n",
              "      gap: 12px;\n",
              "    }\n",
              "\n",
              "    .colab-df-convert {\n",
              "      background-color: #E8F0FE;\n",
              "      border: none;\n",
              "      border-radius: 50%;\n",
              "      cursor: pointer;\n",
              "      display: none;\n",
              "      fill: #1967D2;\n",
              "      height: 32px;\n",
              "      padding: 0 0 0 0;\n",
              "      width: 32px;\n",
              "    }\n",
              "\n",
              "    .colab-df-convert:hover {\n",
              "      background-color: #E2EBFA;\n",
              "      box-shadow: 0px 1px 2px rgba(60, 64, 67, 0.3), 0px 1px 3px 1px rgba(60, 64, 67, 0.15);\n",
              "      fill: #174EA6;\n",
              "    }\n",
              "\n",
              "    [theme=dark] .colab-df-convert {\n",
              "      background-color: #3B4455;\n",
              "      fill: #D2E3FC;\n",
              "    }\n",
              "\n",
              "    [theme=dark] .colab-df-convert:hover {\n",
              "      background-color: #434B5C;\n",
              "      box-shadow: 0px 1px 3px 1px rgba(0, 0, 0, 0.15);\n",
              "      filter: drop-shadow(0px 1px 2px rgba(0, 0, 0, 0.3));\n",
              "      fill: #FFFFFF;\n",
              "    }\n",
              "  </style>\n",
              "\n",
              "      <script>\n",
              "        const buttonEl =\n",
              "          document.querySelector('#df-2e574895-fe23-4f81-ab88-9f07caf4ef81 button.colab-df-convert');\n",
              "        buttonEl.style.display =\n",
              "          google.colab.kernel.accessAllowed ? 'block' : 'none';\n",
              "\n",
              "        async function convertToInteractive(key) {\n",
              "          const element = document.querySelector('#df-2e574895-fe23-4f81-ab88-9f07caf4ef81');\n",
              "          const dataTable =\n",
              "            await google.colab.kernel.invokeFunction('convertToInteractive',\n",
              "                                                     [key], {});\n",
              "          if (!dataTable) return;\n",
              "\n",
              "          const docLinkHtml = 'Like what you see? Visit the ' +\n",
              "            '<a target=\"_blank\" href=https://colab.research.google.com/notebooks/data_table.ipynb>data table notebook</a>'\n",
              "            + ' to learn more about interactive tables.';\n",
              "          element.innerHTML = '';\n",
              "          dataTable['output_type'] = 'display_data';\n",
              "          await google.colab.output.renderOutput(dataTable, element);\n",
              "          const docLink = document.createElement('div');\n",
              "          docLink.innerHTML = docLinkHtml;\n",
              "          element.appendChild(docLink);\n",
              "        }\n",
              "      </script>\n",
              "    </div>\n",
              "  </div>\n",
              "  "
            ],
            "text/plain": [
              "   longitude  latitude  ...  NEAR OCEAN  median_age_less_than_30\n",
              "0    -122.16     37.76  ...           0                        0\n",
              "1    -119.95     36.80  ...           0                        0\n",
              "2    -118.49     34.42  ...           0                        1\n",
              "3    -122.24     37.79  ...           0                        1\n",
              "4    -121.45     36.86  ...           0                        1\n",
              "\n",
              "[5 rows x 15 columns]"
            ]
          },
          "metadata": {},
          "execution_count": 95
        }
      ]
    },
    {
      "cell_type": "code",
      "source": [
        "# Setup X_train_median_age which only uses the binary indicator\n",
        "\n",
        "X_train_median_age = train_df['median_age_less_than_30'].to_numpy().reshape(-1, 1)\n",
        "X_train_median_age.shape"
      ],
      "metadata": {
        "colab": {
          "base_uri": "https://localhost:8080/"
        },
        "id": "sw-f9YQssC0V",
        "outputId": "94060b44-de86-4182-a9ac-dce7f0a500f8"
      },
      "execution_count": null,
      "outputs": [
        {
          "output_type": "execute_result",
          "data": {
            "text/plain": [
              "(17000, 1)"
            ]
          },
          "metadata": {},
          "execution_count": 98
        }
      ]
    },
    {
      "cell_type": "code",
      "source": [
        "# Setup X_test_median_age which only uses the binary indicator\n",
        "\n",
        "test_df['median_age_less_than_30'] = (test_df['housing_median_age'] < 30).astype(int)\n",
        "X_test_median_age = test_df['median_age_less_than_30'].to_numpy().reshape(-1, 1)\n",
        "X_test_median_age.shape"
      ],
      "metadata": {
        "colab": {
          "base_uri": "https://localhost:8080/"
        },
        "id": "SsXR9WhJK0wh",
        "outputId": "5b6432a4-0556-406c-c448-b70d44f1db1f"
      },
      "execution_count": null,
      "outputs": [
        {
          "output_type": "execute_result",
          "data": {
            "text/plain": [
              "(3433, 1)"
            ]
          },
          "metadata": {},
          "execution_count": 97
        }
      ]
    },
    {
      "cell_type": "code",
      "source": [
        "# Check error of linear model that only uses the binary variable\n",
        "\n",
        "linear_median_age = LinearRegression().fit(X_train_median_age, y_train)\n",
        "linear_median_age_test_predictions = linear_median_age.predict(X_test_median_age)\n",
        "mean_absolute_error(y_test, linear_median_age_test_predictions)"
      ],
      "metadata": {
        "colab": {
          "base_uri": "https://localhost:8080/"
        },
        "id": "M_QQn42kLQWw",
        "outputId": "2dddf5b2-06c6-4e11-bd69-2289176e8935"
      },
      "execution_count": null,
      "outputs": [
        {
          "output_type": "execute_result",
          "data": {
            "text/plain": [
              "90794.78827572097"
            ]
          },
          "metadata": {},
          "execution_count": 99
        }
      ]
    },
    {
      "cell_type": "markdown",
      "source": [
        "#### 5. Clustering"
      ],
      "metadata": {
        "id": "KnqkRquQsrbS"
      }
    },
    {
      "cell_type": "code",
      "source": [
        "# Plot map of California!\n",
        "\n",
        "plt.scatter(train_df['longitude'], train_df['latitude'])"
      ],
      "metadata": {
        "colab": {
          "base_uri": "https://localhost:8080/",
          "height": 282
        },
        "id": "Dfa7LQCYLtiw",
        "outputId": "d8a2650a-6d63-45e4-c155-ce30c467764c"
      },
      "execution_count": null,
      "outputs": [
        {
          "output_type": "execute_result",
          "data": {
            "text/plain": [
              "<matplotlib.collections.PathCollection at 0x7f130a951b90>"
            ]
          },
          "metadata": {},
          "execution_count": 100
        },
        {
          "output_type": "display_data",
          "data": {
            "image/png": "[encoded data removed]",
            "text/plain": [
              "<Figure size 432x288 with 1 Axes>"
            ]
          },
          "metadata": {
            "needs_background": "light"
          }
        }
      ]
    },
    {
      "cell_type": "code",
      "source": [
        "# Make KMeans model from Longitude & Latitude and get clusters\n",
        "\n",
        "from sklearn.cluster import KMeans\n",
        "\n",
        "X_train_lat_long = train_df[['longitude', 'latitude']].to_numpy()\n",
        "kmeans = KMeans(n_clusters=7).fit(X_train_lat_long)\n",
        "kmeans.labels_"
      ],
      "metadata": {
        "colab": {
          "base_uri": "https://localhost:8080/"
        },
        "id": "7SOUZKiTV1FJ",
        "outputId": "8589b2dd-c6c3-43a9-b9b6-1617da98e23b"
      },
      "execution_count": null,
      "outputs": [
        {
          "output_type": "execute_result",
          "data": {
            "text/plain": [
              "array([1, 3, 0, ..., 5, 0, 0], dtype=int32)"
            ]
          },
          "metadata": {},
          "execution_count": 107
        }
      ]
    },
    {
      "cell_type": "code",
      "source": [
        "# Plot colored map of California\n",
        "\n",
        "import plotly.express as px\n",
        "\n",
        "px.scatter(x=train_df['longitude'], y=train_df['latitude'], color=kmeans.labels_)"
      ],
      "metadata": {
        "colab": {
          "base_uri": "https://localhost:8080/",
          "height": 542
        },
        "id": "CXheTYlpYyd9",
        "outputId": "0623b5c9-856f-4e7f-d96f-18556c6beb52"
      },
      "execution_count": null,
      "outputs": [
        {
          "output_type": "display_data",
          "data": {
            "text/html": [
              "<html>\n",
              "<head><meta charset=\"utf-8\" /></head>\n",
              "<body>\n",
              "    <div>\n",
              "            <script src=\"https://cdnjs.cloudflare.com/ajax/libs/mathjax/2.7.5/MathJax.js?config=TeX-AMS-MML_SVG\"></script><script type=\"text/javascript\">if (window.MathJax) {MathJax.Hub.Config({SVG: {font: \"STIX-Web\"}});}</script>\n",
              "                <script type=\"text/javascript\">window.PlotlyConfig = {MathJaxConfig: 'local'};</script>\n",
              "        <script src=\"https://cdn.plot.ly/plotly-latest.min.js\"></script>    \n",
              "            <div id=\"81d9d08d-bd1c-493e-ae1b-2219f76b8b99\" class=\"plotly-graph-div\" style=\"height:525px; width:100%;\"></div>\n",
              "            <script type=\"text/javascript\">\n",
              "                \n",
              "                    window.PLOTLYENV=window.PLOTLYENV || {};\n",
              "                    \n",
              "                if (document.getElementById(\"81d9d08d-bd1c-493e-ae1b-2219f76b8b99\")) {\n",
              "                    Plotly.newPlot(\n",
              "                        '81d9d08d-bd1c-493e-ae1b-2219f76b8b99',\n",
              "                        [{\"hoverlabel\": {\"namelength\": 0}, \"hovertemplate\": \"x=%{x}<br>y=%{y}<br>color=%{marker.color}\", \"legendgroup\": \"\", \"marker\": {\"color\": [1, 3, 0, 1, 1, 2, 5, 0, 5, 5, 1, 1, 3, 5, 0, 0, 1, 1, 4, 0, 4, 6, 0, 0, 0, 4, 0, 0, 0, 1, 6, 0, 1, 1, 5, 5, 0, 1, 1, 5, 3, 0, 1, 0, 1, 0, 0, 0, 6, 0, 6, 1, 0, 0, 0, 5, 0, 1, 0, 4, 0, 0, 0, 0, 0, 1, 0, 6, 6, 1, 5, 1, 1, 0, 0, 3, 0, 5, 1, 0, 5, 0, 0, 6, 1, 0, 4, 6, 4, 1, 1, 5, 5, 1, 5, 0, 5, 0, 5, 0, 5, 5, 0, 6, 6, 1, 0, 0, 0, 0, 6, 3, 3, 1, 6, 6, 0, 1, 2, 0, 2, 1, 0, 0, 4, 1, 6, 1, 6, 2, 1, 1, 0, 1, 1, 1, 5, 0, 1, 4, 1, 0, 0, 0, 6, 5, 0, 1, 0, 0, 0, 1, 6, 0, 0, 0, 1, 1, 2, 0, 1, 5, 0, 0, 1, 0, 0, 1, 1, 0, 2, 5, 5, 4, 0, 5, 0, 4, 6, 2, 1, 0, 3, 5, 1, 0, 6, 5, 4, 1, 0, 5, 6, 0, 5, 5, 6, 5, 0, 0, 1, 6, 0, 0, 3, 2, 0, 5, 5, 1, 6, 0, 6, 0, 1, 0, 0, 6, 0, 5, 0, 6, 3, 0, 0, 5, 1, 0, 5, 1, 0, 3, 5, 6, 0, 1, 0, 6, 0, 2, 0, 0, 1, 0, 1, 0, 1, 0, 0, 0, 1, 0, 1, 0, 0, 5, 6, 1, 0, 1, 1, 0, 0, 1, 1, 0, 5, 1, 0, 0, 5, 1, 1, 0, 0, 1, 0, 1, 0, 0, 1, 5, 5, 0, 4, 2, 0, 2, 1, 1, 2, 3, 0, 5, 0, 0, 1, 0, 3, 6, 5, 1, 0, 0, 0, 0, 6, 1, 6, 6, 1, 1, 0, 1, 0, 0, 1, 0, 0, 0, 1, 6, 0, 6, 5, 1, 6, 6, 0, 2, 5, 0, 1, 3, 5, 0, 2, 0, 5, 5, 3, 5, 1, 6, 0, 5, 0, 0, 0, 1, 6, 0, 0, 0, 5, 5, 0, 5, 6, 4, 0, 6, 0, 0, 6, 0, 1, 0, 3, 0, 1, 0, 0, 1, 0, 6, 3, 0, 1, 1, 6, 0, 0, 6, 2, 0, 4, 3, 5, 5, 0, 1, 0, 6, 5, 1, 0, 1, 0, 1, 5, 6, 1, 0, 2, 5, 0, 0, 1, 0, 1, 0, 0, 0, 1, 0, 3, 1, 0, 0, 1, 0, 6, 0, 1, 0, 1, 5, 0, 0, 5, 5, 3, 0, 6, 6, 6, 1, 2, 0, 0, 1, 5, 0, 3, 5, 0, 2, 1, 1, 1, 6, 2, 4, 2, 5, 1, 1, 0, 5, 5, 0, 0, 6, 1, 1, 1, 1, 6, 1, 0, 2, 2, 0, 1, 0, 6, 0, 1, 0, 1, 5, 1, 0, 0, 0, 2, 2, 0, 1, 1, 1, 0, 1, 5, 0, 5, 0, 3, 5, 1, 6, 5, 0, 6, 0, 0, 1, 5, 1, 1, 3, 0, 0, 0, 1, 0, 1, 3, 2, 5, 1, 6, 1, 6, 5, 0, 0, 0, 0, 1, 0, 5, 1, 0, 1, 6, 1, 4, 6, 0, 0, 6, 1, 6, 3, 0, 3, 5, 0, 1, 3, 0, 0, 1, 1, 0, 0, 1, 5, 1, 0, 5, 5, 1, 2, 0, 0, 1, 1, 5, 1, 5, 0, 1, 4, 3, 2, 6, 0, 6, 0, 5, 5, 0, 0, 0, 1, 6, 6, 0, 0, 1, 5, 0, 0, 0, 0, 1, 0, 2, 1, 0, 0, 6, 0, 0, 0, 3, 0, 0, 0, 4, 3, 0, 1, 0, 1, 0, 0, 3, 0, 0, 0, 5, 1, 1, 6, 0, 1, 0, 0, 6, 5, 1, 0, 0, 0, 1, 2, 0, 0, 0, 3, 0, 1, 6, 1, 1, 0, 0, 4, 0, 5, 0, 0, 1, 0, 6, 4, 3, 3, 0, 3, 0, 0, 0, 0, 1, 3, 3, 0, 4, 3, 1, 1, 0, 3, 6, 0, 0, 6, 0, 1, 1, 1, 0, 0, 0, 1, 5, 0, 3, 3, 6, 0, 1, 1, 0, 0, 0, 0, 0, 6, 1, 2, 0, 6, 0, 2, 0, 5, 5, 3, 3, 0, 0, 1, 2, 1, 5, 0, 1, 1, 6, 1, 1, 4, 0, 0, 3, 1, 6, 0, 4, 0, 1, 1, 0, 3, 3, 6, 5, 1, 1, 1, 1, 0, 0, 1, 0, 0, 0, 5, 0, 1, 0, 5, 0, 6, 5, 1, 5, 0, 0, 0, 1, 5, 0, 0, 2, 0, 5, 1, 5, 1, 6, 5, 0, 1, 0, 3, 6, 3, 0, 0, 1, 1, 6, 0, 1, 1, 1, 3, 2, 1, 0, 0, 2, 3, 0, 6, 0, 1, 0, 6, 3, 0, 0, 2, 6, 5, 0, 2, 0, 0, 5, 1, 5, 5, 0, 0, 5, 0, 0, 3, 1, 4, 5, 0, 2, 6, 4, 0, 0, 1, 5, 0, 1, 0, 0, 0, 5, 1, 1, 0, 1, 0, 0, 0, 0, 1, 0, 5, 6, 6, 0, 1, 0, 0, 6, 1, 3, 1, 0, 0, 5, 0, 0, 1, 0, 0, 0, 0, 3, 1, 3, 0, 6, 2, 5, 4, 4, 0, 0, 6, 1, 0, 1, 0, 0, 4, 0, 0, 1, 3, 6, 1, 0, 1, 3, 0, 0, 6, 0, 0, 0, 0, 6, 0, 0, 6, 0, 0, 1, 4, 0, 1, 4, 0, 0, 5, 5, 0, 3, 1, 0, 0, 3, 0, 0, 1, 2, 1, 0, 0, 4, 0, 1, 5, 5, 1, 1, 1, 1, 3, 6, 0, 0, 0, 6, 0, 3, 1, 5, 0, 0, 6, 5, 0, 2, 0, 0, 0, 1, 0, 6, 0, 1, 1, 2, 0, 3, 0, 0, 5, 2, 0, 0, 5, 6, 4, 1, 6, 0, 1, 1, 1, 0, 0, 1, 1, 6, 1, 6, 3, 0, 0, 5, 0, 1, 4, 2, 0, 6, 1, 1, 6, 0, 6, 0, 0, 0, 6, 6, 6, 6, 0, 0, 6, 1, 0, 1, 0, 1, 5, 4, 0, 5, 6, 4, 0, 6, 0, 1, 0, 5, 0, 1, 1, 0, 1, 5, 1, 2, 1, 3, 5, 0, 6, 1, 5, 0, 0, 0, 0, 0, 1, 0, 0, 0, 0, 0, 1, 4, 4, 1, 1, 0, 6, 5, 0, 0, 6, 0, 1, 5, 5, 0, 0, 1, 1, 1, 3, 6, 0, 2, 1, 1, 1, 6, 5, 1, 5, 0, 0, 6, 3, 6, 0, 0, 6, 2, 0, 1, 5, 6, 1, 0, 0, 0, 0, 2, 3, 5, 5, 0, 0, 2, 1, 0, 5, 0, 1, 3, 0, 6, 0, 2, 3, 0, 0, 2, 0, 6, 2, 6, 0, 0, 0, 0, 0, 0, 2, 0, 0, 3, 0, 0, 5, 3, 0, 0, 1, 1, 6, 0, 1, 0, 0, 2, 0, 0, 1, 1, 5, 0, 0, 5, 2, 0, 6, 1, 5, 2, 0, 1, 0, 1, 0, 5, 3, 0, 0, 1, 1, 0, 0, 6, 0, 6, 6, 5, 0, 5, 1, 6, 0, 0, 2, 0, 4, 6, 5, 1, 0, 1, 0, 1, 0, 1, 0, 2, 5, 0, 6, 2, 1, 5, 1, 3, 1, 5, 5, 5, 0, 0, 1, 1, 2, 3, 5, 0, 1, 2, 1, 0, 2, 0, 0, 6, 0, 0, 0, 6, 5, 0, 5, 0, 0, 0, 1, 1, 6, 0, 5, 6, 6, 0, 0, 5, 1, 0, 1, 0, 0, 0, 4, 0, 4, 1, 0, 6, 2, 0, 1, 1, 5, 0, 1, 1, 0, 2, 1, 4, 6, 0, 0, 2, 0, 0, 1, 0, 1, 0, 6, 0, 0, 6, 0, 0, 0, 0, 0, 0, 0, 6, 0, 0, 0, 0, 0, 0, 5, 0, 2, 0, 3, 0, 5, 4, 6, 0, 5, 4, 3, 0, 1, 1, 6, 1, 3, 4, 3, 1, 6, 0, 0, 1, 6, 0, 1, 3, 0, 0, 0, 1, 5, 0, 0, 0, 6, 0, 0, 0, 6, 1, 1, 2, 1, 0, 1, 1, 3, 2, 4, 2, 0, 1, 0, 1, 5, 0, 4, 0, 5, 1, 0, 0, 0, 6, 0, 6, 6, 0, 1, 0, 1, 1, 1, 0, 6, 5, 2, 1, 0, 0, 1, 5, 6, 5, 4, 5, 0, 0, 6, 0, 3, 1, 1, 0, 0, 0, 6, 1, 3, 5, 0, 0, 5, 0, 2, 1, 6, 3, 1, 4, 0, 1, 1, 3, 0, 6, 0, 4, 5, 0, 3, 2, 1, 1, 4, 1, 2, 1, 5, 0, 5, 0, 0, 3, 0, 2, 0, 2, 0, 1, 4, 0, 0, 5, 0, 0, 0, 6, 0, 1, 0, 0, 5, 0, 0, 4, 1, 1, 1, 3, 6, 0, 1, 0, 1, 0, 5, 0, 0, 0, 1, 1, 1, 0, 6, 0, 1, 5, 1, 0, 0, 1, 1, 5, 1, 1, 1, 1, 5, 1, 0, 5, 6, 1, 0, 4, 4, 6, 1, 5, 2, 2, 0, 1, 1, 0, 3, 4, 5, 4, 1, 0, 1, 0, 5, 0, 0, 1, 1, 0, 1, 6, 6, 6, 0, 1, 1, 2, 6, 1, 1, 0, 0, 1, 2, 1, 0, 3, 0, 6, 0, 1, 0, 0, 0, 1, 0, 1, 0, 1, 1, 1, 6, 1, 5, 0, 0, 0, 0, 1, 1, 0, 2, 0, 0, 0, 3, 6, 0, 2, 4, 6, 0, 1, 0, 0, 0, 0, 0, 0, 0, 5, 2, 6, 1, 0, 1, 6, 5, 6, 0, 3, 1, 1, 6, 1, 0, 1, 0, 0, 6, 5, 0, 0, 5, 5, 5, 1, 6, 6, 0, 0, 0, 0, 0, 6, 5, 1, 1, 1, 1, 0, 5, 1, 0, 0, 0, 1, 1, 0, 0, 0, 5, 5, 1, 0, 1, 1, 0, 0, 0, 5, 5, 2, 1, 5, 1, 5, 0, 0, 0, 0, 0, 5, 0, 1, 2, 1, 1, 0, 0, 1, 4, 3, 1, 1, 0, 0, 4, 6, 0, 4, 0, 0, 0, 5, 5, 1, 0, 5, 1, 0, 3, 4, 0, 0, 1, 0, 1, 0, 0, 0, 1, 5, 1, 5, 5, 5, 0, 5, 0, 0, 1, 0, 0, 0, 5, 0, 6, 1, 1, 0, 3, 0, 0, 0, 0, 5, 1, 1, 0, 1, 0, 4, 0, 0, 0, 1, 0, 1, 0, 0, 1, 1, 0, 1, 0, 0, 0, 2, 6, 0, 6, 1, 0, 0, 0, 0, 0, 6, 1, 1, 0, 0, 5, 6, 0, 0, 0, 0, 6, 6, 0, 0, 5, 1, 3, 1, 6, 0, 1, 4, 0, 0, 1, 0, 5, 2, 0, 0, 1, 1, 5, 1, 1, 0, 0, 0, 1, 1, 0, 0, 6, 1, 0, 0, 1, 1, 0, 1, 1, 1, 0, 6, 0, 1, 0, 1, 3, 0, 3, 2, 6, 0, 0, 5, 0, 0, 5, 6, 0, 0, 5, 0, 1, 1, 0, 2, 2, 0, 0, 0, 1, 5, 0, 6, 0, 1, 0, 5, 6, 5, 5, 0, 0, 0, 0, 1, 1, 1, 0, 5, 0, 1, 6, 1, 3, 3, 0, 3, 1, 1, 1, 0, 5, 6, 3, 0, 1, 1, 0, 6, 0, 6, 1, 0, 1, 0, 5, 2, 5, 1, 2, 0, 0, 1, 1, 3, 6, 0, 0, 6, 1, 0, 0, 1, 1, 0, 3, 0, 0, 0, 0, 0, 2, 0, 0, 1, 6, 3, 1, 0, 1, 5, 5, 0, 0, 0, 0, 6, 6, 0, 0, 1, 0, 2, 0, 1, 5, 1, 6, 0, 1, 0, 0, 0, 4, 0, 5, 5, 0, 2, 6, 5, 4, 0, 0, 0, 0, 5, 6, 4, 0, 0, 0, 5, 0, 0, 0, 1, 4, 0, 0, 1, 0, 0, 0, 0, 0, 5, 6, 0, 5, 1, 0, 0, 0, 1, 2, 1, 6, 0, 5, 0, 6, 6, 1, 4, 0, 0, 0, 0, 5, 0, 0, 3, 1, 0, 5, 0, 0, 0, 0, 1, 0, 0, 6, 5, 1, 3, 2, 0, 1, 3, 6, 4, 1, 3, 0, 0, 0, 1, 0, 1, 6, 0, 5, 0, 0, 5, 2, 5, 6, 0, 0, 0, 1, 0, 0, 5, 6, 6, 3, 6, 1, 6, 1, 1, 1, 1, 0, 1, 1, 1, 1, 0, 2, 1, 6, 1, 1, 3, 5, 0, 5, 3, 5, 5, 0, 0, 3, 1, 0, 1, 1, 6, 1, 1, 0, 3, 0, 6, 0, 1, 3, 3, 1, 6, 0, 0, 0, 0, 0, 0, 5, 1, 1, 1, 0, 1, 4, 1, 0, 1, 6, 0, 0, 0, 3, 0, 0, 0, 6, 6, 6, 1, 0, 0, 5, 1, 2, 6, 5, 1, 0, 0, 1, 1, 0, 0, 1, 5, 6, 1, 1, 0, 1, 0, 5, 5, 0, 0, 0, 3, 1, 5, 5, 5, 6, 0, 6, 0, 0, 0, 0, 0, 1, 5, 1, 0, 0, 2, 0, 1, 2, 0, 0, 0, 3, 0, 0, 1, 3, 5, 0, 1, 6, 0, 1, 0, 3, 0, 0, 0, 4, 2, 0, 0, 5, 0, 2, 0, 1, 0, 1, 1, 0, 5, 0, 0, 1, 3, 0, 2, 0, 2, 5, 0, 6, 0, 0, 0, 0, 6, 5, 0, 0, 5, 1, 0, 0, 6, 0, 0, 0, 0, 0, 0, 1, 1, 0, 1, 1, 0, 0, 0, 0, 3, 0, 0, 0, 0, 0, 4, 5, 1, 1, 6, 2, 1, 0, 4, 1, 0, 0, 0, 1, 0, 3, 0, 6, 3, 1, 1, 0, 0, 0, 0, 0, 0, 0, 0, 5, 6, 1, 6, 0, 0, 5, 0, 1, 0, 3, 0, 0, 5, 0, 6, 5, 1, 0, 5, 5, 0, 1, 0, 2, 0, 1, 0, 6, 6, 5, 0, 1, 0, 0, 0, 1, 0, 1, 1, 0, 6, 0, 6, 6, 1, 3, 1, 0, 0, 5, 0, 0, 0, 0, 6, 0, 6, 1, 1, 6, 5, 6, 3, 0, 1, 5, 6, 1, 5, 5, 0, 0, 0, 0, 1, 1, 5, 0, 6, 0, 0, 0, 2, 1, 0, 1, 2, 1, 3, 1, 2, 0, 0, 3, 6, 6, 0, 3, 1, 1, 0, 3, 1, 5, 0, 3, 4, 0, 3, 0, 1, 3, 2, 1, 1, 6, 1, 0, 0, 3, 1, 0, 0, 0, 5, 0, 1, 1, 0, 4, 0, 1, 0, 0, 6, 2, 1, 6, 0, 0, 1, 0, 0, 0, 0, 0, 2, 0, 0, 3, 1, 1, 5, 1, 4, 1, 3, 0, 2, 2, 2, 6, 0, 6, 0, 6, 1, 0, 5, 0, 0, 0, 1, 5, 0, 4, 6, 0, 1, 0, 5, 6, 3, 5, 4, 0, 0, 0, 0, 0, 1, 0, 0, 4, 6, 0, 5, 0, 0, 6, 6, 6, 0, 0, 1, 0, 0, 1, 0, 0, 0, 1, 1, 0, 3, 0, 6, 0, 5, 3, 1, 0, 1, 0, 1, 3, 5, 1, 0, 0, 0, 0, 0, 3, 1, 0, 1, 1, 6, 0, 1, 0, 0, 5, 2, 0, 0, 6, 4, 0, 0, 1, 0, 6, 0, 1, 1, 0, 3, 6, 2, 1, 5, 5, 0, 6, 0, 1, 5, 5, 0, 1, 2, 0, 5, 1, 2, 0, 0, 1, 0, 0, 0, 3, 5, 0, 0, 0, 0, 1, 0, 0, 0, 1, 0, 6, 0, 0, 5, 1, 0, 5, 0, 0, 0, 1, 1, 3, 6, 6, 5, 1, 0, 0, 1, 0, 2, 0, 5, 1, 2, 1, 5, 6, 0, 5, 0, 0, 0, 2, 0, 0, 0, 0, 0, 1, 0, 0, 6, 2, 0, 5, 1, 0, 1, 1, 0, 0, 5, 0, 5, 1, 4, 0, 0, 6, 1, 1, 4, 1, 0, 0, 1, 0, 0, 0, 5, 5, 0, 0, 0, 6, 1, 1, 0, 0, 0, 3, 1, 0, 0, 0, 4, 4, 0, 0, 6, 0, 6, 3, 0, 2, 1, 1, 5, 0, 0, 3, 0, 2, 0, 0, 1, 3, 0, 1, 0, 1, 0, 0, 0, 1, 0, 1, 3, 1, 1, 2, 6, 0, 1, 0, 0, 0, 5, 5, 0, 0, 0, 6, 2, 1, 5, 0, 5, 0, 0, 0, 2, 0, 0, 6, 0, 0, 1, 6, 6, 1, 6, 0, 0, 6, 1, 0, 0, 3, 0, 1, 5, 0, 5, 5, 6, 0, 6, 0, 1, 6, 3, 0, 0, 0, 0, 5, 6, 2, 0, 0, 0, 2, 0, 0, 5, 0, 0, 5, 1, 6, 3, 0, 0, 6, 0, 1, 1, 0, 6, 6, 6, 1, 1, 6, 0, 1, 0, 1, 0, 1, 2, 0, 5, 0, 1, 1, 0, 3, 1, 3, 0, 5, 0, 0, 0, 1, 0, 0, 0, 5, 1, 1, 1, 4, 6, 4, 1, 0, 0, 0, 0, 6, 0, 0, 1, 0, 0, 6, 1, 1, 0, 3, 1, 5, 6, 1, 5, 0, 0, 0, 5, 0, 0, 0, 0, 1, 6, 6, 1, 1, 1, 5, 1, 0, 0, 5, 0, 0, 1, 0, 1, 6, 0, 0, 0, 0, 5, 0, 0, 0, 6, 0, 1, 2, 0, 1, 0, 2, 2, 1, 1, 0, 0, 1, 0, 0, 0, 4, 1, 1, 0, 1, 0, 5, 0, 5, 5, 5, 0, 0, 6, 0, 0, 0, 1, 0, 1, 6, 0, 1, 0, 5, 0, 2, 0, 1, 0, 1, 1, 2, 0, 5, 0, 5, 5, 0, 0, 1, 3, 0, 6, 0, 0, 0, 4, 1, 1, 1, 0, 1, 0, 1, 1, 1, 1, 6, 0, 0, 2, 1, 0, 0, 5, 6, 2, 6, 1, 1, 6, 6, 0, 1, 6, 0, 6, 6, 1, 1, 0, 2, 0, 5, 6, 6, 3, 6, 1, 5, 0, 4, 0, 1, 1, 5, 5, 0, 6, 0, 0, 0, 5, 0, 6, 3, 6, 2, 6, 0, 0, 0, 6, 1, 0, 0, 1, 1, 6, 1, 1, 5, 5, 0, 1, 1, 3, 1, 0, 1, 0, 1, 1, 1, 1, 1, 0, 0, 0, 6, 3, 0, 0, 0, 1, 0, 0, 0, 2, 0, 0, 1, 0, 4, 0, 0, 5, 0, 1, 0, 5, 0, 4, 1, 2, 6, 0, 5, 0, 0, 6, 0, 1, 5, 2, 0, 2, 5, 0, 1, 3, 6, 4, 0, 0, 3, 3, 0, 1, 3, 1, 1, 2, 1, 1, 1, 0, 0, 1, 1, 5, 3, 0, 0, 0, 0, 0, 1, 4, 1, 0, 1, 0, 1, 0, 0, 0, 1, 4, 6, 0, 5, 6, 6, 6, 0, 0, 6, 0, 0, 5, 3, 1, 0, 1, 0, 3, 2, 0, 1, 0, 3, 0, 3, 1, 5, 5, 1, 1, 0, 1, 5, 1, 5, 3, 1, 3, 0, 6, 0, 2, 6, 6, 5, 5, 5, 0, 0, 6, 0, 1, 0, 5, 0, 6, 2, 4, 6, 6, 0, 1, 0, 6, 5, 4, 6, 6, 0, 0, 0, 0, 5, 1, 1, 1, 1, 5, 2, 1, 3, 1, 0, 0, 3, 0, 2, 1, 0, 1, 2, 1, 4, 1, 6, 0, 1, 6, 6, 2, 5, 2, 0, 0, 0, 0, 0, 1, 6, 6, 4, 1, 1, 4, 1, 0, 1, 5, 2, 0, 0, 0, 5, 0, 1, 4, 1, 6, 1, 6, 5, 1, 5, 0, 1, 0, 1, 0, 2, 0, 1, 0, 0, 2, 0, 0, 5, 1, 0, 0, 0, 6, 0, 1, 0, 1, 6, 0, 0, 0, 2, 0, 0, 0, 0, 6, 0, 1, 5, 0, 0, 3, 0, 5, 5, 0, 0, 1, 1, 1, 0, 2, 3, 1, 0, 1, 2, 2, 4, 0, 0, 6, 5, 0, 1, 0, 5, 1, 0, 6, 5, 0, 0, 1, 2, 0, 6, 1, 1, 5, 5, 1, 1, 0, 0, 5, 3, 1, 0, 1, 0, 4, 0, 1, 1, 6, 5, 6, 4, 5, 5, 0, 5, 5, 1, 0, 0, 1, 0, 3, 0, 0, 1, 0, 1, 1, 0, 5, 1, 0, 6, 3, 0, 0, 0, 0, 3, 5, 1, 1, 2, 0, 4, 0, 1, 4, 5, 6, 0, 1, 4, 1, 0, 0, 1, 0, 1, 0, 1, 1, 2, 1, 5, 1, 6, 1, 0, 6, 0, 1, 6, 1, 3, 0, 1, 0, 5, 1, 0, 1, 6, 0, 0, 2, 6, 0, 1, 5, 0, 3, 6, 6, 5, 1, 0, 6, 0, 5, 1, 0, 0, 0, 0, 2, 2, 0, 6, 6, 0, 6, 1, 0, 1, 0, 1, 0, 1, 1, 5, 6, 2, 6, 5, 0, 0, 0, 5, 0, 0, 5, 5, 0, 5, 0, 2, 5, 3, 0, 0, 3, 1, 0, 5, 1, 5, 0, 0, 0, 1, 6, 0, 1, 5, 1, 5, 0, 5, 1, 1, 2, 1, 0, 1, 5, 2, 0, 0, 0, 0, 2, 1, 3, 5, 1, 5, 0, 5, 0, 1, 0, 5, 1, 0, 6, 0, 5, 1, 1, 1, 1, 0, 1, 6, 1, 6, 4, 1, 1, 4, 5, 1, 5, 2, 5, 0, 0, 0, 2, 0, 1, 3, 5, 1, 1, 0, 6, 5, 0, 0, 3, 6, 0, 0, 3, 5, 5, 1, 0, 1, 1, 1, 0, 1, 1, 6, 0, 4, 0, 4, 1, 3, 5, 0, 1, 1, 0, 1, 6, 6, 4, 0, 6, 1, 0, 5, 0, 5, 5, 0, 0, 6, 0, 2, 1, 0, 0, 4, 0, 1, 1, 1, 0, 5, 1, 1, 6, 5, 1, 0, 1, 6, 3, 1, 6, 6, 5, 0, 1, 5, 1, 0, 6, 0, 0, 6, 0, 1, 0, 0, 0, 1, 1, 0, 1, 2, 0, 2, 1, 0, 6, 6, 0, 1, 5, 5, 2, 1, 1, 0, 1, 0, 2, 1, 0, 0, 6, 1, 0, 0, 0, 5, 0, 1, 3, 2, 0, 6, 1, 3, 5, 1, 2, 4, 0, 0, 0, 1, 0, 4, 1, 6, 0, 1, 1, 6, 0, 0, 0, 5, 1, 1, 1, 0, 5, 6, 0, 0, 0, 4, 1, 2, 6, 1, 5, 0, 0, 0, 6, 6, 0, 1, 2, 5, 0, 0, 3, 6, 6, 0, 0, 0, 0, 0, 0, 1, 5, 0, 1, 0, 1, 0, 2, 1, 0, 2, 0, 6, 3, 0, 3, 6, 0, 1, 6, 6, 0, 5, 1, 1, 1, 1, 5, 1, 0, 6, 0, 4, 1, 5, 5, 0, 1, 1, 0, 0, 2, 2, 0, 1, 1, 4, 0, 0, 0, 4, 1, 0, 5, 0, 0, 1, 5, 0, 0, 5, 0, 1, 3, 6, 0, 0, 1, 0, 5, 5, 6, 6, 1, 0, 2, 0, 6, 1, 2, 1, 0, 1, 1, 6, 0, 0, 1, 4, 6, 1, 0, 1, 0, 5, 6, 1, 1, 1, 0, 2, 4, 3, 4, 3, 0, 0, 1, 0, 5, 6, 0, 2, 5, 3, 0, 0, 0, 0, 3, 1, 1, 6, 6, 5, 0, 6, 0, 0, 1, 2, 4, 1, 1, 5, 0, 0, 0, 0, 0, 0, 3, 0, 5, 2, 4, 2, 5, 0, 5, 5, 0, 2, 6, 0, 0, 0, 2, 3, 1, 5, 1, 0, 1, 5, 4, 0, 2, 0, 2, 1, 1, 5, 0, 0, 6, 0, 1, 0, 0, 1, 0, 1, 0, 0, 0, 4, 1, 0, 0, 1, 5, 2, 3, 0, 2, 1, 2, 5, 5, 0, 0, 0, 0, 0, 0, 0, 1, 6, 0, 0, 0, 0, 5, 6, 0, 6, 0, 0, 0, 3, 0, 6, 4, 0, 0, 4, 0, 0, 2, 0, 5, 5, 0, 5, 0, 6, 0, 1, 0, 6, 0, 1, 0, 0, 0, 3, 0, 1, 0, 5, 4, 0, 6, 0, 0, 1, 3, 5, 4, 1, 5, 1, 0, 6, 0, 0, 3, 4, 6, 0, 5, 0, 1, 0, 0, 0, 2, 3, 0, 6, 0, 1, 0, 0, 1, 1, 6, 5, 0, 5, 3, 1, 5, 1, 1, 2, 6, 0, 1, 2, 0, 2, 0, 5, 0, 0, 0, 0, 3, 1, 0, 0, 0, 1, 0, 0, 0, 0, 1, 0, 4, 1, 1, 0, 5, 0, 0, 2, 1, 0, 3, 6, 6, 1, 0, 1, 4, 0, 2, 0, 0, 5, 6, 0, 0, 1, 0, 1, 4, 4, 1, 0, 0, 6, 0, 4, 1, 4, 0, 0, 0, 5, 0, 4, 4, 5, 0, 5, 6, 6, 0, 6, 1, 0, 0, 0, 0, 0, 0, 0, 6, 0, 0, 5, 0, 5, 0, 5, 1, 0, 0, 1, 3, 0, 1, 2, 0, 2, 6, 0, 2, 0, 6, 0, 6, 5, 0, 3, 2, 0, 0, 2, 1, 3, 6, 3, 0, 1, 0, 0, 0, 0, 1, 5, 1, 4, 4, 4, 5, 0, 0, 0, 1, 1, 0, 6, 0, 0, 5, 5, 1, 3, 1, 5, 1, 3, 5, 3, 3, 0, 0, 5, 2, 1, 0, 0, 5, 6, 3, 1, 0, 6, 0, 2, 6, 1, 0, 6, 0, 0, 0, 1, 0, 6, 0, 0, 0, 2, 1, 1, 1, 0, 5, 4, 1, 6, 5, 1, 6, 4, 0, 1, 1, 0, 6, 1, 1, 0, 1, 1, 0, 1, 5, 0, 0, 0, 6, 1, 0, 3, 4, 4, 1, 6, 0, 1, 3, 0, 0, 1, 1, 0, 0, 0, 4, 0, 1, 5, 1, 0, 4, 0, 5, 0, 0, 2, 5, 1, 1, 0, 2, 0, 5, 0, 6, 0, 0, 6, 1, 1, 3, 3, 6, 0, 0, 1, 6, 0, 1, 0, 0, 0, 0, 0, 4, 5, 0, 0, 3, 2, 1, 2, 1, 1, 0, 0, 4, 1, 0, 0, 1, 0, 0, 0, 0, 5, 2, 0, 0, 1, 0, 0, 0, 1, 3, 5, 1, 1, 2, 0, 5, 0, 0, 0, 6, 0, 0, 3, 0, 0, 0, 1, 2, 2, 1, 0, 6, 1, 5, 1, 0, 0, 6, 0, 5, 1, 0, 0, 6, 0, 0, 1, 1, 5, 0, 2, 5, 0, 4, 0, 1, 0, 0, 1, 1, 5, 0, 0, 1, 1, 5, 1, 0, 1, 1, 0, 0, 6, 0, 1, 0, 1, 1, 0, 1, 1, 5, 6, 0, 1, 2, 1, 6, 1, 1, 0, 0, 0, 6, 1, 2, 6, 1, 0, 6, 5, 6, 0, 1, 1, 1, 3, 6, 1, 6, 0, 1, 4, 1, 0, 0, 0, 2, 5, 0, 5, 1, 1, 0, 0, 1, 6, 0, 4, 2, 0, 3, 0, 1, 0, 1, 0, 1, 1, 6, 1, 0, 6, 0, 1, 1, 0, 0, 6, 1, 1, 1, 0, 6, 0, 0, 1, 0, 0, 2, 1, 6, 0, 0, 1, 0, 6, 3, 0, 0, 1, 1, 5, 5, 0, 5, 1, 1, 0, 0, 0, 6, 0, 1, 4, 0, 0, 1, 0, 5, 0, 6, 6, 1, 1, 5, 1, 0, 1, 0, 0, 0, 6, 0, 1, 1, 1, 6, 0, 4, 1, 1, 0, 5, 0, 0, 5, 6, 2, 1, 2, 0, 1, 0, 6, 0, 2, 1, 4, 6, 1, 2, 6, 0, 1, 0, 5, 4, 1, 4, 0, 0, 0, 1, 1, 2, 1, 0, 2, 6, 1, 5, 3, 0, 0, 6, 0, 5, 5, 1, 5, 2, 0, 3, 1, 0, 1, 0, 0, 2, 5, 1, 5, 6, 0, 0, 0, 5, 6, 5, 1, 0, 6, 4, 6, 1, 1, 0, 0, 0, 0, 0, 1, 3, 0, 0, 1, 1, 1, 6, 5, 1, 5, 1, 5, 1, 1, 6, 0, 3, 4, 0, 0, 0, 0, 6, 1, 1, 1, 6, 6, 0, 0, 0, 5, 2, 0, 1, 5, 1, 1, 0, 5, 0, 0, 6, 4, 0, 0, 0, 1, 0, 0, 2, 0, 0, 1, 3, 2, 0, 6, 0, 6, 0, 5, 1, 5, 0, 0, 6, 1, 1, 1, 0, 0, 0, 1, 6, 6, 6, 1, 1, 5, 0, 6, 0, 1, 1, 1, 1, 0, 1, 5, 0, 1, 2, 5, 5, 6, 5, 6, 0, 1, 0, 1, 1, 1, 0, 0, 1, 0, 0, 0, 0, 0, 0, 0, 1, 0, 0, 5, 2, 0, 0, 5, 5, 4, 0, 0, 3, 0, 1, 1, 0, 2, 0, 0, 1, 0, 3, 5, 5, 2, 0, 0, 0, 0, 1, 0, 0, 0, 0, 6, 0, 0, 0, 0, 1, 5, 0, 1, 5, 6, 1, 1, 5, 6, 5, 1, 0, 0, 0, 5, 0, 1, 5, 0, 1, 0, 1, 0, 2, 2, 1, 0, 1, 2, 1, 0, 0, 1, 1, 0, 1, 1, 0, 0, 0, 1, 0, 4, 1, 0, 1, 1, 1, 1, 3, 5, 0, 0, 0, 0, 0, 1, 0, 0, 5, 0, 1, 5, 0, 0, 4, 5, 5, 1, 1, 0, 6, 0, 1, 1, 0, 6, 2, 6, 1, 1, 6, 0, 6, 6, 0, 6, 1, 0, 1, 1, 6, 0, 0, 0, 5, 0, 5, 1, 6, 1, 5, 0, 0, 0, 0, 3, 1, 2, 0, 0, 0, 0, 0, 4, 0, 6, 1, 1, 5, 1, 1, 5, 0, 0, 0, 0, 0, 6, 6, 6, 5, 0, 0, 0, 1, 0, 0, 6, 1, 5, 0, 5, 1, 0, 0, 6, 0, 0, 0, 1, 2, 0, 0, 6, 2, 6, 4, 5, 1, 1, 0, 0, 1, 0, 0, 1, 2, 0, 0, 0, 1, 1, 5, 0, 5, 0, 3, 5, 0, 0, 3, 3, 0, 1, 0, 1, 0, 0, 5, 1, 1, 4, 4, 1, 6, 0, 6, 0, 5, 0, 5, 1, 5, 1, 2, 1, 3, 1, 2, 0, 0, 1, 0, 0, 2, 1, 3, 0, 0, 6, 1, 0, 1, 0, 3, 6, 6, 0, 3, 0, 0, 5, 0, 0, 0, 5, 0, 3, 0, 2, 5, 5, 1, 5, 1, 0, 0, 1, 3, 5, 1, 5, 0, 0, 1, 0, 0, 6, 0, 0, 0, 0, 3, 0, 0, 3, 6, 1, 2, 1, 0, 0, 0, 0, 0, 0, 2, 2, 0, 0, 4, 1, 1, 0, 3, 6, 1, 1, 5, 1, 1, 1, 6, 1, 0, 6, 0, 3, 0, 1, 1, 1, 0, 5, 0, 0, 1, 5, 1, 0, 0, 0, 1, 5, 0, 6, 0, 0, 1, 0, 3, 5, 2, 2, 0, 0, 0, 0, 2, 5, 0, 0, 3, 5, 1, 1, 0, 1, 0, 2, 3, 0, 0, 4, 1, 0, 6, 1, 0, 1, 6, 0, 2, 3, 2, 1, 0, 6, 1, 0, 0, 0, 0, 5, 1, 2, 0, 0, 0, 0, 0, 2, 0, 1, 0, 1, 0, 1, 4, 0, 1, 5, 5, 1, 0, 0, 0, 1, 1, 1, 3, 0, 1, 0, 0, 1, 5, 5, 4, 0, 1, 3, 0, 0, 0, 0, 1, 0, 1, 6, 1, 4, 0, 0, 0, 0, 5, 0, 0, 5, 0, 2, 1, 1, 0, 1, 0, 0, 6, 0, 3, 5, 1, 1, 1, 0, 0, 0, 6, 6, 0, 6, 0, 2, 1, 5, 4, 0, 1, 6, 4, 0, 6, 6, 0, 2, 0, 1, 0, 0, 4, 0, 0, 0, 0, 6, 2, 5, 1, 2, 0, 1, 0, 6, 6, 0, 5, 6, 1, 1, 0, 0, 0, 0, 5, 1, 1, 0, 1, 0, 1, 6, 0, 0, 5, 0, 6, 5, 2, 2, 0, 1, 0, 2, 2, 4, 0, 5, 3, 5, 6, 1, 6, 5, 1, 0, 6, 1, 0, 1, 1, 0, 0, 1, 0, 0, 0, 0, 5, 5, 1, 6, 5, 6, 0, 4, 0, 5, 0, 6, 0, 2, 0, 5, 1, 0, 0, 0, 0, 6, 5, 3, 3, 4, 6, 1, 0, 5, 2, 5, 6, 1, 5, 3, 1, 0, 1, 0, 1, 0, 3, 2, 5, 1, 3, 1, 0, 2, 0, 4, 0, 0, 0, 5, 0, 5, 0, 1, 0, 1, 0, 1, 0, 0, 5, 0, 0, 1, 2, 0, 0, 6, 5, 4, 0, 5, 1, 0, 6, 0, 1, 0, 0, 4, 0, 5, 0, 0, 6, 6, 1, 5, 1, 4, 3, 1, 1, 0, 3, 6, 3, 6, 1, 0, 2, 6, 0, 0, 6, 4, 1, 0, 0, 0, 0, 1, 0, 0, 0, 1, 0, 0, 0, 0, 1, 0, 0, 1, 0, 6, 0, 2, 0, 1, 0, 0, 1, 1, 1, 0, 0, 0, 2, 1, 1, 1, 0, 0, 0, 0, 6, 6, 2, 0, 5, 1, 0, 6, 5, 6, 1, 1, 6, 0, 0, 0, 1, 0, 0, 1, 0, 3, 5, 1, 0, 3, 1, 1, 1, 0, 6, 0, 6, 6, 1, 0, 5, 0, 1, 0, 3, 6, 1, 0, 1, 0, 3, 1, 1, 0, 1, 4, 0, 5, 0, 1, 0, 0, 0, 0, 6, 1, 5, 1, 0, 6, 0, 1, 6, 1, 1, 5, 5, 1, 0, 1, 5, 0, 5, 1, 5, 1, 6, 5, 5, 0, 1, 5, 5, 2, 5, 0, 5, 6, 0, 0, 1, 3, 1, 0, 1, 1, 1, 3, 1, 0, 0, 1, 1, 0, 0, 6, 5, 6, 4, 0, 0, 1, 0, 0, 4, 5, 5, 6, 0, 1, 0, 0, 1, 0, 0, 0, 2, 0, 5, 5, 0, 6, 1, 1, 1, 5, 5, 1, 0, 0, 6, 0, 5, 1, 4, 0, 0, 0, 1, 1, 0, 5, 0, 3, 0, 0, 1, 0, 5, 0, 2, 0, 1, 1, 0, 0, 1, 1, 0, 1, 5, 3, 3, 0, 1, 1, 0, 0, 2, 5, 5, 6, 0, 0, 0, 3, 0, 0, 0, 1, 0, 1, 1, 0, 6, 6, 0, 0, 1, 1, 2, 0, 0, 0, 5, 0, 0, 1, 5, 5, 3, 0, 0, 1, 0, 0, 0, 6, 0, 0, 0, 1, 5, 1, 4, 0, 1, 0, 5, 0, 1, 0, 0, 5, 0, 0, 1, 0, 1, 1, 0, 2, 1, 0, 0, 0, 1, 2, 1, 0, 3, 1, 6, 6, 0, 0, 1, 1, 0, 0, 1, 0, 0, 1, 4, 0, 0, 1, 1, 4, 1, 4, 3, 0, 0, 2, 1, 0, 6, 5, 1, 5, 5, 2, 0, 0, 0, 2, 1, 1, 0, 0, 1, 0, 6, 3, 3, 0, 0, 1, 0, 2, 0, 0, 4, 2, 0, 6, 0, 0, 1, 1, 3, 4, 4, 6, 1, 0, 0, 0, 2, 1, 1, 0, 6, 1, 6, 1, 0, 6, 3, 5, 5, 0, 0, 5, 0, 5, 5, 1, 6, 5, 3, 0, 6, 0, 1, 1, 0, 1, 0, 0, 6, 2, 5, 1, 0, 5, 0, 4, 1, 0, 5, 0, 1, 0, 0, 0, 1, 6, 1, 4, 1, 3, 2, 1, 5, 1, 0, 3, 0, 3, 1, 0, 0, 1, 0, 0, 0, 6, 1, 0, 2, 0, 5, 0, 6, 0, 1, 3, 6, 0, 0, 0, 6, 1, 1, 6, 1, 0, 1, 6, 1, 6, 3, 0, 2, 0, 1, 0, 0, 1, 6, 3, 5, 5, 0, 3, 0, 0, 1, 3, 1, 0, 5, 3, 5, 0, 0, 0, 6, 1, 1, 1, 1, 0, 1, 0, 0, 1, 1, 0, 1, 0, 0, 1, 0, 0, 0, 0, 0, 1, 6, 0, 0, 0, 0, 1, 4, 0, 1, 6, 3, 5, 1, 5, 1, 5, 4, 1, 6, 0, 6, 6, 1, 6, 0, 0, 0, 0, 0, 1, 6, 1, 1, 1, 1, 0, 5, 0, 1, 4, 1, 0, 1, 1, 1, 4, 0, 0, 6, 1, 1, 0, 1, 1, 0, 6, 0, 1, 0, 5, 1, 0, 0, 2, 1, 4, 0, 6, 2, 0, 6, 0, 4, 6, 2, 2, 6, 1, 4, 0, 4, 0, 2, 1, 1, 0, 0, 0, 6, 0, 6, 1, 1, 1, 0, 3, 1, 5, 4, 1, 6, 0, 1, 1, 0, 1, 1, 1, 0, 1, 0, 1, 0, 1, 6, 0, 4, 0, 0, 0, 5, 0, 6, 4, 0, 0, 0, 6, 0, 6, 0, 5, 0, 3, 0, 0, 0, 6, 5, 0, 1, 0, 0, 5, 6, 5, 1, 1, 1, 0, 1, 0, 0, 1, 0, 0, 1, 0, 0, 0, 3, 1, 5, 1, 3, 6, 0, 0, 0, 1, 1, 0, 0, 0, 0, 0, 5, 6, 6, 3, 1, 0, 0, 3, 5, 1, 0, 0, 0, 0, 0, 0, 1, 1, 2, 6, 0, 0, 0, 0, 3, 0, 0, 3, 0, 5, 6, 1, 1, 1, 3, 1, 1, 2, 0, 0, 5, 0, 0, 0, 6, 5, 6, 1, 6, 0, 0, 0, 1, 1, 2, 0, 2, 1, 0, 5, 0, 6, 0, 0, 6, 2, 0, 1, 6, 1, 0, 0, 3, 6, 6, 6, 0, 1, 2, 1, 0, 5, 2, 1, 0, 0, 6, 5, 0, 1, 0, 0, 5, 1, 1, 1, 4, 0, 1, 0, 6, 4, 6, 2, 6, 5, 5, 0, 1, 3, 2, 0, 1, 1, 0, 4, 3, 0, 5, 6, 0, 0, 0, 2, 0, 5, 0, 6, 0, 0, 5, 2, 3, 0, 0, 1, 6, 0, 1, 0, 0, 1, 0, 0, 0, 1, 6, 0, 3, 0, 5, 0, 0, 0, 0, 1, 1, 5, 0, 3, 6, 0, 0, 1, 1, 4, 6, 3, 0, 5, 0, 0, 3, 3, 5, 1, 3, 0, 1, 1, 0, 0, 1, 0, 2, 5, 6, 1, 0, 0, 0, 0, 0, 1, 5, 0, 3, 1, 0, 2, 1, 0, 1, 1, 1, 1, 1, 6, 0, 3, 0, 0, 1, 0, 0, 1, 1, 6, 0, 0, 0, 0, 5, 3, 5, 0, 6, 6, 1, 1, 0, 0, 6, 6, 0, 0, 0, 0, 3, 5, 0, 6, 5, 6, 6, 1, 2, 0, 2, 2, 6, 0, 6, 1, 1, 0, 1, 0, 0, 1, 6, 2, 0, 0, 5, 6, 1, 1, 5, 0, 3, 0, 0, 1, 0, 0, 0, 6, 0, 0, 0, 0, 5, 3, 4, 5, 6, 0, 5, 0, 5, 1, 5, 6, 0, 0, 0, 0, 0, 0, 0, 1, 5, 1, 1, 0, 1, 1, 0, 0, 1, 0, 1, 5, 1, 2, 3, 3, 0, 0, 0, 0, 6, 5, 1, 0, 1, 3, 0, 0, 0, 3, 1, 0, 5, 3, 0, 6, 0, 0, 4, 4, 1, 1, 0, 0, 1, 0, 1, 1, 3, 0, 6, 0, 6, 5, 1, 0, 5, 5, 0, 0, 0, 0, 0, 6, 5, 1, 0, 1, 1, 0, 3, 5, 2, 1, 6, 0, 0, 1, 1, 0, 0, 1, 1, 1, 0, 0, 0, 6, 0, 1, 0, 3, 1, 3, 0, 1, 6, 5, 1, 0, 0, 0, 6, 1, 1, 5, 0, 2, 6, 4, 1, 5, 5, 0, 0, 0, 1, 5, 0, 0, 0, 0, 2, 0, 0, 1, 0, 0, 0, 5, 0, 4, 0, 6, 3, 2, 0, 0, 0, 2, 0, 0, 0, 5, 6, 6, 5, 1, 5, 2, 3, 1, 1, 5, 1, 0, 1, 5, 0, 0, 0, 6, 3, 0, 0, 6, 0, 1, 1, 0, 5, 0, 0, 0, 6, 1, 0, 5, 1, 0, 0, 6, 0, 0, 0, 2, 2, 6, 0, 1, 0, 3, 0, 3, 1, 1, 0, 0, 6, 1, 0, 5, 0, 1, 3, 0, 0, 0, 2, 1, 1, 6, 1, 4, 0, 1, 0, 0, 6, 0, 0, 5, 1, 0, 0, 5, 0, 0, 1, 0, 3, 1, 5, 1, 0, 0, 4, 5, 5, 1, 3, 0, 3, 6, 1, 0, 5, 3, 0, 0, 2, 0, 0, 1, 1, 0, 0, 0, 3, 0, 3, 4, 0, 1, 1, 0, 3, 1, 6, 0, 0, 5, 0, 5, 0, 1, 0, 5, 0, 0, 3, 1, 0, 0, 0, 0, 0, 6, 6, 1, 0, 2, 1, 3, 1, 0, 1, 0, 6, 0, 1, 0, 2, 3, 1, 0, 0, 1, 5, 1, 0, 5, 0, 0, 0, 6, 1, 5, 5, 6, 6, 2, 0, 5, 0, 1, 0, 1, 0, 0, 0, 3, 0, 1, 0, 0, 2, 4, 0, 1, 1, 3, 0, 1, 1, 0, 0, 1, 0, 2, 0, 6, 2, 0, 6, 0, 6, 1, 0, 0, 1, 0, 0, 1, 1, 0, 1, 6, 0, 3, 4, 6, 0, 0, 0, 0, 0, 1, 0, 1, 1, 0, 5, 1, 5, 0, 5, 5, 0, 1, 0, 2, 1, 1, 1, 1, 6, 0, 1, 1, 3, 0, 0, 4, 3, 1, 6, 0, 2, 1, 0, 1, 0, 2, 1, 6, 0, 4, 1, 4, 4, 6, 0, 1, 6, 1, 0, 3, 1, 5, 3, 0, 5, 0, 1, 6, 6, 6, 1, 1, 0, 0, 3, 0, 0, 1, 1, 6, 0, 5, 0, 6, 4, 1, 5, 0, 0, 3, 1, 0, 0, 3, 2, 1, 0, 3, 0, 2, 1, 1, 0, 0, 0, 6, 1, 1, 0, 0, 0, 0, 0, 5, 3, 6, 5, 0, 0, 1, 6, 0, 0, 0, 1, 1, 6, 0, 1, 5, 0, 0, 6, 0, 3, 2, 5, 0, 1, 0, 0, 0, 1, 5, 0, 0, 0, 0, 5, 6, 1, 0, 0, 6, 2, 1, 0, 0, 0, 4, 1, 0, 1, 1, 0, 3, 0, 0, 2, 0, 0, 6, 5, 4, 6, 3, 1, 1, 5, 0, 0, 0, 1, 0, 0, 0, 1, 0, 4, 5, 1, 0, 4, 1, 1, 0, 0, 1, 2, 1, 0, 0, 0, 2, 6, 0, 1, 1, 5, 1, 1, 0, 1, 0, 1, 6, 1, 3, 1, 0, 2, 0, 1, 6, 0, 3, 0, 0, 6, 1, 0, 1, 5, 6, 4, 0, 1, 1, 1, 2, 0, 1, 1, 0, 0, 6, 6, 5, 1, 0, 5, 0, 0, 6, 1, 0, 1, 0, 1, 0, 1, 0, 6, 6, 1, 0, 1, 0, 0, 6, 3, 5, 0, 3, 5, 0, 0, 3, 1, 1, 6, 1, 3, 1, 6, 6, 0, 0, 1, 0, 0, 1, 5, 5, 6, 2, 1, 1, 2, 0, 6, 5, 6, 5, 5, 0, 6, 1, 4, 1, 0, 1, 1, 0, 6, 1, 5, 0, 1, 0, 1, 0, 1, 0, 3, 3, 0, 1, 1, 0, 1, 1, 1, 3, 5, 1, 0, 1, 0, 0, 0, 5, 1, 4, 0, 1, 6, 6, 0, 2, 1, 1, 0, 2, 6, 0, 1, 1, 3, 0, 0, 0, 0, 1, 0, 0, 1, 1, 0, 6, 0, 0, 0, 1, 5, 1, 6, 0, 0, 5, 2, 1, 5, 1, 6, 1, 5, 1, 4, 0, 3, 1, 0, 4, 0, 3, 6, 0, 1, 3, 1, 1, 5, 1, 6, 0, 1, 0, 0, 1, 0, 3, 1, 0, 5, 1, 0, 0, 0, 0, 0, 6, 5, 6, 1, 0, 0, 0, 6, 1, 6, 1, 1, 5, 5, 4, 1, 1, 0, 1, 0, 1, 2, 0, 6, 5, 2, 6, 0, 0, 5, 0, 6, 4, 0, 5, 6, 3, 5, 0, 5, 6, 6, 0, 1, 0, 0, 6, 0, 0, 2, 0, 1, 1, 1, 1, 1, 5, 0, 2, 0, 0, 1, 0, 0, 0, 1, 0, 0, 0, 0, 0, 1, 0, 1, 0, 0, 0, 5, 3, 1, 1, 5, 0, 1, 0, 5, 1, 6, 0, 5, 1, 1, 0, 1, 0, 0, 0, 1, 1, 1, 4, 5, 0, 0, 0, 6, 4, 6, 1, 5, 0, 0, 0, 0, 5, 0, 6, 0, 0, 2, 0, 0, 5, 0, 1, 6, 0, 5, 1, 4, 0, 1, 0, 0, 0, 0, 2, 1, 0, 0, 0, 0, 0, 3, 0, 0, 1, 0, 1, 0, 1, 0, 0, 0, 1, 1, 0, 0, 3, 1, 0, 5, 1, 5, 5, 0, 1, 0, 0, 0, 0, 1, 0, 0, 6, 0, 0, 0, 1, 1, 0, 0, 1, 0, 4, 1, 0, 0, 1, 0, 1, 4, 1, 6, 0, 0, 6, 0, 0, 3, 1, 0, 0, 0, 0, 0, 6, 0, 0, 1, 0, 0, 5, 6, 5, 5, 5, 0, 0, 0, 0, 0, 6, 1, 1, 5, 0, 3, 6, 3, 1, 1, 0, 1, 0, 0, 1, 0, 0, 0, 0, 0, 1, 1, 0, 1, 0, 0, 4, 1, 1, 0, 1, 0, 0, 0, 3, 0, 1, 1, 0, 0, 6, 5, 1, 6, 3, 2, 0, 1, 0, 5, 0, 1, 0, 1, 6, 1, 0, 0, 1, 0, 1, 5, 0, 1, 3, 1, 4, 0, 0, 0, 0, 0, 0, 5, 5, 1, 0, 1, 0, 0, 1, 2, 0, 5, 0, 3, 0, 5, 2, 0, 0, 3, 3, 0, 0, 1, 0, 0, 0, 1, 6, 4, 1, 4, 1, 2, 0, 5, 1, 6, 0, 0, 5, 0, 0, 1, 0, 6, 0, 4, 5, 0, 0, 5, 6, 1, 0, 0, 5, 6, 3, 2, 6, 6, 1, 4, 6, 1, 0, 0, 0, 0, 0, 1, 1, 1, 6, 0, 6, 3, 0, 2, 6, 1, 2, 0, 6, 1, 0, 5, 5, 0, 0, 4, 1, 1, 0, 0, 0, 2, 3, 1, 0, 6, 0, 0, 5, 1, 1, 0, 1, 0, 0, 0, 6, 0, 0, 1, 0, 1, 6, 1, 0, 0, 5, 1, 0, 0, 0, 0, 5, 0, 0, 1, 0, 6, 1, 1, 0, 0, 6, 0, 0, 0, 5, 3, 0, 0, 5, 0, 5, 3, 1, 0, 0, 2, 6, 0, 0, 1, 4, 0, 1, 2, 1, 0, 0, 0, 4, 1, 0, 1, 1, 1, 0, 2, 5, 3, 1, 6, 0, 2, 6, 0, 6, 1, 6, 6, 6, 0, 0, 0, 1, 0, 6, 5, 0, 5, 1, 0, 0, 1, 1, 6, 6, 6, 2, 0, 0, 0, 0, 1, 1, 1, 0, 6, 0, 1, 0, 5, 1, 0, 1, 6, 0, 5, 1, 0, 4, 5, 1, 0, 6, 0, 5, 5, 0, 1, 1, 0, 0, 0, 5, 1, 3, 5, 0, 0, 0, 6, 5, 2, 6, 0, 0, 0, 0, 0, 4, 6, 3, 5, 5, 0, 5, 3, 5, 1, 0, 3, 0, 0, 1, 0, 1, 1, 0, 6, 6, 6, 1, 0, 3, 1, 0, 1, 5, 1, 0, 0, 1, 0, 5, 1, 0, 1, 0, 5, 0, 5, 5, 0, 0, 0, 0, 0, 5, 0, 0, 0, 0, 5, 3, 0, 0, 5, 0, 5, 0, 6, 0, 0, 0, 1, 5, 1, 6, 0, 0, 0, 1, 5, 3, 5, 6, 0, 5, 1, 0, 0, 0, 3, 2, 5, 5, 5, 0, 0, 0, 0, 1, 0, 3, 0, 1, 0, 3, 4, 2, 0, 0, 1, 0, 0, 0, 0, 0, 4, 5, 0, 0, 2, 1, 0, 0, 3, 0, 0, 5, 0, 3, 1, 0, 0, 0, 1, 0, 0, 1, 3, 0, 5, 3, 0, 0, 1, 2, 1, 1, 2, 1, 5, 1, 1, 6, 5, 0, 0, 0, 0, 2, 1, 1, 6, 0, 0, 0, 6, 0, 0, 0, 0, 3, 0, 6, 0, 0, 1, 1, 1, 1, 0, 2, 2, 1, 0, 6, 1, 0, 0, 4, 2, 0, 5, 5, 0, 1, 0, 1, 1, 6, 3, 1, 2, 0, 3, 1, 6, 1, 5, 0, 2, 5, 2, 1, 1, 0, 1, 1, 2, 0, 0, 0, 1, 0, 5, 1, 1, 0, 5, 1, 0, 0, 6, 1, 0, 3, 0, 0, 0, 0, 3, 0, 0, 0, 0, 6, 5, 2, 0, 1, 0, 0, 2, 1, 5, 0, 0, 5, 0, 4, 1, 1, 5, 0, 6, 0, 0, 0, 0, 0, 5, 0, 6, 0, 0, 1, 4, 6, 6, 3, 6, 1, 0, 2, 2, 0, 0, 5, 0, 0, 5, 0, 3, 4, 5, 0, 1, 0, 1, 1, 0, 3, 3, 6, 2, 0, 0, 0, 6, 0, 0, 0, 0, 0, 0, 0, 1, 0, 3, 0, 0, 5, 0, 1, 6, 4, 0, 0, 0, 0, 1, 1, 0, 0, 0, 0, 0, 6, 0, 6, 1, 0, 1, 0, 6, 0, 0, 3, 0, 6, 2, 1, 0, 1, 1, 1, 1, 6, 1, 6, 0, 0, 6, 0, 1, 0, 0, 1, 1, 6, 0, 0, 0, 1, 6, 6, 0, 1, 5, 1, 5, 0, 1, 0, 0, 0, 2, 5, 6, 5, 1, 1, 1, 2, 5, 6, 6, 0, 0, 0, 0, 0, 5, 1, 1, 4, 1, 5, 0, 1, 5, 6, 0, 6, 6, 0, 1, 5, 0, 4, 6, 4, 0, 0, 0, 1, 0, 1, 0, 0, 0, 1, 0, 0, 2, 6, 0, 1, 0, 0, 3, 6, 0, 5, 0, 4, 3, 0, 4, 0, 6, 0, 1, 6, 6, 6, 0, 1, 1, 6, 5, 6, 0, 1, 0, 0, 1, 0, 1, 0, 2, 0, 5, 5, 0, 1, 1, 1, 1, 1, 0, 1, 1, 1, 6, 1, 0, 0, 1, 5, 5, 3, 1, 1, 0, 0, 0, 6, 0, 6, 0, 6, 0, 1, 6, 0, 5, 4, 1, 1, 1, 0, 5, 0, 5, 1, 1, 5, 0, 0, 0, 1, 4, 6, 0, 6, 0, 6, 5, 1, 0, 0, 1, 4, 1, 4, 0, 0, 1, 1, 4, 6, 0, 0, 5, 0, 0, 0, 0, 2, 1, 1, 0, 0, 5, 0, 0, 2, 0, 6, 0, 5, 0, 0, 0, 0, 1, 3, 1, 1, 0, 5, 1, 2, 1, 1, 0, 5, 1, 6, 5, 5, 6, 4, 0, 0, 0, 3, 1, 1, 0, 4, 1, 1, 1, 1, 5, 5, 0, 0, 1, 0, 0, 5, 1, 0, 6, 0, 0, 6, 3, 1, 1, 0, 6, 3, 5, 0, 1, 0, 5, 0, 6, 4, 0, 0, 5, 2, 0, 0, 0, 0, 1, 0, 0, 1, 5, 0, 6, 0, 0, 1, 2, 0, 0, 0, 1, 3, 0, 0, 3, 0, 6, 0, 1, 1, 1, 2, 2, 1, 0, 0, 5, 0, 5, 0, 1, 1, 0, 6, 1, 5, 1, 1, 0, 1, 6, 0, 5, 3, 0, 5, 0, 0, 0, 1, 1, 5, 0, 0, 0, 2, 1, 5, 1, 5, 1, 4, 4, 1, 3, 1, 0, 0, 4, 0, 1, 1, 5, 0, 0, 0, 2, 0, 0, 3, 1, 0, 0, 4, 5, 5, 6, 5, 6, 1, 1, 4, 1, 0, 4, 1, 5, 3, 5, 1, 0, 1, 3, 1, 0, 0, 1, 0, 5, 4, 0, 0, 0, 0, 4, 0, 0, 0, 0, 0, 4, 0, 1, 5, 1, 5, 3, 1, 5, 0, 5, 1, 1, 0, 1, 6, 0, 3, 1, 0, 4, 6, 0, 6, 0, 1, 0, 4, 5, 1, 0, 2, 0, 6, 0, 0, 0, 2, 0, 0, 5, 0, 0, 1, 1, 0, 0, 0, 1, 6, 1, 6, 4, 0, 0, 1, 5, 0, 0, 0, 3, 2, 2, 0, 6, 0, 0, 2, 6, 0, 1, 0, 0, 0, 0, 1, 1, 5, 2, 5, 0, 6, 5, 1, 1, 5, 1, 5, 6, 3, 5, 0, 0, 0, 3, 5, 1, 0, 4, 0, 0, 0, 1, 1, 0, 6, 0, 0, 1, 2, 1, 0, 0, 0, 0, 0, 0, 0, 0, 0, 2, 5, 4, 0, 0, 1, 2, 0, 0, 6, 1, 1, 1, 2, 4, 0, 3, 1, 0, 0, 1, 0, 0, 0, 5, 1, 5, 1, 5, 3, 0, 0, 0, 1, 0, 0, 5, 4, 4, 1, 0, 0, 3, 0, 1, 1, 2, 0, 4, 0, 6, 0, 1, 1, 0, 5, 0, 5, 6, 6, 5, 0, 3, 6, 1, 2, 1, 0, 1, 0, 0, 5, 0, 0, 0, 0, 2, 3, 0, 0, 1, 2, 5, 6, 3, 1, 1, 0, 0, 0, 1, 1, 6, 6, 0, 0, 0, 4, 0, 0, 5, 1, 1, 1, 1, 1, 0, 0, 0, 0, 2, 1, 0, 3, 2, 0, 2, 0, 1, 6, 0, 2, 5, 5, 0, 5, 3, 0, 4, 1, 0, 0, 1, 0, 0, 0, 0, 2, 0, 2, 0, 0, 5, 4, 4, 2, 0, 0, 0, 1, 0, 1, 1, 1, 0, 6, 1, 0, 0, 1, 0, 6, 0, 5, 0, 6, 6, 5, 1, 3, 0, 0, 1, 2, 1, 0, 0, 0, 0, 0, 1, 0, 1, 0, 0, 6, 0, 1, 0, 4, 4, 3, 0, 1, 0, 0, 5, 5, 2, 3, 3, 0, 3, 1, 0, 2, 0, 0, 6, 0, 2, 1, 6, 0, 0, 0, 0, 6, 1, 0, 0, 0, 6, 5, 0, 0, 1, 0, 0, 1, 3, 6, 0, 4, 4, 0, 0, 0, 0, 1, 1, 1, 0, 6, 5, 2, 0, 0, 6, 4, 2, 5, 0, 0, 1, 2, 0, 0, 5, 0, 0, 6, 6, 0, 2, 1, 6, 0, 1, 0, 3, 0, 1, 0, 1, 1, 0, 1, 0, 0, 1, 1, 0, 6, 1, 5, 1, 5, 0, 4, 6, 0, 5, 1, 0, 1, 4, 6, 0, 0, 0, 1, 0, 0, 0, 1, 2, 6, 0, 6, 5, 0, 1, 0, 0, 1, 0, 6, 5, 5, 3, 1, 6, 0, 0, 3, 2, 6, 1, 3, 1, 0, 0, 6, 1, 0, 4, 1, 6, 3, 0, 0, 1, 4, 0, 2, 1, 2, 0, 0, 4, 5, 1, 1, 0, 5, 6, 0, 6, 0, 2, 0, 5, 0, 5, 0, 0, 1, 1, 5, 0, 0, 0, 1, 0, 1, 1, 2, 5, 1, 0, 4, 0, 6, 4, 6, 1, 6, 1, 0, 2, 0, 0, 0, 3, 0, 1, 5, 0, 1, 6, 1, 0, 0, 0, 0, 1, 1, 0, 1, 5, 0, 5, 0, 3, 3, 6, 0, 0, 5, 4, 1, 0, 0, 0, 0, 6, 6, 0, 3, 1, 0, 3, 5, 0, 5, 0, 0, 5, 6, 5, 0, 6, 0, 2, 0, 5, 0, 1, 0, 0, 5, 5, 6, 2, 5, 1, 0, 0, 6, 0, 4, 6, 6, 1, 0, 1, 0, 0, 0, 6, 1, 5, 5, 0, 0, 5, 3, 0, 3, 6, 1, 1, 1, 0, 3, 1, 1, 0, 1, 0, 2, 4, 3, 0, 1, 0, 0, 0, 0, 1, 1, 3, 0, 5, 0, 0, 0, 5, 0, 2, 0, 0, 0, 0, 0, 6, 5, 1, 6, 1, 0, 0, 6, 1, 0, 3, 1, 1, 3, 1, 1, 0, 0, 5, 4, 0, 0, 0, 0, 1, 0, 0, 0, 6, 6, 1, 6, 5, 1, 0, 0, 0, 6, 2, 6, 5, 1, 1, 6, 1, 6, 6, 0, 0, 0, 5, 0, 0, 1, 1, 1, 1, 4, 1, 5, 0, 6, 1, 3, 2, 0, 0, 0, 0, 0, 0, 2, 1, 0, 1, 1, 1, 0, 0, 1, 4, 1, 5, 0, 5, 1, 0, 0, 6, 5, 1, 5, 6, 0, 4, 1, 1, 0, 1, 0, 0, 1, 0, 0, 0, 2, 0, 5, 1, 6, 0, 3, 1, 6, 1, 0, 0, 0, 5, 0, 6, 5, 0, 0, 0, 5, 0, 0, 1, 3, 0, 5, 5, 0, 1, 4, 0, 0, 0, 0, 0, 0, 3, 3, 0, 0, 6, 0, 0, 0, 3, 0, 4, 3, 0, 0, 1, 0, 1, 0, 0, 6, 4, 6, 6, 0, 0, 0, 0, 1, 0, 5, 1, 0, 4, 1, 0, 0, 5, 0, 1, 1, 3, 0, 0, 4, 0, 0, 0, 0, 0, 4, 6, 3, 6, 0, 4, 1, 4, 0, 0, 3, 1, 0, 0, 2, 5, 6, 1, 6, 1, 3, 0, 1, 5, 0, 0, 1, 1, 0, 3, 3, 1, 2, 6, 6, 0, 1, 0, 0, 0, 3, 1, 1, 0, 6, 4, 6, 1, 0, 6, 2, 0, 1, 0, 6, 5, 5, 1, 1, 0, 1, 0, 2, 0, 0, 0, 0, 1, 0, 0, 3, 0, 0, 0, 0, 1, 5, 5, 6, 6, 6, 1, 6, 5, 0, 0, 0, 1, 0, 0, 1, 2, 3, 4, 0, 6, 0, 6, 2, 3, 0, 5, 0, 6, 0, 0, 1, 0, 1, 1, 2, 0, 0, 6, 6, 5, 0, 0, 3, 0, 4, 0, 0, 0, 0, 1, 3, 2, 1, 0, 0, 2, 6, 3, 0, 6, 0, 1, 0, 5, 1, 2, 1, 1, 0, 1, 4, 0, 1, 1, 1, 0, 0, 0, 0, 0, 3, 2, 1, 0, 6, 1, 0, 0, 1, 5, 0, 0, 2, 2, 0, 0, 2, 2, 1, 0, 0, 5, 0, 0, 5, 2, 0, 1, 1, 0, 0, 4, 5, 1, 0, 0, 0, 0, 0, 4, 4, 0, 3, 4, 0, 1, 0, 0, 6, 3, 0, 1, 0, 3, 0, 0, 2, 1, 3, 0, 2, 0, 0, 4, 1, 0, 4, 1, 1, 1, 0, 0, 1, 5, 3, 6, 5, 0, 6, 1, 0, 1, 0, 6, 1, 3, 1, 6, 0, 0, 0, 0, 0, 0, 1, 0, 1, 1, 6, 0, 4, 0, 2, 0, 5, 0, 5, 3, 1, 0, 6, 5, 5, 5, 0, 6, 0, 6, 1, 0, 4, 2, 0, 0, 0, 1, 0, 0, 0, 1, 2, 5, 0, 0, 0, 1, 0, 6, 1, 2, 0, 1, 5, 6, 0, 4, 6, 0, 5, 1, 0, 1, 1, 0, 5, 1, 6, 1, 4, 6, 0, 2, 1, 2, 4, 0, 0, 1, 1, 1, 0, 5, 0, 1, 6, 3, 0, 1, 0, 0, 1, 0, 0, 1, 0, 3, 0, 1, 5, 0, 5, 1, 1, 3, 6, 0, 3, 6, 6, 6, 0, 5, 0, 0, 0, 5, 5, 1, 2, 0, 6, 2, 0, 1, 2, 0, 3, 5, 1, 5, 0, 2, 0, 0, 1, 2, 3, 1, 1, 6, 0, 0, 6, 3, 1, 6, 3, 0, 3, 1, 0, 0, 5, 1, 0, 5, 3, 0, 4, 0, 0, 0, 6, 4, 1, 0, 5, 1, 0, 0, 5, 1, 1, 1, 2, 0, 0, 1, 5, 0, 1, 0, 6, 0, 5, 0, 6, 0, 1, 5, 0, 0, 0, 1, 0, 0, 0, 5, 0, 5, 5, 0, 4, 0, 6, 0, 3, 0, 0, 0, 0, 2, 1, 0, 2, 1, 6, 0, 0, 1, 3, 0, 0, 6, 0, 3, 6, 0, 1, 1, 6, 0, 5, 1, 5, 0, 0, 5, 0, 1, 0, 6, 5, 0, 3, 0, 3, 1, 6, 1, 1, 0, 0, 0, 6, 5, 0, 0, 0, 6, 0, 5, 1, 3, 0, 5, 0, 4, 0, 0, 0, 0, 6, 5, 0, 0, 0, 1, 0, 5, 1, 6, 6, 0, 0, 0, 5, 3, 0, 1, 0, 1, 1, 0, 1, 5, 0, 1, 2, 0, 3, 0, 0, 5, 5, 0, 6, 0, 3, 0, 6, 1, 0, 0, 0, 0, 0, 0, 5, 0, 5, 1, 1, 0, 0, 0, 0, 6, 0, 2, 2, 0, 1, 0, 0, 1, 2, 6, 2, 0, 0, 0, 2, 0, 1, 3, 6, 0, 1, 2, 0, 5, 0, 1, 5, 0, 1, 1, 5, 0, 0, 0, 3, 1, 0, 5, 0, 2, 1, 0, 0, 0, 0, 0, 0, 6, 0, 0, 0, 1, 0, 6, 2, 1, 0, 0, 1, 6, 0, 1, 0, 0, 5, 6, 0, 0, 1, 6, 6, 0, 2, 2, 0, 1, 0, 5, 0, 5, 0, 4, 0, 0, 1, 1, 5, 0, 2, 0, 1, 1, 0, 4, 1, 0, 5, 1, 0, 5, 0, 0, 5, 3, 0, 0, 1, 0, 0, 4, 1, 5, 5, 3, 5, 0, 1, 5, 6, 0, 0, 1, 0, 1, 3, 1, 0, 5, 0, 0, 0, 1, 1, 0, 1, 0, 6, 0, 0, 0, 0, 0, 1, 0, 3, 0, 0, 5, 0, 0, 0, 0, 1, 6, 6, 0, 0, 5, 0, 6, 0, 0, 1, 1, 1, 1, 1, 5, 0, 3, 1, 5, 0, 2, 0, 1, 1, 0, 5, 0, 1, 1, 1, 3, 3, 6, 1, 0, 5, 0, 0, 3, 5, 0, 1, 0, 5, 0, 0, 0, 0, 1, 1, 0, 0, 5, 1, 4, 1, 6, 1, 2, 1, 5, 0, 1, 6, 0, 4, 0, 0, 3, 1, 1, 0, 5, 2, 0, 0, 0, 6, 5, 0, 5, 6, 0, 0, 1, 0, 3, 0, 1, 5, 4, 0, 0, 0, 0, 2, 2, 0, 1, 0, 0, 0, 1, 0, 0, 0, 0, 3, 6, 3, 0, 1, 4, 0, 0, 0, 5, 0, 5, 5, 0, 5, 1, 1, 4, 1, 0, 6, 0, 5, 0, 0, 1, 0, 1, 0, 0, 1, 0, 0, 0, 1, 6, 0, 0, 1, 0, 1, 1, 1, 0, 6, 6, 6, 0, 0, 5, 5, 1, 2, 3, 4, 1, 6, 0, 1, 0, 6, 5, 0, 0, 1, 0, 1, 1, 1, 6, 0, 5, 0, 1, 1, 0, 0, 6, 6, 0, 5, 0, 0, 1, 6, 0, 1, 0, 1, 0, 6, 1, 0, 0, 0, 1, 0, 0, 6, 0, 3, 0, 1, 3, 4, 0, 6, 0, 6, 1, 0, 5, 0, 0, 6, 1, 1, 0, 1, 3, 0, 5, 0, 5, 3, 5, 5, 0, 0, 1, 1, 0, 5, 0, 6, 0, 0, 4, 1, 0, 1, 1, 2, 1, 6, 6, 0, 6, 1, 6, 5, 1, 3, 5, 1, 0, 0, 0, 0, 0, 2, 0, 0, 1, 0, 5, 2, 0, 0, 6, 0, 4, 2, 0, 3, 6, 4, 1, 0, 1, 5, 0, 1, 0, 0, 1, 5, 0, 1, 2, 5, 0, 1, 5, 0, 6, 4, 0, 1, 1, 0, 0, 0, 1, 0, 0, 6, 0, 0, 4, 2, 0, 0, 0, 3, 2, 0, 2, 6, 1, 0, 5, 0, 0, 0, 0, 0, 0, 1, 0, 5, 3, 0, 5, 5, 6, 0, 1, 0, 0, 3, 6, 1, 1, 0, 6, 1, 0, 1, 0, 0, 0, 0, 2, 5, 0, 0, 0, 6, 5, 1, 0, 6, 2, 0, 6, 0, 0, 5, 1, 0, 0, 6, 0, 5, 2, 0, 0, 0, 0, 6, 5, 1, 2, 5, 0, 1, 0, 5, 1, 0, 3, 1, 0, 0, 6, 0, 0, 0, 3, 4, 0, 0, 6, 5, 0, 6, 5, 1, 6, 1, 0, 0, 0, 1, 0, 6, 1, 1, 2, 0, 6, 6, 3, 0, 2, 1, 1, 5, 2, 6, 5, 0, 0, 0, 4, 1, 0, 0, 1, 1, 0, 5, 5, 2, 3, 1, 6, 0, 0, 0, 1, 0, 3, 1, 0, 0, 2, 6, 1, 0, 0, 1, 1, 1, 1, 0, 0, 6, 0, 4, 0, 1, 6, 0, 3, 0, 6, 6, 0, 1, 2, 1, 5, 0, 0, 1, 1, 6, 0, 5, 4, 0, 0, 0, 1, 1, 1, 2, 0, 1, 1, 0, 0, 6, 6, 0, 1, 1, 5, 0, 0, 0, 6, 2, 0, 1, 6, 1, 1, 6, 1, 1, 1, 0, 1, 0, 1, 0, 6, 3, 6, 1, 3, 5, 0, 1, 0, 0, 6, 1, 1, 1, 1, 1, 0, 0, 0, 1, 6, 5, 5, 0, 1, 1, 1, 0, 6, 1, 0, 6, 3, 6, 0, 0, 2, 5, 0, 1, 0, 4, 0, 1, 1, 5, 4, 3, 0, 1, 0, 1, 1, 3, 1, 0, 0, 0, 3, 1, 1, 0, 0, 0, 0, 0, 0, 0, 6, 2, 6, 0, 6, 1, 0, 4, 0, 0, 0, 6, 1, 0, 0, 0, 1, 0, 0, 5, 6, 0, 3, 1, 0, 0, 0, 2, 0, 5, 6, 3, 0, 0, 0, 5, 0, 0, 0, 0, 1, 6, 0, 0, 1, 0, 6, 3, 1, 0, 0, 0, 0, 1, 4, 0, 0, 0, 5, 0, 6, 6, 0, 0, 4, 1, 5, 3, 5, 3, 0, 1, 0, 1, 0, 0, 1, 5, 0, 0, 0, 1, 1, 0, 6, 1, 6, 0, 1, 6, 5, 0, 5, 6, 1, 0, 0, 0, 5, 3, 6, 0, 5, 0, 5, 0, 0, 6, 1, 0, 0, 1, 2, 4, 5, 1, 0, 0, 1, 3, 0, 1, 0, 3, 4, 3, 5, 4, 6, 0, 0, 0, 0, 0, 0, 3, 1, 0, 6, 0, 0, 5, 0, 0, 0, 5, 0, 0, 3, 0, 6, 1, 0, 1, 0, 6, 0, 3, 5, 0, 2, 1, 0, 3, 3, 1, 0, 1, 1, 1, 1, 1, 1, 4, 0, 6, 0, 0, 6, 0, 1, 6, 0, 3, 0, 4, 0, 0, 5, 0, 0, 0, 0, 1, 0, 1, 0, 0, 4, 5, 0, 0, 1, 0, 0, 2, 5, 1, 3, 0, 0, 1, 1, 3, 2, 0, 0, 1, 0, 0, 0, 6, 0, 1, 0, 0, 0, 0, 1, 5, 0, 6, 2, 0, 5, 0, 0, 0, 3, 0, 0, 1, 6, 4, 5, 3, 1, 0, 0, 5, 1, 0, 0, 0, 5, 6, 0, 6, 0, 0, 0, 5, 0, 6, 0, 1, 1, 5, 0, 5, 0, 0, 1, 0, 0, 1, 5, 0, 0, 1, 1, 6, 2, 0, 0, 0, 0, 0, 1, 5, 1, 0, 0, 6, 5, 4, 0, 1, 0, 1, 0, 5, 0, 5, 0, 0, 4, 6, 1, 1, 1, 5, 5, 3, 4, 0, 5, 0, 1, 1, 0, 0, 2, 1, 1, 0, 5, 0, 2, 4, 0, 1, 0, 0, 0, 0, 5, 1, 1, 0, 1, 0, 1, 0, 0, 5, 0, 0, 5, 2, 5, 3, 5, 1, 0, 5, 1, 0, 0, 3, 4, 0, 0, 0, 0, 1, 6, 6, 1, 0, 0, 1, 0, 0, 6, 0, 0, 0, 0, 5, 0, 0, 4, 0, 5, 0, 1, 3, 6, 6, 0, 0, 5, 0, 5, 0, 0, 0, 0, 2, 0, 5, 0, 1, 1, 0, 0, 0, 0, 0, 0, 3, 6, 1, 2, 5, 0, 6, 1, 0, 0, 2, 0, 5, 1, 0, 1, 1, 0, 0, 1, 1, 1, 0, 6, 0, 1, 0, 5, 0, 0, 0, 6, 5, 0, 5, 0, 3, 0, 1, 6, 0, 0, 0, 5, 1, 3, 0, 0, 3, 1, 0, 0, 0, 0, 0, 0, 1, 0, 1, 3, 0, 2, 1, 1, 1, 3, 1, 0, 0, 6, 2, 6, 1, 0, 0, 0, 1, 1, 0, 6, 5, 1, 0, 5, 6, 1, 5, 1, 0, 0, 0, 6, 6, 5, 1, 0, 0, 0, 0, 4, 0, 1, 1, 0, 0, 1, 0, 5, 1, 0, 6, 0, 1, 5, 1, 0, 5, 4, 5, 1, 0, 1, 1, 5, 1, 1, 1, 0, 1, 1, 0, 0, 0, 1, 2, 0, 0, 6, 3, 0, 1, 0, 0, 0, 2, 0, 5, 1, 3, 1, 5, 0, 0, 6, 0, 0, 0, 0, 1, 0, 0, 0, 0, 0, 0, 2, 0, 1, 0, 0, 6, 0, 0, 0, 5, 1, 6, 3, 2, 1, 0, 5, 1, 1, 1, 1, 1, 1, 0, 4, 0, 1, 5, 0, 0, 1, 1, 1, 2, 0, 1, 4, 1, 0, 1, 5, 5, 6, 1, 0, 0, 0, 1, 6, 6, 6, 6, 1, 5, 0, 0, 0, 5, 6, 5, 0, 1, 0, 0, 6, 0, 1, 3, 0, 0, 1, 1, 1, 0, 5, 0, 5, 4, 1, 5, 0, 0, 0, 0, 0, 0, 0, 0, 1, 1, 0, 3, 0, 6, 0, 0, 6, 0, 0, 0, 6, 0, 0, 0, 1, 6, 3, 5, 2, 0, 1, 0, 0, 1, 0, 0, 6, 1, 3, 1, 1, 0, 1, 6, 3, 1, 6, 0, 6, 6, 6, 1, 4, 0, 0, 5, 5, 3, 5, 0, 1, 6, 5, 1, 5, 3, 1, 3, 0, 0, 1, 0, 1, 1, 1, 1, 1, 5, 6, 1, 5, 0, 1, 1, 0, 6, 0, 3, 5, 5, 6, 1, 0, 6, 0, 3, 4, 0, 6, 0, 5, 0, 0, 0, 1, 0, 0, 1, 3, 0, 0, 1, 2, 1, 0, 0, 0, 1, 1, 5, 6, 0, 1, 3, 5, 0, 6, 1, 1, 0, 4, 0, 0, 1, 5, 0, 0, 0, 5, 0, 5, 6, 0, 0, 1, 0, 1, 0, 5, 0, 0, 2, 0, 0, 0, 5, 5, 6, 0, 0, 4, 0, 3, 6, 1, 1, 1, 0, 0, 6, 3, 0, 3, 0, 0, 6, 1, 1, 2, 1, 1, 1, 3, 1, 0, 0, 0, 1, 5, 0, 0, 1, 0, 1, 1, 0, 2, 3, 5, 6, 3, 0, 2, 1, 1, 6, 0, 0, 1, 3, 1, 6, 0, 1, 0, 1, 1, 6, 6, 6, 6, 6, 5, 5, 1, 6, 1, 0, 0, 6, 0, 5, 1, 0, 5, 4, 2, 1, 0, 1, 5, 1, 1, 1, 1, 0, 0, 0, 6, 0, 0, 3, 0, 6, 3, 0, 0, 0, 0, 0, 0, 0, 0, 0, 0, 0, 2, 6, 1, 6, 3, 1, 5, 0, 4, 0, 0, 6, 0, 4, 1, 1, 0, 4, 0, 5, 0, 1, 1, 0, 0, 5, 0, 0, 5, 0, 0, 5, 0, 0, 0, 1, 0, 6, 0, 1, 0, 1, 6, 1, 1, 0, 0, 1, 1, 0, 1, 1, 0, 0, 5, 1, 6, 4, 6, 0, 3, 1, 1, 2, 4, 1, 5, 0, 0, 5, 0, 5, 0, 6, 1, 1, 1, 0, 3, 0, 6, 0, 5, 0, 6, 0, 0, 2, 1, 0, 0, 6, 1, 5, 2, 1, 0, 6, 0, 0, 1, 0, 0, 5, 1, 0, 1, 5, 1, 0, 0, 6, 0, 6, 6, 0, 0, 1, 1, 0, 5, 0, 2, 0, 0, 1, 0, 0, 0, 5, 0, 1, 0, 5, 0, 5, 6, 5, 2, 3, 6, 0, 0, 0, 6, 1, 0, 1, 1, 0, 0, 0, 0, 0, 6, 3, 1, 2, 2, 1, 0, 5, 1, 6, 0, 0, 6, 2, 6, 1, 0, 0, 1, 0, 0, 2, 0, 0, 2, 0, 4, 2, 0, 6, 0, 2, 0, 1, 0, 3, 0, 6, 0, 0, 5, 5, 1, 5, 0, 1, 0, 0, 0, 1, 0, 0, 0, 3, 0, 6, 5, 0, 0, 0, 5, 0, 0, 3, 0, 0, 0, 6, 2, 0, 0, 0, 3, 2, 5, 2, 0, 1, 0, 1, 2, 0, 0, 1, 6, 1, 5, 1, 1, 5, 5, 0, 1, 1, 1, 0, 1, 2, 5, 6, 0, 0, 1, 1, 4, 0, 1, 5, 5, 3, 0, 0, 0, 3, 0, 0, 0, 0, 0, 0, 1, 0, 2, 0, 0, 4, 6, 0, 1, 1, 5, 5, 0, 0, 0, 0, 0, 3, 3, 2, 1, 0, 1, 6, 6, 3, 1, 0, 1, 1, 0, 0, 4, 3, 2, 1, 0, 1, 4, 6, 1, 0, 1, 0, 0, 0, 1, 1, 0, 5, 0, 1, 1, 4, 1, 5, 0, 1, 2, 0, 0, 0, 0, 4, 2, 0, 3, 5, 1, 0, 0, 1, 0, 1, 0, 0, 5, 5, 1, 6, 5, 1, 1, 1, 1, 0, 1, 0, 5, 0, 4, 1, 0, 0, 0, 6, 1, 1, 4, 3, 0, 5, 0, 5, 0, 0, 0, 4, 0, 6, 1, 4, 1, 0, 0, 0, 6, 1, 0, 0, 0, 1, 0, 1, 0, 1, 1, 1, 1, 0, 0, 0, 6, 0, 1, 6, 0, 0, 4, 0, 5, 0, 5, 3, 6, 6, 3, 0, 0, 4, 0, 0, 5, 0, 1, 0, 2, 1, 3, 0, 0, 0, 0, 1, 0, 5, 3, 0, 1, 0, 2, 6, 1, 6, 1, 4, 1, 0, 5, 6, 6, 5, 0, 0, 0, 0, 0, 1, 1, 0, 0, 6, 2, 1, 0, 1, 1, 0, 1, 2, 1, 5, 3, 1, 6, 4, 0, 1, 3, 1, 1, 1, 5, 6, 5, 0, 0, 1, 6, 0, 0, 0, 6, 1, 1, 0, 0, 6, 0, 4, 6, 6, 1, 0, 0, 1, 5, 0, 0, 0, 1, 1, 3, 0, 1, 0, 0, 6, 5, 5, 3, 0, 5, 6, 1, 0, 6, 0, 0, 1, 0, 0, 1, 1, 0, 0, 3, 1, 0, 5, 0, 0, 0, 0, 1, 6, 1, 0, 5, 1, 6, 5, 1, 0, 3, 0, 1, 1, 3, 6, 1, 0, 2, 0, 6, 1, 3, 1, 0, 3, 6, 3, 4, 0, 6, 0, 0, 0, 4, 0, 0, 0, 0, 1, 0, 2, 0, 1, 1, 0, 5, 1, 0, 0, 0, 6, 1, 1, 1, 0, 0, 1, 0, 5, 5, 3, 0, 0, 0, 0, 2, 4, 0, 0, 6, 6, 2, 1, 0, 1, 0, 3, 1, 0, 1, 5, 5, 0, 0, 1, 5, 1, 0, 0, 6, 5, 0, 0, 0, 1, 3, 0, 0, 3, 0, 1, 6, 6, 4, 3, 1, 0, 1, 1, 1, 1, 3, 5, 4, 3, 6, 1, 5, 1, 5, 0, 3, 0, 1, 6, 5, 6, 5, 0, 5, 0, 0, 0, 1, 0, 1, 5, 5, 3, 6, 5, 6, 0, 0, 5, 1, 0, 0, 1, 0, 2, 0, 1, 3, 0, 1, 0, 1, 6, 3, 2, 1, 0, 1, 0, 0, 1, 0, 1, 0, 0, 5, 5, 0, 4, 6, 0, 5, 0, 0, 2, 0, 1, 0, 0, 0, 0, 2, 6, 4, 1, 0, 3, 1, 0, 3, 5, 1, 1, 0, 0, 5, 1, 6, 0, 4, 5, 0, 1, 5, 0, 0, 0, 1, 0, 1, 6, 1, 0, 1, 1, 1, 0, 1, 0, 0, 1, 0, 1, 0, 1, 0, 1, 0, 6, 0, 1, 0, 1, 0, 1, 0, 0, 1, 1, 6, 0, 5, 6, 4, 5, 5, 3, 0, 0, 1, 1, 0, 1, 1, 6, 0, 6, 0, 0, 1, 0, 0, 0, 2, 0, 0, 6, 0, 6, 6, 0, 5, 0, 0, 0, 5, 0, 1, 1, 1, 0, 0, 1, 1, 0, 6, 0, 0, 5, 1, 1, 0, 0, 6, 6, 0, 1, 1, 0, 0, 1, 1, 0, 2, 1, 3, 1, 1, 0, 6, 6, 0, 4, 5, 0, 1, 0, 6, 0, 5, 1, 3, 0, 0, 3, 1, 0, 0, 0, 6, 0, 0, 0, 0, 3, 1, 0, 6, 5, 5, 6, 0, 0, 0, 0, 0, 2, 0, 1, 0, 0, 1, 1, 1, 6, 0, 2, 1, 0, 0, 2, 0, 0, 4, 0, 6, 0, 2, 3, 1, 6, 0, 5, 2, 1, 1, 0, 0, 5, 5, 5, 0, 5, 4, 0, 5, 3, 6, 6, 3, 5, 1, 0, 0, 0, 0, 0, 1, 0, 0, 6, 5, 0, 6, 0, 1, 0, 5, 1, 0, 0, 0, 1, 0, 0, 6, 1, 3, 4, 0, 1, 6, 0, 1, 5, 0, 2, 0, 0, 2, 0, 0, 5, 1, 0, 0, 1, 5, 1, 5, 0, 0, 0, 2, 0, 1, 0, 0, 6, 6, 0, 6, 0, 5, 0, 0, 0, 0, 6, 6, 4, 2, 0, 2, 0, 0, 5, 0, 6, 1, 0, 0, 1, 5, 0, 2, 0, 0, 6, 0, 0, 0, 6, 6, 0, 0, 0, 6, 0, 0, 1, 1, 0, 0, 5, 1, 5, 0, 2, 5, 5, 0, 0, 1, 1, 0, 0, 0, 1, 5, 1, 0, 1, 1, 1, 0, 1, 1, 6, 0, 4, 1, 5, 0, 1, 0, 3, 0, 0, 0, 0, 0, 2, 2, 0, 0, 0, 0, 3, 0, 5, 0, 0, 6, 1, 5, 3, 5, 0, 6, 5, 1, 6, 0, 0, 0, 0, 0, 4, 3, 1, 1, 5, 0, 1, 5, 1, 0, 0, 5, 0, 6, 0, 5, 2, 1, 1, 0, 0, 0, 0, 0, 1, 5, 5, 1, 5, 0, 1, 6, 0, 2, 0, 0, 0, 0, 0, 0, 1, 0, 6, 0, 0, 0, 5, 1, 4, 1, 0, 4, 1, 0, 1, 1, 1, 0, 1, 3, 1, 1, 1, 0, 1, 1, 5, 1, 1, 0, 6, 0, 2, 6, 5, 0, 3, 6, 6, 1, 5, 2, 6, 0, 1, 2, 6, 1, 0, 0, 1, 0, 0, 4, 1, 0, 5, 2, 6, 0, 0, 5, 6, 0, 0, 0, 4, 5, 3, 6, 0, 0, 0, 0, 0, 1, 0, 1, 1, 1, 6, 1, 0, 0, 0, 1, 1, 0, 0, 1, 0, 0, 1, 1, 0, 1, 6, 1, 3, 5, 5, 3, 3, 0, 1, 6, 1, 1, 5, 3, 0, 5, 2, 1, 0, 0, 5, 0, 0, 1, 4, 1, 5, 5, 0, 3, 0, 0, 2, 0, 0, 0, 5, 1, 0, 0, 0, 1, 6, 0, 1, 0, 0, 5, 0, 0, 1, 0, 0, 2, 0, 3, 1, 1, 1, 0, 6, 6, 0, 0, 1, 0, 5, 2, 2, 5, 1, 1, 6, 0, 6, 3, 0, 0, 0, 6, 0, 0, 1, 3, 1, 2, 0, 3, 4, 5, 2, 6, 4, 3, 0, 1, 6, 1, 3, 5, 5, 0, 3, 1, 5, 5, 6, 0, 2, 0, 0, 4, 1, 1, 0, 5, 0, 0, 5, 3, 5, 1, 0, 0, 0, 0, 2, 5, 0, 2, 1, 0, 1, 1, 5, 1, 0, 3, 0, 0, 0, 0, 0, 0, 0, 1, 0, 1, 0, 2, 1, 5, 1, 0, 5, 1, 1, 0, 6, 0, 5, 5, 0, 1, 2, 1, 0, 5, 0, 0, 1, 1, 0, 1, 0, 3, 0, 0, 5, 0, 0, 2, 0, 1, 5, 1, 6, 3, 0, 6, 5, 1, 1, 6, 0, 0, 1, 0, 1, 0, 5, 5, 5, 0, 2, 1, 0, 1, 0, 0, 0, 0, 5, 3, 0, 1, 6, 6, 0, 0, 6, 4, 5, 0, 5, 5, 1, 2, 6, 6, 5, 0, 0, 3, 0, 5, 4, 2, 1, 0, 2, 0, 5, 0, 1, 2, 5, 1, 1, 1, 1, 1, 0, 1, 0, 0, 0, 0, 0, 1, 5, 1, 0, 0, 6, 1, 5, 1, 1, 1, 0, 0, 5, 1, 5, 1, 1, 1, 1, 0, 1, 0, 4, 0, 0, 0, 0, 0, 1, 5, 1, 6, 0, 1, 0, 0, 0, 0, 6, 0, 0, 0, 1, 2, 0, 0, 1, 4, 0, 0, 2, 0, 0, 1, 0, 5, 4, 1, 0, 0, 1, 1, 0, 0, 1, 5, 0, 1, 6, 0, 0, 1, 0, 0, 1, 6, 1, 3, 0, 0, 0, 0, 2, 5, 1, 0, 2, 5, 5, 6, 0, 0, 0, 3, 0, 0, 0, 0, 6, 0, 6, 1, 0, 0, 1, 0, 6, 0, 1, 0, 0, 0, 0, 5, 5, 0, 0, 1, 1, 2, 0, 0, 6, 6, 6, 0, 0, 2, 1, 1, 1, 0, 5, 1, 0, 0, 1, 0, 0, 1, 0, 0, 0, 6, 0, 0, 2, 2, 1, 1, 0, 1, 6, 1, 0, 3, 0, 0, 0, 1, 0, 0, 3, 6, 6, 5, 1, 0, 6, 0, 0, 2, 0, 0, 0, 1, 0, 0, 0, 0, 6, 2, 0, 1, 5, 1, 0, 0, 0, 0, 5, 0, 6, 3, 5, 0, 1, 0, 1, 3, 1, 4, 3, 0, 3, 0, 2, 5, 0, 1, 1, 6, 0, 0, 3, 0, 0, 3, 1, 6, 2, 3, 0, 5, 1, 4, 0, 0, 0, 3, 1, 1, 0, 0, 0, 0, 1, 0, 3, 0, 6, 5, 2, 5, 0, 1, 1, 0, 6, 1, 3, 0, 0, 0, 0, 6, 6, 6, 6, 1, 0, 0, 6, 0, 0, 0, 6, 0, 1, 3, 5, 6, 1, 1, 3, 1, 3, 1, 1, 0, 1, 6, 4, 3, 0, 5, 1, 1, 0, 1, 0, 1, 5, 0, 0, 5, 5, 0, 0, 1, 0, 0, 1, 1, 0, 5, 0, 3, 1, 0, 1, 5, 0, 2, 0, 1, 5, 0, 0, 0, 0, 1, 4, 1, 4, 0, 0, 0, 5, 0, 1, 0, 1, 1, 0, 0, 4, 2, 1, 0, 0, 0, 1, 0, 0, 0, 3, 0, 0, 0, 6, 1, 6, 0, 0, 0, 2, 2, 1, 0, 5, 2, 6, 1, 1, 0, 0, 2, 1, 0, 1, 6, 5, 1, 1, 0, 0, 1, 5, 0, 0, 1, 0, 6, 5, 2, 5, 0, 4, 6, 0, 6, 1, 5, 5, 0, 1, 0, 4, 0, 1, 0, 1, 1, 0, 4, 3, 1, 1, 0, 0, 1, 1, 0, 0, 0, 6, 1, 3, 0, 0, 1, 0, 0, 0, 0, 1, 1, 0, 0, 0, 0, 0, 6, 6, 1, 3, 0, 6, 0, 1, 5, 0, 0, 0, 0, 5, 5, 0, 1, 1, 3, 5, 2, 0, 0, 5, 1, 0, 0, 1, 4, 1, 3, 6, 1, 5, 0, 0, 0, 6, 0, 0, 0, 0, 3, 2, 6, 0, 0, 0, 0, 0, 0, 0, 5, 0, 3, 0, 1, 0, 0, 1, 1, 1, 5, 4, 1, 0, 0, 1, 0, 6, 1, 1, 0, 1, 5, 1, 5, 1, 0, 6, 1, 3, 1, 6, 0, 5, 0, 2, 0, 0, 0, 1, 5, 0, 0, 1, 0, 0, 6, 4, 0, 0, 0, 1, 1, 1, 0, 1, 0, 1, 6, 1, 0, 2, 0, 6, 5, 0, 0, 0, 6, 1, 0, 5, 0, 0, 0, 0, 4, 5, 4, 3, 0, 0, 0, 5, 2, 4, 5, 0, 1, 5, 0, 6, 0, 0, 0, 3, 5, 0, 2, 0, 0, 0, 1, 0, 0, 4, 0, 4, 0, 0, 0, 3, 3, 0, 0, 5, 1, 0, 0, 6, 6, 0, 1, 3, 0, 0, 3, 0, 0, 0, 0, 1, 0, 1, 5, 1, 3, 1, 0, 5, 3, 1, 0, 0, 0, 1, 0, 4, 5, 3, 1, 3, 0, 0, 1, 1, 1, 0, 5, 6, 0, 1, 1, 0, 2, 1, 1, 0, 0, 5, 1, 0, 5, 0, 6, 1, 0, 1, 6, 0, 0, 3, 0, 1, 0, 1, 5, 1, 1, 6, 2, 0, 0, 6, 6, 6, 0, 0, 5, 6, 1, 1, 0, 5, 1, 5, 0, 0, 1, 2, 0, 5, 0, 6, 0, 5, 0, 0, 0, 4, 3, 0, 5, 0, 1, 0, 1, 5, 5, 3, 0, 5, 4, 5, 6, 1, 1, 5, 1, 0, 3, 5, 1, 1, 0, 0, 1, 0, 1, 5, 6, 0, 6, 6, 0, 2, 6, 2, 0, 6, 0, 1, 0, 0, 6, 0, 0, 5, 6, 1, 6, 0, 3, 0, 0, 3, 4, 0, 5, 0, 0, 0, 1, 0, 1, 1, 0, 1, 5, 0, 1, 1, 1, 0, 0, 1, 0, 0, 0, 1, 0, 0, 6, 1, 0, 1, 0, 0, 1, 5, 1, 0, 4, 6, 1, 4, 1, 0, 6, 0, 5, 1, 2, 0, 0, 1, 5, 0, 1, 1, 6, 6, 1, 4, 1, 1, 4, 0, 0, 2, 0, 5, 0, 0, 0, 1, 0, 1, 3, 0, 1, 2, 1, 1, 3, 1, 1, 0, 5, 6, 3, 4, 5, 4, 0, 5, 5, 0, 2, 0, 6, 0, 0, 1, 0, 0, 1, 3, 0, 1, 1, 1, 0, 1, 1, 0, 5, 0, 6, 1, 1, 1, 0, 6, 0, 4, 1, 4, 0, 1, 4, 0, 2, 0, 0, 1, 2, 1, 0, 1, 0, 4, 5, 1, 0, 0, 1, 1, 0, 2, 0, 1, 0, 1, 0, 0, 1, 0, 0, 0, 1, 0, 0, 0, 6, 0, 5, 0, 1, 0, 0, 5, 5, 0, 2, 0, 3, 0, 1, 1, 0, 5, 0, 6, 0, 3, 0, 5, 3, 2, 0, 0, 1, 2, 6, 2, 3, 0, 0, 1, 5, 1, 0, 0, 2, 1, 0, 0, 1, 0, 5, 0, 0, 0, 3, 0, 0, 4, 1, 0, 0, 0, 0, 0, 0, 0, 2, 5, 0, 0, 0, 0, 5, 0, 1, 1, 0, 1, 5, 0, 4, 1, 2, 0, 0, 0, 3, 2, 0, 1, 1, 1, 5, 3, 0, 0, 1, 0, 1, 3, 0, 0, 5, 6, 0, 0, 1, 0, 1, 0, 0, 0, 0, 0, 0, 1, 1, 6, 6, 1, 6, 1, 0, 0, 5, 1, 5, 4, 0, 0, 0, 1, 5, 2, 0, 6, 0, 1, 2, 0, 5, 5, 1, 1, 0, 1, 0, 6, 0, 6, 2, 0, 6, 6, 1, 0, 0, 1, 5, 3, 6, 3, 0, 1, 0, 0, 6, 0, 6, 1, 0, 3, 0, 1, 1, 5, 0, 6, 6, 0, 0, 1, 6, 1, 0, 0, 5, 0, 1, 1, 0, 0, 0, 6, 1, 1, 0, 0, 0, 0, 0, 6, 5, 1, 1, 1, 5, 1, 0, 2, 5, 0, 0, 3, 0, 6, 6, 0, 2, 3, 1, 0, 0, 5, 3, 1, 0, 0, 0, 0, 2, 1, 0, 0, 0, 0, 0, 0, 0, 1, 0, 0, 1, 0, 0, 0, 5, 1, 0, 1, 6, 3, 0, 5, 0, 6, 5, 0, 6, 2, 1, 1, 6, 0, 1, 4, 0, 1, 5, 6, 0, 0, 0, 0, 1, 0, 6, 1, 3, 3, 0, 5, 1, 0, 0, 5, 1, 5, 0, 1, 0, 1, 5, 0, 5, 1, 6, 4, 0, 0, 1, 0, 5, 2, 1, 2, 2, 0, 0, 0, 1, 0, 0, 3, 0, 3, 5, 1, 0, 0, 3, 0, 0, 1, 5, 0, 0, 1, 0, 6, 0, 0, 6, 0, 1, 0, 6, 1, 0, 5, 3, 1, 3, 5, 0, 0, 5, 0, 6, 6, 0, 1, 5, 6, 0, 0, 0, 2, 0, 5, 0, 4, 0, 0, 5, 3, 0, 4, 4, 2, 2, 0, 0, 0, 0, 0, 1, 1, 5, 0, 1, 0, 0, 1, 1, 5, 0, 1, 0, 1, 1, 0, 0, 0, 0, 1, 2, 0, 0, 0, 5, 4, 0, 5, 0, 1, 1, 1, 1, 5, 1, 1, 1, 0, 1, 1, 5, 1, 0, 6, 0, 1, 5, 0, 1, 4, 5, 1, 0, 0, 1, 1, 1, 3, 1, 2, 1, 1, 3, 1, 0, 5, 0, 0, 1, 6, 1, 0, 2, 1, 5, 0, 1, 3, 1, 0, 1, 0, 1, 1, 6, 0, 0, 0, 0, 0, 6, 1, 0, 0, 0, 1, 0, 3, 0, 0, 1, 3, 0, 5, 5, 0, 1, 0, 1, 0, 1, 0, 0, 0, 1, 0, 2, 0, 1, 1, 4, 0, 1, 4, 0, 0, 6, 1, 0, 6, 3, 1, 0, 6, 3, 5, 1, 0, 1, 0, 6, 0, 0, 1, 2, 1, 2, 0, 1, 1, 0, 3, 0, 4, 1, 1, 0, 5, 5, 1, 5, 1, 1, 0, 0, 0, 0, 0, 6, 1, 3, 0, 0, 0, 1, 5, 1, 1, 0, 3, 3, 0, 0, 3, 1, 5, 0, 2, 1, 1, 0, 1, 3, 0, 0, 0, 6, 0, 0, 0, 0, 1, 0, 0, 0, 3, 1, 0, 1, 6, 6, 1, 2, 1, 3, 3, 1, 1, 3, 0, 0, 1, 3, 2, 0, 0, 0, 0, 5, 3, 0, 0, 0, 0, 0, 0, 1, 6, 0, 2, 5, 6, 0, 1, 0, 6, 0, 1, 6, 0, 1, 1, 6, 0, 5, 0, 1, 0, 0, 1, 5, 1, 0, 1, 3, 1, 0, 0, 4, 5, 0, 0, 1, 2, 1, 0, 0, 1, 0, 5, 1, 0, 0, 1, 0, 5, 0, 2, 0, 5, 6, 5, 5, 1, 0, 0, 0, 0, 0, 0, 4, 2, 0, 0, 4, 1, 3, 0, 1, 0, 0, 0, 3, 6, 1, 1, 4, 2, 0, 0, 6, 3, 3, 3, 3, 6, 1, 0, 0, 0, 0, 5, 4, 1, 0, 3, 0, 1, 0, 1, 4, 0, 6, 6, 1, 2, 0, 0, 4, 0, 1, 1, 0, 5, 1, 5, 5, 1, 4, 1, 0, 1, 0, 1, 0, 5, 0, 1, 6, 3, 1, 0, 3, 1, 2, 0, 0, 3, 5, 1, 1, 1, 3, 1, 2, 2, 1, 6, 0, 0, 1, 1, 1, 2, 1, 1, 5, 0, 3, 0, 6, 1, 0, 3, 0, 0, 0, 6, 0, 6, 5, 0, 0, 0, 6, 6, 1, 6, 0, 0, 5, 5, 0, 1, 0, 3, 0, 0, 3, 0, 0, 6, 0, 1, 6, 0, 0, 0, 0, 1, 5, 0, 6, 5, 6, 2, 0, 1, 1, 1, 0, 6, 6, 1, 0, 1, 0, 4, 5, 0, 0, 0, 0, 1, 1, 5, 2, 0, 3, 1, 0, 0, 6, 1, 1, 0, 0, 5, 1, 0, 6, 0, 1, 0, 0, 0, 0, 0, 0, 1, 0, 0, 2, 1, 1, 3, 1, 1, 0, 0, 0, 2, 0, 0, 0, 1, 0, 0, 1, 0, 0, 1, 1, 5, 5, 0, 1, 0, 1, 0, 5, 1, 2, 0, 0, 2, 0, 1, 0, 2, 3, 6, 0, 4, 6, 4, 4, 1, 3, 0, 1, 0, 0, 5, 0, 3, 0, 2, 1, 6, 0, 0, 1, 2, 1, 0, 0, 0, 0, 0, 0, 1, 0, 0, 1, 6, 0, 1, 0, 0, 5, 0, 0, 4, 0, 6, 5, 0, 5, 0, 0, 1, 6, 1, 0, 6, 6, 0, 6, 1, 0, 0, 0, 0, 0, 6, 0, 1, 0, 6, 1, 3, 0, 1, 1, 0, 0, 0, 0, 0, 1, 0, 0, 0, 0, 1, 0, 0, 0, 5, 0, 1, 1, 3, 1, 1, 0, 4, 0, 0, 0, 3, 1, 0, 1, 0, 2, 3, 1, 0, 6, 6, 0, 1, 5, 0, 2, 1, 1, 0, 0, 0, 0, 4, 2, 0, 5, 0, 5, 0, 6, 2, 1, 1, 0, 1, 1, 2, 6, 0, 5, 3, 3, 0, 5, 5, 1, 5, 1, 0, 5, 4, 1, 1, 1, 3, 0, 6, 5, 0, 5, 1, 0, 0, 1, 0, 0, 2, 0, 1, 0, 6, 3, 1, 5, 0, 0, 0, 0, 0, 0, 0, 1, 0, 0, 0, 0, 1, 1, 6, 0, 0, 4, 6, 0, 0, 5, 6, 5, 5, 1, 0, 0, 0, 2, 5, 0, 1, 1, 6, 1, 1, 1, 5, 1, 5, 0, 0, 5, 1, 3, 1, 1, 5, 6, 0, 0, 5, 2, 0, 2, 0, 5, 0, 0, 1, 1, 1, 3, 6, 0, 0, 6, 0, 4, 0, 6, 1, 0, 3, 0, 1, 6, 0, 1, 1, 0, 6, 1, 0, 1, 5, 0, 5, 4, 2, 1, 3, 0, 0, 1, 4, 3, 0, 1, 1, 0, 1, 0, 5, 0, 0, 6, 0, 0, 0, 0, 5, 0, 6, 5, 0, 1, 1, 0, 3, 5, 0, 1, 6, 3, 1, 0, 5, 0, 2, 0, 0, 1, 1, 0, 2, 1, 0, 0, 6, 0, 0, 0, 1, 0, 0, 0, 1, 1, 0, 6, 0, 0, 3, 0, 1, 0, 1, 1, 1, 0, 1, 0, 1, 0, 1, 0, 2, 0, 0, 0, 0, 1, 1, 0, 0, 0, 0, 3, 0, 1, 0, 1, 6, 1, 1, 4, 1, 6, 3, 0, 0, 1, 0, 0, 1, 5, 0, 0, 4, 2, 5, 1, 0, 1, 0, 2, 5, 6, 1, 5, 2, 5, 6, 1, 0, 6, 3, 0, 0, 0, 5, 0, 0, 0, 1, 2, 5, 1, 5, 5, 2, 0, 0, 6, 0, 5, 0, 6, 6, 0, 1, 1, 5, 0, 5, 2, 1, 5, 5, 6, 0, 2, 0, 1, 0, 0, 3, 0, 1, 3, 2, 5, 0, 0, 2, 1, 1, 1, 0, 1, 6, 0, 3, 1, 3, 1, 0, 0, 2, 0, 0, 0, 0, 0, 3, 0, 0, 1, 0, 0, 1, 4, 2, 6, 3, 0, 0, 1, 1, 0, 1, 0, 4, 5, 0, 3, 1, 0, 1, 0, 5, 0, 1, 0, 0, 1, 1, 0, 6, 2, 0, 1, 0, 1, 0, 2, 0, 0, 0, 0, 0, 5, 0, 5, 6, 0, 6, 5, 5, 0, 6, 0, 1, 1, 1, 1, 6, 0, 1, 2, 1, 2, 0, 1, 4, 5, 2, 1, 6, 0, 0, 1, 1, 5, 0, 1, 2, 1, 6, 0, 0, 4, 0, 3, 1, 0, 0, 3, 0, 6, 1, 1, 1, 4, 5, 2, 1, 2, 2, 0, 0, 0, 1, 1, 0, 0, 0, 0, 6, 2, 5, 0, 1, 0, 2, 1, 0, 5, 5, 5, 0, 0, 2, 1, 0, 6, 0, 0, 3, 0, 0, 0, 0, 0, 0, 5, 3, 1, 0, 6, 0, 1, 1, 2, 0, 2, 1, 5, 1, 0, 0, 3, 0, 4, 5, 0, 6, 1, 1, 1, 5, 0, 0, 0, 0, 0, 1, 0, 2, 0, 0, 0, 1, 0, 5, 0, 6, 1, 3, 1, 6, 6, 1, 1, 0, 5, 0, 6, 0, 3, 1, 0, 0, 6, 0, 3, 1, 0, 0, 3, 0, 6, 6, 4, 6, 5, 5, 1, 0, 0, 0, 1, 0, 2, 1, 1, 4, 6, 3, 1, 5, 0, 0, 1, 2, 5, 1, 3, 1, 1, 1, 0, 0, 3, 6, 0, 4, 1, 6, 0, 0, 0, 0, 1, 5, 6, 1, 2, 0, 0, 0, 5, 0, 1, 0, 0, 1, 0, 0, 5, 6, 1, 1, 0, 1, 0, 5, 1, 2, 1, 3, 3, 4, 1, 6, 5, 5, 5, 3, 6, 0, 6, 5, 0, 2, 1, 0, 4, 0, 0, 0, 0, 2, 1, 1, 0, 0, 0, 2, 0, 6, 1, 1, 0, 0, 2, 5, 6, 1, 2, 1, 0, 6, 6, 1, 2, 0, 0, 0, 5, 0, 0, 5, 1, 3, 1, 0, 0, 0, 2, 1, 0, 0, 1, 3, 5, 0, 1, 1, 0, 0, 5, 1, 0, 0, 0, 1, 1, 5, 0, 0, 5, 0, 1, 2, 0, 5, 0, 1, 6, 1, 6, 0, 1, 0, 6, 0, 6, 3, 0, 6, 4, 0, 5, 0, 4, 0, 0, 0, 4, 1, 0, 1, 0, 2, 0, 0, 6, 3, 1, 2, 1, 0, 0, 1, 0, 0, 1, 0, 1, 6, 0, 5, 0, 4, 1, 0, 0, 1, 1, 6, 1, 3, 0, 0, 0, 1, 0, 5, 2, 0, 2, 1, 0, 0, 0, 1, 3, 1, 4, 1, 4, 0, 6, 1, 2, 5, 0, 6, 3, 0, 1, 0, 5, 0, 0, 0, 1, 3, 0, 0, 6, 0, 0, 3, 0, 6, 3, 6, 1, 0, 1, 2, 1, 1, 3, 1, 6, 5, 0, 0, 0, 0, 0, 1, 4, 5, 6, 6, 1, 1, 2, 0, 0, 0, 0, 6, 4, 0, 1, 0, 6, 1, 0, 0, 0, 0, 0, 0, 1, 5, 0, 6, 0, 0, 6, 1, 1, 1, 6, 1, 5, 6, 0, 0, 0, 5, 1, 5, 6, 0, 6, 1, 1, 5, 1, 3, 0, 6, 1, 1, 6, 0, 0, 0, 5, 5, 0, 6, 0, 0, 1, 0, 0, 6, 1, 0, 0, 0, 1, 5, 1, 0, 2, 0, 6, 0, 0, 0, 0, 0, 0, 0, 5, 0, 0, 5, 0, 0, 1, 6, 0, 4, 1, 0, 1, 1, 6, 4, 0, 5, 5, 1, 0, 1, 0, 1, 1, 1, 5, 1, 3, 0, 0, 0, 0, 0, 3, 1, 6, 4, 1, 3, 0, 5, 0, 0, 1, 0, 4, 0, 3, 1, 0, 0, 6, 0, 3, 5, 3, 3, 0, 1, 0, 3, 0, 0, 1, 5, 6, 1, 0, 1, 5, 1, 1, 1, 5, 4, 1, 0, 0, 0, 4, 1, 1, 0, 0, 0, 0, 0, 6, 6, 3, 0, 0, 3, 0, 4, 0, 0, 0, 1, 0, 5, 0, 4, 5, 3, 0, 0, 5, 0, 6, 1, 4, 5, 0, 3, 0, 1, 4, 0, 0, 2, 1, 0, 0, 4, 1, 1, 0, 0, 0, 6, 0, 0, 0, 2, 0, 1, 0, 6, 1, 0, 0, 4, 1, 6, 1, 0, 6, 3, 1, 5, 6, 0, 1, 0, 0, 0, 0, 4, 5, 5, 3, 0, 1, 2, 0, 6, 0, 4, 0, 1, 2, 0, 0, 1, 0, 0, 0, 6, 0, 1, 0, 0, 0, 1, 0, 0, 0, 0, 1, 1, 0, 0, 0, 1, 3, 6, 1, 0, 3, 1, 3, 4, 3, 0, 1, 0, 0, 0, 0, 1, 3, 6, 5, 0, 6, 0, 5, 1, 0, 2, 0, 0, 0, 1, 0, 0, 5, 4, 0, 0, 1, 0, 1, 0, 1, 0, 1, 1, 0, 0, 0, 0, 1, 1, 3, 0, 5, 0, 0, 1, 0, 0, 4, 1, 0, 6, 5, 0, 0, 0, 1, 0, 0, 0, 0, 5, 0, 1, 0, 1, 0, 5, 1, 0, 0, 4, 2, 3, 1, 5, 0, 0, 4, 3, 5, 5, 3, 0, 0, 5, 0, 6, 0, 0, 0, 1, 0, 0, 6, 0, 0, 5, 5, 1, 6, 0, 0, 6, 0, 0, 0, 1, 1, 1, 0, 0, 5, 1, 3, 1, 0, 6, 4, 6, 0, 0, 1, 1, 1, 5, 1, 2, 1, 5, 1, 3, 2, 1, 0, 5, 1, 0, 5, 0, 0, 0, 0, 5, 0, 6, 0, 0, 5, 0, 3, 1, 5, 4, 0, 5, 0, 1, 1, 0, 5, 6, 0, 6, 1, 5, 1, 5, 1, 0, 0, 0, 0, 6, 6, 2, 1, 0, 1, 0, 0, 1, 5, 2, 6, 3, 6, 0, 0, 4, 0, 1, 0, 0, 1, 1, 6, 1, 6, 0, 0, 1, 1, 2, 1, 1, 0, 0, 0, 0, 6, 0, 6, 0, 5, 1, 1, 3, 6, 0, 0, 1, 6, 1, 0, 6, 0, 1, 0, 1, 5, 0, 1, 6, 4, 1, 1, 1, 0, 0, 6, 1, 5, 0, 1, 0, 1, 1, 0, 0, 0, 0, 0, 0, 0, 0, 3, 5, 1, 1, 4, 0, 0, 6, 5, 3, 0, 0, 0, 3, 0, 4, 0, 0, 0, 0, 0, 0, 0, 6, 0, 4, 1, 1, 6, 0, 0, 5, 0, 1, 0, 3, 0, 0, 5, 6, 0, 0, 0, 0, 5, 0, 6, 2, 0, 1, 0, 0, 0, 1, 6, 1, 3, 5, 2, 6, 0, 1, 2, 0, 1, 0, 3, 0, 0, 0, 2, 3, 6, 5, 0, 1, 5, 2, 0, 0, 0, 0, 1, 6, 0, 0, 0, 2, 3, 6, 1, 0, 0, 6, 1, 0, 6, 1, 1, 0, 0, 1, 1, 0, 0, 5, 5, 1, 0, 1, 1, 0, 0, 0, 1, 0, 0, 0, 0, 2, 0, 0, 0, 4, 1, 0, 5, 0, 0, 0, 1, 2, 0, 2, 1, 1, 1, 0, 1, 0, 0, 0, 1, 0, 5, 0, 0, 6, 3, 0, 6, 4, 1, 0, 1, 1, 1, 0, 2, 5, 0, 2, 1, 5, 6, 2, 3, 0, 0, 1, 0, 0, 1, 1, 0, 2, 3, 0, 0, 2, 6, 0, 0, 0, 4, 0, 0, 5, 6, 0, 0, 0, 0, 1, 4, 0, 0, 0, 1, 0, 0, 0, 6, 6, 4, 2, 0, 0, 1, 0, 3, 0, 0, 0, 0, 6, 6, 1, 0, 4, 1, 0, 0, 1, 0, 0, 0, 1, 0, 0, 3, 0, 0, 0, 1, 1, 0, 0, 0, 1, 6, 0, 1, 0, 0, 1, 1, 6, 5, 3, 3, 0, 0, 1, 1, 1, 1, 1, 5, 6, 1, 1, 0, 0, 0, 1, 0, 6, 5, 5, 0, 0, 2, 6, 4, 1, 0, 0, 1, 0, 0, 1, 1, 5, 1, 1, 1, 0, 0, 6, 0, 1, 4, 3, 6, 0, 6, 5, 6, 0, 5, 0, 0, 1, 0, 5, 1, 1, 0, 0, 3, 0, 5, 5, 1, 6, 0, 4, 1, 0, 5, 2, 0, 3, 0, 0, 0, 0, 1, 6, 1, 0, 0, 0, 3, 1, 1, 1, 0, 0, 1, 2, 2, 1, 6, 0, 0, 0, 1, 1, 3, 1, 5, 1, 1, 0, 0, 1, 0, 0, 0, 1, 1, 1, 0, 1, 6, 0, 6, 1, 1, 0, 1, 5, 3, 6, 0, 6, 0, 1, 0, 2, 6, 0, 6, 3, 5, 6, 0, 5, 5, 6, 0, 0, 5, 0, 0, 5, 0, 5, 0, 4, 0, 0, 2, 0, 5, 0, 5, 5, 0, 1, 0, 3, 0, 0, 1, 5, 0, 0, 3, 5, 0, 0, 0, 6, 3, 2, 0, 0, 0, 1, 1, 6, 5, 5, 3, 0, 0, 6, 0, 3, 5, 6, 2, 0, 0, 0, 2, 0, 3, 0, 0, 1, 3, 0, 0, 6, 2, 0, 1, 0, 0, 1, 5, 4, 6, 0, 5, 1, 1, 6, 0, 6, 0, 1, 1, 5, 3, 1, 5, 0, 6, 5, 4, 2, 0, 3, 0, 1, 0, 0, 5, 0, 5, 5, 0, 1, 5, 6, 5, 1, 6, 1, 5, 0, 0, 1, 5, 1, 3, 0, 6, 6, 0, 0, 0, 6, 3, 1, 5, 1, 6, 1, 0, 1, 5, 0, 0, 0, 1, 0, 0, 5, 1, 1, 2, 5, 0, 0, 3, 0, 6, 0, 1, 0, 2, 4, 0, 0, 0, 6, 1, 2, 6, 0, 1, 1, 5, 0, 1, 5, 6, 0, 1, 1, 1, 0, 5, 0, 0, 0, 3, 4, 0, 4, 0, 0, 0, 0, 0, 1, 2, 1, 0, 0, 4, 6, 0, 1, 6, 0, 0, 3, 1, 5, 0, 0, 0, 0, 5, 1, 0, 0, 3, 1, 0, 5, 1, 1, 0, 0, 6, 1, 2, 0, 5, 5, 0, 0], \"coloraxis\": \"coloraxis\", \"symbol\": \"circle\"}, \"mode\": \"markers\", \"name\": \"\", \"showlegend\": false, \"type\": \"scattergl\", \"x\": [-122.16, -119.95, -118.49, -122.24, -121.45, -119.34, -121.01, -117.89, -119.44, -120.86, -122.52, -121.73, -120.5, -121.0, -118.45, -118.47, -122.18, -122.14, -124.25, -117.33, -122.64, -116.99, -117.87, -117.97, -118.47, -124.26, -118.12, -118.12, -118.31, -122.02, -117.05, -117.85, -122.09, -122.24, -121.34, -121.61, -117.85, -122.26, -121.84, -121.1, -119.65, -117.38, -122.43, -117.21, -121.97, -118.35, -118.34, -118.22, -117.05, -117.81, -117.18, -122.46, -118.19, -118.53, -117.67, -119.99, -118.17, -122.42, -118.34, -122.21, -118.09, -117.6, -118.48, -118.09, -118.04, -122.04, -118.1, -117.02, -117.09, -122.04, -121.22, -122.3, -122.21, -118.42, -117.63, -119.29, -118.3, -121.49, -122.18, -118.03, -121.3, -117.95, -118.04, -117.13, -121.9, -117.9, -123.81, -117.12, -120.12, -122.42, -122.5, -120.81, -120.39, -122.53, -121.43, -117.67, -121.44, -118.25, -121.68, -118.06, -121.3, -121.54, -118.44, -117.24, -117.07, -122.29, -117.23, -118.21, -118.26, -117.94, -117.02, -119.81, -119.61, -121.92, -117.09, -117.05, -118.34, -122.7, -119.03, -118.03, -119.21, -121.7, -118.08, -118.23, -122.16, -122.23, -117.18, -122.14, -117.11, -119.24, -122.26, -122.25, -117.9, -122.02, -121.77, -122.43, -121.38, -118.28, -121.67, -121.79, -121.87, -117.93, -118.4, -118.15, -117.05, -121.21, -118.3, -122.63, -118.01, -117.34, -118.01, -121.79, -117.05, -118.26, -117.91, -118.6, -122.33, -122.04, -118.95, -118.38, -122.74, -121.25, -118.31, -117.98, -122.4, -118.33, -117.74, -122.33, -122.19, -118.2, -119.22, -121.5, -121.56, -123.23, -118.39, -121.06, -118.16, -121.59, -116.94, -118.97, -122.25, -117.71, -119.76, -121.35, -122.81, -118.12, -117.11, -121.69, -122.4, -122.04, -118.51, -120.76, -116.76, -118.17, -121.27, -121.42, -117.28, -120.72, -118.18, -118.09, -122.33, -117.14, -118.28, -117.66, -119.8, -120.42, -117.87, -121.53, -120.95, -122.19, -117.15, -118.01, -117.08, -118.29, -122.04, -118.03, -118.58, -117.1, -118.13, -121.27, -118.21, -117.01, -119.87, -118.31, -118.16, -121.8, -122.48, -117.91, -121.36, -122.43, -118.19, -120.05, -121.02, -116.46, -117.88, -121.74, -117.28, -117.24, -117.66, -120.65, -118.26, -118.46, -122.2, -118.32, -121.99, -118.61, -122.29, -118.36, -118.42, -118.18, -122.48, -117.58, -122.75, -118.33, -118.1, -120.86, -117.28, -121.93, -118.19, -122.4, -121.92, -118.23, -117.36, -121.85, -121.91, -118.17, -120.36, -122.09, -117.77, -117.84, -121.49, -122.33, -121.9, -118.46, -118.7, -122.21, -118.15, -122.01, -118.36, -118.42, -122.56, -121.03, -120.94, -118.35, -122.84, -118.98, -118.34, -119.05, -122.01, -122.22, -119.22, -120.07, -118.22, -120.0, -117.88, -117.91, -122.67, -118.91, -119.76, -117.22, -121.07, -122.07, -118.26, -118.26, -118.32, -118.51, -117.29, -121.77, -116.69, -117.14, -121.9, -121.9, -117.66, -122.0, -118.06, -118.07, -122.47, -118.01, -118.65, -117.98, -122.19, -117.05, -118.54, -117.24, -121.15, -122.9, -117.13, -117.34, -118.01, -118.98, -121.3, -118.2, -121.96, -120.43, -121.3, -117.92, -119.19, -118.16, -121.19, -121.58, -119.76, -121.37, -122.45, -117.11, -118.17, -121.02, -117.87, -117.57, -118.15, -121.97, -117.32, -118.03, -118.41, -118.22, -121.58, -120.88, -118.3, -121.31, -117.05, -123.84, -117.79, -117.14, -117.23, -118.25, -116.98, -118.33, -122.53, -118.14, -120.87, -118.06, -122.47, -117.69, -117.01, -122.12, -118.52, -117.24, -119.69, -118.5, -121.81, -122.41, -117.33, -118.16, -117.55, -117.23, -119.03, -118.22, -122.35, -119.29, -121.51, -121.25, -117.68, -121.93, -118.06, -117.13, -120.87, -122.11, -118.21, -122.02, -117.66, -122.28, -120.82, -117.14, -121.94, -117.46, -118.88, -121.33, -118.53, -118.36, -121.97, -118.28, -122.22, -117.96, -118.37, -118.37, -122.05, -117.88, -119.31, -122.08, -118.45, -117.24, -122.26, -117.99, -117.03, -118.15, -122.55, -118.06, -122.44, -121.33, -118.09, -118.64, -121.7, -121.33, -119.79, -118.08, -117.03, -117.25, -117.13, -122.1, -119.7, -118.17, -117.96, -122.49, -121.32, -118.74, -119.65, -120.54, -117.68, -118.9, -122.02, -122.41, -122.09, -117.25, -120.46, -122.42, -119.71, -121.06, -122.14, -122.07, -117.24, -121.31, -121.34, -118.09, -118.4, -116.92, -122.46, -121.87, -122.46, -122.19, -117.16, -122.19, -117.75, -120.59, -118.92, -118.06, -122.41, -118.48, -117.08, -117.73, -121.8, -118.26, -122.05, -120.73, -122.27, -117.47, -117.97, -117.97, -119.31, -120.38, -117.96, -122.29, -122.08, -122.03, -118.29, -122.42, -121.0, -117.83, -121.07, -117.83, -120.47, -121.29, -121.98, -116.96, -121.27, -118.27, -117.6, -117.97, -117.95, -122.03, -121.57, -122.43, -122.27, -119.1, -117.98, -118.26, -117.69, -122.2, -118.15, -122.28, -119.37, -119.81, -120.9, -121.91, -117.23, -121.95, -117.24, -120.07, -118.32, -118.38, -118.11, -118.18, -122.44, -118.08, -121.03, -121.6, -118.08, -122.39, -117.05, -122.46, -124.18, -116.91, -117.96, -117.61, -117.25, -122.5, -117.03, -119.37, -118.44, -119.69, -121.3, -117.45, -122.04, -119.59, -118.07, -118.02, -122.13, -121.87, -117.8, -118.38, -122.41, -120.64, -122.01, -117.66, -121.2, -120.01, -122.46, -119.74, -118.86, -118.94, -121.89, -122.41, -121.53, -122.29, -121.53, -118.4, -121.94, -123.64, -119.64, -119.3, -117.21, -117.31, -117.02, -117.58, -121.76, -121.19, -118.1, -117.85, -117.96, -122.66, -116.22, -117.16, -118.27, -118.08, -122.0, -120.93, -118.32, -117.31, -118.27, -118.41, -122.07, -117.82, -119.01, -121.7, -117.82, -118.15, -116.77, -118.13, -118.37, -117.66, -119.75, -118.5, -118.61, -118.72, -122.9, -119.71, -118.35, -122.32, -118.02, -122.32, -118.27, -117.62, -119.73, -118.39, -118.34, -118.03, -121.76, -121.99, -121.88, -117.1, -118.11, -123.24, -117.96, -118.34, -117.07, -121.19, -122.06, -118.3, -118.34, -118.31, -122.04, -118.59, -117.83, -118.39, -118.29, -120.64, -117.87, -122.44, -117.16, -122.34, -122.4, -118.36, -118.77, -122.43, -117.52, -120.94, -118.48, -118.43, -122.43, -117.89, -117.07, -121.83, -119.73, -119.33, -118.07, -119.85, -118.61, -117.97, -118.2, -117.76, -121.88, -119.14, -119.78, -118.36, -122.26, -120.63, -122.28, -122.27, -118.31, -120.82, -117.15, -118.46, -118.54, -117.04, -118.17, -122.46, -122.21, -121.75, -118.31, -117.96, -117.25, -122.46, -121.45, -117.78, -119.3, -119.1, -117.21, -118.42, -122.12, -122.1, -117.42, -118.61, -118.34, -118.39, -118.88, -116.98, -122.36, -119.14, -118.13, -117.05, -117.31, -119.71, -118.13, -121.32, -120.93, -119.85, -120.07, -118.16, -117.72, -122.65, -119.7, -122.52, -121.39, -118.03, -121.92, -121.36, -116.84, -122.82, -122.47, -124.13, -118.36, -118.34, -119.75, -122.0, -117.34, -117.14, -121.75, -117.32, -122.5, -122.22, -117.73, -119.19, -119.69, -117.13, -121.61, -121.91, -122.44, -122.12, -122.25, -118.37, -117.41, -122.01, -117.49, -118.05, -117.91, -121.37, -117.93, -122.45, -118.09, -120.46, -118.44, -117.21, -121.26, -122.45, -121.82, -118.29, -117.64, -118.0, -122.24, -120.82, -118.06, -118.16, -120.59, -118.42, -121.63, -122.47, -121.27, -121.84, -115.52, -120.84, -118.27, -122.27, -118.34, -119.44, -116.88, -119.46, -118.06, -118.56, -122.05, -122.25, -117.36, -117.9, -121.96, -121.94, -122.3, -120.79, -119.22, -122.52, -118.14, -117.83, -120.39, -119.34, -117.95, -117.23, -117.69, -121.86, -117.69, -117.07, -119.77, -118.34, -118.12, -119.7, -115.62, -121.04, -118.13, -120.43, -117.89, -118.3, -121.15, -121.97, -120.87, -121.42, -118.18, -117.64, -121.27, -118.07, -117.91, -120.7, -121.45, -122.4, -121.51, -118.34, -119.06, -117.27, -122.91, -117.97, -118.31, -122.56, -121.29, -118.42, -122.47, -118.48, -117.37, -118.24, -120.96, -122.45, -121.99, -117.92, -122.18, -118.49, -118.33, -118.27, -117.25, -122.39, -118.21, -121.31, -117.01, -117.05, -117.98, -122.25, -117.69, -118.21, -117.06, -121.96, -119.55, -122.21, -118.02, -117.77, -121.11, -117.62, -118.08, -122.22, -117.34, -117.98, -118.34, -118.21, -118.98, -122.05, -119.55, -117.62, -117.04, -120.68, -121.51, -121.83, -123.2, -117.71, -118.11, -117.01, -122.42, -117.99, -122.12, -118.02, -118.32, -122.31, -118.41, -118.03, -122.44, -119.24, -117.1, -121.8, -118.3, -122.3, -119.8, -118.13, -118.06, -117.13, -118.41, -117.87, -118.35, -118.24, -117.18, -118.47, -118.38, -117.23, -118.19, -118.2, -122.07, -123.4, -117.97, -122.06, -121.86, -118.3, -118.06, -121.3, -120.91, -118.25, -119.71, -121.98, -117.96, -118.16, -119.44, -118.25, -118.24, -122.44, -119.71, -121.84, -118.17, -118.49, -121.89, -118.5, -121.87, -120.76, -121.66, -121.83, -121.87, -122.13, -122.26, -119.84, -117.04, -118.3, -118.12, -118.4, -117.13, -118.35, -119.88, -122.26, -121.01, -118.34, -117.9, -117.17, -121.48, -118.04, -120.45, -118.17, -118.13, -117.67, -122.42, -118.24, -116.99, -118.38, -122.39, -121.91, -119.0, -118.45, -119.73, -118.19, -118.19, -121.31, -119.19, -117.92, -118.2, -120.35, -117.08, -122.37, -122.44, -117.33, -118.24, -122.06, -122.29, -121.86, -117.32, -118.42, -122.86, -122.3, -116.95, -122.02, -117.2, -119.09, -117.98, -118.15, -121.27, -118.36, -122.26, -121.78, -119.09, -118.04, -117.12, -121.43, -122.04, -117.1, -117.93, -116.98, -118.01, -117.95, -118.09, -115.37, -114.61, -117.07, -117.03, -117.78, -118.13, -117.25, -122.43, -118.27, -122.79, -117.38, -121.98, -121.5, -122.62, -117.71, -121.04, -115.98, -120.87, -118.43, -117.12, -117.9, -122.5, -118.5, -121.04, -118.08, -122.28, -122.44, -117.86, -122.09, -121.04, -121.83, -120.71, -122.0, -119.32, -120.26, -118.29, -117.22, -121.99, -121.49, -118.01, -118.1, -117.95, -117.86, -118.37, -121.88, -118.03, -117.97, -117.62, -117.79, -118.14, -121.62, -122.53, -122.63, -122.46, -122.11, -118.48, -116.92, -121.8, -118.23, -118.21, -117.27, -117.41, -122.03, -121.51, -120.86, -117.89, -118.2, -122.08, -122.19, -122.41, -119.96, -117.22, -117.85, -120.13, -121.83, -122.23, -122.25, -116.83, -120.97, -122.02, -121.2, -117.42, -118.32, -117.25, -120.48, -117.08, -117.62, -118.2, -117.13, -119.06, -117.45, -122.37, -120.93, -116.9, -122.29, -118.22, -117.9, -117.67, -118.36, -120.84, -120.27, -121.44, -121.64, -118.07, -118.25, -119.03, -122.27, -117.38, -120.32, -118.03, -122.04, -119.27, -118.27, -117.23, -118.31, -118.99, -120.58, -118.45, -118.29, -120.62, -118.45, -117.09, -120.46, -116.54, -117.96, -118.26, -118.13, -117.24, -117.3, -118.32, -119.59, -117.77, -118.04, -120.06, -118.03, -117.95, -121.37, -119.78, -118.07, -118.35, -122.59, -122.36, -117.09, -117.46, -122.03, -118.11, -118.35, -119.83, -118.36, -118.6, -121.53, -122.42, -120.95, -118.57, -118.3, -121.24, -118.98, -118.13, -117.0, -122.44, -121.17, -119.17, -118.32, -122.08, -118.4, -122.26, -118.27, -121.44, -119.33, -118.06, -118.09, -121.84, -121.48, -118.52, -118.1, -117.14, -117.73, -117.16, -116.54, -120.78, -117.81, -121.2, -122.71, -117.13, -117.97, -118.61, -120.44, -118.21, -122.17, -117.07, -120.99, -122.18, -117.29, -122.23, -118.23, -122.26, -118.21, -122.33, -117.17, -120.61, -121.34, -117.89, -117.01, -119.22, -122.23, -121.76, -122.13, -119.84, -121.86, -120.98, -121.81, -121.44, -118.28, -117.91, -122.44, -122.25, -119.77, -119.77, -121.35, -117.27, -121.97, -119.05, -122.03, -118.57, -119.2, -117.74, -117.86, -116.19, -118.33, -117.81, -118.25, -117.33, -119.96, -118.95, -120.84, -118.1, -118.78, -117.65, -122.42, -121.95, -117.2, -118.4, -120.87, -116.21, -117.12, -118.41, -118.42, -121.34, -122.27, -117.87, -121.81, -118.08, -118.14, -118.44, -123.5, -118.2, -121.61, -122.44, -117.27, -117.12, -120.84, -118.35, -122.17, -121.99, -121.39, -118.1, -122.27, -121.92, -118.6, -119.28, -122.11, -124.15, -116.6, -118.14, -118.39, -119.22, -117.94, -118.19, -122.46, -117.74, -122.08, -118.02, -117.08, -117.86, -117.68, -116.38, -118.44, -118.37, -118.3, -118.33, -118.14, -118.28, -118.19, -116.96, -118.31, -118.21, -118.19, -117.84, -117.91, -118.2, -120.87, -117.51, -120.45, -117.36, -119.03, -118.3, -121.5, -121.82, -117.05, -117.85, -120.35, -123.15, -119.81, -118.18, -122.21, -122.47, -116.91, -121.61, -119.87, -123.53, -119.75, -122.26, -117.2, -117.28, -118.18, -122.51, -117.09, -118.4, -122.26, -120.07, -117.28, -117.69, -118.39, -122.32, -121.01, -117.95, -117.99, -117.78, -117.04, -118.41, -117.17, -118.19, -117.21, -122.75, -122.27, -120.57, -121.96, -118.01, -122.71, -122.22, -120.83, -118.94, -123.71, -120.66, -118.42, -122.69, -117.67, -121.86, -121.17, -118.25, -122.79, -117.79, -121.28, -122.49, -118.16, -118.24, -118.3, -117.1, -118.14, -117.35, -117.06, -117.75, -122.39, -118.37, -121.81, -121.92, -121.99, -118.15, -115.6, -120.89, -118.93, -122.2, -118.3, -118.03, -122.51, -121.27, -117.05, -120.98, -122.12, -121.06, -118.29, -118.42, -117.14, -118.16, -119.76, -122.04, -122.07, -118.19, -118.18, -118.03, -117.14, -122.27, -120.27, -121.3, -118.32, -118.13, -121.71, -117.37, -118.96, -121.81, -117.19, -120.38, -122.17, -122.66, -118.09, -122.06, -121.64, -119.71, -118.16, -115.52, -118.12, -122.79, -121.46, -117.97, -119.08, -120.84, -122.49, -122.0, -124.16, -121.8, -119.72, -122.45, -121.15, -117.76, -121.08, -117.44, -117.75, -119.7, -118.23, -119.04, -117.47, -120.69, -117.73, -121.97, -123.21, -118.07, -117.45, -121.49, -118.21, -117.37, -118.21, -117.27, -117.96, -122.29, -118.14, -117.64, -120.1, -118.36, -117.26, -121.64, -122.18, -122.23, -122.19, -119.67, -117.12, -117.55, -121.9, -118.22, -122.44, -118.26, -121.21, -117.41, -118.13, -117.37, -121.62, -122.4, -122.26, -117.96, -117.1, -118.14, -122.1, -121.92, -122.01, -118.14, -118.06, -122.49, -122.48, -121.28, -122.16, -121.85, -121.97, -122.14, -121.25, -121.87, -118.39, -120.93, -115.54, -122.23, -117.48, -121.58, -123.39, -116.16, -121.82, -121.35, -119.25, -119.52, -118.15, -121.97, -122.45, -118.31, -119.74, -124.02, -120.38, -123.12, -122.29, -117.66, -122.13, -118.52, -121.11, -118.4, -118.28, -121.98, -122.23, -118.77, -122.1, -115.54, -117.05, -117.04, -118.3, -122.69, -122.13, -119.01, -117.08, -122.45, -122.08, -117.44, -117.56, -122.15, -119.25, -122.08, -118.33, -119.79, -117.41, -116.98, -117.63, -121.79, -117.98, -117.8, -118.41, -122.12, -118.11, -121.96, -117.97, -121.94, -122.07, -122.09, -117.1, -122.17, -121.11, -118.44, -117.97, -117.98, -117.93, -122.22, -121.99, -118.17, -120.66, -117.28, -117.82, -118.35, -120.0, -117.14, -118.17, -118.92, -122.61, -117.01, -118.29, -122.29, -118.31, -117.68, -118.34, -118.09, -118.24, -118.52, -118.32, -121.79, -120.83, -116.99, -122.42, -118.27, -121.94, -116.96, -120.71, -116.9, -117.92, -120.16, -121.99, -122.3, -117.03, -122.08, -118.32, -122.56, -118.37, -117.81, -117.11, -120.83, -117.8, -118.27, -121.45, -121.23, -121.77, -122.02, -115.5, -117.08, -117.57, -118.08, -117.88, -117.16, -118.45, -117.13, -119.93, -121.97, -121.81, -122.45, -122.38, -118.08, -120.66, -122.12, -118.45, -118.17, -117.62, -122.44, -122.31, -118.04, -118.38, -118.32, -121.25, -121.42, -122.0, -117.9, -122.31, -122.33, -118.11, -117.89, -117.65, -121.48, -121.32, -119.19, -121.84, -121.34, -122.13, -121.56, -117.43, -117.81, -118.2, -118.12, -117.64, -121.27, -117.89, -122.25, -120.47, -122.47, -122.04, -117.59, -118.34, -122.44, -122.34, -119.89, -121.92, -122.27, -117.82, -118.32, -122.24, -116.93, -117.43, -122.35, -118.63, -118.58, -118.37, -120.1, -121.36, -121.44, -117.4, -121.25, -122.07, -117.73, -119.78, -120.55, -117.76, -117.35, -122.31, -117.92, -122.47, -118.28, -118.1, -117.89, -122.41, -121.3, -122.24, -121.0, -121.3, -120.71, -118.04, -120.72, -117.71, -118.35, -122.01, -117.69, -117.29, -118.11, -121.09, -118.47, -117.07, -122.45, -122.41, -117.89, -119.39, -118.08, -117.93, -118.05, -117.86, -121.3, -122.7, -121.95, -118.59, -122.26, -118.13, -124.1, -118.21, -117.67, -117.95, -122.43, -118.37, -122.13, -118.03, -118.11, -122.68, -122.44, -118.46, -122.3, -118.35, -117.9, -118.85, -119.25, -117.11, -118.17, -116.44, -122.25, -117.41, -117.95, -117.86, -117.9, -118.1, -117.11, -121.88, -121.88, -118.18, -118.13, -121.28, -117.09, -118.87, -117.82, -118.41, -117.9, -117.23, -117.1, -118.48, -117.45, -121.03, -122.02, -119.83, -122.76, -117.26, -118.45, -121.94, -120.51, -117.85, -118.36, -122.07, -118.27, -121.06, -119.22, -118.33, -118.34, -121.98, -122.06, -121.25, -121.99, -122.49, -118.47, -117.66, -118.04, -122.12, -122.08, -118.26, -118.07, -117.14, -122.44, -117.97, -117.86, -122.03, -122.86, -118.12, -122.26, -122.27, -122.21, -117.99, -116.8, -117.55, -122.43, -117.83, -121.98, -119.81, -118.24, -119.62, -119.0, -117.09, -118.14, -118.38, -121.35, -117.3, -118.09, -120.9, -117.02, -118.42, -117.81, -121.67, -118.22, -122.34, -122.26, -118.15, -119.02, -119.27, -118.42, -118.15, -118.25, -122.01, -121.18, -118.39, -117.07, -118.28, -122.02, -118.37, -121.15, -117.08, -120.3, -121.35, -118.3, -118.27, -118.14, -118.06, -122.36, -122.07, -122.01, -118.31, -120.19, -117.96, -122.48, -117.07, -122.16, -119.77, -119.85, -118.3, -119.93, -121.8, -122.4, -122.47, -118.44, -121.22, -117.22, -120.07, -118.28, -122.45, -122.34, -117.32, -115.58, -118.13, -117.09, -122.26, -118.04, -122.47, -118.2, -120.85, -120.44, -121.44, -122.04, -120.4, -118.47, -117.62, -121.97, -122.19, -119.55, -117.06, -118.56, -117.41, -117.09, -122.53, -117.74, -117.79, -121.83, -121.97, -118.52, -119.5, -118.52, -118.2, -118.18, -118.25, -118.43, -118.87, -118.55, -117.97, -122.27, -117.23, -119.71, -121.94, -118.62, -122.06, -120.94, -121.33, -118.2, -117.91, -118.1, -118.48, -117.12, -117.25, -118.37, -118.13, -122.12, -118.19, -119.83, -118.07, -122.12, -121.32, -122.12, -116.92, -118.1, -122.44, -118.36, -117.92, -118.52, -123.22, -117.22, -121.34, -121.2, -118.19, -119.18, -117.21, -121.19, -120.96, -118.21, -118.09, -118.54, -118.42, -121.76, -117.14, -121.09, -118.35, -118.46, -118.2, -120.89, -117.62, -118.88, -117.57, -121.78, -122.63, -117.69, -118.23, -122.3, -117.84, -118.15, -117.85, -118.29, -117.28, -120.96, -117.18, -117.66, -121.04, -122.12, -118.36, -117.98, -117.69, -122.94, -119.18, -121.79, -116.47, -118.12, -120.02, -117.77, -117.17, -117.19, -121.94, -124.13, -117.99, -118.55, -118.34, -118.21, -120.55, -118.28, -117.94, -119.38, -122.31, -118.3, -121.63, -118.39, -118.02, -117.38, -117.21, -122.12, -117.87, -118.01, -116.94, -121.21, -122.82, -119.57, -119.23, -117.98, -121.89, -119.33, -117.05, -122.12, -121.81, -120.26, -118.4, -118.25, -118.1, -122.18, -118.78, -121.95, -115.54, -117.39, -121.22, -118.42, -118.51, -121.28, -120.41, -121.05, -117.12, -117.97, -117.7, -118.18, -121.78, -117.98, -117.93, -121.32, -117.25, -117.05, -119.74, -117.07, -122.5, -116.96, -122.02, -122.49, -122.18, -122.02, -118.06, -121.96, -121.91, -122.24, -121.83, -118.14, -119.18, -122.26, -116.47, -122.4, -121.65, -120.06, -120.76, -118.34, -121.0, -119.82, -120.96, -121.39, -117.34, -118.26, -119.84, -121.77, -118.55, -122.05, -122.61, -116.44, -122.33, -122.11, -118.01, -119.09, -118.29, -117.2, -118.08, -121.9, -120.05, -120.69, -121.88, -117.11, -117.75, -118.43, -117.12, -117.44, -117.94, -118.14, -121.42, -121.98, -122.01, -122.04, -118.01, -122.14, -122.53, -122.42, -118.28, -122.4, -117.02, -118.32, -118.04, -117.9, -119.76, -117.85, -118.27, -117.88, -117.04, -117.22, -117.12, -121.94, -117.6, -117.71, -121.43, -122.46, -119.81, -117.03, -121.03, -122.24, -117.86, -117.98, -121.6, -122.72, -117.64, -118.43, -121.85, -121.16, -117.2, -121.96, -122.38, -118.44, -122.07, -118.41, -121.01, -121.45, -118.31, -117.86, -117.91, -120.48, -122.26, -121.35, -121.36, -121.69, -117.05, -118.12, -117.31, -117.74, -117.64, -117.81, -117.39, -118.29, -121.89, -121.28, -122.46, -118.37, -117.87, -119.31, -118.12, -122.13, -119.14, -118.51, -118.25, -118.06, -119.33, -117.98, -118.38, -122.0, -119.59, -121.43, -118.23, -122.16, -115.53, -118.2, -121.98, -117.86, -119.2, -118.16, -118.88, -117.29, -122.38, -120.08, -117.71, -117.66, -121.21, -117.72, -119.17, -118.38, -122.28, -117.49, -121.89, -122.15, -118.41, -121.57, -118.53, -117.94, -121.86, -119.36, -118.3, -119.03, -118.11, -120.43, -121.42, -118.28, -117.14, -118.25, -118.38, -118.01, -118.24, -117.09, -121.49, -117.62, -117.86, -121.32, -122.22, -118.18, -117.95, -117.12, -118.35, -117.47, -118.11, -118.4, -117.9, -118.86, -122.24, -123.0, -117.27, -122.32, -121.76, -118.4, -118.18, -118.19, -118.3, -119.8, -118.33, -118.27, -117.88, -117.76, -117.97, -121.97, -121.25, -122.28, -122.71, -117.11, -119.02, -121.94, -118.08, -124.16, -122.05, -118.48, -118.06, -118.43, -122.25, -118.26, -119.69, -118.61, -117.04, -118.45, -122.06, -121.89, -117.65, -118.21, -118.14, -118.3, -118.34, -117.54, -118.03, -118.36, -121.41, -116.91, -122.01, -117.24, -118.18, -118.19, -121.3, -117.41, -122.03, -118.19, -119.75, -117.65, -117.84, -121.02, -118.38, -117.28, -121.23, -122.07, -118.4, -119.95, -120.83, -118.35, -122.71, -118.04, -119.69, -118.32, -121.76, -117.96, -114.55, -115.95, -120.88, -118.21, -121.83, -118.0, -118.03, -118.4, -122.02, -118.31, -122.24, -122.25, -118.51, -117.2, -118.2, -117.14, -117.11, -121.99, -119.29, -122.09, -118.22, -118.22, -119.96, -117.59, -118.11, -118.38, -118.58, -117.2, -118.09, -116.88, -121.8, -121.91, -116.9, -120.96, -116.93, -119.78, -118.28, -122.28, -121.44, -117.09, -122.27, -121.33, -121.33, -117.68, -118.09, -117.95, -118.31, -121.88, -121.93, -120.93, -118.0, -116.92, -118.44, -118.27, -118.56, -121.11, -122.49, -117.96, -121.96, -118.99, -122.46, -119.63, -122.07, -119.67, -118.35, -117.13, -119.27, -117.2, -116.38, -118.32, -119.67, -122.19, -122.41, -118.38, -120.49, -122.04, -121.62, -118.03, -119.31, -122.4, -118.41, -119.54, -117.72, -122.45, -120.5, -120.61, -122.2, -122.12, -117.03, -122.16, -118.81, -118.4, -119.31, -122.1, -117.55, -117.89, -117.66, -121.28, -117.77, -122.27, -122.08, -118.29, -122.92, -117.85, -121.65, -118.06, -118.1, -116.96, -120.68, -121.94, -116.85, -118.13, -117.92, -122.28, -118.08, -117.71, -117.27, -118.22, -118.23, -119.17, -118.64, -117.67, -119.77, -122.0, -121.92, -120.33, -122.27, -122.19, -122.2, -120.1, -118.1, -119.74, -120.48, -120.66, -116.97, -117.64, -117.13, -117.94, -116.98, -122.7, -118.27, -121.21, -117.14, -118.13, -117.9, -122.52, -120.85, -118.32, -124.11, -117.22, -118.46, -122.44, -118.46, -121.71, -117.09, -119.85, -121.38, -121.82, -118.44, -117.5, -118.28, -117.89, -118.45, -122.26, -118.28, -118.34, -122.2, -117.3, -118.29, -121.57, -117.66, -118.18, -117.03, -117.24, -117.23, -117.87, -118.15, -121.97, -118.28, -118.31, -122.25, -117.92, -118.46, -117.89, -122.43, -122.1, -117.18, -119.66, -117.97, -117.24, -118.46, -120.54, -120.09, -122.03, -118.41, -121.99, -118.3, -122.74, -119.34, -121.34, -122.28, -118.15, -118.1, -118.55, -118.15, -118.49, -119.85, -121.99, -118.29, -121.97, -122.27, -117.11, -118.1, -122.42, -117.87, -118.14, -121.32, -119.19, -118.8, -118.1, -117.29, -122.76, -118.47, -117.95, -122.17, -118.36, -117.04, -118.31, -121.65, -122.07, -118.15, -119.81, -117.09, -119.02, -122.46, -120.88, -121.44, -118.54, -117.34, -118.41, -122.25, -121.83, -120.75, -118.27, -121.7, -120.54, -118.51, -121.21, -122.28, -119.74, -117.42, -118.41, -121.92, -118.04, -118.84, -118.2, -119.71, -120.79, -117.97, -118.1, -118.18, -117.81, -122.29, -118.08, -118.18, -117.97, -122.43, -117.27, -117.07, -118.3, -118.46, -120.9, -122.1, -117.23, -120.92, -117.86, -118.01, -118.3, -121.83, -122.54, -119.27, -117.11, -117.26, -121.26, -121.8, -118.36, -118.14, -122.45, -117.32, -118.99, -117.42, -121.3, -122.2, -118.99, -122.02, -121.69, -116.37, -118.17, -121.45, -118.32, -117.77, -118.31, -120.67, -118.59, -118.32, -117.04, -117.97, -117.92, -121.89, -117.92, -118.27, -117.16, -120.48, -118.29, -120.83, -122.33, -117.95, -122.43, -122.0, -118.36, -118.28, -121.31, -118.02, -121.02, -122.32, -121.11, -118.37, -118.43, -114.58, -122.01, -122.04, -123.76, -122.02, -118.3, -117.4, -122.34, -118.25, -117.28, -118.19, -121.35, -120.84, -118.37, -118.23, -118.19, -116.96, -122.18, -121.98, -118.17, -118.54, -117.72, -120.62, -122.05, -118.16, -118.51, -117.81, -123.19, -121.8, -118.4, -118.43, -117.13, -118.27, -117.12, -119.69, -118.56, -119.01, -122.05, -121.93, -121.53, -117.99, -118.03, -119.77, -118.44, -119.01, -118.31, -117.74, -121.92, -119.48, -118.28, -122.61, -117.92, -122.14, -117.65, -117.5, -118.47, -122.47, -118.24, -122.35, -119.85, -122.31, -122.25, -118.91, -116.99, -118.37, -122.41, -117.86, -117.97, -118.16, -121.24, -121.48, -118.31, -118.42, -118.71, -116.99, -120.59, -122.82, -121.2, -118.15, -121.04, -118.38, -118.36, -118.34, -119.02, -118.38, -118.26, -117.23, -118.05, -118.21, -122.54, -117.14, -117.18, -122.18, -116.99, -117.93, -118.16, -117.02, -122.22, -116.96, -117.97, -119.68, -117.95, -122.7, -120.9, -118.23, -121.38, -121.56, -117.12, -118.59, -117.24, -118.31, -122.55, -116.91, -119.78, -118.49, -118.4, -118.32, -118.5, -121.51, -117.11, -120.45, -118.38, -118.32, -118.39, -120.43, -118.13, -117.32, -120.96, -118.17, -117.94, -121.49, -122.13, -115.73, -119.85, -118.15, -118.2, -117.21, -118.09, -122.06, -122.29, -117.9, -117.13, -117.17, -117.14, -122.14, -121.47, -117.05, -117.86, -122.17, -118.04, -122.05, -117.41, -121.85, -119.18, -118.2, -121.22, -117.95, -122.07, -121.98, -117.21, -119.06, -122.87, -119.61, -118.17, -121.3, -118.44, -117.93, -117.93, -122.13, -118.36, -117.97, -118.2, -121.27, -122.06, -122.04, -122.01, -124.09, -115.55, -122.83, -122.03, -118.3, -118.29, -117.73, -118.1, -117.32, -117.19, -118.18, -122.5, -117.92, -117.86, -117.32, -121.9, -122.49, -118.88, -119.85, -121.7, -121.23, -116.95, -122.16, -121.38, -117.79, -118.18, -118.25, -121.32, -118.34, -117.64, -117.2, -118.56, -122.16, -116.35, -117.19, -122.42, -122.29, -122.17, -121.27, -122.05, -118.31, -118.12, -120.73, -117.91, -118.37, -122.35, -117.8, -122.05, -117.32, -117.75, -118.42, -118.25, -118.25, -121.33, -117.99, -118.17, -118.09, -117.12, -118.79, -121.83, -118.91, -118.31, -122.19, -118.62, -118.99, -120.44, -121.93, -122.27, -117.84, -117.36, -122.48, -118.43, -118.15, -117.25, -123.07, -122.39, -122.82, -118.28, -121.94, -118.29, -121.56, -118.19, -120.71, -121.29, -121.27, -117.87, -117.18, -117.16, -117.69, -117.93, -118.35, -122.28, -118.39, -122.49, -117.35, -118.6, -122.46, -118.47, -121.71, -118.3, -120.45, -118.4, -122.29, -118.01, -122.24, -122.33, -119.69, -118.56, -120.72, -118.53, -121.62, -120.94, -118.31, -118.0, -121.98, -119.8, -118.36, -117.17, -117.37, -118.13, -117.95, -124.06, -121.64, -121.96, -122.04, -117.06, -122.26, -118.3, -122.13, -122.32, -122.27, -122.0, -116.89, -117.23, -118.3, -119.45, -122.15, -118.5, -118.35, -121.15, -117.2, -119.03, -115.52, -122.09, -122.32, -117.02, -117.06, -117.19, -121.93, -117.16, -118.35, -117.19, -117.35, -122.27, -121.98, -118.42, -119.3, -118.08, -121.0, -117.02, -117.26, -120.85, -117.06, -122.48, -120.86, -117.91, -121.85, -117.95, -122.23, -122.29, -121.22, -121.25, -118.43, -117.3, -117.72, -118.26, -118.46, -120.96, -117.89, -117.24, -119.77, -116.87, -120.43, -116.47, -118.21, -118.27, -118.09, -116.83, -122.25, -118.39, -117.28, -121.79, -122.02, -117.17, -121.81, -121.9, -121.0, -120.98, -118.28, -122.15, -122.29, -121.13, -122.48, -117.89, -122.14, -118.43, -122.49, -122.08, -122.03, -122.64, -122.63, -117.93, -118.12, -118.35, -117.2, -119.86, -117.96, -118.4, -118.34, -122.06, -118.47, -118.06, -117.91, -120.64, -118.44, -118.47, -122.73, -118.41, -122.64, -117.96, -118.14, -120.85, -118.5, -121.98, -117.7, -121.33, -118.09, -121.24, -122.26, -118.48, -116.39, -118.44, -120.27, -117.45, -117.19, -117.31, -118.39, -122.29, -121.54, -119.69, -118.06, -119.02, -121.78, -118.01, -122.06, -119.46, -115.73, -122.68, -117.29, -118.38, -119.85, -119.79, -117.4, -122.0, -119.32, -121.98, -121.75, -118.61, -122.51, -121.98, -122.22, -118.21, -117.27, -122.45, -122.04, -120.0, -120.64, -117.84, -118.96, -117.87, -117.32, -117.91, -122.25, -120.38, -122.36, -118.33, -122.47, -118.25, -121.99, -118.21, -118.32, -118.04, -122.45, -123.17, -117.12, -117.96, -121.3, -116.9, -116.97, -117.17, -118.12, -117.17, -116.93, -118.02, -118.35, -121.59, -119.73, -121.91, -118.34, -121.68, -118.34, -119.33, -119.25, -118.14, -121.93, -118.11, -120.46, -118.08, -119.72, -121.8, -121.11, -121.49, -121.9, -122.53, -118.29, -122.29, -121.42, -122.43, -121.01, -120.04, -122.89, -119.08, -118.49, -117.06, -117.79, -118.95, -117.02, -117.24, -120.37, -121.29, -121.39, -118.24, -118.47, -117.23, -117.9, -122.31, -118.18, -121.67, -118.02, -117.13, -119.04, -122.77, -117.1, -117.08, -117.8, -121.94, -118.44, -117.15, -121.23, -122.7, -117.07, -117.12, -117.88, -117.18, -117.34, -118.44, -120.01, -122.24, -122.36, -122.4, -122.13, -121.47, -119.71, -121.92, -119.79, -122.42, -118.27, -118.23, -119.77, -118.1, -118.95, -121.76, -118.43, -122.55, -119.27, -122.25, -123.35, -122.14, -114.73, -118.83, -121.73, -117.38, -116.56, -118.96, -120.55, -119.02, -118.16, -118.22, -118.17, -118.25, -118.44, -122.55, -117.04, -117.03, -124.3, -121.75, -122.25, -121.64, -121.9, -118.29, -122.51, -121.37, -118.92, -118.04, -118.22, -118.38, -120.93, -117.99, -122.72, -123.32, -122.0, -117.23, -122.46, -116.66, -119.95, -121.81, -120.94, -118.18, -122.46, -117.46, -122.88, -118.6, -120.65, -118.5, -122.03, -117.9, -118.23, -119.08, -118.01, -118.32, -120.91, -122.12, -118.28, -118.16, -118.21, -116.9, -118.24, -122.18, -118.49, -122.16, -115.56, -118.22, -118.22, -118.27, -119.67, -118.79, -118.18, -118.19, -118.2, -117.12, -118.29, -121.83, -121.48, -118.36, -118.38, -119.31, -118.46, -120.9, -121.47, -117.02, -118.35, -122.11, -121.9, -122.46, -118.31, -120.66, -119.75, -121.99, -117.29, -122.0, -118.9, -119.18, -121.59, -118.62, -118.28, -117.1, -121.34, -118.21, -122.08, -118.18, -120.76, -122.09, -117.92, -117.22, -120.89, -118.01, -118.22, -121.84, -120.57, -118.06, -117.27, -122.22, -122.48, -121.44, -120.99, -122.42, -122.46, -117.66, -118.32, -120.96, -120.65, -121.83, -118.27, -121.74, -118.02, -123.23, -118.95, -122.14, -122.15, -116.84, -120.69, -116.99, -124.09, -120.79, -121.44, -117.35, -121.73, -121.35, -122.4, -118.3, -118.2, -121.71, -118.32, -118.94, -118.75, -117.73, -122.27, -117.93, -121.96, -122.08, -118.15, -121.69, -121.54, -118.13, -117.2, -121.12, -118.52, -117.87, -118.25, -118.33, -119.82, -121.44, -121.92, -122.67, -119.29, -118.2, -121.59, -117.8, -122.08, -121.62, -120.98, -116.48, -117.48, -121.68, -124.05, -122.09, -117.37, -118.29, -122.21, -118.35, -122.43, -118.43, -122.22, -122.54, -119.28, -122.07, -121.83, -122.28, -116.87, -122.24, -118.31, -117.21, -117.69, -122.49, -117.27, -122.83, -119.32, -117.72, -122.02, -118.38, -121.03, -122.25, -118.21, -121.94, -117.27, -117.69, -118.06, -118.94, -117.26, -118.62, -122.44, -121.3, -117.48, -119.68, -117.07, -117.12, -121.51, -122.71, -118.36, -117.03, -118.28, -121.99, -122.1, -118.43, -117.71, -118.39, -117.97, -119.69, -119.64, -117.6, -115.99, -117.35, -118.02, -117.15, -122.01, -118.05, -121.81, -117.94, -122.54, -117.83, -122.38, -122.71, -121.27, -116.85, -119.03, -117.24, -121.34, -117.66, -118.33, -117.91, -121.3, -117.84, -118.34, -120.17, -120.3, -118.1, -121.61, -118.22, -118.96, -121.62, -119.82, -118.31, -118.58, -119.8, -122.28, -117.96, -120.97, -122.62, -121.75, -118.19, -117.98, -117.94, -122.96, -116.89, -118.39, -122.41, -121.27, -122.21, -121.38, -117.9, -120.41, -121.89, -122.22, -120.43, -121.82, -118.26, -122.23, -120.35, -119.1, -118.25, -117.43, -118.06, -118.47, -119.03, -122.12, -119.36, -120.71, -122.32, -121.26, -118.37, -121.31, -118.32, -122.43, -118.3, -121.41, -121.85, -117.26, -117.07, -118.37, -121.36, -121.98, -121.8, -122.17, -122.02, -118.05, -121.93, -117.02, -122.0, -116.99, -122.95, -122.06, -121.8, -122.96, -121.47, -122.08, -120.85, -119.63, -121.74, -118.23, -117.21, -118.44, -119.01, -118.24, -122.23, -120.26, -121.35, -121.8, -122.09, -118.22, -116.95, -121.35, -117.89, -118.43, -119.77, -117.05, -117.22, -118.2, -119.78, -120.97, -121.3, -122.43, -117.97, -121.75, -121.79, -121.86, -118.38, -122.12, -122.02, -117.26, -118.03, -122.35, -118.2, -122.69, -122.27, -119.53, -121.47, -118.4, -121.87, -122.25, -118.32, -122.0, -117.22, -117.06, -122.65, -118.29, -117.03, -122.5, -118.06, -122.0, -118.26, -121.52, -121.56, -117.94, -118.47, -117.13, -118.2, -119.0, -121.72, -118.32, -117.43, -121.84, -118.33, -121.98, -121.65, -122.06, -118.44, -121.31, -121.92, -122.23, -116.97, -120.76, -122.26, -118.48, -121.9, -117.35, -120.47, -122.19, -116.91, -116.89, -119.99, -118.16, -122.0, -121.29, -122.28, -118.34, -117.26, -118.11, -118.25, -117.06, -116.85, -121.43, -117.35, -117.83, -118.24, -121.89, -122.36, -118.11, -121.89, -120.69, -118.1, -118.93, -121.37, -118.83, -116.9, -116.98, -118.18, -122.2, -121.3, -120.92, -119.27, -122.49, -121.92, -117.69, -121.43, -118.22, -120.41, -121.94, -118.13, -117.98, -116.96, -122.46, -118.21, -117.97, -118.01, -121.36, -118.1, -122.35, -119.13, -119.51, -117.85, -117.35, -122.08, -119.77, -121.29, -122.02, -119.27, -122.18, -118.07, -118.03, -118.11, -121.87, -117.09, -121.85, -122.3, -116.25, -117.92, -122.28, -122.7, -117.29, -118.27, -118.03, -117.88, -121.35, -122.73, -121.76, -121.88, -117.32, -121.26, -117.04, -118.2, -118.23, -117.77, -122.22, -122.44, -119.73, -117.17, -122.41, -121.3, -118.45, -118.31, -117.51, -117.13, -116.32, -118.23, -121.78, -119.01, -121.28, -118.55, -117.72, -119.7, -117.12, -116.28, -118.07, -118.49, -118.28, -118.16, -118.15, -118.47, -122.07, -121.25, -117.7, -122.65, -118.9, -122.46, -118.38, -120.43, -122.45, -118.19, -118.94, -117.93, -117.08, -119.25, -117.94, -119.81, -117.05, -117.4, -122.27, -116.92, -117.1, -118.24, -120.83, -122.42, -122.44, -121.98, -121.88, -120.82, -122.25, -117.95, -117.11, -118.21, -122.23, -122.26, -120.25, -121.28, -118.75, -121.99, -121.89, -117.38, -117.9, -119.27, -118.98, -117.66, -122.13, -122.29, -122.08, -118.33, -117.45, -118.03, -121.81, -121.94, -117.28, -120.97, -117.94, -117.93, -122.02, -120.56, -118.42, -118.13, -120.96, -118.43, -121.82, -119.65, -117.01, -118.09, -118.1, -122.22, -118.1, -121.35, -121.62, -116.89, -117.06, -122.34, -118.43, -120.66, -118.28, -116.38, -122.1, -119.85, -122.2, -118.12, -122.22, -122.01, -117.1, -118.06, -118.34, -121.9, -121.82, -116.39, -121.94, -117.27, -121.7, -118.14, -121.05, -117.07, -122.2, -122.43, -122.24, -117.57, -118.98, -121.03, -119.67, -122.83, -119.76, -118.51, -118.29, -121.82, -118.21, -120.72, -117.11, -117.86, -119.23, -121.37, -119.81, -117.64, -116.86, -118.22, -117.98, -120.05, -121.8, -122.01, -115.52, -117.09, -121.31, -118.42, -117.31, -118.27, -118.46, -121.96, -118.97, -122.27, -121.92, -122.01, -121.44, -118.24, -118.31, -117.98, -118.58, -118.25, -118.43, -120.07, -117.69, -121.44, -119.03, -122.92, -119.0, -121.42, -117.98, -121.62, -121.26, -117.33, -120.76, -117.04, -117.29, -117.92, -118.34, -119.18, -119.81, -121.76, -121.25, -122.42, -118.74, -122.1, -120.8, -122.18, -117.83, -120.45, -117.3, -119.28, -121.96, -122.19, -121.22, -118.37, -118.31, -116.87, -117.68, -121.98, -118.27, -117.95, -122.26, -117.65, -121.37, -118.49, -118.22, -118.43, -121.06, -121.92, -118.24, -118.03, -122.41, -121.95, -119.04, -119.09, -118.25, -120.41, -122.34, -119.31, -121.05, -121.27, -118.31, -118.37, -118.2, -118.09, -117.96, -117.31, -117.94, -122.21, -117.24, -117.94, -118.41, -118.24, -118.02, -121.2, -117.05, -117.87, -116.86, -118.03, -118.14, -117.64, -118.99, -117.96, -115.56, -122.65, -118.1, -118.75, -122.27, -118.35, -118.27, -119.69, -118.14, -121.03, -121.2, -118.25, -121.36, -118.38, -117.09, -118.04, -122.07, -118.17, -116.97, -118.24, -121.89, -118.29, -118.28, -117.12, -119.45, -118.29, -122.26, -117.76, -121.29, -122.38, -117.81, -117.12, -117.96, -117.99, -122.98, -119.79, -121.1, -124.1, -122.36, -121.23, -122.52, -118.51, -117.24, -117.98, -118.33, -119.2, -121.25, -117.07, -117.97, -121.63, -117.67, -122.04, -118.28, -117.71, -118.34, -119.24, -119.77, -118.43, -117.22, -117.73, -122.46, -118.02, -118.56, -122.09, -122.35, -117.13, -121.06, -118.31, -121.55, -119.34, -122.13, -121.3, -122.45, -121.92, -120.45, -117.08, -118.26, -121.71, -119.02, -118.11, -119.02, -117.91, -121.46, -118.41, -117.42, -118.18, -118.18, -119.8, -122.23, -117.97, -118.6, -118.16, -122.02, -117.88, -118.21, -118.56, -118.16, -122.41, -118.67, -124.07, -122.08, -121.41, -118.33, -121.29, -117.98, -118.27, -118.41, -121.64, -117.83, -119.33, -117.17, -117.22, -121.98, -118.18, -122.27, -123.52, -117.71, -120.84, -118.43, -117.27, -121.33, -117.12, -118.3, -118.45, -122.1, -117.88, -121.84, -123.1, -123.19, -122.45, -118.36, -118.03, -115.85, -118.35, -122.89, -122.41, -122.13, -118.11, -118.4, -118.26, -121.54, -117.95, -122.91, -122.2, -121.42, -118.44, -121.43, -117.13, -117.35, -118.23, -115.56, -121.56, -118.24, -117.86, -118.45, -118.2, -118.39, -118.21, -118.35, -115.56, -117.91, -117.32, -121.39, -118.01, -121.28, -118.08, -121.36, -122.17, -118.71, -118.49, -122.02, -119.75, -118.86, -122.36, -119.11, -117.94, -119.75, -117.05, -117.93, -118.98, -118.4, -117.07, -117.89, -117.15, -121.68, -117.63, -119.83, -119.14, -118.52, -117.42, -120.44, -122.4, -120.08, -117.08, -119.8, -117.98, -122.18, -117.46, -118.36, -118.3, -117.39, -122.25, -120.36, -121.96, -123.85, -124.14, -122.31, -120.86, -117.25, -117.96, -118.06, -122.46, -122.22, -118.41, -117.15, -117.72, -117.93, -121.01, -121.47, -122.43, -119.79, -122.41, -121.31, -121.42, -121.13, -120.37, -119.07, -119.04, -118.52, -117.44, -121.46, -119.75, -122.05, -118.13, -118.14, -121.06, -114.62, -119.5, -122.41, -118.7, -117.05, -118.38, -119.18, -117.2, -121.93, -118.57, -114.47, -118.3, -118.02, -117.86, -122.08, -117.3, -117.13, -118.13, -117.24, -117.12, -119.72, -121.82, -122.49, -122.26, -117.41, -121.25, -122.64, -121.79, -117.01, -120.35, -121.91, -117.13, -123.41, -117.58, -122.2, -122.64, -117.85, -115.22, -122.5, -122.26, -118.44, -122.3, -122.23, -117.72, -121.72, -121.58, -118.46, -118.4, -117.34, -117.14, -122.66, -117.73, -119.21, -122.0, -123.36, -122.59, -117.2, -118.09, -122.27, -119.67, -117.87, -118.34, -121.94, -122.68, -118.42, -118.08, -118.35, -122.75, -118.32, -122.24, -121.46, -122.47, -118.18, -123.16, -118.32, -121.26, -118.9, -117.9, -119.5, -120.18, -122.48, -121.91, -117.31, -119.07, -118.58, -121.55, -118.07, -117.07, -118.35, -117.71, -117.11, -121.88, -122.24, -119.32, -120.22, -116.48, -117.66, -118.53, -122.02, -117.25, -118.2, -122.04, -118.39, -118.13, -118.58, -116.9, -117.25, -123.8, -121.04, -117.79, -118.15, -120.05, -120.27, -122.28, -119.02, -121.79, -122.18, -118.31, -118.33, -123.18, -122.61, -118.09, -118.14, -122.01, -118.16, -117.21, -118.27, -118.13, -121.46, -120.42, -117.88, -118.25, -122.08, -117.89, -117.68, -117.55, -121.88, -119.83, -120.91, -122.27, -121.88, -119.67, -118.1, -121.29, -117.2, -117.89, -117.7, -115.88, -118.39, -118.17, -119.56, -118.19, -117.91, -118.36, -122.13, -119.08, -119.46, -122.48, -118.2, -117.11, -122.07, -121.47, -121.81, -118.2, -117.27, -117.19, -118.34, -121.52, -122.26, -118.32, -118.46, -117.23, -118.09, -118.48, -121.98, -122.67, -120.96, -117.99, -119.05, -121.95, -117.22, -124.16, -117.66, -122.55, -117.95, -117.79, -122.07, -122.09, -121.38, -118.43, -118.25, -121.68, -122.93, -121.28, -122.39, -117.67, -122.25, -122.39, -117.29, -117.58, -115.6, -117.4, -122.42, -117.92, -122.24, -122.09, -118.83, -122.26, -123.0, -120.65, -117.06, -118.01, -122.33, -118.98, -122.5, -116.94, -121.89, -122.03, -118.47, -118.51, -117.9, -117.24, -122.35, -119.04, -117.11, -122.21, -118.3, -117.07, -121.65, -116.76, -118.22, -122.42, -122.11, -122.25, -119.55, -117.3, -122.42, -117.07, -118.51, -122.05, -122.39, -121.4, -118.2, -118.03, -118.45, -119.23, -121.27, -118.08, -120.93, -122.2, -121.94, -118.16, -118.07, -121.83, -117.31, -117.97, -123.68, -119.48, -118.04, -119.28, -118.23, -122.42, -117.62, -122.04, -118.18, -121.92, -122.28, -115.5, -122.18, -118.13, -117.11, -118.55, -122.12, -122.28, -118.33, -118.04, -117.17, -122.16, -122.1, -122.13, -118.23, -117.09, -118.39, -117.36, -122.48, -118.46, -117.71, -120.11, -122.21, -117.42, -118.4, -118.43, -122.43, -118.33, -117.15, -119.36, -118.21, -118.37, -122.14, -122.42, -121.33, -121.52, -117.66, -121.41, -122.3, -121.92, -118.35, -118.26, -117.76, -115.52, -117.38, -122.45, -122.3, -118.17, -118.06, -122.65, -119.0, -121.09, -118.33, -117.11, -117.02, -121.9, -122.49, -121.49, -121.94, -118.41, -122.73, -118.33, -117.88, -118.09, -117.19, -118.26, -122.16, -122.84, -122.43, -116.89, -118.38, -122.8, -122.59, -121.43, -118.43, -121.18, -118.15, -118.11, -120.19, -117.12, -118.96, -122.21, -119.31, -117.8, -121.97, -117.43, -117.06, -117.7, -119.01, -121.85, -123.58, -117.13, -121.98, -119.26, -117.14, -118.31, -122.16, -118.31, -120.58, -123.48, -122.19, -123.08, -118.08, -118.18, -118.18, -122.1, -121.43, -119.07, -122.11, -118.04, -119.15, -116.52, -121.91, -120.1, -119.78, -117.95, -117.63, -115.58, -117.94, -120.24, -121.47, -121.82, -120.26, -119.73, -118.32, -120.04, -122.44, -117.88, -122.42, -117.95, -118.6, -119.17, -121.06, -122.49, -121.8, -117.34, -118.25, -118.42, -118.18, -121.47, -117.13, -121.83, -122.49, -118.38, -117.23, -123.18, -116.42, -121.83, -122.73, -118.39, -118.09, -118.19, -118.21, -117.56, -122.23, -119.9, -118.25, -118.04, -121.59, -121.89, -121.94, -116.99, -120.87, -122.52, -121.29, -122.45, -121.3, -121.66, -122.03, -115.57, -118.38, -120.1, -124.09, -117.93, -118.21, -118.26, -118.21, -114.57, -122.0, -122.03, -122.27, -116.99, -116.19, -117.03, -118.63, -118.14, -121.35, -118.91, -118.35, -121.61, -121.05, -121.79, -122.25, -117.86, -121.37, -117.98, -118.48, -117.04, -122.17, -118.15, -118.1, -118.34, -122.43, -118.3, -118.16, -120.52, -118.43, -117.95, -121.88, -119.57, -119.63, -117.56, -117.26, -117.28, -116.31, -118.25, -121.24, -122.81, -120.01, -118.34, -118.19, -117.31, -122.25, -121.83, -122.05, -118.12, -118.25, -117.89, -122.05, -117.08, -117.18, -117.13, -122.05, -122.05, -121.32, -117.68, -117.24, -118.37, -122.13, -122.01, -122.07, -121.9, -118.04, -122.05, -122.16, -117.36, -122.05, -120.63, -120.29, -121.39, -117.09, -121.09, -116.86, -118.16, -122.48, -118.31, -122.46, -122.31, -122.39, -117.97, -118.34, -121.78, -118.14, -118.12, -117.98, -117.64, -118.08, -118.11, -118.13, -122.14, -117.82, -118.48, -120.96, -120.7, -118.12, -118.26, -120.9, -120.55, -121.67, -118.18, -118.39, -119.72, -117.92, -121.89, -122.04, -118.48, -119.0, -118.68, -118.63, -122.53, -118.21, -119.81, -121.01, -121.21, -120.63, -118.24, -118.34, -117.18, -118.19, -121.97, -117.78, -118.38, -118.07, -117.91, -115.6, -118.31, -117.95, -118.21, -118.61, -122.05, -121.12, -117.77, -122.67, -121.52, -117.15, -122.7, -121.9, -121.02, -117.02, -121.46, -122.13, -117.32, -117.88, -117.71, -120.18, -117.73, -122.46, -121.26, -118.35, -122.27, -118.08, -122.72, -117.98, -119.02, -119.04, -122.27, -118.36, -122.03, -120.47, -121.95, -118.33, -117.91, -121.96, -122.0, -117.59, -122.09, -122.1, -118.42, -118.9, -118.92, -122.21, -117.68, -122.45, -122.02, -117.86, -122.25, -121.88, -122.02, -121.45, -119.78, -121.29, -117.99, -117.26, -117.92, -117.99, -118.32, -122.6, -118.57, -118.3, -121.38, -117.86, -122.29, -121.35, -117.65, -117.19, -120.96, -120.4, -121.24, -121.69, -121.9, -118.32, -117.13, -117.96, -121.41, -121.42, -118.2, -117.13, -118.99, -117.13, -122.08, -122.42, -117.01, -118.28, -117.26, -117.09, -118.24, -117.34, -121.75, -117.65, -122.41, -122.29, -116.98, -117.73, -117.79, -117.37, -120.72, -118.11, -121.02, -122.58, -116.92, -121.92, -121.26, -118.23, -117.93, -117.98, -118.49, -120.84, -122.45, -119.79, -118.43, -118.15, -117.94, -117.87, -118.14, -121.84, -117.43, -117.15, -122.3, -121.97, -121.16, -122.15, -121.98, -121.28, -118.45, -118.19, -118.24, -118.34, -117.74, -117.1, -117.12, -117.2, -121.78, -118.2, -118.05, -118.16, -121.91, -117.84, -118.19, -117.06, -122.43, -121.15, -118.39, -120.45, -121.83, -117.28, -117.92, -117.19, -117.94, -118.0, -117.84, -122.33, -119.8, -118.38, -117.8, -117.04, -119.25, -117.04, -122.17, -121.28, -122.27, -122.01, -117.39, -117.6, -122.82, -117.99, -118.35, -121.31, -119.19, -117.98, -118.4, -118.2, -122.34, -121.95, -121.26, -118.16, -121.36, -118.37, -120.11, -120.85, -118.52, -118.53, -119.82, -119.76, -118.14, -122.2, -118.25, -122.27, -118.51, -117.48, -120.34, -122.82, -122.48, -121.89, -122.2, -122.41, -117.22, -117.33, -117.26, -117.95, -120.27, -117.94, -121.37, -122.34, -120.35, -122.41, -119.38, -122.06, -119.61, -121.85, -120.6, -117.69, -117.87, -122.33, -117.18, -117.35, -119.71, -122.52, -117.69, -118.05, -118.14, -117.11, -122.67, -118.18, -122.23, -117.53, -119.76, -117.23, -117.07, -118.45, -119.81, -118.14, -117.71, -121.55, -117.9, -117.61, -118.21, -121.36, -117.31, -118.18, -118.34, -119.2, -120.99, -120.41, -122.23, -121.41, -121.98, -117.68, -118.46, -122.27, -119.74, -121.83, -121.81, -121.8, -118.0, -117.82, -122.07, -118.47, -117.93, -117.09, -118.19, -118.31, -117.62, -117.88, -119.59, -118.35, -118.51, -119.46, -116.95, -122.25, -119.42, -122.02, -117.99, -118.25, -117.82, -117.91, -118.16, -118.12, -119.26, -119.14, -118.23, -118.22, -123.18, -122.29, -122.28, -118.25, -119.76, -117.14, -122.02, -122.44, -121.24, -122.03, -122.12, -122.35, -117.28, -121.74, -118.1, -117.14, -117.98, -120.09, -117.7, -121.95, -122.1, -122.47, -118.18, -121.78, -118.32, -118.21, -121.93, -121.38, -122.02, -117.19, -118.28, -117.23, -122.87, -121.45, -118.0, -117.05, -117.86, -118.12, -121.99, -118.08, -119.12, -120.69, -119.8, -119.02, -117.68, -118.28, -118.5, -118.11, -118.98, -121.29, -117.64, -118.42, -119.02, -121.55, -122.21, -122.4, -118.39, -121.82, -117.54, -121.1, -119.63, -118.21, -117.64, -124.19, -121.59, -117.9, -117.09, -121.99, -117.19, -121.96, -116.72, -118.18, -119.19, -119.65, -119.19, -121.74, -118.32, -117.11, -122.5, -118.38, -118.52, -117.87, -117.82, -121.37, -121.83, -119.25, -118.23, -118.43, -118.16, -117.94, -117.94, -119.03, -118.19, -121.76, -118.29, -122.03, -118.02, -122.07, -122.91, -117.32, -121.82, -120.85, -121.29, -122.09, -117.87, -118.08, -117.38, -121.95, -122.11, -122.09, -118.97, -118.35, -122.31, -118.2, -118.23, -122.08, -120.99, -121.22, -122.32, -117.7, -121.96, -119.03, -117.82, -117.36, -118.42, -118.13, -122.18, -118.12, -121.99, -117.06, -122.14, -122.86, -118.2, -118.32, -118.71, -118.15, -120.8, -118.25, -118.35, -121.3, -118.27, -119.76, -121.94, -122.71, -118.32, -122.18, -118.13, -117.65, -117.26, -118.27, -119.74, -121.31, -122.06, -122.31, -122.35, -117.95, -118.45, -118.38, -117.38, -116.2, -117.81, -117.08, -118.87, -118.99, -122.2, -121.56, -122.6, -118.32, -122.28, -116.15, -122.92, -118.14, -117.27, -117.08, -118.46, -118.47, -117.29, -121.88, -118.37, -118.36, -124.27, -118.11, -118.38, -118.66, -118.37, -116.94, -119.22, -121.26, -121.32, -119.7, -117.68, -121.57, -118.34, -117.16, -116.22, -118.38, -120.98, -117.08, -122.0, -122.31, -117.81, -117.95, -117.52, -118.1, -121.52, -122.42, -122.26, -118.9, -122.1, -117.77, -122.43, -117.23, -117.91, -117.99, -121.56, -118.2, -117.09, -121.24, -119.71, -118.46, -118.17, -121.78, -118.24, -119.26, -120.43, -122.91, -118.3, -121.46, -120.06, -120.83, -117.24, -122.36, -117.25, -121.39, -122.11, -118.4, -117.25, -122.05, -118.45, -122.48, -122.18, -117.86, -118.22, -121.9, -117.92, -117.82, -118.44, -118.29, -121.22, -120.84, -121.83, -116.98, -120.16, -117.09, -117.65, -122.9, -118.38, -121.07, -117.81, -116.57, -118.36, -120.68, -117.4, -121.19, -122.57, -118.27, -118.44, -118.35, -118.06, -117.04, -120.99, -119.03, -119.84, -124.08, -117.01, -122.01, -118.3, -120.03, -118.96, -120.01, -117.09, -122.76, -121.13, -119.79, -122.08, -117.76, -121.83, -117.74, -122.08, -118.36, -119.69, -120.62, -121.14, -122.15, -119.04, -122.16, -118.28, -120.46, -118.46, -123.84, -117.93, -118.35, -116.73, -121.19, -118.25, -121.45, -117.4, -122.05, -117.95, -122.01, -117.32, -122.41, -118.36, -118.02, -121.29, -117.29, -118.46, -122.24, -120.43, -117.61, -118.08, -117.07, -120.97, -122.56, -118.04, -120.92, -122.01, -117.77, -117.13, -118.29, -122.25, -118.55, -118.35, -122.6, -118.12, -121.05, -118.03, -117.98, -115.57, -117.24, -122.04, -121.62, -122.08, -122.37, -119.35, -122.41, -122.09, -118.25, -120.41, -116.9, -119.37, -117.22, -121.43, -118.0, -120.5, -117.25, -117.27, -118.19, -114.98, -120.77, -122.23, -117.33, -117.86, -117.61, -117.97, -122.24, -118.42, -118.13, -117.31, -122.48, -118.25, -117.93, -117.82, -118.31, -122.7, -118.37, -118.11, -122.41, -117.98, -115.54, -117.86, -120.45, -118.36, -121.87, -117.86, -117.24, -121.89, -121.99, -122.45, -118.49, -118.27, -118.25, -119.16, -122.13, -122.49, -122.04, -118.51, -118.11, -118.16, -118.35, -117.03, -117.15, -119.24, -117.25, -120.41, -122.29, -118.2, -116.31, -121.09, -116.99, -122.48, -121.93, -117.01, -118.49, -118.32, -117.65, -122.35, -118.28, -118.02, -122.5, -118.29, -120.31, -121.26, -122.72, -118.06, -120.04, -121.86, -122.07, -122.31, -118.29, -117.19, -117.71, -117.27, -116.97, -122.1, -118.15, -121.29, -118.47, -122.23, -118.36, -119.73, -116.31, -121.79, -117.43, -122.43, -117.69, -118.37, -122.18, -122.08, -117.92, -122.38, -124.16, -118.12, -121.02, -118.5, -121.99, -118.33, -118.48, -117.3, -117.79, -117.16, -122.02, -121.07, -121.4, -118.19, -117.24, -118.16, -122.41, -116.54, -121.98, -121.95, -121.37, -121.04, -121.67, -118.05, -122.55, -120.53, -118.14, -121.48, -122.27, -120.86, -121.88, -117.01, -121.49, -121.3, -117.38, -122.0, -121.24, -121.39, -119.05, -120.94, -117.74, -121.38, -116.2, -118.3, -117.66, -121.97, -119.78, -122.32, -117.92, -121.67, -121.88, -121.86, -120.61, -122.25, -117.87, -117.66, -122.02, -121.93, -118.45, -118.35, -117.13, -120.99, -116.88, -122.95, -118.36, -118.24, -122.63, -118.31, -118.25, -124.13, -121.27, -121.76, -117.32, -117.62, -122.28, -117.8, -117.95, -122.04, -118.44, -117.96, -118.67, -120.43, -117.86, -121.54, -121.25, -117.32, -117.06, -122.35, -122.28, -122.41, -121.28, -121.32, -121.81, -118.91, -117.41, -116.91, -118.87, -121.58, -122.12, -122.22, -117.88, -117.97, -118.19, -122.42, -122.32, -118.2, -121.01, -118.35, -119.56, -117.85, -118.05, -121.82, -118.33, -121.46, -117.87, -118.92, -118.33, -122.16, -122.28, -118.05, -118.04, -122.31, -122.05, -118.39, -121.97, -121.39, -119.32, -119.71, -118.0, -122.44, -122.18, -118.14, -117.29, -120.43, -121.37, -120.88, -116.33, -118.0, -118.25, -118.09, -119.77, -118.22, -118.15, -117.72, -122.15, -117.35, -122.08, -122.41, -117.91, -116.95, -116.97, -117.93, -118.02, -122.3, -121.97, -119.07, -117.97, -118.31, -118.35, -121.25, -117.96, -118.05, -122.08, -121.32, -121.37, -120.84, -117.87, -118.01, -122.31, -117.71, -117.9, -118.13, -117.13, -118.36, -117.78, -118.15, -122.07, -121.46, -122.16, -122.74, -118.11, -122.35, -118.27, -121.23, -118.29, -122.25, -118.18, -118.08, -121.09, -118.33, -118.07, -121.44, -118.1, -122.12, -122.43, -118.4, -119.06, -121.85, -118.42, -117.88, -118.54, -122.7, -118.95, -121.4, -117.58, -120.64, -122.27, -117.07, -117.18, -118.08, -118.23, -122.24, -122.22, -118.55, -117.99, -121.93, -117.75, -118.21, -122.33, -124.03, -117.85, -117.62, -121.82, -121.93, -121.84, -122.21, -121.94, -119.9, -117.34, -118.47, -120.41, -121.85, -118.42, -117.09, -121.28, -122.48, -121.5, -121.14, -119.04, -118.33, -118.32, -117.22, -119.17, -122.49, -122.26, -118.19, -118.34, -122.05, -117.91, -117.13, -119.78, -119.67, -118.22, -118.06, -122.27, -117.88, -119.27, -118.29, -117.01, -121.83, -119.27, -117.99, -117.13, -117.97, -117.32, -121.86, -122.04, -119.01, -122.19, -122.79, -116.4, -121.99, -118.35, -117.77, -117.97, -119.34, -122.46, -121.97, -117.4, -117.09, -122.76, -117.14, -121.9, -117.56, -117.02, -119.78, -121.45, -121.58, -117.98, -117.82, -120.98, -117.89, -120.43, -120.74, -121.32, -116.96, -120.94, -119.79, -118.49, -116.93, -118.45, -122.31, -121.87, -117.99, -122.06, -117.7, -118.33, -117.3, -119.01, -121.15, -121.95, -118.34, -121.14, -118.28, -124.08, -121.86, -117.68, -120.42, -118.31, -121.93, -118.38, -118.49, -118.64, -122.05, -117.11, -121.81, -121.86, -122.04, -119.16, -120.64, -122.61, -121.23, -122.28, -118.28, -119.83, -118.24, -120.05, -122.48, -117.68, -117.9, -122.12, -117.88, -118.37, -118.02, -117.21, -122.29, -117.32, -120.68, -117.6, -121.42, -118.44, -116.97, -118.38, -122.19, -119.45, -117.05, -118.2, -117.34, -118.45, -117.14, -122.21, -121.56, -116.24, -122.74, -118.47, -122.89, -117.25, -121.8, -117.29, -119.57, -118.45, -119.02, -118.34, -121.88, -118.12, -118.23, -121.92, -117.1, -119.31, -121.26, -120.64, -118.42, -120.31, -118.26, -117.71, -122.17, -119.73, -122.25, -117.33, -121.99, -119.28, -121.56, -118.07, -117.92, -118.35, -117.17, -122.13, -121.62, -121.81, -121.89, -117.75, -122.68, -118.75, -117.98, -122.34, -121.09, -118.11, -122.45, -118.26, -118.44, -122.19, -117.94, -118.29, -118.18, -118.3, -117.96, -122.31, -117.12, -117.24, -117.89, -117.49, -117.8, -122.47, -124.14, -118.04, -121.82, -117.05, -119.23, -121.22, -122.84, -121.26, -122.29, -121.46, -122.38, -122.69, -117.26, -118.21, -117.01, -117.31, -121.91, -117.25, -118.17, -118.31, -118.2, -117.34, -118.23, -122.16, -116.48, -121.98, -122.41, -122.3, -122.11, -118.33, -120.84, -117.93, -122.21, -122.24, -122.21, -118.44, -121.77, -121.81, -122.26, -124.1, -118.17, -118.23, -117.1, -122.45, -121.96, -118.13, -122.53, -122.14, -116.99, -117.06, -118.3, -122.46, -118.16, -121.29, -122.02, -118.34, -118.23, -119.88, -121.86, -123.13, -117.95, -117.05, -120.81, -118.25, -116.93, -117.95, -123.38, -117.08, -120.71, -120.49, -117.09, -122.25, -124.17, -118.28, -122.7, -118.75, -119.15, -122.03, -121.84, -117.9, -118.27, -118.11, -117.05, -118.5, -117.05, -122.45, -122.47, -122.69, -117.35, -119.67, -122.02, -121.25, -122.33, -121.9, -117.38, -118.24, -122.11, -122.26, -117.92, -122.49, -122.19, -121.88, -118.19, -122.15, -117.98, -121.4, -118.16, -121.75, -117.1, -118.28, -122.23, -118.26, -117.81, -118.12, -120.65, -117.39, -117.19, -121.68, -118.35, -117.64, -118.3, -117.31, -118.17, -116.23, -118.36, -121.4, -118.13, -119.82, -117.35, -118.16, -118.36, -116.97, -120.88, -117.86, -121.43, -118.08, -118.31, -121.35, -116.95, -120.55, -121.6, -122.31, -122.6, -118.52, -122.13, -118.11, -118.31, -122.45, -118.88, -118.42, -121.74, -117.65, -118.32, -117.93, -119.73, -122.15, -120.76, -121.92, -119.41, -117.24, -118.34, -118.1, -117.83, -122.25, -122.38, -117.93, -117.93, -118.25, -118.01, -118.23, -121.37, -117.03, -117.09, -119.57, -121.62, -117.13, -118.26, -120.47, -121.27, -122.3, -118.09, -118.11, -118.85, -117.99, -118.49, -117.46, -122.33, -122.17, -119.25, -117.18, -117.98, -118.22, -118.59, -118.43, -119.67, -118.36, -118.66, -120.85, -118.01, -121.49, -117.21, -122.02, -122.28, -122.3, -120.49, -122.15, -122.4, -119.71, -117.22, -117.78, -121.28, -118.3, -118.36, -118.02, -117.26, -121.54, -117.23, -121.75, -117.17, -118.13, -117.72, -117.98, -121.82, -121.92, -120.69, -117.86, -119.86, -122.46, -118.25, -120.06, -118.11, -117.1, -118.34, -117.91, -117.25, -118.88, -118.4, -121.9, -117.21, -122.47, -117.94, -118.08, -119.2, -116.89, -117.21, -117.16, -118.19, -122.24, -119.84, -121.85, -118.13, -121.48, -119.17, -122.27, -118.12, -118.27, -116.96, -121.05, -117.92, -122.13, -118.42, -117.02, -120.8, -121.86, -122.75, -122.24, -122.38, -117.75, -122.07, -117.25, -117.16, -122.31, -116.94, -118.96, -117.25, -120.97, -120.63, -117.7, -121.98, -118.99, -120.48, -118.48, -122.43, -121.84, -118.44, -121.58, -119.69, -117.99, -121.74, -117.24, -117.91, -118.27, -117.27, -119.02, -118.25, -119.98, -117.88, -115.49, -117.82, -118.29, -121.32, -119.18, -119.78, -118.15, -118.36, -122.18, -117.04, -118.41, -122.55, -118.2, -118.5, -122.26, -117.89, -118.17, -118.37, -121.88, -117.05, -118.19, -119.69, -117.24, -121.33, -118.33, -117.84, -117.31, -117.96, -122.46, -122.45, -121.5, -117.96, -119.26, -116.92, -117.74, -118.84, -122.21, -121.95, -121.07, -117.12, -120.48, -118.01, -120.91, -118.52, -118.27, -119.76, -119.57, -121.17, -122.03, -119.72, -117.9, -121.99, -122.7, -118.26, -118.41, -122.35, -117.06, -120.61, -121.44, -117.38, -121.76, -117.9, -118.32, -118.46, -118.25, -118.27, -121.98, -121.0, -118.38, -119.76, -121.9, -118.35, -119.82, -121.89, -118.35, -121.82, -122.14, -122.41, -121.93, -122.39, -117.21, -118.27, -119.81, -117.32, -118.16, -122.2, -118.37, -118.57, -122.24, -121.92, -117.08, -118.34, -118.28, -117.8, -118.41, -121.3, -119.77, -121.32, -118.26, -117.3, -117.05, -122.41, -122.42, -118.41, -118.27, -117.09, -116.57, -117.84, -118.43, -118.95, -118.3, -119.79, -121.06, -118.61, -117.38, -121.35, -116.57, -117.07, -122.0, -119.04, -117.34, -120.46, -119.01, -116.95, -118.14, -117.11, -121.94, -122.5, -118.1, -122.26, -118.31, -118.47, -122.1, -117.05, -119.72, -117.75, -118.63, -120.81, -116.99, -122.43, -121.82, -121.23, -118.06, -119.87, -118.1, -118.33, -122.43, -117.89, -117.6, -117.44, -117.24, -118.0, -118.07, -118.24, -118.19, -121.26, -119.64, -122.89, -120.24, -117.05, -118.14, -120.99, -117.3, -121.56, -121.01, -121.27, -116.51, -118.42, -117.81, -118.33, -118.54, -117.43, -118.0, -118.27, -122.5, -120.79, -121.77, -122.03, -118.43, -122.05, -122.28, -117.93, -118.36, -122.37, -118.31, -122.11, -120.56, -122.23, -119.29, -120.51, -120.5, -118.25, -118.2, -117.25, -118.43, -117.1, -122.0, -122.11, -118.71, -122.0, -120.46, -118.24, -118.3, -118.25, -119.83, -121.98, -117.93, -121.41, -119.09, -118.13, -117.3, -118.29, -118.31, -123.21, -124.15, -122.41, -122.45, -118.13, -117.93, -122.11, -118.34, -122.34, -122.08, -119.97, -118.36, -116.92, -118.24, -117.29, -121.54, -121.06, -117.94, -121.01, -121.19, -118.44, -118.01, -118.03, -117.99, -118.03, -117.03, -121.13, -122.22, -118.48, -121.86, -122.25, -118.15, -120.25, -121.53, -120.16, -122.6, -117.09, -118.35, -117.94, -122.41, -121.86, -117.96, -118.49, -122.89, -122.02, -122.27, -118.38, -118.35, -117.4, -117.19, -118.11, -122.69, -117.77, -119.79, -122.0, -118.93, -117.48, -122.5, -117.06, -120.83, -122.43, -117.92, -118.14, -118.2, -117.14, -122.63, -122.85, -120.81, -118.08, -118.98, -116.94, -123.21, -121.89, -121.03, -120.98, -117.39, -117.96, -118.46, -122.7, -121.36, -118.21, -118.31, -117.65, -117.82, -119.15, -118.05, -117.71, -122.42, -117.59, -118.41, -118.25, -120.95, -118.17, -122.61, -117.38, -117.11, -119.57, -119.82, -117.92, -118.34, -117.99, -119.27, -117.84, -118.3, -117.8, -121.45, -116.91, -116.97, -120.15, -122.46, -121.27, -119.21, -120.6, -121.91, -122.19, -120.37, -122.16, -117.85, -122.83, -121.78, -118.16, -118.64, -117.47, -117.04, -119.48, -118.25, -118.45, -117.03, -118.35, -122.45, -121.93, -118.15, -121.29, -117.88, -118.21, -118.06, -117.14, -122.48, -118.08, -120.25, -121.9, -117.33, -118.23, -116.5, -118.29, -118.35, -118.56, -120.64, -119.24, -115.4, -118.35, -121.94, -118.36, -119.35, -118.43, -119.77, -122.27, -121.76, -117.77, -118.23, -117.24, -122.79, -118.38, -121.02, -118.02, -122.01, -119.68, -118.45, -117.34, -118.02, -118.94, -121.86, -122.23, -117.05, -122.0, -123.36, -118.2, -122.25, -118.5, -118.07, -117.29, -117.89, -118.27, -121.3, -122.34, -118.69, -118.39, -121.35, -118.49, -117.98, -122.04, -118.3, -119.81, -121.93, -120.84, -122.27, -117.74, -118.54, -121.63, -121.29, -121.27, -121.62, -119.76, -117.53, -120.07, -115.46, -122.14, -117.9, -121.55, -119.73, -117.95, -118.4, -119.53, -118.22, -118.32, -121.87, -122.17, -117.95, -118.35, -118.23, -119.44, -118.5, -119.53, -122.27, -118.42, -122.28, -122.0, -118.27, -119.31, -121.95, -117.04, -117.31, -118.21, -121.61, -117.91, -121.22, -117.23, -121.92, -118.21, -120.86, -117.94, -117.27, -119.08, -122.2, -118.03, -118.12, -117.98, -117.89, -118.32, -117.02, -117.14, -122.21, -117.9, -119.17, -122.09, -119.71, -121.9, -118.4, -122.46, -117.78, -117.01, -118.28, -122.02, -118.02, -118.94, -120.49, -122.05, -118.62, -118.14, -122.48, -121.5, -121.91, -117.89, -120.95, -118.35, -117.36, -118.27, -114.65, -121.94, -121.43, -121.16, -117.13, -117.08, -119.23, -118.29, -121.01, -118.25, -122.23, -117.79, -122.32, -117.62, -118.22, -118.17, -119.27, -117.57, -121.88, -117.97, -118.28, -120.4, -122.16, -117.38, -122.04, -122.72, -119.69, -118.46, -122.31, -121.81, -118.16, -118.26, -122.28, -117.97, -120.45, -118.32, -117.15, -119.15, -118.08, -117.03, -117.88, -117.05, -122.08, -118.52, -118.35, -122.13, -117.87, -117.41, -121.78, -121.57, -117.71, -121.8, -117.07, -118.0, -119.72, -121.85, -116.02, -117.97, -118.24, -117.98, -118.09, -117.41, -122.03, -117.9, -121.84, -122.41, -117.58, -121.47, -122.04, -120.1, -118.1, -121.41, -121.32, -118.26, -122.41, -118.14, -120.61, -122.04, -122.16, -122.61, -121.97, -117.08, -118.58, -122.82, -122.26, -119.13, -118.37, -118.21, -124.01, -119.84, -122.43, -117.23, -117.41, -119.17, -121.96, -118.19, -122.68, -117.39, -119.88, -122.02, -117.04, -117.67, -124.17, -121.84, -122.63, -122.32, -117.06, -118.38, -122.33, -116.14, -122.0, -118.26, -119.11, -122.41, -121.59, -119.73, -118.41, -121.48, -118.14, -121.81, -117.16, -117.14, -117.02, -122.34, -122.34, -118.12, -118.45, -119.71, -117.91, -117.21, -122.01, -122.27, -117.09, -117.71, -121.3, -117.86, -116.95, -122.29, -121.63, -121.01, -118.31, -117.61, -119.6, -121.87, -118.16, -118.32, -119.14, -119.71, -122.01, -118.25, -118.4, -117.81, -120.45, -122.09, -122.52, -117.58, -118.14, -118.59, -117.21, -121.44, -122.05, -118.3, -117.43, -118.44, -117.68, -118.27, -120.3, -119.46, -117.15, -121.25, -117.94, -118.3, -121.85, -117.23, -118.47, -117.98, -118.47, -122.2, -122.0, -117.07, -117.93, -121.87, -121.3, -118.04, -118.2, -116.98, -118.56, -119.56, -119.06, -120.2, -117.33, -121.74, -117.39, -118.3, -118.49, -122.4, -121.23, -117.8, -117.68, -118.22, -117.16, -121.3, -117.32, -121.62, -117.93, -117.2, -117.15, -119.45, -122.31, -118.06, -117.85, -117.18, -123.35, -122.18, -117.95, -122.16, -121.78, -118.32, -119.8, -118.13, -118.32, -120.43, -118.28, -117.97, -117.24, -120.79, -122.11, -117.11, -119.8, -122.42, -121.96, -121.4, -118.2, -117.46, -117.69, -122.48, -118.3, -118.29, -118.42, -122.27, -118.31, -122.69, -121.32, -122.57, -117.84, -124.15, -122.05, -122.03, -117.74, -118.16, -122.44, -119.79, -121.92, -118.37, -118.16, -118.21, -119.21, -117.06, -118.45, -122.33, -122.49, -119.98, -122.26, -121.44, -118.07, -122.18, -117.71, -122.04, -117.07, -122.51, -119.3, -121.86, -118.1, -119.82, -118.31, -121.88, -116.52, -117.36, -119.1, -118.21, -117.68, -117.08, -122.23, -118.41, -122.02, -121.26, -117.16, -121.6, -117.67, -122.28, -122.12, -121.84, -119.04, -117.82, -122.28, -122.03, -118.44, -118.39, -117.16, -117.08, -121.43, -121.92, -118.56, -121.53, -117.51, -118.05, -116.88, -122.47, -117.89, -121.87, -118.31, -122.43, -117.38, -121.87, -118.38, -117.01, -117.06, -122.3, -118.2, -122.68, -118.28, -118.15, -117.21, -119.71, -121.28, -118.11, -119.66, -120.97, -117.97, -118.25, -119.7, -122.46, -122.21, -116.97, -122.09, -120.47, -122.43, -117.11, -117.33, -117.75, -117.32, -122.08, -118.46, -118.44, -122.07, -121.25, -121.39, -117.1, -119.7, -122.08, -121.86, -119.28, -117.15, -115.54, -120.84, -117.1, -120.81, -121.24, -118.03, -117.25, -122.46, -122.62, -122.29, -117.7, -122.31, -122.42, -118.09, -116.95, -122.46, -121.14, -118.16, -122.14, -118.31, -121.88, -117.37, -122.25, -118.54, -119.02, -119.53, -118.07, -122.19, -122.53, -118.02, -122.04, -122.42, -122.28, -119.09, -121.54, -122.2, -118.11, -122.35, -118.46, -117.68, -117.46, -121.03, -121.96, -122.34, -117.91, -122.24, -116.98, -117.09, -117.87, -120.85, -122.63, -121.89, -118.19, -120.45, -116.29, -118.19, -121.97, -122.35, -120.46, -118.22, -117.75, -118.61, -118.14, -122.41, -118.34, -118.34, -122.07, -122.05, -118.07, -117.3, -117.98, -117.92, -117.76, -122.09, -120.87, -121.88, -117.28, -117.21, -118.32, -120.79, -119.02, -122.49, -120.91, -122.42, -117.23, -122.41, -121.25, -121.6, -124.08, -118.3, -119.38, -122.32, -118.08, -122.95, -118.29, -120.45, -117.26, -118.34, -122.21, -119.57, -122.43, -122.14, -120.32, -122.4, -117.05, -118.46, -121.78, -118.18, -118.84, -122.59, -118.26, -119.56, -122.0, -117.77, -121.48, -122.52, -118.15, -117.92, -118.23, -118.09, -117.75, -117.17, -121.67, -117.16, -122.46, -118.3, -117.65, -117.41, -115.72, -121.99, -117.1, -122.06, -122.38, -121.31, -121.54, -122.08, -122.12, -122.29, -117.93, -122.26, -118.41, -122.22, -120.42, -118.12, -116.62, -120.75, -120.6, -117.18, -118.44, -118.32, -121.45, -118.19, -117.23, -121.65, -118.35, -120.54, -117.06, -119.54, -121.25, -118.41, -121.28, -117.03, -117.22, -118.11, -121.9, -117.95, -118.36, -117.27, -118.19, -118.19, -119.05, -118.03, -122.24, -122.29, -122.5, -122.05, -122.28, -121.31, -118.32, -119.1, -118.66, -118.44, -121.84, -118.34, -118.02, -118.39, -122.0, -118.25, -118.17, -117.65, -117.88, -118.36, -122.27, -118.38, -122.02, -118.14, -118.31, -118.16, -121.36, -119.85, -122.11, -122.27, -121.45, -117.28, -122.44, -118.15, -120.83, -122.23, -117.33, -117.69, -121.28, -121.88, -122.41, -117.84, -122.08, -117.92, -118.09, -117.25, -122.43, -122.42, -122.09, -124.23, -120.72, -118.02, -118.04, -117.6, -117.09, -123.21, -116.97, -121.84, -121.29, -118.01, -118.08, -117.98, -117.82, -120.19, -118.27, -115.96, -117.75, -117.66, -120.46, -118.27, -117.89, -121.0, -118.07, -122.35, -117.12, -118.36, -121.46, -122.56, -123.36, -118.08, -122.04, -118.61, -118.38, -117.95, -118.39, -119.03, -122.12, -117.41, -118.08, -117.6, -117.79, -117.95, -119.1, -118.25, -118.27, -122.53, -117.68, -122.0, -118.47, -121.88, -118.42, -118.44, -117.9, -122.19, -121.99, -117.95, -117.93, -119.66, -122.14, -118.22, -121.47, -122.28, -121.33, -121.32, -118.48, -122.32, -118.47, -118.1, -117.91, -117.99, -122.21, -117.99, -118.03, -117.17, -117.64, -118.03, -118.26, -122.39, -122.48, -118.08, -118.0, -122.8, -118.14, -122.45, -122.62, -117.18, -118.32, -122.23, -118.39, -121.97, -123.75, -122.13, -117.11, -117.99, -117.92, -116.33, -118.18, -118.74, -119.64, -121.9, -118.28, -118.1, -118.46, -117.58, -118.15, -117.07, -117.79, -118.07, -121.95, -117.69, -117.91, -121.28, -117.18, -121.34, -120.69, -121.3, -117.47, -118.15, -117.82, -118.32, -117.78, -117.21, -121.92, -122.35, -121.42, -117.94, -119.79, -117.24, -118.39, -121.79, -121.97, -118.19, -123.02, -117.92, -118.01, -122.54, -118.14, -118.43, -118.35, -118.03, -117.41, -122.06, -121.74, -118.08, -121.89, -117.95, -117.9, -122.29, -121.93, -122.68, -117.73, -122.3, -118.55, -118.34, -118.07, -119.84, -118.37, -121.85, -121.82, -118.42, -117.9, -117.08, -121.63, -121.82, -117.11, -119.56, -120.84, -118.12, -122.04, -118.2, -120.06, -118.21, -122.3, -117.91, -122.41, -117.03, -122.42, -117.31, -118.08, -122.03, -118.46, -122.43, -121.43, -118.38, -122.19, -119.81, -121.66, -124.16, -118.54, -118.26, -117.98, -118.3, -118.13, -118.19, -121.44, -120.15, -122.35, -118.3, -121.83, -117.78, -117.33, -122.12, -120.44, -117.87, -120.95, -118.11, -119.69, -118.76, -121.42, -120.68, -118.59, -118.02, -120.65, -120.46, -118.1, -117.93, -122.28, -118.57, -118.43, -118.4, -121.76, -117.22, -124.16, -122.23, -124.15, -122.44, -119.72, -118.27, -121.08, -122.06, -117.05, -118.42, -118.31, -121.3, -118.13, -117.92, -122.3, -117.29, -115.49, -118.21, -121.63, -121.29, -117.98, -117.89, -120.99, -117.16, -122.37, -118.43, -118.22, -121.44, -117.04, -119.33, -119.69, -116.47, -116.86, -122.08, -122.29, -117.09, -122.5, -117.94, -118.42, -117.84, -117.98, -117.78, -121.72, -121.82, -122.26, -117.11, -118.19, -117.2, -120.08, -118.55, -119.81, -117.25, -121.89, -120.63, -118.48, -116.95, -122.03, -118.37, -121.48, -121.46, -118.0, -117.66, -122.33, -122.29, -122.23, -118.06, -118.34, -118.11, -120.86, -120.31, -122.47, -117.79, -117.12, -118.37, -118.12, -121.53, -122.54, -121.94, -118.35, -122.23, -118.52, -118.24, -118.3, -117.04, -118.13, -118.41, -122.31, -117.76, -122.66, -117.06, -122.19, -118.46, -117.21, -121.37, -122.24, -118.39, -117.75, -117.37, -118.18, -121.33, -118.3, -118.54, -122.76, -117.84, -116.79, -121.91, -122.47, -117.91, -118.23, -116.86, -118.09, -117.15, -117.92, -120.49, -119.16, -117.31, -118.28, -121.24, -118.32, -119.97, -120.51, -122.24, -118.25, -117.65, -120.65, -114.57, -117.91, -118.15, -121.94, -122.57, -117.37, -121.87, -119.01, -122.54, -118.63, -118.51, -118.87, -124.14, -121.65, -118.38, -122.23, -121.88, -121.81, -118.1, -119.02, -121.09, -119.81, -122.42, -115.55, -118.14, -119.03, -117.15, -118.18, -117.1, -122.56, -117.25, -115.51, -117.05, -117.77, -118.2, -117.66, -122.53, -117.9, -117.04, -121.48, -118.18, -121.21, -122.38, -118.08, -117.26, -122.34, -122.47, -117.14, -116.32, -117.03, -119.09, -117.29, -117.3, -117.35, -117.31, -122.1, -122.45, -122.15, -117.26, -116.97, -118.05, -122.25, -118.23, -121.28, -122.03, -117.42, -122.09, -117.21, -117.86, -121.03, -122.46, -118.24, -122.32, -121.28, -122.42, -118.09, -117.25, -117.94, -120.99, -121.31, -117.94, -122.3, -121.81, -118.13, -118.24, -118.1, -121.23, -122.03, -119.29, -121.31, -118.31, -118.06, -118.12, -117.08, -121.37, -120.43, -117.25, -117.9, -117.68, -118.29, -117.99, -118.44, -122.86, -116.95, -119.76, -121.56, -121.49, -117.64, -121.1, -119.61, -121.79, -122.58, -118.19, -120.08, -118.32, -118.06, -121.74, -118.0, -122.32, -121.52, -118.03, -117.09, -117.04, -117.06, -122.28, -117.97, -119.71, -122.25, -118.02, -121.96, -121.34, -122.17, -118.11, -117.68, -122.48, -118.46, -120.24, -122.64, -117.97, -121.64, -117.85, -120.98, -118.61, -121.4, -120.66, -118.38, -118.31, -118.2, -117.65, -118.29, -121.39, -117.61, -117.28, -117.35, -117.92, -121.48, -120.62, -118.45, -118.41, -120.15, -117.84, -121.57, -117.28, -117.1, -118.6, -117.98, -117.9, -122.27, -120.34, -122.07, -117.11, -118.38, -118.04, -118.5, -122.31, -120.89, -119.34, -121.29, -117.03, -118.52, -121.81, -121.93, -116.99, -118.27, -117.88, -119.68, -119.23, -120.98, -120.59, -120.23, -118.47, -118.19, -118.26, -118.2, -121.85, -117.43, -119.37, -117.56, -122.0, -118.45, -119.77, -124.17, -119.2, -117.79, -118.29, -121.88, -118.08, -118.32, -118.17, -118.0, -117.22, -124.1, -120.16, -118.13, -117.69, -119.18, -122.02, -118.27, -117.59, -119.57, -118.47, -117.4, -120.77, -118.12, -119.4, -122.43, -118.49, -118.45, -117.99, -121.85, -118.02, -118.45, -122.17, -120.05, -118.38, -121.3, -119.65, -118.42, -117.89, -122.58, -119.46, -122.21, -122.01, -120.69, -121.66, -121.17, -122.25, -121.5, -117.07, -121.33, -118.15, -118.44, -117.66, -118.1, -119.29, -122.45, -122.15, -116.36, -118.25, -117.64, -117.7, -117.29, -117.86, -118.48, -117.18, -118.7, -119.87, -117.99, -117.24, -118.37, -118.36, -121.7, -122.17, -122.21, -122.44, -118.75, -118.9, -118.48, -122.24, -118.02, -117.1, -121.81, -118.4, -118.44, -122.43, -119.32, -117.97, -121.1, -121.71, -117.74, -122.41, -118.43, -122.24, -122.12, -117.18, -119.53, -122.29, -118.96, -118.28, -119.86, -122.17, -117.27, -121.89, -120.88, -117.9, -119.05, -121.28, -119.26, -122.69, -121.94, -118.05, -122.37, -122.0, -119.06, -118.36, -118.33, -118.19, -121.93, -118.37, -121.29, -121.93, -122.32, -118.12, -121.2, -122.44, -118.29, -118.61, -115.32, -122.16, -117.34, -119.61, -118.24, -117.99, -118.29, -118.03, -119.8, -117.88, -117.41, -118.36, -117.86, -116.97, -120.93, -118.97, -117.76, -122.02, -118.5, -118.53, -120.37, -122.14, -121.04, -117.91, -118.14, -120.88, -117.89, -123.2, -122.48, -122.15, -119.98, -118.44, -117.26, -118.14, -118.37, -118.05, -118.45, -118.43, -121.23, -117.33, -117.36, -118.33, -118.12, -121.86, -122.39, -117.08, -117.27, -119.82, -117.26, -122.51, -117.94, -120.83, -119.07, -118.26, -118.15, -121.51, -118.37, -118.37, -121.22, -118.24, -119.64, -123.69, -121.0, -118.03, -122.07, -118.15, -121.99, -122.04, -118.22, -119.8, -119.42, -117.24, -118.33, -118.19, -118.32, -118.33, -117.15, -118.32, -117.93, -118.34, -117.52, -117.69, -118.13, -117.91, -122.2, -118.31, -119.81, -118.35, -117.96, -119.54, -118.26, -122.16, -117.12, -124.1, -118.37, -118.22, -118.03, -118.28, -122.42, -122.19, -117.92, -118.36, -118.22, -118.08, -118.58, -117.25, -118.27, -116.53, -122.13, -118.29, -122.2, -118.05, -117.25, -117.9, -117.43, -121.25, -118.01, -117.08, -118.91, -122.14, -118.38, -122.08, -121.91, -121.83, -122.04, -117.17, -122.41, -117.15, -117.89, -118.28, -116.29, -118.15, -122.04, -117.97, -118.36, -121.96, -122.25, -116.93, -117.02, -118.24, -118.26, -122.45, -117.07, -117.24, -118.07, -122.7, -120.24, -121.89, -120.88, -118.22, -121.43, -117.72, -117.88, -118.02, -119.17, -120.97, -117.09, -121.53, -122.42, -121.84, -122.17, -120.41, -120.95, -117.22, -117.03, -117.63, -117.88, -118.28, -118.33, -117.71, -121.59, -122.49, -122.04, -122.64, -122.15, -121.96, -118.1, -122.21, -120.99, -115.59, -118.29, -117.0, -115.56, -118.27, -122.04, -120.17, -118.28, -121.67, -117.04, -123.16, -117.96, -118.74, -118.24, -122.42, -118.34, -122.04, -118.03, -118.36, -118.3, -122.3, -118.26, -117.93, -120.62, -116.67, -118.25, -122.74, -118.01, -118.08, -121.2, -116.99, -117.67, -120.99, -118.1, -121.59, -119.61, -118.3, -121.23, -118.15, -116.98, -118.44, -122.27, -117.11, -117.11, -117.14, -117.19, -122.05, -122.55, -117.11, -121.53, -116.01, -117.96, -122.49, -118.01, -117.82, -122.08, -118.4, -122.06, -117.82, -119.59, -117.89, -121.23, -121.4, -118.19, -122.18, -122.07, -121.4, -122.48, -121.9, -118.08, -121.96, -121.93, -122.26, -117.21, -121.8, -117.86, -117.87, -121.8, -121.29, -121.0, -119.29, -122.46, -121.88, -117.97, -118.45, -118.34, -117.08, -118.29, -116.95, -118.15, -117.27, -118.15, -121.38, -116.95, -117.29, -120.96, -121.57, -122.17, -122.33, -122.41, -118.32, -120.94, -118.19, -121.18, -121.92, -122.55, -121.51, -118.22, -117.86, -118.35, -122.18, -123.1, -117.2, -117.94, -117.12, -118.15, -116.22, -120.57, -121.8, -117.42, -118.24, -121.98, -123.53, -122.06, -123.88, -118.16, -117.44, -122.08, -122.46, -123.73, -117.22, -117.99, -118.3, -121.27, -117.65, -118.36, -118.61, -118.09, -119.23, -121.98, -122.2, -118.07, -118.13, -120.76, -117.95, -116.99, -119.72, -117.43, -117.27, -117.88, -120.95, -117.96, -117.65, -118.17, -117.9, -122.03, -119.32, -122.44, -122.06, -117.97, -121.44, -122.03, -120.48, -122.33, -122.44, -117.94, -121.47, -122.29, -116.97, -121.01, -120.57, -117.07, -121.57, -118.41, -118.27, -118.1, -119.33, -122.21, -122.17, -118.15, -122.19, -122.11, -121.91, -122.04, -122.09, -120.09, -121.25, -118.25, -117.69, -121.99, -118.59, -118.94, -121.37, -122.67, -118.51, -117.19, -117.31, -118.1, -116.56, -119.73, -122.41, -122.65, -117.93, -117.2, -119.68, -120.25, -118.29, -121.97, -118.32, -121.26, -117.85, -116.98, -122.93, -117.92, -117.89, -121.48, -119.25, -117.99, -117.86, -118.31, -118.32, -122.05, -118.39, -118.16, -122.07, -121.06, -118.35, -117.14, -118.01, -118.28, -121.95, -119.06, -118.38, -118.48, -118.37, -122.01, -119.77, -118.26, -118.33, -119.29, -118.14, -117.25, -118.58, -122.68, -122.08, -121.79, -120.65, -119.01, -122.43, -117.7, -118.37, -121.41, -118.26, -121.63, -117.99, -122.7, -122.04, -118.29, -116.49, -121.86, -119.99, -122.36, -121.96, -118.46, -121.85, -117.25, -118.42, -121.22, -120.59, -117.25, -120.01, -118.36, -118.12, -118.53, -122.31, -122.23, -120.84, -117.17, -117.2, -118.75, -120.69, -122.41, -121.47, -121.96, -121.44, -122.74, -123.73, -122.52, -122.3, -119.83, -121.92, -117.87, -118.16, -124.13, -117.87, -122.02, -122.28, -120.48, -118.2, -117.99, -117.58, -120.66, -117.93, -118.02, -119.32, -121.9, -118.49, -118.15, -122.83, -121.47, -119.98, -115.52, -121.45, -116.98, -121.83, -122.45, -122.36, -121.92, -117.89, -122.65, -122.12, -121.44, -119.72, -121.05, -121.98, -118.38, -122.21, -120.36, -121.98, -118.18, -117.95, -122.55, -118.37, -120.97, -122.33, -117.96, -118.14, -117.88, -118.26, -123.21, -118.55, -118.0, -118.29, -117.66, -118.12, -122.34, -117.44, -122.32, -121.4, -121.89, -121.26, -119.81, -122.12, -121.37, -117.88, -121.49, -121.79, -121.86, -118.29, -121.98, -117.43, -118.36, -119.56, -122.2, -118.48, -121.08, -117.08, -118.04, -116.68, -118.23, -122.17, -118.35, -122.2, -121.38, -121.96, -117.81, -118.96, -118.12, -117.04, -117.83, -118.07, -118.13, -120.11, -117.71, -118.21, -121.05, -117.76, -118.04, -122.32, -121.99, -118.4, -117.54, -118.44, -122.01, -117.24, -122.09, -117.11, -123.85, -118.42, -117.64, -122.23, -122.0, -118.47, -118.4, -117.96, -119.78, -120.04, -119.63, -117.24, -117.21, -117.86, -118.59, -119.72, -117.24, -118.28, -122.01, -117.69, -118.17, -118.28, -118.27, -122.2, -122.23, -121.35, -120.42, -121.42, -118.13, -117.15, -120.98, -122.42, -121.95, -121.47, -122.33, -121.81, -117.01, -120.12, -120.83, -118.45, -118.2, -118.1, -119.12, -121.36, -122.28, -118.31, -122.38, -117.83, -117.73, -118.35, -121.83, -122.04, -118.48, -117.17, -117.62, -118.28, -122.48, -119.08, -121.7, -117.82, -118.29, -118.14, -118.22, -118.86, -117.89, -118.39, -118.04, -118.42, -119.1, -121.34, -124.17, -117.4, -118.2, -122.01, -118.61, -118.05, -118.35, -117.3, -122.04, -121.94, -122.43, -119.2, -122.24, -118.36, -119.83, -122.42, -117.83, -118.42, -122.55, -117.9, -117.9, -117.91, -121.25, -122.46, -121.08, -122.05, -121.43, -119.81, -118.22, -117.84, -118.15, -122.21, -117.91, -118.43, -121.48, -121.58, -121.88, -122.0, -118.0, -117.91, -119.66, -118.3, -121.61, -122.32, -119.29, -118.36, -122.14, -117.91, -117.18, -117.92, -121.83, -122.47, -118.28, -121.32, -117.92, -121.62, -117.28, -116.0, -121.8, -117.91, -119.88, -117.13, -122.06, -119.57, -122.22, -117.3, -121.96, -117.36, -118.38, -120.86, -118.23, -117.84, -118.29, -118.08, -119.18, -119.56, -118.46, -117.88, -121.84, -121.14, -121.61, -117.04, -119.67, -122.82, -122.18, -117.9, -118.04, -117.94, -121.99, -122.28, -117.11, -116.2, -117.83, -118.51, -118.19, -124.35, -118.25, -118.26, -121.25, -122.3, -122.1, -122.04, -121.98, -122.57, -118.01, -117.99, -118.02, -118.18, -119.77, -122.17, -118.41, -120.6, -120.58, -117.91, -119.68, -118.39, -122.43, -116.94, -117.93, -119.28, -121.28, -121.3, -118.05, -120.62, -120.09, -117.93, -124.06, -122.34, -117.28, -117.98, -122.04, -118.28, -118.16, -118.33, -118.55, -120.6, -118.38, -119.4, -118.24, -118.43, -121.68, -122.59, -121.62, -120.57, -117.98, -117.7, -118.13, -122.39, -118.29, -122.28, -121.48, -122.01, -117.81, -116.95, -122.02, -118.19, -118.15, -122.04, -117.93, -117.06, -118.4, -121.29, -118.22, -117.07, -117.18, -121.32, -121.95, -119.72, -117.91, -118.09, -122.45, -119.0, -122.43, -118.15, -118.17, -118.85, -118.41, -118.41, -122.45, -117.71, -122.11, -117.09, -118.29, -117.28, -118.17, -122.26, -117.4, -124.11, -122.36, -119.78, -118.74, -122.46, -117.97, -118.14, -121.38, -120.55, -119.71, -119.88, -119.28, -118.41, -119.99, -122.28, -118.38, -120.47, -118.29, -117.2, -117.07, -117.88, -120.47, -121.93, -117.17, -117.68, -118.31, -117.97, -118.08, -117.07, -122.03, -118.39, -118.13, -118.33, -117.15, -121.0, -118.03, -117.83, -122.27, -118.27, -118.19, -122.24, -119.8, -117.15, -118.39, -122.1, -121.87, -118.22, -117.9, -118.39, -118.43, -122.33, -121.99, -122.27, -118.88, -115.55, -121.43, -119.1, -118.39, -118.27, -117.03, -122.19, -120.43, -121.33, -117.87, -118.23, -122.44, -119.51, -118.25, -118.32, -121.2, -118.16, -118.17, -115.48, -117.16, -118.53, -119.12, -122.27, -117.1, -117.67, -122.18, -118.08, -119.67, -118.46, -121.9, -118.01, -121.92, -121.78, -117.76, -121.77, -118.12, -117.63, -122.3, -121.81, -118.3, -117.04, -122.1, -121.23, -121.82, -120.59, -118.23, -122.04, -117.03, -117.91, -120.98, -122.45, -118.25, -122.18, -123.79, -117.08, -117.71, -118.4, -118.23, -122.37, -118.43, -118.03, -118.43, -122.74, -119.05, -114.6, -118.07, -117.08, -121.72, -116.94, -122.49, -118.28, -117.36, -122.59, -118.18, -115.37, -121.58, -121.48, -121.13, -122.39, -117.22, -118.33, -118.04, -119.77, -119.18, -116.49, -122.29, -119.29, -122.29, -117.82, -118.05, -116.99, -121.95, -118.11, -124.14, -122.1, -116.79, -119.98, -118.15, -118.28, -122.03, -122.92, -118.17, -119.04, -122.37, -118.95, -117.96, -118.25, -122.3, -121.46, -121.44, -121.87, -117.69, -121.09, -115.57, -118.41, -117.22, -117.76, -120.65, -118.41, -120.98, -118.42, -121.63, -117.92, -118.36, -121.77, -121.94, -121.34, -118.25, -117.23, -118.67, -121.66, -117.78, -122.41, -121.94, -120.12, -121.44, -122.27, -117.53, -124.11, -118.36, -116.99, -121.14, -116.93, -122.67, -117.33, -121.68, -118.2, -119.69, -118.3, -117.8, -118.28, -118.18, -117.27, -122.43, -121.25, -118.42, -122.0, -117.19, -122.38, -117.42, -117.96, -118.35, -118.26, -121.93, -122.01, -117.92, -122.45, -120.78, -118.22, -121.33, -118.4, -119.8, -119.83, -116.53, -117.85, -118.34, -121.38, -124.16, -122.02, -118.08, -118.42, -118.11, -118.4, -116.17, -117.12, -118.46, -119.28, -122.14, -117.89, -118.99, -121.75, -118.41, -121.26, -118.09, -117.99, -121.26, -116.26, -119.96, -118.25, -117.2, -117.22, -119.03, -117.66, -120.8, -117.9, -121.88, -118.12, -118.95, -121.42, -121.08, -116.46, -119.45, -121.37, -121.76, -118.15, -118.76, -117.1, -118.52, -124.0, -117.12, -117.06, -122.15, -118.52, -122.17, -118.17, -118.34, -118.27, -116.74, -122.23, -121.37, -121.32, -118.44, -118.41, -120.11, -119.69, -118.07, -119.77, -117.25, -122.47, -122.02, -122.45, -117.91, -119.7, -122.04, -122.64, -117.61, -122.13, -117.69, -120.45, -122.35, -119.51, -117.66, -122.0, -118.46, -117.89, -117.65, -118.35, -121.65, -121.66, -119.78, -118.33, -121.33, -117.66, -118.81, -118.23, -121.31, -118.36, -120.57, -118.21, -117.65, -117.8, -117.79, -118.41, -117.16, -121.45, -121.92, -116.88, -122.11, -117.29, -117.61, -117.11, -121.97, -117.64, -119.29, -122.74, -122.4, -118.42, -122.02, -122.49, -117.87, -118.46, -121.56, -123.21, -118.38, -118.45, -118.45, -118.25, -122.03, -118.33, -118.28, -118.43, -117.13, -116.22, -122.25, -117.13, -121.3, -122.07, -118.31, -118.07, -118.22, -117.34, -119.03, -117.13, -121.08, -122.49, -122.47, -115.57, -122.34, -117.13, -117.23, -118.36, -117.9, -117.44, -121.44, -118.15, -118.26, -122.15, -122.1, -121.97, -121.85, -123.11, -122.13, -121.32, -118.22, -116.05, -122.16, -120.51, -118.94, -118.14, -118.29, -117.82, -118.59, -118.17, -117.9, -120.45, -122.25, -118.2, -122.23, -121.82, -122.09, -118.12, -118.42, -122.05, -122.34, -121.81, -121.49, -117.95, -121.02, -121.96, -118.34, -118.21, -117.22, -121.28, -122.96, -120.02, -117.0, -118.62, -124.07, -121.91, -122.16, -118.25, -122.14, -118.29, -118.31, -121.89, -118.26, -117.36, -117.8, -119.0, -117.97, -121.46, -121.81, -117.17, -117.97, -119.49, -122.21, -117.02, -121.61, -117.3, -117.96, -117.79, -121.26, -118.48, -117.13, -121.47, -118.26, -117.96, -118.02, -120.39, -118.36, -117.94, -122.46, -119.66, -118.37, -121.06, -121.32, -117.87, -122.18, -121.8, -117.42, -118.23, -118.2, -117.59, -117.7, -118.18, -119.45, -119.72, -118.18, -117.98, -117.18, -118.32, -118.52, -117.88, -119.27, -117.05, -122.45, -120.37, -117.87, -118.56, -121.42, -118.17, -122.09, -118.39, -118.09, -116.76, -122.78, -115.53, -117.09, -117.7, -117.9, -117.98, -118.42, -122.22, -118.2, -121.14, -121.92, -118.05, -124.18, -122.46, -118.17, -117.92, -121.37, -118.2, -121.98, -121.95, -119.79, -117.48, -118.39, -124.11, -118.08, -118.27, -117.9, -118.21, -118.36, -121.84, -117.17, -119.33, -117.07, -118.64, -124.08, -122.54, -123.34, -118.27, -118.07, -120.29, -122.42, -118.15, -117.33, -120.42, -120.79, -115.55, -122.25, -117.04, -122.07, -119.57, -118.2, -122.44, -121.35, -118.04, -117.76, -122.27, -121.9, -117.9, -118.97, -119.08, -122.31, -118.85, -116.43, -117.18, -118.43, -122.27, -118.44, -117.96, -118.12, -119.06, -122.44, -121.21, -117.29, -116.33, -124.3, -117.14, -122.09, -118.3, -115.5, -119.06, -117.8, -122.34, -118.42, -117.37, -120.92, -121.23, -122.4, -122.05, -118.1, -122.09, -118.27, -120.67, -117.0, -118.52, -118.61, -117.81, -121.92, -118.4, -118.31, -120.48, -118.33, -118.05, -118.84, -118.2, -122.41, -121.35, -121.55, -117.38, -114.64, -117.08, -122.32, -117.12, -121.09, -118.39, -118.29, -118.2, -122.31, -118.36, -118.41, -122.17, -119.27, -119.77, -122.24, -117.86, -117.13, -118.3, -116.77, -120.44, -119.27, -117.93, -121.32, -118.27, -117.02, -118.55, -118.68, -121.9, -118.47, -122.23, -122.26, -119.52, -117.71, -117.78, -117.11, -117.23, -120.12, -118.09, -118.22, -120.57, -117.12, -123.41, -118.07, -117.79, -118.15, -118.12, -122.44, -119.76, -118.99, -122.21, -118.27, -118.27, -120.84, -117.03, -120.38, -118.18, -117.11, -118.19, -122.3, -118.41, -121.73, -122.05, -119.05, -121.93, -122.44, -117.46, -122.23, -121.45, -118.12, -122.47, -121.99, -122.34, -117.87, -117.25, -118.4, -118.17, -117.61, -119.34, -119.19, -121.88, -118.46, -117.08, -122.07, -117.49, -118.27, -122.05, -121.7, -118.28, -117.82, -120.66, -120.66, -118.04, -117.3, -119.09, -119.75, -122.23, -117.86, -117.77, -120.28, -118.2, -118.11, -121.4, -118.95, -118.69, -121.64, -122.15, -117.6, -118.15, -123.49, -121.23, -122.09, -118.4, -117.97, -118.48, -117.8, -118.42, -122.33, -123.98, -117.9, -119.04, -121.6, -117.96, -121.82, -118.17, -117.67, -116.89, -119.22, -118.5, -122.15, -118.18, -119.6, -117.86, -117.3, -119.08, -122.23, -119.74, -118.32, -119.21, -118.13, -117.32, -122.4, -122.09, -118.41, -121.47, -122.36, -122.4, -122.1, -118.15, -118.16, -122.11, -120.93, -119.87, -117.25, -121.81, -118.28, -115.51, -121.95, -117.7, -121.72, -118.11, -117.22, -122.43, -119.82, -122.0, -117.31, -118.26, -118.14, -118.12, -118.16, -118.26, -118.08, -122.1, -118.08, -122.1, -122.04, -117.07, -118.37, -122.38, -118.33, -120.68, -118.09, -120.89, -117.69, -121.32, -118.45, -121.99, -117.95, -116.84, -121.06, -120.95, -121.31, -118.18, -117.07, -118.11, -117.12, -122.25, -118.29, -121.81, -118.98, -117.79, -118.12, -117.87, -121.99, -117.9, -118.31, -118.4, -121.96, -119.17, -121.2, -117.64, -118.27, -117.94, -122.02, -117.39, -117.26, -122.65, -118.92, -118.43, -121.84, -121.39, -117.14, -117.8, -121.59, -117.29, -118.04, -121.24, -121.7, -118.07, -122.05, -122.58, -118.27, -121.3, -121.57, -117.09, -122.29, -124.08, -117.18, -117.26, -120.66, -122.43, -120.66, -122.27, -118.4, -118.46, -122.03, -122.73, -122.25, -118.3, -121.37, -118.58, -122.19, -117.11, -119.0, -118.16, -122.28, -117.27, -118.28, -121.81, -117.82, -118.08, -122.07, -118.03, -119.81, -118.2, -122.16, -120.42, -118.09, -121.45, -121.98, -122.03, -120.31, -117.22, -118.14, -119.12, -117.07, -117.05, -117.28, -118.22, -120.58, -118.38, -117.85, -117.9, -121.06, -121.27, -122.27, -119.69, -118.14, -117.06, -118.97, -118.19, -122.39, -119.19, -118.34, -119.35, -121.43, -122.25, -121.43, -118.09, -119.73, -118.14, -118.3, -122.14, -120.44, -119.26, -122.04, -122.06, -117.23, -118.3, -118.39, -116.27, -121.02, -122.64, -117.07, -119.38, -117.35, -119.38, -122.15, -118.1, -117.84, -121.24, -121.95, -118.24, -121.0, -118.43, -118.27, -121.65, -118.48, -118.43, -117.32, -117.14, -122.42, -122.11, -118.35, -121.37, -121.62, -118.09, -118.32, -121.24, -122.26, -121.87, -121.98, -119.25, -118.26, -118.24, -122.19, -121.3, -118.05, -122.21, -118.05, -117.3, -118.39, -121.02, -118.32, -117.35, -118.39, -122.45, -121.35, -118.3, -118.24, -118.18, -121.8, -117.77, -118.04, -117.67, -121.33, -118.31, -121.49, -121.33, -117.88, -121.19, -118.35, -117.07, -118.2, -119.29, -117.81, -118.21, -118.29, -118.09, -119.2, -122.28, -117.98, -119.81, -122.29, -117.2, -118.29, -118.23, -121.68, -119.78, -118.25, -118.01, -115.94, -117.89, -119.36, -117.0, -118.29, -121.77, -121.65, -117.17, -117.85, -120.91, -122.42, -121.35, -118.04, -118.19, -121.29, -118.32, -122.0, -117.96, -116.3, -121.23, -117.98, -119.74, -118.32, -119.78, -122.06, -117.15, -122.12, -122.26, -118.01, -117.65, -118.01, -117.04, -121.45, -117.46, -118.37, -118.1, -116.35, -118.25, -121.44, -121.88, -119.57, -118.18, -121.51, -118.21, -121.6, -118.22, -118.16, -117.78, -118.08, -117.24, -121.67, -118.48, -118.37, -118.46, -122.25, -117.77, -121.32, -122.32, -115.59, -115.58, -117.76, -117.37, -117.16, -121.42, -119.09, -117.8, -122.33, -117.29, -121.81, -122.06, -117.97, -122.47, -122.09, -118.52, -121.74, -119.23, -118.45, -119.3, -117.7, -117.89, -121.32, -121.1, -117.45, -117.11, -118.36, -119.74, -117.97, -117.24, -121.66, -118.26, -117.95, -118.47, -118.48, -117.99, -118.33, -121.39, -118.3, -120.93, -121.93, -122.26, -118.13, -118.39, -118.5, -118.42, -115.59, -118.47, -118.5, -118.31, -117.9, -122.24, -117.95, -117.6, -122.54, -119.8, -117.06, -119.17, -118.44, -118.23, -118.25, -119.18, -117.63, -121.96, -120.37, -117.27, -117.89, -122.28, -119.52, -118.54, -121.26, -117.69, -122.19, -121.27, -117.79, -122.72, -121.44, -120.99, -118.43, -118.65, -118.31, -119.79, -122.69, -117.63, -120.87, -118.46, -118.99, -122.37, -117.84, -118.48, -117.52, -118.37, -118.35, -118.34, -115.56, -117.88, -118.49, -118.33, -122.31, -118.04, -117.1, -118.99, -122.02, -118.39, -118.07, -122.06, -114.49, -118.04, -121.81, -117.59, -118.7, -119.78, -117.16, -117.87, -118.19, -121.79, -117.08, -116.41, -118.45, -119.16, -118.95, -117.93, -121.54, -118.36, -121.51, -117.84, -121.12, -118.22, -124.16, -117.25, -117.71, -121.87, -122.34, -120.77, -118.34, -119.16, -117.99, -122.14, -122.41, -118.54, -122.45, -121.99, -117.66, -121.03, -121.89, -118.26, -121.29, -118.12, -117.99, -121.32, -120.64, -117.87, -117.86, -122.94, -117.95, -117.76, -122.38, -122.12, -121.45, -120.45, -119.42, -121.62, -118.11, -122.08, -121.3, -116.82, -117.78, -117.98, -121.98, -118.06, -121.84, -120.6, -122.68, -117.96, -121.41, -118.24, -118.64, -118.24, -122.27, -121.92, -118.11, -121.99, -117.81, -117.17, -117.91, -118.3, -118.94, -118.15, -117.35, -122.32, -118.17, -119.39, -117.29, -117.99, -121.47, -118.01, -118.18, -118.67, -118.32, -121.87, -117.15, -117.22, -117.98, -118.32, -121.52, -118.92, -116.99, -118.33, -118.42, -122.18, -121.98, -121.83, -121.73, -122.11, -121.52, -118.2, -120.12, -122.08, -121.22, -118.44, -118.98, -118.49, -121.88, -122.52, -117.67, -121.85, -118.15, -122.78, -122.24, -122.69, -119.8, -119.39, -117.08, -121.98, -118.15, -121.34, -117.87, -117.3, -119.59, -121.22, -118.19, -122.4, -118.13, -121.16, -118.39, -118.17, -117.99, -118.28, -122.3, -122.31, -118.0, -117.6, -121.3, -122.03, -122.19, -122.13, -116.91, -122.43, -119.16, -122.28, -121.28, -117.38, -121.91, -117.02, -118.27, -122.2, -118.02, -117.3, -118.93, -122.27, -122.02, -118.39, -121.24, -119.49, -117.8, -118.43, -118.2, -117.25, -121.52, -118.24, -121.32, -116.99, -118.17, -118.26, -122.42, -118.17, -119.79, -118.34, -122.08, -121.34, -123.79, -118.19, -117.33, -118.01, -118.44, -119.72, -119.29, -118.11, -122.4, -117.87, -118.2, -118.07, -122.54, -117.3, -118.3, -117.85, -117.94, -119.78, -117.25, -119.78, -118.13, -122.61, -124.19, -118.02, -118.37, -118.56, -121.12, -118.01, -121.13, -120.81, -117.22, -121.54, -122.7, -121.96, -123.47, -122.48, -118.25, -117.21, -118.51, -121.48, -117.64, -118.31, -122.45, -118.28, -121.82, -118.37, -117.38, -122.56, -118.28, -118.49, -118.0, -122.2, -116.44, -118.18, -117.94, -122.51, -118.36, -122.72, -121.84, -122.17, -118.12, -117.31, -116.25, -115.73, -117.67, -117.67, -121.38, -120.65, -122.1, -119.78, -119.35, -122.18, -121.94, -117.1, -118.48, -122.13, -118.45, -117.21, -120.08, -117.86, -118.82, -122.84, -118.0, -122.28, -122.43, -122.32, -117.13, -117.51, -121.5, -117.58, -121.97, -121.82, -118.3, -118.03, -117.1, -116.21, -117.9, -121.24, -118.39, -117.58, -122.45, -117.37, -118.35, -122.68, -118.22, -122.34, -118.26, -117.33, -121.89, -118.71, -118.05, -118.08, -122.41, -118.06, -118.14, -116.98, -118.45, -119.82, -118.44, -122.14, -119.64, -122.09, -117.8, -117.25, -117.53, -117.15, -122.07, -118.42, -121.45, -117.67, -118.28, -117.27, -121.89, -122.32, -118.46, -121.85, -119.3, -118.37, -120.81, -118.3, -122.01, -119.52, -121.0, -121.45, -117.76, -118.19, -122.62, -122.24, -118.14, -121.47, -118.09, -117.1, -118.27, -117.87, -124.14, -122.25, -118.3, -122.18, -121.91, -118.99, -122.44, -117.1, -117.25, -118.24, -117.33, -122.45, -117.28, -121.3, -122.27, -119.27, -120.57, -122.43, -118.7, -118.02, -118.11, -118.3, -118.41, -119.85, -118.13, -118.4, -122.42, -118.15, -121.51, -119.05, -117.95, -118.55, -116.76, -118.13, -123.02, -119.03, -118.41, -119.55, -117.04, -122.99, -122.15, -118.32, -122.0, -121.29, -118.12, -122.55, -118.32, -117.95, -122.04, -121.38, -117.85, -121.81, -120.6, -121.07, -117.99, -122.51, -121.02, -118.16, -117.1, -122.91, -118.13, -122.46, -122.19, -118.35, -118.59, -118.43, -122.56, -118.44, -117.93, -117.07, -118.32, -117.96, -123.59, -120.61, -117.78, -117.84, -118.31, -119.34, -119.12, -118.3, -119.17, -117.25, -122.7, -117.93, -121.37, -118.28, -118.06, -118.17, -118.36, -118.37, -117.27, -122.41, -117.63, -121.33, -119.35, -118.16, -121.38, -121.67, -117.19, -117.86, -122.41, -118.23, -117.49, -119.84, -115.58, -122.28, -121.99, -117.66, -117.12, -122.04, -117.28, -122.28, -118.11, -117.96, -117.81, -118.03, -118.98, -121.91, -118.47, -118.33, -118.26, -117.09, -120.95, -122.11, -118.37, -117.09, -120.29, -118.43, -117.06, -118.23, -118.3, -121.57, -122.0, -117.82, -118.65, -116.29, -118.17, -121.41, -119.73, -117.37, -118.13, -118.35, -117.95, -117.06, -121.74, -122.21, -120.42, -121.01, -118.16, -122.22, -117.25, -121.37, -122.65, -118.3, -119.69, -121.61, -118.28, -118.49, -116.41, -118.13, -118.01, -118.54, -119.62, -122.62, -118.27, -118.06, -117.04, -121.3, -118.03, -117.0, -121.09, -122.42, -115.53, -122.0, -118.46, -117.93, -117.96, -121.99, -118.4, -117.25, -122.5, -122.13, -120.14, -117.75, -117.21, -117.25, -119.05, -118.02, -119.29, -121.89, -122.03, -121.04, -120.82, -117.05, -121.0, -118.09, -118.39, -118.35, -122.32, -122.18, -117.86, -118.29, -121.93, -122.01, -117.68, -121.04, -121.32, -119.21, -119.21, -121.67, -117.29, -118.18, -118.37, -117.94, -121.97, -118.33, -121.26, -121.91, -118.01, -118.39, -119.68, -117.23, -122.25, -118.26, -118.28, -122.61, -122.43, -122.24, -122.08, -118.24, -117.39, -117.2, -118.4, -122.25, -117.97, -122.07, -117.1, -117.89, -119.74, -118.22, -116.23, -116.06, -118.43, -122.02, -119.93, -122.14, -121.46, -118.27, -117.32, -122.84, -122.24, -117.06, -118.01, -119.94, -124.05, -117.34, -118.38, -117.75, -122.26, -122.27, -121.65, -119.29, -118.47, -121.8, -122.09, -118.51, -118.23, -117.08, -116.21, -117.92, -122.19, -122.08, -120.55, -117.45, -118.14, -118.36, -117.06, -118.93, -118.43, -121.9, -117.12, -122.39, -121.95, -117.19, -122.0, -122.47, -122.03, -118.14, -122.02, -118.23, -122.01, -118.02, -117.02, -119.65, -117.16, -122.09, -119.77, -120.91, -118.24, -122.04, -117.68, -118.21, -117.24, -122.0, -122.12, -121.97, -121.62, -122.39, -118.32, -118.17, -117.92, -121.61, -115.4, -121.36, -121.03, -117.31, -122.69, -121.88, -122.24, -118.8, -115.9, -121.76, -117.66, -117.07, -119.95, -117.22, -118.15, -118.38, -120.44, -121.27, -118.33, -121.82, -117.94, -124.1, -117.55, -122.25, -122.24, -120.03, -122.23, -119.76, -118.42, -122.46, -118.01, -121.85, -122.09, -120.49, -121.95, -118.0, -118.87, -118.48, -119.79, -121.96, -122.13, -118.39, -118.35, -118.45, -118.26, -118.22, -118.38, -118.13, -117.01, -119.47, -117.11, -118.41, -116.26, -121.93, -117.92, -122.36, -117.96, -117.8, -118.59, -115.58, -122.17, -117.22, -118.12, -118.35, -121.75, -117.41, -118.36, -121.36, -117.08, -118.43, -121.06, -121.91, -118.1, -118.11, -118.08, -119.18, -118.49, -121.42, -116.9, -119.35, -118.42, -118.3, -117.98, -121.62, -117.67, -117.94, -118.17, -118.27, -121.83, -117.18, -118.39, -118.2, -121.93, -118.09, -117.16, -119.98, -122.62, -118.08, -117.57, -118.48, -118.23, -121.98, -122.14, -118.19, -118.47, -118.31, -121.2, -117.43, -117.02, -116.51, -117.63, -118.1, -122.23, -122.53, -121.12, -119.94, -120.97, -119.79, -118.31, -122.25, -118.43, -122.02, -118.04, -118.37, -122.49, -121.29, -118.42, -118.24, -118.2, -122.21, -122.37, -118.48, -116.94, -122.38, -117.05, -118.3, -121.83, -117.0, -121.01, -118.14, -121.43, -117.27, -122.23, -118.11, -118.57, -118.39, -121.48, -119.56, -115.37, -118.37, -121.29, -118.27, -120.23, -118.34, -118.32, -117.27, -122.28, -118.0, -117.56, -122.07, -120.57, -121.59, -121.24, -121.47, -117.9, -118.44, -122.64, -119.74, -117.92, -122.66, -117.65, -119.07, -122.31, -119.52, -121.23, -122.2, -117.08, -118.46, -118.3, -118.43, -118.08, -117.25, -117.33, -119.76, -122.54, -117.74, -117.12, -117.93, -118.24, -121.34, -118.25, -118.08, -117.94, -120.95, -118.14, -117.86, -120.13, -117.81, -117.26, -122.47, -118.16, -122.28, -118.01, -117.13, -118.39, -120.59, -121.5, -118.37, -120.69, -122.49, -118.09, -119.8, -119.65, -122.16, -118.32, -122.5, -122.14, -122.03, -121.97, -122.42, -121.74, -122.25, -117.5, -117.13, -117.98, -117.34, -117.06, -117.69, -121.88, -117.18, -118.01, -119.55, -118.32, -123.1, -118.33, -117.49, -121.39, -118.45, -118.59, -117.96, -117.99, -121.87, -117.63, -121.82, -117.61, -118.4, -123.15, -121.08, -118.54, -118.47, -122.47, -117.97, -118.33, -120.85, -121.0, -122.35, -120.07, -118.27, -117.17, -122.21, -122.26, -119.25, -119.42, -118.27, -118.13, -122.38, -118.28, -118.19, -118.36, -116.68, -118.25, -122.03, -118.03, -118.06, -118.51, -118.32, -122.09, -121.64, -118.1, -117.35, -120.7, -117.87, -121.06, -117.96, -117.54, -118.29, -118.99, -118.36, -118.31, -121.98, -117.12, -122.57, -121.2, -119.04, -122.18, -117.89, -117.87, -120.02, -122.26, -118.36, -118.31, -118.21, -121.06, -117.19, -118.41, -117.24, -118.53, -118.32, -118.21, -121.03, -118.55, -117.26, -118.31, -122.16, -122.21, -120.65, -117.85, -121.28, -118.27, -118.17, -122.67, -117.66, -118.6, -122.15, -121.0, -117.96, -118.36, -122.42, -121.91, -116.45, -120.47, -118.3, -117.9, -118.36, -118.05, -117.88, -122.1, -120.97, -121.7, -117.9, -118.33, -116.15, -121.21, -122.36, -118.11, -121.9, -118.27, -122.47, -118.02, -120.82, -117.83, -121.28, -117.92, -118.11, -122.35, -116.47, -122.41, -122.07, -122.68, -121.14, -121.6, -119.29, -122.26, -117.8, -121.3, -117.37, -122.15, -122.03, -118.22, -118.0, -119.08, -122.26, -121.93, -118.31, -121.26, -117.7, -119.71, -122.21, -118.3, -121.73, -118.16, -118.2, -118.33, -118.4, -120.04, -122.29, -121.98, -118.56, -121.88, -118.27, -122.27, -118.18, -117.35, -121.42, -118.26, -118.34, -121.33, -119.05, -121.01, -119.76, -120.28, -122.31, -117.76, -121.11, -121.88, -117.98, -118.11, -119.4, -122.37, -117.93, -117.96, -118.51, -117.87, -122.27, -117.06, -117.19, -122.58, -118.21, -117.99, -122.47, -118.06, -118.26, -117.0, -118.32, -118.3, -117.9, -117.93, -121.17, -117.93, -118.42, -121.85, -118.14, -121.28, -117.89, -121.84, -120.45, -117.16, -117.16, -118.29, -118.86, -121.24, -118.14, -120.84, -118.09, -118.29, -118.29, -117.99, -119.23, -117.98, -121.07, -117.39, -122.69, -122.33, -118.29, -118.57, -118.31, -118.18, -118.12, -118.28, -120.37, -117.24, -122.48, -119.7, -120.31, -117.27, -116.8, -122.28, -118.39, -118.32, -119.72, -117.9, -121.14, -122.48, -117.92, -122.28, -121.87, -118.89, -118.32, -121.83, -122.29, -122.01, -117.95, -117.12, -118.31, -122.6, -118.42, -121.14, -118.3, -118.49, -118.46, -117.11, -121.52, -118.09, -121.22, -117.74, -119.44, -118.26, -122.51, -116.44, -118.19, -118.32, -117.31, -121.19, -121.93, -120.25, -118.3, -118.09, -120.62, -121.96, -117.89, -117.47, -118.32, -118.38, -118.17, -117.65, -122.56, -117.96, -122.58, -119.97, -117.95, -119.83, -122.18, -122.51, -121.94, -119.63, -122.33, -118.77, -117.75, -117.11, -119.16, -117.01, -122.09, -117.64, -118.0, -118.19, -122.07, -122.74, -118.14, -116.57, -121.29, -122.26, -118.9, -120.01, -117.34, -122.43, -121.44, -122.08, -118.27, -118.24, -117.34, -117.05, -117.35, -121.58, -122.04, -118.09, -118.41, -118.43, -118.12, -124.23, -117.91, -122.22, -122.01, -118.33, -118.28, -122.29, -118.36, -121.29, -121.92, -118.48, -117.23, -117.14, -122.17, -121.45, -121.92, -118.38, -121.47, -122.38, -121.32, -122.44, -118.36, -121.96, -122.04, -121.49, -121.96, -122.27, -121.92, -117.55, -122.46, -121.99, -118.39, -118.08, -117.87, -122.24, -120.72, -118.27, -118.6, -117.1, -119.76, -118.31, -121.75, -118.34, -118.14, -118.12, -118.98, -117.9, -121.29, -122.07, -119.73, -122.25, -121.32, -118.21, -117.96, -117.37, -117.66, -118.4, -118.43, -118.26, -122.01, -118.28, -118.35, -117.34, -118.32, -118.2, -117.88, -119.18, -118.37, -122.44, -117.39, -118.04, -117.01, -118.13, -117.87, -117.13, -121.45, -122.11, -117.07, -119.26, -120.43, -122.01, -118.13, -121.66, -122.23, -121.69, -122.42, -122.29, -122.28, -122.41, -117.81, -122.42, -118.22, -123.08, -121.4, -117.89, -118.01, -122.35, -122.63, -121.91, -119.17, -118.19, -121.96, -122.34, -122.06, -117.59, -121.96, -121.46, -120.97, -117.21, -121.99, -118.26, -118.52, -117.53, -122.22, -117.04, -116.91, -117.09, -117.25, -123.25, -121.2, -118.36, -118.4, -118.09, -121.31, -117.23, -120.94, -118.37, -121.86, -118.4, -118.52, -117.12, -118.11, -122.05, -119.77, -118.18, -118.19, -121.91, -121.99, -122.27, -117.96, -120.98, -117.92, -121.35, -122.91, -122.27, -121.26, -118.14, -118.35, -118.31, -117.41, -118.28, -118.44, -118.09, -117.87, -122.08, -122.41, -117.72, -119.06, -117.92, -117.2, -117.94, -118.41, -117.02, -118.06, -118.21, -118.3, -117.12, -118.39, -118.43, -118.22, -122.25, -116.23, -119.74, -121.1, -120.67, -117.89, -121.92, -118.2, -118.37, -122.48, -117.82, -118.46, -116.96, -122.02, -119.78, -122.1, -122.78, -118.14, -121.91, -117.09, -119.53, -121.87, -117.14, -117.68, -116.63, -117.19, -117.37, -122.48, -122.62, -118.15, -117.25, -120.84, -121.04, -119.69, -121.29, -118.42, -122.45, -114.67, -121.11, -122.42, -121.42, -119.1, -121.97, -119.82, -117.32, -117.37, -122.4, -117.95, -121.43, -122.43, -121.83, -121.95, -122.04, -121.0, -117.13, -121.77, -120.46, -118.23, -122.19, -122.68, -118.31, -117.18, -118.21, -119.4, -120.42, -121.55, -117.15, -122.47, -118.19, -117.07, -118.02, -119.8, -122.4, -118.11, -117.2, -117.42, -121.52, -118.28, -117.6, -118.24, -121.81, -118.12, -118.08, -122.65, -120.67, -118.23, -117.62, -122.48, -120.43, -121.99, -118.28, -118.31, -117.65, -122.25, -121.87, -121.49, -115.69, -118.16, -122.07, -119.55, -121.43, -117.99, -116.9, -122.43, -122.19, -118.26, -121.58, -117.18, -118.0, -122.1, -121.46, -118.1, -117.96, -118.38, -121.42, -118.32, -121.28, -117.22, -118.07, -117.2, -121.91, -118.18, -122.13, -117.33, -121.03, -118.08, -118.05, -119.04, -118.28, -118.07, -118.3, -121.22, -121.74, -117.16, -117.59, -117.93, -124.17, -117.44, -119.45, -117.07, -122.21, -121.99, -121.95, -118.34, -117.7, -116.58, -119.32, -118.42, -119.6, -117.77, -118.02, -117.23, -122.2, -121.97, -120.09, -121.91, -122.49, -122.06, -119.89, -122.26, -117.81, -118.34, -117.83, -121.77, -121.28, -117.99, -117.61, -122.1, -118.46, -122.09, -122.45, -117.84, -119.19, -119.85, -121.36, -115.64, -119.56, -118.46, -119.3, -122.21, -122.33, -117.27, -117.64, -118.42, -122.41, -119.27, -122.06, -115.56, -118.12, -121.77, -118.89, -122.54, -121.62, -115.41, -117.17, -117.25, -117.05, -116.53, -121.0, -121.16, -122.66, -117.31, -122.27, -118.01, -118.45, -117.03, -118.16, -121.28, -121.91, -118.35, -121.42, -123.21, -119.75, -121.98, -118.28, -122.22, -120.96, -121.85, -121.91, -121.82, -122.65, -118.25, -117.43, -117.91, -115.55, -118.45, -118.45, -119.86, -117.8, -116.96, -119.8, -118.45, -118.17, -118.93, -117.39, -118.15, -118.41, -118.2, -118.3, -118.36, -118.06, -117.97, -119.05, -116.97, -122.48, -117.06, -119.88, -122.24, -121.76, -118.53, -122.28, -118.45, -117.99, -117.14, -118.61, -122.25, -122.15, -121.44, -117.9, -124.17, -117.83, -121.54, -118.22, -122.54, -122.14, -118.33, -118.37, -121.15, -118.2, -118.29, -121.07, -117.31, -117.97, -121.29, -118.21, -117.36, -118.48, -121.92, -117.88, -115.52, -117.61, -122.43, -118.25, -122.3, -117.01, -122.02, -121.62, -118.37, -118.47, -122.15, -122.4, -118.33, -122.44, -122.13, -118.42, -117.67, -121.34, -121.96, -116.52, -122.94, -117.21, -118.17, -119.82, -121.94, -121.98, -119.04, -123.02, -122.42, -121.13, -117.95, -118.35, -121.24, -117.75, -121.25, -118.44, -117.28, -122.01, -122.53, -121.82, -118.35, -120.0, -118.25, -117.26, -118.18, -121.04, -117.65, -115.64, -117.71, -118.77, -119.66, -122.03, -118.27, -118.15, -117.37, -121.72, -121.4, -119.01, -122.33, -118.43, -115.54, -118.5, -118.57, -123.02, -117.9, -118.17, -121.04, -122.21, -118.49, -122.01, -121.17, -122.29, -118.48, -118.06, -117.16, -118.32, -115.55, -117.05, -117.9, -118.2, -122.48, -122.88, -117.89, -121.22, -118.34, -118.94, -117.4, -118.04, -122.49, -118.33, -117.65, -117.84, -120.89, -118.2, -122.22, -118.09, -121.29, -118.36, -121.48, -117.09, -120.24, -118.45, -119.85, -117.19, -117.67, -118.12, -118.07, -117.08, -122.12, -118.4, -121.67, -121.77, -118.06, -117.2, -118.13, -118.38, -118.04, -117.08, -119.0, -122.01, -118.97, -118.93, -121.79, -118.13, -121.14, -122.42, -117.05, -117.93, -117.23, -117.06, -119.09, -117.36, -121.87, -118.21, -117.39, -122.02, -118.37, -118.27, -119.85, -118.22, -117.99, -119.29, -117.95, -123.96, -119.14, -118.05, -117.23, -117.78, -120.7, -118.15, -122.51, -117.28, -119.58, -118.3, -117.02, -118.19, -118.28, -121.56, -121.34, -122.02, -121.49, -118.4, -121.96, -117.88, -118.15, -117.26, -122.17, -117.93, -117.25, -118.14, -120.06, -117.31, -117.05, -120.1, -117.66, -117.88, -117.74, -121.83, -117.99, -118.06, -119.64, -117.76, -118.05, -118.04, -117.14, -120.42, -118.05, -117.3, -118.31, -119.4, -120.45, -121.31, -120.44, -118.2, -122.49, -117.93, -122.24, -120.47, -117.88, -118.44, -122.64, -117.25, -121.76, -119.95, -121.59, -123.01, -120.95, -121.44, -118.15, -122.42, -122.44, -122.14, -117.96, -121.75, -119.01, -120.22, -117.04, -118.01, -118.36, -121.78, -121.94, -122.45, -117.27, -122.47, -120.22, -121.06, -120.77, -118.4, -118.34, -117.96, -119.73, -118.17, -117.74, -117.36, -118.33, -117.93, -117.93, -121.91, -118.19, -119.0, -118.23, -117.5, -122.69, -115.49, -117.93, -122.23, -122.25, -121.49, -119.98, -117.19, -118.1, -117.59, -118.3, -118.22, -120.49, -121.13, -119.23, -122.43, -118.04, -122.42, -117.06, -116.54, -119.45, -121.98, -117.89, -122.41, -122.23, -118.29, -118.12, -123.75, -119.58, -119.12, -122.2, -118.35, -121.94, -121.71, -117.09, -122.03, -118.39, -122.13, -117.39, -118.49, -117.89, -122.66, -122.0, -116.57, -120.33, -118.9, -122.66, -121.97, -124.14, -122.03, -120.94, -117.57, -121.92, -120.14, -117.8, -118.29, -118.3, -117.3, -122.72, -119.72, -118.31, -119.77, -121.46, -122.71, -117.47, -117.21, -122.24, -118.01, -122.25, -117.4, -118.34, -121.25, -121.54, -121.98, -116.88, -121.43, -122.36, -122.54, -122.08, -122.08, -118.18, -121.9, -118.34, -121.0, -118.21, -124.02, -122.58, -118.36, -118.23, -118.36, -117.22, -122.33, -122.28, -122.66, -119.71, -117.72, -120.04, -118.35, -121.47, -118.44, -117.62, -118.26, -122.06, -118.06, -117.07, -122.09, -122.56, -122.65, -117.96, -117.2, -118.09, -117.1, -121.97, -117.88, -118.59, -118.22, -122.47, -118.32, -122.3, -117.49, -122.42, -121.95, -121.89, -122.41, -118.42, -117.32, -118.23, -117.19, -118.12, -122.41, -117.14, -118.44, -118.13, -124.11, -118.36, -121.0, -117.7, -121.25, -119.79, -116.89, -117.15, -119.19, -118.34, -118.36, -123.01, -117.27, -118.36, -121.13, -118.33, -122.19, -118.26, -119.02, -122.15, -119.32, -117.62, -118.05, -118.28, -118.2, -122.0, -118.19, -121.04, -120.24, -117.31, -122.37, -118.23, -120.69, -116.87, -121.99, -117.37, -122.07, -121.83, -122.23, -118.34, -120.7, -117.2, -117.03, -120.79, -118.52, -118.22, -117.96, -118.26, -118.29, -122.49, -122.47, -118.32, -117.53, -116.24, -119.53, -122.27, -117.95, -122.44, -121.94, -118.12, -122.25, -120.09, -121.93, -121.29, -119.72, -121.91, -117.28, -122.25, -118.25, -122.26, -120.35, -122.47, -122.47, -122.34, -120.97, -116.52, -121.36, -118.42, -118.45, -121.9, -117.09, -118.18, -117.87, -118.22, -117.23, -121.93, -122.56, -117.27, -118.31, -116.85, -118.17, -123.54, -115.59, -117.02, -122.3, -118.26, -117.85, -122.24, -120.7, -118.36, -118.3, -117.9, -122.4, -122.63, -119.32, -117.14, -121.76, -118.29, -118.65, -117.22, -120.02, -120.26, -119.69, -117.85, -121.72, -117.27, -121.84, -118.35, -116.97, -118.48, -118.38, -122.43, -118.2, -117.97, -122.3, -122.42, -118.0, -118.34, -119.64, -121.73, -118.18, -121.27, -117.77, -118.11, -118.27, -118.25, -121.31, -117.19, -122.14, -117.25, -121.29, -122.76, -117.09, -121.21, -122.3, -118.29, -119.76, -118.36, -122.01, -122.5, -119.87, -117.01, -121.79, -118.15, -119.22, -117.28, -117.25, -121.88, -119.24, -122.42, -118.23, -119.8, -117.33, -119.37, -123.34, -118.14, -116.98, -118.4, -118.1, -118.29, -121.66, -118.22, -118.37, -117.98, -117.95, -122.14, -118.38, -119.09, -118.04, -121.34, -122.46, -118.31, -121.25, -121.84, -117.27, -118.53, -117.82, -117.13, -122.39, -122.39, -122.25, -118.45, -118.66, -122.18, -117.97, -121.7, -120.63, -119.7, -118.09, -117.95, -117.92, -118.43, -120.84, -121.59, -118.39, -117.63, -117.19, -117.06, -120.44, -122.42, -118.37, -122.29, -117.96, -119.25, -122.48, -118.08, -121.75, -120.91, -120.98, -118.29, -117.85, -122.09, -121.58, -122.19, -118.19, -118.04, -117.0, -121.46, -118.17, -118.89, -118.44, -122.31, -119.9, -118.19, -118.21, -119.73, -117.34, -122.43, -117.16, -114.65, -124.16, -120.62, -122.33, -117.87, -122.39, -122.27, -122.01, -122.73, -119.77, -121.53, -124.14, -119.19, -116.98, -121.86, -121.26, -122.26, -121.03, -118.1, -120.59, -117.25, -121.69, -117.16, -121.18, -116.24, -120.02, -118.41, -121.63, -118.35, -118.03, -117.53, -121.79, -118.33, -122.43, -121.3, -121.27, -120.46, -116.83, -121.46, -117.06, -118.3, -117.69, -120.97, -122.78, -117.94, -117.5, -122.54, -117.78, -119.19, -117.96, -122.47, -119.44, -118.03, -122.03, -118.27, -121.91, -117.19, -119.72, -119.79, -122.28, -118.07, -122.02, -118.42, -118.04, -122.08, -118.2, -122.05, -117.87, -118.31, -121.49, -121.27, -118.13, -122.23, -117.12, -118.44, -120.59, -118.44, -118.13, -118.85, -118.09, -122.36, -118.13, -117.97, -117.64, -117.86, -119.7, -117.14, -124.22, -122.47, -117.74, -119.63, -122.93, -118.52, -119.77, -121.24, -122.1, -122.07, -118.07, -118.17, -121.35, -121.86, -117.18, -118.18, -124.16, -121.5, -118.47, -121.88, -121.42, -118.51, -118.21, -117.78, -122.2, -118.89, -122.11, -117.23, -122.47, -118.38, -122.38, -122.47, -121.99, -117.97, -122.06, -118.28, -118.3, -121.95, -118.23, -122.34, -118.27, -122.07, -117.68, -121.91, -118.33, -117.31, -118.15, -122.02, -118.32, -121.81, -118.23, -122.44, -118.65, -117.65, -122.47, -122.47, -117.25, -118.14, -120.99, -117.2, -122.24, -121.22, -121.02, -119.49, -117.85, -118.09, -122.69, -122.26, -118.12, -121.99, -122.16, -116.36, -117.33, -117.22, -118.35, -118.27, -122.85, -118.31, -117.0, -117.67, -119.47, -118.84, -118.26, -117.05, -118.14, -116.98, -117.03, -118.34, -121.28, -118.28, -118.28, -118.06, -120.86, -118.1, -121.88, -122.17, -121.92, -118.31, -118.39, -122.44, -122.47, -117.33, -117.06, -118.07, -118.19, -121.28, -122.3, -122.27, -117.95, -117.65, -116.57, -117.11, -118.42, -122.01, -122.14, -118.27, -118.55, -122.01, -121.99, -118.09, -119.02, -122.33, -120.61, -122.27, -122.34, -118.25, -117.13, -117.23, -118.68, -122.28, -121.32, -117.98, -122.27, -118.08, -116.38, -118.31, -122.03, -122.24, -119.07, -117.32, -117.64, -119.69, -121.99, -118.28, -118.36, -118.15, -117.23, -118.26, -118.0, -117.94, -118.44, -119.71, -121.93, -118.32, -117.2, -121.7, -121.08, -117.09, -118.41, -117.94, -118.02, -118.38, -117.86, -119.72, -118.21, -122.24, -118.38, -118.13, -121.96, -121.83, -122.48, -117.08, -117.76, -119.01, -122.48, -117.87, -118.36, -120.43, -118.33, -118.14, -122.17, -117.27, -116.24, -117.59, -119.17, -119.39, -122.04, -117.18, -118.02, -121.41, -119.19, -122.24, -121.84, -118.11, -118.15, -120.9, -121.08, -121.56, -117.81, -120.82, -122.38, -117.48, -120.78, -119.89, -117.07, -117.23, -119.75, -120.33, -122.25, -118.14, -117.85, -118.75, -118.14, -118.45, -121.85, -118.4, -118.35, -116.9, -121.05, -118.45, -117.11, -118.42, -122.28, -118.25, -121.0, -122.25, -118.38, -117.54, -117.62, -121.97, -118.25, -117.33, -117.23, -122.43, -119.77, -123.8, -118.08, -122.51, -117.13, -118.26, -122.18, -121.28, -117.4, -119.01, -118.27, -117.99, -119.06, -117.72, -118.42, -120.47, -122.15, -117.39, -118.63, -121.87, -121.23, -121.77, -121.55, -118.45, -117.3, -118.56, -119.79, -118.27, -122.01, -118.15, -118.11, -117.25, -117.24, -118.22, -116.89, -117.94, -121.07, -117.88, -117.32, -118.29, -118.37, -116.05, -117.14, -123.7, -119.18, -118.26, -119.78, -118.4, -118.33, -120.74, -118.18, -116.48, -122.28, -118.1, -118.21, -122.12, -120.99, -118.04, -119.3, -118.8, -118.82, -117.1, -118.12, -118.29, -118.41, -116.98, -117.12, -118.63, -118.25, -118.2, -117.17, -118.25, -118.21, -122.12, -121.87, -118.57, -118.35, -121.2, -121.86, -121.75, -118.34, -120.92, -121.27, -121.44, -118.08, -118.34, -121.81, -122.02, -118.36, -118.2, -118.45, -122.44, -120.98, -122.19, -118.17, -121.57, -122.41, -122.22, -117.85, -122.5, -122.03, -117.04, -117.92, -123.73, -121.9, -121.36, -118.31, -121.71, -118.05, -119.77, -117.99, -117.93, -117.44, -118.0, -118.32, -118.95, -119.11, -118.02, -117.64, -117.88, -118.31, -119.01, -117.99, -121.3, -118.56, -118.16, -117.0, -121.77, -120.2, -119.68, -121.01, -118.32, -117.27, -121.34, -122.39, -116.09, -118.18, -116.94, -118.1, -118.38, -118.15, -124.21, -119.3, -122.49, -122.52, -120.23, -117.92, -122.43, -121.54, -122.06, -118.22, -117.63, -121.63, -118.21, -117.17, -118.46, -121.38, -119.01, -121.92, -122.49, -118.17, -117.71, -117.7, -118.25, -117.98, -122.03, -121.79, -121.36, -121.97, -120.22, -118.08, -122.32, -117.28, -118.2, -119.03, -118.56, -118.23, -117.9, -118.14, -118.02, -117.17, -122.29, -117.9, -117.04, -118.13, -118.35, -118.41, -121.9, -121.99, -122.38, -122.06, -118.31, -122.24, -121.61, -117.89, -122.06, -122.23, -122.27, -118.45, -122.42, -119.28, -122.15, -121.83, -122.06, -117.99, -122.29, -122.56, -121.37, -122.31, -122.51, -118.16, -117.23, -117.91, -120.6, -116.91, -121.02, -118.36, -119.21, -116.75, -117.0, -122.26, -121.08, -119.7, -117.09, -118.37, -122.41, -118.99, -117.36, -121.84, -118.29, -117.81, -122.22, -118.19, -118.08, -124.15, -121.91, -118.15, -121.41, -119.72, -117.07, -118.31, -118.3, -121.39, -116.99, -118.14, -118.32, -118.29, -123.2, -120.56, -119.82, -117.23, -118.19, -118.43, -118.47, -118.48, -117.92, -121.94, -118.14, -121.29, -122.57, -121.86, -117.06, -122.29, -117.67, -118.23, -118.54, -122.47, -122.32, -118.31, -118.28, -122.42, -118.48, -118.39, -121.86, -122.29, -118.85, -122.27, -117.35, -121.86, -118.6, -121.42, -121.07, -119.62, -118.54, -118.02, -121.95, -117.1, -122.28, -122.77, -120.27, -119.82, -118.39, -120.42, -119.17, -122.22, -117.65, -117.58, -121.22, -118.27, -117.84, -121.94, -122.36, -122.01, -121.43, -121.4, -118.4, -119.82, -118.4, -118.0, -119.72, -118.19, -118.13, -118.76, -121.8, -121.97, -117.65, -118.0, -117.92, -122.37, -114.59, -117.91, -122.44, -118.31, -117.67, -121.5, -118.1, -117.37, -122.04, -117.84, -118.13, -119.21, -118.45, -119.77, -121.88, -122.08, -121.92, -118.28, -114.56, -117.18, -118.19, -117.97, -121.75, -118.36, -121.52, -120.69, -119.78, -120.84, -122.43, -121.81, -116.98, -117.98, -117.04, -118.42, -117.88, -118.29, -118.29, -116.91, -117.3, -118.08, -122.27, -119.31, -121.77, -119.05, -118.36, -118.97, -122.31, -121.78, -118.96, -117.24, -121.62, -119.76, -117.64, -122.59, -117.0, -121.89, -119.74, -121.21, -120.66, -118.0, -120.04, -121.89, -120.51, -121.65, -116.94, -118.08, -118.82, -118.17, -118.36, -124.18, -122.42, -122.09, -118.31, -121.49, -118.18, -117.87, -120.94, -119.29, -121.46, -122.23, -118.43, -118.15, -118.31, -118.27, -119.15, -121.32, -118.26, -119.61, -122.01, -118.22, -122.11, -122.63, -121.38, -122.1, -117.63, -119.79, -118.14, -117.17, -118.04, -118.46, -117.79, -118.52, -118.11, -121.9, -118.08, -122.18, -118.2, -118.97, -122.49, -120.48, -121.32, -118.15, -121.47, -122.41, -122.86, -118.09, -116.88, -117.83, -120.99, -121.34, -118.73, -122.0, -119.01, -122.29, -117.97, -121.5, -118.0, -118.5, -122.04, -122.39, -118.37, -122.62, -118.19, -119.06, -118.37, -118.61, -121.31, -118.37, -117.92, -119.04, -118.08, -121.66, -119.96, -122.43, -117.17, -120.09, -118.17, -117.05, -121.21, -122.59, -122.15, -117.1, -117.94, -118.16, -122.22, -117.9, -121.99, -118.28, -121.36, -121.53, -121.4, -118.43, -120.44, -122.04, -118.25, -122.08, -118.31, -118.06, -118.14, -118.09, -121.27, -119.34, -118.19, -122.35, -117.16, -117.09, -118.22, -118.44, -116.95, -121.62, -120.4, -118.3, -121.3, -121.23, -122.28, -119.01, -116.15, -117.1, -121.47, -118.26, -118.27, -119.6, -117.91, -121.49, -124.09, -120.42, -121.95, -118.28, -119.22, -117.57, -121.34, -117.66, -122.22, -119.27, -121.44, -122.25, -122.1, -122.14, -122.13, -122.0, -118.1, -122.42, -118.3, -118.73, -118.36, -117.76, -118.09, -122.07, -120.35, -122.34, -118.18, -118.16, -115.48, -122.03, -120.46, -121.93, -121.91, -121.86, -118.49, -117.29, -121.21, -121.93, -121.39, -122.33, -122.81, -122.05, -122.42, -117.91, -122.24, -118.2, -122.38, -117.39, -118.3, -118.42, -117.58, -118.72, -122.57, -120.09, -121.65, -117.06, -117.87, -122.45, -118.09, -118.05, -118.3, -117.77, -116.89, -117.64, -117.38, -117.87, -121.44, -118.92, -117.18, -118.14, -121.92, -122.19, -118.35, -118.03, -119.03, -118.52, -118.15, -121.89, -117.53, -121.25, -122.26, -122.42, -118.15, -118.25, -121.8, -121.87, -118.25, -117.74, -122.87, -120.98, -118.18, -122.47, -117.09, -117.99, -117.76, -122.3, -118.3, -118.14, -122.31, -117.1, -122.46, -119.46, -118.3, -118.28, -118.4, -117.72, -118.91, -121.38, -122.13, -117.98, -120.44, -121.46, -120.4, -117.0, -118.22, -118.29, -118.52, -119.81, -118.2, -117.85, -118.0, -117.6, -117.12, -117.56, -117.25, -122.1, -118.37, -118.39, -122.23, -118.0, -117.14, -118.07, -122.2, -118.01, -118.12, -118.1, -118.29, -121.07, -120.98, -118.49, -117.34, -122.04, -122.07, -119.16, -118.18, -118.26, -117.07, -116.89, -117.16, -118.17, -118.18, -119.0, -121.91, -122.49, -122.49, -118.44, -121.04, -122.22, -118.15, -118.42, -122.26, -117.96, -118.25, -122.49, -118.54, -118.33, -117.93, -117.38, -117.79, -118.02, -120.44, -119.47, -122.21, -121.95, -118.66, -122.42, -117.06, -122.4, -118.23, -119.14, -118.29, -118.45, -118.01, -122.47, -118.29, -117.31, -120.21, -115.91, -117.16, -121.28, -122.04, -118.54, -117.05, -118.35, -117.98, -120.45, -118.24, -118.09, -118.38, -122.06, -118.17, -118.08, -118.41, -118.37, -116.93, -120.64, -118.06, -121.98, -120.89, -122.11, -118.32, -118.35, -118.22, -117.38, -120.23, -117.4, -117.26, -119.55, -121.03, -118.41, -122.69, -117.31, -121.96, -119.82, -122.17, -123.32, -119.02, -117.28, -119.89, -118.04, -120.45, -120.91, -117.82, -122.48, -122.36, -116.5, -118.01, -117.52, -118.39, -118.13, -115.93, -119.21, -122.31, -117.3, -119.02, -120.27, -117.89, -121.55, -121.98, -122.89, -118.36, -117.8, -118.31, -119.66, -121.89, -121.43, -118.31, -118.36, -118.35, -117.87, -121.77, -118.32, -119.58, -117.43, -117.07, -120.18, -119.7, -120.85, -117.94, -121.89, -122.08, -117.69, -116.37, -122.42, -119.6, -118.92, -117.91, -118.31, -118.22, -115.38, -117.06, -116.75, -117.23, -122.27, -118.36, -118.43, -117.28, -118.12, -118.01, -118.83, -115.51, -118.02, -122.3, -119.83, -120.66, -117.17, -122.07, -122.29, -119.58, -121.59, -120.14, -122.49, -121.85, -117.59, -122.49, -117.13, -121.74, -119.11, -118.42, -121.41, -122.31, -122.28, -118.46, -122.24, -118.37, -122.03, -121.31, -118.38, -118.16, -121.38, -121.38, -118.32, -118.27, -121.76, -117.37, -118.38, -122.38, -121.92, -117.86, -120.75, -118.64, -120.62, -121.46, -118.07, -122.25, -120.66, -118.26, -120.45, -118.39, -122.17, -121.2, -118.45, -118.47, -118.94, -118.15, -121.82, -123.21, -121.96, -124.17, -118.44, -118.3, -118.18, -121.31, -118.12, -122.28, -117.25, -122.06, -122.23, -118.21, -118.41, -122.07, -119.19, -121.92, -117.72, -118.48, -118.0, -122.06, -118.13, -117.24, -116.72, -120.44, -117.76, -118.25, -117.84, -117.01, -122.82, -117.22, -117.8, -117.35, -118.36, -118.97, -120.08, -121.93, -118.3, -121.62, -121.12, -116.26, -122.25, -122.01, -118.11, -118.29, -119.02, -122.13, -117.4, -122.33, -117.01, -121.2, -122.14, -122.15, -117.91, -118.05, -122.08, -121.06, -117.87, -118.4, -122.03, -117.85, -117.14, -121.38, -119.25, -121.51, -117.15, -121.41, -117.17, -117.37, -117.19, -122.5, -121.35, -120.84, -117.59, -122.5, -118.33, -121.59, -118.01, -122.52, -118.34, -121.99, -122.47, -118.31, -122.23, -119.78, -121.83, -122.0, -118.14, -117.97, -122.16, -122.45, -117.79, -118.21, -118.53, -117.26, -121.87, -120.46, -118.43, -118.35, -122.47, -117.62, -118.19, -117.91, -118.17, -122.07, -122.71, -118.2, -118.31, -118.32, -118.17, -117.88, -115.52, -115.39, -122.48, -120.63, -118.23, -117.36, -117.97, -121.97, -121.29, -118.37, -118.43, -118.35, -118.34, -121.46, -120.72, -117.53, -122.17, -121.87, -120.06, -120.51, -119.03, -117.19, -118.21, -121.4, -122.32, -118.62, -117.83, -122.26, -122.32, -121.38, -119.79, -114.57, -122.29, -121.3, -118.31, -118.22, -118.04, -117.36, -117.24, -117.76, -117.87, -118.39, -119.02, -119.86, -117.14, -118.09, -117.13, -117.69, -117.99, -117.73, -117.88, -118.11, -121.28, -118.15, -119.81, -117.95, -122.18, -118.06, -117.91, -122.23, -122.2, -122.29, -121.28, -124.15, -122.03, -118.43, -118.07, -123.02, -118.2, -117.11, -121.82, -121.74, -118.47, -121.4, -121.5, -121.93, -121.31, -121.93, -118.75, -117.05, -122.33, -119.69, -122.17, -117.14, -118.28, -122.13, -118.18, -118.45, -118.83, -118.29, -117.88, -122.08, -121.04, -118.38, -118.27, -121.82, -118.0, -117.98, -117.08, -122.7, -118.29, -118.14, -117.9, -122.03, -122.45, -122.11, -118.16, -121.95, -118.05, -122.67, -116.87, -122.13, -118.44, -119.12, -117.62, -116.61, -120.95, -118.47, -117.58, -118.5, -117.25, -121.7, -118.32, -121.38, -118.4, -117.66, -118.28, -117.45, -123.34, -121.23, -123.79, -119.55, -118.37, -117.66, -118.24, -121.37, -119.74, -122.53, -121.33, -117.92, -122.09, -121.39, -118.4, -114.58, -117.76, -118.34, -118.1, -119.84, -121.23, -117.23, -119.19, -118.41, -118.26, -117.95, -121.81, -117.51, -118.36, -123.82, -117.1, -124.08, -117.77, -118.19, -117.88, -120.6, -119.82, -118.23, -118.4, -120.28, -121.82, -118.17, -118.36, -117.17, -117.18, -118.44, -122.08, -119.43, -117.78, -118.31, -120.32, -118.08, -118.35, -117.98, -117.92, -121.66, -118.48, -121.94, -120.38, -122.47, -119.82, -122.26, -118.2, -121.47, -119.06, -122.11, -117.95, -117.91, -118.02, -121.82, -117.67, -124.16, -121.33, -119.74, -122.06, -119.72, -118.96, -118.15, -122.73, -121.98, -122.28, -118.15, -121.33, -117.0, -117.85, -121.79, -122.14, -118.23, -119.72, -121.95, -121.89, -117.94, -118.23, -121.41, -121.91, -117.93, -121.33, -118.24, -117.14, -121.82, -118.34, -122.02, -117.04, -118.38, -118.35, -119.82, -117.78, -121.98, -117.73, -122.28, -121.5, -121.97, -122.28, -117.02, -120.65, -118.35, -118.09, -116.5, -117.04, -117.2, -117.96, -117.86, -121.35, -117.13, -122.28, -122.7, -117.79, -120.46, -121.84, -121.18, -118.24, -117.93, -121.97, -119.45, -117.32, -120.69, -118.14, -117.12, -117.44, -121.44, -118.32, -118.03, -118.47, -121.85, -119.65, -118.28, -121.22, -118.12, -122.07, -118.47, -121.87, -120.74, -121.13, -119.9, -118.02, -121.43, -122.13, -121.32, -114.94, -122.22, -122.47, -121.13, -122.47, -118.39, -119.75, -121.3, -121.92, -121.92, -117.86, -118.63, -122.45, -118.19, -122.27, -121.2, -117.19, -118.37, -117.08, -114.31, -118.32, -119.18, -116.29, -120.69, -118.3, -116.95, -118.3, -121.64, -118.02, -118.15, -117.09, -118.19, -117.58, -121.46, -117.23, -122.5, -117.15, -117.23, -121.24, -118.36, -118.37, -120.14, -123.22, -118.07, -121.32, -118.22, -118.04, -118.05, -122.46, -117.33, -122.48, -122.38, -118.15, -121.42, -121.3, -117.88, -122.43, -122.15, -122.26, -118.37, -118.37, -122.14, -118.27, -118.4, -117.27, -122.66, -118.34, -118.01, -117.14, -122.49, -118.18, -122.24, -118.17, -118.2, -122.29, -122.05, -122.06, -118.48, -123.83, -117.13, -122.48, -121.6, -122.75, -117.95, -117.11, -118.18, -121.49, -122.44, -120.45, -118.6, -118.3, -122.12, -121.24, -118.05, -122.47, -121.76, -116.96, -117.05, -122.26, -122.33, -122.49, -122.19, -122.23, -118.29, -118.05, -119.84, -118.06, -121.34, -117.29, -118.12, -118.84, -122.58, -118.3, -122.5, -120.07, -118.07, -122.04, -120.45, -122.43, -122.47, -119.63, -122.4, -121.96, -118.28, -121.51, -115.73, -119.08, -122.34, -121.21, -121.93, -118.58, -119.93, -119.98, -118.36, -118.99, -117.79, -117.27, -118.31, -117.91, -122.07, -118.28, -118.24, -122.03, -119.48, -117.87, -121.87, -122.42, -122.29, -118.48, -122.6, -122.09, -118.31, -121.36, -118.24, -117.11, -122.43, -121.7, -122.45, -118.31, -117.05, -117.83, -124.09, -122.27, -123.22, -118.27, -121.96, -121.86, -117.74, -120.59, -117.97, -118.12, -121.85, -120.43, -122.21, -117.96, -121.98, -117.88, -121.84, -120.99, -122.27, -117.98, -118.32, -122.44, -121.84, -117.66, -119.19, -118.1, -122.02, -118.29, -121.29, -118.5, -118.36, -122.49, -117.88, -117.84, -118.41, -121.82, -117.31, -118.35, -118.02, -116.88, -118.23, -121.99, -117.79, -122.27, -118.27, -118.1, -121.43, -120.37, -117.9, -120.66, -117.93, -119.31, -118.15, -122.28, -122.17, -118.13, -120.0, -117.28, -117.01, -118.27, -119.67, -118.14, -121.36, -119.3, -119.7, -118.62, -118.31, -122.41, -119.74, -116.46, -119.68, -119.54, -117.77, -118.29, -122.09, -121.47, -121.9, -118.2, -118.2, -120.66, -121.84, -117.94, -117.92, -121.94, -117.91, -121.28, -118.31, -117.49, -118.49, -119.28, -118.35, -118.38, -123.28, -122.21, -118.24, -117.99, -118.24, -118.15, -118.56, -118.09, -117.89, -120.18, -121.34, -118.12, -117.94, -118.35, -118.27, -120.97, -117.91, -122.44, -122.23, -117.92, -122.25, -121.0, -118.29, -122.92, -121.99, -119.27, -117.33, -118.44, -117.61, -120.1, -118.61, -117.98, -121.93, -122.26, -122.49, -121.3, -119.33, -118.34, -118.03, -122.09, -117.76, -122.04, -119.67, -118.38, -118.01, -121.65, -117.28, -118.39, -118.21, -121.76, -118.4, -121.92, -118.14, -117.66, -117.67, -118.06, -118.07, -117.76, -122.17, -122.28, -117.36, -117.11, -121.79, -117.07, -121.89, -118.19, -118.05, -120.94, -121.86, -121.35, -124.1, -118.12, -117.97, -118.12, -121.76, -121.49, -119.68, -118.05, -117.16, -118.43, -122.06, -119.55, -118.16, -120.98, -121.11, -121.84, -121.84, -117.07, -122.35, -117.85, -117.24, -118.3, -117.07, -119.2, -117.95, -116.95, -115.49, -122.02, -117.76, -118.39, -122.44, -120.2, -119.74, -117.08, -119.73, -118.14, -121.88, -118.58, -118.45, -117.21, -117.87, -117.16, -121.9, -118.06, -119.6, -117.9, -122.41, -122.47, -121.05, -117.83, -117.07, -117.18, -118.13, -118.27, -122.09, -117.08, -122.46, -117.81, -118.13, -121.4, -118.22, -122.49, -122.29, -118.28, -117.98, -118.14, -117.1, -121.95, -121.97, -118.13, -118.08, -117.67, -117.95, -118.35, -117.08, -121.42, -122.28, -122.41, -122.73, -121.65, -121.94, -117.72, -119.23, -121.3, -118.04, -117.73, -119.54, -117.21, -116.9, -117.12, -118.63, -120.45, -120.67, -121.89, -118.58, -117.99, -120.96, -119.59, -122.3, -118.35, -117.68, -118.3, -117.94, -120.8, -121.55, -118.09, -118.32, -118.28, -118.46, -118.23, -117.21, -118.08, -122.04, -118.21, -118.04, -122.22, -117.68, -118.08, -117.47, -121.77, -122.34, -118.29, -121.92, -116.79, -119.63, -118.3, -120.98, -117.94, -117.29, -120.84, -118.2, -116.31, -119.34, -121.43, -122.72, -117.24, -118.21, -121.88, -121.8, -118.16, -122.53, -120.23, -117.28, -117.93, -117.85, -117.3, -117.61, -121.76, -117.92, -117.06, -122.43, -119.71, -119.41, -118.0, -121.25, -121.98, -117.87, -118.21, -121.33, -121.75, -120.76, -118.07, -121.38, -117.95, -122.25, -120.54, -118.26, -121.31, -121.97, -117.25, -123.91, -117.96, -118.03, -121.94, -118.41, -121.76, -119.0, -121.89, -119.02, -120.56, -117.11, -118.22, -118.19, -122.13, -118.32, -117.83, -120.18, -118.14, -119.45, -120.92, -122.25, -118.1, -118.41, -120.02, -117.87, -117.69, -122.1, -121.27, -117.94, -117.31, -122.25, -118.42, -116.97, -118.11, -117.88, -116.4, -117.97, -122.41, -118.02, -117.1, -121.96, -118.24, -121.28, -119.85, -122.14, -119.84, -121.18, -118.33, -118.18, -121.47, -118.2, -117.02, -117.34, -117.75, -122.07, -121.24, -117.2, -118.11, -118.39, -117.19, -119.08, -118.04, -120.73, -117.91, -123.22, -118.75, -118.17, -120.17, -118.97, -117.68, -122.17, -124.17, -119.72, -118.99, -117.8, -118.32, -118.19, -117.93, -118.0, -122.49, -122.44, -121.29, -118.48, -122.19, -117.33, -117.23, -121.92, -121.79, -121.45, -118.2, -121.83, -118.38, -122.09, -122.49, -118.34, -118.12, -118.44, -117.96, -121.89, -119.05, -118.19, -118.16, -117.91, -121.24, -124.17, -118.97, -121.96, -118.4, -122.21, -122.2, -121.69, -122.12, -120.97, -122.15, -122.32, -122.22, -118.11, -122.45, -122.87, -121.37, -122.04, -118.16, -117.07, -117.85, -122.3, -121.79, -117.16, -122.25, -123.2, -119.98, -122.54, -118.31, -118.01, -121.78, -122.44, -122.32, -119.72, -121.93, -119.53, -121.89, -122.03, -119.69, -122.0, -118.3, -122.01, -117.86, -117.2, -122.58, -117.08, -122.02, -118.16, -119.04, -122.4, -121.34, -118.52, -122.13, -120.19, -122.07, -117.3, -122.31, -118.87, -122.47, -121.9, -117.14, -118.38, -117.85, -118.49, -118.08, -117.7, -117.22, -122.22, -117.31, -118.58, -118.45, -122.14, -118.29, -119.78, -117.2, -118.39, -122.43, -119.08, -118.21, -121.3, -121.35, -117.89, -122.23, -117.88, -121.99, -117.51, -122.13, -118.37, -118.15, -118.24, -121.87, -117.02, -120.45, -118.33, -121.84, -122.69, -124.18, -118.26, -122.04, -121.8, -118.38, -118.3, -116.55, -122.49, -118.26, -117.16, -119.82, -122.09, -118.1, -117.1, -119.76, -121.29, -121.73, -118.33, -122.2, -118.14, -117.18, -117.73, -118.12, -122.29, -119.05, -122.02, -120.4, -118.22, -122.09, -122.16, -117.2, -119.31, -118.14, -121.78, -122.11, -122.04, -118.07, -121.18, -121.36, -122.08, -121.24, -122.07, -122.25, -118.21, -117.2, -117.35, -117.9, -118.09, -116.89, -122.42, -119.73, -118.73, -117.93, -118.23, -122.16, -120.99, -122.04, -122.95, -118.24, -118.74, -120.25, -118.17, -117.97, -119.83, -122.27, -121.21, -117.67, -119.04, -122.11, -121.77, -118.28, -122.64, -119.95, -117.89, -117.91, -118.04, -117.32, -118.39, -117.26, -117.88, -117.89, -122.15, -118.14, -117.55, -117.71, -119.65, -122.09, -118.45, -122.18, -117.0, -115.84, -122.62, -119.82, -122.0, -119.32, -120.02, -121.91, -121.84, -119.79, -117.3, -117.71, -122.4, -119.33, -119.09, -118.54, -118.48, -117.43, -118.09, -121.52, -119.8, -118.32, -118.62, -118.5, -118.43, -118.28, -118.23, -122.0, -117.29, -118.18, -120.48, -121.23, -117.21, -118.29, -122.03, -118.37, -117.03, -118.2, -121.83, -116.51, -117.88, -122.71, -122.21, -117.05, -118.15, -121.77, -117.71, -122.47, -118.02, -118.11, -121.83, -121.01, -122.04, -118.16, -121.88, -120.04, -122.38, -118.15, -118.08, -123.22, -121.27, -118.39, -118.26, -122.3, -119.82, -122.36, -118.26, -118.11, -121.88, -118.2, -121.3, -122.68, -117.8, -118.7, -121.9, -118.27, -120.85, -117.79, -119.77, -117.93, -120.25, -117.06, -121.46, -121.47, -122.02, -118.15, -117.75, -118.16, -118.14, -118.37, -117.78, -124.18, -119.72, -118.3, -118.05, -123.92, -122.34, -119.74, -118.24, -121.93, -118.11, -118.26, -117.95, -119.3, -117.15, -121.94, -122.12, -122.63, -118.99, -117.7, -118.21, -115.57, -119.32, -119.78, -119.29, -119.72, -117.38, -122.25, -117.82, -117.93, -118.01, -117.58, -121.38, -122.64, -122.02, -118.02, -120.38, -118.26, -121.4, -118.24, -122.5, -121.89, -117.9, -117.04, -116.31, -122.18, -119.06, -118.39, -118.86, -123.81, -117.9, -122.27, -121.99, -117.8, -121.33, -122.17, -121.48, -121.49, -121.96, -123.22, -122.05, -117.96, -122.44, -118.18, -122.23, -118.09, -120.44, -117.42, -121.86, -117.18, -119.85, -121.89, -118.03, -119.62, -122.53, -120.68, -118.45, -117.69, -119.44, -121.52, -122.04, -121.95, -122.1, -119.75, -121.89, -118.97, -120.67, -122.0, -117.17, -117.57, -118.06, -122.42, -121.91, -122.0, -120.46, -122.22, -121.92, -120.84, -118.23, -119.35, -118.46, -117.06, -121.64, -118.25, -119.68, -118.21, -118.4, -117.72, -117.18, -118.16, -117.17, -121.38, -118.18, -117.68, -118.12, -116.98, -117.25, -122.83, -116.95, -117.13, -118.3, -120.85, -121.36, -118.77, -121.97, -118.48, -119.92, -118.38, -118.46, -119.8, -118.03, -117.99, -117.23, -118.45, -122.18, -116.74, -118.23, -118.6, -118.43, -117.97, -122.06, -121.29, -118.46, -117.21, -121.49, -117.07, -119.03, -118.1, -122.21, -122.06, -122.33, -118.12, -117.24, -117.08, -122.09, -117.95, -122.19, -117.99, -124.05, -121.43, -118.22, -118.54, -117.96, -117.87, -122.49, -121.92, -120.85, -120.62, -118.14, -119.35, -122.01, -117.45, -118.46, -116.93, -122.06, -122.71, -117.89, -118.31, -121.29, -122.28, -118.25, -117.04, -118.45, -122.12, -118.29, -117.94, -118.44, -118.07, -118.43, -117.24, -122.68, -118.02, -118.96, -119.3, -122.22, -122.03, -120.49, -122.11, -122.31, -118.47, -117.95, -118.33, -120.46, -118.86, -118.0, -117.98, -122.64, -118.26, -118.37, -122.55, -117.78, -117.77, -122.41, -121.89, -120.89, -120.98, -118.32, -121.88, -118.28, -121.7, -117.9, -121.25, -122.24, -118.83, -117.84, -118.12, -120.47, -118.45, -122.25, -118.08, -119.17, -119.3, -117.18, -117.78, -124.14, -117.08, -121.85, -122.25, -121.82, -120.27, -118.27, -122.06, -118.12, -118.41, -121.16, -117.15, -119.56, -117.91, -120.18, -121.89, -117.09, -118.31, -117.94, -121.83, -119.08, -122.71, -117.87, -117.86, -117.66, -118.33, -118.33, -117.56, -122.25, -118.72, -118.35, -122.13, -116.45, -117.37, -122.23, -118.09, -118.28, -120.76, -118.03, -118.38, -124.17, -118.18, -116.0, -121.37, -118.35, -121.37, -117.74, -118.26, -122.26, -116.93, -121.9, -118.33, -116.52, -117.04, -117.46, -117.19, -121.98, -118.35, -118.4, -118.19, -117.84, -117.89, -117.11, -117.62, -121.88, -117.63, -117.23, -122.29, -119.82, -118.37, -122.3, -122.11, -118.13, -118.15, -117.22, -118.46, -118.1, -122.54, -118.28, -118.29, -118.27, -118.11, -122.45, -118.31, -117.72, -118.08, -121.31, -118.3, -122.17, -122.31, -119.83, -122.01, -122.49, -118.29, -124.1, -118.2, -118.36, -118.41, -120.43, -122.33, -118.28, -121.97, -117.4, -119.0, -120.19, -122.85, -118.5, -117.04, -116.87, -117.31, -122.0, -121.53, -118.31, -118.7, -121.99, -121.94, -117.8, -118.53, -117.93, -118.21, -124.09, -120.45, -118.08, -121.31, -118.41, -121.31, -118.32, -117.18, -119.18, -121.63, -121.87, -118.37, -122.04, -122.01, -119.3, -117.19, -117.93, -121.29, -119.75, -119.25, -118.3, -121.46, -121.2, -122.24, -121.37, -121.9, -118.14, -119.92, -123.85, -122.2, -122.48, -122.0, -120.48, -118.3, -117.01, -121.12, -117.27, -121.57, -122.46, -118.09, -117.98, -122.0, -117.83, -118.38, -119.26, -118.44, -122.09, -117.98, -117.01, -119.56, -121.96, -121.26, -117.89, -117.95, -118.24, -117.98, -118.01, -118.47, -117.4, -122.05, -117.32, -117.7, -118.04, -117.33, -122.44, -122.09, -117.1, -117.88, -118.0, -121.86, -117.25, -118.4, -118.01, -121.43, -117.08, -121.54, -121.0, -122.66, -117.9, -117.31, -117.42, -119.27, -121.48, -118.19, -122.25, -122.03, -117.26, -122.27, -122.17, -121.42, -121.43, -121.91, -120.98, -118.36, -118.31, -119.94, -122.72, -119.81, -122.26, -122.64, -121.54, -117.25, -117.89, -118.57, -120.86, -119.19, -118.53, -119.28, -118.26, -120.87, -118.31, -118.22, -122.3, -122.42, -122.1, -119.59, -117.02, -117.8, -118.16, -116.22, -117.97, -124.21, -118.15, -116.43, -122.3, -118.98, -119.02, -118.11, -122.62, -117.13, -118.26, -121.93, -122.59, -118.09, -117.02, -122.32, -117.91, -122.85, -121.43, -117.72, -121.5, -123.17, -118.94, -121.88, -120.35, -117.76, -117.08, -122.42, -122.36, -119.73, -118.19, -122.17, -122.48, -118.12, -122.26, -118.45, -120.62, -117.79, -118.35, -117.05, -117.7, -117.73, -117.9, -118.44, -120.99, -118.35, -116.42, -121.18, -118.04, -122.91, -122.41, -118.3, -120.85, -120.98, -118.31, -122.68, -116.97, -119.21, -122.4, -118.2, -121.48, -118.21, -119.71, -118.02, -118.33, -122.75, -122.29, -118.13, -119.23, -122.18, -118.31, -118.23, -115.53, -117.75, -118.04, -118.3, -122.29, -117.92, -117.46, -118.24, -121.83, -122.16, -118.25, -117.35, -118.52, -118.25, -119.78, -118.3, -122.55, -117.9, -122.45, -122.52, -122.54, -118.6, -122.71, -118.42, -121.94, -118.28, -121.77, -118.44, -120.9, -118.29, -118.47, -118.22, -117.3, -122.14, -121.98, -117.71, -118.33, -118.18, -118.06, -119.34, -117.37, -122.44, -118.11, -122.17, -117.19, -122.16, -122.41, -120.08, -122.45, -116.43, -119.31, -118.25, -118.34, -122.13, -117.25, -117.4, -122.44, -120.92, -118.11, -118.03, -123.21, -119.71, -121.7, -121.84, -116.96, -122.46, -118.38, -119.18, -121.03, -117.09, -122.42, -121.48, -120.48, -121.0, -117.12, -122.16, -117.92, -117.03, -119.0, -118.38, -117.75, -118.31, -121.57, -118.56, -117.73, -117.73, -122.72, -120.08, -121.47, -122.71, -121.63, -121.27, -120.61, -118.07, -117.19, -117.59, -118.16, -121.4, -118.12, -117.13, -117.24, -118.01, -122.45, -122.39, -120.35, -117.31, -121.16, -119.83, -121.77, -121.4, -121.28, -116.56, -118.6, -119.16, -118.36, -122.27, -118.4, -118.27, -119.65, -117.28, -122.41, -119.35, -120.45, -121.44, -118.0, -118.69, -120.61, -121.96, -122.05, -122.94, -118.41, -122.44, -117.28, -117.46, -119.55, -121.79, -119.63, -121.86, -118.04, -117.82, -119.2, -118.12, -117.72, -117.64, -117.77, -118.4, -119.78, -118.56, -117.86, -121.93, -118.13, -118.31, -121.44, -121.57, -119.08, -117.07, -119.36, -118.1, -118.66, -122.25, -121.98, -118.31, -122.25, -118.55, -123.8, -121.21, -118.07, -120.08, -122.07, -117.31, -122.24, -118.59, -120.68, -118.28, -122.04, -117.36, -118.28, -122.58, -122.03, -118.12, -116.42, -118.99, -118.2, -122.31, -118.17, -122.43, -117.37, -119.34, -118.16, -117.17, -118.1, -117.97, -118.04, -121.35, -117.32, -120.83, -117.14, -118.36, -117.19, -120.99, -120.93, -118.12, -115.52, -118.16, -122.04, -121.74, -122.61, -122.11, -117.0, -118.09, -122.05, -119.21, -122.67, -119.2, -118.37, -122.29, -122.66, -121.24, -119.02, -122.43, -117.09, -117.73, -118.11, -122.46, -122.46, -121.51, -117.96, -121.89, -120.44, -122.04, -117.22, -118.26, -118.18, -122.25, -118.85, -119.65, -121.82, -117.97, -118.31, -119.45, -118.74, -117.24, -122.32, -121.66, -122.17, -122.41, -120.38, -119.51, -122.97, -118.93, -120.69, -118.1, -118.4, -118.52, -121.63, -122.2, -118.41, -117.68, -118.46, -118.11, -116.53, -119.88, -121.46, -118.32, -122.27, -118.41, -119.64, -121.87, -118.27, -121.31, -121.26, -121.36, -118.04, -118.26, -120.87, -121.64, -117.87, -117.05, -118.1, -118.35, -119.81, -118.56, -117.89, -118.51, -118.29, -118.41, -118.0, -121.52, -119.69, -122.24, -118.47, -117.14, -117.89, -121.91, -122.02, -120.9, -118.37, -119.16, -122.26, -121.36, -121.88, -118.57, -118.49, -119.83, -118.34, -122.3, -121.71, -118.21, -116.97, -122.27, -121.63, -122.17, -121.27, -117.95, -118.21, -118.05, -117.34, -118.26, -122.19, -118.44, -119.71, -118.39, -117.66, -118.51, -121.83, -117.95, -121.27, -117.96, -117.01, -122.32, -119.83, -122.35, -116.0, -117.21, -121.67, -121.8, -118.38, -120.76, -117.9, -117.24, -117.81, -120.02, -122.41, -118.24, -118.42, -117.23, -118.19, -119.87, -122.46, -117.35, -117.68, -119.12, -118.31, -117.03, -117.08, -122.14, -116.54, -121.31, -121.68, -122.15, -118.12, -118.17, -117.39, -121.88, -118.31, -119.02, -122.4, -121.94, -123.37, -116.96, -119.06, -122.15, -121.62, -118.24, -118.01, -122.32, -118.99, -121.82, -122.22, -119.75, -121.94, -121.89, -122.04, -118.61, -117.92, -119.48, -115.57, -118.08, -123.22, -122.18, -117.18, -118.02, -117.75, -118.37, -118.19, -122.39, -120.39, -117.05, -121.81, -119.0, -117.76, -117.32, -117.28, -121.02, -117.86, -122.16, -117.98, -118.14, -122.07, -117.21, -117.18, -121.11, -117.12, -122.0, -121.82, -118.21, -121.95, -118.4, -121.45, -121.85, -119.74, -122.43, -118.98, -120.15, -122.46, -122.43, -115.53, -121.36, -121.33, -120.16, -119.77, -116.94, -118.95, -116.44, -120.2, -117.23, -118.99, -122.43, -118.37, -124.09, -117.68, -118.0, -118.07, -118.33, -118.99, -122.09, -122.21, -118.31, -118.01, -117.87, -120.83, -117.82, -117.04, -122.48, -122.09, -118.15, -118.38, -120.45, -121.36, -117.26, -121.42, -120.46, -122.16, -118.51, -116.99, -117.08, -121.88, -119.06, -117.87, -118.36, -118.3, -121.42, -117.31, -117.14, -121.34, -122.02, -120.55, -121.95, -118.38, -117.67, -117.32, -119.05, -122.42, -117.91, -117.81, -122.29, -120.57, -121.24, -117.9, -122.82, -122.17, -118.4, -118.45, -121.47, -122.57, -118.21, -118.08, -117.28, -122.34, -122.12, -121.48, -117.7, -118.1, -121.37, -118.25, -122.2, -119.06, -118.06, -121.28, -118.19, -122.26, -117.12, -122.22, -116.86, -117.48, -122.33, -117.53, -117.14, -118.3, -114.63, -119.55, -118.44, -116.86, -120.48, -118.03, -121.33, -117.91, -121.63, -118.04, -118.31, -118.25, -122.37, -122.35, -118.5, -121.76, -118.16, -120.89, -118.15, -118.88, -117.26, -119.32, -122.06, -120.65, -122.26, -117.72, -117.7, -122.03, -118.29, -118.19, -121.93, -117.87, -122.04, -115.57, -118.13, -121.45, -118.46, -122.19, -122.24, -118.27, -118.22, -122.11, -122.05, -116.37, -122.0, -119.85, -118.44, -117.95, -117.95, -121.97, -117.97, -121.63, -120.66, -118.33, -119.86, -122.46, -118.22, -118.5, -118.37, -122.44, -120.3, -121.81, -121.61, -122.41, -122.9, -118.26, -117.21, -121.84, -120.14, -121.29, -117.93, -117.11, -119.31, -117.76, -121.64, -118.12, -121.45, -118.22, -118.4, -117.83, -122.2, -121.24, -117.71, -117.91, -117.37, -118.21, -118.22, -119.63, -117.88, -117.26, -119.9, -116.84, -121.91, -117.91, -121.8, -120.01, -121.77, -121.99, -119.26, -121.99, -117.08, -121.22, -118.28, -118.05, -118.25, -118.26, -118.13, -122.54, -122.06, -120.99, -117.29, -117.12, -122.5, -122.29, -120.7, -117.64, -118.0, -118.33, -117.3, -117.06, -121.86, -118.22, -122.08, -117.92, -117.06, -122.23, -118.57, -117.96, -117.72, -118.46, -118.25, -118.22, -121.84, -121.09, -118.11, -116.94, -118.27, -117.18, -116.93, -122.41, -122.18, -122.25, -114.6, -122.47, -121.44, -117.24, -117.48, -118.35, -118.26, -121.5, -121.79, -121.47, -117.21, -118.75, -117.19, -121.92, -122.09, -120.95, -122.03, -119.03, -118.34, -116.98, -122.26, -121.39, -117.09, -118.34, -118.29, -117.68, -121.01, -121.31, -118.47, -115.56, -117.86, -117.64, -122.72, -118.42, -118.41, -117.11, -122.4, -118.53, -118.43, -118.43, -122.22, -121.47, -122.58, -117.96, -119.23, -118.43, -117.19, -117.81, -117.96, -117.95, -118.19, -118.37, -117.67, -117.97, -121.37, -118.14, -118.29, -121.58, -118.44, -117.22, -121.87, -117.06, -117.19, -122.34, -121.64, -118.01, -121.89, -122.24, -117.15, -122.35, -117.71, -121.32, -121.32, -122.31, -118.14, -121.58, -118.26, -122.29, -122.54, -121.99, -121.78, -122.36, -119.91, -118.12, -118.1, -118.1, -118.04, -118.29, -119.43, -121.87, -117.14, -122.2, -122.21, -119.01, -118.14, -121.27, -118.17, -118.26, -122.01, -118.12, -123.24, -118.25, -119.98, -121.73, -118.06, -118.24, -117.27, -117.35, -119.12, -121.34, -120.08, -120.48, -118.41, -122.26, -117.97, -119.64, -118.29, -118.24, -122.19, -121.32, -116.34, -122.33, -118.07, -122.03, -121.4, -122.56, -122.53, -122.27, -121.26, -122.39, -122.02, -118.29, -118.4, -117.42, -123.84, -122.08, -122.37, -118.15, -118.32, -118.3, -118.13, -117.93, -117.06, -117.24, -119.81, -117.89, -118.14, -119.91, -117.55, -122.23, -117.31, -118.33, -118.49, -122.44, -118.28, -120.98, -118.28, -122.4, -121.33, -118.73, -117.68, -118.39, -121.74, -118.24, -117.23, -122.87, -124.16, -121.29, -118.16, -120.5, -118.43, -122.31, -122.65, -117.84, -118.21, -120.45, -122.02, -118.32, -117.96, -122.88, -122.01, -122.13, -118.32, -118.43, -117.83, -117.24, -117.99, -118.52, -118.17, -119.17, -118.39, -122.17, -117.77, -117.2, -122.28, -117.98, -118.47, -121.82, -122.24, -115.57, -122.01, -118.19, -115.57, -119.81, -122.28, -121.36, -117.07, -117.99, -122.41, -118.37, -118.37, -117.06, -117.92, -124.21, -121.43, -121.33, -120.36, -118.11, -121.94, -119.29, -118.38, -117.12, -117.27, -121.92, -117.2, -121.98, -119.18, -117.83, -117.96, -122.03, -118.29, -117.69, -118.32, -117.29, -118.33, -122.48, -118.04, -118.83, -118.48, -122.2, -117.92, -118.13, -117.89, -117.93, -122.51, -122.39, -118.13, -118.48, -118.94, -122.41, -118.98, -117.11, -122.11, -117.93, -119.03, -122.1, -120.25, -123.72, -119.74, -117.95, -121.99, -117.38, -118.06, -118.36, -118.14, -122.08, -118.3, -116.99, -121.07, -118.27, -117.08, -117.81, -121.36, -122.5, -117.75, -120.41, -118.43, -118.28, -118.22, -122.11, -118.01, -117.73, -121.48, -121.9, -118.18, -118.43, -122.08, -117.96, -122.29, -117.93, -122.27, -118.19, -121.98, -121.7, -118.35, -118.42, -118.36, -118.33, -122.68, -122.24, -119.35, -118.17, -121.03, -118.13, -117.92, -122.23, -118.11, -118.2, -123.26, -122.47, -118.11, -117.19, -121.23, -118.45, -117.76, -117.96, -122.18, -118.45, -117.49, -117.29, -118.2, -121.62, -117.42, -121.87, -118.25, -122.1, -118.18, -120.79, -122.35, -118.43, -118.25, -122.39, -120.56, -119.85, -122.47, -121.48, -117.69, -118.13, -122.78, -119.86, -121.44, -121.39, -119.67, -118.35, -117.4, -121.67, -118.28, -117.26, -118.18, -118.53, -118.0, -121.83, -118.43, -118.07, -116.99, -117.63, -118.29, -120.5, -120.63, -122.31, -116.98, -118.26, -118.4, -116.61, -118.08, -117.29, -118.52, -122.3, -122.35, -121.96, -118.17, -118.18, -121.62, -122.28, -119.27, -121.77, -118.17, -117.24, -124.18, -114.68, -118.33, -118.34, -121.98, -121.65, -121.89, -121.63, -122.02, -119.19, -121.89, -121.34, -122.13, -119.7, -120.4, -122.04, -118.35, -121.64, -122.48, -117.96, -121.39, -118.49, -118.03, -118.14, -118.03, -121.27, -118.32, -117.08, -118.41, -118.34, -121.32, -117.41, -120.44, -122.44, -121.37, -124.16, -118.42, -121.27, -117.91, -122.45, -122.45, -117.28, -120.86, -117.24, -118.1, -115.56, -122.3, -121.07, -121.94, -121.38, -122.26, -118.47, -117.92, -118.32, -118.79, -117.05, -114.6, -120.47, -122.21, -117.88, -122.18, -117.82, -117.4, -122.12, -121.28, -119.61, -117.07, -119.65, -117.09, -117.96, -118.4, -123.03, -118.42, -122.55, -118.51, -117.99, -122.44, -122.32, -117.32, -122.53, -117.11, -118.45, -117.17, -122.27, -122.26, -119.16, -122.72, -122.04, -118.4, -117.94, -118.31, -117.38, -117.18, -118.41, -117.26, -118.08, -121.64, -122.44, -121.89, -119.34, -117.29, -117.66, -118.13, -122.27, -117.23, -122.26, -118.29, -116.17, -118.37, -121.84, -117.58, -121.9, -121.55, -118.24, -122.53, -117.09, -123.23, -121.63, -122.79, -121.97, -117.89, -118.13, -116.81, -121.97, -121.33, -118.14, -122.0, -117.91, -121.96, -122.03, -118.25, -117.97, -118.78, -117.94, -118.34, -118.38, -117.52, -118.46, -119.66, -121.31, -122.18, -122.19, -123.17, -118.09, -117.37, -117.05, -121.29, -119.78, -117.72, -118.41, -118.25, -119.34, -118.37, -122.36, -118.12, -117.97, -118.04, -118.18, -118.25, -118.37, -118.1, -117.14, -118.21, -124.15, -122.57, -121.91, -117.13, -118.57, -118.35, -119.94, -118.28, -121.94, -118.13, -119.82, -117.92, -118.37, -121.27, -117.38, -118.26, -118.0, -117.41, -118.35, -120.06, -117.82, -117.06, -119.02, -118.39, -122.06, -117.51, -118.18, -118.54, -122.22, -117.27, -121.83, -119.81, -121.57, -119.13, -116.75, -118.45, -122.43, -120.43, -118.32, -122.08, -118.28, -119.28, -118.29, -118.49, -117.9, -119.01, -119.21, -117.06, -121.05, -117.67, -121.95, -121.31, -119.23, -118.43, -118.15, -118.36, -118.15, -122.41, -117.13, -118.02, -118.34, -118.01, -119.33, -119.84, -116.95, -122.23, -118.44, -118.37, -116.99, -122.04, -118.28, -117.05, -122.44, -121.96, -118.46, -117.49, -122.73, -122.09, -117.98, -118.33, -120.02, -121.19, -122.4, -118.44, -122.64, -121.96, -118.27, -118.37, -118.12, -122.28, -118.19, -118.18, -118.38, -117.94, -119.28, -117.89, -118.1, -118.28, -123.2, -122.71, -118.2, -121.73, -118.26, -118.19, -118.58, -121.92, -119.19, -118.07, -120.66, -122.07, -122.53, -122.28, -118.08, -122.24, -118.3, -118.37, -118.37, -121.6, -118.24, -120.86, -118.13, -118.06, -117.19, -120.6, -117.9, -117.09, -124.16, -121.99, -117.46, -122.15, -122.18, -121.93, -118.06, -119.19, -120.6, -118.29, -120.86, -122.06, -120.8, -117.1, -119.07, -119.72, -118.1, -118.18, -122.19, -117.61, -118.12, -121.73, -121.96, -118.16, -119.71, -119.83, -117.78, -117.48, -118.98, -117.14, -117.99, -118.35, -117.7, -122.29, -117.68, -118.29, -120.85, -116.42, -118.53, -118.09, -118.51, -118.11, -122.13, -122.23, -117.83, -117.92, -118.47, -121.8, -118.19, -118.32, -117.59, -117.23, -117.22, -124.14, -119.02, -118.11, -118.46, -122.49, -117.82, -118.91, -118.48, -118.05, -118.24, -118.26, -117.11, -117.17, -122.08, -118.0, -122.23, -122.15, -117.88, -118.1, -122.41, -117.4, -118.51, -118.09, -122.2, -118.45, -118.58, -119.73, -118.0, -118.29, -117.77, -122.86, -122.3, -118.11, -118.16, -117.84, -122.49, -117.13, -118.85, -122.08, -117.34, -118.12, -122.1, -122.73, -116.95, -121.79, -119.8, -119.57, -117.38, -118.78, -122.39, -122.26, -122.15, -122.49, -122.14, -121.24, -117.08, -122.01, -121.97, -118.35, -118.37, -117.99, -122.32, -118.09, -117.25, -121.55, -120.67, -117.61, -117.7, -119.14, -117.07, -121.63, -121.95, -117.89, -118.18, -121.87, -118.32, -117.24, -122.62, -121.62, -121.18, -122.47, -122.01, -122.18, -117.54, -118.14, -117.27, -117.66, -121.89, -121.84, -120.47, -117.2, -118.36, -117.24, -121.02, -116.46, -117.94, -121.06, -118.43, -117.01, -122.14, -117.55, -120.87, -121.8, -122.76, -117.67, -118.4, -118.05, -117.86, -121.28, -120.08, -122.16, -117.06, -117.88, -121.83, -122.05, -117.69, -121.5, -119.03, -118.36, -119.83, -118.31, -118.68, -118.18, -117.91, -122.03, -115.62, -121.95, -118.1, -118.19, -118.85, -119.62, -122.41, -121.93, -122.48, -118.39, -118.86, -121.51, -120.42, -118.92, -122.31, -116.98, -118.29, -118.1, -117.92, -122.41, -122.03, -119.79, -121.89, -121.3, -122.26, -122.31, -118.06, -117.24, -122.77, -118.31, -118.4, -117.62, -121.59, -122.2, -121.99, -118.27, -122.27, -117.22, -118.06, -117.25, -122.06, -122.0, -117.68, -121.92, -120.15, -119.04, -116.92, -118.26, -116.86, -117.9, -121.8, -117.38, -119.78, -117.24, -118.25, -116.38, -119.89, -121.18, -116.99, -117.97, -121.22, -121.55, -117.08, -118.2, -118.27, -121.54, -117.8, -117.59, -121.79, -118.62, -121.29, -118.11, -121.18, -118.23, -118.12, -119.09, -118.27, -120.19, -118.31, -121.28, -121.37, -118.2, -122.03, -118.56, -120.95, -117.89, -118.24, -122.91, -121.06, -117.5, -117.78, -119.68, -121.28, -117.99, -118.19, -118.11, -117.08, -119.63, -119.2, -118.28, -117.82, -118.31, -122.7, -121.83, -117.08, -121.23, -121.44, -120.27, -117.61, -118.27, -117.22, -117.81, -120.45, -121.48, -117.17, -118.51, -118.33, -118.76, -118.49, -119.88, -118.36, -119.73, -117.16, -118.12, -122.23, -119.79, -118.28, -118.33, -117.25, -119.89, -118.19, -121.8, -118.28, -118.31, -122.22, -121.36, -123.1, -116.86, -117.78, -121.49, -122.29, -122.14, -116.48, -118.01, -116.76, -118.31, -122.14, -122.03, -121.23, -120.39, -122.57, -121.3, -118.17, -114.98, -120.1, -121.6, -120.65, -118.55, -119.74, -117.32, -122.26, -117.66, -118.02, -121.28, -117.83, -121.25, -121.22, -118.43, -122.25, -121.34, -117.23, -121.29, -122.2, -117.07, -122.49, -121.03, -117.94, -118.24, -121.83, -121.36, -121.91, -119.27, -118.2, -117.11, -116.87, -118.3, -118.44, -118.29, -116.58, -119.67, -121.86, -121.79, -122.08, -116.96, -122.74, -118.29, -121.96, -121.42, -118.3, -117.7, -118.22, -122.33, -118.18, -117.46, -120.12, -122.46, -122.1, -119.51, -121.75, -118.38, -118.28, -119.99, -117.29, -117.04, -118.43, -121.97, -118.32, -119.23, -121.67, -118.39, -117.82, -118.4, -117.1, -122.12, -119.75, -117.15, -118.05, -121.37, -122.49, -121.01, -118.17, -121.83, -121.29, -117.33, -118.26, -122.31, -122.07, -122.59, -118.0, -121.6, -117.7, -118.06, -118.22, -119.81, -123.11, -118.68, -123.15, -118.15, -118.7, -118.1, -118.35, -118.36, -121.45, -119.67, -122.52, -118.53, -118.16, -122.36, -117.11, -117.99, -121.27, -117.09, -118.02, -118.28, -119.68, -121.62, -121.41, -118.28, -117.38, -118.62, -118.13, -120.74, -122.13, -117.97, -118.23, -119.87, -122.08, -118.46, -121.34, -121.83, -122.16, -117.65, -118.22, -117.06, -122.51, -120.82, -117.87, -120.0, -121.47, -118.86, -118.24], \"xaxis\": \"x\", \"y\": [37.76, 36.8, 34.42, 37.79, 36.86, 35.6, 37.62, 33.72, 38.53, 37.53, 37.88, 38.0, 37.34, 37.62, 34.17, 34.2, 38.23, 37.44, 40.28, 33.97, 38.96, 33.77, 33.99, 34.04, 33.99, 40.58, 33.91, 33.82, 34.02, 38.02, 32.8, 33.8, 37.64, 37.8, 38.59, 39.14, 33.77, 37.77, 36.62, 39.08, 36.34, 34.0, 37.8, 34.22, 37.77, 33.91, 34.01, 34.52, 32.67, 33.68, 32.76, 37.66, 34.1, 34.27, 33.47, 38.93, 33.98, 37.8, 33.91, 40.2, 33.93, 33.85, 34.04, 33.8, 33.98, 37.34, 33.85, 32.76, 32.63, 37.97, 38.16, 38.29, 37.76, 34.19, 34.37, 36.33, 33.88, 38.51, 37.44, 33.91, 38.05, 34.07, 34.1, 32.72, 37.36, 33.85, 39.34, 32.96, 41.4, 37.78, 37.91, 38.74, 38.0, 37.92, 38.54, 33.51, 38.69, 34.16, 39.29, 34.17, 38.13, 39.08, 34.01, 32.79, 32.59, 37.54, 34.15, 34.02, 33.99, 33.77, 32.67, 36.73, 36.59, 36.62, 32.62, 32.95, 34.06, 38.35, 35.36, 33.93, 34.26, 36.48, 34.09, 33.95, 39.78, 38.11, 33.11, 37.69, 32.58, 35.68, 38.12, 37.56, 33.78, 37.37, 36.91, 37.79, 38.71, 33.93, 36.67, 39.73, 37.42, 33.76, 34.06, 34.1, 33.29, 38.67, 34.0, 38.21, 34.05, 34.02, 33.81, 37.3, 33.52, 34.07, 33.83, 34.08, 37.57, 37.33, 35.38, 34.05, 38.44, 38.0, 33.96, 34.13, 37.59, 33.87, 34.05, 37.99, 37.74, 34.06, 34.26, 38.61, 38.58, 39.13, 34.02, 37.42, 34.02, 39.75, 32.81, 35.37, 37.77, 33.6, 36.8, 38.56, 38.54, 34.06, 32.95, 38.16, 40.57, 37.62, 34.27, 38.76, 33.46, 34.02, 38.71, 38.47, 33.2, 38.24, 33.81, 33.97, 37.95, 32.92, 34.09, 34.13, 36.76, 34.87, 33.88, 39.19, 37.59, 37.79, 32.75, 34.07, 32.97, 33.71, 37.31, 34.14, 34.23, 32.76, 33.93, 37.98, 33.92, 32.71, 36.72, 34.06, 33.78, 38.68, 37.72, 33.65, 38.67, 37.61, 34.04, 36.98, 37.66, 33.78, 33.66, 37.19, 33.92, 32.79, 34.04, 35.27, 34.16, 34.19, 37.76, 34.01, 37.36, 34.19, 37.84, 34.19, 34.24, 33.84, 37.67, 33.87, 38.48, 34.21, 33.84, 37.6, 33.28, 36.63, 33.99, 37.62, 37.28, 35.48, 33.88, 37.34, 37.42, 33.98, 38.21, 38.02, 34.1, 33.65, 38.56, 38.33, 36.93, 34.01, 34.53, 37.78, 34.11, 37.94, 34.04, 34.28, 37.9, 37.67, 40.17, 34.04, 38.98, 35.38, 34.03, 35.34, 37.97, 37.77, 34.34, 36.96, 33.92, 38.93, 33.7, 33.82, 38.25, 34.22, 36.75, 33.87, 39.09, 37.38, 33.78, 34.01, 33.84, 34.21, 32.92, 37.22, 33.5, 32.76, 37.32, 37.27, 33.64, 37.3, 33.82, 33.67, 37.65, 34.12, 34.2, 35.1, 37.79, 32.68, 34.28, 32.72, 38.69, 38.28, 32.69, 33.19, 33.75, 35.35, 37.95, 34.14, 37.27, 36.99, 37.96, 34.07, 34.25, 33.97, 38.04, 38.81, 36.79, 38.67, 37.66, 32.97, 34.05, 37.69, 35.73, 33.87, 34.69, 37.23, 33.17, 33.97, 34.21, 34.19, 39.16, 38.32, 34.01, 38.64, 32.81, 39.83, 33.68, 32.71, 34.14, 33.9, 32.75, 33.88, 37.9, 34.02, 37.07, 34.09, 37.51, 34.09, 34.89, 37.48, 34.32, 32.74, 36.73, 34.24, 37.23, 37.76, 33.03, 33.79, 33.92, 33.38, 35.34, 33.93, 40.25, 36.32, 38.53, 38.13, 34.08, 37.73, 33.72, 32.71, 37.5, 37.7, 33.96, 37.4, 34.14, 37.84, 37.5, 32.93, 38.37, 33.95, 34.42, 38.64, 34.17, 33.87, 37.36, 34.24, 37.48, 33.67, 33.97, 33.9, 37.93, 33.85, 36.62, 37.34, 34.2, 34.13, 38.1, 33.92, 32.79, 34.16, 38.01, 34.02, 37.78, 38.63, 33.76, 34.19, 38.6, 38.56, 36.73, 33.91, 34.07, 32.79, 32.72, 37.36, 34.42, 33.88, 33.85, 38.27, 38.64, 34.26, 36.32, 38.41, 34.15, 35.26, 37.31, 37.66, 37.41, 32.83, 34.65, 40.32, 34.42, 37.67, 37.9, 37.59, 34.11, 38.66, 38.03, 33.77, 34.05, 32.78, 37.79, 37.34, 37.88, 37.76, 32.71, 37.8, 34.06, 34.7, 35.38, 34.71, 37.76, 34.05, 33.08, 34.12, 37.35, 34.13, 37.59, 39.63, 38.0, 34.07, 33.99, 34.07, 34.38, 34.96, 34.04, 38.31, 37.61, 37.31, 34.0, 37.77, 37.25, 33.75, 39.22, 33.83, 37.34, 38.03, 37.31, 32.86, 37.97, 34.15, 33.41, 33.82, 33.8, 37.95, 39.13, 37.78, 37.45, 36.21, 33.71, 34.23, 33.64, 37.79, 34.16, 37.86, 36.21, 34.44, 37.81, 37.27, 32.75, 37.52, 33.04, 39.24, 33.96, 33.84, 34.1, 34.05, 37.7, 33.9, 39.14, 37.13, 34.1, 38.0, 32.72, 37.76, 40.78, 32.8, 33.86, 34.13, 32.72, 37.75, 32.6, 36.35, 34.32, 36.75, 38.0, 34.13, 37.26, 36.72, 33.8, 33.98, 37.72, 37.38, 33.89, 33.97, 37.6, 40.41, 38.36, 34.1, 38.67, 38.91, 37.78, 34.38, 34.22, 34.18, 36.59, 37.61, 38.6, 37.41, 39.53, 34.2, 37.24, 39.45, 36.31, 34.42, 32.96, 34.04, 32.75, 34.1, 38.68, 39.05, 34.06, 33.78, 33.71, 38.48, 33.74, 32.81, 33.82, 34.01, 37.23, 38.26, 33.93, 34.11, 34.22, 34.0, 37.72, 33.68, 35.31, 37.2, 33.65, 34.12, 32.82, 34.01, 34.18, 33.61, 36.72, 34.19, 34.22, 34.14, 41.46, 36.76, 34.0, 37.56, 33.92, 37.55, 34.05, 34.08, 36.73, 34.15, 34.21, 34.06, 38.41, 37.27, 37.36, 33.12, 34.01, 38.7, 34.48, 34.01, 32.6, 38.67, 37.67, 34.1, 34.03, 34.05, 37.95, 35.72, 33.77, 34.17, 34.08, 37.38, 34.08, 37.78, 32.75, 37.57, 37.75, 34.17, 34.28, 40.47, 33.99, 37.68, 34.27, 34.03, 37.79, 34.12, 32.61, 39.73, 36.68, 36.31, 34.07, 37.1, 34.25, 33.86, 34.16, 33.48, 37.32, 36.29, 36.33, 34.26, 41.66, 37.41, 37.53, 37.78, 33.82, 37.05, 33.02, 34.29, 34.19, 32.63, 33.78, 37.72, 37.84, 37.69, 34.08, 33.82, 33.92, 37.72, 38.69, 33.87, 36.3, 36.19, 32.83, 34.23, 38.01, 37.4, 33.89, 34.59, 34.03, 34.05, 34.21, 32.8, 37.96, 34.49, 34.04, 33.1, 33.94, 34.44, 34.16, 37.96, 39.9, 36.75, 36.97, 34.09, 33.51, 38.46, 34.43, 37.89, 38.57, 34.11, 37.32, 36.81, 33.08, 38.53, 37.76, 40.78, 34.18, 34.12, 36.77, 36.98, 33.46, 34.01, 39.88, 34.06, 37.74, 37.4, 33.53, 36.34, 36.83, 32.75, 39.13, 37.25, 37.77, 37.68, 37.8, 34.08, 34.11, 37.31, 34.02, 33.96, 33.62, 38.7, 33.78, 37.77, 34.07, 38.15, 34.23, 33.61, 38.7, 37.7, 38.36, 33.91, 34.02, 33.9, 37.47, 37.54, 33.99, 33.92, 35.11, 34.21, 39.13, 37.99, 37.79, 37.37, 33.12, 37.92, 33.8, 37.51, 34.08, 36.48, 32.86, 36.61, 34.1, 34.14, 36.97, 37.79, 33.2, 33.83, 37.34, 37.42, 38.3, 36.06, 34.27, 37.91, 34.14, 33.74, 34.52, 36.34, 33.86, 32.73, 34.04, 37.39, 33.53, 32.58, 36.74, 33.9, 33.96, 34.41, 33.04, 37.7, 33.78, 34.98, 33.94, 34.09, 38.89, 37.55, 39.18, 38.22, 34.05, 33.68, 37.96, 34.08, 33.6, 35.76, 37.72, 40.51, 38.52, 34.11, 35.35, 33.04, 39.17, 33.94, 34.26, 37.9, 38.0, 33.78, 37.78, 34.28, 34.13, 33.88, 39.12, 37.78, 36.99, 34.05, 37.74, 34.29, 33.98, 34.08, 34.16, 37.78, 34.07, 38.68, 32.77, 32.75, 33.87, 37.81, 34.11, 33.9, 32.72, 37.96, 36.51, 37.8, 34.07, 33.84, 37.43, 34.07, 34.09, 37.81, 34.08, 33.76, 34.04, 34.14, 38.03, 37.89, 36.71, 34.08, 32.8, 35.26, 38.49, 39.76, 39.16, 34.08, 34.06, 32.7, 37.62, 33.83, 37.43, 33.94, 34.08, 40.89, 34.0, 33.77, 37.79, 36.33, 32.75, 37.26, 33.75, 37.87, 36.78, 34.14, 33.72, 32.76, 33.88, 33.75, 33.94, 33.93, 32.7, 34.0, 34.24, 32.74, 34.05, 33.87, 38.0, 39.46, 33.68, 37.36, 40.77, 34.16, 34.1, 38.69, 37.73, 33.98, 36.79, 37.26, 33.8, 34.08, 36.59, 34.1, 34.0, 37.79, 34.36, 37.35, 33.94, 34.27, 40.97, 34.27, 37.1, 38.73, 39.15, 38.0, 36.55, 37.41, 37.51, 36.8, 32.6, 34.04, 34.04, 34.17, 32.75, 34.18, 36.83, 38.14, 37.65, 33.91, 34.12, 32.73, 38.57, 33.87, 34.95, 33.79, 33.79, 35.63, 37.75, 34.12, 33.76, 34.22, 37.72, 38.02, 35.39, 34.16, 36.56, 34.67, 34.12, 38.26, 35.41, 34.06, 33.97, 40.63, 32.74, 40.39, 37.8, 33.17, 33.95, 37.39, 37.91, 38.0, 34.48, 34.3, 38.1, 38.3, 33.79, 37.6, 32.76, 36.35, 33.76, 33.93, 38.66, 33.94, 37.86, 39.71, 35.41, 33.75, 32.95, 37.75, 38.25, 32.67, 33.73, 32.79, 33.95, 33.63, 34.02, 32.82, 34.84, 32.81, 32.95, 33.76, 33.82, 32.73, 37.8, 33.91, 38.5, 33.97, 37.81, 38.57, 38.95, 33.6, 37.68, 33.32, 41.54, 34.43, 32.76, 33.74, 37.77, 34.21, 37.6, 33.82, 37.87, 37.77, 33.73, 37.4, 38.81, 37.27, 35.5, 37.28, 37.06, 38.13, 33.98, 32.75, 38.35, 38.51, 34.13, 33.74, 33.92, 33.89, 33.89, 37.44, 33.79, 33.79, 33.43, 34.45, 33.78, 37.09, 39.5, 38.96, 37.73, 37.41, 33.96, 32.82, 39.33, 34.1, 34.02, 33.2, 34.08, 38.24, 38.51, 37.76, 34.12, 33.79, 37.58, 37.79, 37.79, 35.99, 32.73, 34.13, 34.63, 37.32, 37.8, 37.8, 32.81, 37.65, 37.97, 38.7, 34.13, 33.89, 32.8, 37.34, 32.7, 33.43, 33.97, 32.79, 34.23, 33.93, 37.59, 39.17, 32.79, 37.56, 34.09, 33.72, 33.64, 33.95, 35.35, 37.12, 38.63, 39.28, 34.11, 33.95, 35.37, 37.8, 34.22, 37.91, 33.87, 36.98, 36.32, 33.94, 32.73, 34.01, 35.3, 37.36, 34.07, 33.8, 35.11, 34.01, 32.8, 34.74, 33.81, 33.99, 34.08, 34.08, 34.12, 34.12, 34.04, 34.43, 34.06, 34.1, 36.98, 34.09, 33.71, 38.56, 36.75, 33.82, 33.91, 38.43, 38.41, 32.64, 33.94, 38.28, 33.86, 33.9, 34.43, 34.18, 34.2, 36.85, 37.76, 37.57, 34.21, 34.08, 38.64, 35.39, 34.7, 32.76, 37.66, 38.69, 34.2, 34.17, 37.71, 34.14, 37.55, 34.14, 39.5, 36.31, 33.86, 33.77, 37.37, 37.77, 34.04, 34.17, 32.79, 34.08, 33.76, 33.82, 38.73, 33.73, 37.81, 38.46, 32.97, 33.67, 34.16, 34.68, 34.18, 39.31, 33.12, 37.67, 37.75, 34.13, 38.15, 34.11, 37.89, 34.12, 37.55, 34.05, 35.13, 37.97, 33.85, 32.78, 34.28, 37.8, 38.25, 37.67, 36.83, 37.4, 37.68, 38.84, 38.54, 33.93, 33.91, 37.78, 37.86, 35.65, 36.84, 38.59, 34.17, 37.29, 34.4, 37.62, 34.22, 34.27, 34.1, 33.79, 33.67, 33.87, 33.66, 33.98, 33.24, 38.84, 34.16, 37.51, 33.89, 34.26, 34.09, 37.76, 37.96, 32.84, 33.96, 37.77, 33.71, 32.59, 34.02, 33.96, 37.99, 37.85, 34.1, 37.31, 33.89, 33.93, 34.03, 39.67, 34.08, 39.77, 37.72, 33.93, 32.8, 35.32, 34.09, 37.45, 36.98, 38.55, 33.86, 37.77, 37.33, 34.16, 34.27, 37.14, 40.76, 33.49, 34.09, 33.81, 34.27, 33.88, 33.87, 37.51, 33.85, 37.63, 33.77, 32.76, 33.74, 35.65, 34.1, 34.0, 33.84, 33.9, 34.17, 34.1, 33.94, 33.97, 32.87, 34.1, 34.2, 33.99, 33.79, 33.65, 34.14, 37.76, 33.89, 34.63, 34.28, 36.13, 34.03, 38.53, 39.76, 32.72, 33.75, 37.86, 39.74, 36.77, 34.05, 37.84, 37.79, 33.75, 37.77, 36.79, 40.88, 36.78, 38.11, 32.77, 34.17, 33.77, 37.58, 32.7, 33.99, 37.53, 36.74, 33.89, 33.55, 33.97, 37.99, 37.65, 33.76, 34.18, 33.69, 32.77, 34.17, 34.51, 34.12, 32.84, 38.46, 37.32, 35.18, 37.28, 33.8, 38.33, 37.44, 37.07, 35.4, 39.88, 35.27, 34.01, 38.34, 33.66, 37.35, 37.88, 33.91, 39.02, 33.68, 37.91, 37.7, 34.2, 34.07, 34.25, 32.97, 33.94, 33.2, 32.75, 33.61, 37.57, 34.19, 37.31, 37.24, 37.54, 33.77, 32.87, 37.48, 35.44, 37.8, 33.83, 33.81, 37.99, 38.67, 32.58, 37.66, 39.91, 38.51, 34.04, 34.01, 33.12, 34.17, 36.75, 36.95, 37.96, 33.77, 33.9, 33.76, 32.92, 37.56, 36.29, 38.58, 34.1, 33.78, 39.42, 33.94, 35.39, 37.37, 32.77, 36.76, 37.75, 39.02, 33.9, 37.65, 36.68, 36.88, 33.87, 32.77, 34.13, 39.08, 38.66, 33.67, 36.02, 35.33, 37.5, 38.25, 41.92, 37.31, 34.42, 37.71, 38.68, 33.88, 39.18, 33.9, 34.01, 36.82, 33.92, 35.36, 33.98, 35.62, 35.73, 37.29, 39.2, 33.87, 34.01, 38.61, 33.82, 34.13, 33.96, 32.84, 34.07, 37.81, 34.17, 33.65, 39.19, 34.04, 34.17, 40.9, 37.79, 37.46, 37.77, 36.72, 33.07, 33.94, 36.61, 33.91, 37.72, 33.97, 37.79, 34.0, 33.9, 34.1, 36.69, 37.78, 37.77, 33.76, 32.64, 34.16, 37.97, 38.57, 37.31, 34.68, 33.98, 37.68, 37.75, 38.6, 37.77, 38.0, 37.52, 37.71, 38.64, 38.02, 33.96, 38.77, 32.79, 37.49, 34.09, 39.76, 38.99, 33.68, 38.01, 38.02, 35.76, 34.4, 34.21, 36.97, 37.76, 34.0, 36.77, 40.72, 39.82, 40.54, 38.31, 33.63, 37.68, 34.17, 38.95, 33.89, 34.03, 37.22, 37.75, 34.28, 37.63, 32.79, 32.67, 32.73, 34.17, 38.44, 37.89, 35.34, 32.64, 37.79, 37.61, 34.08, 33.89, 37.41, 35.77, 37.64, 33.96, 36.31, 33.95, 32.72, 33.5, 36.93, 33.66, 33.7, 34.09, 38.01, 34.1, 37.34, 33.71, 37.93, 37.33, 37.35, 32.69, 37.72, 37.74, 34.28, 33.8, 33.69, 33.75, 37.78, 37.35, 33.98, 35.27, 33.85, 33.89, 33.87, 36.7, 33.15, 34.61, 35.47, 41.74, 32.77, 33.98, 37.91, 34.26, 34.03, 34.08, 33.87, 33.96, 34.23, 34.2, 39.48, 35.32, 32.81, 37.77, 34.05, 37.3, 32.85, 37.39, 33.22, 33.75, 36.96, 38.34, 37.56, 32.79, 37.62, 33.97, 38.41, 34.17, 34.11, 32.62, 37.5, 33.67, 33.95, 38.54, 38.71, 38.69, 37.56, 32.67, 33.16, 34.15, 33.98, 34.11, 34.08, 34.19, 32.92, 38.94, 37.52, 37.25, 37.81, 37.58, 33.97, 38.61, 37.71, 34.1, 33.84, 34.44, 37.73, 37.99, 33.76, 33.91, 34.16, 37.95, 38.6, 36.93, 33.85, 37.56, 38.0, 34.06, 34.11, 34.1, 38.58, 38.7, 34.16, 37.24, 38.64, 37.75, 39.27, 34.1, 33.87, 33.81, 33.89, 34.02, 37.93, 33.66, 37.79, 34.64, 38.51, 37.99, 33.66, 33.83, 37.72, 41.06, 36.76, 36.95, 37.81, 33.81, 33.88, 40.17, 33.93, 34.08, 40.68, 34.16, 34.22, 33.9, 39.37, 38.04, 37.7, 34.18, 38.72, 37.37, 34.09, 36.71, 41.61, 33.53, 34.04, 38.32, 33.63, 37.76, 33.93, 34.17, 33.61, 37.62, 38.03, 37.83, 38.58, 38.64, 38.34, 34.11, 37.38, 33.47, 34.18, 37.06, 34.07, 34.13, 33.9, 39.23, 34.29, 32.56, 37.76, 37.79, 34.14, 36.64, 33.84, 33.86, 34.1, 33.67, 37.85, 38.44, 37.3, 34.15, 37.85, 33.84, 40.5, 33.8, 34.04, 33.7, 37.8, 34.21, 37.75, 34.05, 33.95, 38.76, 37.72, 34.14, 38.25, 33.9, 33.61, 34.23, 34.21, 32.59, 33.79, 34.12, 37.86, 33.96, 33.84, 33.89, 33.88, 34.11, 32.75, 37.44, 37.39, 34.12, 34.16, 37.94, 32.78, 34.21, 33.76, 33.97, 33.65, 32.85, 32.58, 34.47, 34.1, 37.64, 36.97, 36.54, 38.45, 32.97, 34.01, 37.35, 41.35, 33.84, 33.98, 37.63, 33.77, 38.88, 34.15, 34.08, 34.02, 37.36, 37.7, 38.69, 36.98, 37.73, 34.01, 34.13, 33.93, 37.12, 37.95, 33.97, 33.86, 32.76, 37.77, 33.73, 34.24, 37.62, 38.61, 34.68, 37.57, 37.9, 38.02, 33.67, 32.8, 33.88, 37.73, 33.65, 37.97, 36.85, 33.91, 37.33, 35.35, 32.74, 34.69, 33.81, 38.61, 34.1, 34.15, 37.76, 32.8, 34.25, 33.78, 39.34, 34.14, 37.55, 38.15, 35.06, 35.35, 35.5, 33.99, 33.94, 34.13, 38.25, 38.83, 34.04, 32.64, 33.99, 37.63, 34.18, 39.0, 32.77, 37.99, 38.0, 33.94, 34.06, 34.15, 33.98, 37.94, 37.39, 36.99, 33.79, 39.32, 33.75, 37.74, 32.74, 38.02, 36.8, 36.76, 33.99, 36.32, 37.27, 37.73, 37.78, 34.18, 37.81, 32.74, 36.97, 34.18, 37.77, 37.93, 34.13, 32.81, 33.93, 32.57, 38.29, 33.96, 37.76, 33.79, 37.75, 34.64, 38.48, 36.95, 34.95, 34.02, 34.11, 37.79, 37.45, 36.52, 32.61, 34.41, 33.95, 32.66, 37.86, 33.73, 33.68, 37.3, 37.25, 34.01, 36.74, 34.39, 33.91, 33.99, 33.79, 34.22, 35.37, 34.04, 33.86, 38.29, 32.86, 36.73, 37.28, 34.22, 37.38, 37.74, 37.97, 33.98, 33.63, 34.1, 34.01, 32.76, 32.75, 33.99, 34.08, 37.88, 34.19, 34.44, 33.99, 37.99, 38.57, 37.7, 32.81, 33.89, 37.66, 34.19, 33.73, 34.46, 39.15, 34.48, 37.98, 39.23, 33.77, 34.16, 32.89, 38.13, 41.12, 33.81, 34.06, 34.17, 34.27, 38.94, 32.73, 40.3, 34.05, 34.04, 34.03, 37.54, 33.43, 34.22, 34.07, 37.67, 38.95, 34.05, 33.98, 37.56, 34.63, 34.86, 33.84, 33.94, 34.17, 37.54, 32.84, 33.59, 39.08, 37.82, 34.11, 33.81, 34.07, 38.64, 34.28, 37.69, 33.77, 34.69, 38.86, 33.85, 32.83, 33.7, 37.34, 40.79, 33.97, 34.26, 33.79, 34.13, 38.07, 34.05, 33.81, 36.3, 37.93, 34.05, 39.16, 34.05, 34.12, 33.98, 34.28, 37.69, 34.12, 34.11, 33.73, 37.81, 38.39, 37.94, 34.17, 33.91, 37.26, 36.28, 32.69, 40.14, 37.28, 37.11, 34.28, 34.14, 33.93, 37.41, 34.27, 37.41, 32.99, 33.97, 38.92, 34.31, 34.28, 37.94, 34.87, 38.97, 32.56, 33.84, 34.06, 33.86, 37.31, 33.95, 34.09, 38.56, 32.99, 33.11, 36.78, 32.57, 37.87, 33.94, 37.38, 38.32, 37.86, 36.97, 34.09, 37.54, 36.6, 37.72, 37.26, 34.08, 34.23, 38.1, 34.07, 37.75, 37.11, 37.02, 37.58, 34.02, 37.68, 36.76, 37.66, 38.85, 34.39, 34.08, 36.54, 37.68, 34.41, 37.38, 37.99, 33.93, 37.97, 38.09, 34.06, 36.21, 34.04, 33.15, 34.01, 37.44, 36.95, 36.84, 37.34, 32.74, 34.06, 34.3, 34.06, 33.96, 33.88, 33.86, 38.63, 38.32, 37.92, 37.62, 33.91, 37.73, 39.09, 37.75, 34.04, 37.73, 32.7, 33.98, 33.95, 33.91, 36.68, 33.85, 33.92, 33.65, 32.69, 32.74, 32.96, 37.34, 33.45, 34.06, 38.48, 37.64, 34.47, 34.03, 37.32, 37.8, 33.76, 34.02, 37.09, 38.42, 35.61, 34.0, 37.72, 38.03, 32.79, 37.25, 37.59, 34.04, 37.34, 34.03, 37.68, 38.54, 34.27, 33.8, 33.84, 37.31, 37.78, 38.68, 38.63, 38.87, 32.82, 34.71, 33.16, 34.02, 33.51, 33.67, 34.1, 34.07, 37.34, 37.98, 37.72, 33.95, 34.15, 34.41, 34.14, 37.4, 34.28, 34.22, 33.89, 34.08, 36.22, 33.65, 33.87, 37.98, 36.57, 38.52, 33.92, 38.05, 32.97, 33.79, 37.33, 34.14, 36.3, 34.19, 34.2, 34.49, 40.58, 34.62, 34.02, 33.46, 39.24, 34.08, 34.2, 34.18, 37.88, 33.91, 37.34, 37.71, 33.88, 39.12, 34.18, 33.65, 37.27, 36.33, 33.93, 34.24, 34.17, 34.89, 38.7, 33.93, 32.76, 34.0, 33.88, 33.88, 34.22, 32.76, 39.52, 33.77, 33.74, 38.66, 37.82, 33.77, 33.88, 32.75, 34.04, 34.12, 33.96, 34.16, 33.8, 34.22, 38.1, 38.51, 33.92, 37.92, 37.68, 33.88, 34.02, 33.85, 34.05, 36.82, 33.34, 33.79, 34.0, 33.87, 33.83, 39.79, 38.03, 38.0, 38.46, 33.11, 35.32, 37.26, 33.88, 40.8, 37.68, 34.25, 33.98, 34.33, 37.87, 33.93, 36.82, 34.21, 32.65, 37.25, 37.7, 37.29, 34.11, 34.09, 34.01, 34.07, 34.09, 34.55, 33.83, 34.16, 38.64, 32.75, 37.83, 32.81, 33.77, 34.77, 38.65, 34.09, 37.61, 33.95, 36.78, 34.03, 33.74, 37.67, 33.89, 33.22, 37.96, 37.91, 34.19, 38.95, 38.74, 34.08, 38.43, 34.0, 34.43, 33.73, 37.7, 34.14, 32.8, 33.28, 37.37, 33.83, 37.34, 33.86, 33.94, 33.87, 37.6, 33.81, 37.79, 37.39, 34.18, 32.86, 33.9, 32.72, 33.14, 36.96, 36.34, 37.63, 34.19, 33.98, 38.94, 33.61, 34.07, 33.86, 34.2, 32.77, 33.84, 32.81, 37.32, 36.59, 33.93, 37.67, 33.06, 36.3, 34.05, 37.87, 38.5, 32.68, 37.8, 38.57, 38.65, 33.51, 33.81, 34.05, 34.19, 37.36, 36.63, 37.74, 33.71, 32.79, 33.99, 33.93, 34.42, 35.52, 38.0, 34.08, 38.35, 35.33, 37.71, 36.7, 37.93, 34.44, 34.03, 34.39, 35.89, 32.83, 33.74, 33.94, 36.73, 37.75, 37.74, 33.98, 37.26, 37.96, 39.16, 34.08, 36.06, 40.71, 34.28, 36.51, 34.09, 37.77, 37.37, 35.1, 37.78, 37.4, 33.18, 37.74, 34.28, 33.87, 36.63, 37.7, 33.9, 33.61, 33.57, 37.95, 33.69, 37.91, 37.3, 34.16, 39.05, 34.11, 36.7, 33.97, 34.17, 33.62, 35.14, 36.98, 34.26, 34.15, 34.0, 37.49, 34.12, 34.1, 34.24, 33.98, 34.09, 34.19, 34.18, 34.07, 36.81, 37.4, 38.34, 38.0, 37.88, 39.5, 37.79, 36.66, 33.96, 34.45, 34.7, 35.46, 33.74, 34.12, 32.7, 33.94, 32.88, 38.33, 34.16, 39.49, 34.06, 34.1, 33.65, 37.98, 37.77, 34.09, 40.93, 32.84, 34.18, 37.79, 34.23, 38.72, 32.76, 36.78, 38.65, 39.75, 34.02, 33.95, 34.16, 34.07, 34.0, 38.33, 34.04, 33.89, 39.52, 33.05, 34.09, 39.48, 35.62, 34.14, 33.32, 32.85, 32.72, 33.72, 33.94, 37.24, 33.77, 34.1, 37.85, 33.88, 34.07, 33.84, 37.72, 37.39, 34.06, 36.3, 33.66, 32.75, 34.16, 40.29, 37.02, 38.27, 33.93, 37.26, 33.74, 38.44, 36.23, 38.63, 37.86, 33.84, 34.57, 34.03, 34.13, 34.15, 36.82, 37.56, 34.01, 37.28, 37.81, 32.77, 33.74, 37.8, 33.82, 34.05, 38.0, 34.21, 34.21, 34.7, 33.2, 40.4, 33.99, 33.63, 38.08, 33.94, 33.09, 33.99, 36.67, 37.98, 33.97, 36.83, 32.8, 35.33, 37.72, 37.52, 38.62, 34.25, 33.15, 34.25, 38.03, 38.45, 37.37, 34.09, 36.77, 34.97, 34.3, 38.65, 37.55, 34.35, 34.08, 33.88, 36.63, 33.81, 34.16, 33.96, 36.8, 37.76, 33.89, 34.09, 34.13, 33.73, 38.3, 34.08, 33.8, 33.68, 37.77, 34.49, 33.11, 34.18, 34.04, 38.2, 38.24, 34.11, 37.65, 33.75, 33.78, 34.05, 37.3, 38.36, 36.34, 32.76, 32.82, 38.65, 36.68, 34.03, 33.94, 37.62, 34.07, 35.27, 34.0, 38.59, 37.78, 35.36, 37.87, 39.36, 33.72, 33.84, 38.61, 34.09, 33.8, 33.91, 35.29, 34.21, 33.93, 34.89, 33.87, 33.87, 37.33, 33.74, 33.99, 32.72, 34.66, 33.72, 39.27, 37.58, 33.66, 37.78, 38.35, 34.18, 33.93, 38.0, 33.73, 37.64, 37.57, 41.07, 34.14, 34.23, 33.61, 36.91, 36.97, 41.03, 37.29, 33.87, 34.04, 37.93, 34.0, 34.14, 33.93, 38.66, 37.51, 33.82, 33.91, 34.12, 32.81, 37.15, 36.96, 34.09, 34.23, 33.63, 37.36, 37.34, 33.98, 34.19, 33.88, 39.21, 39.64, 34.03, 34.3, 32.76, 34.16, 32.77, 36.74, 34.17, 35.35, 37.93, 37.93, 38.56, 33.8, 34.1, 36.76, 34.26, 35.39, 33.83, 35.65, 37.32, 36.5, 34.0, 38.24, 33.62, 37.69, 34.14, 33.98, 33.99, 37.76, 34.24, 37.97, 36.77, 37.55, 37.48, 35.3, 32.71, 33.92, 37.72, 33.65, 33.99, 33.92, 38.79, 38.56, 34.01, 34.18, 34.29, 32.74, 35.12, 38.64, 37.97, 34.59, 39.24, 34.08, 33.83, 33.98, 35.42, 33.88, 33.82, 33.78, 34.14, 34.06, 37.96, 32.75, 32.69, 37.79, 32.72, 33.87, 33.78, 32.81, 37.46, 34.94, 34.09, 36.63, 33.83, 38.33, 39.93, 33.76, 38.62, 39.11, 33.49, 34.17, 33.23, 34.05, 38.42, 32.86, 36.83, 34.01, 34.09, 34.18, 34.15, 38.79, 32.84, 34.91, 34.28, 33.35, 34.14, 34.86, 33.91, 34.08, 37.48, 34.1, 33.99, 38.55, 38.01, 33.09, 36.82, 34.03, 34.11, 32.75, 33.93, 37.36, 37.78, 33.65, 32.73, 33.66, 32.76, 37.74, 37.58, 32.61, 33.8, 37.72, 33.72, 37.33, 33.94, 37.28, 34.26, 33.99, 38.0, 33.79, 37.44, 37.31, 34.11, 35.94, 38.43, 36.58, 33.88, 38.13, 34.24, 34.08, 33.83, 37.46, 33.82, 33.68, 33.77, 38.72, 37.63, 37.37, 37.4, 40.88, 32.79, 38.99, 37.93, 33.9, 33.71, 34.06, 34.58, 33.51, 34.08, 33.9, 37.76, 34.03, 33.73, 33.25, 38.03, 38.3, 34.02, 36.74, 37.96, 37.81, 32.79, 37.75, 38.68, 33.7, 33.85, 33.95, 37.95, 34.04, 34.07, 34.5, 34.19, 38.07, 34.13, 32.78, 37.61, 37.82, 37.78, 38.87, 37.9, 33.82, 34.09, 37.38, 33.65, 33.81, 37.98, 33.55, 37.9, 33.23, 34.05, 34.27, 33.8, 34.0, 37.97, 33.73, 34.14, 34.07, 32.71, 34.14, 37.28, 34.4, 34.08, 37.78, 34.18, 35.37, 34.94, 37.3, 38.32, 33.82, 34.11, 37.75, 33.96, 34.12, 34.15, 39.12, 37.73, 38.61, 34.05, 37.56, 34.18, 39.69, 33.96, 38.85, 37.99, 38.31, 33.79, 34.05, 32.74, 33.48, 34.03, 33.89, 37.81, 34.22, 37.73, 33.16, 34.02, 37.72, 34.16, 39.41, 33.97, 34.94, 34.0, 37.55, 33.81, 38.11, 37.98, 34.43, 34.2, 38.38, 34.23, 39.12, 37.61, 33.91, 33.93, 37.28, 36.65, 33.81, 32.63, 34.08, 33.82, 33.82, 40.88, 36.74, 37.36, 37.55, 34.9, 37.54, 34.26, 37.69, 37.56, 37.56, 37.96, 33.86, 33.89, 34.08, 35.07, 38.06, 34.25, 34.07, 38.91, 32.8, 35.33, 32.97, 37.6, 37.91, 32.68, 32.99, 34.1, 37.76, 32.78, 34.03, 32.69, 33.64, 37.74, 37.33, 34.15, 34.29, 34.13, 37.69, 32.69, 33.05, 37.05, 32.58, 37.79, 37.4, 34.1, 39.72, 33.92, 37.79, 38.4, 38.71, 38.04, 33.87, 33.23, 33.61, 33.85, 34.05, 37.59, 34.1, 32.8, 36.72, 33.94, 34.87, 33.84, 33.96, 33.84, 34.07, 34.25, 38.11, 33.88, 34.68, 37.0, 37.31, 33.83, 37.23, 37.34, 37.67, 39.08, 34.09, 37.46, 37.82, 36.21, 37.67, 33.75, 38.05, 34.23, 37.79, 37.68, 37.54, 38.01, 38.23, 33.87, 33.75, 34.13, 33.58, 36.8, 33.83, 33.97, 34.09, 37.58, 34.27, 34.1, 33.91, 35.46, 34.17, 34.01, 38.4, 33.9, 41.63, 33.83, 33.84, 37.57, 34.02, 37.95, 33.92, 38.61, 34.12, 40.31, 37.84, 35.14, 33.72, 34.21, 38.31, 34.11, 34.94, 32.98, 34.02, 37.54, 38.59, 34.43, 33.78, 35.43, 38.67, 34.08, 38.27, 36.6, 32.8, 38.98, 34.06, 33.88, 36.81, 36.7, 34.0, 37.4, 36.33, 37.36, 37.3, 35.08, 37.97, 37.82, 37.86, 33.93, 34.5, 37.71, 36.98, 38.92, 37.2, 34.11, 34.23, 33.84, 34.24, 33.66, 37.8, 40.98, 37.96, 34.1, 38.34, 33.99, 37.31, 34.05, 34.02, 33.99, 37.73, 40.31, 32.7, 33.87, 38.02, 32.84, 33.13, 33.28, 33.8, 34.03, 33.75, 33.82, 34.05, 39.15, 36.52, 37.81, 33.99, 37.98, 33.94, 36.3, 35.78, 33.91, 37.54, 33.84, 37.33, 33.78, 37.46, 37.26, 38.04, 38.57, 36.6, 37.89, 34.0, 37.87, 38.62, 37.75, 37.64, 36.93, 38.38, 36.2, 34.28, 32.79, 33.88, 35.26, 33.95, 32.71, 37.98, 37.96, 38.43, 34.16, 34.0, 33.24, 34.13, 38.0, 34.04, 38.85, 33.95, 32.72, 35.31, 38.92, 32.75, 32.68, 33.87, 37.25, 34.0, 32.71, 37.82, 39.0, 34.05, 32.76, 34.14, 34.07, 33.98, 33.99, 39.26, 37.47, 37.54, 37.71, 37.47, 38.58, 34.41, 37.64, 36.76, 38.27, 34.13, 33.93, 36.44, 33.83, 34.81, 37.33, 34.01, 37.98, 34.45, 37.77, 39.4, 37.7, 33.43, 34.15, 38.13, 33.2, 34.06, 35.37, 38.12, 35.42, 34.02, 33.99, 34.1, 33.97, 33.98, 38.1, 32.73, 33.0, 41.84, 37.68, 37.87, 39.74, 37.34, 34.07, 38.76, 38.56, 34.41, 33.76, 33.88, 34.18, 38.5, 33.7, 38.42, 40.43, 37.39, 33.68, 37.78, 33.09, 38.95, 37.39, 37.66, 34.03, 37.7, 34.1, 38.46, 34.16, 35.29, 34.45, 37.27, 33.74, 33.84, 35.39, 33.96, 34.09, 38.98, 38.01, 34.07, 34.09, 33.94, 33.98, 34.15, 38.17, 34.07, 37.74, 32.96, 34.21, 34.13, 34.11, 34.43, 34.27, 33.84, 34.05, 33.94, 32.75, 34.0, 37.23, 38.57, 33.99, 33.97, 35.99, 34.0, 37.66, 38.72, 34.89, 34.08, 37.41, 37.67, 37.64, 33.93, 35.49, 36.75, 37.77, 35.54, 38.38, 34.41, 34.19, 39.86, 34.17, 34.08, 32.67, 38.66, 34.04, 37.4, 33.94, 38.65, 37.68, 33.75, 33.31, 37.33, 33.87, 33.83, 37.98, 34.96, 34.1, 33.03, 38.12, 37.57, 38.51, 39.26, 37.73, 37.78, 33.65, 33.33, 37.66, 37.09, 37.02, 33.99, 36.92, 33.95, 39.33, 34.18, 37.73, 37.75, 33.02, 38.44, 32.85, 40.86, 38.24, 38.58, 34.16, 38.55, 38.56, 37.81, 33.98, 34.05, 36.78, 34.09, 37.13, 34.27, 33.51, 37.87, 34.08, 37.03, 37.71, 33.92, 38.16, 36.99, 33.83, 33.71, 36.21, 34.02, 33.86, 33.98, 34.1, 36.77, 38.61, 37.31, 38.44, 34.3, 34.13, 39.79, 33.69, 37.95, 41.78, 37.64, 33.61, 33.93, 36.9, 40.94, 37.67, 33.99, 33.84, 37.82, 33.83, 37.73, 34.13, 38.11, 37.72, 35.52, 37.88, 39.1, 37.83, 33.91, 37.76, 34.06, 32.86, 34.01, 37.54, 32.99, 38.39, 36.21, 34.02, 37.26, 34.04, 37.68, 37.5, 33.95, 38.41, 33.03, 33.58, 33.99, 35.37, 33.04, 34.15, 37.78, 37.92, 33.91, 36.32, 32.77, 32.7, 38.5, 38.45, 33.86, 32.77, 33.98, 39.15, 37.4, 34.24, 34.09, 34.08, 33.69, 34.41, 34.43, 34.11, 33.4, 33.19, 33.83, 32.7, 37.36, 33.95, 37.99, 34.04, 38.0, 33.9, 37.6, 37.88, 37.96, 34.25, 35.38, 33.4, 38.58, 34.03, 34.11, 33.82, 38.61, 34.1, 34.07, 39.32, 38.04, 33.91, 39.52, 34.09, 35.38, 39.14, 36.79, 34.26, 34.19, 36.68, 37.86, 33.75, 38.91, 38.24, 38.55, 33.9, 33.77, 34.08, 38.26, 32.85, 34.09, 37.76, 38.44, 37.38, 38.66, 33.71, 38.33, 37.67, 37.46, 34.96, 38.02, 34.5, 37.76, 38.04, 35.35, 33.9, 33.95, 33.89, 34.04, 35.37, 37.85, 36.21, 40.13, 37.94, 37.96, 34.07, 38.57, 33.79, 37.8, 33.96, 38.55, 37.44, 34.24, 32.65, 33.86, 38.73, 38.39, 38.0, 37.72, 38.0, 33.86, 37.72, 32.81, 37.99, 33.46, 40.67, 37.64, 37.34, 40.77, 38.7, 37.24, 37.49, 34.44, 39.38, 33.95, 33.93, 34.25, 35.37, 34.14, 38.05, 37.13, 38.61, 36.94, 37.42, 33.99, 32.74, 38.51, 33.88, 33.96, 36.79, 34.04, 33.93, 33.91, 36.86, 37.69, 37.96, 37.8, 33.84, 36.96, 37.38, 37.41, 34.06, 37.39, 37.36, 32.96, 33.94, 40.56, 33.96, 39.02, 37.85, 36.61, 38.57, 33.92, 37.31, 38.16, 34.08, 38.36, 32.75, 32.69, 38.96, 33.95, 32.71, 37.76, 34.1, 38.83, 34.07, 38.58, 39.51, 33.78, 34.04, 32.72, 33.93, 34.19, 38.0, 34.0, 34.09, 39.73, 34.04, 37.3, 38.03, 37.38, 34.16, 37.97, 37.31, 37.78, 32.83, 38.12, 37.84, 34.0, 37.29, 33.2, 35.74, 37.79, 33.71, 33.73, 38.94, 34.06, 37.08, 38.6, 37.81, 34.01, 32.95, 33.98, 34.07, 33.02, 34.98, 37.74, 33.97, 33.75, 33.98, 37.42, 37.96, 34.15, 37.34, 35.28, 33.9, 34.36, 36.83, 34.14, 32.84, 32.74, 33.98, 37.77, 38.13, 37.59, 34.17, 37.78, 38.37, 33.65, 36.5, 34.05, 34.96, 37.3, 33.9, 33.64, 32.8, 37.71, 33.97, 33.74, 33.79, 38.64, 34.14, 37.93, 36.3, 34.4, 33.79, 33.17, 37.6, 36.73, 38.59, 36.98, 34.28, 39.7, 33.97, 33.71, 33.95, 37.34, 34.07, 39.73, 37.97, 33.81, 34.08, 38.29, 38.43, 33.19, 33.95, 33.76, 33.69, 38.72, 38.26, 36.92, 37.26, 34.09, 37.94, 34.03, 34.03, 33.9, 34.07, 40.18, 37.75, 34.45, 32.71, 37.74, 38.14, 34.04, 33.73, 34.02, 33.89, 33.28, 34.22, 37.34, 35.24, 38.02, 34.44, 33.54, 36.94, 32.69, 32.84, 34.12, 34.24, 33.73, 34.03, 33.78, 34.02, 37.41, 37.76, 33.53, 38.4, 34.26, 37.65, 33.87, 34.97, 37.75, 33.99, 35.37, 33.88, 32.64, 36.71, 33.82, 36.76, 33.01, 34.08, 37.8, 32.77, 32.7, 33.92, 37.79, 37.73, 37.73, 36.98, 37.32, 37.51, 37.53, 33.78, 32.7, 33.94, 39.95, 38.03, 38.03, 38.7, 34.28, 37.3, 37.66, 34.13, 33.61, 35.49, 35.39, 35.6, 37.77, 37.81, 39.25, 33.9, 34.07, 33.99, 39.7, 37.29, 34.11, 38.42, 33.82, 33.93, 37.31, 38.09, 33.93, 33.8, 37.64, 34.06, 37.38, 36.37, 32.84, 33.99, 33.81, 37.8, 33.74, 38.4, 39.11, 33.48, 32.79, 37.99, 33.99, 35.28, 34.04, 33.71, 37.68, 34.44, 37.44, 34.12, 37.81, 37.4, 32.69, 33.91, 34.09, 38.04, 39.75, 34.15, 36.58, 34.5, 36.84, 34.06, 37.65, 32.71, 37.96, 37.72, 37.47, 34.02, 35.37, 40.35, 36.89, 38.89, 36.77, 34.17, 33.75, 37.28, 33.8, 37.54, 32.66, 33.85, 35.74, 38.68, 36.78, 33.49, 34.31, 34.09, 33.67, 36.97, 38.01, 37.27, 32.98, 32.72, 38.68, 34.23, 33.25, 33.94, 34.16, 37.29, 35.38, 41.2, 37.45, 38.27, 38.6, 33.99, 33.67, 34.0, 34.19, 33.79, 34.26, 37.34, 33.54, 38.54, 35.41, 41.7, 35.37, 38.54, 33.81, 39.16, 38.68, 34.06, 35.52, 32.55, 33.97, 33.84, 34.18, 34.2, 36.76, 37.3, 38.71, 37.74, 34.26, 38.02, 37.53, 39.75, 33.82, 34.65, 34.24, 34.27, 37.34, 37.78, 37.82, 33.84, 34.08, 32.72, 33.6, 37.33, 34.08, 33.81, 38.0, 33.48, 36.89, 34.02, 33.97, 34.27, 40.23, 36.61, 33.8, 34.11, 37.94, 38.65, 34.28, 36.22, 34.1, 34.86, 37.55, 34.44, 39.2, 37.95, 34.19, 34.16, 34.04, 34.04, 33.79, 34.03, 33.82, 38.06, 33.2, 33.62, 34.04, 33.96, 33.8, 37.8, 34.02, 33.74, 32.8, 34.06, 33.79, 34.08, 37.65, 33.93, 32.8, 38.97, 33.94, 34.28, 41.23, 34.25, 33.87, 34.44, 34.15, 37.69, 38.28, 34.01, 38.61, 33.81, 32.69, 33.85, 37.35, 34.03, 32.76, 34.0, 38.01, 33.99, 34.0, 34.04, 36.58, 34.65, 37.54, 33.71, 38.1, 40.57, 33.84, 32.93, 33.82, 33.94, 38.44, 36.82, 37.8, 40.73, 37.59, 37.79, 38.27, 34.11, 33.38, 33.99, 33.88, 36.3, 40.27, 33.11, 34.05, 38.67, 34.13, 37.5, 34.05, 33.63, 33.9, 34.28, 36.74, 33.99, 32.82, 33.61, 37.69, 34.11, 34.21, 37.64, 37.58, 32.92, 37.66, 33.89, 39.09, 36.31, 37.45, 37.94, 37.73, 37.53, 34.95, 33.13, 34.09, 37.99, 35.34, 34.01, 34.26, 33.91, 38.51, 34.18, 34.02, 33.83, 33.94, 36.86, 37.79, 33.89, 34.21, 34.14, 36.97, 33.89, 34.04, 34.22, 33.96, 37.66, 34.27, 40.87, 37.68, 36.85, 33.72, 37.98, 34.14, 34.17, 35.63, 37.85, 33.93, 36.22, 32.74, 32.83, 38.25, 33.93, 37.84, 41.01, 34.04, 35.3, 34.02, 34.48, 38.04, 32.7, 34.01, 34.18, 37.65, 33.85, 37.18, 38.79, 39.12, 38.51, 33.9, 34.15, 34.2, 34.09, 38.93, 37.78, 39.74, 33.73, 33.93, 34.15, 39.51, 33.92, 39.05, 39.51, 38.6, 34.29, 38.63, 32.76, 33.68, 34.07, 32.76, 37.08, 33.96, 33.79, 34.31, 34.05, 34.21, 33.92, 33.98, 32.8, 34.11, 34.54, 38.67, 33.66, 38.68, 33.99, 38.56, 37.45, 34.29, 34.25, 37.56, 36.73, 34.07, 37.93, 35.38, 33.91, 34.45, 33.13, 33.75, 35.38, 33.89, 32.8, 33.85, 32.76, 39.15, 33.94, 36.79, 34.23, 34.21, 34.09, 34.65, 37.79, 36.79, 33.11, 36.72, 33.7, 37.8, 33.92, 33.98, 33.97, 34.04, 37.77, 40.45, 38.33, 41.32, 41.06, 40.45, 37.5, 34.04, 34.53, 34.12, 37.59, 37.47, 34.02, 32.81, 34.1, 33.76, 37.64, 38.61, 37.76, 36.77, 37.63, 37.94, 36.57, 36.21, 38.25, 37.8, 35.96, 34.26, 33.94, 38.65, 34.43, 37.36, 33.83, 33.76, 39.29, 33.62, 36.62, 37.78, 34.3, 34.01, 34.07, 34.19, 33.83, 37.71, 34.23, 34.4, 33.73, 33.65, 33.71, 37.69, 34.18, 32.9, 34.04, 34.04, 34.21, 34.77, 36.95, 37.85, 37.83, 34.58, 38.07, 41.73, 37.31, 32.99, 37.95, 37.44, 32.91, 41.6, 33.85, 37.48, 38.24, 33.81, 33.54, 38.35, 37.46, 34.15, 37.97, 37.79, 34.1, 37.16, 39.5, 35.12, 34.15, 34.08, 32.92, 38.48, 34.04, 36.38, 39.94, 39.41, 38.01, 32.8, 34.0, 38.68, 36.65, 33.75, 33.87, 37.24, 38.46, 34.08, 33.89, 34.03, 39.01, 34.19, 37.85, 38.68, 37.78, 33.83, 39.13, 33.91, 37.95, 34.14, 34.09, 35.27, 39.17, 37.78, 36.61, 34.41, 35.36, 34.2, 39.51, 33.85, 32.8, 33.93, 33.54, 32.91, 37.68, 37.81, 36.3, 36.49, 33.96, 34.06, 34.04, 37.89, 32.8, 33.88, 37.62, 34.22, 34.06, 34.21, 34.52, 34.16, 39.44, 37.5, 34.07, 34.14, 36.95, 34.72, 37.88, 35.3, 36.95, 37.7, 33.98, 34.03, 39.26, 38.25, 34.68, 33.77, 38.37, 33.89, 33.97, 33.99, 34.68, 38.63, 34.96, 33.9, 34.02, 37.82, 33.6, 34.14, 34.14, 37.67, 36.75, 38.62, 37.82, 36.6, 34.42, 34.1, 38.67, 34.48, 33.83, 33.61, 32.93, 33.85, 33.83, 36.53, 34.14, 33.74, 34.04, 38.02, 34.17, 35.13, 37.69, 33.84, 32.67, 38.26, 38.49, 37.41, 34.12, 34.13, 33.9, 34.19, 38.59, 37.8, 33.94, 34.31, 33.21, 34.08, 34.02, 37.58, 38.31, 37.61, 33.89, 35.34, 38.43, 34.13, 40.78, 33.61, 38.07, 33.77, 33.69, 37.89, 37.65, 38.61, 34.17, 33.97, 36.67, 38.38, 37.83, 37.59, 34.1, 37.82, 37.76, 34.11, 33.65, 33.04, 34.09, 37.74, 33.83, 37.81, 37.07, 34.33, 37.5, 38.33, 40.42, 32.57, 33.73, 37.94, 35.37, 37.76, 32.8, 37.29, 37.53, 34.03, 34.03, 34.53, 32.72, 37.95, 34.24, 32.73, 37.52, 33.75, 33.0, 39.32, 34.23, 33.94, 37.65, 37.69, 37.52, 37.75, 33.07, 37.76, 33.12, 34.22, 37.05, 40.58, 36.84, 34.02, 33.97, 34.3, 34.44, 38.05, 33.81, 37.72, 37.83, 37.28, 34.01, 33.98, 37.21, 33.19, 33.71, 40.24, 35.17, 33.85, 35.99, 33.9, 37.72, 34.15, 37.62, 33.9, 36.62, 38.31, 32.68, 37.91, 34.09, 32.77, 34.19, 37.7, 37.82, 34.05, 33.95, 32.75, 37.76, 37.41, 37.71, 34.18, 32.67, 33.92, 33.88, 37.77, 33.98, 33.62, 34.62, 37.8, 33.35, 34.18, 33.99, 37.76, 33.69, 32.91, 36.21, 33.82, 33.85, 37.67, 37.76, 38.66, 39.49, 34.08, 38.58, 37.81, 37.31, 34.16, 33.89, 33.79, 32.97, 34.11, 37.78, 40.58, 33.77, 34.09, 38.47, 34.08, 38.68, 34.04, 32.79, 32.81, 38.01, 37.75, 38.57, 37.0, 34.04, 38.46, 34.05, 33.75, 34.14, 32.81, 34.24, 37.7, 38.07, 37.8, 33.79, 33.81, 39.08, 38.44, 37.75, 34.17, 38.67, 34.19, 34.04, 39.35, 32.76, 35.4, 37.81, 34.7, 34.03, 38.03, 34.08, 32.71, 33.48, 34.23, 36.59, 39.66, 32.98, 37.36, 34.28, 32.7, 34.1, 37.45, 33.88, 38.77, 40.79, 37.44, 40.4, 33.93, 33.95, 33.86, 37.68, 37.76, 35.35, 37.87, 33.93, 34.17, 33.85, 37.69, 39.19, 36.75, 35.13, 34.06, 32.79, 33.83, 39.67, 38.63, 37.38, 39.32, 34.41, 33.79, 36.96, 37.75, 34.12, 37.76, 34.02, 34.15, 34.31, 39.04, 37.69, 38.69, 33.16, 34.0, 34.18, 33.91, 38.54, 32.76, 38.45, 37.59, 34.14, 33.21, 40.58, 33.68, 36.61, 38.43, 34.05, 34.03, 33.94, 33.97, 33.94, 37.76, 36.79, 34.15, 34.09, 37.01, 37.3, 38.36, 32.77, 38.71, 38.53, 37.94, 37.72, 38.03, 36.71, 37.35, 32.78, 34.02, 36.96, 40.95, 34.05, 33.81, 33.91, 33.93, 33.52, 36.97, 37.36, 37.85, 32.8, 33.69, 34.87, 34.18, 33.76, 38.6, 35.24, 34.28, 37.15, 38.14, 37.67, 38.12, 33.62, 38.62, 34.1, 34.42, 32.83, 40.11, 33.92, 33.9, 33.84, 37.77, 34.06, 34.17, 35.24, 33.97, 34.14, 37.34, 36.7, 34.4, 34.12, 33.06, 34.06, 33.73, 33.93, 37.81, 38.46, 38.93, 34.04, 34.07, 33.11, 37.85, 37.99, 37.39, 34.06, 33.89, 33.8, 37.54, 33.03, 32.75, 32.77, 36.97, 36.87, 38.21, 35.61, 32.94, 33.91, 37.46, 37.28, 37.31, 37.37, 33.97, 36.96, 38.9, 33.98, 38.25, 35.27, 38.01, 38.55, 33.03, 39.48, 34.23, 34.14, 38.9, 34.02, 37.77, 37.91, 37.74, 33.76, 34.03, 37.31, 33.86, 33.77, 33.83, 34.06, 34.0, 33.84, 33.88, 37.42, 33.75, 33.99, 38.66, 35.31, 34.1, 34.16, 37.64, 38.31, 40.87, 34.02, 33.87, 36.81, 33.61, 37.23, 37.37, 34.02, 35.36, 34.27, 34.19, 37.87, 33.84, 36.78, 37.64, 37.8, 35.13, 33.89, 34.02, 34.04, 34.05, 37.35, 33.54, 33.83, 34.16, 33.84, 33.2, 33.94, 34.05, 34.1, 34.15, 37.31, 38.0, 33.72, 38.44, 38.49, 32.8, 38.45, 37.4, 38.66, 32.78, 38.62, 37.67, 34.17, 33.71, 33.63, 39.14, 34.12, 37.67, 38.09, 34.21, 37.86, 33.97, 38.42, 33.86, 35.42, 35.41, 37.84, 34.05, 37.99, 34.65, 36.98, 33.96, 33.85, 37.53, 38.35, 33.88, 37.66, 37.65, 33.98, 34.2, 34.17, 37.78, 33.63, 40.85, 37.28, 33.61, 37.77, 36.59, 38.26, 37.75, 36.73, 38.68, 33.75, 34.13, 33.85, 33.81, 33.85, 38.48, 34.2, 33.91, 38.49, 33.78, 37.54, 37.96, 34.1, 34.06, 40.28, 38.06, 38.79, 36.81, 37.3, 33.86, 32.75, 33.68, 36.84, 37.74, 33.77, 32.73, 35.32, 32.73, 37.7, 37.75, 33.97, 34.03, 33.0, 32.83, 33.94, 33.15, 36.77, 33.65, 37.73, 37.88, 34.05, 34.06, 34.12, 34.07, 38.94, 33.87, 37.62, 37.98, 32.86, 36.62, 37.97, 34.66, 34.01, 33.83, 34.21, 37.07, 37.78, 34.43, 34.16, 34.03, 34.1, 33.84, 34.03, 39.76, 34.02, 32.91, 37.9, 37.35, 38.68, 37.72, 37.24, 38.67, 34.03, 33.96, 34.24, 34.02, 34.06, 33.36, 32.75, 33.72, 38.69, 33.82, 34.16, 33.84, 37.36, 33.8, 33.98, 33.01, 37.79, 39.23, 33.88, 39.8, 37.38, 33.94, 33.89, 32.75, 33.78, 33.74, 34.12, 38.31, 34.43, 33.96, 33.79, 32.74, 35.75, 32.7, 39.94, 38.12, 37.83, 37.35, 33.69, 33.86, 38.41, 35.16, 34.05, 36.42, 34.3, 33.9, 33.89, 34.05, 37.94, 37.28, 37.96, 34.04, 38.04, 33.87, 36.96, 37.5, 34.18, 34.38, 36.64, 36.74, 33.88, 37.35, 33.96, 37.54, 34.24, 34.09, 38.23, 38.39, 37.7, 39.76, 40.26, 37.8, 32.78, 34.15, 33.09, 33.83, 38.29, 33.86, 38.57, 37.95, 37.99, 37.75, 35.49, 37.73, 36.33, 37.22, 35.6, 34.1, 33.89, 37.58, 34.06, 34.15, 34.42, 37.96, 36.13, 33.82, 33.77, 32.74, 38.47, 34.12, 37.76, 34.02, 36.81, 32.81, 33.15, 34.24, 37.67, 34.05, 33.58, 39.51, 34.11, 33.41, 33.92, 38.58, 34.08, 36.63, 33.88, 34.15, 37.67, 37.88, 38.09, 39.04, 37.96, 33.59, 34.19, 37.89, 36.74, 39.23, 37.26, 38.67, 33.89, 33.73, 38.27, 34.03, 33.87, 32.56, 34.04, 34.02, 33.64, 33.76, 36.52, 34.17, 34.43, 35.86, 32.82, 38.1, 35.19, 37.58, 34.05, 34.09, 33.78, 33.79, 34.18, 34.56, 35.5, 35.76, 33.9, 33.92, 39.23, 37.76, 37.54, 34.12, 36.82, 32.92, 37.35, 37.76, 38.22, 36.97, 37.45, 37.53, 32.83, 36.92, 34.01, 32.75, 34.13, 36.19, 33.57, 37.36, 37.63, 37.78, 33.96, 38.68, 34.05, 33.89, 37.33, 37.88, 36.96, 34.07, 33.97, 34.51, 38.68, 38.48, 34.1, 33.05, 34.13, 34.05, 37.96, 33.77, 36.54, 37.77, 34.44, 35.35, 33.51, 34.17, 34.16, 34.02, 34.4, 38.14, 33.66, 34.27, 36.07, 39.5, 38.41, 37.74, 33.89, 36.54, 34.12, 35.6, 36.35, 34.07, 34.03, 41.78, 37.02, 34.14, 32.75, 38.34, 34.06, 37.81, 33.56, 33.92, 34.17, 36.33, 34.18, 37.29, 34.04, 32.73, 37.78, 34.06, 34.2, 34.09, 33.8, 38.62, 37.37, 34.3, 34.05, 34.18, 34.69, 33.94, 33.71, 35.35, 34.06, 37.26, 33.92, 36.96, 34.15, 37.34, 39.03, 34.08, 37.23, 37.78, 38.03, 37.65, 33.74, 33.76, 34.08, 37.32, 38.0, 37.63, 36.06, 34.17, 37.54, 33.77, 34.14, 37.68, 37.66, 38.43, 40.71, 34.08, 38.02, 36.07, 33.71, 34.48, 34.2, 33.81, 37.7, 34.01, 37.27, 32.8, 37.7, 40.56, 33.99, 34.04, 34.3, 33.85, 37.61, 34.15, 33.92, 38.71, 34.07, 34.44, 37.33, 38.34, 34.09, 37.77, 33.89, 33.57, 32.99, 34.01, 36.71, 38.28, 38.25, 37.57, 37.95, 33.86, 34.05, 33.8, 33.19, 33.63, 33.74, 32.83, 34.18, 35.36, 37.4, 38.44, 38.9, 34.26, 37.87, 34.14, 39.08, 33.95, 33.0, 32.78, 34.03, 35.72, 34.14, 37.43, 34.09, 34.07, 40.69, 33.75, 33.82, 34.23, 33.88, 33.77, 34.18, 38.14, 36.42, 34.43, 33.61, 37.02, 33.95, 32.58, 33.73, 34.05, 37.65, 32.7, 37.34, 37.56, 33.73, 33.69, 33.82, 34.14, 39.48, 37.76, 37.85, 34.17, 37.72, 33.54, 37.66, 32.8, 33.72, 33.68, 39.51, 34.03, 32.99, 38.82, 34.43, 35.13, 33.85, 36.92, 34.15, 34.27, 34.95, 39.18, 33.97, 38.57, 36.72, 37.76, 33.17, 37.57, 32.76, 38.61, 37.67, 33.87, 33.08, 38.26, 34.32, 38.31, 37.88, 33.79, 33.98, 37.28, 33.75, 33.81, 34.05, 34.05, 38.8, 37.47, 37.28, 33.26, 39.01, 32.65, 34.12, 39.09, 34.14, 38.9, 33.75, 33.76, 34.05, 35.25, 34.06, 38.85, 38.03, 33.92, 34.05, 33.93, 34.06, 32.64, 37.64, 36.06, 36.75, 40.87, 32.77, 36.97, 33.76, 38.19, 35.37, 38.92, 32.75, 38.52, 38.66, 36.79, 37.36, 34.07, 37.99, 34.07, 37.38, 34.07, 36.81, 35.13, 37.48, 37.72, 36.07, 37.73, 33.97, 34.71, 34.21, 39.46, 33.61, 33.94, 34.52, 38.66, 33.89, 38.52, 34.01, 37.63, 34.05, 38.35, 34.19, 37.71, 33.89, 33.92, 38.04, 34.57, 34.07, 38.07, 34.7, 34.08, 34.14, 32.74, 37.66, 41.53, 34.05, 40.02, 36.95, 33.51, 32.81, 34.25, 37.82, 34.27, 33.97, 38.93, 33.95, 37.62, 34.1, 33.61, 32.8, 33.21, 37.67, 39.15, 37.94, 40.54, 36.22, 37.75, 37.09, 34.23, 36.77, 33.65, 36.19, 33.22, 37.74, 33.83, 35.03, 32.78, 34.16, 33.91, 33.07, 40.65, 37.48, 34.12, 34.1, 34.02, 34.08, 37.48, 34.15, 33.76, 34.11, 37.74, 33.93, 33.9, 33.64, 34.1, 38.34, 34.05, 34.07, 37.71, 33.78, 32.99, 33.87, 34.95, 33.95, 37.99, 33.88, 33.85, 36.59, 37.97, 37.75, 34.2, 33.96, 34.15, 34.15, 37.43, 37.76, 38.24, 34.2, 34.12, 33.86, 33.8, 32.67, 32.75, 35.67, 33.93, 38.03, 38.32, 33.83, 33.65, 38.19, 32.81, 37.76, 36.63, 32.76, 34.23, 33.79, 33.46, 38.3, 34.0, 33.71, 37.59, 34.06, 37.64, 37.88, 38.44, 34.0, 36.97, 37.29, 37.67, 37.93, 33.99, 32.8, 33.65, 33.18, 32.83, 37.66, 33.95, 37.96, 34.02, 37.78, 34.22, 36.8, 33.66, 38.0, 34.11, 37.75, 33.62, 36.19, 37.73, 37.63, 34.03, 37.73, 40.79, 33.98, 37.63, 34.26, 37.61, 34.1, 34.25, 34.09, 33.71, 33.73, 37.92, 38.94, 36.84, 34.04, 32.79, 33.77, 37.75, 33.8, 37.35, 37.38, 38.6, 38.95, 36.66, 33.72, 38.81, 39.79, 34.01, 38.59, 38.31, 37.49, 37.44, 32.76, 38.58, 38.69, 33.96, 37.36, 37.82, 38.69, 35.3, 37.7, 33.51, 38.41, 33.7, 33.98, 33.62, 37.54, 36.76, 37.97, 33.64, 37.99, 37.26, 37.41, 37.35, 37.83, 34.1, 34.05, 37.32, 37.31, 34.07, 33.97, 32.91, 37.64, 33.05, 40.71, 33.94, 34.22, 38.26, 33.99, 34.05, 40.8, 38.13, 38.55, 33.22, 33.47, 37.85, 33.85, 33.68, 37.3, 34.02, 33.8, 34.28, 34.95, 33.84, 39.33, 38.67, 34.11, 32.64, 37.91, 37.52, 37.74, 38.73, 38.59, 37.97, 34.28, 33.97, 32.85, 34.2, 39.14, 37.44, 39.51, 34.13, 34.1, 34.04, 37.78, 38.35, 34.19, 37.74, 34.02, 36.51, 33.8, 33.86, 38.01, 33.98, 38.58, 34.09, 35.26, 33.82, 37.69, 37.84, 34.11, 34.09, 37.54, 37.95, 34.09, 37.93, 38.63, 36.32, 36.8, 33.95, 37.8, 37.75, 34.14, 34.14, 34.96, 38.42, 38.45, 33.75, 33.84, 33.89, 34.63, 36.91, 34.07, 33.87, 33.62, 37.47, 34.17, 37.66, 37.98, 33.84, 33.75, 32.65, 33.84, 33.9, 37.93, 38.34, 35.34, 34.01, 34.13, 34.09, 38.14, 33.9, 34.16, 37.67, 37.98, 38.55, 37.05, 33.84, 33.82, 37.5, 34.06, 33.99, 34.07, 32.71, 33.96, 33.97, 34.17, 37.65, 38.56, 37.72, 39.71, 34.16, 37.93, 34.05, 37.92, 34.03, 38.1, 34.13, 33.96, 38.97, 33.84, 33.99, 36.84, 34.07, 37.65, 37.66, 34.07, 34.24, 37.39, 33.9, 33.84, 34.17, 38.46, 34.83, 37.74, 33.87, 37.38, 37.54, 32.64, 33.02, 33.84, 34.65, 37.76, 37.79, 33.99, 34.0, 37.33, 34.05, 33.94, 37.53, 40.45, 33.89, 33.42, 37.98, 36.6, 39.74, 37.78, 39.45, 37.49, 34.13, 34.27, 34.88, 37.36, 33.99, 32.63, 37.97, 37.73, 38.53, 38.84, 35.35, 33.87, 34.07, 34.44, 34.15, 38.1, 37.5, 34.22, 34.18, 37.35, 33.89, 32.72, 36.75, 36.81, 33.84, 34.58, 37.47, 33.79, 34.27, 33.93, 34.9, 39.74, 34.29, 33.66, 33.14, 34.05, 34.16, 37.27, 38.25, 36.07, 39.74, 39.09, 33.78, 37.37, 34.06, 34.07, 33.93, 35.6, 37.79, 37.79, 33.95, 32.91, 38.44, 32.96, 37.39, 34.42, 32.74, 36.8, 38.52, 39.12, 33.68, 33.79, 37.68, 33.71, 38.25, 39.82, 36.79, 32.8, 37.59, 36.32, 34.03, 32.8, 33.99, 37.94, 37.27, 33.74, 37.6, 33.64, 34.18, 33.06, 35.37, 38.8, 37.33, 34.11, 38.77, 33.97, 40.99, 37.26, 34.12, 37.98, 34.2, 37.74, 34.04, 34.03, 34.19, 37.9, 32.77, 37.36, 39.76, 38.28, 36.28, 35.15, 38.26, 37.99, 37.53, 33.98, 36.73, 33.9, 36.96, 37.67, 33.63, 33.73, 37.37, 33.73, 34.09, 34.1, 33.19, 37.81, 34.06, 35.48, 33.72, 38.49, 34.19, 33.74, 34.06, 38.07, 36.6, 32.61, 33.94, 34.51, 34.23, 32.75, 37.47, 37.0, 33.76, 38.45, 33.99, 38.42, 33.0, 37.31, 33.18, 36.7, 33.96, 35.33, 34.16, 37.35, 34.71, 34.15, 36.56, 32.75, 36.2, 38.11, 37.7, 34.02, 37.29, 34.07, 34.15, 37.69, 36.77, 37.74, 34.07, 38.53, 36.33, 39.52, 34.01, 33.61, 33.88, 32.69, 37.7, 36.74, 37.35, 38.02, 33.6, 38.44, 34.1, 33.77, 37.95, 37.33, 34.0, 37.72, 33.99, 34.15, 38.13, 33.78, 34.11, 33.79, 34.19, 33.84, 37.91, 32.91, 34.04, 33.77, 33.64, 33.63, 37.73, 40.57, 33.93, 37.37, 32.75, 36.45, 38.67, 38.39, 38.12, 37.9, 38.7, 40.67, 38.45, 33.37, 33.88, 32.67, 33.18, 37.26, 33.19, 34.02, 33.9, 33.9, 34.07, 34.13, 37.75, 33.8, 38.37, 37.79, 37.54, 37.37, 34.2, 37.52, 34.06, 37.46, 40.19, 37.78, 34.22, 36.92, 37.99, 37.83, 40.88, 33.77, 34.13, 32.58, 37.77, 37.85, 33.87, 37.63, 37.67, 34.89, 32.61, 33.88, 37.75, 34.07, 37.93, 37.38, 34.0, 34.12, 34.42, 36.6, 40.85, 34.0, 32.76, 35.19, 33.92, 32.83, 33.86, 41.8, 32.74, 35.27, 35.35, 32.55, 37.45, 40.76, 33.95, 38.99, 34.17, 34.83, 37.37, 37.33, 34.06, 34.11, 34.14, 32.68, 34.23, 32.62, 38.3, 37.85, 38.34, 33.95, 36.74, 37.36, 39.17, 40.52, 38.0, 33.67, 33.94, 37.4, 37.86, 33.67, 37.75, 37.47, 37.27, 33.79, 37.74, 34.05, 36.86, 34.06, 36.92, 32.74, 33.96, 40.17, 34.23, 33.86, 33.96, 38.28, 34.13, 32.85, 39.82, 34.04, 34.07, 33.8, 33.25, 34.04, 33.72, 34.09, 38.49, 34.13, 36.83, 34.09, 35.05, 34.1, 33.78, 37.53, 33.9, 37.78, 33.76, 34.16, 38.28, 32.83, 38.45, 36.88, 37.6, 38.0, 34.25, 37.43, 33.84, 33.86, 37.78, 34.19, 34.25, 38.15, 33.45, 33.83, 33.65, 36.73, 37.68, 37.73, 37.27, 36.35, 32.8, 33.84, 34.07, 34.1, 37.82, 37.73, 34.04, 33.73, 34.09, 33.9, 34.11, 38.01, 32.69, 32.57, 36.1, 36.67, 34.17, 33.95, 37.32, 38.13, 37.97, 34.08, 33.79, 34.25, 33.81, 34.27, 33.93, 37.91, 37.88, 34.28, 32.76, 33.68, 33.89, 34.21, 34.2, 36.8, 33.87, 34.43, 37.07, 33.89, 38.47, 33.13, 38.26, 37.8, 37.86, 37.3, 37.76, 37.72, 34.41, 34.07, 33.89, 38.14, 34.01, 33.79, 33.96, 33.26, 39.48, 32.78, 36.76, 32.73, 34.09, 34.07, 33.75, 37.42, 37.24, 35.34, 33.62, 34.41, 37.78, 33.97, 39.15, 33.82, 32.68, 33.8, 33.78, 32.72, 35.34, 34.16, 37.66, 32.81, 37.71, 33.64, 33.91, 36.28, 33.75, 32.8, 32.75, 34.13, 38.13, 34.44, 37.36, 33.76, 38.51, 34.27, 38.12, 33.86, 34.08, 33.52, 38.92, 34.63, 37.45, 34.16, 34.88, 37.52, 36.63, 38.41, 37.73, 40.56, 34.07, 37.64, 34.13, 32.73, 40.45, 32.82, 35.4, 32.81, 37.84, 38.75, 33.55, 37.34, 36.07, 34.65, 34.22, 37.79, 37.29, 34.25, 39.76, 36.82, 33.78, 38.56, 33.77, 33.64, 33.86, 34.08, 35.39, 34.22, 38.96, 34.12, 32.87, 33.73, 34.01, 38.67, 34.22, 36.27, 33.92, 33.96, 37.9, 32.67, 33.89, 37.97, 33.79, 34.2, 38.15, 34.09, 33.77, 33.82, 37.24, 34.03, 34.14, 36.81, 33.93, 38.77, 34.06, 33.74, 34.15, 33.76, 37.79, 37.71, 38.55, 33.83, 36.61, 32.82, 33.97, 34.11, 37.78, 36.59, 40.85, 33.14, 37.3, 33.71, 40.08, 34.3, 33.76, 36.71, 36.7, 37.82, 37.56, 37.38, 33.88, 37.36, 38.33, 34.1, 34.21, 37.94, 34.87, 35.12, 38.56, 33.14, 36.92, 33.77, 34.02, 34.18, 33.91, 33.98, 36.97, 37.8, 33.82, 36.73, 37.45, 34.1, 34.44, 37.33, 33.93, 37.27, 37.76, 37.77, 37.27, 37.79, 32.83, 34.07, 36.72, 34.01, 34.02, 37.47, 33.87, 34.29, 37.47, 36.62, 32.67, 33.86, 34.05, 33.85, 33.92, 37.96, 36.79, 38.01, 33.88, 32.96, 32.73, 37.74, 37.74, 33.9, 34.27, 33.11, 33.64, 34.04, 34.18, 34.17, 33.79, 36.75, 37.73, 34.21, 33.2, 38.55, 33.94, 32.62, 38.28, 35.37, 34.13, 34.66, 35.34, 32.82, 34.65, 32.8, 37.83, 37.96, 34.02, 37.56, 34.0, 34.01, 37.96, 33.13, 34.44, 34.07, 34.11, 39.02, 33.73, 37.76, 37.29, 38.12, 34.11, 36.78, 33.95, 33.92, 37.79, 33.73, 33.87, 34.09, 32.74, 35.05, 33.89, 34.14, 33.9, 38.74, 36.32, 40.76, 37.96, 32.75, 34.02, 38.67, 34.1, 39.01, 37.25, 38.11, 33.89, 33.75, 33.73, 33.98, 34.2, 33.93, 33.94, 33.79, 37.77, 38.43, 36.87, 37.03, 34.22, 37.37, 37.5, 33.79, 34.15, 37.96, 33.99, 37.71, 38.39, 37.79, 34.44, 37.29, 37.31, 34.23, 33.94, 34.13, 33.99, 32.75, 38.73, 37.39, 34.27, 37.27, 37.29, 34.15, 33.87, 34.11, 36.8, 38.05, 33.82, 38.53, 36.21, 33.89, 33.08, 33.95, 34.04, 39.14, 40.8, 37.76, 37.76, 33.93, 33.62, 37.67, 34.1, 37.56, 37.34, 36.44, 33.88, 32.85, 33.94, 33.24, 38.5, 37.18, 34.08, 37.63, 39.55, 34.04, 34.1, 33.97, 34.16, 33.77, 33.13, 37.74, 37.79, 34.02, 36.6, 38.02, 34.12, 37.23, 38.61, 34.61, 38.11, 32.64, 34.07, 33.87, 37.63, 37.41, 33.81, 34.22, 38.4, 37.26, 37.77, 33.99, 34.1, 33.9, 32.83, 34.12, 38.27, 34.11, 36.83, 37.39, 36.19, 33.94, 37.74, 32.69, 37.58, 37.63, 33.89, 34.7, 33.87, 32.79, 38.24, 38.62, 38.73, 34.58, 35.4, 32.83, 39.15, 37.36, 37.69, 38.34, 34.1, 33.83, 33.99, 38.45, 38.42, 34.17, 34.16, 34.1, 33.66, 34.3, 33.84, 33.64, 37.62, 33.44, 33.96, 33.98, 38.69, 33.98, 38.93, 34.07, 33.19, 36.71, 34.44, 34.1, 33.93, 34.08, 35.51, 33.84, 34.17, 33.92, 39.26, 32.73, 32.75, 39.17, 37.98, 38.75, 34.26, 37.36, 37.3, 37.74, 40.17, 37.77, 34.09, 38.58, 38.55, 34.07, 34.22, 33.94, 33.03, 36.44, 33.97, 34.25, 32.77, 33.91, 38.01, 37.4, 34.18, 37.92, 33.87, 34.05, 33.91, 33.18, 37.78, 34.13, 39.34, 37.16, 34.53, 34.2, 33.98, 34.17, 34.05, 34.37, 35.65, 34.27, 32.7, 34.04, 38.03, 33.93, 36.32, 34.0, 36.77, 37.85, 36.91, 33.69, 33.97, 33.18, 38.42, 34.27, 37.7, 33.73, 37.18, 36.81, 34.22, 34.11, 34.05, 35.39, 37.32, 37.45, 33.13, 38.37, 39.4, 33.81, 37.83, 34.19, 33.91, 33.06, 33.92, 33.77, 38.67, 37.98, 34.08, 33.89, 38.03, 34.25, 33.84, 37.89, 34.04, 36.79, 37.25, 38.81, 37.81, 34.03, 34.21, 39.82, 38.13, 38.13, 36.68, 36.77, 33.97, 36.96, 33.19, 37.41, 33.74, 38.55, 36.83, 33.67, 33.88, 34.4, 33.89, 33.83, 37.29, 37.75, 33.74, 33.91, 34.16, 36.61, 34.04, 36.65, 40.39, 34.05, 37.86, 37.31, 34.01, 36.39, 37.35, 34.0, 34.13, 33.96, 39.13, 33.63, 38.4, 33.94, 37.29, 34.05, 37.77, 34.05, 34.42, 37.78, 37.8, 33.98, 33.81, 33.78, 33.77, 33.88, 32.79, 32.74, 37.48, 34.04, 34.26, 37.66, 36.77, 38.0, 34.11, 37.75, 34.58, 32.72, 33.78, 37.3, 33.93, 35.41, 37.31, 38.0, 34.06, 33.89, 37.69, 38.62, 37.24, 33.74, 37.62, 33.92, 34.1, 33.96, 32.79, 37.71, 38.65, 38.74, 32.75, 32.62, 34.19, 34.06, 37.66, 34.22, 38.14, 33.68, 37.55, 34.07, 34.12, 33.87, 36.32, 33.88, 37.37, 33.73, 34.01, 34.87, 39.74, 33.89, 37.0, 38.45, 36.46, 34.22, 38.3, 37.23, 33.88, 34.06, 37.8, 34.11, 34.88, 33.95, 32.92, 34.44, 33.97, 32.97, 33.74, 32.78, 37.89, 34.04, 34.17, 37.39, 33.62, 33.93, 38.0, 37.0, 33.54, 37.23, 32.69, 33.77, 36.72, 39.73, 34.18, 34.06, 34.01, 33.73, 33.9, 34.11, 37.54, 33.92, 37.32, 37.74, 33.6, 38.52, 37.9, 38.91, 33.91, 38.69, 38.71, 33.79, 37.75, 33.91, 35.12, 37.34, 37.89, 38.24, 38.34, 32.62, 34.19, 38.33, 37.82, 36.13, 33.85, 34.12, 40.89, 36.85, 37.63, 32.81, 33.96, 34.18, 37.76, 33.98, 38.25, 33.97, 34.43, 37.95, 34.0, 33.67, 40.75, 37.34, 38.94, 40.58, 32.68, 33.86, 37.56, 34.22, 37.96, 33.97, 36.29, 37.8, 39.14, 36.8, 34.06, 38.61, 33.92, 37.32, 32.75, 32.72, 32.95, 37.57, 37.94, 34.15, 34.21, 36.83, 33.69, 33.95, 37.97, 37.82, 32.98, 34.1, 39.0, 33.83, 32.78, 40.44, 37.12, 37.68, 34.02, 33.63, 36.66, 37.39, 34.6, 34.11, 36.06, 34.4, 36.98, 34.05, 37.36, 33.82, 34.87, 37.36, 37.9, 34.11, 34.1, 34.22, 33.12, 37.74, 37.11, 33.95, 34.1, 35.13, 33.52, 33.97, 38.9, 36.91, 32.72, 37.92, 34.14, 34.26, 37.68, 33.83, 34.15, 33.74, 34.0, 38.1, 36.98, 32.68, 34.05, 38.02, 38.7, 33.71, 33.78, 32.71, 34.18, 36.71, 35.36, 37.84, 34.12, 37.35, 33.93, 33.72, 34.02, 38.41, 37.94, 33.75, 34.07, 33.81, 34.26, 38.67, 33.12, 36.14, 33.86, 34.12, 32.76, 35.16, 37.93, 34.13, 34.14, 34.05, 40.99, 37.76, 34.08, 37.75, 37.24, 34.01, 36.77, 34.2, 33.99, 34.9, 34.76, 33.94, 32.73, 38.54, 39.82, 32.57, 36.72, 37.79, 37.71, 38.56, 33.87, 34.85, 33.66, 37.74, 34.0, 34.09, 34.26, 37.82, 33.98, 38.94, 38.7, 37.99, 33.9, 40.78, 37.31, 37.25, 34.06, 33.94, 37.77, 34.45, 37.27, 33.94, 33.78, 33.98, 34.26, 32.71, 34.18, 37.94, 37.89, 38.93, 38.11, 37.75, 34.17, 37.72, 33.6, 36.97, 32.78, 37.89, 36.34, 37.36, 34.01, 34.43, 34.07, 37.3, 33.97, 34.1, 36.4, 34.09, 34.04, 32.63, 37.8, 34.15, 37.01, 37.98, 33.54, 39.79, 33.6, 37.49, 37.42, 37.27, 35.37, 33.68, 37.83, 37.56, 34.06, 34.02, 32.74, 33.14, 38.52, 36.55, 34.23, 38.48, 34.0, 33.93, 34.24, 37.72, 34.07, 37.26, 33.94, 37.79, 33.98, 36.61, 34.18, 33.75, 32.73, 37.84, 34.04, 38.4, 33.75, 34.17, 33.16, 36.81, 38.61, 34.16, 36.33, 37.73, 33.66, 34.09, 36.83, 37.71, 37.46, 32.78, 37.89, 37.3, 37.71, 32.78, 33.22, 33.71, 34.14, 37.31, 34.0, 34.26, 37.36, 38.7, 38.51, 32.57, 34.43, 37.88, 37.7, 34.42, 34.83, 32.98, 37.51, 32.73, 38.67, 38.75, 33.97, 32.74, 37.65, 38.92, 37.48, 33.51, 37.55, 37.6, 33.92, 32.73, 37.75, 39.1, 33.84, 37.75, 33.88, 36.96, 34.12, 37.81, 34.06, 37.64, 37.34, 34.16, 37.77, 37.93, 34.13, 37.53, 37.66, 37.88, 36.42, 38.51, 37.48, 33.81, 37.93, 34.06, 33.57, 34.04, 37.68, 37.34, 40.57, 33.67, 37.55, 33.93, 32.99, 33.84, 35.37, 38.5, 36.6, 34.05, 34.97, 33.74, 33.78, 37.3, 37.57, 37.3, 33.82, 34.04, 34.2, 34.08, 37.8, 34.2, 33.89, 37.68, 37.37, 33.9, 32.85, 33.94, 33.61, 34.06, 37.71, 38.37, 37.66, 33.19, 34.12, 34.05, 37.43, 35.38, 38.29, 39.39, 37.75, 33.22, 37.66, 37.93, 36.81, 40.06, 34.05, 36.56, 37.92, 34.08, 39.13, 33.91, 36.86, 33.09, 34.02, 38.09, 36.1, 37.76, 37.68, 38.71, 37.76, 32.77, 33.98, 37.34, 34.11, 34.21, 38.58, 34.02, 36.7, 37.54, 33.71, 38.52, 37.94, 34.13, 34.06, 34.23, 33.7, 34.07, 32.8, 38.54, 32.81, 37.78, 34.1, 34.08, 33.96, 32.75, 37.55, 32.66, 37.33, 37.71, 38.72, 39.08, 40.64, 37.43, 37.81, 34.01, 37.8, 34.16, 37.79, 34.89, 33.85, 32.86, 37.69, 35.1, 32.79, 34.3, 33.82, 38.37, 33.78, 32.72, 40.88, 34.19, 38.75, 32.77, 36.61, 37.94, 34.29, 38.8, 32.8, 33.19, 34.08, 37.24, 33.69, 34.01, 32.98, 34.16, 33.78, 34.19, 34.05, 37.79, 37.91, 37.78, 38.0, 37.81, 37.9, 34.02, 34.31, 34.18, 34.27, 37.25, 33.76, 33.9, 34.19, 37.84, 33.87, 34.08, 33.6, 33.82, 33.8, 37.84, 33.87, 37.34, 33.8, 34.0, 34.16, 38.01, 36.84, 37.4, 37.9, 38.53, 34.51, 37.79, 33.96, 37.51, 38.1, 33.21, 33.65, 38.13, 37.25, 37.8, 33.89, 37.64, 34.01, 33.81, 34.11, 37.77, 37.72, 37.68, 41.75, 38.42, 33.8, 33.94, 33.98, 32.75, 39.13, 32.74, 38.13, 38.12, 33.85, 33.98, 33.84, 33.88, 38.07, 34.06, 33.3, 34.06, 33.6, 34.64, 34.1, 33.99, 37.25, 34.17, 37.57, 33.15, 33.95, 38.53, 37.94, 39.01, 33.8, 37.63, 34.19, 34.09, 33.99, 34.15, 34.23, 37.44, 33.94, 33.94, 34.03, 33.7, 33.79, 36.43, 34.09, 33.94, 37.96, 33.59, 37.36, 34.06, 37.3, 34.14, 34.06, 34.01, 37.78, 37.36, 33.98, 33.74, 36.32, 37.43, 34.09, 38.57, 37.75, 38.01, 38.69, 34.07, 38.06, 34.21, 34.07, 33.81, 33.82, 37.79, 34.04, 33.82, 32.76, 34.07, 33.91, 34.13, 37.8, 37.78, 33.87, 33.81, 38.18, 33.89, 40.46, 38.24, 34.07, 33.91, 37.78, 34.06, 37.31, 40.11, 37.67, 33.23, 33.87, 33.82, 33.72, 33.77, 34.28, 36.34, 36.6, 33.84, 33.9, 34.0, 33.66, 34.18, 32.6, 34.11, 34.51, 37.36, 33.6, 33.9, 37.9, 32.77, 37.96, 39.12, 38.66, 33.92, 34.04, 33.67, 33.86, 33.86, 32.82, 37.32, 37.97, 38.64, 34.03, 36.78, 32.95, 37.36, 37.33, 37.3, 33.97, 38.46, 33.77, 34.13, 37.91, 34.06, 34.3, 33.91, 34.06, 34.1, 37.38, 37.3, 33.95, 38.01, 33.87, 33.84, 40.43, 37.25, 38.43, 33.61, 37.53, 34.21, 34.05, 33.72, 36.78, 33.97, 37.66, 38.01, 34.02, 34.07, 32.57, 38.04, 38.01, 32.75, 36.09, 35.37, 33.88, 37.37, 33.9, 39.25, 34.14, 37.89, 33.84, 37.75, 32.73, 37.79, 34.53, 34.1, 37.99, 34.24, 37.71, 38.56, 34.03, 37.78, 36.8, 36.37, 40.78, 34.23, 33.79, 33.98, 33.75, 34.18, 33.95, 38.52, 39.36, 37.93, 34.0, 36.61, 34.13, 34.05, 37.67, 34.93, 34.14, 39.93, 34.07, 36.41, 34.26, 38.6, 35.29, 34.23, 34.57, 36.98, 36.87, 33.99, 33.85, 37.53, 34.21, 34.08, 34.26, 37.23, 33.74, 40.77, 37.45, 40.78, 37.78, 34.43, 34.1, 38.95, 37.86, 32.69, 34.04, 34.06, 38.63, 34.1, 33.84, 37.89, 34.17, 32.67, 33.9, 40.92, 37.99, 33.8, 33.71, 37.66, 32.72, 37.58, 34.24, 33.98, 39.0, 33.15, 36.19, 34.43, 33.81, 34.24, 37.72, 40.47, 32.9, 37.74, 34.07, 34.02, 34.0, 34.53, 33.51, 36.81, 37.37, 37.45, 32.74, 33.99, 33.7, 36.72, 34.23, 34.46, 33.38, 37.68, 35.59, 34.0, 33.76, 37.92, 34.23, 38.55, 38.65, 33.89, 34.07, 41.86, 37.88, 37.47, 33.83, 33.95, 33.93, 35.4, 37.29, 37.74, 34.1, 32.76, 34.17, 33.97, 39.49, 37.9, 38.38, 33.87, 37.77, 34.18, 34.06, 34.05, 32.68, 34.06, 34.07, 37.55, 33.72, 38.47, 32.62, 37.77, 34.06, 34.08, 38.68, 37.8, 33.83, 33.83, 34.01, 34.08, 37.97, 33.89, 34.18, 38.35, 33.89, 33.99, 36.85, 37.78, 34.06, 33.95, 32.87, 33.92, 34.05, 33.64, 40.31, 36.31, 34.15, 33.92, 37.96, 33.89, 38.93, 35.91, 37.49, 34.11, 34.08, 35.29, 33.64, 33.64, 33.85, 37.76, 39.9, 33.7, 37.67, 35.33, 37.74, 34.18, 34.2, 34.23, 40.59, 36.66, 33.79, 37.42, 37.32, 37.33, 33.84, 35.36, 39.22, 36.6, 37.8, 32.98, 34.01, 35.4, 33.14, 33.87, 33.15, 37.97, 33.22, 33.12, 32.8, 33.71, 34.11, 34.0, 37.93, 33.69, 32.97, 38.53, 34.1, 38.75, 37.73, 33.72, 34.15, 37.94, 37.76, 32.93, 34.1, 33.12, 34.24, 34.14, 34.15, 34.01, 34.35, 37.36, 37.78, 37.7, 34.43, 33.93, 33.97, 37.8, 34.21, 38.71, 37.35, 34.08, 37.67, 32.74, 34.13, 39.37, 37.76, 34.06, 40.42, 38.03, 37.74, 33.96, 32.77, 33.93, 37.65, 37.96, 33.86, 37.98, 37.31, 34.05, 33.92, 33.97, 37.87, 37.39, 36.34, 38.03, 33.9, 34.01, 34.09, 33.14, 38.66, 34.88, 33.7, 34.07, 33.55, 33.95, 33.76, 33.95, 39.05, 33.68, 36.83, 38.26, 38.62, 33.63, 39.15, 36.57, 38.69, 38.08, 33.78, 36.95, 34.09, 34.04, 36.92, 34.07, 38.32, 37.75, 33.96, 32.66, 32.75, 32.77, 38.34, 33.89, 36.74, 37.81, 33.96, 37.13, 38.68, 37.78, 33.97, 34.11, 37.79, 34.02, 39.67, 38.25, 34.14, 36.7, 33.76, 38.99, 34.24, 38.61, 39.72, 34.01, 33.94, 34.02, 33.62, 33.81, 38.59, 33.67, 34.15, 34.13, 34.08, 38.57, 37.35, 34.31, 34.2, 39.8, 33.76, 39.5, 34.13, 32.68, 34.13, 34.04, 33.72, 37.9, 38.25, 37.93, 32.71, 34.08, 34.05, 34.03, 37.92, 37.52, 36.32, 38.63, 32.74, 34.27, 38.49, 37.53, 34.3, 34.15, 34.09, 36.32, 34.46, 37.66, 37.59, 37.98, 34.0, 33.84, 34.07, 34.11, 37.4, 33.93, 36.47, 33.88, 37.28, 34.27, 36.85, 40.62, 34.26, 33.56, 33.74, 38.0, 33.99, 34.2, 34.11, 33.85, 34.12, 40.95, 39.14, 34.19, 35.63, 34.16, 38.25, 34.02, 34.13, 37.02, 34.27, 33.97, 38.38, 34.14, 36.25, 37.76, 34.04, 34.27, 33.69, 37.3, 34.04, 34.03, 37.76, 36.72, 33.82, 38.02, 37.09, 34.27, 34.09, 38.46, 35.17, 37.77, 37.59, 35.65, 37.11, 38.68, 37.86, 36.81, 32.67, 37.98, 33.89, 34.04, 35.63, 34.16, 34.23, 37.74, 37.75, 33.78, 33.98, 33.45, 35.62, 33.15, 33.75, 34.23, 34.54, 34.24, 36.83, 33.77, 32.81, 33.95, 34.09, 37.93, 37.71, 37.37, 37.71, 34.42, 34.4, 35.61, 37.8, 34.1, 32.76, 38.0, 34.04, 34.01, 40.66, 34.35, 33.77, 38.94, 39.25, 34.1, 37.73, 34.21, 38.25, 37.28, 32.78, 36.78, 37.94, 35.36, 33.83, 36.43, 37.76, 32.85, 37.3, 38.16, 33.8, 34.35, 38.7, 34.28, 38.34, 37.31, 33.82, 37.93, 37.32, 34.36, 34.09, 34.16, 34.08, 37.32, 34.09, 38.01, 36.62, 37.96, 33.84, 37.8, 37.76, 33.89, 34.21, 32.82, 37.71, 34.16, 36.56, 34.12, 33.71, 34.02, 33.83, 36.02, 33.89, 34.24, 34.03, 33.76, 32.78, 37.67, 35.38, 33.94, 37.98, 34.2, 34.21, 34.69, 37.46, 39.19, 33.66, 34.02, 37.57, 34.01, 39.13, 37.72, 37.35, 38.94, 34.05, 33.2, 33.97, 34.14, 33.9, 34.02, 34.29, 37.95, 34.06, 33.2, 34.2, 34.08, 37.34, 40.6, 32.68, 33.77, 36.75, 33.08, 37.76, 33.84, 35.36, 35.42, 34.08, 34.09, 38.57, 33.79, 34.07, 37.8, 33.98, 36.85, 38.9, 39.23, 33.82, 37.52, 33.77, 37.56, 37.33, 33.91, 36.83, 36.35, 33.37, 35.64, 33.86, 34.19, 34.16, 33.16, 33.96, 34.57, 33.92, 33.88, 34.08, 34.1, 33.61, 37.76, 34.06, 36.71, 34.22, 33.93, 38.51, 34.16, 37.72, 32.75, 40.47, 33.91, 33.9, 33.9, 33.97, 37.64, 37.8, 34.07, 33.86, 34.05, 33.86, 34.2, 32.86, 34.07, 33.88, 37.71, 34.06, 37.81, 34.06, 33.01, 33.71, 33.96, 36.32, 33.95, 32.82, 35.27, 37.45, 34.05, 37.66, 36.62, 37.29, 37.57, 32.78, 37.72, 32.74, 33.62, 34.04, 33.67, 34.1, 36.97, 33.82, 34.2, 36.99, 38.15, 33.74, 36.4, 33.96, 34.07, 37.79, 32.78, 32.78, 33.73, 38.45, 38.01, 37.33, 38.58, 33.88, 37.75, 33.97, 33.71, 33.74, 34.17, 37.61, 32.75, 39.52, 38.31, 37.21, 37.76, 34.96, 37.6, 32.87, 33.89, 34.02, 34.1, 34.07, 33.83, 33.57, 39.1, 37.98, 37.96, 41.73, 37.46, 38.54, 33.79, 37.78, 37.7, 32.96, 34.08, 32.74, 32.78, 34.02, 37.54, 39.33, 34.17, 40.89, 32.79, 39.1, 33.75, 34.05, 34.12, 37.62, 34.05, 37.99, 33.85, 34.1, 34.03, 38.28, 33.95, 33.88, 35.28, 32.97, 34.08, 38.46, 33.79, 33.79, 36.14, 33.75, 33.44, 39.04, 33.96, 39.77, 36.94, 33.79, 40.29, 33.87, 32.73, 34.03, 37.89, 33.83, 32.69, 32.75, 34.08, 37.38, 37.99, 32.58, 39.44, 33.51, 33.9, 37.75, 34.15, 34.12, 37.99, 34.23, 37.94, 33.76, 34.39, 33.72, 38.67, 38.59, 34.04, 37.45, 37.96, 36.38, 37.75, 37.44, 34.01, 38.34, 37.28, 38.13, 32.85, 37.32, 34.13, 33.69, 37.19, 37.96, 37.64, 36.12, 37.72, 36.98, 34.13, 34.18, 34.07, 32.59, 33.72, 32.82, 33.95, 33.19, 33.93, 36.84, 33.78, 34.12, 37.77, 39.78, 37.73, 37.57, 37.81, 34.17, 37.58, 34.02, 37.96, 37.29, 37.92, 38.51, 34.67, 33.87, 33.97, 37.78, 39.15, 33.2, 33.92, 32.58, 34.03, 34.21, 38.2, 37.34, 34.1, 33.78, 36.99, 38.93, 37.0, 40.93, 33.85, 33.99, 37.69, 37.71, 40.48, 32.95, 33.71, 33.99, 37.98, 33.53, 33.88, 34.23, 34.18, 34.42, 37.35, 37.43, 33.93, 33.81, 38.6, 34.06, 34.88, 34.41, 34.12, 33.08, 33.82, 38.79, 33.66, 34.04, 34.04, 34.13, 37.38, 36.33, 37.8, 37.54, 34.1, 38.57, 37.3, 34.9, 37.94, 37.75, 33.62, 38.56, 37.92, 32.79, 37.33, 40.43, 32.69, 39.76, 34.24, 33.82, 33.93, 36.21, 37.47, 37.74, 33.86, 39.92, 37.11, 37.44, 37.53, 37.4, 39.92, 37.98, 33.92, 34.06, 37.26, 34.21, 34.17, 38.69, 38.47, 34.19, 33.64, 34.11, 34.12, 33.05, 36.72, 37.79, 38.11, 33.84, 32.85, 36.31, 38.04, 34.02, 37.26, 33.91, 38.68, 33.74, 32.68, 41.48, 33.94, 33.75, 38.56, 35.78, 33.73, 33.73, 33.99, 33.99, 37.87, 33.86, 33.91, 37.67, 39.25, 34.1, 32.7, 34.11, 33.96, 37.74, 34.22, 34.11, 34.24, 34.02, 37.39, 36.31, 34.24, 34.09, 36.34, 33.95, 32.77, 34.18, 38.36, 37.64, 38.01, 35.32, 35.3, 37.77, 33.6, 34.43, 38.59, 34.02, 39.12, 34.12, 38.39, 37.97, 34.17, 33.82, 37.37, 38.88, 37.95, 37.55, 34.04, 37.26, 33.65, 34.2, 38.58, 37.35, 34.08, 38.92, 33.9, 33.9, 34.03, 38.3, 38.33, 37.5, 34.12, 34.15, 34.27, 35.26, 37.8, 38.58, 37.28, 38.49, 38.45, 39.44, 38.99, 37.9, 36.79, 36.57, 33.84, 34.68, 40.62, 33.6, 38.26, 37.91, 39.66, 33.96, 34.07, 34.14, 35.29, 33.65, 33.91, 36.19, 37.46, 34.02, 34.2, 38.96, 38.56, 38.92, 33.13, 38.58, 34.13, 37.99, 38.58, 40.56, 37.33, 33.74, 38.99, 37.75, 38.58, 36.71, 39.13, 37.74, 34.05, 37.83, 36.14, 37.32, 33.85, 33.67, 38.02, 33.88, 37.63, 40.48, 34.05, 33.9, 33.73, 34.08, 39.18, 34.2, 34.13, 33.95, 34.06, 33.95, 40.32, 34.45, 37.54, 38.62, 37.35, 38.13, 36.76, 38.0, 38.64, 33.85, 38.56, 37.33, 37.4, 34.1, 37.31, 33.55, 34.04, 36.51, 37.77, 34.0, 40.19, 33.11, 33.78, 33.16, 33.95, 37.43, 33.9, 39.75, 38.67, 37.43, 33.71, 35.37, 34.02, 32.54, 33.67, 34.58, 33.97, 34.66, 34.05, 34.07, 39.23, 33.54, 34.09, 37.57, 37.29, 34.21, 34.11, 34.31, 37.53, 32.74, 37.38, 32.75, 39.39, 34.02, 34.07, 37.82, 38.99, 33.99, 34.25, 33.89, 36.83, 34.72, 34.42, 34.06, 32.86, 33.9, 34.18, 34.42, 32.75, 34.26, 37.98, 34.13, 34.08, 34.11, 34.16, 37.89, 37.88, 38.62, 34.91, 38.54, 34.15, 32.71, 39.93, 37.66, 37.78, 38.95, 37.92, 38.58, 32.81, 35.99, 37.52, 34.29, 33.92, 34.58, 36.19, 38.63, 37.85, 33.75, 40.58, 33.77, 33.63, 34.02, 36.6, 37.67, 34.0, 32.81, 33.42, 33.96, 37.73, 35.34, 37.91, 33.82, 34.09, 34.01, 33.94, 34.19, 33.92, 34.06, 34.07, 34.29, 35.79, 38.01, 40.77, 34.15, 33.77, 37.98, 34.99, 33.78, 33.95, 33.17, 37.94, 37.26, 37.8, 34.25, 40.51, 33.91, 36.77, 37.75, 33.88, 34.19, 37.9, 33.63, 33.61, 33.86, 38.68, 37.73, 38.85, 37.61, 38.66, 36.78, 33.98, 35.35, 33.84, 37.78, 33.78, 34.17, 38.46, 39.79, 39.74, 38.41, 33.93, 34.13, 36.35, 33.95, 36.68, 37.55, 34.29, 33.86, 40.07, 33.61, 32.75, 33.8, 36.61, 37.79, 34.03, 37.96, 33.83, 39.15, 32.84, 34.12, 38.67, 34.12, 36.85, 32.8, 36.96, 34.38, 37.79, 34.12, 37.0, 33.98, 34.05, 37.49, 33.88, 33.77, 34.08, 33.82, 34.16, 36.09, 34.01, 34.01, 37.28, 35.55, 38.38, 32.99, 36.82, 38.55, 37.68, 34.05, 33.97, 33.84, 36.97, 38.22, 32.9, 32.64, 33.79, 34.04, 33.82, 40.54, 34.01, 33.94, 38.69, 37.77, 37.66, 37.59, 37.54, 38.02, 33.83, 33.75, 34.13, 34.22, 34.44, 37.75, 34.18, 37.34, 35.0, 33.88, 34.43, 34.19, 37.75, 32.84, 33.68, 35.5, 38.6, 38.68, 33.79, 38.71, 36.95, 33.65, 41.13, 37.96, 34.15, 33.74, 37.34, 34.0, 33.9, 34.03, 34.39, 35.11, 34.08, 35.06, 33.94, 34.29, 39.13, 38.92, 39.79, 35.12, 33.7, 33.63, 33.82, 37.78, 34.04, 37.89, 36.49, 38.26, 34.01, 33.74, 37.98, 33.93, 34.02, 37.65, 33.63, 32.77, 34.0, 37.97, 33.79, 32.57, 32.81, 38.59, 37.39, 36.34, 33.71, 34.11, 37.69, 35.36, 37.78, 34.09, 33.8, 34.27, 33.85, 33.75, 37.78, 33.61, 37.66, 34.22, 34.05, 33.02, 34.06, 37.9, 33.95, 40.81, 40.62, 36.78, 34.25, 38.29, 33.77, 33.87, 38.67, 38.46, 34.4, 36.93, 37.11, 34.02, 36.09, 37.85, 33.87, 35.04, 33.98, 34.26, 32.76, 33.87, 34.66, 37.26, 32.68, 33.65, 33.81, 33.78, 34.12, 32.67, 37.95, 34.06, 34.2, 34.1, 32.92, 37.71, 33.82, 33.89, 37.85, 33.8, 34.11, 37.83, 36.71, 33.2, 33.86, 40.05, 39.74, 34.03, 34.13, 34.21, 34.19, 37.53, 38.15, 38.53, 34.22, 32.79, 38.54, 35.33, 33.87, 33.98, 32.72, 39.91, 34.86, 37.98, 33.6, 34.0, 37.71, 34.4, 33.88, 33.91, 38.02, 34.16, 33.77, 32.68, 32.74, 34.19, 35.41, 37.82, 32.75, 33.51, 37.76, 34.14, 36.83, 34.4, 37.33, 33.84, 36.62, 37.67, 34.71, 37.33, 34.07, 34.1, 38.27, 37.24, 34.25, 32.76, 37.89, 37.84, 37.31, 38.53, 34.1, 39.72, 34.02, 33.63, 37.64, 37.72, 34.01, 37.73, 39.5, 32.73, 33.97, 33.98, 34.21, 37.95, 34.06, 33.92, 34.2, 38.47, 35.33, 34.83, 34.56, 33.03, 38.54, 34.4, 37.86, 33.99, 34.0, 38.56, 33.78, 32.82, 39.15, 39.05, 36.21, 37.76, 32.75, 34.01, 33.8, 37.19, 34.15, 33.8, 37.87, 36.53, 37.89, 33.85, 33.93, 33.99, 38.35, 34.06, 40.58, 37.37, 32.84, 37.43, 33.79, 33.73, 37.94, 39.05, 34.02, 35.35, 37.94, 35.4, 33.81, 34.02, 41.32, 38.69, 37.76, 38.0, 33.6, 37.61, 32.85, 34.23, 32.87, 34.05, 35.28, 34.01, 37.64, 34.0, 39.1, 33.86, 34.08, 36.94, 38.35, 38.64, 33.96, 33.94, 34.27, 36.82, 34.11, 37.73, 37.27, 34.6, 38.64, 37.87, 33.92, 40.95, 34.07, 32.78, 40.29, 32.83, 38.33, 33.16, 37.93, 34.02, 34.42, 33.82, 33.67, 34.06, 37.35, 34.13, 37.64, 38.72, 34.18, 38.36, 33.34, 37.76, 33.93, 33.73, 34.08, 33.97, 37.7, 37.91, 33.92, 37.78, 38.72, 33.98, 38.68, 34.01, 36.75, 36.83, 33.84, 33.92, 33.92, 38.59, 41.02, 37.33, 33.78, 34.03, 34.11, 33.96, 33.66, 32.74, 34.26, 36.32, 37.68, 34.09, 36.06, 38.67, 34.19, 37.95, 33.97, 33.73, 38.69, 33.07, 38.94, 33.84, 32.84, 33.9, 35.3, 33.61, 37.55, 33.64, 37.37, 34.04, 34.17, 38.62, 37.69, 33.82, 35.15, 38.59, 36.9, 33.77, 34.28, 32.58, 34.4, 40.22, 32.72, 32.63, 37.7, 34.04, 37.78, 34.69, 34.04, 34.92, 33.33, 37.76, 38.68, 38.41, 33.96, 34.14, 39.24, 36.74, 34.11, 36.8, 33.25, 38.51, 36.98, 37.79, 33.64, 36.75, 37.29, 38.87, 33.43, 37.72, 33.63, 34.97, 40.57, 37.32, 34.09, 37.98, 34.17, 34.1, 33.42, 33.97, 36.77, 37.13, 36.82, 34.04, 38.0, 35.61, 34.25, 34.13, 38.66, 34.21, 34.96, 33.91, 33.65, 33.66, 33.76, 33.94, 32.74, 38.48, 37.74, 33.93, 37.83, 34.41, 33.42, 32.67, 37.64, 34.11, 36.55, 38.48, 37.68, 37.35, 37.6, 38.31, 34.02, 34.22, 39.08, 39.07, 34.07, 34.05, 34.15, 34.14, 37.35, 33.96, 34.11, 34.28, 32.92, 33.72, 37.82, 32.74, 38.72, 37.86, 33.96, 34.08, 34.05, 33.21, 35.39, 32.94, 38.93, 37.76, 37.87, 32.78, 37.59, 32.92, 32.8, 33.86, 33.66, 33.93, 38.65, 33.76, 34.15, 37.74, 37.61, 37.97, 37.25, 39.32, 37.44, 38.65, 33.8, 34.12, 38.05, 36.86, 35.36, 34.16, 33.96, 34.13, 34.14, 33.86, 33.67, 34.71, 37.83, 34.06, 37.76, 37.34, 37.68, 33.85, 34.15, 37.95, 40.58, 37.26, 38.5, 33.94, 39.27, 37.94, 33.98, 33.89, 32.8, 38.1, 38.42, 38.91, 32.77, 34.26, 40.81, 37.68, 37.44, 34.09, 37.43, 33.82, 34.09, 37.25, 33.98, 33.99, 33.78, 35.31, 33.92, 38.55, 37.25, 32.78, 33.72, 37.1, 37.8, 32.72, 36.67, 33.85, 33.68, 33.69, 37.98, 34.01, 32.75, 38.55, 33.94, 33.94, 33.97, 38.03, 33.85, 33.81, 37.79, 36.34, 34.13, 38.7, 38.74, 33.89, 37.8, 39.75, 33.98, 33.8, 34.05, 34.09, 33.6, 33.8, 36.09, 36.75, 33.99, 33.93, 32.74, 33.8, 34.21, 33.88, 36.39, 34.89, 41.28, 36.13, 34.07, 34.2, 37.74, 33.78, 37.95, 34.19, 33.91, 32.74, 38.97, 34.91, 32.61, 33.5, 33.63, 34.02, 33.92, 37.78, 34.12, 38.16, 37.48, 34.07, 40.62, 37.78, 33.84, 33.75, 38.63, 34.11, 37.36, 38.02, 36.72, 33.94, 34.16, 40.57, 34.04, 33.86, 33.63, 34.09, 33.98, 39.75, 32.69, 36.32, 32.79, 34.17, 41.36, 37.98, 39.5, 34.09, 34.14, 36.88, 37.8, 33.88, 33.98, 34.97, 38.83, 32.8, 37.48, 32.63, 37.57, 36.27, 33.89, 37.77, 37.97, 33.72, 34.1, 37.86, 37.27, 33.97, 37.64, 36.21, 37.91, 35.23, 33.81, 33.15, 34.06, 37.88, 34.03, 33.77, 33.96, 36.1, 37.8, 37.5, 34.11, 34.15, 41.8, 32.8, 37.64, 34.09, 32.75, 34.38, 34.1, 37.95, 34.01, 33.19, 39.56, 37.78, 37.8, 37.97, 33.99, 37.99, 34.17, 35.63, 34.89, 34.22, 34.38, 33.75, 36.55, 34.15, 33.95, 37.32, 34.01, 34.08, 34.15, 33.99, 37.78, 38.03, 39.44, 33.19, 34.83, 32.69, 38.01, 33.52, 37.67, 34.19, 33.83, 34.12, 37.56, 34.03, 34.32, 37.77, 34.27, 36.75, 40.18, 33.88, 32.58, 34.09, 33.92, 34.87, 36.05, 33.64, 38.02, 33.98, 32.73, 34.18, 34.27, 37.31, 33.99, 37.81, 37.82, 34.39, 33.61, 34.07, 32.73, 33.2, 38.12, 33.99, 33.96, 37.35, 34.46, 40.07, 33.8, 33.7, 34.2, 34.1, 37.75, 36.79, 35.38, 37.79, 34.07, 34.02, 35.31, 32.63, 36.75, 34.04, 32.76, 33.83, 37.88, 33.89, 38.56, 37.96, 35.36, 38.31, 37.78, 34.1, 37.81, 41.04, 34.03, 38.5, 38.36, 37.53, 33.87, 34.53, 34.23, 34.02, 34.02, 36.3, 34.21, 37.46, 34.25, 32.57, 37.59, 34.02, 33.86, 37.68, 38.65, 34.01, 33.72, 35.27, 35.47, 33.74, 34.07, 34.22, 34.4, 37.48, 34.08, 33.7, 38.03, 33.88, 33.74, 38.47, 35.37, 34.18, 36.67, 37.74, 33.42, 34.12, 38.7, 38.04, 37.67, 33.78, 33.88, 34.23, 33.9, 34.12, 40.6, 40.88, 33.75, 36.09, 39.77, 33.98, 37.69, 33.77, 35.65, 34.27, 36.31, 34.03, 37.74, 33.79, 36.58, 34.1, 34.53, 35.42, 37.78, 36.76, 33.98, 34.18, 33.96, 34.55, 40.58, 37.98, 34.0, 41.12, 37.93, 37.72, 37.19, 35.04, 34.07, 37.7, 37.65, 36.81, 32.8, 38.45, 33.78, 33.24, 37.25, 33.47, 37.98, 33.91, 33.18, 37.73, 36.72, 37.0, 33.75, 33.96, 33.97, 33.89, 33.91, 33.88, 34.11, 37.66, 33.85, 37.39, 37.99, 32.63, 33.88, 40.69, 33.99, 35.51, 34.71, 37.45, 33.47, 38.63, 37.37, 37.53, 33.75, 33.01, 38.91, 37.61, 37.93, 34.03, 32.63, 33.92, 33.14, 37.77, 34.09, 39.71, 35.39, 33.71, 33.8, 33.89, 37.34, 33.91, 34.05, 34.05, 37.95, 34.21, 38.67, 34.15, 34.46, 33.8, 37.6, 34.07, 32.81, 38.01, 35.37, 34.21, 36.61, 39.12, 32.8, 34.15, 39.74, 33.08, 34.18, 37.97, 38.1, 34.09, 37.34, 38.38, 33.81, 38.03, 36.98, 32.72, 38.0, 40.94, 32.8, 34.11, 35.13, 37.75, 35.5, 40.53, 34.05, 34.0, 36.96, 38.44, 38.05, 33.86, 38.58, 34.17, 37.79, 32.7, 36.05, 34.02, 38.3, 34.1, 33.99, 37.23, 33.77, 33.95, 37.63, 33.84, 36.8, 33.97, 37.48, 37.95, 34.16, 38.53, 37.95, 37.37, 36.65, 32.83, 33.97, 36.05, 32.7, 32.56, 32.84, 33.97, 40.37, 34.06, 33.88, 33.82, 39.23, 38.65, 37.85, 34.42, 33.84, 32.6, 35.39, 33.97, 37.74, 35.64, 33.87, 36.21, 38.56, 37.77, 38.64, 33.92, 34.42, 34.16, 34.11, 38.16, 34.97, 36.3, 37.34, 37.71, 32.87, 33.74, 33.88, 34.13, 36.24, 38.23, 33.72, 36.55, 34.12, 36.56, 37.69, 34.13, 33.77, 37.93, 37.32, 34.16, 39.26, 37.4, 34.08, 39.76, 34.07, 34.02, 33.99, 33.81, 40.63, 37.67, 33.86, 38.56, 36.43, 34.06, 34.16, 38.68, 37.89, 37.38, 37.16, 34.26, 33.95, 34.06, 37.44, 37.96, 33.78, 38.1, 33.78, 33.25, 33.85, 39.23, 33.98, 33.23, 34.17, 38.28, 38.0, 34.17, 34.13, 34.08, 37.7, 33.69, 33.98, 34.1, 38.6, 34.05, 38.49, 38.04, 33.92, 40.23, 33.98, 32.75, 33.8, 36.32, 34.08, 33.82, 33.79, 33.96, 34.18, 38.29, 33.69, 34.45, 37.88, 32.79, 33.71, 34.12, 36.72, 36.75, 34.11, 34.15, 33.38, 33.86, 36.2, 32.67, 33.71, 37.68, 36.69, 32.77, 33.74, 38.73, 37.77, 38.01, 33.85, 33.85, 38.28, 33.82, 37.95, 33.7, 33.68, 37.81, 33.8, 36.65, 34.2, 36.84, 37.4, 32.76, 37.75, 38.02, 34.1, 34.08, 33.92, 32.74, 38.57, 34.08, 33.81, 33.96, 32.74, 33.94, 38.73, 37.29, 36.72, 33.78, 38.53, 34.21, 39.68, 33.94, 33.93, 33.88, 34.09, 33.21, 39.37, 34.07, 34.09, 34.05, 37.81, 33.55, 38.15, 37.93, 32.85, 33.88, 34.06, 33.97, 34.05, 38.65, 36.42, 33.69, 37.58, 34.12, 37.3, 37.35, 33.89, 38.6, 39.13, 34.44, 36.79, 35.77, 34.0, 35.87, 34.06, 33.6, 37.97, 38.92, 33.92, 32.76, 33.82, 36.83, 34.17, 32.8, 37.93, 33.91, 34.02, 34.0, 34.14, 33.9, 34.08, 38.58, 34.26, 39.96, 36.59, 37.48, 34.17, 34.03, 34.25, 34.22, 32.79, 34.3, 35.7, 35.74, 34.06, 37.43, 33.77, 34.02, 37.94, 34.43, 32.61, 34.29, 34.28, 33.89, 34.14, 34.27, 33.65, 37.95, 36.16, 33.68, 33.82, 37.84, 34.41, 34.26, 38.73, 34.0, 37.75, 37.96, 33.8, 38.43, 37.75, 37.62, 34.25, 34.18, 33.82, 36.77, 38.46, 34.08, 37.6, 34.23, 35.35, 37.58, 33.8, 34.31, 33.89, 34.07, 34.27, 33.98, 32.78, 33.63, 34.02, 34.11, 37.92, 34.04, 32.75, 34.23, 36.98, 33.88, 33.79, 37.9, 33.97, 33.99, 38.01, 34.03, 34.28, 38.69, 33.57, 33.9, 33.92, 36.85, 32.8, 33.74, 34.08, 34.28, 35.36, 34.07, 36.7, 34.09, 38.55, 33.76, 37.48, 34.11, 40.78, 34.11, 33.51, 37.42, 37.58, 37.42, 33.99, 34.95, 33.87, 37.72, 37.75, 34.37, 40.56, 37.82, 34.02, 39.21, 37.32, 33.9, 37.96, 34.11, 33.68, 38.62, 36.99, 33.76, 33.99, 38.49, 33.76, 33.87, 41.54, 37.68, 38.65, 37.79, 35.97, 39.09, 33.85, 37.08, 37.99, 34.24, 33.71, 34.03, 37.27, 33.8, 37.37, 37.35, 38.43, 34.14, 38.57, 33.95, 34.19, 33.83, 37.83, 36.61, 33.8, 37.33, 33.79, 32.79, 33.65, 33.77, 34.18, 33.84, 34.44, 37.93, 33.86, 36.54, 34.15, 34.15, 38.52, 33.67, 33.89, 34.3, 34.04, 37.57, 32.93, 33.81, 33.86, 33.8, 39.12, 34.19, 33.92, 33.86, 34.0, 37.89, 37.27, 38.0, 36.93, 37.99, 39.43, 34.04, 36.01, 37.62, 37.93, 34.18, 35.36, 34.05, 38.0, 37.92, 34.05, 38.43, 33.77, 38.41, 38.31, 38.36, 36.75, 36.54, 32.7, 37.37, 34.67, 38.67, 33.64, 34.14, 37.39, 37.81, 33.78, 37.72, 33.87, 37.73, 34.18, 33.97, 33.83, 33.75, 37.51, 37.92, 33.9, 33.94, 38.67, 37.55, 40.07, 37.73, 32.86, 37.77, 34.2, 37.88, 37.94, 34.2, 37.46, 32.84, 34.05, 39.53, 33.82, 34.46, 36.1, 37.54, 37.94, 33.84, 37.9, 34.39, 33.78, 34.06, 33.94, 32.8, 38.9, 33.92, 38.57, 32.72, 33.78, 34.18, 37.61, 34.67, 36.81, 33.99, 37.15, 38.05, 39.44, 34.2, 34.08, 33.93, 35.13, 34.43, 34.26, 34.08, 37.75, 33.81, 34.04, 33.96, 37.94, 34.54, 33.96, 33.79, 34.04, 36.86, 32.8, 36.77, 34.07, 38.42, 40.73, 34.08, 34.04, 34.19, 39.2, 34.05, 37.74, 38.89, 34.26, 39.6, 38.36, 37.3, 39.8, 38.51, 33.99, 32.87, 34.04, 38.52, 33.64, 33.78, 37.75, 34.05, 37.73, 34.04, 34.11, 37.98, 34.1, 34.03, 33.97, 37.77, 33.77, 33.97, 33.94, 37.91, 34.05, 38.48, 36.94, 37.73, 33.94, 33.24, 33.75, 33.36, 34.04, 33.63, 38.61, 38.5, 37.69, 34.48, 36.33, 40.02, 38.02, 32.67, 34.33, 37.69, 34.04, 32.81, 38.8, 33.73, 34.14, 38.4, 34.14, 37.86, 37.75, 37.95, 32.7, 33.88, 38.59, 33.87, 37.53, 37.24, 34.19, 34.58, 32.9, 33.66, 33.67, 38.67, 34.06, 34.02, 38.27, 33.19, 34.16, 38.48, 33.9, 37.88, 34.06, 33.23, 37.99, 34.3, 33.94, 33.84, 37.73, 33.97, 34.04, 32.77, 34.12, 36.77, 34.07, 37.43, 36.35, 41.32, 33.76, 33.36, 34.1, 32.76, 37.4, 34.16, 38.57, 35.64, 33.74, 33.22, 37.31, 37.53, 34.04, 37.33, 38.26, 34.16, 37.53, 34.26, 39.21, 36.61, 37.64, 38.64, 33.86, 34.11, 37.97, 37.8, 34.03, 38.51, 33.91, 32.74, 34.0, 33.72, 40.67, 37.46, 33.95, 37.81, 37.32, 35.38, 37.78, 32.72, 32.81, 34.23, 33.19, 37.74, 33.1, 38.25, 37.24, 36.18, 38.35, 37.8, 34.3, 33.93, 33.83, 33.93, 34.0, 34.4, 33.8, 33.9, 37.75, 34.04, 38.55, 34.21, 33.93, 34.21, 34.14, 33.91, 38.81, 35.42, 33.96, 36.6, 32.77, 39.02, 37.44, 34.1, 37.28, 38.71, 33.83, 37.59, 33.75, 33.99, 36.96, 38.68, 33.62, 36.57, 34.91, 39.23, 33.72, 37.96, 39.25, 33.78, 32.69, 39.06, 34.17, 37.75, 37.46, 34.22, 34.11, 34.0, 37.9, 34.19, 34.06, 33.03, 34.06, 33.7, 38.8, 35.06, 34.03, 34.12, 34.06, 36.62, 35.33, 33.88, 34.22, 32.73, 38.23, 33.85, 38.64, 34.08, 33.83, 33.82, 33.98, 34.03, 34.06, 37.61, 33.46, 38.62, 36.42, 34.04, 38.62, 39.18, 32.79, 33.75, 37.75, 34.24, 33.99, 37.48, 32.81, 37.9, 37.39, 34.09, 32.76, 37.66, 34.14, 37.82, 34.19, 34.06, 33.77, 34.1, 35.38, 39.14, 34.01, 34.11, 33.78, 32.73, 37.65, 37.98, 33.93, 32.62, 35.56, 34.01, 32.59, 34.09, 33.89, 39.1, 38.35, 33.74, 34.19, 33.72, 33.89, 38.53, 34.42, 33.97, 34.16, 33.82, 33.72, 34.02, 38.55, 37.8, 34.96, 37.62, 34.7, 38.1, 34.49, 38.39, 38.23, 33.84, 36.83, 37.06, 34.06, 34.04, 33.74, 34.69, 34.07, 34.28, 36.35, 38.94, 33.94, 34.07, 32.6, 38.6, 33.94, 32.85, 37.56, 37.76, 32.99, 38.03, 34.16, 33.62, 33.69, 36.96, 33.88, 32.79, 37.92, 37.42, 34.6, 34.06, 32.8, 32.94, 36.06, 34.12, 34.37, 37.28, 38.25, 37.68, 35.32, 32.57, 37.67, 33.98, 34.07, 34.08, 41.31, 37.77, 33.78, 34.03, 37.04, 37.35, 33.49, 37.3, 38.62, 34.28, 37.25, 36.58, 33.1, 34.02, 33.88, 33.85, 37.0, 34.02, 36.32, 37.43, 33.78, 34.23, 34.44, 32.8, 37.49, 33.88, 33.99, 38.24, 37.78, 37.84, 37.84, 33.97, 33.95, 32.8, 34.06, 40.42, 34.09, 37.92, 32.68, 33.98, 36.75, 33.83, 33.73, 34.2, 34.27, 37.35, 35.2, 38.07, 38.54, 34.68, 34.49, 38.42, 37.46, 32.6, 33.9, 38.96, 40.85, 34.1, 33.88, 33.72, 37.88, 37.43, 37.12, 35.76, 34.01, 36.69, 37.36, 34.2, 33.96, 32.58, 33.72, 34.1, 37.76, 37.63, 38.43, 33.91, 34.72, 33.88, 32.68, 34.82, 34.16, 37.25, 32.9, 37.76, 37.37, 32.75, 37.82, 37.78, 37.05, 34.11, 37.99, 33.89, 37.56, 33.77, 33.81, 36.33, 32.75, 37.39, 36.84, 37.74, 34.15, 37.31, 33.48, 34.09, 32.98, 37.55, 37.4, 37.97, 36.69, 37.72, 34.03, 33.91, 33.79, 37.86, 32.86, 38.69, 39.05, 34.1, 38.34, 37.33, 37.86, 34.19, 32.69, 37.68, 34.07, 32.75, 37.47, 32.81, 33.92, 34.3, 34.97, 38.67, 34.05, 37.28, 34.08, 40.9, 34.0, 38.1, 37.81, 38.89, 40.4, 36.83, 34.16, 37.73, 35.12, 37.26, 37.94, 37.32, 37.35, 33.67, 34.19, 34.28, 36.72, 37.74, 37.37, 34.16, 33.89, 34.44, 33.89, 33.83, 34.07, 34.12, 32.75, 35.14, 32.79, 34.0, 33.65, 37.35, 33.72, 40.69, 34.09, 33.53, 34.26, 32.78, 37.73, 33.92, 34.02, 33.96, 36.91, 34.01, 34.1, 38.03, 33.04, 34.24, 36.72, 37.31, 33.94, 34.01, 34.14, 34.17, 34.06, 38.56, 32.9, 36.2, 34.05, 33.78, 33.7, 39.12, 33.61, 33.76, 33.82, 34.15, 37.38, 32.95, 33.9, 34.05, 37.3, 33.89, 33.61, 36.74, 38.25, 33.77, 33.87, 34.03, 33.99, 37.23, 39.65, 33.92, 34.03, 34.09, 37.6, 33.93, 32.8, 33.94, 33.63, 34.15, 40.2, 37.98, 37.73, 37.04, 37.67, 36.29, 33.92, 37.8, 34.22, 37.36, 33.92, 34.06, 37.67, 38.68, 33.96, 34.05, 34.1, 37.47, 37.56, 34.05, 32.85, 37.58, 32.97, 33.72, 37.29, 33.74, 37.67, 33.84, 38.46, 33.03, 38.13, 33.75, 34.25, 34.01, 38.55, 36.08, 32.81, 34.06, 38.65, 33.91, 37.86, 35.27, 34.01, 33.06, 37.82, 33.66, 33.94, 37.71, 35.11, 39.78, 38.72, 36.92, 34.01, 34.07, 38.71, 36.85, 33.65, 37.93, 34.08, 36.07, 40.49, 36.71, 38.65, 39.15, 32.72, 34.0, 33.99, 34.14, 33.92, 34.06, 33.87, 36.73, 37.97, 33.46, 32.78, 33.77, 34.1, 38.61, 33.89, 33.89, 33.67, 37.66, 34.09, 33.74, 36.87, 33.64, 33.19, 37.75, 33.72, 37.85, 34.55, 32.91, 34.16, 37.36, 38.63, 34.06, 35.62, 37.75, 33.98, 36.72, 36.35, 37.45, 34.14, 37.75, 37.48, 37.27, 37.57, 37.79, 36.49, 40.6, 34.04, 32.74, 33.83, 34.49, 32.71, 33.64, 37.26, 32.74, 33.85, 36.51, 34.11, 38.97, 34.0, 33.9, 38.64, 34.03, 34.23, 33.94, 34.06, 37.41, 33.62, 37.23, 33.43, 33.78, 38.94, 38.89, 34.19, 34.19, 37.75, 33.63, 33.89, 35.38, 37.63, 37.94, 36.98, 33.96, 34.07, 37.77, 38.31, 36.27, 35.4, 33.78, 33.96, 37.34, 33.92, 34.1, 34.17, 33.71, 33.93, 36.97, 33.96, 33.91, 34.22, 33.99, 37.97, 39.11, 33.85, 33.16, 35.14, 33.88, 39.04, 34.06, 33.82, 33.74, 37.63, 34.03, 33.97, 37.29, 33.27, 40.61, 38.73, 35.95, 37.81, 33.61, 33.75, 39.24, 37.81, 33.88, 34.26, 34.05, 38.25, 32.83, 33.89, 32.74, 34.25, 33.98, 33.95, 37.33, 34.38, 32.95, 34.08, 37.7, 37.8, 38.42, 33.79, 38.74, 34.25, 34.06, 38.43, 34.05, 34.19, 37.72, 37.63, 33.92, 33.93, 37.73, 36.55, 32.65, 34.94, 34.06, 33.64, 34.23, 34.08, 33.75, 37.69, 37.68, 37.93, 34.09, 34.12, 33.64, 38.66, 40.48, 34.1, 38.02, 34.05, 37.89, 34.13, 37.49, 33.66, 38.64, 33.91, 34.05, 40.56, 33.78, 37.62, 37.91, 38.07, 37.7, 39.15, 36.3, 40.19, 34.1, 38.12, 33.95, 37.69, 37.87, 33.95, 34.08, 35.32, 38.0, 37.78, 33.89, 37.96, 34.09, 34.42, 40.18, 34.0, 36.9, 34.6, 33.96, 33.91, 34.19, 39.27, 37.56, 38.34, 34.19, 37.67, 33.97, 37.73, 33.87, 34.11, 38.64, 34.16, 34.07, 38.65, 35.42, 38.73, 36.8, 37.9, 37.56, 34.05, 38.91, 36.58, 33.87, 33.91, 36.59, 40.45, 33.76, 34.14, 33.98, 34.06, 37.86, 33.13, 32.86, 38.58, 33.88, 34.07, 37.81, 33.88, 33.94, 32.79, 33.97, 34.07, 33.65, 33.86, 38.71, 33.65, 34.08, 39.75, 33.95, 37.95, 33.68, 37.99, 36.85, 32.89, 32.74, 33.72, 34.16, 38.78, 34.07, 38.63, 34.07, 33.74, 33.74, 33.72, 34.27, 33.72, 39.15, 34.38, 38.35, 37.57, 34.04, 34.22, 33.93, 33.77, 34.23, 34.06, 36.15, 33.05, 37.68, 34.42, 38.02, 34.12, 33.52, 37.96, 33.97, 33.87, 34.47, 34.14, 37.52, 37.71, 34.13, 37.86, 37.67, 34.33, 34.06, 37.95, 37.8, 38.25, 34.03, 32.74, 33.75, 38.24, 34.01, 38.82, 33.98, 34.03, 34.05, 32.77, 38.53, 33.96, 37.96, 34.05, 36.6, 34.02, 37.76, 34.16, 34.04, 33.99, 34.05, 37.93, 37.29, 37.11, 33.99, 34.57, 37.37, 38.32, 33.71, 33.93, 33.98, 34.17, 34.01, 33.48, 38.06, 33.93, 38.43, 36.57, 33.63, 34.45, 37.75, 37.53, 37.31, 36.76, 38.39, 34.28, 33.64, 32.78, 34.28, 34.01, 37.37, 33.48, 33.77, 33.83, 37.64, 38.83, 34.71, 34.0, 38.15, 38.0, 34.18, 38.89, 33.16, 37.76, 38.56, 37.38, 34.12, 33.91, 34.18, 32.58, 33.21, 39.15, 37.35, 33.78, 33.97, 34.16, 33.81, 40.81, 33.73, 38.08, 36.98, 33.93, 33.91, 37.92, 33.92, 37.97, 37.47, 34.25, 33.19, 34.75, 37.7, 38.53, 37.72, 34.02, 38.57, 39.68, 39.29, 37.79, 33.88, 37.35, 37.38, 38.57, 37.31, 37.77, 37.25, 33.93, 37.74, 37.54, 33.86, 33.89, 34.08, 38.14, 35.63, 34.0, 34.09, 32.96, 36.75, 33.9, 36.92, 33.97, 34.04, 34.15, 35.38, 33.68, 37.95, 37.58, 36.62, 37.81, 37.97, 34.08, 33.99, 33.22, 34.12, 34.03, 34.15, 34.03, 37.27, 34.07, 33.86, 33.96, 34.07, 33.8, 33.84, 34.24, 33.95, 37.79, 33.98, 33.83, 32.7, 33.92, 33.86, 34.06, 38.54, 37.37, 33.67, 36.5, 34.96, 37.32, 33.84, 39.09, 37.82, 36.52, 37.8, 38.3, 37.86, 37.77, 35.65, 40.59, 34.13, 38.38, 38.57, 33.92, 33.67, 37.56, 38.23, 36.62, 34.17, 34.06, 38.34, 40.51, 37.99, 33.43, 37.53, 38.51, 37.64, 33.02, 37.25, 34.11, 34.18, 33.83, 37.48, 32.58, 32.87, 32.76, 32.84, 38.54, 38.69, 33.92, 34.0, 34.09, 38.58, 32.99, 40.14, 34.06, 38.04, 34.06, 34.2, 32.57, 33.77, 37.94, 36.75, 33.88, 34.13, 37.31, 38.27, 37.84, 34.02, 38.68, 33.68, 38.65, 39.07, 38.12, 37.97, 34.17, 33.93, 33.98, 33.94, 34.1, 34.29, 33.79, 33.6, 37.41, 37.81, 34.1, 36.09, 33.98, 32.78, 34.15, 34.03, 32.76, 33.85, 33.98, 34.03, 32.69, 33.99, 34.07, 34.23, 37.83, 33.71, 36.72, 39.0, 35.3, 33.61, 36.55, 33.8, 34.05, 37.76, 33.67, 34.2, 33.74, 37.88, 36.37, 37.66, 38.52, 34.17, 36.62, 32.71, 36.55, 37.46, 33.94, 33.49, 33.89, 32.82, 33.2, 38.32, 38.96, 34.02, 34.13, 37.53, 37.66, 36.83, 38.61, 34.04, 37.71, 33.92, 39.09, 37.75, 38.5, 36.4, 37.56, 37.57, 33.96, 33.98, 37.62, 33.63, 37.75, 37.77, 37.32, 37.35, 37.12, 37.66, 32.71, 37.74, 39.83, 33.93, 37.48, 38.44, 33.84, 33.51, 34.03, 37.09, 38.42, 38.51, 32.77, 38.29, 33.85, 32.63, 33.86, 37.5, 40.58, 34.02, 33.07, 34.59, 38.5, 34.0, 33.65, 33.85, 37.27, 33.81, 33.93, 38.37, 37.37, 34.14, 34.11, 37.74, 34.93, 37.54, 34.1, 33.72, 35.0, 37.85, 37.35, 38.53, 32.79, 34.04, 37.67, 36.69, 38.57, 33.7, 32.77, 37.71, 37.8, 33.96, 39.83, 34.06, 33.76, 37.88, 38.52, 34.05, 33.72, 34.17, 38.55, 33.97, 38.66, 32.75, 33.88, 34.13, 37.24, 33.85, 37.74, 34.08, 37.66, 33.92, 34.17, 34.23, 34.01, 33.98, 33.81, 38.78, 38.55, 32.8, 34.1, 33.8, 41.76, 33.88, 36.6, 32.91, 37.43, 37.4, 37.24, 34.08, 33.47, 33.09, 36.22, 34.06, 36.57, 33.88, 34.11, 33.57, 37.78, 37.53, 34.62, 37.28, 37.6, 37.6, 36.64, 37.83, 33.66, 34.16, 33.66, 36.96, 37.93, 33.86, 34.34, 37.66, 34.01, 37.39, 37.72, 33.66, 34.17, 36.83, 38.6, 32.75, 37.29, 34.28, 34.29, 38.11, 37.58, 32.82, 33.99, 34.2, 37.71, 35.88, 37.38, 32.79, 33.87, 37.99, 34.22, 37.7, 36.67, 32.99, 32.72, 33.3, 33.04, 33.95, 39.16, 38.75, 38.45, 33.16, 37.9, 33.95, 34.06, 32.61, 33.84, 38.11, 36.42, 33.95, 38.63, 39.14, 34.5, 37.53, 34.25, 37.79, 37.65, 38.0, 37.93, 37.36, 38.24, 33.97, 33.91, 33.84, 32.78, 34.03, 34.26, 36.45, 33.52, 32.71, 36.76, 34.0, 34.04, 34.18, 34.07, 33.91, 34.07, 34.11, 33.95, 34.09, 34.08, 34.07, 35.32, 33.75, 37.65, 33.14, 36.81, 37.48, 38.66, 34.2, 41.38, 33.99, 33.93, 32.72, 34.31, 40.17, 37.45, 37.74, 33.74, 40.8, 33.83, 38.58, 34.63, 37.96, 37.84, 34.27, 34.05, 38.21, 33.93, 34.0, 39.2, 34.12, 33.88, 38.02, 33.93, 33.97, 34.01, 37.34, 33.9, 32.98, 34.12, 37.81, 33.89, 38.31, 32.85, 37.84, 36.71, 34.2, 34.06, 37.73, 38.34, 33.86, 37.65, 37.15, 34.28, 33.61, 38.56, 37.24, 32.9, 39.1, 33.2, 33.9, 36.19, 37.29, 38.29, 35.42, 38.81, 37.75, 38.37, 33.94, 34.1, 37.98, 34.09, 38.66, 34.2, 33.18, 36.98, 38.01, 37.25, 34.07, 35.91, 34.06, 32.81, 34.01, 37.69, 33.65, 32.8, 34.07, 34.27, 34.44, 37.97, 33.94, 33.93, 33.19, 37.7, 38.55, 35.38, 37.98, 34.07, 32.97, 34.03, 34.25, 38.36, 33.85, 34.19, 39.0, 37.42, 34.31, 37.3, 37.97, 37.87, 34.16, 34.12, 32.73, 33.87, 32.82, 32.96, 33.88, 33.82, 37.93, 38.34, 33.9, 39.11, 34.15, 35.38, 34.58, 33.72, 37.79, 34.06, 33.4, 33.75, 37.21, 33.81, 38.1, 33.82, 37.95, 34.05, 38.62, 32.73, 39.35, 35.62, 36.97, 33.18, 34.12, 34.19, 34.07, 32.63, 37.42, 34.0, 36.93, 36.93, 34.16, 34.24, 33.86, 33.85, 33.96, 32.75, 36.06, 38.44, 35.41, 34.4, 37.33, 34.58, 37.47, 37.62, 32.59, 33.83, 34.11, 32.58, 35.43, 33.18, 37.35, 33.97, 34.09, 37.09, 34.21, 34.01, 34.48, 33.96, 33.85, 34.4, 33.95, 40.57, 34.17, 33.85, 32.87, 33.81, 35.28, 34.16, 37.78, 34.24, 36.69, 34.17, 33.76, 33.92, 33.97, 39.53, 38.69, 37.34, 37.94, 34.2, 37.33, 33.93, 33.86, 34.16, 37.77, 33.95, 34.06, 33.79, 36.94, 34.14, 33.01, 39.2, 34.11, 33.74, 34.07, 38.45, 33.88, 33.99, 36.33, 34.12, 33.73, 34.04, 32.93, 34.95, 33.71, 34.54, 33.97, 36.53, 34.64, 37.99, 34.88, 34.69, 37.78, 33.66, 37.76, 34.64, 33.71, 34.03, 38.23, 33.12, 37.28, 38.95, 36.97, 38.48, 37.67, 38.71, 34.15, 37.62, 38.57, 37.45, 33.65, 36.95, 35.36, 38.05, 32.68, 34.14, 33.93, 38.01, 37.3, 40.61, 34.12, 37.77, 39.35, 38.98, 37.01, 34.03, 34.19, 33.86, 36.59, 34.68, 34.09, 34.1, 33.99, 34.08, 33.8, 36.98, 33.81, 35.33, 34.21, 33.93, 39.04, 32.69, 33.64, 37.8, 37.51, 38.54, 38.94, 34.03, 33.91, 34.02, 33.75, 34.12, 37.3, 36.2, 34.28, 37.73, 34.15, 37.8, 32.7, 33.79, 36.48, 37.34, 34.49, 37.8, 37.78, 33.92, 34.58, 39.37, 36.77, 34.25, 37.82, 33.99, 37.54, 39.71, 32.81, 36.96, 33.99, 37.76, 33.95, 34.19, 33.61, 38.81, 37.4, 35.43, 39.3, 34.19, 38.46, 37.36, 40.8, 38.25, 39.05, 33.88, 38.03, 34.59, 33.83, 34.05, 33.74, 34.39, 40.17, 34.43, 34.0, 36.77, 38.6, 38.44, 34.06, 34.49, 37.49, 34.16, 37.89, 33.94, 34.16, 38.01, 39.5, 38.36, 34.08, 38.53, 37.56, 37.89, 37.39, 37.87, 34.03, 38.02, 34.18, 39.75, 33.9, 40.8, 38.12, 33.88, 34.14, 34.16, 33.14, 37.89, 37.9, 40.52, 36.81, 33.53, 38.86, 33.98, 38.58, 34.06, 34.02, 33.92, 40.02, 33.81, 32.71, 37.69, 40.75, 38.27, 33.79, 34.52, 33.92, 33.17, 36.97, 34.0, 34.21, 33.92, 37.79, 33.81, 37.9, 33.98, 37.77, 37.21, 37.3, 37.7, 34.0, 34.09, 33.94, 32.82, 34.08, 38.07, 33.15, 34.06, 33.85, 40.93, 33.89, 37.65, 33.56, 38.8, 36.74, 32.67, 32.74, 35.96, 34.06, 34.12, 38.79, 34.12, 33.89, 38.47, 33.89, 37.84, 34.02, 35.36, 37.69, 36.3, 34.05, 33.98, 34.02, 33.82, 37.58, 33.78, 37.78, 37.21, 34.09, 37.81, 33.99, 35.64, 33.76, 37.36, 33.2, 37.94, 39.72, 37.8, 33.93, 38.75, 32.83, 32.72, 37.41, 34.22, 34.19, 34.1, 34.24, 34.16, 37.73, 37.69, 33.95, 34.28, 33.71, 34.38, 37.87, 33.68, 37.77, 37.34, 33.99, 37.49, 34.61, 37.22, 38.36, 36.75, 37.34, 32.74, 40.66, 33.94, 37.83, 36.16, 37.72, 37.76, 37.95, 37.62, 33.82, 38.02, 34.28, 33.99, 37.3, 32.79, 33.97, 34.15, 34.22, 33.79, 37.49, 38.01, 34.14, 34.01, 32.83, 34.04, 39.17, 32.69, 32.71, 37.92, 34.14, 33.83, 37.77, 38.69, 33.99, 33.74, 33.73, 37.76, 38.22, 36.2, 34.07, 37.29, 34.01, 34.21, 33.8, 39.24, 37.99, 36.69, 34.1, 38.8, 33.15, 36.59, 34.01, 32.79, 34.19, 34.58, 37.78, 34.21, 33.93, 37.55, 37.8, 33.93, 34.06, 37.61, 36.5, 33.92, 37.95, 33.71, 33.86, 34.03, 34.16, 37.44, 32.75, 37.08, 34.12, 38.14, 38.44, 32.91, 38.83, 37.81, 34.07, 36.75, 34.16, 36.97, 37.76, 36.54, 32.79, 38.0, 33.97, 35.68, 34.13, 33.37, 37.41, 36.8, 37.73, 34.11, 36.78, 33.23, 36.22, 39.1, 33.87, 32.86, 34.08, 33.84, 33.93, 39.66, 34.06, 34.21, 34.05, 33.74, 37.75, 34.04, 35.35, 34.12, 36.76, 37.73, 33.94, 37.97, 36.25, 34.15, 34.09, 33.77, 32.73, 37.6, 37.76, 37.49, 34.25, 34.1, 37.78, 33.68, 39.37, 38.73, 36.8, 33.83, 33.93, 34.03, 34.29, 35.32, 39.78, 34.17, 33.45, 32.84, 32.66, 34.96, 37.74, 34.11, 37.89, 33.81, 36.36, 38.54, 33.78, 36.91, 37.57, 37.62, 34.07, 34.11, 37.65, 39.51, 37.48, 33.91, 34.13, 32.77, 39.4, 33.92, 34.29, 34.15, 38.0, 36.2, 34.05, 34.05, 36.72, 34.14, 37.79, 32.78, 34.89, 41.74, 36.99, 37.94, 33.91, 37.6, 37.55, 37.39, 38.43, 36.83, 38.57, 40.78, 36.14, 32.75, 37.38, 38.67, 38.03, 37.65, 34.02, 37.39, 34.41, 37.14, 32.73, 38.8, 33.73, 39.24, 34.07, 39.15, 34.04, 34.13, 34.06, 37.23, 33.93, 37.78, 38.04, 38.14, 37.31, 32.83, 38.55, 32.76, 34.04, 33.59, 38.65, 38.53, 33.65, 33.92, 37.99, 33.7, 34.16, 34.0, 37.76, 36.59, 34.01, 38.01, 33.93, 37.33, 32.77, 36.82, 34.4, 37.85, 34.15, 38.38, 34.22, 34.13, 37.58, 34.03, 37.95, 33.71, 34.09, 38.5, 38.7, 33.82, 39.86, 32.7, 34.0, 38.45, 34.21, 33.84, 35.2, 33.92, 37.58, 34.44, 33.84, 34.08, 33.6, 34.43, 32.71, 41.73, 37.75, 34.04, 36.34, 38.02, 34.22, 36.74, 38.0, 37.38, 37.58, 34.09, 33.77, 38.68, 37.34, 32.76, 34.2, 40.6, 38.34, 34.14, 38.03, 38.68, 34.29, 34.1, 33.68, 37.84, 34.28, 37.88, 33.16, 37.7, 33.85, 37.59, 37.76, 37.97, 33.73, 37.37, 33.68, 34.07, 36.6, 33.97, 37.96, 34.06, 37.13, 35.62, 37.44, 34.15, 33.1, 33.91, 37.3, 34.02, 37.29, 34.09, 37.76, 34.18, 33.59, 37.5, 37.74, 33.39, 33.97, 37.68, 33.29, 40.16, 37.72, 39.17, 36.58, 33.79, 34.17, 38.44, 38.11, 34.18, 37.81, 37.7, 33.88, 34.04, 33.66, 34.03, 34.25, 38.77, 33.73, 34.87, 33.55, 35.13, 34.22, 34.06, 32.71, 33.76, 32.62, 32.75, 33.8, 38.71, 33.82, 33.8, 33.83, 37.77, 33.76, 37.32, 37.77, 38.02, 34.08, 34.15, 37.8, 38.3, 34.17, 32.66, 33.88, 34.11, 38.59, 37.81, 37.88, 33.74, 33.63, 33.84, 32.68, 34.13, 37.36, 37.68, 34.01, 34.37, 37.94, 37.58, 34.07, 35.38, 37.39, 37.03, 38.0, 37.95, 34.07, 32.7, 32.74, 34.13, 40.5, 38.67, 34.08, 37.78, 33.84, 33.73, 34.05, 38.69, 37.85, 36.08, 34.12, 34.09, 36.75, 36.99, 34.08, 33.95, 33.79, 32.86, 33.78, 33.94, 33.93, 34.05, 36.81, 37.25, 33.75, 32.82, 39.36, 39.21, 32.79, 33.96, 33.74, 33.85, 34.18, 33.75, 34.41, 33.98, 38.15, 33.87, 33.79, 37.53, 37.36, 38.32, 32.71, 33.71, 35.4, 37.76, 33.63, 34.1, 34.89, 34.02, 33.71, 40.2, 34.23, 33.72, 33.65, 34.16, 36.55, 37.24, 32.69, 33.72, 38.56, 34.15, 37.83, 37.25, 33.83, 33.8, 39.95, 38.9, 39.1, 33.67, 37.64, 41.43, 34.08, 38.74, 36.7, 32.77, 33.2, 36.76, 37.97, 38.17, 34.11, 34.07, 34.33, 33.88, 34.24, 37.24, 34.19, 33.74, 33.74, 39.11, 34.06, 32.81, 33.92, 37.77, 34.02, 37.61, 37.79, 34.21, 34.47, 34.03, 37.96, 34.16, 34.03, 32.75, 37.78, 36.83, 39.47, 34.58, 37.87, 33.14, 33.78, 37.74, 37.99, 33.97, 35.36, 34.18, 33.81, 34.35, 33.62, 33.9, 37.96, 37.69, 33.95, 34.22, 37.41, 38.09, 36.71, 39.1, 34.04, 34.18, 34.24, 34.44, 34.05, 37.26, 34.06, 34.06, 32.94, 33.19, 33.86, 32.82, 34.06, 37.71, 33.96, 34.12, 34.01, 34.03, 33.33, 32.7, 39.32, 34.18, 34.14, 34.45, 33.9, 34.09, 39.9, 34.1, 33.94, 37.9, 34.08, 34.05, 37.69, 37.66, 33.98, 34.27, 34.27, 34.15, 32.7, 33.77, 34.11, 34.15, 33.83, 32.8, 34.24, 34.0, 33.85, 32.79, 34.11, 34.64, 37.41, 36.95, 34.2, 34.1, 38.68, 37.66, 38.55, 33.99, 35.4, 37.94, 38.61, 33.86, 34.26, 37.25, 37.59, 34.03, 34.07, 34.19, 37.76, 37.69, 38.09, 34.66, 37.01, 37.8, 38.07, 34.12, 38.82, 37.37, 34.02, 33.65, 39.17, 36.59, 38.39, 34.28, 36.9, 33.9, 36.86, 33.72, 33.74, 33.94, 33.79, 33.94, 35.32, 34.17, 34.09, 33.51, 33.77, 34.01, 36.08, 34.08, 38.09, 34.19, 33.77, 32.71, 36.53, 37.8, 37.35, 37.69, 34.01, 33.02, 38.02, 37.73, 34.15, 33.78, 34.24, 34.09, 34.04, 34.11, 41.75, 36.33, 37.77, 38.67, 37.96, 34.08, 37.72, 38.54, 38.26, 34.14, 34.12, 39.14, 34.22, 32.71, 34.18, 38.6, 35.35, 36.62, 37.73, 33.87, 34.04, 33.5, 34.02, 33.89, 38.3, 38.67, 37.96, 37.54, 39.2, 34.15, 37.95, 33.04, 33.94, 35.42, 34.06, 33.98, 34.11, 34.02, 33.91, 34.12, 37.88, 34.06, 32.98, 34.11, 33.88, 34.25, 38.72, 37.25, 40.54, 37.33, 33.8, 40.45, 37.03, 33.88, 37.64, 37.79, 37.85, 34.23, 37.78, 36.32, 37.41, 37.37, 37.34, 33.67, 37.9, 37.91, 38.61, 37.53, 38.17, 34.15, 32.73, 33.74, 35.12, 34.0, 37.61, 33.9, 36.39, 32.82, 33.29, 37.84, 39.02, 34.41, 32.79, 34.05, 37.8, 35.32, 33.17, 36.61, 33.89, 33.82, 37.8, 34.03, 34.02, 40.88, 36.59, 33.96, 38.64, 34.43, 33.07, 34.06, 34.09, 38.58, 32.72, 34.18, 34.05, 33.96, 39.14, 38.48, 36.76, 32.74, 33.8, 34.03, 34.05, 34.04, 33.57, 37.33, 33.9, 36.9, 38.58, 37.4, 33.04, 38.19, 33.56, 34.2, 34.21, 37.78, 37.93, 34.12, 34.11, 37.73, 34.15, 34.09, 37.21, 37.9, 34.21, 37.88, 33.69, 36.58, 37.39, 38.52, 39.05, 36.56, 36.12, 33.95, 37.25, 32.59, 37.99, 38.33, 38.02, 36.74, 34.03, 40.38, 34.29, 37.36, 34.13, 33.87, 38.68, 33.95, 33.73, 36.55, 40.57, 36.99, 38.55, 38.59, 34.02, 36.32, 34.17, 33.73, 34.41, 34.12, 33.81, 34.13, 38.55, 37.25, 34.12, 34.13, 33.61, 37.6, 33.61, 33.75, 37.79, 33.99, 34.09, 38.57, 33.85, 33.98, 37.66, 33.78, 33.88, 34.31, 34.01, 36.3, 37.34, 37.63, 37.25, 33.94, 33.69, 33.16, 33.78, 33.93, 36.91, 33.89, 39.51, 35.49, 34.45, 37.43, 37.75, 38.01, 33.77, 34.07, 32.8, 37.36, 34.08, 34.08, 34.03, 32.78, 34.13, 34.01, 38.29, 36.62, 37.68, 35.4, 34.02, 37.64, 40.47, 38.68, 35.38, 33.21, 39.75, 36.72, 33.61, 37.99, 32.7, 36.89, 36.79, 37.8, 38.4, 33.81, 36.74, 37.38, 39.52, 39.16, 32.75, 34.07, 35.2, 34.01, 33.81, 40.79, 37.8, 37.7, 33.74, 38.58, 34.05, 33.88, 37.65, 36.31, 38.54, 37.79, 34.29, 33.78, 34.17, 34.01, 34.17, 38.04, 34.12, 34.45, 37.53, 33.94, 37.7, 38.25, 38.47, 37.4, 33.38, 36.76, 33.96, 34.25, 34.07, 34.27, 34.07, 34.05, 33.81, 37.33, 34.13, 37.76, 34.02, 35.36, 37.69, 39.78, 36.43, 34.11, 38.55, 37.6, 38.44, 33.85, 34.19, 33.8, 37.69, 38.58, 34.29, 38.23, 35.33, 37.86, 34.01, 38.58, 34.15, 34.02, 36.97, 37.74, 34.04, 38.54, 34.21, 36.15, 33.85, 34.73, 38.03, 34.12, 33.73, 35.32, 33.89, 36.89, 38.93, 37.73, 33.34, 37.0, 34.1, 32.95, 37.8, 38.78, 38.04, 32.77, 33.68, 34.13, 37.85, 33.71, 37.83, 34.06, 38.55, 39.52, 38.53, 34.25, 34.93, 37.95, 34.25, 37.63, 34.02, 34.16, 34.03, 34.0, 38.12, 36.32, 33.86, 37.94, 32.71, 32.74, 34.66, 34.5, 33.74, 39.76, 37.92, 34.1, 38.01, 37.96, 37.91, 35.38, 33.69, 32.74, 38.55, 34.13, 33.79, 36.56, 33.93, 38.63, 40.44, 34.96, 36.61, 33.97, 34.28, 34.13, 38.44, 33.6, 37.78, 34.44, 38.63, 37.79, 37.39, 37.67, 37.66, 36.97, 33.8, 37.74, 34.11, 34.27, 33.96, 33.72, 33.74, 37.89, 39.34, 37.57, 33.99, 33.88, 32.8, 37.61, 37.65, 37.27, 37.71, 37.22, 34.16, 34.15, 38.76, 37.3, 38.61, 37.93, 38.36, 37.33, 37.67, 33.64, 38.01, 34.13, 40.2, 33.96, 34.06, 34.19, 33.88, 34.28, 37.97, 39.4, 36.67, 32.69, 33.92, 37.66, 33.75, 34.08, 34.06, 33.53, 32.99, 34.03, 34.09, 33.78, 37.73, 34.4, 34.3, 33.91, 37.33, 39.53, 33.95, 34.16, 34.23, 34.19, 34.07, 37.25, 33.88, 37.97, 40.58, 37.79, 34.08, 33.93, 38.01, 37.3, 33.95, 34.05, 38.61, 37.68, 34.08, 37.61, 33.15, 33.67, 34.07, 38.3, 34.05, 34.2, 37.52, 32.71, 37.7, 36.25, 34.1, 34.18, 33.87, 34.09, 35.4, 38.41, 37.44, 33.82, 34.94, 39.54, 37.98, 32.8, 34.07, 34.36, 34.16, 36.73, 33.98, 34.0, 33.81, 34.08, 32.58, 33.86, 32.78, 37.9, 34.21, 34.0, 37.46, 34.15, 32.71, 33.88, 37.79, 33.76, 33.87, 33.88, 33.96, 39.04, 37.59, 34.11, 33.89, 36.96, 38.41, 34.27, 34.02, 33.93, 33.15, 33.92, 32.82, 34.05, 34.63, 35.4, 37.69, 37.63, 37.74, 33.88, 39.22, 38.1, 34.02, 34.02, 37.85, 33.82, 33.92, 37.78, 34.24, 34.18, 33.69, 33.67, 33.77, 33.75, 34.95, 35.4, 37.44, 37.94, 34.19, 37.8, 32.57, 37.72, 33.93, 36.23, 33.88, 34.16, 33.94, 37.67, 33.88, 33.97, 36.77, 33.36, 32.8, 38.14, 38.25, 34.15, 32.74, 34.15, 33.65, 34.65, 34.04, 34.1, 33.83, 37.77, 34.04, 33.76, 34.26, 33.84, 33.73, 34.97, 34.14, 38.36, 37.59, 37.4, 34.04, 33.93, 33.94, 34.44, 39.36, 33.76, 32.95, 36.37, 39.26, 34.04, 38.32, 34.07, 37.25, 36.79, 37.74, 39.42, 36.05, 34.12, 36.73, 34.07, 34.96, 37.66, 33.84, 37.78, 38.03, 33.69, 33.84, 33.84, 37.37, 34.16, 35.55, 36.1, 37.58, 33.26, 35.34, 37.11, 33.78, 39.06, 37.28, 39.42, 34.06, 33.69, 33.77, 37.39, 37.32, 37.74, 34.07, 33.86, 34.07, 33.85, 38.01, 34.03, 36.1, 33.81, 33.0, 39.28, 34.4, 37.77, 33.77, 36.6, 37.68, 33.55, 33.69, 37.71, 36.57, 34.18, 33.62, 34.08, 34.13, 32.81, 33.01, 33.83, 32.81, 37.85, 34.09, 34.23, 33.72, 34.18, 34.09, 34.18, 32.99, 33.84, 38.0, 36.82, 40.42, 32.81, 37.58, 38.3, 36.11, 36.55, 36.04, 37.63, 36.6, 33.88, 37.67, 32.71, 39.59, 36.21, 33.9, 39.72, 37.57, 37.82, 34.22, 37.81, 33.93, 37.39, 37.99, 34.21, 33.97, 38.64, 38.4, 33.8, 34.06, 37.67, 34.0, 33.95, 37.18, 37.34, 33.82, 37.44, 34.25, 37.35, 37.73, 33.9, 37.84, 40.41, 33.93, 34.64, 34.04, 38.06, 37.79, 34.16, 34.24, 34.16, 33.98, 37.81, 40.51, 37.51, 40.74, 34.28, 33.83, 34.09, 38.02, 33.91, 37.9, 34.14, 37.96, 37.76, 33.79, 34.29, 40.95, 34.23, 38.01, 34.03, 34.03, 33.76, 37.64, 33.77, 34.15, 34.89, 37.31, 33.7, 34.12, 35.54, 32.8, 38.38, 33.36, 34.11, 34.0, 33.9, 35.38, 34.59, 37.32, 33.85, 38.96, 35.58, 33.72, 37.47, 36.97, 33.89, 33.73, 34.24, 38.26, 34.11, 38.38, 32.81, 39.25, 37.5, 37.45, 33.83, 33.81, 37.39, 39.03, 33.74, 33.96, 37.86, 33.89, 32.75, 38.55, 35.79, 38.58, 34.07, 40.82, 32.77, 34.1, 32.76, 37.76, 38.66, 37.49, 34.16, 37.74, 33.91, 39.82, 33.86, 38.7, 34.04, 37.32, 37.75, 34.11, 40.63, 36.78, 36.98, 37.33, 34.07, 33.77, 37.73, 37.7, 33.55, 33.89, 34.2, 32.81, 37.39, 37.51, 34.18, 34.03, 37.68, 34.09, 34.05, 33.76, 34.12, 37.39, 38.45, 34.21, 33.94, 34.0, 33.96, 33.76, 34.22, 32.76, 37.78, 37.36, 34.15, 33.6, 33.76, 36.96, 38.07, 33.97, 33.82, 34.06, 33.99, 38.61, 38.57, 33.94, 37.75, 37.66, 36.96, 40.41, 35.45, 34.05, 34.22, 38.61, 37.57, 34.17, 33.81, 37.85, 40.57, 36.85, 36.81, 33.57, 37.85, 38.01, 33.97, 33.84, 34.12, 33.2, 34.59, 33.83, 33.88, 34.23, 36.07, 34.42, 32.75, 34.12, 34.07, 35.65, 33.86, 34.09, 33.72, 34.0, 38.61, 34.05, 36.73, 33.87, 37.73, 34.13, 34.08, 37.81, 37.75, 37.89, 37.92, 40.79, 37.36, 33.98, 33.81, 38.54, 34.04, 32.67, 38.0, 37.95, 34.15, 36.83, 38.49, 37.32, 37.97, 37.05, 34.18, 32.56, 37.96, 36.38, 37.75, 32.71, 33.73, 39.0, 33.83, 35.58, 34.23, 34.05, 33.84, 37.4, 37.67, 34.22, 33.82, 36.61, 33.84, 34.06, 33.12, 38.97, 33.92, 34.17, 33.87, 37.98, 37.91, 37.65, 34.09, 37.32, 33.72, 38.43, 33.93, 37.7, 34.23, 35.37, 33.43, 33.93, 37.59, 34.1, 34.0, 34.03, 32.86, 37.94, 33.95, 38.7, 34.01, 34.1, 34.04, 33.94, 39.39, 38.78, 39.44, 36.72, 34.18, 34.05, 33.9, 38.66, 34.43, 41.81, 38.02, 34.07, 37.41, 38.56, 34.22, 33.63, 33.72, 34.17, 33.92, 36.83, 37.98, 33.96, 34.21, 34.18, 34.08, 33.78, 37.27, 34.14, 33.91, 40.16, 34.57, 40.91, 33.71, 33.8, 33.64, 37.35, 36.82, 33.96, 34.1, 38.07, 37.31, 34.03, 33.87, 32.74, 32.81, 34.2, 37.35, 36.55, 34.06, 33.83, 37.29, 34.12, 34.07, 34.14, 33.83, 36.67, 34.01, 37.8, 37.97, 37.76, 36.72, 37.88, 33.93, 39.49, 36.07, 37.66, 34.16, 33.92, 33.9, 37.33, 34.06, 40.8, 37.96, 36.76, 37.37, 36.81, 34.18, 33.85, 38.34, 37.97, 37.78, 33.77, 37.96, 32.87, 34.08, 37.66, 37.73, 34.1, 34.42, 37.55, 37.35, 33.8, 33.93, 38.52, 37.26, 33.86, 38.0, 33.95, 32.75, 38.0, 34.07, 37.35, 34.04, 34.16, 33.87, 36.81, 33.68, 36.96, 34.07, 37.81, 38.54, 37.01, 37.84, 32.71, 35.41, 33.88, 34.08, 33.81, 32.9, 33.12, 33.65, 33.71, 38.7, 32.63, 37.54, 38.44, 33.75, 38.09, 37.26, 38.07, 34.08, 33.79, 37.28, 35.13, 34.11, 37.59, 34.18, 32.75, 34.1, 38.62, 34.1, 33.78, 34.26, 39.74, 36.62, 33.94, 39.43, 34.06, 37.97, 34.25, 37.23, 39.39, 39.31, 36.94, 34.09, 38.56, 40.01, 38.02, 34.55, 37.37, 37.69, 37.74, 37.73, 34.14, 36.8, 37.97, 36.61, 37.3, 34.02, 34.21, 37.67, 33.95, 38.04, 38.66, 32.82, 33.92, 32.75, 34.19, 34.1, 35.5, 34.18, 35.25, 34.02, 33.97, 34.01, 36.66, 34.08, 34.71, 32.7, 34.07, 34.09, 38.56, 33.1, 37.77, 32.8, 34.12, 36.33, 33.97, 33.82, 36.0, 39.16, 33.9, 38.54, 34.04, 33.78, 34.1, 37.78, 34.13, 37.76, 37.91, 33.89, 37.74, 37.97, 33.74, 37.75, 37.67, 37.85, 33.83, 33.92, 38.01, 33.94, 33.87, 34.07, 38.47, 34.13, 33.83, 32.7, 37.63, 33.82, 37.81, 34.09, 33.89, 37.87, 38.56, 37.95, 34.23, 41.88, 32.71, 37.75, 39.76, 38.43, 33.81, 32.64, 33.77, 38.54, 37.76, 34.66, 34.23, 33.9, 37.81, 37.79, 33.72, 37.7, 37.68, 32.78, 32.8, 37.83, 40.47, 37.74, 37.77, 39.53, 34.09, 33.83, 34.45, 34.14, 37.99, 34.14, 33.76, 34.17, 38.1, 33.99, 37.92, 36.96, 33.79, 37.97, 34.86, 37.78, 37.75, 36.32, 37.73, 37.99, 34.12, 38.69, 33.35, 36.22, 40.57, 37.8, 41.86, 34.15, 38.72, 38.93, 33.97, 35.35, 33.69, 33.23, 34.04, 34.14, 37.7, 33.95, 34.2, 37.55, 37.0, 33.89, 37.22, 37.79, 37.83, 34.02, 38.24, 37.63, 34.09, 38.56, 34.03, 33.74, 37.74, 36.55, 37.71, 33.95, 33.03, 33.97, 40.87, 37.82, 40.54, 33.97, 37.34, 39.75, 33.62, 35.13, 34.04, 33.75, 37.41, 34.87, 37.79, 33.88, 37.8, 33.84, 39.68, 39.13, 37.78, 33.75, 34.1, 37.76, 37.24, 34.02, 34.28, 34.06, 37.55, 33.92, 37.33, 34.04, 34.03, 37.78, 33.6, 33.76, 34.0, 37.37, 34.1, 34.06, 33.83, 33.74, 34.09, 38.48, 33.73, 37.51, 33.79, 33.98, 38.57, 38.23, 33.87, 35.29, 34.09, 36.34, 34.13, 37.87, 37.74, 34.02, 38.92, 34.16, 32.8, 33.95, 36.83, 33.96, 38.66, 36.32, 34.47, 34.2, 33.95, 37.66, 34.44, 33.78, 34.42, 36.52, 33.67, 33.73, 37.38, 39.01, 37.35, 34.06, 33.85, 35.28, 37.32, 33.9, 33.88, 37.73, 33.87, 38.63, 33.93, 34.05, 34.25, 36.52, 34.07, 34.08, 40.77, 37.83, 34.13, 33.67, 34.15, 34.2, 34.03, 33.95, 33.87, 34.75, 38.62, 33.99, 33.86, 33.99, 34.0, 37.66, 34.12, 37.75, 37.84, 33.64, 37.82, 37.64, 33.94, 38.97, 37.4, 34.27, 34.14, 34.22, 34.1, 36.16, 35.47, 35.13, 37.72, 37.87, 37.68, 38.66, 36.32, 33.9, 33.85, 37.68, 34.11, 38.25, 36.35, 34.06, 33.7, 39.13, 33.06, 34.07, 34.06, 37.0, 34.7, 37.96, 34.13, 33.58, 33.46, 33.84, 33.89, 34.06, 37.75, 37.91, 33.18, 32.58, 37.32, 32.75, 37.35, 33.98, 34.13, 39.32, 37.0, 38.09, 41.04, 33.91, 33.81, 33.84, 36.92, 38.53, 34.43, 33.92, 32.91, 34.04, 37.35, 34.38, 33.88, 37.67, 37.76, 37.29, 37.32, 34.24, 37.96, 33.87, 32.79, 33.97, 33.02, 34.26, 33.82, 33.31, 32.67, 37.54, 35.22, 34.2, 37.8, 40.26, 36.15, 33.11, 36.74, 33.87, 37.28, 34.25, 33.8, 32.74, 33.75, 32.81, 36.97, 33.8, 37.29, 33.63, 37.76, 37.69, 37.64, 34.15, 32.75, 32.69, 34.16, 33.82, 38.0, 32.65, 37.71, 33.67, 34.02, 39.33, 33.93, 37.74, 37.86, 33.81, 34.04, 33.92, 32.56, 37.54, 37.8, 34.18, 34.16, 34.02, 33.78, 34.06, 33.12, 38.54, 37.77, 37.8, 38.44, 39.53, 37.24, 33.49, 35.78, 38.73, 33.88, 33.49, 36.7, 34.11, 33.03, 32.75, 34.16, 34.64, 36.72, 37.39, 34.21, 33.66, 37.64, 36.64, 37.57, 33.9, 34.05, 34.08, 33.64, 35.33, 37.37, 34.15, 34.02, 34.09, 34.02, 34.07, 34.14, 34.0, 37.39, 33.95, 33.82, 37.78, 33.49, 33.9, 33.95, 38.67, 37.97, 34.08, 37.73, 32.61, 36.64, 33.92, 37.67, 33.93, 33.63, 37.4, 34.13, 33.67, 35.59, 37.74, 38.35, 32.85, 33.79, 36.96, 40.34, 33.78, 37.65, 39.56, 32.75, 33.94, 33.9, 34.15, 34.09, 37.69, 34.11, 32.6, 37.7, 36.82, 36.68, 34.12, 38.68, 38.35, 33.61, 34.03, 38.7, 37.71, 37.44, 34.12, 36.84, 33.84, 37.84, 37.68, 34.15, 38.01, 36.98, 32.86, 41.68, 33.81, 34.16, 37.94, 33.99, 38.57, 35.36, 37.25, 35.41, 35.07, 34.43, 33.97, 34.02, 37.44, 34.07, 34.01, 36.59, 34.19, 36.59, 38.86, 37.08, 33.9, 34.05, 37.57, 33.6, 33.66, 37.93, 38.65, 33.79, 34.04, 37.89, 33.97, 32.8, 33.88, 34.14, 34.12, 33.73, 37.66, 34.05, 33.0, 37.31, 34.02, 38.76, 36.43, 37.72, 36.77, 39.26, 34.0, 33.78, 38.57, 33.96, 32.64, 33.06, 34.05, 37.69, 38.01, 32.82, 33.91, 34.2, 34.05, 35.35, 34.06, 37.38, 33.85, 39.15, 34.17, 33.85, 39.33, 37.64, 34.99, 39.92, 40.79, 34.42, 35.4, 33.74, 34.03, 33.86, 34.03, 34.08, 37.92, 37.78, 38.01, 34.21, 37.82, 34.41, 34.12, 37.3, 37.03, 38.56, 33.81, 37.32, 33.83, 37.4, 37.76, 34.06, 34.69, 34.16, 34.1, 37.45, 35.42, 33.87, 33.91, 33.77, 39.65, 41.8, 34.18, 39.3, 33.98, 37.48, 37.47, 36.8, 37.68, 37.66, 37.43, 37.94, 37.47, 34.06, 37.77, 38.62, 38.69, 37.3, 34.12, 33.13, 33.76, 38.33, 38.54, 34.06, 38.09, 39.23, 38.9, 37.88, 34.18, 33.74, 37.69, 37.76, 37.95, 36.8, 36.99, 34.41, 36.63, 37.98, 36.71, 37.12, 33.8, 39.21, 33.75, 34.46, 38.15, 32.91, 38.27, 34.68, 35.41, 37.6, 38.67, 34.18, 37.7, 36.6, 37.37, 34.15, 37.53, 34.22, 37.73, 37.35, 32.72, 34.03, 33.77, 34.14, 33.81, 33.6, 33.48, 38.09, 34.08, 34.2, 33.99, 37.43, 33.98, 36.72, 34.04, 33.96, 37.72, 36.13, 34.11, 38.58, 38.55, 33.74, 38.12, 34.12, 38.26, 33.95, 38.0, 34.22, 33.9, 34.13, 37.43, 34.9, 34.65, 34.18, 37.35, 38.32, 40.78, 34.07, 36.96, 39.75, 34.21, 33.73, 33.84, 37.75, 34.07, 32.8, 36.8, 37.71, 33.91, 32.58, 36.76, 37.8, 37.71, 34.03, 37.79, 34.08, 32.82, 34.05, 33.79, 38.28, 35.36, 37.95, 34.86, 33.81, 37.4, 37.42, 34.14, 36.32, 33.86, 40.12, 37.68, 37.61, 33.99, 38.75, 38.0, 37.69, 39.37, 37.94, 37.83, 33.96, 34.04, 34.5, 34.08, 34.05, 32.85, 37.74, 36.31, 34.29, 33.85, 33.91, 37.76, 39.2, 37.6, 38.73, 33.93, 37.58, 37.04, 33.77, 34.0, 36.78, 37.87, 37.81, 33.54, 34.34, 37.64, 37.24, 33.85, 38.23, 36.96, 33.76, 33.61, 34.16, 33.15, 34.08, 34.13, 33.84, 33.88, 37.44, 34.57, 34.25, 34.12, 36.3, 37.69, 34.22, 37.47, 32.76, 33.49, 38.4, 34.45, 37.37, 36.32, 36.95, 37.33, 37.66, 36.74, 34.17, 33.61, 37.61, 36.32, 34.35, 34.18, 34.04, 34.07, 33.77, 38.53, 36.74, 34.11, 34.22, 34.05, 34.01, 33.75, 33.91, 37.31, 33.12, 34.1, 35.05, 40.01, 33.17, 33.87, 37.97, 34.17, 32.78, 34.04, 37.25, 33.84, 33.73, 38.35, 37.48, 32.57, 34.19, 38.76, 34.03, 37.76, 33.76, 33.83, 37.99, 37.7, 38.27, 34.15, 37.44, 36.79, 37.59, 34.08, 33.91, 39.16, 38.66, 34.05, 34.24, 38.29, 34.44, 37.92, 34.01, 33.82, 37.34, 33.99, 38.26, 38.46, 33.74, 34.29, 37.45, 33.82, 37.51, 33.77, 34.43, 34.08, 37.93, 32.55, 38.57, 38.56, 37.96, 33.98, 34.08, 33.84, 33.79, 34.09, 33.9, 40.78, 34.44, 33.94, 33.65, 41.54, 37.57, 36.8, 34.23, 37.28, 34.08, 34.02, 33.75, 36.35, 33.45, 36.98, 37.89, 38.94, 35.39, 34.0, 33.93, 32.79, 36.62, 36.8, 36.32, 36.73, 33.19, 37.87, 33.75, 34.04, 33.92, 33.65, 38.59, 41.95, 38.37, 34.05, 36.76, 33.99, 36.85, 33.98, 37.75, 39.71, 33.66, 32.71, 34.13, 37.46, 34.37, 33.82, 34.19, 39.31, 34.13, 37.8, 37.97, 33.64, 38.01, 37.88, 38.49, 38.59, 37.26, 39.28, 37.36, 33.8, 37.72, 34.06, 37.83, 33.92, 38.61, 33.94, 37.25, 32.8, 36.77, 37.67, 34.16, 36.59, 37.88, 35.5, 33.96, 33.58, 36.6, 39.5, 37.85, 37.74, 37.65, 36.78, 37.21, 35.37, 35.48, 37.98, 32.69, 33.93, 35.68, 37.78, 36.97, 37.35, 34.65, 37.84, 37.36, 37.48, 33.91, 36.19, 33.99, 32.76, 36.82, 34.15, 36.81, 34.03, 33.99, 33.99, 32.69, 34.03, 33.18, 38.69, 34.03, 35.6, 34.16, 33.93, 33.06, 38.4, 32.76, 34.88, 33.76, 37.51, 38.57, 34.27, 38.04, 34.16, 36.77, 34.1, 34.26, 36.29, 34.14, 33.94, 32.79, 33.99, 38.35, 33.62, 34.21, 34.07, 34.04, 33.85, 37.6, 38.89, 34.25, 33.71, 38.58, 32.64, 35.36, 34.13, 37.43, 37.32, 37.95, 33.91, 33.36, 32.77, 37.86, 33.84, 37.75, 33.82, 40.59, 38.54, 33.98, 34.26, 34.08, 33.78, 38.32, 37.68, 37.78, 35.12, 34.04, 36.2, 37.56, 34.1, 34.01, 32.81, 37.99, 38.46, 33.91, 34.19, 37.99, 37.89, 34.08, 32.66, 34.2, 37.16, 34.16, 33.76, 34.28, 33.86, 34.15, 34.15, 38.01, 33.91, 34.19, 34.29, 37.82, 37.0, 37.28, 37.43, 37.56, 34.42, 33.85, 34.0, 34.63, 34.19, 33.96, 34.06, 38.24, 34.1, 34.04, 38.0, 34.06, 33.72, 37.76, 37.26, 39.3, 37.79, 34.12, 37.27, 33.98, 37.98, 34.1, 38.05, 37.82, 35.2, 34.13, 33.81, 34.7, 34.17, 37.79, 33.88, 34.27, 36.34, 32.92, 33.82, 41.95, 33.09, 39.74, 40.17, 37.25, 37.12, 34.09, 38.25, 33.86, 33.77, 38.67, 34.06, 36.1, 34.07, 34.62, 37.46, 32.62, 34.04, 34.09, 37.29, 34.35, 38.45, 34.11, 33.73, 33.46, 33.86, 34.1, 33.83, 37.5, 34.28, 33.93, 37.46, 33.8, 34.13, 37.84, 33.9, 33.83, 38.47, 34.1, 33.86, 40.8, 33.97, 33.19, 38.61, 33.97, 38.69, 34.08, 33.83, 37.98, 32.87, 37.33, 34.01, 33.81, 32.77, 33.9, 33.69, 37.25, 33.8, 33.85, 33.8, 33.81, 33.76, 32.82, 33.42, 37.33, 34.11, 33.77, 37.53, 36.84, 34.16, 37.56, 37.64, 34.19, 33.96, 34.54, 34.27, 33.79, 37.95, 34.0, 33.84, 33.83, 33.94, 37.72, 33.98, 34.05, 33.91, 37.96, 34.07, 37.76, 38.31, 36.78, 37.03, 37.74, 34.17, 40.5, 33.98, 33.9, 33.99, 37.32, 37.94, 34.08, 37.76, 34.07, 35.39, 37.53, 38.52, 34.05, 32.72, 34.24, 34.5, 37.98, 38.5, 33.84, 35.82, 37.98, 36.97, 33.72, 34.24, 34.15, 33.8, 40.88, 34.64, 33.99, 38.97, 34.02, 37.96, 33.89, 32.83, 34.21, 36.67, 37.35, 34.17, 38.0, 37.37, 34.39, 33.14, 33.93, 37.93, 36.87, 36.32, 34.1, 38.55, 37.8, 37.85, 38.59, 37.44, 34.13, 38.91, 39.42, 37.43, 37.73, 37.54, 37.3, 33.98, 33.04, 39.03, 34.05, 39.16, 37.68, 34.06, 33.85, 37.36, 33.81, 34.16, 34.46, 34.0, 37.11, 34.01, 32.83, 36.1, 36.88, 38.64, 33.87, 34.11, 33.9, 33.82, 34.11, 34.14, 33.96, 37.38, 34.07, 33.6, 34.08, 34.17, 37.52, 37.7, 32.71, 34.13, 33.85, 39.78, 32.96, 34.41, 34.08, 39.18, 32.82, 38.59, 39.0, 38.27, 33.98, 34.13, 34.06, 34.26, 38.58, 33.84, 37.81, 37.29, 32.83, 37.97, 37.46, 37.73, 38.47, 37.26, 37.57, 34.15, 34.03, 38.92, 38.44, 36.81, 37.77, 38.01, 38.29, 32.79, 33.7, 34.09, 37.73, 34.22, 34.44, 35.5, 34.04, 37.62, 33.83, 33.97, 37.81, 37.78, 37.37, 36.11, 32.7, 33.67, 33.97, 33.7, 34.05, 41.77, 34.05, 34.1, 37.9, 34.16, 36.09, 33.79, 37.85, 32.58, 34.0, 37.13, 38.04, 34.11, 34.03, 38.0, 34.04, 38.37, 38.61, 34.0, 38.5, 39.15, 35.37, 36.49, 37.04, 33.81, 34.08, 37.75, 40.68, 36.81, 34.12, 37.48, 37.71, 33.94, 37.84, 34.2, 38.39, 33.75, 34.09, 32.61, 33.54, 34.03, 33.93, 34.15, 37.68, 33.94, 33.79, 39.25, 33.81, 38.49, 37.75, 33.86, 37.08, 37.71, 33.96, 38.46, 33.96, 36.3, 37.76, 34.09, 39.1, 33.81, 34.42, 33.62, 34.07, 38.5, 37.88, 34.15, 34.15, 37.74, 34.04, 33.94, 32.73, 33.54, 33.86, 33.79, 37.89, 34.08, 34.06, 34.01, 38.0, 37.77, 33.9, 33.17, 34.19, 33.99, 36.76, 34.1, 37.91, 33.74, 37.77, 37.95, 37.93, 34.21, 38.44, 34.26, 37.54, 33.88, 37.31, 34.19, 35.69, 34.26, 34.05, 34.1, 34.11, 37.88, 37.37, 33.47, 33.97, 33.98, 33.9, 36.22, 33.97, 37.77, 33.86, 37.74, 32.86, 37.68, 37.77, 41.79, 37.73, 33.78, 36.34, 34.15, 34.1, 37.72, 34.15, 33.93, 37.73, 37.6, 33.84, 33.84, 39.15, 34.42, 38.54, 37.27, 34.83, 37.74, 34.15, 34.21, 37.55, 32.68, 37.63, 38.59, 35.02, 37.26, 32.73, 37.46, 33.9, 32.71, 36.07, 34.19, 33.95, 34.03, 38.19, 34.22, 34.05, 34.08, 38.46, 34.64, 38.54, 38.34, 39.15, 37.87, 35.1, 33.91, 34.27, 33.4, 34.03, 38.71, 33.83, 32.74, 32.8, 33.77, 37.71, 37.73, 37.98, 34.43, 38.16, 34.44, 37.33, 38.66, 38.53, 33.83, 34.26, 34.17, 34.14, 38.28, 34.21, 34.16, 36.51, 34.41, 37.63, 36.52, 34.63, 38.43, 33.76, 34.21, 35.12, 37.32, 37.92, 38.5, 34.17, 37.8, 33.66, 34.14, 36.61, 36.64, 36.79, 38.0, 33.83, 33.73, 34.28, 33.88, 34.06, 34.06, 33.6, 33.9, 36.85, 34.19, 33.72, 37.73, 34.09, 34.02, 36.51, 39.8, 35.34, 32.72, 36.22, 34.1, 34.02, 38.0, 37.8, 34.06, 37.8, 34.17, 39.44, 38.67, 33.83, 36.34, 37.7, 34.03, 38.12, 34.25, 37.47, 34.11, 37.04, 34.08, 33.79, 38.59, 37.34, 33.96, 33.76, 35.37, 33.77, 37.92, 33.77, 37.64, 34.0, 34.39, 34.02, 34.28, 34.0, 33.81, 33.94, 38.46, 33.87, 37.77, 32.91, 33.96, 33.41, 39.18, 38.65, 33.93, 32.73, 33.97, 37.97, 36.47, 38.23, 37.66, 32.8, 34.04, 37.37, 34.19, 38.45, 35.37, 34.05, 37.89, 39.03, 37.94, 35.34, 37.77, 33.12, 34.01, 33.9, 37.71, 38.29, 38.26, 33.71, 37.82, 34.96, 37.35, 32.81, 34.05, 33.79, 39.79, 34.14, 36.34, 37.36, 33.96, 34.26, 36.35, 34.27, 33.23, 37.92, 36.69, 37.74, 40.58, 37.99, 34.46, 38.5, 34.82, 35.52, 34.08, 34.14, 34.24, 36.71, 37.48, 34.02, 34.07, 34.16, 33.9, 33.85, 34.43, 38.49, 33.92, 37.83, 33.92, 34.43, 37.33, 34.14, 38.57, 37.96, 38.62, 33.9, 34.01, 35.41, 37.14, 33.59, 32.59, 34.18, 34.21, 36.77, 34.18, 33.84, 34.23, 33.9, 34.15, 33.87, 38.57, 36.79, 37.8, 34.19, 33.23, 34.12, 37.47, 37.53, 35.33, 34.16, 34.23, 38.36, 38.67, 37.35, 34.17, 34.02, 36.77, 33.93, 40.45, 38.56, 34.07, 33.94, 37.85, 37.1, 37.76, 38.62, 34.09, 34.02, 34.12, 34.46, 34.02, 37.78, 34.19, 34.43, 34.1, 33.48, 34.0, 37.24, 33.71, 38.74, 33.6, 32.66, 38.32, 36.71, 37.58, 32.74, 33.03, 36.68, 37.27, 34.18, 37.61, 33.66, 32.82, 33.83, 37.72, 37.74, 34.16, 34.23, 33.16, 34.03, 36.93, 37.69, 33.98, 34.1, 35.85, 34.07, 32.82, 32.73, 39.97, 33.87, 38.62, 39.11, 38.29, 33.99, 34.18, 33.96, 37.24, 34.03, 35.44, 37.6, 37.32, 39.43, 33.79, 36.08, 37.47, 39.13, 34.14, 33.77, 37.52, 35.39, 38.46, 37.78, 36.75, 37.53, 37.68, 37.3, 34.2, 33.76, 36.54, 32.8, 34.56, 40.16, 37.71, 32.83, 33.94, 33.61, 34.07, 34.14, 37.58, 37.96, 32.8, 37.38, 35.35, 35.63, 33.8, 34.16, 37.65, 33.77, 37.83, 33.71, 34.69, 37.95, 34.05, 34.04, 37.47, 32.57, 37.86, 37.35, 33.95, 37.11, 33.86, 38.62, 37.38, 34.44, 37.74, 36.06, 37.69, 40.52, 37.75, 32.97, 38.66, 38.03, 39.04, 36.81, 33.74, 34.19, 33.74, 39.12, 34.13, 35.24, 37.73, 34.1, 40.92, 33.54, 33.81, 33.97, 34.01, 35.4, 37.21, 38.11, 34.02, 33.69, 33.76, 35.33, 35.03, 32.81, 38.3, 37.39, 33.86, 34.19, 34.64, 38.15, 33.18, 37.75, 34.65, 37.86, 34.28, 32.79, 32.58, 37.44, 34.36, 33.92, 33.8, 34.02, 38.51, 34.13, 34.05, 38.57, 37.34, 36.97, 37.94, 33.75, 33.54, 34.1, 35.44, 37.74, 34.02, 33.68, 37.92, 37.43, 38.66, 33.73, 38.4, 37.74, 34.15, 34.28, 38.48, 37.96, 34.04, 33.77, 34.12, 37.93, 37.38, 38.54, 33.65, 33.78, 38.67, 33.79, 37.84, 34.23, 33.98, 37.96, 34.65, 37.88, 32.95, 37.79, 33.73, 34.0, 37.95, 33.69, 33.39, 34.05, 32.76, 36.7, 33.81, 33.05, 41.82, 33.93, 38.28, 33.61, 39.78, 34.06, 33.96, 34.01, 41.41, 37.96, 34.21, 36.75, 33.77, 35.37, 33.91, 34.19, 33.02, 36.21, 37.63, 35.12, 37.77, 34.05, 33.47, 37.98, 33.89, 34.02, 37.27, 34.12, 37.32, 32.8, 33.81, 38.56, 34.23, 40.2, 37.77, 34.11, 33.96, 37.43, 37.55, 33.72, 38.35, 36.83, 34.27, 33.97, 33.8, 37.44, 33.94, 39.18, 35.26, 34.16, 34.38, 37.7, 34.08, 34.21, 33.88, 37.63, 37.34, 37.37, 39.76, 37.78, 39.23, 33.96, 32.86, 37.99, 34.59, 37.87, 33.84, 32.71, 36.32, 33.98, 36.8, 34.17, 38.57, 34.14, 33.97, 33.99, 38.09, 36.34, 33.51, 34.07, 33.19, 34.04, 33.8, 36.18, 33.78, 32.8, 36.58, 32.92, 36.99, 33.63, 37.3, 34.54, 37.67, 37.33, 35.87, 37.55, 32.76, 37.79, 33.92, 34.15, 34.02, 33.9, 33.79, 37.9, 40.55, 37.8, 33.18, 32.73, 37.6, 37.87, 35.55, 34.05, 33.91, 34.09, 34.15, 34.03, 39.74, 34.1, 37.36, 33.65, 32.75, 37.85, 34.15, 34.04, 33.43, 33.99, 33.96, 34.06, 37.33, 38.03, 33.83, 32.87, 34.09, 34.07, 32.79, 37.8, 37.45, 37.8, 33.62, 37.72, 38.61, 32.8, 33.89, 34.02, 34.11, 38.52, 37.99, 38.13, 32.81, 34.27, 32.77, 37.29, 37.37, 37.65, 37.54, 36.08, 33.8, 33.74, 37.87, 36.16, 32.76, 34.19, 34.03, 35.63, 37.61, 38.71, 34.23, 32.78, 33.74, 33.88, 38.44, 34.24, 34.27, 32.75, 37.72, 34.14, 34.24, 34.17, 37.88, 39.51, 37.98, 34.08, 34.3, 34.09, 32.77, 33.8, 33.8, 33.99, 33.99, 34.08, 33.51, 34.13, 38.41, 33.78, 34.09, 39.52, 34.21, 34.15, 37.22, 33.09, 34.03, 40.63, 37.15, 34.09, 37.32, 38.12, 32.8, 40.57, 33.52, 38.61, 39.43, 38.34, 33.76, 37.01, 34.08, 37.51, 37.76, 37.05, 38.66, 37.94, 36.83, 33.76, 34.01, 34.15, 33.92, 33.9, 36.59, 37.25, 32.8, 39.93, 37.79, 36.05, 34.68, 38.12, 34.12, 33.96, 37.98, 33.9, 39.81, 34.07, 36.86, 36.85, 34.12, 34.11, 32.83, 33.99, 36.29, 38.59, 36.96, 37.29, 34.19, 37.82, 33.75, 36.82, 34.11, 33.89, 37.43, 38.0, 33.36, 38.29, 34.1, 37.37, 38.55, 37.95, 37.97, 37.98, 37.99, 40.64, 36.98, 34.11, 34.06, 33.95, 40.28, 37.97, 37.58, 34.14, 34.17, 34.19, 34.03, 33.72, 32.63, 32.75, 36.92, 33.66, 34.71, 37.23, 33.89, 40.15, 34.44, 33.98, 34.26, 37.73, 34.04, 37.65, 33.99, 40.62, 37.98, 36.01, 33.47, 33.88, 39.15, 33.96, 32.88, 38.39, 40.95, 38.76, 34.09, 37.32, 33.86, 37.91, 38.92, 33.76, 33.89, 34.96, 37.39, 34.08, 33.87, 39.14, 37.92, 37.45, 33.91, 34.15, 33.8, 33.2, 33.79, 34.29, 34.18, 34.17, 33.97, 37.72, 33.7, 33.14, 37.9, 34.09, 34.42, 39.73, 37.76, 32.78, 36.99, 34.05, 32.79, 36.75, 37.85, 38.01, 33.03, 33.98, 37.79, 33.82, 33.93, 34.17, 33.88, 40.75, 38.58, 38.69, 36.13, 33.94, 37.73, 34.31, 34.19, 32.76, 34.39, 40.52, 34.14, 37.53, 34.21, 34.14, 33.85, 37.32, 34.0, 33.47, 34.17, 33.04, 34.07, 37.85, 34.06, 34.14, 34.02, 37.46, 33.78, 34.04, 33.9, 33.93, 37.76, 38.37, 33.96, 34.2, 34.24, 37.71, 37.64, 32.69, 37.99, 33.92, 36.08, 37.68, 36.65, 41.09, 36.73, 33.66, 36.98, 33.99, 33.99, 34.13, 34.06, 37.38, 37.17, 32.96, 38.66, 34.0, 32.66, 33.76, 38.4, 37.79, 34.1, 34.88, 34.15, 34.11, 33.9, 38.01, 33.83, 34.07, 38.57, 39.59, 34.07, 34.17, 37.7, 33.87, 37.53, 34.12, 37.79, 33.81, 37.29, 36.67, 34.0, 34.17, 33.92, 33.94, 38.45, 37.75, 36.16, 33.89, 37.62, 34.14, 33.79, 38.06, 33.82, 33.92, 41.86, 37.72, 33.92, 33.53, 38.66, 34.26, 34.08, 33.78, 38.07, 34.14, 33.93, 34.11, 34.05, 39.5, 33.96, 37.66, 33.93, 37.64, 34.06, 38.7, 37.96, 34.02, 33.93, 40.59, 35.48, 36.8, 37.71, 38.56, 33.52, 34.69, 39.05, 36.81, 38.64, 38.69, 37.27, 34.02, 33.94, 39.26, 33.92, 33.21, 33.9, 34.16, 33.76, 37.23, 34.01, 34.06, 32.79, 34.09, 33.93, 38.87, 38.68, 37.57, 32.86, 34.06, 33.88, 33.04, 33.76, 34.09, 34.2, 37.88, 37.96, 37.39, 34.07, 33.98, 39.13, 37.88, 36.34, 37.23, 34.07, 32.8, 40.79, 33.49, 34.02, 34.18, 37.33, 36.85, 37.35, 39.15, 37.4, 34.17, 38.01, 38.66, 37.87, 36.32, 34.85, 37.36, 34.09, 39.12, 37.76, 34.05, 38.6, 34.04, 33.72, 33.95, 33.95, 38.67, 34.26, 32.91, 34.3, 34.05, 38.67, 34.58, 36.84, 37.79, 38.57, 40.79, 33.99, 38.69, 34.08, 37.76, 37.77, 34.15, 37.69, 33.05, 33.82, 32.79, 37.52, 39.13, 37.35, 38.68, 37.83, 34.01, 33.74, 34.08, 34.26, 32.68, 33.6, 34.71, 37.77, 33.74, 37.78, 33.9, 33.94, 37.09, 37.82, 34.43, 32.71, 37.32, 32.57, 33.82, 34.04, 38.79, 34.01, 37.79, 34.27, 33.69, 37.78, 37.69, 33.25, 37.66, 32.72, 34.15, 34.08, 37.99, 37.51, 34.12, 38.47, 37.34, 34.13, 34.06, 33.96, 34.13, 33.78, 34.0, 32.98, 34.55, 39.22, 37.73, 37.49, 37.12, 33.05, 34.15, 33.97, 37.48, 33.01, 38.04, 33.94, 33.53, 34.08, 36.6, 33.89, 37.3, 38.5, 34.21, 37.92, 32.66, 39.77, 38.03, 38.54, 37.35, 33.92, 33.77, 33.9, 37.33, 38.04, 34.16, 37.97, 34.09, 37.84, 37.61, 34.01, 34.05, 34.05, 33.66, 34.0, 33.95, 33.83, 34.02, 36.33, 38.0, 37.77, 37.76, 39.18, 33.89, 33.94, 32.58, 37.72, 36.79, 33.62, 33.92, 34.14, 36.33, 33.95, 40.58, 33.84, 34.05, 34.11, 33.85, 34.01, 34.16, 33.81, 32.83, 33.91, 40.81, 37.98, 37.3, 33.15, 34.2, 33.94, 38.95, 34.09, 37.75, 33.76, 36.84, 33.79, 34.06, 37.88, 33.21, 33.8, 33.68, 33.97, 33.84, 39.01, 33.66, 33.15, 35.42, 34.18, 37.96, 34.16, 33.87, 34.38, 37.81, 33.22, 37.4, 36.74, 39.16, 35.22, 32.85, 34.02, 37.79, 34.9, 33.77, 37.38, 34.05, 36.35, 34.01, 34.0, 33.91, 35.44, 36.3, 33.78, 39.21, 33.49, 37.29, 38.75, 35.79, 34.05, 34.07, 34.17, 34.15, 37.74, 32.8, 33.77, 33.88, 33.76, 35.6, 36.81, 32.77, 37.82, 34.07, 34.09, 32.74, 36.98, 33.74, 33.02, 37.8, 38.34, 34.42, 34.04, 38.37, 37.39, 34.07, 34.19, 38.92, 38.95, 37.68, 34.15, 37.96, 37.36, 33.81, 34.16, 34.7, 37.47, 33.89, 34.09, 33.86, 34.02, 34.45, 33.68, 33.9, 33.94, 39.15, 38.46, 34.08, 38.54, 33.91, 33.86, 34.12, 37.34, 34.46, 33.89, 35.2, 37.71, 37.97, 37.52, 34.11, 38.01, 34.26, 34.15, 34.03, 37.91, 34.16, 37.52, 33.94, 34.11, 32.84, 37.37, 34.1, 32.64, 40.79, 37.96, 34.07, 37.44, 38.49, 37.34, 34.03, 34.2, 38.76, 34.04, 35.39, 37.85, 38.51, 33.14, 35.27, 36.82, 34.13, 33.8, 37.77, 34.04, 34.11, 37.68, 37.52, 33.97, 34.45, 36.37, 33.78, 33.98, 35.41, 32.71, 33.76, 34.06, 34.07, 40.39, 33.6, 34.08, 37.55, 33.51, 34.45, 33.84, 34.14, 34.2, 37.68, 40.32, 33.74, 33.65, 34.06, 37.35, 35.05, 34.03, 33.91, 32.86, 32.74, 40.79, 35.37, 33.94, 34.3, 37.78, 33.85, 36.79, 34.19, 33.99, 33.93, 34.01, 32.75, 32.75, 37.64, 33.82, 40.57, 37.68, 33.75, 33.84, 37.61, 34.0, 34.2, 34.1, 37.9, 34.28, 34.17, 36.75, 33.89, 34.1, 34.12, 38.42, 37.9, 33.93, 33.77, 33.84, 37.86, 32.58, 34.2, 37.39, 33.94, 33.83, 37.71, 38.44, 33.75, 38.67, 36.7, 36.1, 34.14, 34.25, 37.76, 37.88, 37.73, 37.76, 37.73, 38.63, 32.74, 37.36, 37.31, 33.85, 34.07, 33.93, 38.32, 33.94, 33.05, 39.45, 38.76, 34.14, 33.48, 34.29, 32.77, 39.75, 37.35, 33.73, 33.88, 37.32, 34.13, 34.14, 38.73, 36.63, 37.79, 37.7, 37.29, 37.75, 33.76, 33.93, 32.83, 34.04, 37.35, 39.72, 37.28, 32.79, 33.82, 33.0, 37.68, 33.79, 33.81, 39.21, 34.03, 34.9, 37.38, 33.83, 37.76, 37.26, 38.46, 33.6, 33.97, 36.64, 33.72, 37.94, 39.61, 37.75, 34.0, 33.55, 40.69, 37.94, 33.8, 38.58, 35.38, 33.88, 36.72, 33.98, 34.28, 33.95, 33.67, 38.26, 33.04, 37.31, 34.05, 33.82, 34.04, 36.58, 37.8, 37.31, 37.76, 34.01, 34.22, 37.02, 34.96, 35.13, 37.52, 32.74, 33.95, 33.83, 33.63, 37.74, 37.6, 36.8, 37.3, 38.66, 37.38, 38.27, 33.84, 33.94, 38.29, 34.02, 34.03, 34.08, 37.19, 38.04, 37.27, 33.92, 37.86, 33.17, 34.15, 32.74, 37.89, 37.51, 34.08, 36.54, 39.2, 36.07, 32.82, 34.0, 33.97, 33.75, 37.99, 34.12, 34.44, 32.83, 33.92, 34.2, 36.79, 38.78, 32.76, 33.76, 37.96, 39.51, 33.82, 33.98, 33.95, 39.47, 33.81, 33.66, 38.68, 34.21, 38.9, 33.83, 41.31, 33.96, 34.06, 35.33, 34.25, 38.03, 33.87, 38.64, 38.6, 33.93, 37.31, 34.23, 36.47, 34.11, 33.95, 38.43, 37.45, 33.96, 33.68, 37.19, 38.55, 33.78, 34.87, 34.18, 33.01, 36.6, 34.25, 34.0, 34.05, 34.02, 38.66, 37.36, 32.61, 37.82, 38.55, 37.12, 34.09, 34.06, 32.82, 33.56, 37.31, 38.53, 32.81, 35.16, 34.17, 34.26, 34.18, 34.4, 34.08, 36.76, 34.06, 34.08, 37.77, 36.85, 34.07, 33.79, 33.03, 34.44, 33.76, 37.35, 33.79, 34.09, 37.77, 38.01, 39.36, 33.84, 33.71, 38.49, 37.52, 38.03, 33.79, 33.94, 34.29, 33.93, 37.86, 37.83, 39.27, 36.78, 38.27, 38.89, 34.04, 33.82, 39.33, 39.75, 35.27, 34.2, 36.73, 34.03, 37.78, 33.62, 33.76, 37.92, 33.87, 37.95, 38.04, 34.26, 37.76, 38.65, 32.75, 37.98, 37.77, 32.73, 37.76, 37.62, 33.92, 34.14, 37.35, 38.59, 37.3, 35.87, 33.95, 33.98, 32.75, 34.02, 34.31, 34.06, 32.69, 36.33, 37.41, 38.66, 37.65, 32.8, 38.42, 33.98, 36.97, 38.51, 33.84, 35.64, 33.79, 37.55, 34.13, 33.94, 39.18, 37.76, 37.68, 34.39, 39.4, 33.81, 33.99, 36.8, 34.16, 33.01, 33.83, 37.4, 33.9, 35.77, 40.61, 33.89, 33.89, 33.88, 32.83, 37.94, 34.44, 32.78, 34.02, 37.06, 37.78, 37.72, 34.02, 37.33, 37.95, 33.67, 34.0, 38.33, 37.99, 38.12, 34.16, 39.12, 33.56, 33.8, 34.08, 36.28, 40.6, 34.08, 39.31, 34.18, 34.28, 33.81, 34.15, 33.85, 36.51, 34.42, 37.93, 34.44, 33.91, 40.55, 32.76, 33.88, 37.56, 33.13, 33.7, 34.24, 36.62, 37.61, 38.59, 33.93, 34.06, 34.2, 33.86, 37.33, 37.72, 33.91, 34.17, 36.76, 37.92, 34.32, 38.61, 36.62, 37.74, 33.58, 33.89, 33.17, 37.78, 35.31, 33.87, 38.87, 38.5, 34.21, 33.93], \"yaxis\": \"y\"}],\n",
              "                        {\"coloraxis\": {\"colorbar\": {\"title\": {\"text\": \"color\"}}, \"colorscale\": [[0.0, \"#0d0887\"], [0.1111111111111111, \"#46039f\"], [0.2222222222222222, \"#7201a8\"], [0.3333333333333333, \"#9c179e\"], [0.4444444444444444, \"#bd3786\"], [0.5555555555555556, \"#d8576b\"], [0.6666666666666666, \"#ed7953\"], [0.7777777777777778, \"#fb9f3a\"], [0.8888888888888888, \"#fdca26\"], [1.0, \"#f0f921\"]]}, \"legend\": {\"tracegroupgap\": 0}, \"margin\": {\"t\": 60}, \"template\": {\"data\": {\"bar\": [{\"error_x\": {\"color\": \"#2a3f5f\"}, \"error_y\": {\"color\": \"#2a3f5f\"}, \"marker\": {\"line\": {\"color\": \"#E5ECF6\", \"width\": 0.5}}, \"type\": \"bar\"}], \"barpolar\": [{\"marker\": {\"line\": {\"color\": \"#E5ECF6\", \"width\": 0.5}}, \"type\": \"barpolar\"}], \"carpet\": [{\"aaxis\": {\"endlinecolor\": \"#2a3f5f\", \"gridcolor\": \"white\", \"linecolor\": \"white\", \"minorgridcolor\": \"white\", \"startlinecolor\": \"#2a3f5f\"}, \"baxis\": {\"endlinecolor\": \"#2a3f5f\", \"gridcolor\": \"white\", \"linecolor\": \"white\", \"minorgridcolor\": \"white\", \"startlinecolor\": \"#2a3f5f\"}, \"type\": \"carpet\"}], \"choropleth\": [{\"colorbar\": {\"outlinewidth\": 0, \"ticks\": \"\"}, \"type\": \"choropleth\"}], \"contour\": [{\"colorbar\": {\"outlinewidth\": 0, \"ticks\": \"\"}, \"colorscale\": [[0.0, \"#0d0887\"], [0.1111111111111111, \"#46039f\"], [0.2222222222222222, \"#7201a8\"], [0.3333333333333333, \"#9c179e\"], [0.4444444444444444, \"#bd3786\"], [0.5555555555555556, \"#d8576b\"], [0.6666666666666666, \"#ed7953\"], [0.7777777777777778, \"#fb9f3a\"], [0.8888888888888888, \"#fdca26\"], [1.0, \"#f0f921\"]], \"type\": \"contour\"}], \"contourcarpet\": [{\"colorbar\": {\"outlinewidth\": 0, \"ticks\": \"\"}, \"type\": \"contourcarpet\"}], \"heatmap\": [{\"colorbar\": {\"outlinewidth\": 0, \"ticks\": \"\"}, \"colorscale\": [[0.0, \"#0d0887\"], [0.1111111111111111, \"#46039f\"], [0.2222222222222222, \"#7201a8\"], [0.3333333333333333, \"#9c179e\"], [0.4444444444444444, \"#bd3786\"], [0.5555555555555556, \"#d8576b\"], [0.6666666666666666, \"#ed7953\"], [0.7777777777777778, \"#fb9f3a\"], [0.8888888888888888, \"#fdca26\"], [1.0, \"#f0f921\"]], \"type\": \"heatmap\"}], \"heatmapgl\": [{\"colorbar\": {\"outlinewidth\": 0, \"ticks\": \"\"}, \"colorscale\": [[0.0, \"#0d0887\"], [0.1111111111111111, \"#46039f\"], [0.2222222222222222, \"#7201a8\"], [0.3333333333333333, \"#9c179e\"], [0.4444444444444444, \"#bd3786\"], [0.5555555555555556, \"#d8576b\"], [0.6666666666666666, \"#ed7953\"], [0.7777777777777778, \"#fb9f3a\"], [0.8888888888888888, \"#fdca26\"], [1.0, \"#f0f921\"]], \"type\": \"heatmapgl\"}], \"histogram\": [{\"marker\": {\"colorbar\": {\"outlinewidth\": 0, \"ticks\": \"\"}}, \"type\": \"histogram\"}], \"histogram2d\": [{\"colorbar\": {\"outlinewidth\": 0, \"ticks\": \"\"}, \"colorscale\": [[0.0, \"#0d0887\"], [0.1111111111111111, \"#46039f\"], [0.2222222222222222, \"#7201a8\"], [0.3333333333333333, \"#9c179e\"], [0.4444444444444444, \"#bd3786\"], [0.5555555555555556, \"#d8576b\"], [0.6666666666666666, \"#ed7953\"], [0.7777777777777778, \"#fb9f3a\"], [0.8888888888888888, \"#fdca26\"], [1.0, \"#f0f921\"]], \"type\": \"histogram2d\"}], \"histogram2dcontour\": [{\"colorbar\": {\"outlinewidth\": 0, \"ticks\": \"\"}, \"colorscale\": [[0.0, \"#0d0887\"], [0.1111111111111111, \"#46039f\"], [0.2222222222222222, \"#7201a8\"], [0.3333333333333333, \"#9c179e\"], [0.4444444444444444, \"#bd3786\"], [0.5555555555555556, \"#d8576b\"], [0.6666666666666666, \"#ed7953\"], [0.7777777777777778, \"#fb9f3a\"], [0.8888888888888888, \"#fdca26\"], [1.0, \"#f0f921\"]], \"type\": \"histogram2dcontour\"}], \"mesh3d\": [{\"colorbar\": {\"outlinewidth\": 0, \"ticks\": \"\"}, \"type\": \"mesh3d\"}], \"parcoords\": [{\"line\": {\"colorbar\": {\"outlinewidth\": 0, \"ticks\": \"\"}}, \"type\": \"parcoords\"}], \"pie\": [{\"automargin\": true, \"type\": \"pie\"}], \"scatter\": [{\"marker\": {\"colorbar\": {\"outlinewidth\": 0, \"ticks\": \"\"}}, \"type\": \"scatter\"}], \"scatter3d\": [{\"line\": {\"colorbar\": {\"outlinewidth\": 0, \"ticks\": \"\"}}, \"marker\": {\"colorbar\": {\"outlinewidth\": 0, \"ticks\": \"\"}}, \"type\": \"scatter3d\"}], \"scattercarpet\": [{\"marker\": {\"colorbar\": {\"outlinewidth\": 0, \"ticks\": \"\"}}, \"type\": \"scattercarpet\"}], \"scattergeo\": [{\"marker\": {\"colorbar\": {\"outlinewidth\": 0, \"ticks\": \"\"}}, \"type\": \"scattergeo\"}], \"scattergl\": [{\"marker\": {\"colorbar\": {\"outlinewidth\": 0, \"ticks\": \"\"}}, \"type\": \"scattergl\"}], \"scattermapbox\": [{\"marker\": {\"colorbar\": {\"outlinewidth\": 0, \"ticks\": \"\"}}, \"type\": \"scattermapbox\"}], \"scatterpolar\": [{\"marker\": {\"colorbar\": {\"outlinewidth\": 0, \"ticks\": \"\"}}, \"type\": \"scatterpolar\"}], \"scatterpolargl\": [{\"marker\": {\"colorbar\": {\"outlinewidth\": 0, \"ticks\": \"\"}}, \"type\": \"scatterpolargl\"}], \"scatterternary\": [{\"marker\": {\"colorbar\": {\"outlinewidth\": 0, \"ticks\": \"\"}}, \"type\": \"scatterternary\"}], \"surface\": [{\"colorbar\": {\"outlinewidth\": 0, \"ticks\": \"\"}, \"colorscale\": [[0.0, \"#0d0887\"], [0.1111111111111111, \"#46039f\"], [0.2222222222222222, \"#7201a8\"], [0.3333333333333333, \"#9c179e\"], [0.4444444444444444, \"#bd3786\"], [0.5555555555555556, \"#d8576b\"], [0.6666666666666666, \"#ed7953\"], [0.7777777777777778, \"#fb9f3a\"], [0.8888888888888888, \"#fdca26\"], [1.0, \"#f0f921\"]], \"type\": \"surface\"}], \"table\": [{\"cells\": {\"fill\": {\"color\": \"#EBF0F8\"}, \"line\": {\"color\": \"white\"}}, \"header\": {\"fill\": {\"color\": \"#C8D4E3\"}, \"line\": {\"color\": \"white\"}}, \"type\": \"table\"}]}, \"layout\": {\"annotationdefaults\": {\"arrowcolor\": \"#2a3f5f\", \"arrowhead\": 0, \"arrowwidth\": 1}, \"coloraxis\": {\"colorbar\": {\"outlinewidth\": 0, \"ticks\": \"\"}}, \"colorscale\": {\"diverging\": [[0, \"#8e0152\"], [0.1, \"#c51b7d\"], [0.2, \"#de77ae\"], [0.3, \"#f1b6da\"], [0.4, \"#fde0ef\"], [0.5, \"#f7f7f7\"], [0.6, \"#e6f5d0\"], [0.7, \"#b8e186\"], [0.8, \"#7fbc41\"], [0.9, \"#4d9221\"], [1, \"#276419\"]], \"sequential\": [[0.0, \"#0d0887\"], [0.1111111111111111, \"#46039f\"], [0.2222222222222222, \"#7201a8\"], [0.3333333333333333, \"#9c179e\"], [0.4444444444444444, \"#bd3786\"], [0.5555555555555556, \"#d8576b\"], [0.6666666666666666, \"#ed7953\"], [0.7777777777777778, \"#fb9f3a\"], [0.8888888888888888, \"#fdca26\"], [1.0, \"#f0f921\"]], \"sequentialminus\": [[0.0, \"#0d0887\"], [0.1111111111111111, \"#46039f\"], [0.2222222222222222, \"#7201a8\"], [0.3333333333333333, \"#9c179e\"], [0.4444444444444444, \"#bd3786\"], [0.5555555555555556, \"#d8576b\"], [0.6666666666666666, \"#ed7953\"], [0.7777777777777778, \"#fb9f3a\"], [0.8888888888888888, \"#fdca26\"], [1.0, \"#f0f921\"]]}, \"colorway\": [\"#636efa\", \"#EF553B\", \"#00cc96\", \"#ab63fa\", \"#FFA15A\", \"#19d3f3\", \"#FF6692\", \"#B6E880\", \"#FF97FF\", \"#FECB52\"], \"font\": {\"color\": \"#2a3f5f\"}, \"geo\": {\"bgcolor\": \"white\", \"lakecolor\": \"white\", \"landcolor\": \"#E5ECF6\", \"showlakes\": true, \"showland\": true, \"subunitcolor\": \"white\"}, \"hoverlabel\": {\"align\": \"left\"}, \"hovermode\": \"closest\", \"mapbox\": {\"style\": \"light\"}, \"paper_bgcolor\": \"white\", \"plot_bgcolor\": \"#E5ECF6\", \"polar\": {\"angularaxis\": {\"gridcolor\": \"white\", \"linecolor\": \"white\", \"ticks\": \"\"}, \"bgcolor\": \"#E5ECF6\", \"radialaxis\": {\"gridcolor\": \"white\", \"linecolor\": \"white\", \"ticks\": \"\"}}, \"scene\": {\"xaxis\": {\"backgroundcolor\": \"#E5ECF6\", \"gridcolor\": \"white\", \"gridwidth\": 2, \"linecolor\": \"white\", \"showbackground\": true, \"ticks\": \"\", \"zerolinecolor\": \"white\"}, \"yaxis\": {\"backgroundcolor\": \"#E5ECF6\", \"gridcolor\": \"white\", \"gridwidth\": 2, \"linecolor\": \"white\", \"showbackground\": true, \"ticks\": \"\", \"zerolinecolor\": \"white\"}, \"zaxis\": {\"backgroundcolor\": \"#E5ECF6\", \"gridcolor\": \"white\", \"gridwidth\": 2, \"linecolor\": \"white\", \"showbackground\": true, \"ticks\": \"\", \"zerolinecolor\": \"white\"}}, \"shapedefaults\": {\"line\": {\"color\": \"#2a3f5f\"}}, \"ternary\": {\"aaxis\": {\"gridcolor\": \"white\", \"linecolor\": \"white\", \"ticks\": \"\"}, \"baxis\": {\"gridcolor\": \"white\", \"linecolor\": \"white\", \"ticks\": \"\"}, \"bgcolor\": \"#E5ECF6\", \"caxis\": {\"gridcolor\": \"white\", \"linecolor\": \"white\", \"ticks\": \"\"}}, \"title\": {\"x\": 0.05}, \"xaxis\": {\"automargin\": true, \"gridcolor\": \"white\", \"linecolor\": \"white\", \"ticks\": \"\", \"title\": {\"standoff\": 15}, \"zerolinecolor\": \"white\", \"zerolinewidth\": 2}, \"yaxis\": {\"automargin\": true, \"gridcolor\": \"white\", \"linecolor\": \"white\", \"ticks\": \"\", \"title\": {\"standoff\": 15}, \"zerolinecolor\": \"white\", \"zerolinewidth\": 2}}}, \"xaxis\": {\"anchor\": \"y\", \"domain\": [0.0, 1.0], \"title\": {\"text\": \"x\"}}, \"yaxis\": {\"anchor\": \"x\", \"domain\": [0.0, 1.0], \"title\": {\"text\": \"y\"}}},\n",
              "                        {\"responsive\": true}\n",
              "                    ).then(function(){\n",
              "                            \n",
              "var gd = document.getElementById('81d9d08d-bd1c-493e-ae1b-2219f76b8b99');\n",
              "var x = new MutationObserver(function (mutations, observer) {{\n",
              "        var display = window.getComputedStyle(gd).display;\n",
              "        if (!display || display === 'none') {{\n",
              "            console.log([gd, 'removed!']);\n",
              "            Plotly.purge(gd);\n",
              "            observer.disconnect();\n",
              "        }}\n",
              "}});\n",
              "\n",
              "// Listen for the removal of the full notebook cells\n",
              "var notebookContainer = gd.closest('#notebook-container');\n",
              "if (notebookContainer) {{\n",
              "    x.observe(notebookContainer, {childList: true});\n",
              "}}\n",
              "\n",
              "// Listen for the clearing of the current output cell\n",
              "var outputEl = gd.closest('.output');\n",
              "if (outputEl) {{\n",
              "    x.observe(outputEl, {childList: true});\n",
              "}}\n",
              "\n",
              "                        })\n",
              "                };\n",
              "                \n",
              "            </script>\n",
              "        </div>\n",
              "</body>\n",
              "</html>"
            ]
          },
          "metadata": {}
        }
      ]
    },
    {
      "cell_type": "code",
      "source": [
        "# Make X_train_clustering which uses a one-hot encoding from the cluster label\n",
        "\n",
        "X_train_clustering = pd.get_dummies(pd.Series(kmeans.labels_)).to_numpy()\n",
        "X_train_clustering"
      ],
      "metadata": {
        "colab": {
          "base_uri": "https://localhost:8080/"
        },
        "id": "mmC2vaUgOI2M",
        "outputId": "e17cbe60-fb05-421f-ad55-a8f85b91423d"
      },
      "execution_count": null,
      "outputs": [
        {
          "output_type": "execute_result",
          "data": {
            "text/plain": [
              "array([[0, 1, 0, ..., 0, 0, 0],\n",
              "       [0, 0, 0, ..., 0, 0, 0],\n",
              "       [1, 0, 0, ..., 0, 0, 0],\n",
              "       ...,\n",
              "       [0, 0, 0, ..., 0, 1, 0],\n",
              "       [1, 0, 0, ..., 0, 0, 0],\n",
              "       [1, 0, 0, ..., 0, 0, 0]], dtype=uint8)"
            ]
          },
          "metadata": {},
          "execution_count": 109
        }
      ]
    },
    {
      "cell_type": "code",
      "source": [
        "# Predict the clusters for the test data, and create X_test_clustering using one-hot encoding\n",
        "\n",
        "X_test_lat_long = test_df[['longitude', 'latitude']].to_numpy()\n",
        "X_test_clustering = pd.get_dummies(pd.Series(kmeans.predict(X_test_lat_long))).to_numpy()\n",
        "X_test_clustering.shape"
      ],
      "metadata": {
        "colab": {
          "base_uri": "https://localhost:8080/"
        },
        "id": "8fc8OMo-ZbE0",
        "outputId": "5fef58e9-4808-4c4f-c141-a2775052b687"
      },
      "execution_count": null,
      "outputs": [
        {
          "output_type": "execute_result",
          "data": {
            "text/plain": [
              "(3433, 7)"
            ]
          },
          "metadata": {},
          "execution_count": 110
        }
      ]
    },
    {
      "cell_type": "code",
      "source": [
        "# Check error of linear model that only uses the cluster one-hot encodings\n",
        "\n",
        "linear_clustering = LinearRegression().fit(X_train_clustering, y_train)\n",
        "linear_clustering_test_predictions = linear_clustering.predict(X_test_clustering)\n",
        "mean_absolute_error(linear_clustering_test_predictions, y_test)"
      ],
      "metadata": {
        "colab": {
          "base_uri": "https://localhost:8080/"
        },
        "id": "AWSVVDZ6bKVy",
        "outputId": "5b20ebf7-16f4-4c4b-fd37-c779baf1cff7"
      },
      "execution_count": null,
      "outputs": [
        {
          "output_type": "execute_result",
          "data": {
            "text/plain": [
              "75993.77949315468"
            ]
          },
          "metadata": {},
          "execution_count": 111
        }
      ]
    },
    {
      "cell_type": "markdown",
      "source": [
        "#### 6. Feature Selection (Combinations of Features)"
      ],
      "metadata": {
        "id": "7BRm4sUfvcGA"
      }
    },
    {
      "cell_type": "code",
      "source": [
        "# Observe shapes of X_train_clustering, X_train_scaled and dummy_X_train\n",
        "\n",
        "X_train_clustering.shape, X_train_3_scaled.shape, X_train_dummies.shape"
      ],
      "metadata": {
        "colab": {
          "base_uri": "https://localhost:8080/"
        },
        "id": "n3PeilJ4NcYt",
        "outputId": "abd5a3ee-0389-426f-f3e0-21013a2a5954"
      },
      "execution_count": null,
      "outputs": [
        {
          "output_type": "execute_result",
          "data": {
            "text/plain": [
              "((17000, 7), (17000, 3), (17000, 4))"
            ]
          },
          "metadata": {},
          "execution_count": 112
        }
      ]
    },
    {
      "cell_type": "code",
      "source": [
        "# Concatenate the training arrays side-by-side to make one big X_train_full input matrix\n",
        "\n",
        "X_train_full = np.concatenate([X_train_clustering, X_train_3_scaled, X_train_dummies], axis=1)\n",
        "X_train_full"
      ],
      "metadata": {
        "colab": {
          "base_uri": "https://localhost:8080/"
        },
        "id": "iVUqAGwOQh5L",
        "outputId": "23369b81-ce0f-4a44-aa7b-66e6f93e83e9"
      },
      "execution_count": null,
      "outputs": [
        {
          "output_type": "execute_result",
          "data": {
            "text/plain": [
              "array([[0, 1, 0, ..., 0, 1, 0],\n",
              "       [0, 0, 0, ..., 1, 0, 0],\n",
              "       [1, 0, 0, ..., 0, 0, 0],\n",
              "       ...,\n",
              "       [0, 0, 0, ..., 1, 0, 0],\n",
              "       [1, 0, 0, ..., 0, 0, 0],\n",
              "       [1, 0, 0, ..., 0, 0, 0]], dtype=object)"
            ]
          },
          "metadata": {},
          "execution_count": 113
        }
      ]
    },
    {
      "cell_type": "code",
      "source": [
        "# Observe shapes of X_test_clustering, X_test_scaled and dummy_X_test\n",
        "\n",
        "X_test_clustering.shape, X_test_3_scaled.shape, X_test_dummies.shape"
      ],
      "metadata": {
        "colab": {
          "base_uri": "https://localhost:8080/"
        },
        "id": "wzhYFcmYQPdy",
        "outputId": "629cd873-0c0f-4d67-a91c-907e68b079b1"
      },
      "execution_count": null,
      "outputs": [
        {
          "output_type": "execute_result",
          "data": {
            "text/plain": [
              "((3433, 7), (3433, 3), (3433, 4))"
            ]
          },
          "metadata": {},
          "execution_count": 114
        }
      ]
    },
    {
      "cell_type": "code",
      "source": [
        "# Concatenate the test arrays side-by-side to make one big X_train_full input matrix\n",
        "\n",
        "X_test_full = np.concatenate([X_test_clustering, X_test_3_scaled, X_test_dummies], axis=1)\n",
        "X_test_full.shape"
      ],
      "metadata": {
        "colab": {
          "base_uri": "https://localhost:8080/"
        },
        "id": "EZh_hfkwQyci",
        "outputId": "65454541-8a33-4b96-9904-075666609236"
      },
      "execution_count": null,
      "outputs": [
        {
          "output_type": "execute_result",
          "data": {
            "text/plain": [
              "(3433, 14)"
            ]
          },
          "metadata": {},
          "execution_count": 115
        }
      ]
    },
    {
      "cell_type": "code",
      "source": [
        "# Check error of a random forest that uses the combination of these features\n",
        "\n",
        "random_forest_full = RandomForestRegressor().fit(X_train_full, y_train)\n",
        "random_forest_full_test_predictions = random_forest_full.predict(X_test_full)\n",
        "\n",
        "mean_absolute_error(random_forest_full_test_predictions, y_test)"
      ],
      "metadata": {
        "colab": {
          "base_uri": "https://localhost:8080/"
        },
        "id": "P0LAapUJM3-O",
        "outputId": "4a6d62a0-e435-4f8d-e34d-2fc8c62acb1d"
      },
      "execution_count": null,
      "outputs": [
        {
          "output_type": "execute_result",
          "data": {
            "text/plain": [
              "60918.12640838916"
            ]
          },
          "metadata": {},
          "execution_count": 117
        }
      ]
    },
    {
      "cell_type": "code",
      "source": [
        ""
      ],
      "metadata": {
        "id": "D0XUFXHxxFlF"
      },
      "execution_count": null,
      "outputs": []
    }
  ]
}