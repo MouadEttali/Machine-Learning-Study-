{
  "nbformat": 4,
  "nbformat_minor": 0,
  "metadata": {
    "colab": {
      "name": "sklearnPipeline with customized scaling.ipynb",
      "provenance": [],
      "collapsed_sections": [],
      "authorship_tag": "ABX9TyMGURQiV1MVMRx0kaTnnUmy",
      "include_colab_link": true
    },
    "kernelspec": {
      "name": "python3",
      "display_name": "Python 3"
    },
    "language_info": {
      "name": "python"
    }
  },
  "cells": [
    {
      "cell_type": "markdown",
      "metadata": {
        "id": "view-in-github",
        "colab_type": "text"
      },
      "source": [
        "<a href=\"https://colab.research.google.com/github/MouadEttali/Machine-Learning-Study-/blob/main/sklearnPipeline_with_customized_scaling.ipynb\" target=\"_parent\"><img src=\"https://colab.research.google.com/assets/colab-badge.svg\" alt=\"Open In Colab\"/></a>"
      ]
    },
    {
      "cell_type": "markdown",
      "metadata": {
        "id": "IfuapT3p_lFh"
      },
      "source": [
        "# Notebook implementing selective scaling and pipelines \n",
        "\n",
        "**Loading Data**"
      ]
    },
    {
      "cell_type": "code",
      "metadata": {
        "id": "BybS0cd72rv4"
      },
      "source": [
        "import pandas as pd\n",
        "import numpy as np"
      ],
      "execution_count": null,
      "outputs": []
    },
    {
      "cell_type": "code",
      "metadata": {
        "id": "Idu5B30a220W"
      },
      "source": [
        "train_df = pd.read_csv('/content/sample_data/california_housing_train.csv')\n",
        "test_df = pd.read_csv('/content/sample_data/california_housing_test.csv')"
      ],
      "execution_count": null,
      "outputs": []
    },
    {
      "cell_type": "code",
      "metadata": {
        "colab": {
          "base_uri": "https://localhost:8080/",
          "height": 206
        },
        "id": "KiOUc99S3MkJ",
        "outputId": "ef9a2774-b22c-4c80-b6ef-eea78084b9d6"
      },
      "source": [
        "test_df.head()"
      ],
      "execution_count": null,
      "outputs": [
        {
          "output_type": "execute_result",
          "data": {
            "text/html": [
              "<div>\n",
              "<style scoped>\n",
              "    .dataframe tbody tr th:only-of-type {\n",
              "        vertical-align: middle;\n",
              "    }\n",
              "\n",
              "    .dataframe tbody tr th {\n",
              "        vertical-align: top;\n",
              "    }\n",
              "\n",
              "    .dataframe thead th {\n",
              "        text-align: right;\n",
              "    }\n",
              "</style>\n",
              "<table border=\"1\" class=\"dataframe\">\n",
              "  <thead>\n",
              "    <tr style=\"text-align: right;\">\n",
              "      <th></th>\n",
              "      <th>longitude</th>\n",
              "      <th>latitude</th>\n",
              "      <th>housing_median_age</th>\n",
              "      <th>total_rooms</th>\n",
              "      <th>total_bedrooms</th>\n",
              "      <th>population</th>\n",
              "      <th>households</th>\n",
              "      <th>median_income</th>\n",
              "      <th>median_house_value</th>\n",
              "    </tr>\n",
              "  </thead>\n",
              "  <tbody>\n",
              "    <tr>\n",
              "      <th>0</th>\n",
              "      <td>-122.05</td>\n",
              "      <td>37.37</td>\n",
              "      <td>27.0</td>\n",
              "      <td>3885.0</td>\n",
              "      <td>661.0</td>\n",
              "      <td>1537.0</td>\n",
              "      <td>606.0</td>\n",
              "      <td>6.6085</td>\n",
              "      <td>344700.0</td>\n",
              "    </tr>\n",
              "    <tr>\n",
              "      <th>1</th>\n",
              "      <td>-118.30</td>\n",
              "      <td>34.26</td>\n",
              "      <td>43.0</td>\n",
              "      <td>1510.0</td>\n",
              "      <td>310.0</td>\n",
              "      <td>809.0</td>\n",
              "      <td>277.0</td>\n",
              "      <td>3.5990</td>\n",
              "      <td>176500.0</td>\n",
              "    </tr>\n",
              "    <tr>\n",
              "      <th>2</th>\n",
              "      <td>-117.81</td>\n",
              "      <td>33.78</td>\n",
              "      <td>27.0</td>\n",
              "      <td>3589.0</td>\n",
              "      <td>507.0</td>\n",
              "      <td>1484.0</td>\n",
              "      <td>495.0</td>\n",
              "      <td>5.7934</td>\n",
              "      <td>270500.0</td>\n",
              "    </tr>\n",
              "    <tr>\n",
              "      <th>3</th>\n",
              "      <td>-118.36</td>\n",
              "      <td>33.82</td>\n",
              "      <td>28.0</td>\n",
              "      <td>67.0</td>\n",
              "      <td>15.0</td>\n",
              "      <td>49.0</td>\n",
              "      <td>11.0</td>\n",
              "      <td>6.1359</td>\n",
              "      <td>330000.0</td>\n",
              "    </tr>\n",
              "    <tr>\n",
              "      <th>4</th>\n",
              "      <td>-119.67</td>\n",
              "      <td>36.33</td>\n",
              "      <td>19.0</td>\n",
              "      <td>1241.0</td>\n",
              "      <td>244.0</td>\n",
              "      <td>850.0</td>\n",
              "      <td>237.0</td>\n",
              "      <td>2.9375</td>\n",
              "      <td>81700.0</td>\n",
              "    </tr>\n",
              "  </tbody>\n",
              "</table>\n",
              "</div>"
            ],
            "text/plain": [
              "   longitude  latitude  ...  median_income  median_house_value\n",
              "0    -122.05     37.37  ...         6.6085            344700.0\n",
              "1    -118.30     34.26  ...         3.5990            176500.0\n",
              "2    -117.81     33.78  ...         5.7934            270500.0\n",
              "3    -118.36     33.82  ...         6.1359            330000.0\n",
              "4    -119.67     36.33  ...         2.9375             81700.0\n",
              "\n",
              "[5 rows x 9 columns]"
            ]
          },
          "metadata": {},
          "execution_count": 3
        }
      ]
    },
    {
      "cell_type": "markdown",
      "metadata": {
        "id": "bMtgxZTbGPhr"
      },
      "source": [
        "**Splitting the data to training and test data and converting them to numpy arrays**"
      ]
    },
    {
      "cell_type": "code",
      "metadata": {
        "colab": {
          "base_uri": "https://localhost:8080/"
        },
        "id": "WvTcQSdx3Pzn",
        "outputId": "a22e54fa-8be6-475e-d4c9-5bf7bda71286"
      },
      "source": [
        "X_train , y_train = train_df.to_numpy()[:,:-1], train_df.to_numpy()[:,-1]\n",
        "X_test , y_test = test_df.to_numpy()[:,:-1], test_df.to_numpy()[:,-1]\n",
        "\n",
        "X_train.shape , y_train.shape , X_test.shape , y_test.shape"
      ],
      "execution_count": null,
      "outputs": [
        {
          "output_type": "execute_result",
          "data": {
            "text/plain": [
              "((17000, 8), (17000,), (3000, 8), (3000,))"
            ]
          },
          "metadata": {},
          "execution_count": 4
        }
      ]
    },
    {
      "cell_type": "markdown",
      "metadata": {
        "id": "E4lFITtUGdSX"
      },
      "source": [
        "**This is where we make our selective scaling using standard and minmax scalers on different features , this might make our predictions better and it's a preprocessing tool to keep in mind when scaling your original data**"
      ]
    },
    {
      "cell_type": "code",
      "metadata": {
        "id": "hgSwsXr73uZ7"
      },
      "source": [
        "from sklearn.preprocessing import StandardScaler , MinMaxScaler , FunctionTransformer\n",
        "from copy import deepcopy\n",
        "\n",
        "std_scaler = StandardScaler().fit(X_train[:,:2]) \n",
        "min_max_scaler = MinMaxScaler().fit(X_train[:,2:])\n",
        "def Preprocessor(X):\n",
        "  A = np.copy(X)\n",
        "  A[:,:2] = std_scaler.transform(X[:,:2])\n",
        "  A[:,2:] = min_max_scaler.transform(X[:,2:])\n",
        "  return A"
      ],
      "execution_count": null,
      "outputs": []
    },
    {
      "cell_type": "code",
      "metadata": {
        "colab": {
          "base_uri": "https://localhost:8080/"
        },
        "id": "9_7MOYWZ30f9",
        "outputId": "0388c841-d447-447d-b185-980e9203b201"
      },
      "source": [
        "preprocess_transformer = FunctionTransformer(Preprocessor)\n",
        "preprocess_transformer"
      ],
      "execution_count": null,
      "outputs": [
        {
          "output_type": "execute_result",
          "data": {
            "text/plain": [
              "FunctionTransformer(accept_sparse=False, check_inverse=True,\n",
              "                    func=<function Preprocessor at 0x7f64e7021830>,\n",
              "                    inv_kw_args=None, inverse_func=None, kw_args=None,\n",
              "                    validate=False)"
            ]
          },
          "metadata": {},
          "execution_count": 14
        }
      ]
    },
    {
      "cell_type": "markdown",
      "metadata": {
        "id": "ueVLKNTwG5cS"
      },
      "source": [
        "#Implementing our pipelines using Linear Regression / KNN regression / Random Forest regression and the above mentioned."
      ]
    },
    {
      "cell_type": "code",
      "metadata": {
        "colab": {
          "base_uri": "https://localhost:8080/"
        },
        "id": "dav2k8GF5ZhC",
        "outputId": "e7f86e6f-8bd9-4f28-ed57-fb6c344fb78e"
      },
      "source": [
        "from sklearn.pipeline import Pipeline\n",
        "from sklearn.linear_model import LinearRegression\n",
        "\n",
        "pipe = Pipeline([('Scaler',preprocess_transformer),\n",
        "                 ('Linear Regression',LinearRegression())])\n",
        "pipe"
      ],
      "execution_count": null,
      "outputs": [
        {
          "output_type": "execute_result",
          "data": {
            "text/plain": [
              "Pipeline(memory=None,\n",
              "         steps=[('Scaler',\n",
              "                 FunctionTransformer(accept_sparse=False, check_inverse=True,\n",
              "                                     func=<function Preprocessor at 0x7f64e7021830>,\n",
              "                                     inv_kw_args=None, inverse_func=None,\n",
              "                                     kw_args=None, validate=False)),\n",
              "                ('Linear Regression',\n",
              "                 LinearRegression(copy_X=True, fit_intercept=True, n_jobs=None,\n",
              "                                  normalize=False))],\n",
              "         verbose=False)"
            ]
          },
          "metadata": {},
          "execution_count": 17
        }
      ]
    },
    {
      "cell_type": "code",
      "metadata": {
        "id": "h2qHP8cz6dXw"
      },
      "source": [
        "from sklearn.metrics import mean_absolute_error\n",
        "\n",
        "def fit_and_print(p, X_train= X_train ,y_train= y_train,X_test= X_test,y_test= y_test):\n",
        "  p.fit(X_train,y_train)\n",
        "  train_predictions = p.predict(X_train)\n",
        "  test_predictions = p.predict(X_test)\n",
        "  print(\"Training error: \"+ str(mean_absolute_error(train_predictions,y_train)))\n",
        "  print(\"Test error: \"+ str(mean_absolute_error(test_predictions,y_test)))"
      ],
      "execution_count": null,
      "outputs": []
    },
    {
      "cell_type": "code",
      "metadata": {
        "colab": {
          "base_uri": "https://localhost:8080/"
        },
        "id": "pIPAiYAx7y_M",
        "outputId": "a05ca9b2-3033-4186-ffc6-90aa1801bf9c"
      },
      "source": [
        "fit_and_print(pipe)"
      ],
      "execution_count": null,
      "outputs": [
        {
          "output_type": "stream",
          "name": "stdout",
          "text": [
            "Training error: 50795.85711786371\n",
            "Test error: 50352.228257942894\n"
          ]
        }
      ]
    },
    {
      "cell_type": "code",
      "metadata": {
        "colab": {
          "base_uri": "https://localhost:8080/"
        },
        "id": "fc9TRC0_8_mj",
        "outputId": "b7ab7a85-aab1-4821-c6ed-a5617229553a"
      },
      "source": [
        "from sklearn.neighbors import KNeighborsRegressor as KNR\n",
        "\n",
        "pipe2 = Pipeline([('Scaler',preprocess_transformer),\n",
        "                 ('KNN Regression',KNR(n_neighbors=7))])\n",
        "\n",
        "fit_and_print(pipe2)"
      ],
      "execution_count": null,
      "outputs": [
        {
          "output_type": "stream",
          "name": "stdout",
          "text": [
            "Training error: 30045.80900840336\n",
            "Test error: 35865.41276190476\n"
          ]
        }
      ]
    },
    {
      "cell_type": "code",
      "metadata": {
        "colab": {
          "base_uri": "https://localhost:8080/"
        },
        "id": "Tdnk1vAg9wJp",
        "outputId": "0162be3a-a48e-4807-bf93-233939021c47"
      },
      "source": [
        "from sklearn.ensemble import RandomForestRegressor as RFR\n",
        "\n",
        "pipe2 = Pipeline([('Scaler',preprocess_transformer),\n",
        "                 ('RFR Regression',RFR(n_estimators=10,max_depth=7))])\n",
        "\n",
        "fit_and_print(pipe2)"
      ],
      "execution_count": null,
      "outputs": [
        {
          "output_type": "stream",
          "name": "stdout",
          "text": [
            "Training error: 41315.28320125289\n",
            "Test error: 44332.475437123634\n"
          ]
        }
      ]
    },
    {
      "cell_type": "markdown",
      "metadata": {
        "id": "zntialOPHgtp"
      },
      "source": [
        "# Conclusion\n",
        "\n",
        "*  This method of selective Scaling can be very useful when we have different types of data columns that require different types of preprocessing.\n",
        "*   Pipeline is an amazing way to train , test and evaluate your models very fast and pit them against each other ( like I have done in the three cells of the code above) \n",
        "\n"
      ]
    },
    {
      "cell_type": "code",
      "metadata": {
        "id": "ViBaLl3YIVmJ"
      },
      "source": [
        ""
      ],
      "execution_count": null,
      "outputs": []
    }
  ]
}