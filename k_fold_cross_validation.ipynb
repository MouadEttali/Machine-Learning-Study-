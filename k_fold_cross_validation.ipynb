{
  "nbformat": 4,
  "nbformat_minor": 0,
  "metadata": {
    "colab": {
      "name": "k-fold cross validation.ipynb",
      "provenance": [],
      "authorship_tag": "ABX9TyMLfPPrGKQznJfJqt2Cf96k",
      "include_colab_link": true
    },
    "kernelspec": {
      "name": "python3",
      "display_name": "Python 3"
    },
    "language_info": {
      "name": "python"
    }
  },
  "cells": [
    {
      "cell_type": "markdown",
      "metadata": {
        "id": "view-in-github",
        "colab_type": "text"
      },
      "source": [
        "<a href=\"https://colab.research.google.com/github/MouadEttali/Machine-Learning-Study-/blob/main/k_fold_cross_validation.ipynb\" target=\"_parent\"><img src=\"https://colab.research.google.com/assets/colab-badge.svg\" alt=\"Open In Colab\"/></a>"
      ]
    },
    {
      "cell_type": "markdown",
      "metadata": {
        "id": "ZMrMNkIGey9x"
      },
      "source": [
        "let's start with normal train test validation"
      ]
    },
    {
      "cell_type": "code",
      "metadata": {
        "id": "8jWZD29GdtUs"
      },
      "source": [
        "from tensorflow.keras.datasets import mnist"
      ],
      "execution_count": 1,
      "outputs": []
    },
    {
      "cell_type": "code",
      "metadata": {
        "colab": {
          "base_uri": "https://localhost:8080/"
        },
        "id": "nTy1LtEge8Ag",
        "outputId": "a3548c0f-050c-4c65-c908-1988708153ee"
      },
      "source": [
        "(X_train, y_train),(X_test,y_test) = mnist.load_data()\n",
        "X_train.shape , y_train.shape"
      ],
      "execution_count": 2,
      "outputs": [
        {
          "output_type": "stream",
          "name": "stdout",
          "text": [
            "Downloading data from https://storage.googleapis.com/tensorflow/tf-keras-datasets/mnist.npz\n",
            "11493376/11490434 [==============================] - 0s 0us/step\n",
            "11501568/11490434 [==============================] - 0s 0us/step\n"
          ]
        },
        {
          "output_type": "execute_result",
          "data": {
            "text/plain": [
              "((60000, 28, 28), (60000,))"
            ]
          },
          "metadata": {},
          "execution_count": 2
        }
      ]
    },
    {
      "cell_type": "code",
      "metadata": {
        "colab": {
          "base_uri": "https://localhost:8080/",
          "height": 283
        },
        "id": "-vDvVae5fMDL",
        "outputId": "3c9c0b3c-9f68-4e45-f54e-7b0b3a759cbf"
      },
      "source": [
        "import matplotlib.pyplot as plt\n",
        "plt.imshow(X_train[0])"
      ],
      "execution_count": 3,
      "outputs": [
        {
          "output_type": "execute_result",
          "data": {
            "text/plain": [
              "<matplotlib.image.AxesImage at 0x7fde8bd3fcd0>"
            ]
          },
          "metadata": {},
          "execution_count": 3
        },
        {
          "output_type": "display_data",
          "data": {
            "image/png": "[encoded data removed]",
            "text/plain": [
              "<Figure size 432x288 with 1 Axes>"
            ]
          },
          "metadata": {
            "needs_background": "light"
          }
        }
      ]
    },
    {
      "cell_type": "code",
      "metadata": {
        "colab": {
          "base_uri": "https://localhost:8080/"
        },
        "id": "kpFbOJ5mfXQ4",
        "outputId": "82239d63-19db-4d03-a222-4ae14fae9601"
      },
      "source": [
        "from sklearn.model_selection import train_test_split\n",
        "X_val , X_test ,y_val , y_test = train_test_split(X_test, y_test,test_size=0.5)\n",
        "X_val.shape , X_test.shape ,y_val.shape , y_test.shape"
      ],
      "execution_count": 4,
      "outputs": [
        {
          "output_type": "execute_result",
          "data": {
            "text/plain": [
              "((5000, 28, 28), (5000, 28, 28), (5000,), (5000,))"
            ]
          },
          "metadata": {},
          "execution_count": 4
        }
      ]
    },
    {
      "cell_type": "code",
      "metadata": {
        "colab": {
          "base_uri": "https://localhost:8080/"
        },
        "id": "VyGwJVscf5gy",
        "outputId": "a10d7485-0501-43e7-f63f-810df1fba4bd"
      },
      "source": [
        "from sklearn.ensemble import RandomForestClassifier \n",
        "from sklearn.metrics import accuracy_score\n",
        "\n",
        "rf = RandomForestClassifier(n_estimators=14,max_depth=9)\n",
        "rf.fit(X_train.reshape((60000,-1)),y_train)\n",
        "rf_train_preds = rf.predict(X_train.reshape((60000,-1)))\n",
        "rf_val_preds = rf.predict(X_val.reshape((5000,-1)))\n",
        "accuracy_score(rf_train_preds,y_train), accuracy_score(rf_val_preds,y_val)"
      ],
      "execution_count": 9,
      "outputs": [
        {
          "output_type": "execute_result",
          "data": {
            "text/plain": [
              "(0.9356166666666667, 0.923)"
            ]
          },
          "metadata": {},
          "execution_count": 9
        }
      ]
    },
    {
      "cell_type": "code",
      "metadata": {
        "colab": {
          "base_uri": "https://localhost:8080/"
        },
        "id": "ZCTzMgmSg7lL",
        "outputId": "2795dd6e-0613-471e-b3cc-facaa2b838af"
      },
      "source": [
        "rf_test_preds= rf.predict(X_test.reshape((5000,-1)))\n",
        "accuracy_score(rf_test_preds,y_test)"
      ],
      "execution_count": 10,
      "outputs": [
        {
          "output_type": "execute_result",
          "data": {
            "text/plain": [
              "0.9234"
            ]
          },
          "metadata": {},
          "execution_count": 10
        }
      ]
    },
    {
      "cell_type": "markdown",
      "metadata": {
        "id": "fYqcV_-MhwxA"
      },
      "source": [
        "# Now we try with cross validation "
      ]
    },
    {
      "cell_type": "code",
      "metadata": {
        "colab": {
          "base_uri": "https://localhost:8080/"
        },
        "id": "JdGCw0BYiBRj",
        "outputId": "21720e5f-0808-4529-dd43-031fbc98c189"
      },
      "source": [
        "(X_train, y_train),(X_test,y_test) = mnist.load_data()\n",
        "X_train.shape , y_train.shape"
      ],
      "execution_count": 11,
      "outputs": [
        {
          "output_type": "execute_result",
          "data": {
            "text/plain": [
              "((60000, 28, 28), (60000,))"
            ]
          },
          "metadata": {},
          "execution_count": 11
        }
      ]
    },
    {
      "cell_type": "code",
      "metadata": {
        "colab": {
          "base_uri": "https://localhost:8080/"
        },
        "id": "u5KENsfXhrAb",
        "outputId": "7e817780-fb2b-4e84-c8c9-b31f873e5783"
      },
      "source": [
        "from sklearn.model_selection import cross_val_score\n",
        "cross_val_score(rf, X_train.reshape((60000,-1)),y_train,cv=7)"
      ],
      "execution_count": 12,
      "outputs": [
        {
          "output_type": "execute_result",
          "data": {
            "text/plain": [
              "array([0.92323845, 0.91273915, 0.92148857, 0.90526193, 0.91821258,\n",
              "       0.92019601, 0.93419671])"
            ]
          },
          "metadata": {},
          "execution_count": 12
        }
      ]
    }
  ]
}