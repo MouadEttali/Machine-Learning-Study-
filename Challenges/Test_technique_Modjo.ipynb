{
  "nbformat": 4,
  "nbformat_minor": 0,
  "metadata": {
    "colab": {
      "name": "Test_technique_Modjo.ipynb",
      "provenance": [],
      "collapsed_sections": [
        "bUjyYYOWpb3D",
        "njjIQX7fm9_t",
        "J9UpVdAgBChA",
        "pYUs8Bn8BJ9K",
        "rHQhIqHIBUma",
        "pnHH8pcvKChf",
        "IveCFsa0VnuD"
      ],
      "toc_visible": true,
      "mount_file_id": "1-IuH5HssqJw-tvsptlLR0jYngCwSG1Uo",
      "authorship_tag": "ABX9TyNLep1rnRBFAnzvLLGiv3Ix",
      "include_colab_link": true
    },
    "kernelspec": {
      "name": "python3",
      "display_name": "Python 3"
    },
    "language_info": {
      "name": "python"
    }
  },
  "cells": [
    {
      "cell_type": "markdown",
      "metadata": {
        "id": "view-in-github",
        "colab_type": "text"
      },
      "source": [
        "<a href=\"https://colab.research.google.com/github/MouadEttali/Machine-Learning-Study-/blob/main/Test_technique_Modjo.ipynb\" target=\"_parent\"><img src=\"https://colab.research.google.com/assets/colab-badge.svg\" alt=\"Open In Colab\"/></a>"
      ]
    },
    {
      "cell_type": "markdown",
      "metadata": {
        "id": "zeDP6uoQ20v4"
      },
      "source": [
        "# Data Science Challenge\n",
        "**The purpose of this notebook is to document step by step the process of a rigorous machine learning application and classify a number of calls into their respective Tags(classes)** \n",
        "\n",
        "\n",
        "we'll start by implementing the next steps in order to get our desired outcome:\n",
        "\n",
        "\n",
        "1.   Exploratory Data Analysis and Feature Engineering.\n",
        "3.   Choosing Candidate Models and preparing data for training.\n",
        "4.   Training the models and evaluating them.\n",
        "\n"
      ]
    },
    {
      "cell_type": "code",
      "metadata": {
        "id": "KJjOCQabzuBE",
        "colab": {
          "base_uri": "https://localhost:8080/"
        },
        "outputId": "0b53d5d8-2ac1-47ec-d28d-3d7743f82eb6"
      },
      "source": [
        "#Importing the Libraries\n",
        "import pandas as pd\n",
        "import numpy as np\n",
        "from scipy.stats import randint\n",
        "import seaborn as sns # used for plot interactive graph. \n",
        "import matplotlib.pyplot as plt\n",
        "import seaborn as sns\n",
        "sns.set(color_codes=True)\n",
        "!pip install --upgrade scikit-learn #restart runtime after this first cell to upgrade the scikit learn library"
      ],
      "execution_count": 1,
      "outputs": [
        {
          "output_type": "stream",
          "name": "stdout",
          "text": [
            "Requirement already satisfied: scikit-learn in /usr/local/lib/python3.7/dist-packages (0.22.2.post1)\n",
            "Collecting scikit-learn\n",
            "  Downloading scikit_learn-1.0.1-cp37-cp37m-manylinux_2_12_x86_64.manylinux2010_x86_64.whl (23.2 MB)\n",
            "\u001b[K     |████████████████████████████████| 23.2 MB 1.4 MB/s \n",
            "\u001b[?25hRequirement already satisfied: scipy>=1.1.0 in /usr/local/lib/python3.7/dist-packages (from scikit-learn) (1.4.1)\n",
            "Collecting threadpoolctl>=2.0.0\n",
            "  Downloading threadpoolctl-3.0.0-py3-none-any.whl (14 kB)\n",
            "Requirement already satisfied: joblib>=0.11 in /usr/local/lib/python3.7/dist-packages (from scikit-learn) (1.0.1)\n",
            "Requirement already satisfied: numpy>=1.14.6 in /usr/local/lib/python3.7/dist-packages (from scikit-learn) (1.19.5)\n",
            "Installing collected packages: threadpoolctl, scikit-learn\n",
            "  Attempting uninstall: scikit-learn\n",
            "    Found existing installation: scikit-learn 0.22.2.post1\n",
            "    Uninstalling scikit-learn-0.22.2.post1:\n",
            "      Successfully uninstalled scikit-learn-0.22.2.post1\n",
            "Successfully installed scikit-learn-1.0.1 threadpoolctl-3.0.0\n"
          ]
        }
      ]
    },
    {
      "cell_type": "code",
      "metadata": {
        "colab": {
          "base_uri": "https://localhost:8080/"
        },
        "id": "ETQUOWF00A40",
        "outputId": "fd75f8b4-76a0-4f44-fb55-925536c8b4fa"
      },
      "source": [
        "#Loading the data\n",
        "df = pd.read_csv('/content/drive/MyDrive/DS-challenge-dataset.csv')\n",
        "df.shape"
      ],
      "execution_count": 2,
      "outputs": [
        {
          "output_type": "execute_result",
          "data": {
            "text/plain": [
              "(3786, 17)"
            ]
          },
          "metadata": {},
          "execution_count": 2
        }
      ]
    },
    {
      "cell_type": "markdown",
      "metadata": {
        "id": "bUjyYYOWpb3D"
      },
      "source": [
        "\n",
        "\n",
        "# 1.  Exploratory Data Analysis and Feature Engineering.\n",
        "\n",
        "\n"
      ]
    },
    {
      "cell_type": "markdown",
      "metadata": {
        "id": "0B9d-MD5lfki"
      },
      "source": [
        "## Pre-cleaning"
      ]
    },
    {
      "cell_type": "code",
      "metadata": {
        "colab": {
          "base_uri": "https://localhost:8080/",
          "height": 583
        },
        "id": "La8b4meQ0jVh",
        "outputId": "b0b60b98-2a8b-4ccb-e204-7ace2fe3c01e"
      },
      "source": [
        "df.head(5).T # My Personal way of exploring the data by showing Columns in rows for easier reading and intial comprehension\n"
      ],
      "execution_count": 3,
      "outputs": [
        {
          "output_type": "execute_result",
          "data": {
            "text/html": [
              "<div>\n",
              "<style scoped>\n",
              "    .dataframe tbody tr th:only-of-type {\n",
              "        vertical-align: middle;\n",
              "    }\n",
              "\n",
              "    .dataframe tbody tr th {\n",
              "        vertical-align: top;\n",
              "    }\n",
              "\n",
              "    .dataframe thead th {\n",
              "        text-align: right;\n",
              "    }\n",
              "</style>\n",
              "<table border=\"1\" class=\"dataframe\">\n",
              "  <thead>\n",
              "    <tr style=\"text-align: right;\">\n",
              "      <th></th>\n",
              "      <th>0</th>\n",
              "      <th>1</th>\n",
              "      <th>2</th>\n",
              "      <th>3</th>\n",
              "      <th>4</th>\n",
              "    </tr>\n",
              "  </thead>\n",
              "  <tbody>\n",
              "    <tr>\n",
              "      <th>id</th>\n",
              "      <td>5288</td>\n",
              "      <td>5285</td>\n",
              "      <td>5282</td>\n",
              "      <td>5277</td>\n",
              "      <td>5279</td>\n",
              "    </tr>\n",
              "    <tr>\n",
              "      <th>duration</th>\n",
              "      <td>657.344</td>\n",
              "      <td>205.479</td>\n",
              "      <td>1607.1</td>\n",
              "      <td>249.913</td>\n",
              "      <td>1948.75</td>\n",
              "    </tr>\n",
              "    <tr>\n",
              "      <th>date</th>\n",
              "      <td>2021-10-11 12:02:24</td>\n",
              "      <td>2021-10-08 18:04:23</td>\n",
              "      <td>2021-10-08 11:03:51</td>\n",
              "      <td>2021-10-07 18:10:25</td>\n",
              "      <td>2021-10-07 18:00:00</td>\n",
              "    </tr>\n",
              "    <tr>\n",
              "      <th>userId</th>\n",
              "      <td>14</td>\n",
              "      <td>63</td>\n",
              "      <td>18</td>\n",
              "      <td>23</td>\n",
              "      <td>8</td>\n",
              "    </tr>\n",
              "    <tr>\n",
              "      <th>modifiedById</th>\n",
              "      <td>NaN</td>\n",
              "      <td>NaN</td>\n",
              "      <td>NaN</td>\n",
              "      <td>NaN</td>\n",
              "      <td>NaN</td>\n",
              "    </tr>\n",
              "    <tr>\n",
              "      <th>phoneProvider</th>\n",
              "      <td>zoom</td>\n",
              "      <td>aircall</td>\n",
              "      <td>zoom</td>\n",
              "      <td>aircall</td>\n",
              "      <td>google</td>\n",
              "    </tr>\n",
              "    <tr>\n",
              "      <th>direction</th>\n",
              "      <td>outbound</td>\n",
              "      <td>outbound</td>\n",
              "      <td>outbound</td>\n",
              "      <td>outbound</td>\n",
              "      <td>outbound</td>\n",
              "    </tr>\n",
              "    <tr>\n",
              "      <th>mediaType</th>\n",
              "      <td>video</td>\n",
              "      <td>audio</td>\n",
              "      <td>video</td>\n",
              "      <td>audio</td>\n",
              "      <td>video</td>\n",
              "    </tr>\n",
              "    <tr>\n",
              "      <th>dealId</th>\n",
              "      <td>543</td>\n",
              "      <td>NaN</td>\n",
              "      <td>488</td>\n",
              "      <td>NaN</td>\n",
              "      <td>NaN</td>\n",
              "    </tr>\n",
              "    <tr>\n",
              "      <th>userTalkRatio</th>\n",
              "      <td>0.292525</td>\n",
              "      <td>0.452397</td>\n",
              "      <td>0.483552</td>\n",
              "      <td>0.452936</td>\n",
              "      <td>0.315928</td>\n",
              "    </tr>\n",
              "    <tr>\n",
              "      <th>longestContactMonologue</th>\n",
              "      <td>80.3005</td>\n",
              "      <td>23.7086</td>\n",
              "      <td>57.8361</td>\n",
              "      <td>43.1858</td>\n",
              "      <td>267.82</td>\n",
              "    </tr>\n",
              "    <tr>\n",
              "      <th>patience</th>\n",
              "      <td>0.771135</td>\n",
              "      <td>0.405282</td>\n",
              "      <td>0.278629</td>\n",
              "      <td>1.77115</td>\n",
              "      <td>0.467794</td>\n",
              "    </tr>\n",
              "    <tr>\n",
              "      <th>interactionSpeed</th>\n",
              "      <td>3.01212</td>\n",
              "      <td>8.17601</td>\n",
              "      <td>4.59211</td>\n",
              "      <td>5.52191</td>\n",
              "      <td>2.03207</td>\n",
              "    </tr>\n",
              "    <tr>\n",
              "      <th>role</th>\n",
              "      <td>admin</td>\n",
              "      <td>admin</td>\n",
              "      <td>admin</td>\n",
              "      <td>admin</td>\n",
              "      <td>admin</td>\n",
              "    </tr>\n",
              "    <tr>\n",
              "      <th>teams</th>\n",
              "      <td>{Sales}</td>\n",
              "      <td>{Sales}</td>\n",
              "      <td>{Account Manager}</td>\n",
              "      <td>{Sales}</td>\n",
              "      <td>{Sales}</td>\n",
              "    </tr>\n",
              "    <tr>\n",
              "      <th>contacts</th>\n",
              "      <td>1</td>\n",
              "      <td>1</td>\n",
              "      <td>1</td>\n",
              "      <td>1</td>\n",
              "      <td>2</td>\n",
              "    </tr>\n",
              "    <tr>\n",
              "      <th>tag</th>\n",
              "      <td>Client Follow Up</td>\n",
              "      <td>Cold Call</td>\n",
              "      <td>Client Follow Up</td>\n",
              "      <td>Unscheduled Follow up</td>\n",
              "      <td>1st Call</td>\n",
              "    </tr>\n",
              "  </tbody>\n",
              "</table>\n",
              "</div>"
            ],
            "text/plain": [
              "                                           0  ...                    4\n",
              "id                                      5288  ...                 5279\n",
              "duration                             657.344  ...              1948.75\n",
              "date                     2021-10-11 12:02:24  ...  2021-10-07 18:00:00\n",
              "userId                                    14  ...                    8\n",
              "modifiedById                             NaN  ...                  NaN\n",
              "phoneProvider                           zoom  ...               google\n",
              "direction                           outbound  ...             outbound\n",
              "mediaType                              video  ...                video\n",
              "dealId                                   543  ...                  NaN\n",
              "userTalkRatio                       0.292525  ...             0.315928\n",
              "longestContactMonologue              80.3005  ...               267.82\n",
              "patience                            0.771135  ...             0.467794\n",
              "interactionSpeed                     3.01212  ...              2.03207\n",
              "role                                   admin  ...                admin\n",
              "teams                                {Sales}  ...              {Sales}\n",
              "contacts                                   1  ...                    2\n",
              "tag                         Client Follow Up  ...             1st Call\n",
              "\n",
              "[17 rows x 5 columns]"
            ]
          },
          "metadata": {},
          "execution_count": 3
        }
      ]
    },
    {
      "cell_type": "code",
      "metadata": {
        "colab": {
          "base_uri": "https://localhost:8080/",
          "height": 618
        },
        "id": "mRl37yIqsUCO",
        "outputId": "ab2c4752-f568-4ffb-b5e5-2a8bc0a94e5a"
      },
      "source": [
        "#before anything let's get rid of the huge decimals by rounding up to 2 numbers after the decimal\n",
        "df = df.round(2)# this is just musch cleaner and easier to visualize.\n",
        "df "
      ],
      "execution_count": 4,
      "outputs": [
        {
          "output_type": "execute_result",
          "data": {
            "text/html": [
              "<div>\n",
              "<style scoped>\n",
              "    .dataframe tbody tr th:only-of-type {\n",
              "        vertical-align: middle;\n",
              "    }\n",
              "\n",
              "    .dataframe tbody tr th {\n",
              "        vertical-align: top;\n",
              "    }\n",
              "\n",
              "    .dataframe thead th {\n",
              "        text-align: right;\n",
              "    }\n",
              "</style>\n",
              "<table border=\"1\" class=\"dataframe\">\n",
              "  <thead>\n",
              "    <tr style=\"text-align: right;\">\n",
              "      <th></th>\n",
              "      <th>id</th>\n",
              "      <th>duration</th>\n",
              "      <th>date</th>\n",
              "      <th>userId</th>\n",
              "      <th>modifiedById</th>\n",
              "      <th>phoneProvider</th>\n",
              "      <th>direction</th>\n",
              "      <th>mediaType</th>\n",
              "      <th>dealId</th>\n",
              "      <th>userTalkRatio</th>\n",
              "      <th>longestContactMonologue</th>\n",
              "      <th>patience</th>\n",
              "      <th>interactionSpeed</th>\n",
              "      <th>role</th>\n",
              "      <th>teams</th>\n",
              "      <th>contacts</th>\n",
              "      <th>tag</th>\n",
              "    </tr>\n",
              "  </thead>\n",
              "  <tbody>\n",
              "    <tr>\n",
              "      <th>0</th>\n",
              "      <td>5288</td>\n",
              "      <td>657.34</td>\n",
              "      <td>2021-10-11 12:02:24</td>\n",
              "      <td>14</td>\n",
              "      <td>NaN</td>\n",
              "      <td>zoom</td>\n",
              "      <td>outbound</td>\n",
              "      <td>video</td>\n",
              "      <td>543.0</td>\n",
              "      <td>0.29</td>\n",
              "      <td>80.30</td>\n",
              "      <td>0.77</td>\n",
              "      <td>3.01</td>\n",
              "      <td>admin</td>\n",
              "      <td>{Sales}</td>\n",
              "      <td>1.0</td>\n",
              "      <td>Client Follow Up</td>\n",
              "    </tr>\n",
              "    <tr>\n",
              "      <th>1</th>\n",
              "      <td>5285</td>\n",
              "      <td>205.48</td>\n",
              "      <td>2021-10-08 18:04:23</td>\n",
              "      <td>63</td>\n",
              "      <td>NaN</td>\n",
              "      <td>aircall</td>\n",
              "      <td>outbound</td>\n",
              "      <td>audio</td>\n",
              "      <td>NaN</td>\n",
              "      <td>0.45</td>\n",
              "      <td>23.71</td>\n",
              "      <td>0.41</td>\n",
              "      <td>8.18</td>\n",
              "      <td>admin</td>\n",
              "      <td>{Sales}</td>\n",
              "      <td>1.0</td>\n",
              "      <td>Cold Call</td>\n",
              "    </tr>\n",
              "    <tr>\n",
              "      <th>2</th>\n",
              "      <td>5282</td>\n",
              "      <td>1607.10</td>\n",
              "      <td>2021-10-08 11:03:51</td>\n",
              "      <td>18</td>\n",
              "      <td>NaN</td>\n",
              "      <td>zoom</td>\n",
              "      <td>outbound</td>\n",
              "      <td>video</td>\n",
              "      <td>488.0</td>\n",
              "      <td>0.48</td>\n",
              "      <td>57.84</td>\n",
              "      <td>0.28</td>\n",
              "      <td>4.59</td>\n",
              "      <td>admin</td>\n",
              "      <td>{Account Manager}</td>\n",
              "      <td>1.0</td>\n",
              "      <td>Client Follow Up</td>\n",
              "    </tr>\n",
              "    <tr>\n",
              "      <th>3</th>\n",
              "      <td>5277</td>\n",
              "      <td>249.91</td>\n",
              "      <td>2021-10-07 18:10:25</td>\n",
              "      <td>23</td>\n",
              "      <td>NaN</td>\n",
              "      <td>aircall</td>\n",
              "      <td>outbound</td>\n",
              "      <td>audio</td>\n",
              "      <td>NaN</td>\n",
              "      <td>0.45</td>\n",
              "      <td>43.19</td>\n",
              "      <td>1.77</td>\n",
              "      <td>5.52</td>\n",
              "      <td>admin</td>\n",
              "      <td>{Sales}</td>\n",
              "      <td>1.0</td>\n",
              "      <td>Unscheduled Follow up</td>\n",
              "    </tr>\n",
              "    <tr>\n",
              "      <th>4</th>\n",
              "      <td>5279</td>\n",
              "      <td>1948.75</td>\n",
              "      <td>2021-10-07 18:00:00</td>\n",
              "      <td>8</td>\n",
              "      <td>NaN</td>\n",
              "      <td>google</td>\n",
              "      <td>outbound</td>\n",
              "      <td>video</td>\n",
              "      <td>NaN</td>\n",
              "      <td>0.32</td>\n",
              "      <td>267.82</td>\n",
              "      <td>0.47</td>\n",
              "      <td>2.03</td>\n",
              "      <td>admin</td>\n",
              "      <td>{Sales}</td>\n",
              "      <td>2.0</td>\n",
              "      <td>1st Call</td>\n",
              "    </tr>\n",
              "    <tr>\n",
              "      <th>...</th>\n",
              "      <td>...</td>\n",
              "      <td>...</td>\n",
              "      <td>...</td>\n",
              "      <td>...</td>\n",
              "      <td>...</td>\n",
              "      <td>...</td>\n",
              "      <td>...</td>\n",
              "      <td>...</td>\n",
              "      <td>...</td>\n",
              "      <td>...</td>\n",
              "      <td>...</td>\n",
              "      <td>...</td>\n",
              "      <td>...</td>\n",
              "      <td>...</td>\n",
              "      <td>...</td>\n",
              "      <td>...</td>\n",
              "      <td>...</td>\n",
              "    </tr>\n",
              "    <tr>\n",
              "      <th>3781</th>\n",
              "      <td>6</td>\n",
              "      <td>4448.00</td>\n",
              "      <td>2020-05-18 12:01:18</td>\n",
              "      <td>1</td>\n",
              "      <td>NaN</td>\n",
              "      <td>zoom</td>\n",
              "      <td>outbound</td>\n",
              "      <td>audio</td>\n",
              "      <td>NaN</td>\n",
              "      <td>0.26</td>\n",
              "      <td>198.98</td>\n",
              "      <td>1.65</td>\n",
              "      <td>2.01</td>\n",
              "      <td>admin</td>\n",
              "      <td>{Sales}</td>\n",
              "      <td>1.0</td>\n",
              "      <td>Demo</td>\n",
              "    </tr>\n",
              "    <tr>\n",
              "      <th>3782</th>\n",
              "      <td>5</td>\n",
              "      <td>3756.00</td>\n",
              "      <td>2020-05-14 14:00:35</td>\n",
              "      <td>3</td>\n",
              "      <td>NaN</td>\n",
              "      <td>zoom</td>\n",
              "      <td>outbound</td>\n",
              "      <td>audio</td>\n",
              "      <td>NaN</td>\n",
              "      <td>0.45</td>\n",
              "      <td>257.12</td>\n",
              "      <td>0.83</td>\n",
              "      <td>1.71</td>\n",
              "      <td>admin</td>\n",
              "      <td>{Account Manager,Product}</td>\n",
              "      <td>3.0</td>\n",
              "      <td>Other</td>\n",
              "    </tr>\n",
              "    <tr>\n",
              "      <th>3783</th>\n",
              "      <td>4</td>\n",
              "      <td>2139.00</td>\n",
              "      <td>2020-05-14 10:04:10</td>\n",
              "      <td>1</td>\n",
              "      <td>NaN</td>\n",
              "      <td>zoom</td>\n",
              "      <td>outbound</td>\n",
              "      <td>audio</td>\n",
              "      <td>NaN</td>\n",
              "      <td>0.30</td>\n",
              "      <td>153.16</td>\n",
              "      <td>1.30</td>\n",
              "      <td>2.44</td>\n",
              "      <td>admin</td>\n",
              "      <td>{Sales}</td>\n",
              "      <td>1.0</td>\n",
              "      <td>1st Call</td>\n",
              "    </tr>\n",
              "    <tr>\n",
              "      <th>3784</th>\n",
              "      <td>2</td>\n",
              "      <td>2151.00</td>\n",
              "      <td>2020-05-12 15:04:06</td>\n",
              "      <td>1</td>\n",
              "      <td>NaN</td>\n",
              "      <td>zoom</td>\n",
              "      <td>outbound</td>\n",
              "      <td>audio</td>\n",
              "      <td>NaN</td>\n",
              "      <td>0.42</td>\n",
              "      <td>120.53</td>\n",
              "      <td>0.73</td>\n",
              "      <td>2.57</td>\n",
              "      <td>admin</td>\n",
              "      <td>{Sales}</td>\n",
              "      <td>2.0</td>\n",
              "      <td>1st Call</td>\n",
              "    </tr>\n",
              "    <tr>\n",
              "      <th>3785</th>\n",
              "      <td>1</td>\n",
              "      <td>1772.00</td>\n",
              "      <td>2020-05-11 16:55:00</td>\n",
              "      <td>1</td>\n",
              "      <td>NaN</td>\n",
              "      <td>zoom</td>\n",
              "      <td>outbound</td>\n",
              "      <td>audio</td>\n",
              "      <td>NaN</td>\n",
              "      <td>0.54</td>\n",
              "      <td>72.70</td>\n",
              "      <td>0.00</td>\n",
              "      <td>0.14</td>\n",
              "      <td>admin</td>\n",
              "      <td>{Sales}</td>\n",
              "      <td>1.0</td>\n",
              "      <td>Demo</td>\n",
              "    </tr>\n",
              "  </tbody>\n",
              "</table>\n",
              "<p>3786 rows × 17 columns</p>\n",
              "</div>"
            ],
            "text/plain": [
              "        id  duration  ... contacts                    tag\n",
              "0     5288    657.34  ...      1.0       Client Follow Up\n",
              "1     5285    205.48  ...      1.0              Cold Call\n",
              "2     5282   1607.10  ...      1.0       Client Follow Up\n",
              "3     5277    249.91  ...      1.0  Unscheduled Follow up\n",
              "4     5279   1948.75  ...      2.0               1st Call\n",
              "...    ...       ...  ...      ...                    ...\n",
              "3781     6   4448.00  ...      1.0                   Demo\n",
              "3782     5   3756.00  ...      3.0                  Other\n",
              "3783     4   2139.00  ...      1.0               1st Call\n",
              "3784     2   2151.00  ...      2.0               1st Call\n",
              "3785     1   1772.00  ...      1.0                   Demo\n",
              "\n",
              "[3786 rows x 17 columns]"
            ]
          },
          "metadata": {},
          "execution_count": 4
        }
      ]
    },
    {
      "cell_type": "markdown",
      "metadata": {
        "id": "ag3aMbQ6mV99"
      },
      "source": [
        "### Column Types coherence \n",
        "\n"
      ]
    },
    {
      "cell_type": "markdown",
      "metadata": {
        "id": "KaR4b574ApcX"
      },
      "source": [
        "**Here we check for the datatypes because sometimes some numeric columns would be stored as a string or object, if in that case, we have to convert that string to the integer data only then we can plot the data via  graphs later.**"
      ]
    },
    {
      "cell_type": "code",
      "metadata": {
        "colab": {
          "base_uri": "https://localhost:8080/"
        },
        "id": "LxFuxzxOoVmO",
        "outputId": "b60731f4-20e5-454e-e3b0-7f13a4b8ced6"
      },
      "source": [
        "df.dtypes"
      ],
      "execution_count": 5,
      "outputs": [
        {
          "output_type": "execute_result",
          "data": {
            "text/plain": [
              "id                           int64\n",
              "duration                   float64\n",
              "date                        object\n",
              "userId                       int64\n",
              "modifiedById               float64\n",
              "phoneProvider               object\n",
              "direction                   object\n",
              "mediaType                   object\n",
              "dealId                     float64\n",
              "userTalkRatio              float64\n",
              "longestContactMonologue    float64\n",
              "patience                   float64\n",
              "interactionSpeed           float64\n",
              "role                        object\n",
              "teams                       object\n",
              "contacts                   float64\n",
              "tag                         object\n",
              "dtype: object"
            ]
          },
          "metadata": {},
          "execution_count": 5
        }
      ]
    },
    {
      "cell_type": "markdown",
      "metadata": {
        "id": "VAxUDvUjoLRO"
      },
      "source": [
        "**I noticed here that some columns are of type object ( i.e strings ) which means we'll have to either encode them or extract valuable information from them in order to pass through our predictive pipeline.**"
      ]
    },
    {
      "cell_type": "code",
      "metadata": {
        "colab": {
          "base_uri": "https://localhost:8080/",
          "height": 300
        },
        "id": "uL2R24QjaK0J",
        "outputId": "a3cd6150-8b6c-4b9f-9c05-9092ce0a3ef9"
      },
      "source": [
        "df.describe()"
      ],
      "execution_count": 6,
      "outputs": [
        {
          "output_type": "execute_result",
          "data": {
            "text/html": [
              "<div>\n",
              "<style scoped>\n",
              "    .dataframe tbody tr th:only-of-type {\n",
              "        vertical-align: middle;\n",
              "    }\n",
              "\n",
              "    .dataframe tbody tr th {\n",
              "        vertical-align: top;\n",
              "    }\n",
              "\n",
              "    .dataframe thead th {\n",
              "        text-align: right;\n",
              "    }\n",
              "</style>\n",
              "<table border=\"1\" class=\"dataframe\">\n",
              "  <thead>\n",
              "    <tr style=\"text-align: right;\">\n",
              "      <th></th>\n",
              "      <th>id</th>\n",
              "      <th>duration</th>\n",
              "      <th>userId</th>\n",
              "      <th>modifiedById</th>\n",
              "      <th>dealId</th>\n",
              "      <th>userTalkRatio</th>\n",
              "      <th>longestContactMonologue</th>\n",
              "      <th>patience</th>\n",
              "      <th>interactionSpeed</th>\n",
              "      <th>contacts</th>\n",
              "    </tr>\n",
              "  </thead>\n",
              "  <tbody>\n",
              "    <tr>\n",
              "      <th>count</th>\n",
              "      <td>3786.000000</td>\n",
              "      <td>3786.000000</td>\n",
              "      <td>3786.000000</td>\n",
              "      <td>780.000000</td>\n",
              "      <td>1604.000000</td>\n",
              "      <td>3786.000000</td>\n",
              "      <td>3786.000000</td>\n",
              "      <td>3786.000000</td>\n",
              "      <td>3786.000000</td>\n",
              "      <td>3785.000000</td>\n",
              "    </tr>\n",
              "    <tr>\n",
              "      <th>mean</th>\n",
              "      <td>2512.849445</td>\n",
              "      <td>1539.603096</td>\n",
              "      <td>12.104068</td>\n",
              "      <td>13.371795</td>\n",
              "      <td>275.250000</td>\n",
              "      <td>0.412274</td>\n",
              "      <td>119.351561</td>\n",
              "      <td>1.411725</td>\n",
              "      <td>2.842039</td>\n",
              "      <td>1.612682</td>\n",
              "    </tr>\n",
              "    <tr>\n",
              "      <th>std</th>\n",
              "      <td>1633.854007</td>\n",
              "      <td>1093.167973</td>\n",
              "      <td>9.140717</td>\n",
              "      <td>10.343409</td>\n",
              "      <td>172.546996</td>\n",
              "      <td>0.198329</td>\n",
              "      <td>208.211269</td>\n",
              "      <td>11.907283</td>\n",
              "      <td>1.621236</td>\n",
              "      <td>1.733286</td>\n",
              "    </tr>\n",
              "    <tr>\n",
              "      <th>min</th>\n",
              "      <td>1.000000</td>\n",
              "      <td>0.000000</td>\n",
              "      <td>1.000000</td>\n",
              "      <td>1.000000</td>\n",
              "      <td>1.000000</td>\n",
              "      <td>0.000000</td>\n",
              "      <td>0.000000</td>\n",
              "      <td>0.000000</td>\n",
              "      <td>0.000000</td>\n",
              "      <td>1.000000</td>\n",
              "    </tr>\n",
              "    <tr>\n",
              "      <th>25%</th>\n",
              "      <td>1062.250000</td>\n",
              "      <td>574.682500</td>\n",
              "      <td>8.000000</td>\n",
              "      <td>8.000000</td>\n",
              "      <td>129.000000</td>\n",
              "      <td>0.300000</td>\n",
              "      <td>38.532500</td>\n",
              "      <td>0.410000</td>\n",
              "      <td>1.920000</td>\n",
              "      <td>1.000000</td>\n",
              "    </tr>\n",
              "    <tr>\n",
              "      <th>50%</th>\n",
              "      <td>2084.500000</td>\n",
              "      <td>1531.585000</td>\n",
              "      <td>13.000000</td>\n",
              "      <td>14.000000</td>\n",
              "      <td>253.500000</td>\n",
              "      <td>0.440000</td>\n",
              "      <td>74.375000</td>\n",
              "      <td>0.640000</td>\n",
              "      <td>2.780000</td>\n",
              "      <td>1.000000</td>\n",
              "    </tr>\n",
              "    <tr>\n",
              "      <th>75%</th>\n",
              "      <td>4104.750000</td>\n",
              "      <td>2229.597500</td>\n",
              "      <td>17.000000</td>\n",
              "      <td>17.000000</td>\n",
              "      <td>413.000000</td>\n",
              "      <td>0.550000</td>\n",
              "      <td>127.697500</td>\n",
              "      <td>0.970000</td>\n",
              "      <td>3.780000</td>\n",
              "      <td>2.000000</td>\n",
              "    </tr>\n",
              "    <tr>\n",
              "      <th>max</th>\n",
              "      <td>5288.000000</td>\n",
              "      <td>10127.000000</td>\n",
              "      <td>63.000000</td>\n",
              "      <td>67.000000</td>\n",
              "      <td>645.000000</td>\n",
              "      <td>1.320000</td>\n",
              "      <td>3040.520000</td>\n",
              "      <td>470.640000</td>\n",
              "      <td>10.470000</td>\n",
              "      <td>44.000000</td>\n",
              "    </tr>\n",
              "  </tbody>\n",
              "</table>\n",
              "</div>"
            ],
            "text/plain": [
              "                id      duration  ...  interactionSpeed     contacts\n",
              "count  3786.000000   3786.000000  ...       3786.000000  3785.000000\n",
              "mean   2512.849445   1539.603096  ...          2.842039     1.612682\n",
              "std    1633.854007   1093.167973  ...          1.621236     1.733286\n",
              "min       1.000000      0.000000  ...          0.000000     1.000000\n",
              "25%    1062.250000    574.682500  ...          1.920000     1.000000\n",
              "50%    2084.500000   1531.585000  ...          2.780000     1.000000\n",
              "75%    4104.750000   2229.597500  ...          3.780000     2.000000\n",
              "max    5288.000000  10127.000000  ...         10.470000    44.000000\n",
              "\n",
              "[8 rows x 10 columns]"
            ]
          },
          "metadata": {},
          "execution_count": 6
        }
      ]
    },
    {
      "cell_type": "markdown",
      "metadata": {
        "id": "OwCU1uQtpowJ"
      },
      "source": [
        "**let's start by extracting all we can from the date column.**\n"
      ]
    },
    {
      "cell_type": "code",
      "metadata": {
        "colab": {
          "base_uri": "https://localhost:8080/"
        },
        "id": "MFYaeYPVjnnF",
        "outputId": "1efee678-efdd-49c0-d396-7345fbe07d84"
      },
      "source": [
        "# First I'll convert the type to datetime\n",
        "df['date'] = pd.to_datetime(df['date'], \n",
        " format = '%Y-%m-%d %H:%M:%S')\n",
        "df.date.head()"
      ],
      "execution_count": 7,
      "outputs": [
        {
          "output_type": "execute_result",
          "data": {
            "text/plain": [
              "0   2021-10-11 12:02:24\n",
              "1   2021-10-08 18:04:23\n",
              "2   2021-10-08 11:03:51\n",
              "3   2021-10-07 18:10:25\n",
              "4   2021-10-07 18:00:00\n",
              "Name: date, dtype: datetime64[ns]"
            ]
          },
          "metadata": {},
          "execution_count": 7
        }
      ]
    },
    {
      "cell_type": "markdown",
      "metadata": {
        "id": "OrEzV06hp8be"
      },
      "source": [
        "**My rational**here is that since these are phone calls we're working with,the time of the day and the month of the year might affect the **underlying sentiments** behind the call. For example some clients might be in a bad mood receiving a call during **the first or last hour of their workday**, or maybe our client is an auditing firm and their workload is much more subtantial **between January and Mars**. this is purely out of intuition however it also does help with our main task of dealing with the string data types"
      ]
    },
    {
      "cell_type": "code",
      "metadata": {
        "colab": {
          "base_uri": "https://localhost:8080/",
          "height": 313
        },
        "id": "Fs6bP3aqlLrF",
        "outputId": "7e23037c-4619-49e3-a76f-b72efe64e9f5"
      },
      "source": [
        "# Then let's get the important data into respective columns\n",
        "df['month']= df['date'].dt.month\n",
        "df['hour']= df['date'].dt.hour\n",
        "df['dayOfWeek']= df['date'].dt.dayofweek\n",
        "df.head()"
      ],
      "execution_count": 8,
      "outputs": [
        {
          "output_type": "execute_result",
          "data": {
            "text/html": [
              "<div>\n",
              "<style scoped>\n",
              "    .dataframe tbody tr th:only-of-type {\n",
              "        vertical-align: middle;\n",
              "    }\n",
              "\n",
              "    .dataframe tbody tr th {\n",
              "        vertical-align: top;\n",
              "    }\n",
              "\n",
              "    .dataframe thead th {\n",
              "        text-align: right;\n",
              "    }\n",
              "</style>\n",
              "<table border=\"1\" class=\"dataframe\">\n",
              "  <thead>\n",
              "    <tr style=\"text-align: right;\">\n",
              "      <th></th>\n",
              "      <th>id</th>\n",
              "      <th>duration</th>\n",
              "      <th>date</th>\n",
              "      <th>userId</th>\n",
              "      <th>modifiedById</th>\n",
              "      <th>phoneProvider</th>\n",
              "      <th>direction</th>\n",
              "      <th>mediaType</th>\n",
              "      <th>dealId</th>\n",
              "      <th>userTalkRatio</th>\n",
              "      <th>longestContactMonologue</th>\n",
              "      <th>patience</th>\n",
              "      <th>interactionSpeed</th>\n",
              "      <th>role</th>\n",
              "      <th>teams</th>\n",
              "      <th>contacts</th>\n",
              "      <th>tag</th>\n",
              "      <th>month</th>\n",
              "      <th>hour</th>\n",
              "      <th>dayOfWeek</th>\n",
              "    </tr>\n",
              "  </thead>\n",
              "  <tbody>\n",
              "    <tr>\n",
              "      <th>0</th>\n",
              "      <td>5288</td>\n",
              "      <td>657.34</td>\n",
              "      <td>2021-10-11 12:02:24</td>\n",
              "      <td>14</td>\n",
              "      <td>NaN</td>\n",
              "      <td>zoom</td>\n",
              "      <td>outbound</td>\n",
              "      <td>video</td>\n",
              "      <td>543.0</td>\n",
              "      <td>0.29</td>\n",
              "      <td>80.30</td>\n",
              "      <td>0.77</td>\n",
              "      <td>3.01</td>\n",
              "      <td>admin</td>\n",
              "      <td>{Sales}</td>\n",
              "      <td>1.0</td>\n",
              "      <td>Client Follow Up</td>\n",
              "      <td>10</td>\n",
              "      <td>12</td>\n",
              "      <td>0</td>\n",
              "    </tr>\n",
              "    <tr>\n",
              "      <th>1</th>\n",
              "      <td>5285</td>\n",
              "      <td>205.48</td>\n",
              "      <td>2021-10-08 18:04:23</td>\n",
              "      <td>63</td>\n",
              "      <td>NaN</td>\n",
              "      <td>aircall</td>\n",
              "      <td>outbound</td>\n",
              "      <td>audio</td>\n",
              "      <td>NaN</td>\n",
              "      <td>0.45</td>\n",
              "      <td>23.71</td>\n",
              "      <td>0.41</td>\n",
              "      <td>8.18</td>\n",
              "      <td>admin</td>\n",
              "      <td>{Sales}</td>\n",
              "      <td>1.0</td>\n",
              "      <td>Cold Call</td>\n",
              "      <td>10</td>\n",
              "      <td>18</td>\n",
              "      <td>4</td>\n",
              "    </tr>\n",
              "    <tr>\n",
              "      <th>2</th>\n",
              "      <td>5282</td>\n",
              "      <td>1607.10</td>\n",
              "      <td>2021-10-08 11:03:51</td>\n",
              "      <td>18</td>\n",
              "      <td>NaN</td>\n",
              "      <td>zoom</td>\n",
              "      <td>outbound</td>\n",
              "      <td>video</td>\n",
              "      <td>488.0</td>\n",
              "      <td>0.48</td>\n",
              "      <td>57.84</td>\n",
              "      <td>0.28</td>\n",
              "      <td>4.59</td>\n",
              "      <td>admin</td>\n",
              "      <td>{Account Manager}</td>\n",
              "      <td>1.0</td>\n",
              "      <td>Client Follow Up</td>\n",
              "      <td>10</td>\n",
              "      <td>11</td>\n",
              "      <td>4</td>\n",
              "    </tr>\n",
              "    <tr>\n",
              "      <th>3</th>\n",
              "      <td>5277</td>\n",
              "      <td>249.91</td>\n",
              "      <td>2021-10-07 18:10:25</td>\n",
              "      <td>23</td>\n",
              "      <td>NaN</td>\n",
              "      <td>aircall</td>\n",
              "      <td>outbound</td>\n",
              "      <td>audio</td>\n",
              "      <td>NaN</td>\n",
              "      <td>0.45</td>\n",
              "      <td>43.19</td>\n",
              "      <td>1.77</td>\n",
              "      <td>5.52</td>\n",
              "      <td>admin</td>\n",
              "      <td>{Sales}</td>\n",
              "      <td>1.0</td>\n",
              "      <td>Unscheduled Follow up</td>\n",
              "      <td>10</td>\n",
              "      <td>18</td>\n",
              "      <td>3</td>\n",
              "    </tr>\n",
              "    <tr>\n",
              "      <th>4</th>\n",
              "      <td>5279</td>\n",
              "      <td>1948.75</td>\n",
              "      <td>2021-10-07 18:00:00</td>\n",
              "      <td>8</td>\n",
              "      <td>NaN</td>\n",
              "      <td>google</td>\n",
              "      <td>outbound</td>\n",
              "      <td>video</td>\n",
              "      <td>NaN</td>\n",
              "      <td>0.32</td>\n",
              "      <td>267.82</td>\n",
              "      <td>0.47</td>\n",
              "      <td>2.03</td>\n",
              "      <td>admin</td>\n",
              "      <td>{Sales}</td>\n",
              "      <td>2.0</td>\n",
              "      <td>1st Call</td>\n",
              "      <td>10</td>\n",
              "      <td>18</td>\n",
              "      <td>3</td>\n",
              "    </tr>\n",
              "  </tbody>\n",
              "</table>\n",
              "</div>"
            ],
            "text/plain": [
              "     id  duration                date  ...  month  hour dayOfWeek\n",
              "0  5288    657.34 2021-10-11 12:02:24  ...     10    12         0\n",
              "1  5285    205.48 2021-10-08 18:04:23  ...     10    18         4\n",
              "2  5282   1607.10 2021-10-08 11:03:51  ...     10    11         4\n",
              "3  5277    249.91 2021-10-07 18:10:25  ...     10    18         3\n",
              "4  5279   1948.75 2021-10-07 18:00:00  ...     10    18         3\n",
              "\n",
              "[5 rows x 20 columns]"
            ]
          },
          "metadata": {},
          "execution_count": 8
        }
      ]
    },
    {
      "cell_type": "markdown",
      "metadata": {
        "id": "j3NmkD-ZmMqL"
      },
      "source": [
        "### Dealing with Null Values"
      ]
    },
    {
      "cell_type": "code",
      "metadata": {
        "colab": {
          "base_uri": "https://localhost:8080/"
        },
        "id": "IKRI441vmAAx",
        "outputId": "f895bcde-d836-48cb-eeff-8fbbf800af8f"
      },
      "source": [
        "# Let's take a look at all the null values, some of them tend to hide, others like to shine throughout the data. \n",
        "df.isnull().sum()"
      ],
      "execution_count": 9,
      "outputs": [
        {
          "output_type": "execute_result",
          "data": {
            "text/plain": [
              "id                            0\n",
              "duration                      0\n",
              "date                          0\n",
              "userId                        0\n",
              "modifiedById               3006\n",
              "phoneProvider                 0\n",
              "direction                     0\n",
              "mediaType                     0\n",
              "dealId                     2182\n",
              "userTalkRatio                 0\n",
              "longestContactMonologue       0\n",
              "patience                      0\n",
              "interactionSpeed              0\n",
              "role                          0\n",
              "teams                        58\n",
              "contacts                      1\n",
              "tag                           0\n",
              "month                         0\n",
              "hour                          0\n",
              "dayOfWeek                     0\n",
              "dtype: int64"
            ]
          },
          "metadata": {},
          "execution_count": 9
        }
      ]
    },
    {
      "cell_type": "markdown",
      "metadata": {
        "id": "OQawqOJIv8D5"
      },
      "source": [
        "**One thing that's been on my mind since the first exploration are these Null values mainly in the 'modifiedById' and 'dealId' , let's focus our scope on them and see what we can do anything about it**"
      ]
    },
    {
      "cell_type": "code",
      "metadata": {
        "id": "cPj034jGfMnG",
        "colab": {
          "base_uri": "https://localhost:8080/",
          "height": 175
        },
        "outputId": "03f3b9c6-c51e-45ff-af4a-802234199e6b"
      },
      "source": [
        "# A temporary DF to better visualize our missing values\n",
        "temp = df[df.columns].isnull().sum()\n",
        "temp = temp.to_frame('missing_values')\n",
        "temp['percentage_of_missing_values'] = (df[df.columns].isnull().sum()/df.shape[0])*100\n",
        "temp = temp.round(2)[temp.percentage_of_missing_values !=0]\n",
        "temp"
      ],
      "execution_count": 10,
      "outputs": [
        {
          "output_type": "execute_result",
          "data": {
            "text/html": [
              "<div>\n",
              "<style scoped>\n",
              "    .dataframe tbody tr th:only-of-type {\n",
              "        vertical-align: middle;\n",
              "    }\n",
              "\n",
              "    .dataframe tbody tr th {\n",
              "        vertical-align: top;\n",
              "    }\n",
              "\n",
              "    .dataframe thead th {\n",
              "        text-align: right;\n",
              "    }\n",
              "</style>\n",
              "<table border=\"1\" class=\"dataframe\">\n",
              "  <thead>\n",
              "    <tr style=\"text-align: right;\">\n",
              "      <th></th>\n",
              "      <th>missing_values</th>\n",
              "      <th>percentage_of_missing_values</th>\n",
              "    </tr>\n",
              "  </thead>\n",
              "  <tbody>\n",
              "    <tr>\n",
              "      <th>modifiedById</th>\n",
              "      <td>3006</td>\n",
              "      <td>79.40</td>\n",
              "    </tr>\n",
              "    <tr>\n",
              "      <th>dealId</th>\n",
              "      <td>2182</td>\n",
              "      <td>57.63</td>\n",
              "    </tr>\n",
              "    <tr>\n",
              "      <th>teams</th>\n",
              "      <td>58</td>\n",
              "      <td>1.53</td>\n",
              "    </tr>\n",
              "    <tr>\n",
              "      <th>contacts</th>\n",
              "      <td>1</td>\n",
              "      <td>0.03</td>\n",
              "    </tr>\n",
              "  </tbody>\n",
              "</table>\n",
              "</div>"
            ],
            "text/plain": [
              "              missing_values  percentage_of_missing_values\n",
              "modifiedById            3006                         79.40\n",
              "dealId                  2182                         57.63\n",
              "teams                     58                          1.53\n",
              "contacts                   1                          0.03"
            ]
          },
          "metadata": {},
          "execution_count": 10
        }
      ]
    },
    {
      "cell_type": "markdown",
      "metadata": {
        "id": "lRRgA2gbfbzQ"
      },
      "source": [
        "**Okey, now that I have a good idea on what needs to be done in every column in regards to the Null values, let's start with the easiest issues for teams and contacts then we'll move to more drastic measures for the modifiedById and DealId columns**"
      ]
    },
    {
      "cell_type": "code",
      "metadata": {
        "id": "0hoE84opedBt"
      },
      "source": [
        "def get_most_frequent_value(Pandascolumn):\n",
        "    value = df[Pandascolumn][df[Pandascolumn].notnull()].value_counts().index[0]\n",
        "    numberOfOccurence = df[Pandascolumn][df[Pandascolumn].notnull()].value_counts().max()\n",
        "    print(f\" The value '{value}' occured '{numberOfOccurence}' times.\")\n",
        "    return value"
      ],
      "execution_count": 11,
      "outputs": []
    },
    {
      "cell_type": "markdown",
      "metadata": {
        "id": "psEehK0ri1y2"
      },
      "source": [
        "**The function above returns the most frequent value (their mode) in a certain column, using these two values I'll fix the null problems in the contacts and teams columns.**"
      ]
    },
    {
      "cell_type": "code",
      "metadata": {
        "colab": {
          "base_uri": "https://localhost:8080/"
        },
        "id": "BOQFwkChhtCh",
        "outputId": "b1cf1bfa-7688-4510-ca62-48acaebc731c"
      },
      "source": [
        "most_frequent_contact = get_most_frequent_value('contacts')\n",
        "most_frequent_team = get_most_frequent_value('teams')"
      ],
      "execution_count": 12,
      "outputs": [
        {
          "output_type": "stream",
          "name": "stdout",
          "text": [
            " The value '1.0' occured '2761' times.\n",
            " The value '{Sales}' occured '3246' times.\n"
          ]
        }
      ]
    },
    {
      "cell_type": "code",
      "metadata": {
        "colab": {
          "base_uri": "https://localhost:8080/"
        },
        "id": "zEVruCQlkwGk",
        "outputId": "7d5ffe9d-6d56-4092-91d9-df8547f41501"
      },
      "source": [
        "print(most_frequent_team)"
      ],
      "execution_count": 13,
      "outputs": [
        {
          "output_type": "stream",
          "name": "stdout",
          "text": [
            "{Sales}\n"
          ]
        }
      ]
    },
    {
      "cell_type": "code",
      "metadata": {
        "id": "QNcHiTdMe86K"
      },
      "source": [
        "# replacing na values in contacts and teams with their respective mode\n",
        "df[\"contacts\"].fillna(most_frequent_contact, inplace = True)\n",
        "df[\"teams\"].fillna(most_frequent_team, inplace = True)"
      ],
      "execution_count": 14,
      "outputs": []
    },
    {
      "cell_type": "markdown",
      "metadata": {
        "id": "i4adR-5opawH"
      },
      "source": [
        "**In the missing rows table below we realize that DealId column is 58% missing values, and modifiedById is almost 80% missing values! this is more than enough for us to take the harsh decision of dropping the columns in this use case.**"
      ]
    },
    {
      "cell_type": "code",
      "metadata": {
        "colab": {
          "base_uri": "https://localhost:8080/",
          "height": 175
        },
        "id": "BPzj8ClDlBZt",
        "outputId": "4d3b5c92-1c6e-4238-e869-187767ae8d7c"
      },
      "source": [
        "temp"
      ],
      "execution_count": 15,
      "outputs": [
        {
          "output_type": "execute_result",
          "data": {
            "text/html": [
              "<div>\n",
              "<style scoped>\n",
              "    .dataframe tbody tr th:only-of-type {\n",
              "        vertical-align: middle;\n",
              "    }\n",
              "\n",
              "    .dataframe tbody tr th {\n",
              "        vertical-align: top;\n",
              "    }\n",
              "\n",
              "    .dataframe thead th {\n",
              "        text-align: right;\n",
              "    }\n",
              "</style>\n",
              "<table border=\"1\" class=\"dataframe\">\n",
              "  <thead>\n",
              "    <tr style=\"text-align: right;\">\n",
              "      <th></th>\n",
              "      <th>missing_values</th>\n",
              "      <th>percentage_of_missing_values</th>\n",
              "    </tr>\n",
              "  </thead>\n",
              "  <tbody>\n",
              "    <tr>\n",
              "      <th>modifiedById</th>\n",
              "      <td>3006</td>\n",
              "      <td>79.40</td>\n",
              "    </tr>\n",
              "    <tr>\n",
              "      <th>dealId</th>\n",
              "      <td>2182</td>\n",
              "      <td>57.63</td>\n",
              "    </tr>\n",
              "    <tr>\n",
              "      <th>teams</th>\n",
              "      <td>58</td>\n",
              "      <td>1.53</td>\n",
              "    </tr>\n",
              "    <tr>\n",
              "      <th>contacts</th>\n",
              "      <td>1</td>\n",
              "      <td>0.03</td>\n",
              "    </tr>\n",
              "  </tbody>\n",
              "</table>\n",
              "</div>"
            ],
            "text/plain": [
              "              missing_values  percentage_of_missing_values\n",
              "modifiedById            3006                         79.40\n",
              "dealId                  2182                         57.63\n",
              "teams                     58                          1.53\n",
              "contacts                   1                          0.03"
            ]
          },
          "metadata": {},
          "execution_count": 15
        }
      ]
    },
    {
      "cell_type": "markdown",
      "metadata": {
        "id": "l_HByuOyvUcE"
      },
      "source": [
        " ### Dropping columns that won't affect the prediction"
      ]
    },
    {
      "cell_type": "markdown",
      "metadata": {
        "id": "0MD-t1A7vlu4"
      },
      "source": [
        "**Let's move on now to choosing the other columns that are counterproductive for the prediction task, the 'id'  and 'userId' columns mainly is basically just noise**"
      ]
    },
    {
      "cell_type": "markdown",
      "metadata": {
        "id": "4pCZe7Piu-Vm"
      },
      "source": [
        "**The Date columne since we've already extracted the most valuable data out of it ( ie ,hour , month , day of the week ) we can drop that as well.**"
      ]
    },
    {
      "cell_type": "code",
      "metadata": {
        "colab": {
          "base_uri": "https://localhost:8080/",
          "height": 513
        },
        "id": "zDVCHziAqax1",
        "outputId": "f71e5e5a-1822-4b08-f45c-8dd9af3d3fc3"
      },
      "source": [
        "#dropping the columns with a huge number of missings values\n",
        "df = df.drop(['id','userId','date','modifiedById','dealId'],axis=1)\n",
        "df"
      ],
      "execution_count": 16,
      "outputs": [
        {
          "output_type": "execute_result",
          "data": {
            "text/html": [
              "<div>\n",
              "<style scoped>\n",
              "    .dataframe tbody tr th:only-of-type {\n",
              "        vertical-align: middle;\n",
              "    }\n",
              "\n",
              "    .dataframe tbody tr th {\n",
              "        vertical-align: top;\n",
              "    }\n",
              "\n",
              "    .dataframe thead th {\n",
              "        text-align: right;\n",
              "    }\n",
              "</style>\n",
              "<table border=\"1\" class=\"dataframe\">\n",
              "  <thead>\n",
              "    <tr style=\"text-align: right;\">\n",
              "      <th></th>\n",
              "      <th>duration</th>\n",
              "      <th>phoneProvider</th>\n",
              "      <th>direction</th>\n",
              "      <th>mediaType</th>\n",
              "      <th>userTalkRatio</th>\n",
              "      <th>longestContactMonologue</th>\n",
              "      <th>patience</th>\n",
              "      <th>interactionSpeed</th>\n",
              "      <th>role</th>\n",
              "      <th>teams</th>\n",
              "      <th>contacts</th>\n",
              "      <th>tag</th>\n",
              "      <th>month</th>\n",
              "      <th>hour</th>\n",
              "      <th>dayOfWeek</th>\n",
              "    </tr>\n",
              "  </thead>\n",
              "  <tbody>\n",
              "    <tr>\n",
              "      <th>0</th>\n",
              "      <td>657.34</td>\n",
              "      <td>zoom</td>\n",
              "      <td>outbound</td>\n",
              "      <td>video</td>\n",
              "      <td>0.29</td>\n",
              "      <td>80.30</td>\n",
              "      <td>0.77</td>\n",
              "      <td>3.01</td>\n",
              "      <td>admin</td>\n",
              "      <td>{Sales}</td>\n",
              "      <td>1.0</td>\n",
              "      <td>Client Follow Up</td>\n",
              "      <td>10</td>\n",
              "      <td>12</td>\n",
              "      <td>0</td>\n",
              "    </tr>\n",
              "    <tr>\n",
              "      <th>1</th>\n",
              "      <td>205.48</td>\n",
              "      <td>aircall</td>\n",
              "      <td>outbound</td>\n",
              "      <td>audio</td>\n",
              "      <td>0.45</td>\n",
              "      <td>23.71</td>\n",
              "      <td>0.41</td>\n",
              "      <td>8.18</td>\n",
              "      <td>admin</td>\n",
              "      <td>{Sales}</td>\n",
              "      <td>1.0</td>\n",
              "      <td>Cold Call</td>\n",
              "      <td>10</td>\n",
              "      <td>18</td>\n",
              "      <td>4</td>\n",
              "    </tr>\n",
              "    <tr>\n",
              "      <th>2</th>\n",
              "      <td>1607.10</td>\n",
              "      <td>zoom</td>\n",
              "      <td>outbound</td>\n",
              "      <td>video</td>\n",
              "      <td>0.48</td>\n",
              "      <td>57.84</td>\n",
              "      <td>0.28</td>\n",
              "      <td>4.59</td>\n",
              "      <td>admin</td>\n",
              "      <td>{Account Manager}</td>\n",
              "      <td>1.0</td>\n",
              "      <td>Client Follow Up</td>\n",
              "      <td>10</td>\n",
              "      <td>11</td>\n",
              "      <td>4</td>\n",
              "    </tr>\n",
              "    <tr>\n",
              "      <th>3</th>\n",
              "      <td>249.91</td>\n",
              "      <td>aircall</td>\n",
              "      <td>outbound</td>\n",
              "      <td>audio</td>\n",
              "      <td>0.45</td>\n",
              "      <td>43.19</td>\n",
              "      <td>1.77</td>\n",
              "      <td>5.52</td>\n",
              "      <td>admin</td>\n",
              "      <td>{Sales}</td>\n",
              "      <td>1.0</td>\n",
              "      <td>Unscheduled Follow up</td>\n",
              "      <td>10</td>\n",
              "      <td>18</td>\n",
              "      <td>3</td>\n",
              "    </tr>\n",
              "    <tr>\n",
              "      <th>4</th>\n",
              "      <td>1948.75</td>\n",
              "      <td>google</td>\n",
              "      <td>outbound</td>\n",
              "      <td>video</td>\n",
              "      <td>0.32</td>\n",
              "      <td>267.82</td>\n",
              "      <td>0.47</td>\n",
              "      <td>2.03</td>\n",
              "      <td>admin</td>\n",
              "      <td>{Sales}</td>\n",
              "      <td>2.0</td>\n",
              "      <td>1st Call</td>\n",
              "      <td>10</td>\n",
              "      <td>18</td>\n",
              "      <td>3</td>\n",
              "    </tr>\n",
              "    <tr>\n",
              "      <th>...</th>\n",
              "      <td>...</td>\n",
              "      <td>...</td>\n",
              "      <td>...</td>\n",
              "      <td>...</td>\n",
              "      <td>...</td>\n",
              "      <td>...</td>\n",
              "      <td>...</td>\n",
              "      <td>...</td>\n",
              "      <td>...</td>\n",
              "      <td>...</td>\n",
              "      <td>...</td>\n",
              "      <td>...</td>\n",
              "      <td>...</td>\n",
              "      <td>...</td>\n",
              "      <td>...</td>\n",
              "    </tr>\n",
              "    <tr>\n",
              "      <th>3781</th>\n",
              "      <td>4448.00</td>\n",
              "      <td>zoom</td>\n",
              "      <td>outbound</td>\n",
              "      <td>audio</td>\n",
              "      <td>0.26</td>\n",
              "      <td>198.98</td>\n",
              "      <td>1.65</td>\n",
              "      <td>2.01</td>\n",
              "      <td>admin</td>\n",
              "      <td>{Sales}</td>\n",
              "      <td>1.0</td>\n",
              "      <td>Demo</td>\n",
              "      <td>5</td>\n",
              "      <td>12</td>\n",
              "      <td>0</td>\n",
              "    </tr>\n",
              "    <tr>\n",
              "      <th>3782</th>\n",
              "      <td>3756.00</td>\n",
              "      <td>zoom</td>\n",
              "      <td>outbound</td>\n",
              "      <td>audio</td>\n",
              "      <td>0.45</td>\n",
              "      <td>257.12</td>\n",
              "      <td>0.83</td>\n",
              "      <td>1.71</td>\n",
              "      <td>admin</td>\n",
              "      <td>{Account Manager,Product}</td>\n",
              "      <td>3.0</td>\n",
              "      <td>Other</td>\n",
              "      <td>5</td>\n",
              "      <td>14</td>\n",
              "      <td>3</td>\n",
              "    </tr>\n",
              "    <tr>\n",
              "      <th>3783</th>\n",
              "      <td>2139.00</td>\n",
              "      <td>zoom</td>\n",
              "      <td>outbound</td>\n",
              "      <td>audio</td>\n",
              "      <td>0.30</td>\n",
              "      <td>153.16</td>\n",
              "      <td>1.30</td>\n",
              "      <td>2.44</td>\n",
              "      <td>admin</td>\n",
              "      <td>{Sales}</td>\n",
              "      <td>1.0</td>\n",
              "      <td>1st Call</td>\n",
              "      <td>5</td>\n",
              "      <td>10</td>\n",
              "      <td>3</td>\n",
              "    </tr>\n",
              "    <tr>\n",
              "      <th>3784</th>\n",
              "      <td>2151.00</td>\n",
              "      <td>zoom</td>\n",
              "      <td>outbound</td>\n",
              "      <td>audio</td>\n",
              "      <td>0.42</td>\n",
              "      <td>120.53</td>\n",
              "      <td>0.73</td>\n",
              "      <td>2.57</td>\n",
              "      <td>admin</td>\n",
              "      <td>{Sales}</td>\n",
              "      <td>2.0</td>\n",
              "      <td>1st Call</td>\n",
              "      <td>5</td>\n",
              "      <td>15</td>\n",
              "      <td>1</td>\n",
              "    </tr>\n",
              "    <tr>\n",
              "      <th>3785</th>\n",
              "      <td>1772.00</td>\n",
              "      <td>zoom</td>\n",
              "      <td>outbound</td>\n",
              "      <td>audio</td>\n",
              "      <td>0.54</td>\n",
              "      <td>72.70</td>\n",
              "      <td>0.00</td>\n",
              "      <td>0.14</td>\n",
              "      <td>admin</td>\n",
              "      <td>{Sales}</td>\n",
              "      <td>1.0</td>\n",
              "      <td>Demo</td>\n",
              "      <td>5</td>\n",
              "      <td>16</td>\n",
              "      <td>0</td>\n",
              "    </tr>\n",
              "  </tbody>\n",
              "</table>\n",
              "<p>3786 rows × 15 columns</p>\n",
              "</div>"
            ],
            "text/plain": [
              "      duration phoneProvider direction  ... month  hour  dayOfWeek\n",
              "0       657.34          zoom  outbound  ...    10    12          0\n",
              "1       205.48       aircall  outbound  ...    10    18          4\n",
              "2      1607.10          zoom  outbound  ...    10    11          4\n",
              "3       249.91       aircall  outbound  ...    10    18          3\n",
              "4      1948.75        google  outbound  ...    10    18          3\n",
              "...        ...           ...       ...  ...   ...   ...        ...\n",
              "3781   4448.00          zoom  outbound  ...     5    12          0\n",
              "3782   3756.00          zoom  outbound  ...     5    14          3\n",
              "3783   2139.00          zoom  outbound  ...     5    10          3\n",
              "3784   2151.00          zoom  outbound  ...     5    15          1\n",
              "3785   1772.00          zoom  outbound  ...     5    16          0\n",
              "\n",
              "[3786 rows x 15 columns]"
            ]
          },
          "metadata": {},
          "execution_count": 16
        }
      ]
    },
    {
      "cell_type": "code",
      "metadata": {
        "colab": {
          "base_uri": "https://localhost:8080/"
        },
        "id": "PY31xFyOqjL5",
        "outputId": "9e99c971-b58e-4a7e-d42e-544efd8d9f86"
      },
      "source": [
        "# Rechecking our work so far\n",
        "df.isnull().sum()"
      ],
      "execution_count": 17,
      "outputs": [
        {
          "output_type": "execute_result",
          "data": {
            "text/plain": [
              "duration                   0\n",
              "phoneProvider              0\n",
              "direction                  0\n",
              "mediaType                  0\n",
              "userTalkRatio              0\n",
              "longestContactMonologue    0\n",
              "patience                   0\n",
              "interactionSpeed           0\n",
              "role                       0\n",
              "teams                      0\n",
              "contacts                   0\n",
              "tag                        0\n",
              "month                      0\n",
              "hour                       0\n",
              "dayOfWeek                  0\n",
              "dtype: int64"
            ]
          },
          "metadata": {},
          "execution_count": 17
        }
      ]
    },
    {
      "cell_type": "markdown",
      "metadata": {
        "id": "JwDa9oFGDn5p"
      },
      "source": [
        "**Checking for duplicate rows**"
      ]
    },
    {
      "cell_type": "code",
      "metadata": {
        "colab": {
          "base_uri": "https://localhost:8080/"
        },
        "id": "nLo31U7mDXXq",
        "outputId": "1dabe061-80f3-4cda-899a-abf43c7c8aa7"
      },
      "source": [
        "# Rows containing duplicate data\n",
        "duplicate_rows_df = df[df.duplicated()]\n",
        "print(\"number of duplicate rows: \", duplicate_rows_df.shape)"
      ],
      "execution_count": 18,
      "outputs": [
        {
          "output_type": "stream",
          "name": "stdout",
          "text": [
            "number of duplicate rows:  (1, 15)\n"
          ]
        }
      ]
    },
    {
      "cell_type": "code",
      "metadata": {
        "id": "WugqCGorDmTD"
      },
      "source": [
        "df = df.drop_duplicates()"
      ],
      "execution_count": 19,
      "outputs": []
    },
    {
      "cell_type": "markdown",
      "metadata": {
        "id": "_uShxtsDrQiB"
      },
      "source": [
        "**Now that our data is cleaned, we need to prepare it for our machine learning pipeline, mainly with encoding our categorical data in columns  \tphoneProvider \tdirection \tmediaType  role  teams  tag**"
      ]
    },
    {
      "cell_type": "markdown",
      "metadata": {
        "id": "GrRQrmVtn80u"
      },
      "source": [
        "## EDA"
      ]
    },
    {
      "cell_type": "markdown",
      "metadata": {
        "id": "3TGvsAmg_1Gb"
      },
      "source": [
        "let's do some basic plots to get a rough idea about the relationship between our explicative variables and the target variable"
      ]
    },
    {
      "cell_type": "markdown",
      "metadata": {
        "id": "oM60uFRfEAcc"
      },
      "source": [
        "### Checking for outliers"
      ]
    },
    {
      "cell_type": "markdown",
      "metadata": {
        "id": "Gnxq1p2Lbcug"
      },
      "source": [
        "#### BoxPlots for numeric features"
      ]
    },
    {
      "cell_type": "code",
      "metadata": {
        "id": "LDErrElWn_Xm",
        "colab": {
          "base_uri": "https://localhost:8080/",
          "height": 303
        },
        "outputId": "ca09cf91-2edf-460c-a342-90a576896a8c"
      },
      "source": [
        "sns.boxplot(x=df['duration'])"
      ],
      "execution_count": 20,
      "outputs": [
        {
          "output_type": "execute_result",
          "data": {
            "text/plain": [
              "<matplotlib.axes._subplots.AxesSubplot at 0x7fd923ab6490>"
            ]
          },
          "metadata": {},
          "execution_count": 20
        },
        {
          "output_type": "display_data",
          "data": {
            "image/png": "[encoded data removed]",
            "text/plain": [
              "<Figure size 432x288 with 1 Axes>"
            ]
          },
          "metadata": {
            "needs_background": "light"
          }
        }
      ]
    },
    {
      "cell_type": "code",
      "metadata": {
        "id": "mIaP3bLJEi0N",
        "colab": {
          "base_uri": "https://localhost:8080/",
          "height": 303
        },
        "outputId": "236b2efd-9c97-477c-f42b-0a979a031ac1"
      },
      "source": [
        "sns.boxplot(x=df['userTalkRatio'])"
      ],
      "execution_count": 21,
      "outputs": [
        {
          "output_type": "execute_result",
          "data": {
            "text/plain": [
              "<matplotlib.axes._subplots.AxesSubplot at 0x7fd922f62410>"
            ]
          },
          "metadata": {},
          "execution_count": 21
        },
        {
          "output_type": "display_data",
          "data": {
            "image/png": "[encoded data removed]",
            "text/plain": [
              "<Figure size 432x288 with 1 Axes>"
            ]
          },
          "metadata": {
            "needs_background": "light"
          }
        }
      ]
    },
    {
      "cell_type": "code",
      "metadata": {
        "id": "cJUdHSfYEsSA",
        "colab": {
          "base_uri": "https://localhost:8080/",
          "height": 303
        },
        "outputId": "da0342f8-d7fc-4a0d-e603-25f393133473"
      },
      "source": [
        "sns.boxplot(x=df['longestContactMonologue'])"
      ],
      "execution_count": 22,
      "outputs": [
        {
          "output_type": "execute_result",
          "data": {
            "text/plain": [
              "<matplotlib.axes._subplots.AxesSubplot at 0x7fd922a79e50>"
            ]
          },
          "metadata": {},
          "execution_count": 22
        },
        {
          "output_type": "display_data",
          "data": {
            "image/png": "[encoded data removed]",
            "text/plain": [
              "<Figure size 432x288 with 1 Axes>"
            ]
          },
          "metadata": {
            "needs_background": "light"
          }
        }
      ]
    },
    {
      "cell_type": "code",
      "metadata": {
        "id": "k2EBi6tdE4VE",
        "colab": {
          "base_uri": "https://localhost:8080/",
          "height": 303
        },
        "outputId": "72097087-759c-4bed-c544-37c5057fa373"
      },
      "source": [
        "sns.boxplot(x=df['patience'])"
      ],
      "execution_count": 23,
      "outputs": [
        {
          "output_type": "execute_result",
          "data": {
            "text/plain": [
              "<matplotlib.axes._subplots.AxesSubplot at 0x7fd9229f3310>"
            ]
          },
          "metadata": {},
          "execution_count": 23
        },
        {
          "output_type": "display_data",
          "data": {
            "image/png": "[encoded data removed]",
            "text/plain": [
              "<Figure size 432x288 with 1 Axes>"
            ]
          },
          "metadata": {
            "needs_background": "light"
          }
        }
      ]
    },
    {
      "cell_type": "code",
      "metadata": {
        "id": "5v3U_K_qE4j1",
        "colab": {
          "base_uri": "https://localhost:8080/",
          "height": 303
        },
        "outputId": "464c9c45-9051-4fb4-be4d-8ed69dc1e5d1"
      },
      "source": [
        "sns.boxplot(x=df['interactionSpeed'])"
      ],
      "execution_count": 24,
      "outputs": [
        {
          "output_type": "execute_result",
          "data": {
            "text/plain": [
              "<matplotlib.axes._subplots.AxesSubplot at 0x7fd9229de450>"
            ]
          },
          "metadata": {},
          "execution_count": 24
        },
        {
          "output_type": "display_data",
          "data": {
            "image/png": "[encoded data removed]",
            "text/plain": [
              "<Figure size 432x288 with 1 Axes>"
            ]
          },
          "metadata": {
            "needs_background": "light"
          }
        }
      ]
    },
    {
      "cell_type": "markdown",
      "metadata": {
        "id": "WDDi5XTAbkv6"
      },
      "source": [
        "**Despite all these outliers, as much as I’d like to, it is not acceptable to drop an observation just because it is an outlier.  They can be legitimate observations and are sometimes the most interesting ones.  It’s important to investigate the nature of the outlier before deciding.**"
      ]
    },
    {
      "cell_type": "markdown",
      "metadata": {
        "id": "NLChkTt3bzyb"
      },
      "source": [
        "#### ScatterPlots for numeric features"
      ]
    },
    {
      "cell_type": "markdown",
      "metadata": {
        "id": "mM6FQpq3cxjD"
      },
      "source": [
        "**The goal here is to see how the features describe the target variable and more importantly if these outliers might mess up our analysis**"
      ]
    },
    {
      "cell_type": "code",
      "metadata": {
        "colab": {
          "base_uri": "https://localhost:8080/",
          "height": 303
        },
        "id": "9vhbA6uKbxUW",
        "outputId": "bd3c1055-9b2a-4208-8fe1-a774ff65ba38"
      },
      "source": [
        "sns.scatterplot(x=\"duration\",\n",
        "                    y=\"tag\",\n",
        "                    data=df)"
      ],
      "execution_count": 25,
      "outputs": [
        {
          "output_type": "execute_result",
          "data": {
            "text/plain": [
              "<matplotlib.axes._subplots.AxesSubplot at 0x7fd922940f50>"
            ]
          },
          "metadata": {},
          "execution_count": 25
        },
        {
          "output_type": "display_data",
          "data": {
            "image/png": "[encoded data removed]",
            "text/plain": [
              "<Figure size 432x288 with 1 Axes>"
            ]
          },
          "metadata": {
            "needs_background": "light"
          }
        }
      ]
    },
    {
      "cell_type": "code",
      "metadata": {
        "colab": {
          "base_uri": "https://localhost:8080/",
          "height": 303
        },
        "id": "2RHP-f50dKBp",
        "outputId": "e57a00f8-4f0a-4da1-efc6-daede5a11a65"
      },
      "source": [
        "sns.scatterplot(x=\"userTalkRatio\",\n",
        "                    y=\"tag\",\n",
        "                    data=df)"
      ],
      "execution_count": 26,
      "outputs": [
        {
          "output_type": "execute_result",
          "data": {
            "text/plain": [
              "<matplotlib.axes._subplots.AxesSubplot at 0x7fd923b11890>"
            ]
          },
          "metadata": {},
          "execution_count": 26
        },
        {
          "output_type": "display_data",
          "data": {
            "image/png": "[encoded data removed]",
            "text/plain": [
              "<Figure size 432x288 with 1 Axes>"
            ]
          },
          "metadata": {
            "needs_background": "light"
          }
        }
      ]
    },
    {
      "cell_type": "code",
      "metadata": {
        "colab": {
          "base_uri": "https://localhost:8080/",
          "height": 303
        },
        "id": "g4VzFi25dLIh",
        "outputId": "6b3e5ad1-4998-4dfe-bb91-5b0a89b3db06"
      },
      "source": [
        "sns.scatterplot(x=\"longestContactMonologue\",\n",
        "                    y=\"tag\",\n",
        "                    data=df)"
      ],
      "execution_count": 27,
      "outputs": [
        {
          "output_type": "execute_result",
          "data": {
            "text/plain": [
              "<matplotlib.axes._subplots.AxesSubplot at 0x7fd92286b3d0>"
            ]
          },
          "metadata": {},
          "execution_count": 27
        },
        {
          "output_type": "display_data",
          "data": {
            "image/png": "[encoded data removed]",
            "text/plain": [
              "<Figure size 432x288 with 1 Axes>"
            ]
          },
          "metadata": {
            "needs_background": "light"
          }
        }
      ]
    },
    {
      "cell_type": "code",
      "metadata": {
        "colab": {
          "base_uri": "https://localhost:8080/",
          "height": 303
        },
        "id": "O954hSSzdLAV",
        "outputId": "ef04f20f-72d9-437b-b99e-6309135cc06b"
      },
      "source": [
        "sns.scatterplot(x=\"patience\",\n",
        "                    y=\"tag\",\n",
        "                    data=df)"
      ],
      "execution_count": 28,
      "outputs": [
        {
          "output_type": "execute_result",
          "data": {
            "text/plain": [
              "<matplotlib.axes._subplots.AxesSubplot at 0x7fd922820610>"
            ]
          },
          "metadata": {},
          "execution_count": 28
        },
        {
          "output_type": "display_data",
          "data": {
            "image/png": "[encoded data removed]",
            "text/plain": [
              "<Figure size 432x288 with 1 Axes>"
            ]
          },
          "metadata": {
            "needs_background": "light"
          }
        }
      ]
    },
    {
      "cell_type": "code",
      "metadata": {
        "colab": {
          "base_uri": "https://localhost:8080/",
          "height": 303
        },
        "id": "rLkxC-9KdK1l",
        "outputId": "1ce2da7f-f9c2-40a8-e007-816463edd77c"
      },
      "source": [
        "sns.scatterplot(x=\"interactionSpeed\",\n",
        "                    y=\"tag\",\n",
        "                    data=df)"
      ],
      "execution_count": 29,
      "outputs": [
        {
          "output_type": "execute_result",
          "data": {
            "text/plain": [
              "<matplotlib.axes._subplots.AxesSubplot at 0x7fd9228aa810>"
            ]
          },
          "metadata": {},
          "execution_count": 29
        },
        {
          "output_type": "display_data",
          "data": {
            "image/png": "[encoded data removed]",
            "text/plain": [
              "<Figure size 432x288 with 1 Axes>"
            ]
          },
          "metadata": {
            "needs_background": "light"
          }
        }
      ]
    },
    {
      "cell_type": "markdown",
      "metadata": {
        "id": "25la2B84dp3x"
      },
      "source": [
        "**Judging from these scatterplots, I believe the outliers aren't noise or mistakes in data collection, I believe these are legitimate data points that might have the secret to succefully classifying our target variable and thus I'll make the decision of keeping them.**"
      ]
    },
    {
      "cell_type": "markdown",
      "metadata": {
        "id": "_Ywk5FREgSsI"
      },
      "source": [
        "### Checking for Class Imbalance"
      ]
    },
    {
      "cell_type": "code",
      "metadata": {
        "colab": {
          "base_uri": "https://localhost:8080/",
          "height": 473
        },
        "id": "vkeqI7HLfImP",
        "outputId": "803c93ce-45fe-4a80-ea66-c9f02226d665"
      },
      "source": [
        "# let's plot a histogram for that, checking the number of occurences of every tag\n",
        "df.tag.value_counts().nlargest(40).plot(kind='bar', figsize=(13,5))\n",
        "plt.title('Number of records per tag')\n",
        "plt.ylabel('Number of records')\n",
        "plt.xlabel('Tag');"
      ],
      "execution_count": 30,
      "outputs": [
        {
          "output_type": "display_data",
          "data": {
            "image/png": "[encoded data removed]",
            "text/plain": [
              "<Figure size 936x360 with 1 Axes>"
            ]
          },
          "metadata": {
            "needs_background": "light"
          }
        }
      ]
    },
    {
      "cell_type": "markdown",
      "metadata": {
        "id": "4pm85u91hTop"
      },
      "source": [
        "**there is a slight class imbalance but it is not worriying nor alarming, we'll decide if we want to treat it after training our first model depending on the accuracy resulted**"
      ]
    },
    {
      "cell_type": "markdown",
      "metadata": {
        "id": "9f9LXG_Qhr05"
      },
      "source": [
        "### Checking for Correlation between our Variables"
      ]
    },
    {
      "cell_type": "code",
      "metadata": {
        "colab": {
          "base_uri": "https://localhost:8080/",
          "height": 1000
        },
        "id": "PCvAxMZDgrX_",
        "outputId": "f8fd4de2-d645-4b09-e2ce-5a7295be6033"
      },
      "source": [
        "# Finding the relations between the variables.\n",
        "plt.figure(figsize=(20,10))\n",
        "c= df.corr()\n",
        "sns.heatmap(c,cmap=\"BrBG\",annot=True)\n",
        "c"
      ],
      "execution_count": 31,
      "outputs": [
        {
          "output_type": "execute_result",
          "data": {
            "text/html": [
              "<div>\n",
              "<style scoped>\n",
              "    .dataframe tbody tr th:only-of-type {\n",
              "        vertical-align: middle;\n",
              "    }\n",
              "\n",
              "    .dataframe tbody tr th {\n",
              "        vertical-align: top;\n",
              "    }\n",
              "\n",
              "    .dataframe thead th {\n",
              "        text-align: right;\n",
              "    }\n",
              "</style>\n",
              "<table border=\"1\" class=\"dataframe\">\n",
              "  <thead>\n",
              "    <tr style=\"text-align: right;\">\n",
              "      <th></th>\n",
              "      <th>duration</th>\n",
              "      <th>userTalkRatio</th>\n",
              "      <th>longestContactMonologue</th>\n",
              "      <th>patience</th>\n",
              "      <th>interactionSpeed</th>\n",
              "      <th>contacts</th>\n",
              "      <th>month</th>\n",
              "      <th>hour</th>\n",
              "      <th>dayOfWeek</th>\n",
              "    </tr>\n",
              "  </thead>\n",
              "  <tbody>\n",
              "    <tr>\n",
              "      <th>duration</th>\n",
              "      <td>1.000000</td>\n",
              "      <td>0.220946</td>\n",
              "      <td>0.283097</td>\n",
              "      <td>0.043369</td>\n",
              "      <td>-0.187552</td>\n",
              "      <td>0.305065</td>\n",
              "      <td>0.161325</td>\n",
              "      <td>-0.062703</td>\n",
              "      <td>0.004335</td>\n",
              "    </tr>\n",
              "    <tr>\n",
              "      <th>userTalkRatio</th>\n",
              "      <td>0.220946</td>\n",
              "      <td>1.000000</td>\n",
              "      <td>-0.230056</td>\n",
              "      <td>-0.085201</td>\n",
              "      <td>0.291819</td>\n",
              "      <td>0.110730</td>\n",
              "      <td>-0.002542</td>\n",
              "      <td>-0.027202</td>\n",
              "      <td>-0.008060</td>\n",
              "    </tr>\n",
              "    <tr>\n",
              "      <th>longestContactMonologue</th>\n",
              "      <td>0.283097</td>\n",
              "      <td>-0.230056</td>\n",
              "      <td>1.000000</td>\n",
              "      <td>0.251942</td>\n",
              "      <td>-0.237399</td>\n",
              "      <td>0.163310</td>\n",
              "      <td>0.042359</td>\n",
              "      <td>0.014833</td>\n",
              "      <td>0.020443</td>\n",
              "    </tr>\n",
              "    <tr>\n",
              "      <th>patience</th>\n",
              "      <td>0.043369</td>\n",
              "      <td>-0.085201</td>\n",
              "      <td>0.251942</td>\n",
              "      <td>1.000000</td>\n",
              "      <td>-0.067078</td>\n",
              "      <td>0.053190</td>\n",
              "      <td>-0.013654</td>\n",
              "      <td>-0.001298</td>\n",
              "      <td>0.009114</td>\n",
              "    </tr>\n",
              "    <tr>\n",
              "      <th>interactionSpeed</th>\n",
              "      <td>-0.187552</td>\n",
              "      <td>0.291819</td>\n",
              "      <td>-0.237399</td>\n",
              "      <td>-0.067078</td>\n",
              "      <td>1.000000</td>\n",
              "      <td>-0.128542</td>\n",
              "      <td>-0.027816</td>\n",
              "      <td>0.039252</td>\n",
              "      <td>0.002023</td>\n",
              "    </tr>\n",
              "    <tr>\n",
              "      <th>contacts</th>\n",
              "      <td>0.305065</td>\n",
              "      <td>0.110730</td>\n",
              "      <td>0.163310</td>\n",
              "      <td>0.053190</td>\n",
              "      <td>-0.128542</td>\n",
              "      <td>1.000000</td>\n",
              "      <td>0.008234</td>\n",
              "      <td>-0.016402</td>\n",
              "      <td>0.025031</td>\n",
              "    </tr>\n",
              "    <tr>\n",
              "      <th>month</th>\n",
              "      <td>0.161325</td>\n",
              "      <td>-0.002542</td>\n",
              "      <td>0.042359</td>\n",
              "      <td>-0.013654</td>\n",
              "      <td>-0.027816</td>\n",
              "      <td>0.008234</td>\n",
              "      <td>1.000000</td>\n",
              "      <td>-0.009105</td>\n",
              "      <td>-0.013679</td>\n",
              "    </tr>\n",
              "    <tr>\n",
              "      <th>hour</th>\n",
              "      <td>-0.062703</td>\n",
              "      <td>-0.027202</td>\n",
              "      <td>0.014833</td>\n",
              "      <td>-0.001298</td>\n",
              "      <td>0.039252</td>\n",
              "      <td>-0.016402</td>\n",
              "      <td>-0.009105</td>\n",
              "      <td>1.000000</td>\n",
              "      <td>-0.107986</td>\n",
              "    </tr>\n",
              "    <tr>\n",
              "      <th>dayOfWeek</th>\n",
              "      <td>0.004335</td>\n",
              "      <td>-0.008060</td>\n",
              "      <td>0.020443</td>\n",
              "      <td>0.009114</td>\n",
              "      <td>0.002023</td>\n",
              "      <td>0.025031</td>\n",
              "      <td>-0.013679</td>\n",
              "      <td>-0.107986</td>\n",
              "      <td>1.000000</td>\n",
              "    </tr>\n",
              "  </tbody>\n",
              "</table>\n",
              "</div>"
            ],
            "text/plain": [
              "                         duration  userTalkRatio  ...      hour  dayOfWeek\n",
              "duration                 1.000000       0.220946  ... -0.062703   0.004335\n",
              "userTalkRatio            0.220946       1.000000  ... -0.027202  -0.008060\n",
              "longestContactMonologue  0.283097      -0.230056  ...  0.014833   0.020443\n",
              "patience                 0.043369      -0.085201  ... -0.001298   0.009114\n",
              "interactionSpeed        -0.187552       0.291819  ...  0.039252   0.002023\n",
              "contacts                 0.305065       0.110730  ... -0.016402   0.025031\n",
              "month                    0.161325      -0.002542  ... -0.009105  -0.013679\n",
              "hour                    -0.062703      -0.027202  ...  1.000000  -0.107986\n",
              "dayOfWeek                0.004335      -0.008060  ... -0.107986   1.000000\n",
              "\n",
              "[9 rows x 9 columns]"
            ]
          },
          "metadata": {},
          "execution_count": 31
        },
        {
          "output_type": "display_data",
          "data": {
            "image/png": "[encoded data removed]",
            "text/plain": [
              "<Figure size 1440x720 with 2 Axes>"
            ]
          },
          "metadata": {
            "needs_background": "light"
          }
        }
      ]
    },
    {
      "cell_type": "markdown",
      "metadata": {
        "id": "Iv_HAw12h4Hi"
      },
      "source": [
        "**Very weak correlation between our variables**"
      ]
    },
    {
      "cell_type": "markdown",
      "metadata": {
        "id": "njjIQX7fm9_t"
      },
      "source": [
        "# 2.  Model choice and data preparation for training."
      ]
    },
    {
      "cell_type": "markdown",
      "metadata": {
        "id": "tjN6vk1i6byQ"
      },
      "source": [
        "**Let's check how our data explains our target variable using a PCA analysis, here i'll use FAMD since i have mixed Categorical and Continuous data Types**"
      ]
    },
    {
      "cell_type": "code",
      "metadata": {
        "colab": {
          "base_uri": "https://localhost:8080/"
        },
        "id": "7wI6t9qy0fbJ",
        "outputId": "f02a4b61-ecd9-4508-831d-06b8c39e6b89"
      },
      "source": [
        "pip install prince"
      ],
      "execution_count": 32,
      "outputs": [
        {
          "output_type": "stream",
          "name": "stdout",
          "text": [
            "Collecting prince\n",
            "  Downloading prince-0.7.1-py3-none-any.whl (21 kB)\n",
            "Requirement already satisfied: matplotlib>=3.0.2 in /usr/local/lib/python3.7/dist-packages (from prince) (3.2.2)\n",
            "Requirement already satisfied: scikit-learn>=0.22.1 in /usr/local/lib/python3.7/dist-packages (from prince) (1.0.1)\n",
            "Requirement already satisfied: pandas>=1.0.3 in /usr/local/lib/python3.7/dist-packages (from prince) (1.1.5)\n",
            "Requirement already satisfied: scipy>=1.3.0 in /usr/local/lib/python3.7/dist-packages (from prince) (1.4.1)\n",
            "Requirement already satisfied: numpy>=1.17.1 in /usr/local/lib/python3.7/dist-packages (from prince) (1.19.5)\n",
            "Requirement already satisfied: kiwisolver>=1.0.1 in /usr/local/lib/python3.7/dist-packages (from matplotlib>=3.0.2->prince) (1.3.2)\n",
            "Requirement already satisfied: cycler>=0.10 in /usr/local/lib/python3.7/dist-packages (from matplotlib>=3.0.2->prince) (0.10.0)\n",
            "Requirement already satisfied: pyparsing!=2.0.4,!=2.1.2,!=2.1.6,>=2.0.1 in /usr/local/lib/python3.7/dist-packages (from matplotlib>=3.0.2->prince) (2.4.7)\n",
            "Requirement already satisfied: python-dateutil>=2.1 in /usr/local/lib/python3.7/dist-packages (from matplotlib>=3.0.2->prince) (2.8.2)\n",
            "Requirement already satisfied: six in /usr/local/lib/python3.7/dist-packages (from cycler>=0.10->matplotlib>=3.0.2->prince) (1.15.0)\n",
            "Requirement already satisfied: pytz>=2017.2 in /usr/local/lib/python3.7/dist-packages (from pandas>=1.0.3->prince) (2018.9)\n",
            "Requirement already satisfied: joblib>=0.11 in /usr/local/lib/python3.7/dist-packages (from scikit-learn>=0.22.1->prince) (1.0.1)\n",
            "Requirement already satisfied: threadpoolctl>=2.0.0 in /usr/local/lib/python3.7/dist-packages (from scikit-learn>=0.22.1->prince) (3.0.0)\n",
            "Installing collected packages: prince\n",
            "Successfully installed prince-0.7.1\n"
          ]
        }
      ]
    },
    {
      "cell_type": "code",
      "metadata": {
        "id": "f_S_Fm2Ah8zW",
        "colab": {
          "base_uri": "https://localhost:8080/"
        },
        "outputId": "fbaf6a5d-bb09-4ed4-8921-1583f74ffb4c"
      },
      "source": [
        "import prince\n",
        "import pprint\n",
        "## Instantiate FAMD object\n",
        "famd = prince.FAMD(\n",
        "     n_components=10,\n",
        "     n_iter=10,\n",
        "     copy=True,\n",
        "     check_input=True,\n",
        "     engine='auto',       ## Can be \"auto\", 'sklearn', 'fbpca'\n",
        "     random_state=42)\n",
        "\n",
        "## Fit FAMD object to data \n",
        "famd = famd.fit(df.drop('tag', axis=1)) ## Exclude target variable \"tag\"\n",
        "\n",
        "## Inspect principal dimensions\n",
        "pp = pprint.PrettyPrinter()\n",
        "pp.pprint(famd.explained_inertia_) "
      ],
      "execution_count": 33,
      "outputs": [
        {
          "output_type": "stream",
          "name": "stdout",
          "text": [
            "array([0.1432551 , 0.09238807, 0.06529945, 0.06298601, 0.06019742,\n",
            "       0.05458576, 0.05009624, 0.04962759, 0.04566675, 0.04241022])\n"
          ]
        }
      ]
    },
    {
      "cell_type": "markdown",
      "metadata": {
        "id": "bgRJLYXrMntc"
      },
      "source": [
        "We interpret this result as a lack of colinearity between the variables and we should use them all for our analysis\n",
        "\n",
        "we can try a linear model such as logistic regression and see how it fares \n",
        "against more commun models for this task ( such as random forest , svm , xgboost )  "
      ]
    },
    {
      "cell_type": "markdown",
      "metadata": {
        "id": "AZe6Qd4DP8Eh"
      },
      "source": [
        "## Splitting data and preparing it for training"
      ]
    },
    {
      "cell_type": "code",
      "metadata": {
        "colab": {
          "base_uri": "https://localhost:8080/"
        },
        "id": "GqcU2o-V1DGD",
        "outputId": "b89e4798-4ffc-4110-d19a-04a3b61236d5"
      },
      "source": [
        "y = df['tag']\n",
        "X = df\n",
        "X.shape,y.shape"
      ],
      "execution_count": 34,
      "outputs": [
        {
          "output_type": "execute_result",
          "data": {
            "text/plain": [
              "((3785, 15), (3785,))"
            ]
          },
          "metadata": {},
          "execution_count": 34
        }
      ]
    },
    {
      "cell_type": "markdown",
      "metadata": {
        "id": "C2QmXUQSFCXl"
      },
      "source": [
        "### Encoding and transforming columns based on data types"
      ]
    },
    {
      "cell_type": "code",
      "metadata": {
        "id": "axmHi10UXw2r"
      },
      "source": [
        "#Selectin numerical and categorical Columns\n",
        "from sklearn.compose import make_column_selector as selector\n",
        "\n",
        "numerical_columns_selector = selector(dtype_exclude=object)\n",
        "categorical_columns_selector = selector(dtype_include=object)\n",
        "\n",
        "numerical_columns = numerical_columns_selector(df)\n",
        "categorical_columns = categorical_columns_selector(df)"
      ],
      "execution_count": 35,
      "outputs": []
    },
    {
      "cell_type": "code",
      "metadata": {
        "colab": {
          "base_uri": "https://localhost:8080/"
        },
        "id": "uB3qZtvQYlwn",
        "outputId": "feb12c59-8221-44db-f2a7-a755bd9a2dba"
      },
      "source": [
        "#print to see if it's correct\n",
        "numerical_columns,categorical_columns"
      ],
      "execution_count": 36,
      "outputs": [
        {
          "output_type": "execute_result",
          "data": {
            "text/plain": [
              "(['duration',\n",
              "  'userTalkRatio',\n",
              "  'longestContactMonologue',\n",
              "  'patience',\n",
              "  'interactionSpeed',\n",
              "  'contacts',\n",
              "  'month',\n",
              "  'hour',\n",
              "  'dayOfWeek'],\n",
              " ['phoneProvider', 'direction', 'mediaType', 'role', 'teams', 'tag'])"
            ]
          },
          "metadata": {},
          "execution_count": 36
        }
      ]
    },
    {
      "cell_type": "code",
      "metadata": {
        "id": "q8ckk3cyXyrW"
      },
      "source": [
        "#Choosing our encoder for the categorical columns and the standard Scaler to standardize numerical columns\n",
        "from sklearn.preprocessing import OneHotEncoder, StandardScaler \n",
        "\n",
        "categorical_preprocessor = OneHotEncoder(handle_unknown=\"ignore\")\n",
        "numerical_preprocessor = StandardScaler()"
      ],
      "execution_count": 197,
      "outputs": []
    },
    {
      "cell_type": "markdown",
      "metadata": {
        "id": "tUnQhGyXFh7A"
      },
      "source": [
        "**Standardization has the purpose of putting our numerical columns in the same range of values (0 to 1) so as to avoid bias in favor of columns with higher values ( for example values like the column duration are much higher than those in the column patience by a huge factor that could mess up our predictions )**"
      ]
    },
    {
      "cell_type": "code",
      "metadata": {
        "id": "9zSmPS1vX2v4"
      },
      "source": [
        "#Now, we create the transformer and associate each of these preprocessors with their respective columns.\n",
        "from sklearn.compose import ColumnTransformer\n",
        "\n",
        "preprocessor = ColumnTransformer([\n",
        "    ('one-hot-encoder', categorical_preprocessor, categorical_columns),\n",
        "    ('standard-scaler', numerical_preprocessor, numerical_columns)])"
      ],
      "execution_count": 38,
      "outputs": []
    },
    {
      "cell_type": "markdown",
      "metadata": {
        "id": "ySQ-P8goHGA8"
      },
      "source": [
        "# 3.  Model training and evaluation."
      ]
    },
    {
      "cell_type": "markdown",
      "metadata": {
        "id": "J9UpVdAgBChA"
      },
      "source": [
        "## Logistic Regression"
      ]
    },
    {
      "cell_type": "code",
      "metadata": {
        "id": "7t4aQP-CX8Q-"
      },
      "source": [
        "from sklearn.linear_model import LogisticRegression\n",
        "from sklearn.pipeline import make_pipeline\n",
        "\n",
        "model = make_pipeline(preprocessor, LogisticRegression(multi_class='multinomial',solver='lbfgs',max_iter=500))"
      ],
      "execution_count": 39,
      "outputs": []
    },
    {
      "cell_type": "code",
      "metadata": {
        "colab": {
          "base_uri": "https://localhost:8080/",
          "height": 193
        },
        "id": "CCQdZRDOYCPV",
        "outputId": "f21a42b8-34d4-42c2-b2b1-b2ba5148d7a9"
      },
      "source": [
        "from sklearn import set_config\n",
        "set_config(display='diagram')\n",
        "model"
      ],
      "execution_count": 40,
      "outputs": [
        {
          "output_type": "execute_result",
          "data": {
            "text/html": [
              "<style>#sk-f84b4174-f229-4c58-9390-d9256ae20057 {color: black;background-color: white;}#sk-f84b4174-f229-4c58-9390-d9256ae20057 pre{padding: 0;}#sk-f84b4174-f229-4c58-9390-d9256ae20057 div.sk-toggleable {background-color: white;}#sk-f84b4174-f229-4c58-9390-d9256ae20057 label.sk-toggleable__label {cursor: pointer;display: block;width: 100%;margin-bottom: 0;padding: 0.3em;box-sizing: border-box;text-align: center;}#sk-f84b4174-f229-4c58-9390-d9256ae20057 div.sk-toggleable__content {max-height: 0;max-width: 0;overflow: hidden;text-align: left;background-color: #f0f8ff;}#sk-f84b4174-f229-4c58-9390-d9256ae20057 div.sk-toggleable__content pre {margin: 0.2em;color: black;border-radius: 0.25em;background-color: #f0f8ff;}#sk-f84b4174-f229-4c58-9390-d9256ae20057 input.sk-toggleable__control:checked~div.sk-toggleable__content {max-height: 200px;max-width: 100%;overflow: auto;}#sk-f84b4174-f229-4c58-9390-d9256ae20057 div.sk-estimator input.sk-toggleable__control:checked~label.sk-toggleable__label {background-color: #d4ebff;}#sk-f84b4174-f229-4c58-9390-d9256ae20057 div.sk-label input.sk-toggleable__control:checked~label.sk-toggleable__label {background-color: #d4ebff;}#sk-f84b4174-f229-4c58-9390-d9256ae20057 input.sk-hidden--visually {border: 0;clip: rect(1px 1px 1px 1px);clip: rect(1px, 1px, 1px, 1px);height: 1px;margin: -1px;overflow: hidden;padding: 0;position: absolute;width: 1px;}#sk-f84b4174-f229-4c58-9390-d9256ae20057 div.sk-estimator {font-family: monospace;background-color: #f0f8ff;border: 1px dotted black;border-radius: 0.25em;box-sizing: border-box;margin-bottom: 0.5em;}#sk-f84b4174-f229-4c58-9390-d9256ae20057 div.sk-estimator:hover {background-color: #d4ebff;}#sk-f84b4174-f229-4c58-9390-d9256ae20057 div.sk-parallel-item::after {content: \"\";width: 100%;border-bottom: 1px solid gray;flex-grow: 1;}#sk-f84b4174-f229-4c58-9390-d9256ae20057 div.sk-label:hover label.sk-toggleable__label {background-color: #d4ebff;}#sk-f84b4174-f229-4c58-9390-d9256ae20057 div.sk-serial::before {content: \"\";position: absolute;border-left: 1px solid gray;box-sizing: border-box;top: 2em;bottom: 0;left: 50%;}#sk-f84b4174-f229-4c58-9390-d9256ae20057 div.sk-serial {display: flex;flex-direction: column;align-items: center;background-color: white;padding-right: 0.2em;padding-left: 0.2em;}#sk-f84b4174-f229-4c58-9390-d9256ae20057 div.sk-item {z-index: 1;}#sk-f84b4174-f229-4c58-9390-d9256ae20057 div.sk-parallel {display: flex;align-items: stretch;justify-content: center;background-color: white;}#sk-f84b4174-f229-4c58-9390-d9256ae20057 div.sk-parallel::before {content: \"\";position: absolute;border-left: 1px solid gray;box-sizing: border-box;top: 2em;bottom: 0;left: 50%;}#sk-f84b4174-f229-4c58-9390-d9256ae20057 div.sk-parallel-item {display: flex;flex-direction: column;position: relative;background-color: white;}#sk-f84b4174-f229-4c58-9390-d9256ae20057 div.sk-parallel-item:first-child::after {align-self: flex-end;width: 50%;}#sk-f84b4174-f229-4c58-9390-d9256ae20057 div.sk-parallel-item:last-child::after {align-self: flex-start;width: 50%;}#sk-f84b4174-f229-4c58-9390-d9256ae20057 div.sk-parallel-item:only-child::after {width: 0;}#sk-f84b4174-f229-4c58-9390-d9256ae20057 div.sk-dashed-wrapped {border: 1px dashed gray;margin: 0 0.4em 0.5em 0.4em;box-sizing: border-box;padding-bottom: 0.4em;background-color: white;position: relative;}#sk-f84b4174-f229-4c58-9390-d9256ae20057 div.sk-label label {font-family: monospace;font-weight: bold;background-color: white;display: inline-block;line-height: 1.2em;}#sk-f84b4174-f229-4c58-9390-d9256ae20057 div.sk-label-container {position: relative;z-index: 2;text-align: center;}#sk-f84b4174-f229-4c58-9390-d9256ae20057 div.sk-container {display: inline-block;position: relative;}</style><div id=\"sk-f84b4174-f229-4c58-9390-d9256ae20057\" class\"sk-top-container\"><div class=\"sk-container\"><div class=\"sk-item sk-dashed-wrapped\"><div class=\"sk-label-container\"><div class=\"sk-label sk-toggleable\"><input class=\"sk-toggleable__control sk-hidden--visually\" id=\"1bd7131f-d677-4d4c-a180-ea6cd71cab3d\" type=\"checkbox\" ><label class=\"sk-toggleable__label\" for=\"1bd7131f-d677-4d4c-a180-ea6cd71cab3d\">Pipeline</label><div class=\"sk-toggleable__content\"><pre>Pipeline(steps=[('columntransformer',\n",
              "                 ColumnTransformer(transformers=[('one-hot-encoder',\n",
              "                                                  OneHotEncoder(handle_unknown='ignore'),\n",
              "                                                  ['phoneProvider', 'direction',\n",
              "                                                   'mediaType', 'role', 'teams',\n",
              "                                                   'tag']),\n",
              "                                                 ('standard-scaler',\n",
              "                                                  StandardScaler(),\n",
              "                                                  ['duration', 'userTalkRatio',\n",
              "                                                   'longestContactMonologue',\n",
              "                                                   'patience',\n",
              "                                                   'interactionSpeed',\n",
              "                                                   'contacts', 'month', 'hour',\n",
              "                                                   'dayOfWeek'])])),\n",
              "                ('logisticregression',\n",
              "                 LogisticRegression(max_iter=500, multi_class='multinomial'))])</pre></div></div></div><div class=\"sk-serial\"><div class=\"sk-item sk-dashed-wrapped\"><div class=\"sk-label-container\"><div class=\"sk-label sk-toggleable\"><input class=\"sk-toggleable__control sk-hidden--visually\" id=\"91a64551-602a-4277-8b2f-b7e81573d114\" type=\"checkbox\" ><label class=\"sk-toggleable__label\" for=\"91a64551-602a-4277-8b2f-b7e81573d114\">columntransformer: ColumnTransformer</label><div class=\"sk-toggleable__content\"><pre>ColumnTransformer(transformers=[('one-hot-encoder',\n",
              "                                 OneHotEncoder(handle_unknown='ignore'),\n",
              "                                 ['phoneProvider', 'direction', 'mediaType',\n",
              "                                  'role', 'teams', 'tag']),\n",
              "                                ('standard-scaler', StandardScaler(),\n",
              "                                 ['duration', 'userTalkRatio',\n",
              "                                  'longestContactMonologue', 'patience',\n",
              "                                  'interactionSpeed', 'contacts', 'month',\n",
              "                                  'hour', 'dayOfWeek'])])</pre></div></div></div><div class=\"sk-parallel\"><div class=\"sk-parallel-item\"><div class=\"sk-item\"><div class=\"sk-label-container\"><div class=\"sk-label sk-toggleable\"><input class=\"sk-toggleable__control sk-hidden--visually\" id=\"4a38d881-0c31-4adf-b90e-95386fce277c\" type=\"checkbox\" ><label class=\"sk-toggleable__label\" for=\"4a38d881-0c31-4adf-b90e-95386fce277c\">one-hot-encoder</label><div class=\"sk-toggleable__content\"><pre>['phoneProvider', 'direction', 'mediaType', 'role', 'teams', 'tag']</pre></div></div></div><div class=\"sk-serial\"><div class=\"sk-item\"><div class=\"sk-estimator sk-toggleable\"><input class=\"sk-toggleable__control sk-hidden--visually\" id=\"f5fcd31f-6f02-4773-a7d9-f6468f9f6047\" type=\"checkbox\" ><label class=\"sk-toggleable__label\" for=\"f5fcd31f-6f02-4773-a7d9-f6468f9f6047\">OneHotEncoder</label><div class=\"sk-toggleable__content\"><pre>OneHotEncoder(handle_unknown='ignore')</pre></div></div></div></div></div></div><div class=\"sk-parallel-item\"><div class=\"sk-item\"><div class=\"sk-label-container\"><div class=\"sk-label sk-toggleable\"><input class=\"sk-toggleable__control sk-hidden--visually\" id=\"2ce5e171-3df4-40bd-8d58-71f0cd4fac23\" type=\"checkbox\" ><label class=\"sk-toggleable__label\" for=\"2ce5e171-3df4-40bd-8d58-71f0cd4fac23\">standard-scaler</label><div class=\"sk-toggleable__content\"><pre>['duration', 'userTalkRatio', 'longestContactMonologue', 'patience', 'interactionSpeed', 'contacts', 'month', 'hour', 'dayOfWeek']</pre></div></div></div><div class=\"sk-serial\"><div class=\"sk-item\"><div class=\"sk-estimator sk-toggleable\"><input class=\"sk-toggleable__control sk-hidden--visually\" id=\"b250539c-0238-4b61-860f-7922f8c31dc6\" type=\"checkbox\" ><label class=\"sk-toggleable__label\" for=\"b250539c-0238-4b61-860f-7922f8c31dc6\">StandardScaler</label><div class=\"sk-toggleable__content\"><pre>StandardScaler()</pre></div></div></div></div></div></div></div></div><div class=\"sk-item\"><div class=\"sk-estimator sk-toggleable\"><input class=\"sk-toggleable__control sk-hidden--visually\" id=\"4c4ae066-2f38-4a0c-b7b7-97a2bb567c90\" type=\"checkbox\" ><label class=\"sk-toggleable__label\" for=\"4c4ae066-2f38-4a0c-b7b7-97a2bb567c90\">LogisticRegression</label><div class=\"sk-toggleable__content\"><pre>LogisticRegression(max_iter=500, multi_class='multinomial')</pre></div></div></div></div></div></div></div>"
            ],
            "text/plain": [
              "Pipeline(steps=[('columntransformer',\n",
              "                 ColumnTransformer(transformers=[('one-hot-encoder',\n",
              "                                                  OneHotEncoder(handle_unknown='ignore'),\n",
              "                                                  ['phoneProvider', 'direction',\n",
              "                                                   'mediaType', 'role', 'teams',\n",
              "                                                   'tag']),\n",
              "                                                 ('standard-scaler',\n",
              "                                                  StandardScaler(),\n",
              "                                                  ['duration', 'userTalkRatio',\n",
              "                                                   'longestContactMonologue',\n",
              "                                                   'patience',\n",
              "                                                   'interactionSpeed',\n",
              "                                                   'contacts', 'month', 'hour',\n",
              "                                                   'dayOfWeek'])])),\n",
              "                ('logisticregression',\n",
              "                 LogisticRegression(max_iter=500, multi_class='multinomial'))])"
            ]
          },
          "metadata": {},
          "execution_count": 40
        }
      ]
    },
    {
      "cell_type": "code",
      "metadata": {
        "id": "HlNk8M1LYEkw"
      },
      "source": [
        "from sklearn.model_selection import train_test_split\n",
        "# splitting the data with 25% of the rows as the test data.\n",
        "data_train, data_test, target_train, target_test = train_test_split(\n",
        "    X, y,test_size=0.25, random_state=42)"
      ],
      "execution_count": 41,
      "outputs": []
    },
    {
      "cell_type": "code",
      "metadata": {
        "colab": {
          "base_uri": "https://localhost:8080/"
        },
        "id": "iDnjHffRaqcd",
        "outputId": "56118b2f-092f-420f-8e3f-ae5b921f8bb1"
      },
      "source": [
        "target_train.head()"
      ],
      "execution_count": 42,
      "outputs": [
        {
          "output_type": "execute_result",
          "data": {
            "text/plain": [
              "2030                 Other\n",
              "1695      Client Follow Up\n",
              "977        Onboarding Team\n",
              "2015    Prospect Follow up\n",
              "848     Prospect Follow up\n",
              "Name: tag, dtype: object"
            ]
          },
          "metadata": {},
          "execution_count": 42
        }
      ]
    },
    {
      "cell_type": "code",
      "metadata": {
        "id": "ftDrxt3KYIFW"
      },
      "source": [
        "_ = model.fit(data_train, target_train)"
      ],
      "execution_count": 43,
      "outputs": []
    },
    {
      "cell_type": "code",
      "metadata": {
        "colab": {
          "base_uri": "https://localhost:8080/"
        },
        "id": "VDb6oZtIYOaA",
        "outputId": "66773b2f-1e43-4c22-a081-6c56e0d0b777"
      },
      "source": [
        "model.predict(data_test)[:10]"
      ],
      "execution_count": 44,
      "outputs": [
        {
          "output_type": "execute_result",
          "data": {
            "text/plain": [
              "array(['Demo', 'Set up', '1st Call', 'Cold Call', 'Other',\n",
              "       'Client Follow Up', 'Demo', 'Other', 'Prospect Follow up', 'Demo'],\n",
              "      dtype=object)"
            ]
          },
          "metadata": {},
          "execution_count": 44
        }
      ]
    },
    {
      "cell_type": "code",
      "metadata": {
        "colab": {
          "base_uri": "https://localhost:8080/"
        },
        "id": "T5I6C1W9YRrR",
        "outputId": "5efadf6f-d05a-4b0c-877f-fa723f6a9ec7"
      },
      "source": [
        "target_test[:10]"
      ],
      "execution_count": 45,
      "outputs": [
        {
          "output_type": "execute_result",
          "data": {
            "text/plain": [
              "1780                  Demo\n",
              "1165                Set up\n",
              "263               1st Call\n",
              "2685             Cold Call\n",
              "806                  Other\n",
              "1404      Client Follow Up\n",
              "605                   Demo\n",
              "1653                 Other\n",
              "3319    Prospect Follow up\n",
              "1874                  Demo\n",
              "Name: tag, dtype: object"
            ]
          },
          "metadata": {},
          "execution_count": 45
        }
      ]
    },
    {
      "cell_type": "code",
      "metadata": {
        "colab": {
          "base_uri": "https://localhost:8080/"
        },
        "id": "NHti3sdDR2BU",
        "outputId": "31e232f7-db5b-4652-8d44-13ae940bb135"
      },
      "source": [
        "model.score(data_test, target_test)"
      ],
      "execution_count": 46,
      "outputs": [
        {
          "output_type": "execute_result",
          "data": {
            "text/plain": [
              "1.0"
            ]
          },
          "metadata": {},
          "execution_count": 46
        }
      ]
    },
    {
      "cell_type": "markdown",
      "metadata": {
        "id": "eCag5S1wJhUL"
      },
      "source": [
        "This seems a little worriying, let's check if the test data is somehow a sub dataframe of train data ."
      ]
    },
    {
      "cell_type": "code",
      "metadata": {
        "colab": {
          "base_uri": "https://localhost:8080/",
          "height": 69
        },
        "id": "n_-xye6cKiOR",
        "outputId": "e4900144-4e11-4d84-a103-57cb0889d268"
      },
      "source": [
        "#this is similar to a sql inner join where im trying to see the matching records between my test and training data\n",
        "temp = data_train.merge(data_test, how = 'inner' ,indicator=False)\n",
        "temp"
      ],
      "execution_count": 47,
      "outputs": [
        {
          "output_type": "execute_result",
          "data": {
            "text/html": [
              "<div>\n",
              "<style scoped>\n",
              "    .dataframe tbody tr th:only-of-type {\n",
              "        vertical-align: middle;\n",
              "    }\n",
              "\n",
              "    .dataframe tbody tr th {\n",
              "        vertical-align: top;\n",
              "    }\n",
              "\n",
              "    .dataframe thead th {\n",
              "        text-align: right;\n",
              "    }\n",
              "</style>\n",
              "<table border=\"1\" class=\"dataframe\">\n",
              "  <thead>\n",
              "    <tr style=\"text-align: right;\">\n",
              "      <th></th>\n",
              "      <th>duration</th>\n",
              "      <th>phoneProvider</th>\n",
              "      <th>direction</th>\n",
              "      <th>mediaType</th>\n",
              "      <th>userTalkRatio</th>\n",
              "      <th>longestContactMonologue</th>\n",
              "      <th>patience</th>\n",
              "      <th>interactionSpeed</th>\n",
              "      <th>role</th>\n",
              "      <th>teams</th>\n",
              "      <th>contacts</th>\n",
              "      <th>tag</th>\n",
              "      <th>month</th>\n",
              "      <th>hour</th>\n",
              "      <th>dayOfWeek</th>\n",
              "    </tr>\n",
              "  </thead>\n",
              "  <tbody>\n",
              "  </tbody>\n",
              "</table>\n",
              "</div>"
            ],
            "text/plain": [
              "Empty DataFrame\n",
              "Columns: [duration, phoneProvider, direction, mediaType, userTalkRatio, longestContactMonologue, patience, interactionSpeed, role, teams, contacts, tag, month, hour, dayOfWeek]\n",
              "Index: []"
            ]
          },
          "metadata": {},
          "execution_count": 47
        }
      ]
    },
    {
      "cell_type": "markdown",
      "metadata": {
        "id": "CM8LiMN5LgG7"
      },
      "source": [
        "Clearly there are none."
      ]
    },
    {
      "cell_type": "markdown",
      "metadata": {
        "id": "mPkEmyU4LiqD"
      },
      "source": [
        "to be even more sure i checked for the duplicates all the way from the original dataframe."
      ]
    },
    {
      "cell_type": "code",
      "metadata": {
        "colab": {
          "base_uri": "https://localhost:8080/"
        },
        "id": "Wzu6A4BzIvnp",
        "outputId": "7d06b66d-bbe0-4eb5-8e97-9bd528383e99"
      },
      "source": [
        "df[df.duplicated()==True].value_counts()"
      ],
      "execution_count": 48,
      "outputs": [
        {
          "output_type": "execute_result",
          "data": {
            "text/plain": [
              "Series([], dtype: int64)"
            ]
          },
          "metadata": {},
          "execution_count": 48
        }
      ]
    },
    {
      "cell_type": "markdown",
      "metadata": {
        "id": "T3Ffc28Vc9el"
      },
      "source": [
        "let's try with cross validation now to test against multiple \" test data \" "
      ]
    },
    {
      "cell_type": "code",
      "metadata": {
        "colab": {
          "base_uri": "https://localhost:8080/"
        },
        "id": "DLEIxmw_btIw",
        "outputId": "fff10686-9ea5-4f62-8d55-7280a6cf4f88"
      },
      "source": [
        "from sklearn.model_selection import cross_val_score\n",
        "cross_val_score(model, X,y, cv=5,scoring='accuracy',error_score='raise').mean()"
      ],
      "execution_count": 49,
      "outputs": [
        {
          "output_type": "execute_result",
          "data": {
            "text/plain": [
              "0.9994715984147952"
            ]
          },
          "metadata": {},
          "execution_count": 49
        }
      ]
    },
    {
      "cell_type": "markdown",
      "metadata": {
        "id": "CaJKVztuYFg2"
      },
      "source": [
        "Okey so this clearly is a problem and our first reflex is to make hypotheses to explain this accuracy score\n",
        "\n",
        "1.   Class imbalance.\n",
        "2.   Model is too complex due to the encoding of the categorical variables.\n"
      ]
    },
    {
      "cell_type": "markdown",
      "metadata": {
        "id": "pYUs8Bn8BJ9K"
      },
      "source": [
        "## Decision Tree"
      ]
    },
    {
      "cell_type": "markdown",
      "metadata": {
        "id": "1WcRee88YtRr"
      },
      "source": [
        "in order to fix these two issues, i'll use a decision tree model that takes into account only numerical features for now, find the most pertinant numerical features as well as take into account the class weight and countermeasuring the class imabalances."
      ]
    },
    {
      "cell_type": "code",
      "metadata": {
        "id": "flKF0_5Ogvz2"
      },
      "source": [
        "preprocessor = ColumnTransformer(\n",
        "    ('standard-scaler', numerical_preprocessor, numerical_columns))"
      ],
      "execution_count": 51,
      "outputs": []
    },
    {
      "cell_type": "code",
      "metadata": {
        "id": "vPV88FXdYs2g"
      },
      "source": [
        "from sklearn import tree\n",
        "clf = tree.DecisionTreeClassifier(class_weight = 'balanced' ,max_depth = 5 ,min_samples_split=6) # accounting for class imbalance\n",
        "model2 = make_pipeline(numerical_preprocessor, clf)"
      ],
      "execution_count": 91,
      "outputs": []
    },
    {
      "cell_type": "code",
      "metadata": {
        "colab": {
          "base_uri": "https://localhost:8080/",
          "height": 127
        },
        "id": "7Tf7oR70dREG",
        "outputId": "adc523af-1aed-4742-ce99-f5ac7ad460b6"
      },
      "source": [
        "from sklearn import set_config\n",
        "set_config(display='diagram')\n",
        "model2"
      ],
      "execution_count": 92,
      "outputs": [
        {
          "output_type": "execute_result",
          "data": {
            "text/html": [
              "<style>#sk-a38a3690-31ca-41e0-a758-3c740119188d {color: black;background-color: white;}#sk-a38a3690-31ca-41e0-a758-3c740119188d pre{padding: 0;}#sk-a38a3690-31ca-41e0-a758-3c740119188d div.sk-toggleable {background-color: white;}#sk-a38a3690-31ca-41e0-a758-3c740119188d label.sk-toggleable__label {cursor: pointer;display: block;width: 100%;margin-bottom: 0;padding: 0.3em;box-sizing: border-box;text-align: center;}#sk-a38a3690-31ca-41e0-a758-3c740119188d div.sk-toggleable__content {max-height: 0;max-width: 0;overflow: hidden;text-align: left;background-color: #f0f8ff;}#sk-a38a3690-31ca-41e0-a758-3c740119188d div.sk-toggleable__content pre {margin: 0.2em;color: black;border-radius: 0.25em;background-color: #f0f8ff;}#sk-a38a3690-31ca-41e0-a758-3c740119188d input.sk-toggleable__control:checked~div.sk-toggleable__content {max-height: 200px;max-width: 100%;overflow: auto;}#sk-a38a3690-31ca-41e0-a758-3c740119188d div.sk-estimator input.sk-toggleable__control:checked~label.sk-toggleable__label {background-color: #d4ebff;}#sk-a38a3690-31ca-41e0-a758-3c740119188d div.sk-label input.sk-toggleable__control:checked~label.sk-toggleable__label {background-color: #d4ebff;}#sk-a38a3690-31ca-41e0-a758-3c740119188d input.sk-hidden--visually {border: 0;clip: rect(1px 1px 1px 1px);clip: rect(1px, 1px, 1px, 1px);height: 1px;margin: -1px;overflow: hidden;padding: 0;position: absolute;width: 1px;}#sk-a38a3690-31ca-41e0-a758-3c740119188d div.sk-estimator {font-family: monospace;background-color: #f0f8ff;border: 1px dotted black;border-radius: 0.25em;box-sizing: border-box;margin-bottom: 0.5em;}#sk-a38a3690-31ca-41e0-a758-3c740119188d div.sk-estimator:hover {background-color: #d4ebff;}#sk-a38a3690-31ca-41e0-a758-3c740119188d div.sk-parallel-item::after {content: \"\";width: 100%;border-bottom: 1px solid gray;flex-grow: 1;}#sk-a38a3690-31ca-41e0-a758-3c740119188d div.sk-label:hover label.sk-toggleable__label {background-color: #d4ebff;}#sk-a38a3690-31ca-41e0-a758-3c740119188d div.sk-serial::before {content: \"\";position: absolute;border-left: 1px solid gray;box-sizing: border-box;top: 2em;bottom: 0;left: 50%;}#sk-a38a3690-31ca-41e0-a758-3c740119188d div.sk-serial {display: flex;flex-direction: column;align-items: center;background-color: white;padding-right: 0.2em;padding-left: 0.2em;}#sk-a38a3690-31ca-41e0-a758-3c740119188d div.sk-item {z-index: 1;}#sk-a38a3690-31ca-41e0-a758-3c740119188d div.sk-parallel {display: flex;align-items: stretch;justify-content: center;background-color: white;}#sk-a38a3690-31ca-41e0-a758-3c740119188d div.sk-parallel::before {content: \"\";position: absolute;border-left: 1px solid gray;box-sizing: border-box;top: 2em;bottom: 0;left: 50%;}#sk-a38a3690-31ca-41e0-a758-3c740119188d div.sk-parallel-item {display: flex;flex-direction: column;position: relative;background-color: white;}#sk-a38a3690-31ca-41e0-a758-3c740119188d div.sk-parallel-item:first-child::after {align-self: flex-end;width: 50%;}#sk-a38a3690-31ca-41e0-a758-3c740119188d div.sk-parallel-item:last-child::after {align-self: flex-start;width: 50%;}#sk-a38a3690-31ca-41e0-a758-3c740119188d div.sk-parallel-item:only-child::after {width: 0;}#sk-a38a3690-31ca-41e0-a758-3c740119188d div.sk-dashed-wrapped {border: 1px dashed gray;margin: 0 0.4em 0.5em 0.4em;box-sizing: border-box;padding-bottom: 0.4em;background-color: white;position: relative;}#sk-a38a3690-31ca-41e0-a758-3c740119188d div.sk-label label {font-family: monospace;font-weight: bold;background-color: white;display: inline-block;line-height: 1.2em;}#sk-a38a3690-31ca-41e0-a758-3c740119188d div.sk-label-container {position: relative;z-index: 2;text-align: center;}#sk-a38a3690-31ca-41e0-a758-3c740119188d div.sk-container {display: inline-block;position: relative;}</style><div id=\"sk-a38a3690-31ca-41e0-a758-3c740119188d\" class\"sk-top-container\"><div class=\"sk-container\"><div class=\"sk-item sk-dashed-wrapped\"><div class=\"sk-label-container\"><div class=\"sk-label sk-toggleable\"><input class=\"sk-toggleable__control sk-hidden--visually\" id=\"13e8ebb0-fee7-4949-a1c4-da0ec0f8d9c0\" type=\"checkbox\" ><label class=\"sk-toggleable__label\" for=\"13e8ebb0-fee7-4949-a1c4-da0ec0f8d9c0\">Pipeline</label><div class=\"sk-toggleable__content\"><pre>Pipeline(steps=[('standardscaler', StandardScaler()),\n",
              "                ('decisiontreeclassifier',\n",
              "                 DecisionTreeClassifier(class_weight='balanced', max_depth=5,\n",
              "                                        min_samples_split=6))])</pre></div></div></div><div class=\"sk-serial\"><div class=\"sk-item\"><div class=\"sk-estimator sk-toggleable\"><input class=\"sk-toggleable__control sk-hidden--visually\" id=\"4032b09a-8fb5-4ea0-bc12-42748e4b0781\" type=\"checkbox\" ><label class=\"sk-toggleable__label\" for=\"4032b09a-8fb5-4ea0-bc12-42748e4b0781\">StandardScaler</label><div class=\"sk-toggleable__content\"><pre>StandardScaler()</pre></div></div></div><div class=\"sk-item\"><div class=\"sk-estimator sk-toggleable\"><input class=\"sk-toggleable__control sk-hidden--visually\" id=\"46ad3677-f07b-4edf-9864-cf41ac96875d\" type=\"checkbox\" ><label class=\"sk-toggleable__label\" for=\"46ad3677-f07b-4edf-9864-cf41ac96875d\">DecisionTreeClassifier</label><div class=\"sk-toggleable__content\"><pre>DecisionTreeClassifier(class_weight='balanced', max_depth=5,\n",
              "                       min_samples_split=6)</pre></div></div></div></div></div></div></div>"
            ],
            "text/plain": [
              "Pipeline(steps=[('standardscaler', StandardScaler()),\n",
              "                ('decisiontreeclassifier',\n",
              "                 DecisionTreeClassifier(class_weight='balanced', max_depth=5,\n",
              "                                        min_samples_split=6))])"
            ]
          },
          "metadata": {},
          "execution_count": 92
        }
      ]
    },
    {
      "cell_type": "code",
      "metadata": {
        "id": "EB18CqUzgezD"
      },
      "source": [
        "X =  X[numerical_columns]"
      ],
      "execution_count": 93,
      "outputs": []
    },
    {
      "cell_type": "code",
      "metadata": {
        "id": "E9g7S6M1gAoa"
      },
      "source": [
        "data_train, data_test, target_train, target_test = train_test_split(\n",
        "   X, y,test_size=0.25, random_state=42)"
      ],
      "execution_count": 94,
      "outputs": []
    },
    {
      "cell_type": "code",
      "metadata": {
        "colab": {
          "base_uri": "https://localhost:8080/"
        },
        "id": "XfI_7gejdUGP",
        "outputId": "1d3c367d-8fed-41a8-c389-2791fa1c76f3"
      },
      "source": [
        "_ = model2.fit(data_train, target_train)\n",
        "model2.predict(data_test)[:10]"
      ],
      "execution_count": 95,
      "outputs": [
        {
          "output_type": "execute_result",
          "data": {
            "text/plain": [
              "array(['1st Call', 'Set up', '1st Call', 'Cold Call', 'Set up',\n",
              "       'Onboarding Managers', 'Demo', 'Set up', 'Prospect Follow up',\n",
              "       'Onboarding Team'], dtype=object)"
            ]
          },
          "metadata": {},
          "execution_count": 95
        }
      ]
    },
    {
      "cell_type": "code",
      "metadata": {
        "id": "ueEvXYbD8fCo"
      },
      "source": [
        "predictions = model2.predict(data_test)"
      ],
      "execution_count": 96,
      "outputs": []
    },
    {
      "cell_type": "code",
      "metadata": {
        "colab": {
          "base_uri": "https://localhost:8080/"
        },
        "id": "lKkE6GlA79vk",
        "outputId": "9b974b3e-54ae-48b4-a2d1-bb76487b4de2"
      },
      "source": [
        "from sklearn.metrics import accuracy_score, confusion_matrix , precision_score , classification_report,recall_score\n",
        "accuracy_score(target_test,predictions)"
      ],
      "execution_count": 97,
      "outputs": [
        {
          "output_type": "execute_result",
          "data": {
            "text/plain": [
              "0.3717001055966209"
            ]
          },
          "metadata": {},
          "execution_count": 97
        }
      ]
    },
    {
      "cell_type": "code",
      "metadata": {
        "colab": {
          "base_uri": "https://localhost:8080/"
        },
        "id": "0hbRELky9Rw1",
        "outputId": "2d6fe9cc-a2b5-4585-9d3f-1b76c830de47"
      },
      "source": [
        "precision_score(target_test,predictions,average='weighted')"
      ],
      "execution_count": 99,
      "outputs": [
        {
          "output_type": "execute_result",
          "data": {
            "text/plain": [
              "0.35705231048308983"
            ]
          },
          "metadata": {},
          "execution_count": 99
        }
      ]
    },
    {
      "cell_type": "code",
      "metadata": {
        "colab": {
          "base_uri": "https://localhost:8080/"
        },
        "id": "tns_lgZx-MHf",
        "outputId": "d80e42b6-3022-4733-8a0e-d85365706af5"
      },
      "source": [
        "recall_score(target_test,predictions,average='weighted')"
      ],
      "execution_count": 100,
      "outputs": [
        {
          "output_type": "execute_result",
          "data": {
            "text/plain": [
              "0.3717001055966209"
            ]
          },
          "metadata": {},
          "execution_count": 100
        }
      ]
    },
    {
      "cell_type": "code",
      "metadata": {
        "colab": {
          "base_uri": "https://localhost:8080/"
        },
        "id": "xORNlLbK9saO",
        "outputId": "165edcce-0220-4af7-dc98-973f1a6a563e"
      },
      "source": [
        "print(classification_report(target_test,predictions,target_names=target_train.value_counts().index))"
      ],
      "execution_count": 101,
      "outputs": [
        {
          "output_type": "stream",
          "name": "stdout",
          "text": [
            "                       precision    recall  f1-score   support\n",
            "\n",
            "                 Demo       0.34      0.57      0.43       138\n",
            "     Client Follow Up       0.12      0.01      0.01       163\n",
            "             1st Call       0.58      0.59      0.59        91\n",
            "Unscheduled Follow up       0.54      0.49      0.51       146\n",
            "   Prospect Follow up       0.14      0.23      0.17        48\n",
            "            Cold Call       0.60      0.56      0.58        52\n",
            "                Other       0.16      0.13      0.14        78\n",
            "      Onboarding Team       0.24      0.32      0.28        82\n",
            "  Onboarding Managers       0.10      0.23      0.13        31\n",
            "               Set up       0.56      0.54      0.55       118\n",
            "\n",
            "             accuracy                           0.37       947\n",
            "            macro avg       0.34      0.37      0.34       947\n",
            "         weighted avg       0.36      0.37      0.35       947\n",
            "\n"
          ]
        }
      ]
    },
    {
      "cell_type": "markdown",
      "metadata": {
        "id": "PpehphMi7Ru6"
      },
      "source": [
        "This algorithm maybe not the most optimal one but we're using it here for interprebality, finding the most important features "
      ]
    },
    {
      "cell_type": "markdown",
      "metadata": {
        "id": "jf7YObiUAXW4"
      },
      "source": [
        "### Feature selection"
      ]
    },
    {
      "cell_type": "code",
      "metadata": {
        "colab": {
          "base_uri": "https://localhost:8080/",
          "height": 332
        },
        "id": "Tjh8yQ4h57g5",
        "outputId": "50f592a7-3973-4d84-dcd9-8edd7e72bc82"
      },
      "source": [
        "feature_importance = pd.DataFrame(clf.feature_importances_,index= numerical_columns)\n",
        "feature_importance"
      ],
      "execution_count": 65,
      "outputs": [
        {
          "output_type": "execute_result",
          "data": {
            "text/html": [
              "<div>\n",
              "<style scoped>\n",
              "    .dataframe tbody tr th:only-of-type {\n",
              "        vertical-align: middle;\n",
              "    }\n",
              "\n",
              "    .dataframe tbody tr th {\n",
              "        vertical-align: top;\n",
              "    }\n",
              "\n",
              "    .dataframe thead th {\n",
              "        text-align: right;\n",
              "    }\n",
              "</style>\n",
              "<table border=\"1\" class=\"dataframe\">\n",
              "  <thead>\n",
              "    <tr style=\"text-align: right;\">\n",
              "      <th></th>\n",
              "      <th>0</th>\n",
              "    </tr>\n",
              "  </thead>\n",
              "  <tbody>\n",
              "    <tr>\n",
              "      <th>duration</th>\n",
              "      <td>0.642410</td>\n",
              "    </tr>\n",
              "    <tr>\n",
              "      <th>userTalkRatio</th>\n",
              "      <td>0.050814</td>\n",
              "    </tr>\n",
              "    <tr>\n",
              "      <th>longestContactMonologue</th>\n",
              "      <td>0.029312</td>\n",
              "    </tr>\n",
              "    <tr>\n",
              "      <th>patience</th>\n",
              "      <td>0.010175</td>\n",
              "    </tr>\n",
              "    <tr>\n",
              "      <th>interactionSpeed</th>\n",
              "      <td>0.114496</td>\n",
              "    </tr>\n",
              "    <tr>\n",
              "      <th>contacts</th>\n",
              "      <td>0.071985</td>\n",
              "    </tr>\n",
              "    <tr>\n",
              "      <th>month</th>\n",
              "      <td>0.073631</td>\n",
              "    </tr>\n",
              "    <tr>\n",
              "      <th>hour</th>\n",
              "      <td>0.000000</td>\n",
              "    </tr>\n",
              "    <tr>\n",
              "      <th>dayOfWeek</th>\n",
              "      <td>0.007177</td>\n",
              "    </tr>\n",
              "  </tbody>\n",
              "</table>\n",
              "</div>"
            ],
            "text/plain": [
              "                                0\n",
              "duration                 0.642410\n",
              "userTalkRatio            0.050814\n",
              "longestContactMonologue  0.029312\n",
              "patience                 0.010175\n",
              "interactionSpeed         0.114496\n",
              "contacts                 0.071985\n",
              "month                    0.073631\n",
              "hour                     0.000000\n",
              "dayOfWeek                0.007177"
            ]
          },
          "metadata": {},
          "execution_count": 65
        }
      ]
    },
    {
      "cell_type": "code",
      "metadata": {
        "colab": {
          "base_uri": "https://localhost:8080/",
          "height": 420
        },
        "id": "ImOK2GV17CiH",
        "outputId": "1c38035f-a6bd-476b-820e-d7fd839f685b"
      },
      "source": [
        "feature_importance.plot(kind='bar')"
      ],
      "execution_count": 62,
      "outputs": [
        {
          "output_type": "execute_result",
          "data": {
            "text/plain": [
              "<matplotlib.axes._subplots.AxesSubplot at 0x7fd9103e6ad0>"
            ]
          },
          "metadata": {},
          "execution_count": 62
        },
        {
          "output_type": "display_data",
          "data": {
            "image/png": "[encoded data removed]",
            "text/plain": [
              "<Figure size 432x288 with 1 Axes>"
            ]
          },
          "metadata": {
            "needs_background": "light"
          }
        }
      ]
    },
    {
      "cell_type": "markdown",
      "metadata": {
        "id": "x14X5OqH7aMh"
      },
      "source": [
        "We can see the duration is the most important and the hour and day of the week being the least important. "
      ]
    },
    {
      "cell_type": "markdown",
      "metadata": {
        "id": "rHQhIqHIBUma"
      },
      "source": [
        "## Random Forest"
      ]
    },
    {
      "cell_type": "markdown",
      "metadata": {
        "id": "05eH3a6yAv5u"
      },
      "source": [
        "Now i'll move on to a random forest model , again taking into account only pertinant numerical features. and i'll tune the model with grid search to get the highet evaluations from it"
      ]
    },
    {
      "cell_type": "code",
      "metadata": {
        "id": "EiklhzfLBf2t"
      },
      "source": [
        "from sklearn.ensemble import RandomForestClassifier\n",
        "model_3 = RandomForestClassifier( random_state = 42)"
      ],
      "execution_count": 113,
      "outputs": []
    },
    {
      "cell_type": "code",
      "metadata": {
        "colab": {
          "base_uri": "https://localhost:8080/",
          "height": 206
        },
        "id": "YX3NSvPBB9P6",
        "outputId": "03bb0276-9045-4762-8752-e3b9d6886799"
      },
      "source": [
        "X = X.drop(['hour','dayOfWeek'], axis=1)\n",
        "X.head()"
      ],
      "execution_count": 106,
      "outputs": [
        {
          "output_type": "execute_result",
          "data": {
            "text/html": [
              "<div>\n",
              "<style scoped>\n",
              "    .dataframe tbody tr th:only-of-type {\n",
              "        vertical-align: middle;\n",
              "    }\n",
              "\n",
              "    .dataframe tbody tr th {\n",
              "        vertical-align: top;\n",
              "    }\n",
              "\n",
              "    .dataframe thead th {\n",
              "        text-align: right;\n",
              "    }\n",
              "</style>\n",
              "<table border=\"1\" class=\"dataframe\">\n",
              "  <thead>\n",
              "    <tr style=\"text-align: right;\">\n",
              "      <th></th>\n",
              "      <th>duration</th>\n",
              "      <th>userTalkRatio</th>\n",
              "      <th>longestContactMonologue</th>\n",
              "      <th>patience</th>\n",
              "      <th>interactionSpeed</th>\n",
              "      <th>contacts</th>\n",
              "      <th>month</th>\n",
              "    </tr>\n",
              "  </thead>\n",
              "  <tbody>\n",
              "    <tr>\n",
              "      <th>0</th>\n",
              "      <td>657.34</td>\n",
              "      <td>0.29</td>\n",
              "      <td>80.30</td>\n",
              "      <td>0.77</td>\n",
              "      <td>3.01</td>\n",
              "      <td>1.0</td>\n",
              "      <td>10</td>\n",
              "    </tr>\n",
              "    <tr>\n",
              "      <th>1</th>\n",
              "      <td>205.48</td>\n",
              "      <td>0.45</td>\n",
              "      <td>23.71</td>\n",
              "      <td>0.41</td>\n",
              "      <td>8.18</td>\n",
              "      <td>1.0</td>\n",
              "      <td>10</td>\n",
              "    </tr>\n",
              "    <tr>\n",
              "      <th>2</th>\n",
              "      <td>1607.10</td>\n",
              "      <td>0.48</td>\n",
              "      <td>57.84</td>\n",
              "      <td>0.28</td>\n",
              "      <td>4.59</td>\n",
              "      <td>1.0</td>\n",
              "      <td>10</td>\n",
              "    </tr>\n",
              "    <tr>\n",
              "      <th>3</th>\n",
              "      <td>249.91</td>\n",
              "      <td>0.45</td>\n",
              "      <td>43.19</td>\n",
              "      <td>1.77</td>\n",
              "      <td>5.52</td>\n",
              "      <td>1.0</td>\n",
              "      <td>10</td>\n",
              "    </tr>\n",
              "    <tr>\n",
              "      <th>4</th>\n",
              "      <td>1948.75</td>\n",
              "      <td>0.32</td>\n",
              "      <td>267.82</td>\n",
              "      <td>0.47</td>\n",
              "      <td>2.03</td>\n",
              "      <td>2.0</td>\n",
              "      <td>10</td>\n",
              "    </tr>\n",
              "  </tbody>\n",
              "</table>\n",
              "</div>"
            ],
            "text/plain": [
              "   duration  userTalkRatio  ...  contacts  month\n",
              "0    657.34           0.29  ...       1.0     10\n",
              "1    205.48           0.45  ...       1.0     10\n",
              "2   1607.10           0.48  ...       1.0     10\n",
              "3    249.91           0.45  ...       1.0     10\n",
              "4   1948.75           0.32  ...       2.0     10\n",
              "\n",
              "[5 rows x 7 columns]"
            ]
          },
          "metadata": {},
          "execution_count": 106
        }
      ]
    },
    {
      "cell_type": "code",
      "metadata": {
        "id": "2d5MQfSzB8sb"
      },
      "source": [
        "from sklearn.model_selection import train_test_split\n",
        "# splitting the data with 25% of the rows as the test data.\n",
        "data_train, data_test, target_train, target_test = train_test_split(\n",
        "    X, y,test_size=0.25, random_state=42)"
      ],
      "execution_count": 114,
      "outputs": []
    },
    {
      "cell_type": "code",
      "metadata": {
        "id": "jzwEYxLgH1tI"
      },
      "source": [
        "_ = model_3.fit(data_train, target_train)\n",
        "predictions = model_3.predict(data_test)"
      ],
      "execution_count": 125,
      "outputs": []
    },
    {
      "cell_type": "code",
      "metadata": {
        "colab": {
          "base_uri": "https://localhost:8080/"
        },
        "id": "C5hxR6MzIDZc",
        "outputId": "1c27f715-8f37-4fa4-dfa8-bb820fc4894b"
      },
      "source": [
        "print(classification_report(target_test,predictions,target_names=target_train.value_counts().index))"
      ],
      "execution_count": 126,
      "outputs": [
        {
          "output_type": "stream",
          "name": "stdout",
          "text": [
            "                       precision    recall  f1-score   support\n",
            "\n",
            "                 Demo       0.39      0.49      0.44       138\n",
            "     Client Follow Up       0.36      0.42      0.38       163\n",
            "             1st Call       0.61      0.54      0.57        91\n",
            "Unscheduled Follow up       0.49      0.64      0.56       146\n",
            "   Prospect Follow up       0.10      0.02      0.03        48\n",
            "            Cold Call       0.54      0.50      0.52        52\n",
            "                Other       0.42      0.06      0.11        78\n",
            "      Onboarding Team       0.30      0.30      0.30        82\n",
            "  Onboarding Managers       0.40      0.19      0.26        31\n",
            "               Set up       0.53      0.65      0.59       118\n",
            "\n",
            "             accuracy                           0.44       947\n",
            "            macro avg       0.41      0.38      0.38       947\n",
            "         weighted avg       0.43      0.44      0.42       947\n",
            "\n"
          ]
        }
      ]
    },
    {
      "cell_type": "code",
      "metadata": {
        "colab": {
          "base_uri": "https://localhost:8080/"
        },
        "id": "daLZac7nMl91",
        "outputId": "b9144a88-e65d-4b5d-da2b-beaf7650d53a"
      },
      "source": [
        "accuracy_score(predictions, target_test)"
      ],
      "execution_count": 127,
      "outputs": [
        {
          "output_type": "execute_result",
          "data": {
            "text/plain": [
              "0.4424498416050686"
            ]
          },
          "metadata": {},
          "execution_count": 127
        }
      ]
    },
    {
      "cell_type": "markdown",
      "metadata": {
        "id": "pnHH8pcvKChf"
      },
      "source": [
        "### Grid Search CV for hyperparameter tuning"
      ]
    },
    {
      "cell_type": "code",
      "metadata": {
        "id": "i6RZIsM9IDQ-"
      },
      "source": [
        "param_grid = { \n",
        "    'n_estimators': [200, 500],\n",
        "    'max_features': ['auto', 'sqrt', 'log2'],\n",
        "    'max_depth' : [4,5,6,7,8],\n",
        "    'criterion' :['gini', 'entropy']\n",
        "}"
      ],
      "execution_count": 117,
      "outputs": []
    },
    {
      "cell_type": "code",
      "metadata": {
        "colab": {
          "base_uri": "https://localhost:8080/",
          "height": 93
        },
        "id": "7ojAaC5fJ0PT",
        "outputId": "ddf6e632-b487-4680-cf27-34e67de5d0f7"
      },
      "source": [
        "from sklearn.model_selection import GridSearchCV\n",
        "CV_rfc = GridSearchCV(estimator=model_3, param_grid=param_grid, cv= 5)\n",
        "CV_rfc.fit(data_train, target_train)"
      ],
      "execution_count": 119,
      "outputs": [
        {
          "output_type": "execute_result",
          "data": {
            "text/html": [
              "<style>#sk-f9864198-5866-4235-8717-e16a0a82b0d1 {color: black;background-color: white;}#sk-f9864198-5866-4235-8717-e16a0a82b0d1 pre{padding: 0;}#sk-f9864198-5866-4235-8717-e16a0a82b0d1 div.sk-toggleable {background-color: white;}#sk-f9864198-5866-4235-8717-e16a0a82b0d1 label.sk-toggleable__label {cursor: pointer;display: block;width: 100%;margin-bottom: 0;padding: 0.3em;box-sizing: border-box;text-align: center;}#sk-f9864198-5866-4235-8717-e16a0a82b0d1 div.sk-toggleable__content {max-height: 0;max-width: 0;overflow: hidden;text-align: left;background-color: #f0f8ff;}#sk-f9864198-5866-4235-8717-e16a0a82b0d1 div.sk-toggleable__content pre {margin: 0.2em;color: black;border-radius: 0.25em;background-color: #f0f8ff;}#sk-f9864198-5866-4235-8717-e16a0a82b0d1 input.sk-toggleable__control:checked~div.sk-toggleable__content {max-height: 200px;max-width: 100%;overflow: auto;}#sk-f9864198-5866-4235-8717-e16a0a82b0d1 div.sk-estimator input.sk-toggleable__control:checked~label.sk-toggleable__label {background-color: #d4ebff;}#sk-f9864198-5866-4235-8717-e16a0a82b0d1 div.sk-label input.sk-toggleable__control:checked~label.sk-toggleable__label {background-color: #d4ebff;}#sk-f9864198-5866-4235-8717-e16a0a82b0d1 input.sk-hidden--visually {border: 0;clip: rect(1px 1px 1px 1px);clip: rect(1px, 1px, 1px, 1px);height: 1px;margin: -1px;overflow: hidden;padding: 0;position: absolute;width: 1px;}#sk-f9864198-5866-4235-8717-e16a0a82b0d1 div.sk-estimator {font-family: monospace;background-color: #f0f8ff;border: 1px dotted black;border-radius: 0.25em;box-sizing: border-box;margin-bottom: 0.5em;}#sk-f9864198-5866-4235-8717-e16a0a82b0d1 div.sk-estimator:hover {background-color: #d4ebff;}#sk-f9864198-5866-4235-8717-e16a0a82b0d1 div.sk-parallel-item::after {content: \"\";width: 100%;border-bottom: 1px solid gray;flex-grow: 1;}#sk-f9864198-5866-4235-8717-e16a0a82b0d1 div.sk-label:hover label.sk-toggleable__label {background-color: #d4ebff;}#sk-f9864198-5866-4235-8717-e16a0a82b0d1 div.sk-serial::before {content: \"\";position: absolute;border-left: 1px solid gray;box-sizing: border-box;top: 2em;bottom: 0;left: 50%;}#sk-f9864198-5866-4235-8717-e16a0a82b0d1 div.sk-serial {display: flex;flex-direction: column;align-items: center;background-color: white;padding-right: 0.2em;padding-left: 0.2em;}#sk-f9864198-5866-4235-8717-e16a0a82b0d1 div.sk-item {z-index: 1;}#sk-f9864198-5866-4235-8717-e16a0a82b0d1 div.sk-parallel {display: flex;align-items: stretch;justify-content: center;background-color: white;}#sk-f9864198-5866-4235-8717-e16a0a82b0d1 div.sk-parallel::before {content: \"\";position: absolute;border-left: 1px solid gray;box-sizing: border-box;top: 2em;bottom: 0;left: 50%;}#sk-f9864198-5866-4235-8717-e16a0a82b0d1 div.sk-parallel-item {display: flex;flex-direction: column;position: relative;background-color: white;}#sk-f9864198-5866-4235-8717-e16a0a82b0d1 div.sk-parallel-item:first-child::after {align-self: flex-end;width: 50%;}#sk-f9864198-5866-4235-8717-e16a0a82b0d1 div.sk-parallel-item:last-child::after {align-self: flex-start;width: 50%;}#sk-f9864198-5866-4235-8717-e16a0a82b0d1 div.sk-parallel-item:only-child::after {width: 0;}#sk-f9864198-5866-4235-8717-e16a0a82b0d1 div.sk-dashed-wrapped {border: 1px dashed gray;margin: 0 0.4em 0.5em 0.4em;box-sizing: border-box;padding-bottom: 0.4em;background-color: white;position: relative;}#sk-f9864198-5866-4235-8717-e16a0a82b0d1 div.sk-label label {font-family: monospace;font-weight: bold;background-color: white;display: inline-block;line-height: 1.2em;}#sk-f9864198-5866-4235-8717-e16a0a82b0d1 div.sk-label-container {position: relative;z-index: 2;text-align: center;}#sk-f9864198-5866-4235-8717-e16a0a82b0d1 div.sk-container {display: inline-block;position: relative;}</style><div id=\"sk-f9864198-5866-4235-8717-e16a0a82b0d1\" class\"sk-top-container\"><div class=\"sk-container\"><div class=\"sk-item sk-dashed-wrapped\"><div class=\"sk-label-container\"><div class=\"sk-label sk-toggleable\"><input class=\"sk-toggleable__control sk-hidden--visually\" id=\"09caf263-0318-4835-bdd0-94a504934281\" type=\"checkbox\" ><label class=\"sk-toggleable__label\" for=\"09caf263-0318-4835-bdd0-94a504934281\">GridSearchCV</label><div class=\"sk-toggleable__content\"><pre>GridSearchCV(cv=5, estimator=RandomForestClassifier(random_state=42),\n",
              "             param_grid={'criterion': ['gini', 'entropy'],\n",
              "                         'max_depth': [4, 5, 6, 7, 8],\n",
              "                         'max_features': ['auto', 'sqrt', 'log2'],\n",
              "                         'n_estimators': [200, 500]})</pre></div></div></div><div class=\"sk-parallel\"><div class=\"sk-parallel-item\"><div class=\"sk-item\"><div class=\"sk-serial\"><div class=\"sk-item\"><div class=\"sk-estimator sk-toggleable\"><input class=\"sk-toggleable__control sk-hidden--visually\" id=\"756eaac4-eaaa-49a0-8356-f5f2d07a0c3d\" type=\"checkbox\" ><label class=\"sk-toggleable__label\" for=\"756eaac4-eaaa-49a0-8356-f5f2d07a0c3d\">RandomForestClassifier</label><div class=\"sk-toggleable__content\"><pre>RandomForestClassifier(random_state=42)</pre></div></div></div></div></div></div></div></div></div></div>"
            ],
            "text/plain": [
              "GridSearchCV(cv=5, estimator=RandomForestClassifier(random_state=42),\n",
              "             param_grid={'criterion': ['gini', 'entropy'],\n",
              "                         'max_depth': [4, 5, 6, 7, 8],\n",
              "                         'max_features': ['auto', 'sqrt', 'log2'],\n",
              "                         'n_estimators': [200, 500]})"
            ]
          },
          "metadata": {},
          "execution_count": 119
        }
      ]
    },
    {
      "cell_type": "code",
      "metadata": {
        "colab": {
          "base_uri": "https://localhost:8080/"
        },
        "id": "hdrMgrBLJ8dA",
        "outputId": "eb3d2a07-5ed4-40c4-bd67-0f0741cec9b3"
      },
      "source": [
        "CV_rfc.best_params_"
      ],
      "execution_count": 120,
      "outputs": [
        {
          "output_type": "execute_result",
          "data": {
            "text/plain": [
              "{'criterion': 'entropy',\n",
              " 'max_depth': 8,\n",
              " 'max_features': 'auto',\n",
              " 'n_estimators': 200}"
            ]
          },
          "metadata": {},
          "execution_count": 120
        }
      ]
    },
    {
      "cell_type": "code",
      "metadata": {
        "id": "skmtAjUvMItI"
      },
      "source": [
        "rfc1=RandomForestClassifier(random_state=42, max_features='auto', n_estimators= 200, max_depth=8, criterion='entropy')"
      ],
      "execution_count": 133,
      "outputs": []
    },
    {
      "cell_type": "code",
      "metadata": {
        "id": "sXRfFQknMUj8"
      },
      "source": [
        "_ = rfc1.fit(data_train, target_train)\n",
        "predictions = rfc1.predict(data_test)"
      ],
      "execution_count": 134,
      "outputs": []
    },
    {
      "cell_type": "code",
      "metadata": {
        "colab": {
          "base_uri": "https://localhost:8080/"
        },
        "id": "PcVNThAUMZHp",
        "outputId": "f9b30d8a-1699-4c27-f4f6-4cb4536baf1b"
      },
      "source": [
        "print(classification_report(target_test,predictions,target_names=target_train.value_counts().index))"
      ],
      "execution_count": 135,
      "outputs": [
        {
          "output_type": "stream",
          "name": "stdout",
          "text": [
            "                       precision    recall  f1-score   support\n",
            "\n",
            "                 Demo       0.41      0.55      0.47       138\n",
            "     Client Follow Up       0.39      0.44      0.41       163\n",
            "             1st Call       0.63      0.51      0.56        91\n",
            "Unscheduled Follow up       0.49      0.72      0.58       146\n",
            "   Prospect Follow up       0.33      0.02      0.04        48\n",
            "            Cold Call       0.56      0.56      0.56        52\n",
            "                Other       0.33      0.03      0.05        78\n",
            "      Onboarding Team       0.38      0.29      0.33        82\n",
            "  Onboarding Managers       0.50      0.03      0.06        31\n",
            "               Set up       0.54      0.75      0.63       118\n",
            "\n",
            "             accuracy                           0.47       947\n",
            "            macro avg       0.46      0.39      0.37       947\n",
            "         weighted avg       0.45      0.47      0.43       947\n",
            "\n"
          ]
        }
      ]
    },
    {
      "cell_type": "code",
      "metadata": {
        "colab": {
          "base_uri": "https://localhost:8080/"
        },
        "id": "XW58hF9oMau6",
        "outputId": "d7e3f037-2f43-4510-a5bf-ff7768d2f5dd"
      },
      "source": [
        "accuracy_score(predictions, target_test)"
      ],
      "execution_count": 136,
      "outputs": [
        {
          "output_type": "execute_result",
          "data": {
            "text/plain": [
              "0.4699049630411827"
            ]
          },
          "metadata": {},
          "execution_count": 136
        }
      ]
    },
    {
      "cell_type": "markdown",
      "metadata": {
        "id": "IveCFsa0VnuD"
      },
      "source": [
        "## Random Forest with categorical Features"
      ]
    },
    {
      "cell_type": "markdown",
      "metadata": {
        "id": "Eg83ZjYnMsCT"
      },
      "source": [
        "It's not much of a difference in accuracy score but the it seems recall got a lift overall "
      ]
    },
    {
      "cell_type": "markdown",
      "metadata": {
        "id": "xfAc8KImNVtP"
      },
      "source": [
        "now that we need to see how the categorical columns will be introduced to simultaneously maintain the integrity of the model, and raise its metrics."
      ]
    },
    {
      "cell_type": "markdown",
      "metadata": {
        "id": "eQ-okX3SNu71"
      },
      "source": [
        "Let's use chi-square test to understand relationship between categorical variables and target variable"
      ]
    },
    {
      "cell_type": "code",
      "metadata": {
        "id": "OtwODLLhN42K"
      },
      "source": [
        "from scipy.stats import chi2_contingency"
      ],
      "execution_count": 137,
      "outputs": []
    },
    {
      "cell_type": "code",
      "metadata": {
        "id": "UoVw-iWwQHPY"
      },
      "source": [
        "data = [{'phoneProvider': chi2_contingency(pd.crosstab(df['tag'], df['phoneProvider']))[1]\n",
        ", 'direction': chi2_contingency(pd.crosstab(df['tag'], df['direction']))[1]\n",
        ", 'mediaType':chi2_contingency(pd.crosstab(df['tag'], df['mediaType']))[1]\n",
        ",'role':chi2_contingency(pd.crosstab(df['tag'], df['role']))[1]\n",
        ",'teams':chi2_contingency(pd.crosstab(df['tag'], df['teams']))[1]\n",
        "}]  "
      ],
      "execution_count": 145,
      "outputs": []
    },
    {
      "cell_type": "code",
      "metadata": {
        "colab": {
          "base_uri": "https://localhost:8080/",
          "height": 81
        },
        "id": "wTcux4lUPvi-",
        "outputId": "33efba3a-f563-4661-8df8-511ea89ab4f5"
      },
      "source": [
        "P_values = pd.DataFrame(data,index=['P-value'])\n",
        "P_values"
      ],
      "execution_count": 147,
      "outputs": [
        {
          "output_type": "execute_result",
          "data": {
            "text/html": [
              "<div>\n",
              "<style scoped>\n",
              "    .dataframe tbody tr th:only-of-type {\n",
              "        vertical-align: middle;\n",
              "    }\n",
              "\n",
              "    .dataframe tbody tr th {\n",
              "        vertical-align: top;\n",
              "    }\n",
              "\n",
              "    .dataframe thead th {\n",
              "        text-align: right;\n",
              "    }\n",
              "</style>\n",
              "<table border=\"1\" class=\"dataframe\">\n",
              "  <thead>\n",
              "    <tr style=\"text-align: right;\">\n",
              "      <th></th>\n",
              "      <th>phoneProvider</th>\n",
              "      <th>direction</th>\n",
              "      <th>mediaType</th>\n",
              "      <th>role</th>\n",
              "      <th>teams</th>\n",
              "    </tr>\n",
              "  </thead>\n",
              "  <tbody>\n",
              "    <tr>\n",
              "      <th>P-value</th>\n",
              "      <td>0.0</td>\n",
              "      <td>1.558878e-71</td>\n",
              "      <td>0.0</td>\n",
              "      <td>1.0</td>\n",
              "      <td>1.969402e-250</td>\n",
              "    </tr>\n",
              "  </tbody>\n",
              "</table>\n",
              "</div>"
            ],
            "text/plain": [
              "         phoneProvider     direction  mediaType  role          teams\n",
              "P-value            0.0  1.558878e-71        0.0   1.0  1.969402e-250"
            ]
          },
          "metadata": {},
          "execution_count": 147
        }
      ]
    },
    {
      "cell_type": "markdown",
      "metadata": {
        "id": "WPs2nTXPPQVy"
      },
      "source": [
        "P values for features direction, teams , phoneProvider and mediaType are very low. So we can reject our Null Hypothesis which is these features are independent and have no relationship with target variable\n"
      ]
    },
    {
      "cell_type": "markdown",
      "metadata": {
        "id": "EgX0rAi7Ptu-"
      },
      "source": [
        "\n",
        "\n",
        "So these features contribute by providing some information.\n"
      ]
    },
    {
      "cell_type": "markdown",
      "metadata": {
        "id": "FDup3MaXR-U2"
      },
      "source": [
        "let's use them in our classification task "
      ]
    },
    {
      "cell_type": "code",
      "metadata": {
        "id": "cdW-KUh7S40F"
      },
      "source": [
        "X = df.drop(['role','hour','dayOfWeek','phoneProvider','mediaType'],axis=1)"
      ],
      "execution_count": 189,
      "outputs": []
    },
    {
      "cell_type": "code",
      "metadata": {
        "colab": {
          "base_uri": "https://localhost:8080/"
        },
        "id": "lxidYeSoS5zS",
        "outputId": "e7f61a76-32b4-4ff6-dfaa-19dbebf0c8a5"
      },
      "source": [
        "numerical_columns = numerical_columns_selector(X)\n",
        "categorical_columns = categorical_columns_selector(X)\n",
        "numerical_columns,categorical_columns"
      ],
      "execution_count": 190,
      "outputs": [
        {
          "output_type": "execute_result",
          "data": {
            "text/plain": [
              "(['duration',\n",
              "  'userTalkRatio',\n",
              "  'longestContactMonologue',\n",
              "  'patience',\n",
              "  'interactionSpeed',\n",
              "  'contacts',\n",
              "  'month'],\n",
              " ['direction', 'teams', 'tag'])"
            ]
          },
          "metadata": {},
          "execution_count": 190
        }
      ]
    },
    {
      "cell_type": "code",
      "metadata": {
        "colab": {
          "base_uri": "https://localhost:8080/",
          "height": 193
        },
        "id": "cTNZXvOwR91x",
        "outputId": "a874944d-22ba-4b2c-d67b-8f2eb3b4a8c1"
      },
      "source": [
        "preprocessor = ColumnTransformer([\n",
        "    ('one-hot-encoder', categorical_preprocessor, categorical_columns),\n",
        "    ('standard-scaler', numerical_preprocessor, numerical_columns)])\n",
        "\n",
        "model_4 = make_pipeline(preprocessor, rfc1)\n",
        "\n",
        "set_config(display='diagram')\n",
        "model_4"
      ],
      "execution_count": 191,
      "outputs": [
        {
          "output_type": "execute_result",
          "data": {
            "text/html": [
              "<style>#sk-cb08f049-df6b-425d-aaf3-fb5efbb4f092 {color: black;background-color: white;}#sk-cb08f049-df6b-425d-aaf3-fb5efbb4f092 pre{padding: 0;}#sk-cb08f049-df6b-425d-aaf3-fb5efbb4f092 div.sk-toggleable {background-color: white;}#sk-cb08f049-df6b-425d-aaf3-fb5efbb4f092 label.sk-toggleable__label {cursor: pointer;display: block;width: 100%;margin-bottom: 0;padding: 0.3em;box-sizing: border-box;text-align: center;}#sk-cb08f049-df6b-425d-aaf3-fb5efbb4f092 div.sk-toggleable__content {max-height: 0;max-width: 0;overflow: hidden;text-align: left;background-color: #f0f8ff;}#sk-cb08f049-df6b-425d-aaf3-fb5efbb4f092 div.sk-toggleable__content pre {margin: 0.2em;color: black;border-radius: 0.25em;background-color: #f0f8ff;}#sk-cb08f049-df6b-425d-aaf3-fb5efbb4f092 input.sk-toggleable__control:checked~div.sk-toggleable__content {max-height: 200px;max-width: 100%;overflow: auto;}#sk-cb08f049-df6b-425d-aaf3-fb5efbb4f092 div.sk-estimator input.sk-toggleable__control:checked~label.sk-toggleable__label {background-color: #d4ebff;}#sk-cb08f049-df6b-425d-aaf3-fb5efbb4f092 div.sk-label input.sk-toggleable__control:checked~label.sk-toggleable__label {background-color: #d4ebff;}#sk-cb08f049-df6b-425d-aaf3-fb5efbb4f092 input.sk-hidden--visually {border: 0;clip: rect(1px 1px 1px 1px);clip: rect(1px, 1px, 1px, 1px);height: 1px;margin: -1px;overflow: hidden;padding: 0;position: absolute;width: 1px;}#sk-cb08f049-df6b-425d-aaf3-fb5efbb4f092 div.sk-estimator {font-family: monospace;background-color: #f0f8ff;border: 1px dotted black;border-radius: 0.25em;box-sizing: border-box;margin-bottom: 0.5em;}#sk-cb08f049-df6b-425d-aaf3-fb5efbb4f092 div.sk-estimator:hover {background-color: #d4ebff;}#sk-cb08f049-df6b-425d-aaf3-fb5efbb4f092 div.sk-parallel-item::after {content: \"\";width: 100%;border-bottom: 1px solid gray;flex-grow: 1;}#sk-cb08f049-df6b-425d-aaf3-fb5efbb4f092 div.sk-label:hover label.sk-toggleable__label {background-color: #d4ebff;}#sk-cb08f049-df6b-425d-aaf3-fb5efbb4f092 div.sk-serial::before {content: \"\";position: absolute;border-left: 1px solid gray;box-sizing: border-box;top: 2em;bottom: 0;left: 50%;}#sk-cb08f049-df6b-425d-aaf3-fb5efbb4f092 div.sk-serial {display: flex;flex-direction: column;align-items: center;background-color: white;padding-right: 0.2em;padding-left: 0.2em;}#sk-cb08f049-df6b-425d-aaf3-fb5efbb4f092 div.sk-item {z-index: 1;}#sk-cb08f049-df6b-425d-aaf3-fb5efbb4f092 div.sk-parallel {display: flex;align-items: stretch;justify-content: center;background-color: white;}#sk-cb08f049-df6b-425d-aaf3-fb5efbb4f092 div.sk-parallel::before {content: \"\";position: absolute;border-left: 1px solid gray;box-sizing: border-box;top: 2em;bottom: 0;left: 50%;}#sk-cb08f049-df6b-425d-aaf3-fb5efbb4f092 div.sk-parallel-item {display: flex;flex-direction: column;position: relative;background-color: white;}#sk-cb08f049-df6b-425d-aaf3-fb5efbb4f092 div.sk-parallel-item:first-child::after {align-self: flex-end;width: 50%;}#sk-cb08f049-df6b-425d-aaf3-fb5efbb4f092 div.sk-parallel-item:last-child::after {align-self: flex-start;width: 50%;}#sk-cb08f049-df6b-425d-aaf3-fb5efbb4f092 div.sk-parallel-item:only-child::after {width: 0;}#sk-cb08f049-df6b-425d-aaf3-fb5efbb4f092 div.sk-dashed-wrapped {border: 1px dashed gray;margin: 0 0.4em 0.5em 0.4em;box-sizing: border-box;padding-bottom: 0.4em;background-color: white;position: relative;}#sk-cb08f049-df6b-425d-aaf3-fb5efbb4f092 div.sk-label label {font-family: monospace;font-weight: bold;background-color: white;display: inline-block;line-height: 1.2em;}#sk-cb08f049-df6b-425d-aaf3-fb5efbb4f092 div.sk-label-container {position: relative;z-index: 2;text-align: center;}#sk-cb08f049-df6b-425d-aaf3-fb5efbb4f092 div.sk-container {display: inline-block;position: relative;}</style><div id=\"sk-cb08f049-df6b-425d-aaf3-fb5efbb4f092\" class\"sk-top-container\"><div class=\"sk-container\"><div class=\"sk-item sk-dashed-wrapped\"><div class=\"sk-label-container\"><div class=\"sk-label sk-toggleable\"><input class=\"sk-toggleable__control sk-hidden--visually\" id=\"67b327de-74af-4e4f-9bab-8876dad994c3\" type=\"checkbox\" ><label class=\"sk-toggleable__label\" for=\"67b327de-74af-4e4f-9bab-8876dad994c3\">Pipeline</label><div class=\"sk-toggleable__content\"><pre>Pipeline(steps=[('columntransformer',\n",
              "                 ColumnTransformer(transformers=[('one-hot-encoder',\n",
              "                                                  OneHotEncoder(handle_unknown='ignore'),\n",
              "                                                  ['direction', 'teams',\n",
              "                                                   'tag']),\n",
              "                                                 ('standard-scaler',\n",
              "                                                  StandardScaler(),\n",
              "                                                  ['duration', 'userTalkRatio',\n",
              "                                                   'longestContactMonologue',\n",
              "                                                   'patience',\n",
              "                                                   'interactionSpeed',\n",
              "                                                   'contacts', 'month'])])),\n",
              "                ('randomforestclassifier',\n",
              "                 RandomForestClassifier(criterion='entropy', max_depth=8,\n",
              "                                        n_estimators=200, random_state=42))])</pre></div></div></div><div class=\"sk-serial\"><div class=\"sk-item sk-dashed-wrapped\"><div class=\"sk-label-container\"><div class=\"sk-label sk-toggleable\"><input class=\"sk-toggleable__control sk-hidden--visually\" id=\"3c634086-d4d1-454b-96bd-cf552b451e43\" type=\"checkbox\" ><label class=\"sk-toggleable__label\" for=\"3c634086-d4d1-454b-96bd-cf552b451e43\">columntransformer: ColumnTransformer</label><div class=\"sk-toggleable__content\"><pre>ColumnTransformer(transformers=[('one-hot-encoder',\n",
              "                                 OneHotEncoder(handle_unknown='ignore'),\n",
              "                                 ['direction', 'teams', 'tag']),\n",
              "                                ('standard-scaler', StandardScaler(),\n",
              "                                 ['duration', 'userTalkRatio',\n",
              "                                  'longestContactMonologue', 'patience',\n",
              "                                  'interactionSpeed', 'contacts', 'month'])])</pre></div></div></div><div class=\"sk-parallel\"><div class=\"sk-parallel-item\"><div class=\"sk-item\"><div class=\"sk-label-container\"><div class=\"sk-label sk-toggleable\"><input class=\"sk-toggleable__control sk-hidden--visually\" id=\"88fec21b-bf76-41d4-81cd-da067e44caee\" type=\"checkbox\" ><label class=\"sk-toggleable__label\" for=\"88fec21b-bf76-41d4-81cd-da067e44caee\">one-hot-encoder</label><div class=\"sk-toggleable__content\"><pre>['direction', 'teams', 'tag']</pre></div></div></div><div class=\"sk-serial\"><div class=\"sk-item\"><div class=\"sk-estimator sk-toggleable\"><input class=\"sk-toggleable__control sk-hidden--visually\" id=\"1e1686bb-2fa6-4016-b5ec-5d1f7aa73254\" type=\"checkbox\" ><label class=\"sk-toggleable__label\" for=\"1e1686bb-2fa6-4016-b5ec-5d1f7aa73254\">OneHotEncoder</label><div class=\"sk-toggleable__content\"><pre>OneHotEncoder(handle_unknown='ignore')</pre></div></div></div></div></div></div><div class=\"sk-parallel-item\"><div class=\"sk-item\"><div class=\"sk-label-container\"><div class=\"sk-label sk-toggleable\"><input class=\"sk-toggleable__control sk-hidden--visually\" id=\"ea21d39e-8a0e-4e50-a3c0-f9d4ed2f2f29\" type=\"checkbox\" ><label class=\"sk-toggleable__label\" for=\"ea21d39e-8a0e-4e50-a3c0-f9d4ed2f2f29\">standard-scaler</label><div class=\"sk-toggleable__content\"><pre>['duration', 'userTalkRatio', 'longestContactMonologue', 'patience', 'interactionSpeed', 'contacts', 'month']</pre></div></div></div><div class=\"sk-serial\"><div class=\"sk-item\"><div class=\"sk-estimator sk-toggleable\"><input class=\"sk-toggleable__control sk-hidden--visually\" id=\"a13b3a42-8a3a-40db-b18c-97c5ddc544e4\" type=\"checkbox\" ><label class=\"sk-toggleable__label\" for=\"a13b3a42-8a3a-40db-b18c-97c5ddc544e4\">StandardScaler</label><div class=\"sk-toggleable__content\"><pre>StandardScaler()</pre></div></div></div></div></div></div></div></div><div class=\"sk-item\"><div class=\"sk-estimator sk-toggleable\"><input class=\"sk-toggleable__control sk-hidden--visually\" id=\"7c995cb7-c87b-49ba-9be8-f4699267b328\" type=\"checkbox\" ><label class=\"sk-toggleable__label\" for=\"7c995cb7-c87b-49ba-9be8-f4699267b328\">RandomForestClassifier</label><div class=\"sk-toggleable__content\"><pre>RandomForestClassifier(criterion='entropy', max_depth=8, n_estimators=200,\n",
              "                       random_state=42)</pre></div></div></div></div></div></div></div>"
            ],
            "text/plain": [
              "Pipeline(steps=[('columntransformer',\n",
              "                 ColumnTransformer(transformers=[('one-hot-encoder',\n",
              "                                                  OneHotEncoder(handle_unknown='ignore'),\n",
              "                                                  ['direction', 'teams',\n",
              "                                                   'tag']),\n",
              "                                                 ('standard-scaler',\n",
              "                                                  StandardScaler(),\n",
              "                                                  ['duration', 'userTalkRatio',\n",
              "                                                   'longestContactMonologue',\n",
              "                                                   'patience',\n",
              "                                                   'interactionSpeed',\n",
              "                                                   'contacts', 'month'])])),\n",
              "                ('randomforestclassifier',\n",
              "                 RandomForestClassifier(criterion='entropy', max_depth=8,\n",
              "                                        n_estimators=200, random_state=42))])"
            ]
          },
          "metadata": {},
          "execution_count": 191
        }
      ]
    },
    {
      "cell_type": "code",
      "metadata": {
        "id": "jDRAJqeCShCt"
      },
      "source": [
        "# splitting the data with 25% of the rows as the test data.\n",
        "data_train, data_test, target_train, target_test = train_test_split(\n",
        "    X, y,test_size=0.25, random_state=42)"
      ],
      "execution_count": 192,
      "outputs": []
    },
    {
      "cell_type": "code",
      "metadata": {
        "id": "J4jcN4i9TwAj"
      },
      "source": [
        "_ = model_4.fit(data_train, target_train)\n",
        "predictions = model_4.predict(data_test)"
      ],
      "execution_count": 193,
      "outputs": []
    },
    {
      "cell_type": "code",
      "metadata": {
        "colab": {
          "base_uri": "https://localhost:8080/"
        },
        "id": "BxnBAUZBT38J",
        "outputId": "5b73b699-718b-41ed-eda3-825171067435"
      },
      "source": [
        "print(classification_report(target_test,predictions,target_names=target_train.value_counts().index))"
      ],
      "execution_count": 195,
      "outputs": [
        {
          "output_type": "stream",
          "name": "stdout",
          "text": [
            "                       precision    recall  f1-score   support\n",
            "\n",
            "                 Demo       1.00      1.00      1.00       138\n",
            "     Client Follow Up       1.00      1.00      1.00       163\n",
            "             1st Call       1.00      1.00      1.00        91\n",
            "Unscheduled Follow up       1.00      1.00      1.00       146\n",
            "   Prospect Follow up       1.00      1.00      1.00        48\n",
            "            Cold Call       1.00      1.00      1.00        52\n",
            "                Other       1.00      1.00      1.00        78\n",
            "      Onboarding Team       1.00      1.00      1.00        82\n",
            "  Onboarding Managers       1.00      1.00      1.00        31\n",
            "               Set up       1.00      1.00      1.00       118\n",
            "\n",
            "             accuracy                           1.00       947\n",
            "            macro avg       1.00      1.00      1.00       947\n",
            "         weighted avg       1.00      1.00      1.00       947\n",
            "\n"
          ]
        }
      ]
    },
    {
      "cell_type": "markdown",
      "metadata": {
        "id": "jBFISRcRWOQd"
      },
      "source": [
        "Our model is still too compex, im suspicious of my one hot encoding making the model overfit my data"
      ]
    },
    {
      "cell_type": "markdown",
      "metadata": {
        "id": "5pk0UkDxIPCl"
      },
      "source": [
        "# Conclusions"
      ]
    },
    {
      "cell_type": "markdown",
      "metadata": {
        "id": "w4i_WKhNkKly"
      },
      "source": [
        "The random forest with no categorical feautres model although has the lowest score (46%) remains the most rigorous one, an accuracy of 100% is very uncommon and I would normally discuss it in length with my colleagues after researching for its reasons. In this case I would continue to find ways to include my categorical features in the model training yet keeping its integrity and unbiased behavior. "
      ]
    }
  ]
}
