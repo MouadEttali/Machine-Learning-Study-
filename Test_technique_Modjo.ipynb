{
  "nbformat": 4,
  "nbformat_minor": 0,
  "metadata": {
    "colab": {
      "name": "Test_technique_Modjo.ipynb",
      "provenance": [],
      "collapsed_sections": [],
      "toc_visible": true,
      "mount_file_id": "1-IuH5HssqJw-tvsptlLR0jYngCwSG1Uo",
      "authorship_tag": "ABX9TyPGJCqHTMAR9b3aYOrGG/f0",
      "include_colab_link": true
    },
    "kernelspec": {
      "name": "python3",
      "display_name": "Python 3"
    },
    "language_info": {
      "name": "python"
    }
  },
  "cells": [
    {
      "cell_type": "markdown",
      "metadata": {
        "id": "view-in-github",
        "colab_type": "text"
      },
      "source": [
        "<a href=\"https://colab.research.google.com/github/MouadEttali/Machine-Learning-Study-/blob/main/Test_technique_Modjo.ipynb\" target=\"_parent\"><img src=\"https://colab.research.google.com/assets/colab-badge.svg\" alt=\"Open In Colab\"/></a>"
      ]
    },
    {
      "cell_type": "markdown",
      "metadata": {
        "id": "zeDP6uoQ20v4"
      },
      "source": [
        "# Data Science Challenge\n",
        "**The purpose of this notebook is to document step by step the process of a rigorous machine learning application and classify a number of calls into their respective Tags(classes)** \n",
        "\n",
        "\n",
        "we'll start by implementing the next steps in order to get our desired outcome:\n",
        "\n",
        "\n",
        "1.   Exploratory Data Analysis and Feature Engineering.\n",
        "3.   Choosing Candidate Models.\n",
        "4.   Training the models and evaluating them.\n",
        "5.   Comparing the models.\n",
        "\n"
      ]
    },
    {
      "cell_type": "code",
      "metadata": {
        "id": "KJjOCQabzuBE"
      },
      "source": [
        "#Importing the Libraries\n",
        "import pandas as pd\n",
        "import numpy as np\n",
        "from scipy.stats import randint\n",
        "import seaborn as sns # used for plot interactive graph. \n",
        "import matplotlib.pyplot as plt\n",
        "import seaborn as sns\n",
        "from io import StringIO\n",
        "from sklearn.preprocessing import OrdinalEncoder\n",
        "from sklearn.datasets import make_classification\n",
        "from sklearn.feature_extraction.text import TfidfVectorizer\n",
        "from sklearn.feature_selection import chi2\n",
        "from sklearn.feature_selection import SelectKBest , mutual_info_classif\n",
        "from IPython.display import display\n",
        "from sklearn.model_selection import train_test_split\n",
        "from sklearn.feature_extraction.text import TfidfTransformer\n",
        "from sklearn.naive_bayes import MultinomialNB\n",
        "from sklearn.linear_model import LogisticRegression\n",
        "from sklearn.ensemble import RandomForestClassifier\n",
        "from sklearn.svm import LinearSVC\n",
        "from sklearn.model_selection import cross_val_score\n",
        "from sklearn.metrics import confusion_matrix\n",
        "from sklearn import metrics\n",
        "from functools import partial\n",
        "from sklearn.feature_selection import f_classif\n",
        "\n"
      ],
      "execution_count": null,
      "outputs": []
    },
    {
      "cell_type": "markdown",
      "metadata": {
        "id": "bUjyYYOWpb3D"
      },
      "source": [
        "\n",
        "\n",
        "# 1.  Exploratory Data Analysis and Feature Engineering.\n",
        "\n",
        "\n"
      ]
    },
    {
      "cell_type": "code",
      "metadata": {
        "colab": {
          "base_uri": "https://localhost:8080/"
        },
        "id": "ETQUOWF00A40",
        "outputId": "37985693-7b35-41bc-d868-0209dd548e5d"
      },
      "source": [
        "#Loading the data\n",
        "df = pd.read_csv('/content/drive/MyDrive/DS-challenge-dataset.csv')\n",
        "df.shape"
      ],
      "execution_count": null,
      "outputs": [
        {
          "output_type": "execute_result",
          "data": {
            "text/plain": [
              "(3786, 17)"
            ]
          },
          "metadata": {},
          "execution_count": 2
        }
      ]
    },
    {
      "cell_type": "code",
      "metadata": {
        "colab": {
          "base_uri": "https://localhost:8080/",
          "height": 583
        },
        "id": "La8b4meQ0jVh",
        "outputId": "e2b1021b-0b46-4611-d702-0886a4c9cf85"
      },
      "source": [
        "df.head(5).T # My Personal way of exploring the data by showing Columns in rows for easier reading and intial comprehension\n"
      ],
      "execution_count": null,
      "outputs": [
        {
          "output_type": "execute_result",
          "data": {
            "text/html": [
              "<div>\n",
              "<style scoped>\n",
              "    .dataframe tbody tr th:only-of-type {\n",
              "        vertical-align: middle;\n",
              "    }\n",
              "\n",
              "    .dataframe tbody tr th {\n",
              "        vertical-align: top;\n",
              "    }\n",
              "\n",
              "    .dataframe thead th {\n",
              "        text-align: right;\n",
              "    }\n",
              "</style>\n",
              "<table border=\"1\" class=\"dataframe\">\n",
              "  <thead>\n",
              "    <tr style=\"text-align: right;\">\n",
              "      <th></th>\n",
              "      <th>0</th>\n",
              "      <th>1</th>\n",
              "      <th>2</th>\n",
              "      <th>3</th>\n",
              "      <th>4</th>\n",
              "    </tr>\n",
              "  </thead>\n",
              "  <tbody>\n",
              "    <tr>\n",
              "      <th>id</th>\n",
              "      <td>5288</td>\n",
              "      <td>5285</td>\n",
              "      <td>5282</td>\n",
              "      <td>5277</td>\n",
              "      <td>5279</td>\n",
              "    </tr>\n",
              "    <tr>\n",
              "      <th>duration</th>\n",
              "      <td>657.344</td>\n",
              "      <td>205.479</td>\n",
              "      <td>1607.1</td>\n",
              "      <td>249.913</td>\n",
              "      <td>1948.75</td>\n",
              "    </tr>\n",
              "    <tr>\n",
              "      <th>date</th>\n",
              "      <td>2021-10-11 12:02:24</td>\n",
              "      <td>2021-10-08 18:04:23</td>\n",
              "      <td>2021-10-08 11:03:51</td>\n",
              "      <td>2021-10-07 18:10:25</td>\n",
              "      <td>2021-10-07 18:00:00</td>\n",
              "    </tr>\n",
              "    <tr>\n",
              "      <th>userId</th>\n",
              "      <td>14</td>\n",
              "      <td>63</td>\n",
              "      <td>18</td>\n",
              "      <td>23</td>\n",
              "      <td>8</td>\n",
              "    </tr>\n",
              "    <tr>\n",
              "      <th>modifiedById</th>\n",
              "      <td>NaN</td>\n",
              "      <td>NaN</td>\n",
              "      <td>NaN</td>\n",
              "      <td>NaN</td>\n",
              "      <td>NaN</td>\n",
              "    </tr>\n",
              "    <tr>\n",
              "      <th>phoneProvider</th>\n",
              "      <td>zoom</td>\n",
              "      <td>aircall</td>\n",
              "      <td>zoom</td>\n",
              "      <td>aircall</td>\n",
              "      <td>google</td>\n",
              "    </tr>\n",
              "    <tr>\n",
              "      <th>direction</th>\n",
              "      <td>outbound</td>\n",
              "      <td>outbound</td>\n",
              "      <td>outbound</td>\n",
              "      <td>outbound</td>\n",
              "      <td>outbound</td>\n",
              "    </tr>\n",
              "    <tr>\n",
              "      <th>mediaType</th>\n",
              "      <td>video</td>\n",
              "      <td>audio</td>\n",
              "      <td>video</td>\n",
              "      <td>audio</td>\n",
              "      <td>video</td>\n",
              "    </tr>\n",
              "    <tr>\n",
              "      <th>dealId</th>\n",
              "      <td>543</td>\n",
              "      <td>NaN</td>\n",
              "      <td>488</td>\n",
              "      <td>NaN</td>\n",
              "      <td>NaN</td>\n",
              "    </tr>\n",
              "    <tr>\n",
              "      <th>userTalkRatio</th>\n",
              "      <td>0.292525</td>\n",
              "      <td>0.452397</td>\n",
              "      <td>0.483552</td>\n",
              "      <td>0.452936</td>\n",
              "      <td>0.315928</td>\n",
              "    </tr>\n",
              "    <tr>\n",
              "      <th>longestContactMonologue</th>\n",
              "      <td>80.3005</td>\n",
              "      <td>23.7086</td>\n",
              "      <td>57.8361</td>\n",
              "      <td>43.1858</td>\n",
              "      <td>267.82</td>\n",
              "    </tr>\n",
              "    <tr>\n",
              "      <th>patience</th>\n",
              "      <td>0.771135</td>\n",
              "      <td>0.405282</td>\n",
              "      <td>0.278629</td>\n",
              "      <td>1.77115</td>\n",
              "      <td>0.467794</td>\n",
              "    </tr>\n",
              "    <tr>\n",
              "      <th>interactionSpeed</th>\n",
              "      <td>3.01212</td>\n",
              "      <td>8.17601</td>\n",
              "      <td>4.59211</td>\n",
              "      <td>5.52191</td>\n",
              "      <td>2.03207</td>\n",
              "    </tr>\n",
              "    <tr>\n",
              "      <th>role</th>\n",
              "      <td>admin</td>\n",
              "      <td>admin</td>\n",
              "      <td>admin</td>\n",
              "      <td>admin</td>\n",
              "      <td>admin</td>\n",
              "    </tr>\n",
              "    <tr>\n",
              "      <th>teams</th>\n",
              "      <td>{Sales}</td>\n",
              "      <td>{Sales}</td>\n",
              "      <td>{Account Manager}</td>\n",
              "      <td>{Sales}</td>\n",
              "      <td>{Sales}</td>\n",
              "    </tr>\n",
              "    <tr>\n",
              "      <th>contacts</th>\n",
              "      <td>1</td>\n",
              "      <td>1</td>\n",
              "      <td>1</td>\n",
              "      <td>1</td>\n",
              "      <td>2</td>\n",
              "    </tr>\n",
              "    <tr>\n",
              "      <th>tag</th>\n",
              "      <td>Client Follow Up</td>\n",
              "      <td>Cold Call</td>\n",
              "      <td>Client Follow Up</td>\n",
              "      <td>Unscheduled Follow up</td>\n",
              "      <td>1st Call</td>\n",
              "    </tr>\n",
              "  </tbody>\n",
              "</table>\n",
              "</div>"
            ],
            "text/plain": [
              "                                           0  ...                    4\n",
              "id                                      5288  ...                 5279\n",
              "duration                             657.344  ...              1948.75\n",
              "date                     2021-10-11 12:02:24  ...  2021-10-07 18:00:00\n",
              "userId                                    14  ...                    8\n",
              "modifiedById                             NaN  ...                  NaN\n",
              "phoneProvider                           zoom  ...               google\n",
              "direction                           outbound  ...             outbound\n",
              "mediaType                              video  ...                video\n",
              "dealId                                   543  ...                  NaN\n",
              "userTalkRatio                       0.292525  ...             0.315928\n",
              "longestContactMonologue              80.3005  ...               267.82\n",
              "patience                            0.771135  ...             0.467794\n",
              "interactionSpeed                     3.01212  ...              2.03207\n",
              "role                                   admin  ...                admin\n",
              "teams                                {Sales}  ...              {Sales}\n",
              "contacts                                   1  ...                    2\n",
              "tag                         Client Follow Up  ...             1st Call\n",
              "\n",
              "[17 rows x 5 columns]"
            ]
          },
          "metadata": {},
          "execution_count": 3
        }
      ]
    },
    {
      "cell_type": "code",
      "metadata": {
        "colab": {
          "base_uri": "https://localhost:8080/"
        },
        "id": "LxFuxzxOoVmO",
        "outputId": "a6336d73-7130-4923-8151-3351d7d312e8"
      },
      "source": [
        "df.dtypes"
      ],
      "execution_count": null,
      "outputs": [
        {
          "output_type": "execute_result",
          "data": {
            "text/plain": [
              "id                           int64\n",
              "duration                   float64\n",
              "date                        object\n",
              "userId                       int64\n",
              "modifiedById               float64\n",
              "phoneProvider               object\n",
              "direction                   object\n",
              "mediaType                   object\n",
              "dealId                     float64\n",
              "userTalkRatio              float64\n",
              "longestContactMonologue    float64\n",
              "patience                   float64\n",
              "interactionSpeed           float64\n",
              "role                        object\n",
              "teams                       object\n",
              "contacts                   float64\n",
              "tag                         object\n",
              "dtype: object"
            ]
          },
          "metadata": {},
          "execution_count": 4
        }
      ]
    },
    {
      "cell_type": "markdown",
      "metadata": {
        "id": "VAxUDvUjoLRO"
      },
      "source": [
        "**I noticed here that some columns are of type object ( i.e strings ) which means we'll have to either encode them or extract valuable information from them in order to pass through our predictive pipeline.**"
      ]
    },
    {
      "cell_type": "code",
      "metadata": {
        "colab": {
          "base_uri": "https://localhost:8080/",
          "height": 617
        },
        "id": "mRl37yIqsUCO",
        "outputId": "25dd0b57-d820-41cd-d30a-2433b79c5ec6"
      },
      "source": [
        "#before anything let's get rid of the huge decimals by rounding up to 2 numbers after the decimal\n",
        "df = df.round(2)# this is just musch cleaner and easier to visualize.\n",
        "df "
      ],
      "execution_count": null,
      "outputs": [
        {
          "output_type": "execute_result",
          "data": {
            "text/html": [
              "<div>\n",
              "<style scoped>\n",
              "    .dataframe tbody tr th:only-of-type {\n",
              "        vertical-align: middle;\n",
              "    }\n",
              "\n",
              "    .dataframe tbody tr th {\n",
              "        vertical-align: top;\n",
              "    }\n",
              "\n",
              "    .dataframe thead th {\n",
              "        text-align: right;\n",
              "    }\n",
              "</style>\n",
              "<table border=\"1\" class=\"dataframe\">\n",
              "  <thead>\n",
              "    <tr style=\"text-align: right;\">\n",
              "      <th></th>\n",
              "      <th>id</th>\n",
              "      <th>duration</th>\n",
              "      <th>date</th>\n",
              "      <th>userId</th>\n",
              "      <th>modifiedById</th>\n",
              "      <th>phoneProvider</th>\n",
              "      <th>direction</th>\n",
              "      <th>mediaType</th>\n",
              "      <th>dealId</th>\n",
              "      <th>userTalkRatio</th>\n",
              "      <th>longestContactMonologue</th>\n",
              "      <th>patience</th>\n",
              "      <th>interactionSpeed</th>\n",
              "      <th>role</th>\n",
              "      <th>teams</th>\n",
              "      <th>contacts</th>\n",
              "      <th>tag</th>\n",
              "    </tr>\n",
              "  </thead>\n",
              "  <tbody>\n",
              "    <tr>\n",
              "      <th>0</th>\n",
              "      <td>5288</td>\n",
              "      <td>657.34</td>\n",
              "      <td>2021-10-11 12:02:24</td>\n",
              "      <td>14</td>\n",
              "      <td>NaN</td>\n",
              "      <td>zoom</td>\n",
              "      <td>outbound</td>\n",
              "      <td>video</td>\n",
              "      <td>543.0</td>\n",
              "      <td>0.29</td>\n",
              "      <td>80.30</td>\n",
              "      <td>0.77</td>\n",
              "      <td>3.01</td>\n",
              "      <td>admin</td>\n",
              "      <td>{Sales}</td>\n",
              "      <td>1.0</td>\n",
              "      <td>Client Follow Up</td>\n",
              "    </tr>\n",
              "    <tr>\n",
              "      <th>1</th>\n",
              "      <td>5285</td>\n",
              "      <td>205.48</td>\n",
              "      <td>2021-10-08 18:04:23</td>\n",
              "      <td>63</td>\n",
              "      <td>NaN</td>\n",
              "      <td>aircall</td>\n",
              "      <td>outbound</td>\n",
              "      <td>audio</td>\n",
              "      <td>NaN</td>\n",
              "      <td>0.45</td>\n",
              "      <td>23.71</td>\n",
              "      <td>0.41</td>\n",
              "      <td>8.18</td>\n",
              "      <td>admin</td>\n",
              "      <td>{Sales}</td>\n",
              "      <td>1.0</td>\n",
              "      <td>Cold Call</td>\n",
              "    </tr>\n",
              "    <tr>\n",
              "      <th>2</th>\n",
              "      <td>5282</td>\n",
              "      <td>1607.10</td>\n",
              "      <td>2021-10-08 11:03:51</td>\n",
              "      <td>18</td>\n",
              "      <td>NaN</td>\n",
              "      <td>zoom</td>\n",
              "      <td>outbound</td>\n",
              "      <td>video</td>\n",
              "      <td>488.0</td>\n",
              "      <td>0.48</td>\n",
              "      <td>57.84</td>\n",
              "      <td>0.28</td>\n",
              "      <td>4.59</td>\n",
              "      <td>admin</td>\n",
              "      <td>{Account Manager}</td>\n",
              "      <td>1.0</td>\n",
              "      <td>Client Follow Up</td>\n",
              "    </tr>\n",
              "    <tr>\n",
              "      <th>3</th>\n",
              "      <td>5277</td>\n",
              "      <td>249.91</td>\n",
              "      <td>2021-10-07 18:10:25</td>\n",
              "      <td>23</td>\n",
              "      <td>NaN</td>\n",
              "      <td>aircall</td>\n",
              "      <td>outbound</td>\n",
              "      <td>audio</td>\n",
              "      <td>NaN</td>\n",
              "      <td>0.45</td>\n",
              "      <td>43.19</td>\n",
              "      <td>1.77</td>\n",
              "      <td>5.52</td>\n",
              "      <td>admin</td>\n",
              "      <td>{Sales}</td>\n",
              "      <td>1.0</td>\n",
              "      <td>Unscheduled Follow up</td>\n",
              "    </tr>\n",
              "    <tr>\n",
              "      <th>4</th>\n",
              "      <td>5279</td>\n",
              "      <td>1948.75</td>\n",
              "      <td>2021-10-07 18:00:00</td>\n",
              "      <td>8</td>\n",
              "      <td>NaN</td>\n",
              "      <td>google</td>\n",
              "      <td>outbound</td>\n",
              "      <td>video</td>\n",
              "      <td>NaN</td>\n",
              "      <td>0.32</td>\n",
              "      <td>267.82</td>\n",
              "      <td>0.47</td>\n",
              "      <td>2.03</td>\n",
              "      <td>admin</td>\n",
              "      <td>{Sales}</td>\n",
              "      <td>2.0</td>\n",
              "      <td>1st Call</td>\n",
              "    </tr>\n",
              "    <tr>\n",
              "      <th>...</th>\n",
              "      <td>...</td>\n",
              "      <td>...</td>\n",
              "      <td>...</td>\n",
              "      <td>...</td>\n",
              "      <td>...</td>\n",
              "      <td>...</td>\n",
              "      <td>...</td>\n",
              "      <td>...</td>\n",
              "      <td>...</td>\n",
              "      <td>...</td>\n",
              "      <td>...</td>\n",
              "      <td>...</td>\n",
              "      <td>...</td>\n",
              "      <td>...</td>\n",
              "      <td>...</td>\n",
              "      <td>...</td>\n",
              "      <td>...</td>\n",
              "    </tr>\n",
              "    <tr>\n",
              "      <th>3781</th>\n",
              "      <td>6</td>\n",
              "      <td>4448.00</td>\n",
              "      <td>2020-05-18 12:01:18</td>\n",
              "      <td>1</td>\n",
              "      <td>NaN</td>\n",
              "      <td>zoom</td>\n",
              "      <td>outbound</td>\n",
              "      <td>audio</td>\n",
              "      <td>NaN</td>\n",
              "      <td>0.26</td>\n",
              "      <td>198.98</td>\n",
              "      <td>1.65</td>\n",
              "      <td>2.01</td>\n",
              "      <td>admin</td>\n",
              "      <td>{Sales}</td>\n",
              "      <td>1.0</td>\n",
              "      <td>Demo</td>\n",
              "    </tr>\n",
              "    <tr>\n",
              "      <th>3782</th>\n",
              "      <td>5</td>\n",
              "      <td>3756.00</td>\n",
              "      <td>2020-05-14 14:00:35</td>\n",
              "      <td>3</td>\n",
              "      <td>NaN</td>\n",
              "      <td>zoom</td>\n",
              "      <td>outbound</td>\n",
              "      <td>audio</td>\n",
              "      <td>NaN</td>\n",
              "      <td>0.45</td>\n",
              "      <td>257.12</td>\n",
              "      <td>0.83</td>\n",
              "      <td>1.71</td>\n",
              "      <td>admin</td>\n",
              "      <td>{Account Manager,Product}</td>\n",
              "      <td>3.0</td>\n",
              "      <td>Other</td>\n",
              "    </tr>\n",
              "    <tr>\n",
              "      <th>3783</th>\n",
              "      <td>4</td>\n",
              "      <td>2139.00</td>\n",
              "      <td>2020-05-14 10:04:10</td>\n",
              "      <td>1</td>\n",
              "      <td>NaN</td>\n",
              "      <td>zoom</td>\n",
              "      <td>outbound</td>\n",
              "      <td>audio</td>\n",
              "      <td>NaN</td>\n",
              "      <td>0.30</td>\n",
              "      <td>153.16</td>\n",
              "      <td>1.30</td>\n",
              "      <td>2.44</td>\n",
              "      <td>admin</td>\n",
              "      <td>{Sales}</td>\n",
              "      <td>1.0</td>\n",
              "      <td>1st Call</td>\n",
              "    </tr>\n",
              "    <tr>\n",
              "      <th>3784</th>\n",
              "      <td>2</td>\n",
              "      <td>2151.00</td>\n",
              "      <td>2020-05-12 15:04:06</td>\n",
              "      <td>1</td>\n",
              "      <td>NaN</td>\n",
              "      <td>zoom</td>\n",
              "      <td>outbound</td>\n",
              "      <td>audio</td>\n",
              "      <td>NaN</td>\n",
              "      <td>0.42</td>\n",
              "      <td>120.53</td>\n",
              "      <td>0.73</td>\n",
              "      <td>2.57</td>\n",
              "      <td>admin</td>\n",
              "      <td>{Sales}</td>\n",
              "      <td>2.0</td>\n",
              "      <td>1st Call</td>\n",
              "    </tr>\n",
              "    <tr>\n",
              "      <th>3785</th>\n",
              "      <td>1</td>\n",
              "      <td>1772.00</td>\n",
              "      <td>2020-05-11 16:55:00</td>\n",
              "      <td>1</td>\n",
              "      <td>NaN</td>\n",
              "      <td>zoom</td>\n",
              "      <td>outbound</td>\n",
              "      <td>audio</td>\n",
              "      <td>NaN</td>\n",
              "      <td>0.54</td>\n",
              "      <td>72.70</td>\n",
              "      <td>0.00</td>\n",
              "      <td>0.14</td>\n",
              "      <td>admin</td>\n",
              "      <td>{Sales}</td>\n",
              "      <td>1.0</td>\n",
              "      <td>Demo</td>\n",
              "    </tr>\n",
              "  </tbody>\n",
              "</table>\n",
              "<p>3786 rows × 17 columns</p>\n",
              "</div>"
            ],
            "text/plain": [
              "        id  duration  ... contacts                    tag\n",
              "0     5288    657.34  ...      1.0       Client Follow Up\n",
              "1     5285    205.48  ...      1.0              Cold Call\n",
              "2     5282   1607.10  ...      1.0       Client Follow Up\n",
              "3     5277    249.91  ...      1.0  Unscheduled Follow up\n",
              "4     5279   1948.75  ...      2.0               1st Call\n",
              "...    ...       ...  ...      ...                    ...\n",
              "3781     6   4448.00  ...      1.0                   Demo\n",
              "3782     5   3756.00  ...      3.0                  Other\n",
              "3783     4   2139.00  ...      1.0               1st Call\n",
              "3784     2   2151.00  ...      2.0               1st Call\n",
              "3785     1   1772.00  ...      1.0                   Demo\n",
              "\n",
              "[3786 rows x 17 columns]"
            ]
          },
          "metadata": {},
          "execution_count": 5
        }
      ]
    },
    {
      "cell_type": "markdown",
      "metadata": {
        "id": "OwCU1uQtpowJ"
      },
      "source": [
        "**let's start by extracting all we can from the date column.**\n"
      ]
    },
    {
      "cell_type": "code",
      "metadata": {
        "colab": {
          "base_uri": "https://localhost:8080/"
        },
        "id": "MFYaeYPVjnnF",
        "outputId": "3a8430cf-c260-4e74-c623-2a263e1b493e"
      },
      "source": [
        "# First I'll convert the type to datetime\n",
        "df['date'] = pd.to_datetime(df['date'], \n",
        " format = '%Y-%m-%d %H:%M:%S')\n",
        "df.date.head()"
      ],
      "execution_count": null,
      "outputs": [
        {
          "output_type": "execute_result",
          "data": {
            "text/plain": [
              "0   2021-10-11 12:02:24\n",
              "1   2021-10-08 18:04:23\n",
              "2   2021-10-08 11:03:51\n",
              "3   2021-10-07 18:10:25\n",
              "4   2021-10-07 18:00:00\n",
              "Name: date, dtype: datetime64[ns]"
            ]
          },
          "metadata": {},
          "execution_count": 6
        }
      ]
    },
    {
      "cell_type": "markdown",
      "metadata": {
        "id": "OrEzV06hp8be"
      },
      "source": [
        "**My rational here is that since these are phone calls we're working with,the time of the day and the month of the year might affect the underlying sentiments behind the call. For example some clients might be in a bad mood receiving a call during the first or last hour of their workday, or maybe our client is an auditing firm and their workload is much more subtantial between January and Mars. this is purely out of intuition however it also does help with our main task of dealing with the string data types**"
      ]
    },
    {
      "cell_type": "code",
      "metadata": {
        "colab": {
          "base_uri": "https://localhost:8080/",
          "height": 313
        },
        "id": "Fs6bP3aqlLrF",
        "outputId": "649d3f11-073a-4c43-c0ee-a40cecbb2563"
      },
      "source": [
        "# Then let's get the important data into respective columns\n",
        "df['month']= df['date'].dt.month\n",
        "df['hour']= df['date'].dt.hour\n",
        "df['dayOfWeek']= df['date'].dt.dayofweek\n",
        "df.head()"
      ],
      "execution_count": null,
      "outputs": [
        {
          "output_type": "execute_result",
          "data": {
            "text/html": [
              "<div>\n",
              "<style scoped>\n",
              "    .dataframe tbody tr th:only-of-type {\n",
              "        vertical-align: middle;\n",
              "    }\n",
              "\n",
              "    .dataframe tbody tr th {\n",
              "        vertical-align: top;\n",
              "    }\n",
              "\n",
              "    .dataframe thead th {\n",
              "        text-align: right;\n",
              "    }\n",
              "</style>\n",
              "<table border=\"1\" class=\"dataframe\">\n",
              "  <thead>\n",
              "    <tr style=\"text-align: right;\">\n",
              "      <th></th>\n",
              "      <th>id</th>\n",
              "      <th>duration</th>\n",
              "      <th>date</th>\n",
              "      <th>userId</th>\n",
              "      <th>modifiedById</th>\n",
              "      <th>phoneProvider</th>\n",
              "      <th>direction</th>\n",
              "      <th>mediaType</th>\n",
              "      <th>dealId</th>\n",
              "      <th>userTalkRatio</th>\n",
              "      <th>longestContactMonologue</th>\n",
              "      <th>patience</th>\n",
              "      <th>interactionSpeed</th>\n",
              "      <th>role</th>\n",
              "      <th>teams</th>\n",
              "      <th>contacts</th>\n",
              "      <th>tag</th>\n",
              "      <th>month</th>\n",
              "      <th>hour</th>\n",
              "      <th>dayOfWeek</th>\n",
              "    </tr>\n",
              "  </thead>\n",
              "  <tbody>\n",
              "    <tr>\n",
              "      <th>0</th>\n",
              "      <td>5288</td>\n",
              "      <td>657.34</td>\n",
              "      <td>2021-10-11 12:02:24</td>\n",
              "      <td>14</td>\n",
              "      <td>NaN</td>\n",
              "      <td>zoom</td>\n",
              "      <td>outbound</td>\n",
              "      <td>video</td>\n",
              "      <td>543.0</td>\n",
              "      <td>0.29</td>\n",
              "      <td>80.30</td>\n",
              "      <td>0.77</td>\n",
              "      <td>3.01</td>\n",
              "      <td>admin</td>\n",
              "      <td>{Sales}</td>\n",
              "      <td>1.0</td>\n",
              "      <td>Client Follow Up</td>\n",
              "      <td>10</td>\n",
              "      <td>12</td>\n",
              "      <td>0</td>\n",
              "    </tr>\n",
              "    <tr>\n",
              "      <th>1</th>\n",
              "      <td>5285</td>\n",
              "      <td>205.48</td>\n",
              "      <td>2021-10-08 18:04:23</td>\n",
              "      <td>63</td>\n",
              "      <td>NaN</td>\n",
              "      <td>aircall</td>\n",
              "      <td>outbound</td>\n",
              "      <td>audio</td>\n",
              "      <td>NaN</td>\n",
              "      <td>0.45</td>\n",
              "      <td>23.71</td>\n",
              "      <td>0.41</td>\n",
              "      <td>8.18</td>\n",
              "      <td>admin</td>\n",
              "      <td>{Sales}</td>\n",
              "      <td>1.0</td>\n",
              "      <td>Cold Call</td>\n",
              "      <td>10</td>\n",
              "      <td>18</td>\n",
              "      <td>4</td>\n",
              "    </tr>\n",
              "    <tr>\n",
              "      <th>2</th>\n",
              "      <td>5282</td>\n",
              "      <td>1607.10</td>\n",
              "      <td>2021-10-08 11:03:51</td>\n",
              "      <td>18</td>\n",
              "      <td>NaN</td>\n",
              "      <td>zoom</td>\n",
              "      <td>outbound</td>\n",
              "      <td>video</td>\n",
              "      <td>488.0</td>\n",
              "      <td>0.48</td>\n",
              "      <td>57.84</td>\n",
              "      <td>0.28</td>\n",
              "      <td>4.59</td>\n",
              "      <td>admin</td>\n",
              "      <td>{Account Manager}</td>\n",
              "      <td>1.0</td>\n",
              "      <td>Client Follow Up</td>\n",
              "      <td>10</td>\n",
              "      <td>11</td>\n",
              "      <td>4</td>\n",
              "    </tr>\n",
              "    <tr>\n",
              "      <th>3</th>\n",
              "      <td>5277</td>\n",
              "      <td>249.91</td>\n",
              "      <td>2021-10-07 18:10:25</td>\n",
              "      <td>23</td>\n",
              "      <td>NaN</td>\n",
              "      <td>aircall</td>\n",
              "      <td>outbound</td>\n",
              "      <td>audio</td>\n",
              "      <td>NaN</td>\n",
              "      <td>0.45</td>\n",
              "      <td>43.19</td>\n",
              "      <td>1.77</td>\n",
              "      <td>5.52</td>\n",
              "      <td>admin</td>\n",
              "      <td>{Sales}</td>\n",
              "      <td>1.0</td>\n",
              "      <td>Unscheduled Follow up</td>\n",
              "      <td>10</td>\n",
              "      <td>18</td>\n",
              "      <td>3</td>\n",
              "    </tr>\n",
              "    <tr>\n",
              "      <th>4</th>\n",
              "      <td>5279</td>\n",
              "      <td>1948.75</td>\n",
              "      <td>2021-10-07 18:00:00</td>\n",
              "      <td>8</td>\n",
              "      <td>NaN</td>\n",
              "      <td>google</td>\n",
              "      <td>outbound</td>\n",
              "      <td>video</td>\n",
              "      <td>NaN</td>\n",
              "      <td>0.32</td>\n",
              "      <td>267.82</td>\n",
              "      <td>0.47</td>\n",
              "      <td>2.03</td>\n",
              "      <td>admin</td>\n",
              "      <td>{Sales}</td>\n",
              "      <td>2.0</td>\n",
              "      <td>1st Call</td>\n",
              "      <td>10</td>\n",
              "      <td>18</td>\n",
              "      <td>3</td>\n",
              "    </tr>\n",
              "  </tbody>\n",
              "</table>\n",
              "</div>"
            ],
            "text/plain": [
              "     id  duration                date  ...  month  hour dayOfWeek\n",
              "0  5288    657.34 2021-10-11 12:02:24  ...     10    12         0\n",
              "1  5285    205.48 2021-10-08 18:04:23  ...     10    18         4\n",
              "2  5282   1607.10 2021-10-08 11:03:51  ...     10    11         4\n",
              "3  5277    249.91 2021-10-07 18:10:25  ...     10    18         3\n",
              "4  5279   1948.75 2021-10-07 18:00:00  ...     10    18         3\n",
              "\n",
              "[5 rows x 20 columns]"
            ]
          },
          "metadata": {},
          "execution_count": 7
        }
      ]
    },
    {
      "cell_type": "markdown",
      "metadata": {
        "id": "OQawqOJIv8D5"
      },
      "source": [
        "**One thing that's been on my mind since the first exploration are these Null values mainly in the 'modifiedById' and 'dealId' , let's see how bad is it and if we can/should do anything about it**"
      ]
    },
    {
      "cell_type": "code",
      "metadata": {
        "colab": {
          "base_uri": "https://localhost:8080/"
        },
        "id": "QnoZ_CdIxAkT",
        "outputId": "426f943d-c93f-44fe-c879-546dd1de48f7"
      },
      "source": [
        "df[['modifiedById','dealId']].isnull().sum()"
      ],
      "execution_count": null,
      "outputs": [
        {
          "output_type": "execute_result",
          "data": {
            "text/plain": [
              "modifiedById    3006\n",
              "dealId          2182\n",
              "dtype: int64"
            ]
          },
          "metadata": {},
          "execution_count": 8
        }
      ]
    },
    {
      "cell_type": "markdown",
      "metadata": {
        "id": "FyBmIhkjeg6u"
      },
      "source": [
        "**The huge number of nulls in these two columns made me slightly worried about the state of the other columns in the data so I wanted to take a look at them as well.**"
      ]
    },
    {
      "cell_type": "code",
      "metadata": {
        "id": "cPj034jGfMnG",
        "colab": {
          "base_uri": "https://localhost:8080/",
          "height": 175
        },
        "outputId": "6d152ddf-59d3-40da-9cda-b5fbafcdcfba"
      },
      "source": [
        "temp = df[df.columns].isnull().sum()\n",
        "temp = temp.to_frame('missing_values')\n",
        "temp['percentage_of_missing_values'] = (df[df.columns].isnull().sum()/df.shape[0])*100\n",
        "temp = temp.round(2)[temp.percentage_of_missing_values !=0]\n",
        "temp"
      ],
      "execution_count": null,
      "outputs": [
        {
          "output_type": "execute_result",
          "data": {
            "text/html": [
              "<div>\n",
              "<style scoped>\n",
              "    .dataframe tbody tr th:only-of-type {\n",
              "        vertical-align: middle;\n",
              "    }\n",
              "\n",
              "    .dataframe tbody tr th {\n",
              "        vertical-align: top;\n",
              "    }\n",
              "\n",
              "    .dataframe thead th {\n",
              "        text-align: right;\n",
              "    }\n",
              "</style>\n",
              "<table border=\"1\" class=\"dataframe\">\n",
              "  <thead>\n",
              "    <tr style=\"text-align: right;\">\n",
              "      <th></th>\n",
              "      <th>missing_values</th>\n",
              "      <th>percentage_of_missing_values</th>\n",
              "    </tr>\n",
              "  </thead>\n",
              "  <tbody>\n",
              "    <tr>\n",
              "      <th>modifiedById</th>\n",
              "      <td>3006</td>\n",
              "      <td>79.40</td>\n",
              "    </tr>\n",
              "    <tr>\n",
              "      <th>dealId</th>\n",
              "      <td>2182</td>\n",
              "      <td>57.63</td>\n",
              "    </tr>\n",
              "    <tr>\n",
              "      <th>teams</th>\n",
              "      <td>58</td>\n",
              "      <td>1.53</td>\n",
              "    </tr>\n",
              "    <tr>\n",
              "      <th>contacts</th>\n",
              "      <td>1</td>\n",
              "      <td>0.03</td>\n",
              "    </tr>\n",
              "  </tbody>\n",
              "</table>\n",
              "</div>"
            ],
            "text/plain": [
              "              missing_values  percentage_of_missing_values\n",
              "modifiedById            3006                         79.40\n",
              "dealId                  2182                         57.63\n",
              "teams                     58                          1.53\n",
              "contacts                   1                          0.03"
            ]
          },
          "metadata": {},
          "execution_count": 9
        }
      ]
    },
    {
      "cell_type": "markdown",
      "metadata": {
        "id": "MyuroNcfmlEN"
      },
      "source": [
        "****"
      ]
    },
    {
      "cell_type": "markdown",
      "metadata": {
        "id": "lRRgA2gbfbzQ"
      },
      "source": [
        "**Okey, now that I have a good idea on what needs to be done in every column in regards to the Null values, let's start with the easiest issues for teams and contacts then we'll move to more drastic measures for the modifiedById and DealId columns**"
      ]
    },
    {
      "cell_type": "code",
      "metadata": {
        "id": "0hoE84opedBt"
      },
      "source": [
        "def get_most_occurent_value(Pandascolumn):\n",
        "    value = df[Pandascolumn][df[Pandascolumn].notnull()].value_counts().index[0]\n",
        "    numberOfOccurence = df[Pandascolumn][df[Pandascolumn].notnull()].value_counts().max()\n",
        "    print(f\" The value '{value}' occured '{numberOfOccurence}' times.\")\n",
        "    return value"
      ],
      "execution_count": null,
      "outputs": []
    },
    {
      "cell_type": "markdown",
      "metadata": {
        "id": "psEehK0ri1y2"
      },
      "source": [
        "**The function above returns the most frequent value (their mode) in a certain column, using these two values I'll fix the null problems in the contacts and teams columns.**"
      ]
    },
    {
      "cell_type": "code",
      "metadata": {
        "colab": {
          "base_uri": "https://localhost:8080/"
        },
        "id": "BOQFwkChhtCh",
        "outputId": "dd0f294a-33ae-4015-9862-60d44af1d402"
      },
      "source": [
        "most_frequent_contact = get_most_occurent_value('contacts')\n",
        "most_frequent_team = get_most_occurent_value('teams')"
      ],
      "execution_count": null,
      "outputs": [
        {
          "output_type": "stream",
          "name": "stdout",
          "text": [
            " The value '1.0' occured '2761' times.\n",
            " The value '{Sales}' occured '3246' times.\n"
          ]
        }
      ]
    },
    {
      "cell_type": "code",
      "metadata": {
        "colab": {
          "base_uri": "https://localhost:8080/"
        },
        "id": "zEVruCQlkwGk",
        "outputId": "4aebfb9f-abab-4a88-f3a8-65488c3bb22c"
      },
      "source": [
        "print(most_frequent_team)"
      ],
      "execution_count": null,
      "outputs": [
        {
          "output_type": "stream",
          "name": "stdout",
          "text": [
            "{Sales}\n"
          ]
        }
      ]
    },
    {
      "cell_type": "code",
      "metadata": {
        "id": "QNcHiTdMe86K"
      },
      "source": [
        "# replacing na values in contacts and teams with their respective mode\n",
        "df[\"contacts\"].fillna(most_frequent_contact, inplace = True)\n",
        "df[\"teams\"].fillna(most_frequent_team, inplace = True)"
      ],
      "execution_count": null,
      "outputs": []
    },
    {
      "cell_type": "markdown",
      "metadata": {
        "id": "i4adR-5opawH"
      },
      "source": [
        "**In the missing rows table below we realize that DealId column is 58% missing values, and modifiedById is almost 80% missing values! this is more than enough for us to take the harsh decision of dropping the columns in this use case.**"
      ]
    },
    {
      "cell_type": "code",
      "metadata": {
        "colab": {
          "base_uri": "https://localhost:8080/",
          "height": 175
        },
        "id": "BPzj8ClDlBZt",
        "outputId": "1aea0d01-7455-4c33-aa15-8930a11ce09a"
      },
      "source": [
        "temp"
      ],
      "execution_count": null,
      "outputs": [
        {
          "output_type": "execute_result",
          "data": {
            "text/html": [
              "<div>\n",
              "<style scoped>\n",
              "    .dataframe tbody tr th:only-of-type {\n",
              "        vertical-align: middle;\n",
              "    }\n",
              "\n",
              "    .dataframe tbody tr th {\n",
              "        vertical-align: top;\n",
              "    }\n",
              "\n",
              "    .dataframe thead th {\n",
              "        text-align: right;\n",
              "    }\n",
              "</style>\n",
              "<table border=\"1\" class=\"dataframe\">\n",
              "  <thead>\n",
              "    <tr style=\"text-align: right;\">\n",
              "      <th></th>\n",
              "      <th>missing_values</th>\n",
              "      <th>percentage_of_missing_values</th>\n",
              "    </tr>\n",
              "  </thead>\n",
              "  <tbody>\n",
              "    <tr>\n",
              "      <th>modifiedById</th>\n",
              "      <td>3006</td>\n",
              "      <td>79.40</td>\n",
              "    </tr>\n",
              "    <tr>\n",
              "      <th>dealId</th>\n",
              "      <td>2182</td>\n",
              "      <td>57.63</td>\n",
              "    </tr>\n",
              "    <tr>\n",
              "      <th>teams</th>\n",
              "      <td>58</td>\n",
              "      <td>1.53</td>\n",
              "    </tr>\n",
              "    <tr>\n",
              "      <th>contacts</th>\n",
              "      <td>1</td>\n",
              "      <td>0.03</td>\n",
              "    </tr>\n",
              "  </tbody>\n",
              "</table>\n",
              "</div>"
            ],
            "text/plain": [
              "              missing_values  percentage_of_missing_values\n",
              "modifiedById            3006                         79.40\n",
              "dealId                  2182                         57.63\n",
              "teams                     58                          1.53\n",
              "contacts                   1                          0.03"
            ]
          },
          "metadata": {},
          "execution_count": 14
        }
      ]
    },
    {
      "cell_type": "markdown",
      "metadata": {
        "id": "l_HByuOyvUcE"
      },
      "source": [
        " **Dropping columns that won't affect the prediction**"
      ]
    },
    {
      "cell_type": "markdown",
      "metadata": {
        "id": "0MD-t1A7vlu4"
      },
      "source": [
        "**Let's move on now to choosing the other columns that are counterproductive for the prediction task, the 'id' column mainly is basically just noise**"
      ]
    },
    {
      "cell_type": "markdown",
      "metadata": {
        "id": "4pCZe7Piu-Vm"
      },
      "source": [
        "**The Date columne since we've already extracted the most valuable data out of it ( ie ,hour , month , day of the week ) we can drop that as well.**"
      ]
    },
    {
      "cell_type": "code",
      "metadata": {
        "colab": {
          "base_uri": "https://localhost:8080/",
          "height": 513
        },
        "id": "zDVCHziAqax1",
        "outputId": "9b985795-23aa-4db2-a207-579577c86868"
      },
      "source": [
        "#dropping the columns with a huge number of missings values\n",
        "df = df.drop(['id','date','modifiedById','dealId'],axis=1)\n",
        "df"
      ],
      "execution_count": null,
      "outputs": [
        {
          "output_type": "execute_result",
          "data": {
            "text/html": [
              "<div>\n",
              "<style scoped>\n",
              "    .dataframe tbody tr th:only-of-type {\n",
              "        vertical-align: middle;\n",
              "    }\n",
              "\n",
              "    .dataframe tbody tr th {\n",
              "        vertical-align: top;\n",
              "    }\n",
              "\n",
              "    .dataframe thead th {\n",
              "        text-align: right;\n",
              "    }\n",
              "</style>\n",
              "<table border=\"1\" class=\"dataframe\">\n",
              "  <thead>\n",
              "    <tr style=\"text-align: right;\">\n",
              "      <th></th>\n",
              "      <th>duration</th>\n",
              "      <th>userId</th>\n",
              "      <th>phoneProvider</th>\n",
              "      <th>direction</th>\n",
              "      <th>mediaType</th>\n",
              "      <th>userTalkRatio</th>\n",
              "      <th>longestContactMonologue</th>\n",
              "      <th>patience</th>\n",
              "      <th>interactionSpeed</th>\n",
              "      <th>role</th>\n",
              "      <th>teams</th>\n",
              "      <th>contacts</th>\n",
              "      <th>tag</th>\n",
              "      <th>month</th>\n",
              "      <th>hour</th>\n",
              "      <th>dayOfWeek</th>\n",
              "    </tr>\n",
              "  </thead>\n",
              "  <tbody>\n",
              "    <tr>\n",
              "      <th>0</th>\n",
              "      <td>657.34</td>\n",
              "      <td>14</td>\n",
              "      <td>zoom</td>\n",
              "      <td>outbound</td>\n",
              "      <td>video</td>\n",
              "      <td>0.29</td>\n",
              "      <td>80.30</td>\n",
              "      <td>0.77</td>\n",
              "      <td>3.01</td>\n",
              "      <td>admin</td>\n",
              "      <td>{Sales}</td>\n",
              "      <td>1.0</td>\n",
              "      <td>Client Follow Up</td>\n",
              "      <td>10</td>\n",
              "      <td>12</td>\n",
              "      <td>0</td>\n",
              "    </tr>\n",
              "    <tr>\n",
              "      <th>1</th>\n",
              "      <td>205.48</td>\n",
              "      <td>63</td>\n",
              "      <td>aircall</td>\n",
              "      <td>outbound</td>\n",
              "      <td>audio</td>\n",
              "      <td>0.45</td>\n",
              "      <td>23.71</td>\n",
              "      <td>0.41</td>\n",
              "      <td>8.18</td>\n",
              "      <td>admin</td>\n",
              "      <td>{Sales}</td>\n",
              "      <td>1.0</td>\n",
              "      <td>Cold Call</td>\n",
              "      <td>10</td>\n",
              "      <td>18</td>\n",
              "      <td>4</td>\n",
              "    </tr>\n",
              "    <tr>\n",
              "      <th>2</th>\n",
              "      <td>1607.10</td>\n",
              "      <td>18</td>\n",
              "      <td>zoom</td>\n",
              "      <td>outbound</td>\n",
              "      <td>video</td>\n",
              "      <td>0.48</td>\n",
              "      <td>57.84</td>\n",
              "      <td>0.28</td>\n",
              "      <td>4.59</td>\n",
              "      <td>admin</td>\n",
              "      <td>{Account Manager}</td>\n",
              "      <td>1.0</td>\n",
              "      <td>Client Follow Up</td>\n",
              "      <td>10</td>\n",
              "      <td>11</td>\n",
              "      <td>4</td>\n",
              "    </tr>\n",
              "    <tr>\n",
              "      <th>3</th>\n",
              "      <td>249.91</td>\n",
              "      <td>23</td>\n",
              "      <td>aircall</td>\n",
              "      <td>outbound</td>\n",
              "      <td>audio</td>\n",
              "      <td>0.45</td>\n",
              "      <td>43.19</td>\n",
              "      <td>1.77</td>\n",
              "      <td>5.52</td>\n",
              "      <td>admin</td>\n",
              "      <td>{Sales}</td>\n",
              "      <td>1.0</td>\n",
              "      <td>Unscheduled Follow up</td>\n",
              "      <td>10</td>\n",
              "      <td>18</td>\n",
              "      <td>3</td>\n",
              "    </tr>\n",
              "    <tr>\n",
              "      <th>4</th>\n",
              "      <td>1948.75</td>\n",
              "      <td>8</td>\n",
              "      <td>google</td>\n",
              "      <td>outbound</td>\n",
              "      <td>video</td>\n",
              "      <td>0.32</td>\n",
              "      <td>267.82</td>\n",
              "      <td>0.47</td>\n",
              "      <td>2.03</td>\n",
              "      <td>admin</td>\n",
              "      <td>{Sales}</td>\n",
              "      <td>2.0</td>\n",
              "      <td>1st Call</td>\n",
              "      <td>10</td>\n",
              "      <td>18</td>\n",
              "      <td>3</td>\n",
              "    </tr>\n",
              "    <tr>\n",
              "      <th>...</th>\n",
              "      <td>...</td>\n",
              "      <td>...</td>\n",
              "      <td>...</td>\n",
              "      <td>...</td>\n",
              "      <td>...</td>\n",
              "      <td>...</td>\n",
              "      <td>...</td>\n",
              "      <td>...</td>\n",
              "      <td>...</td>\n",
              "      <td>...</td>\n",
              "      <td>...</td>\n",
              "      <td>...</td>\n",
              "      <td>...</td>\n",
              "      <td>...</td>\n",
              "      <td>...</td>\n",
              "      <td>...</td>\n",
              "    </tr>\n",
              "    <tr>\n",
              "      <th>3781</th>\n",
              "      <td>4448.00</td>\n",
              "      <td>1</td>\n",
              "      <td>zoom</td>\n",
              "      <td>outbound</td>\n",
              "      <td>audio</td>\n",
              "      <td>0.26</td>\n",
              "      <td>198.98</td>\n",
              "      <td>1.65</td>\n",
              "      <td>2.01</td>\n",
              "      <td>admin</td>\n",
              "      <td>{Sales}</td>\n",
              "      <td>1.0</td>\n",
              "      <td>Demo</td>\n",
              "      <td>5</td>\n",
              "      <td>12</td>\n",
              "      <td>0</td>\n",
              "    </tr>\n",
              "    <tr>\n",
              "      <th>3782</th>\n",
              "      <td>3756.00</td>\n",
              "      <td>3</td>\n",
              "      <td>zoom</td>\n",
              "      <td>outbound</td>\n",
              "      <td>audio</td>\n",
              "      <td>0.45</td>\n",
              "      <td>257.12</td>\n",
              "      <td>0.83</td>\n",
              "      <td>1.71</td>\n",
              "      <td>admin</td>\n",
              "      <td>{Account Manager,Product}</td>\n",
              "      <td>3.0</td>\n",
              "      <td>Other</td>\n",
              "      <td>5</td>\n",
              "      <td>14</td>\n",
              "      <td>3</td>\n",
              "    </tr>\n",
              "    <tr>\n",
              "      <th>3783</th>\n",
              "      <td>2139.00</td>\n",
              "      <td>1</td>\n",
              "      <td>zoom</td>\n",
              "      <td>outbound</td>\n",
              "      <td>audio</td>\n",
              "      <td>0.30</td>\n",
              "      <td>153.16</td>\n",
              "      <td>1.30</td>\n",
              "      <td>2.44</td>\n",
              "      <td>admin</td>\n",
              "      <td>{Sales}</td>\n",
              "      <td>1.0</td>\n",
              "      <td>1st Call</td>\n",
              "      <td>5</td>\n",
              "      <td>10</td>\n",
              "      <td>3</td>\n",
              "    </tr>\n",
              "    <tr>\n",
              "      <th>3784</th>\n",
              "      <td>2151.00</td>\n",
              "      <td>1</td>\n",
              "      <td>zoom</td>\n",
              "      <td>outbound</td>\n",
              "      <td>audio</td>\n",
              "      <td>0.42</td>\n",
              "      <td>120.53</td>\n",
              "      <td>0.73</td>\n",
              "      <td>2.57</td>\n",
              "      <td>admin</td>\n",
              "      <td>{Sales}</td>\n",
              "      <td>2.0</td>\n",
              "      <td>1st Call</td>\n",
              "      <td>5</td>\n",
              "      <td>15</td>\n",
              "      <td>1</td>\n",
              "    </tr>\n",
              "    <tr>\n",
              "      <th>3785</th>\n",
              "      <td>1772.00</td>\n",
              "      <td>1</td>\n",
              "      <td>zoom</td>\n",
              "      <td>outbound</td>\n",
              "      <td>audio</td>\n",
              "      <td>0.54</td>\n",
              "      <td>72.70</td>\n",
              "      <td>0.00</td>\n",
              "      <td>0.14</td>\n",
              "      <td>admin</td>\n",
              "      <td>{Sales}</td>\n",
              "      <td>1.0</td>\n",
              "      <td>Demo</td>\n",
              "      <td>5</td>\n",
              "      <td>16</td>\n",
              "      <td>0</td>\n",
              "    </tr>\n",
              "  </tbody>\n",
              "</table>\n",
              "<p>3786 rows × 16 columns</p>\n",
              "</div>"
            ],
            "text/plain": [
              "      duration  userId phoneProvider  ... month hour  dayOfWeek\n",
              "0       657.34      14          zoom  ...    10   12          0\n",
              "1       205.48      63       aircall  ...    10   18          4\n",
              "2      1607.10      18          zoom  ...    10   11          4\n",
              "3       249.91      23       aircall  ...    10   18          3\n",
              "4      1948.75       8        google  ...    10   18          3\n",
              "...        ...     ...           ...  ...   ...  ...        ...\n",
              "3781   4448.00       1          zoom  ...     5   12          0\n",
              "3782   3756.00       3          zoom  ...     5   14          3\n",
              "3783   2139.00       1          zoom  ...     5   10          3\n",
              "3784   2151.00       1          zoom  ...     5   15          1\n",
              "3785   1772.00       1          zoom  ...     5   16          0\n",
              "\n",
              "[3786 rows x 16 columns]"
            ]
          },
          "metadata": {},
          "execution_count": 15
        }
      ]
    },
    {
      "cell_type": "code",
      "metadata": {
        "colab": {
          "base_uri": "https://localhost:8080/"
        },
        "id": "PY31xFyOqjL5",
        "outputId": "27628006-9a44-4d6c-ee17-1c74e1f9007d"
      },
      "source": [
        "df.isnull().sum()"
      ],
      "execution_count": null,
      "outputs": [
        {
          "output_type": "execute_result",
          "data": {
            "text/plain": [
              "duration                   0\n",
              "userId                     0\n",
              "phoneProvider              0\n",
              "direction                  0\n",
              "mediaType                  0\n",
              "userTalkRatio              0\n",
              "longestContactMonologue    0\n",
              "patience                   0\n",
              "interactionSpeed           0\n",
              "role                       0\n",
              "teams                      0\n",
              "contacts                   0\n",
              "tag                        0\n",
              "month                      0\n",
              "hour                       0\n",
              "dayOfWeek                  0\n",
              "dtype: int64"
            ]
          },
          "metadata": {},
          "execution_count": 16
        }
      ]
    },
    {
      "cell_type": "markdown",
      "metadata": {
        "id": "_uShxtsDrQiB"
      },
      "source": [
        "**Now that our data is cleaned, we need to prepare it for our machine learning pipeline, mainly with encoding our categorical data in columns  \tphoneProvider \tdirection \tmediaType  role  teams  tag**"
      ]
    },
    {
      "cell_type": "code",
      "metadata": {
        "id": "tvlnF1Ueqm_f"
      },
      "source": [
        ""
      ],
      "execution_count": null,
      "outputs": []
    }
  ]
}